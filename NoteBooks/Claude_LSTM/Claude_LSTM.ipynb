{
 "cells": [
  {
   "cell_type": "code",
   "execution_count": 1,
   "id": "11e3d712",
   "metadata": {},
   "outputs": [
    {
     "name": "stdout",
     "output_type": "stream",
     "text": [
      "Dispositivo disponible: cpu\n"
     ]
    }
   ],
   "source": [
    "# Importar librerías necesarias\n",
    "import pandas as pd\n",
    "import numpy as np\n",
    "import torch\n",
    "import torch.nn as nn\n",
    "import torch.optim as optim\n",
    "from torch.utils.data import Dataset, DataLoader\n",
    "from sklearn.preprocessing import StandardScaler, OneHotEncoder\n",
    "from sklearn.compose import ColumnTransformer\n",
    "import matplotlib.pyplot as plt\n",
    "import seaborn as sns\n",
    "import plotly.graph_objects as go\n",
    "import plotly.express as px\n",
    "from plotly.subplots import make_subplots\n",
    "import optuna\n",
    "from optuna.trial import TrialState\n",
    "from optuna.integration import PyTorchLightningPruningCallback\n",
    "import warnings\n",
    "from datetime import datetime, timedelta\n",
    "from statsmodels.graphics.tsaplots import plot_acf, plot_pacf\n",
    "from typing import Dict, List, Tuple, Optional\n",
    "import pickle\n",
    "\n",
    "warnings.filterwarnings('ignore')\n",
    "\n",
    "# Configurar dispositivo\n",
    "device = torch.device('cuda' if torch.cuda.is_available() else 'cpu')\n",
    "print(f\"Dispositivo disponible: {device}\")\n",
    "\n",
    "# Configurar semilla para reproducibilidad\n",
    "torch.manual_seed(42)\n",
    "np.random.seed(42)"
   ]
  },
  {
   "cell_type": "code",
   "execution_count": 2,
   "id": "aeddbf42",
   "metadata": {},
   "outputs": [
    {
     "name": "stdout",
     "output_type": "stream",
     "text": [
      "Cargando datos...\n",
      "Forma df_train: (3680, 20)\n",
      "Forma df_test: (520, 19)\n",
      "\n",
      "Columnas: ['id', 'id_bar', 'anio', 'semana', 'ESTRATO', 'area_barrio', 'dengue', 'concentraciones', 'vivienda', 'equipesado', 'sumideros', 'maquina', 'lluvia_mean', 'lluvia_var', 'lluvia_max', 'lluvia_min', 'temperatura_mean', 'temperatura_var', 'temperatura_max', 'temperatura_min']\n",
      "\n",
      "=== INFORMACIÓN BÁSICA ===\n",
      "Número de barrios únicos: 10\n",
      "Rango de fechas train: 2015-01-05 00:00:00 a 2022-01-03 00:00:00\n",
      "Rango de fechas test: 2022-01-03 00:00:00 a 2022-12-26 00:00:00\n",
      "Valores únicos de ESTRATO: [np.float64(1.0), np.float64(2.0), np.float64(3.0)]\n",
      "\n",
      "Valores nulos en train: 0\n",
      "Valores nulos en test: 0\n"
     ]
    }
   ],
   "source": [
    "# Cargar datos\n",
    "print(\"Cargando datos...\")\n",
    "df_train = pd.read_parquet('../../Datos/df_train.parquet')\n",
    "df_test = pd.read_parquet('../../Datos/df_test.parquet')\n",
    "\n",
    "print(f\"Forma df_train: {df_train.shape}\")\n",
    "print(f\"Forma df_test: {df_test.shape}\")\n",
    "print(f\"\\nColumnas: {df_train.columns.tolist()}\")\n",
    "\n",
    "# Crear índice temporal combinando año y semana\n",
    "def create_datetime_index(df):\n",
    "    \"\"\"Crea un índice datetime a partir de año y semana\"\"\"\n",
    "    df = df.copy()\n",
    "    # Convertir año y semana a datetime\n",
    "    df['fecha'] = pd.to_datetime(df['anio'].astype(str) + '-W' + \n",
    "                                 df['semana'].astype(str).str.zfill(2) + '-1', \n",
    "                                 format='%Y-W%W-%w')\n",
    "    return df\n",
    "\n",
    "df_train = create_datetime_index(df_train)\n",
    "df_test = create_datetime_index(df_test)\n",
    "\n",
    "# Información básica\n",
    "print(\"\\n=== INFORMACIÓN BÁSICA ===\")\n",
    "print(f\"Número de barrios únicos: {df_train['id_bar'].nunique()}\")\n",
    "print(f\"Rango de fechas train: {df_train['fecha'].min()} a {df_train['fecha'].max()}\")\n",
    "print(f\"Rango de fechas test: {df_test['fecha'].min()} a {df_test['fecha'].max()}\")\n",
    "print(f\"Valores únicos de ESTRATO: {sorted(df_train['ESTRATO'].unique())}\")\n",
    "\n",
    "# Verificar valores nulos\n",
    "print(f\"\\nValores nulos en train: {df_train.isnull().sum().sum()}\")\n",
    "print(f\"Valores nulos en test: {df_test.isnull().sum().sum()}\")"
   ]
  },
  {
   "cell_type": "code",
   "execution_count": 3,
   "id": "cb1f1f34",
   "metadata": {},
   "outputs": [
    {
     "data": {
      "application/vnd.plotly.v1+json": {
       "config": {
        "plotlyServerURL": "https://plot.ly"
       },
       "data": [
        {
         "line": {
          "color": "red",
          "width": 2
         },
         "mode": "lines",
         "name": "Casos totales de dengue",
         "type": "scatter",
         "x": [
          "2015-01-05T00:00:00.000000000",
          "2015-01-12T00:00:00.000000000",
          "2015-01-19T00:00:00.000000000",
          "2015-01-26T00:00:00.000000000",
          "2015-02-02T00:00:00.000000000",
          "2015-02-09T00:00:00.000000000",
          "2015-02-16T00:00:00.000000000",
          "2015-02-23T00:00:00.000000000",
          "2015-03-02T00:00:00.000000000",
          "2015-03-09T00:00:00.000000000",
          "2015-03-16T00:00:00.000000000",
          "2015-03-23T00:00:00.000000000",
          "2015-03-30T00:00:00.000000000",
          "2015-04-06T00:00:00.000000000",
          "2015-04-13T00:00:00.000000000",
          "2015-04-20T00:00:00.000000000",
          "2015-04-27T00:00:00.000000000",
          "2015-05-04T00:00:00.000000000",
          "2015-05-11T00:00:00.000000000",
          "2015-05-18T00:00:00.000000000",
          "2015-05-25T00:00:00.000000000",
          "2015-06-01T00:00:00.000000000",
          "2015-06-08T00:00:00.000000000",
          "2015-06-15T00:00:00.000000000",
          "2015-06-22T00:00:00.000000000",
          "2015-06-29T00:00:00.000000000",
          "2015-07-06T00:00:00.000000000",
          "2015-07-13T00:00:00.000000000",
          "2015-07-20T00:00:00.000000000",
          "2015-07-27T00:00:00.000000000",
          "2015-08-03T00:00:00.000000000",
          "2015-08-10T00:00:00.000000000",
          "2015-08-17T00:00:00.000000000",
          "2015-08-24T00:00:00.000000000",
          "2015-08-31T00:00:00.000000000",
          "2015-09-07T00:00:00.000000000",
          "2015-09-14T00:00:00.000000000",
          "2015-09-21T00:00:00.000000000",
          "2015-09-28T00:00:00.000000000",
          "2015-10-05T00:00:00.000000000",
          "2015-10-12T00:00:00.000000000",
          "2015-10-19T00:00:00.000000000",
          "2015-10-26T00:00:00.000000000",
          "2015-11-02T00:00:00.000000000",
          "2015-11-09T00:00:00.000000000",
          "2015-11-16T00:00:00.000000000",
          "2015-11-23T00:00:00.000000000",
          "2015-11-30T00:00:00.000000000",
          "2015-12-07T00:00:00.000000000",
          "2015-12-14T00:00:00.000000000",
          "2015-12-21T00:00:00.000000000",
          "2015-12-28T00:00:00.000000000",
          "2016-01-04T00:00:00.000000000",
          "2016-01-11T00:00:00.000000000",
          "2016-01-18T00:00:00.000000000",
          "2016-01-25T00:00:00.000000000",
          "2016-02-01T00:00:00.000000000",
          "2016-02-08T00:00:00.000000000",
          "2016-02-15T00:00:00.000000000",
          "2016-02-22T00:00:00.000000000",
          "2016-02-29T00:00:00.000000000",
          "2016-03-07T00:00:00.000000000",
          "2016-03-14T00:00:00.000000000",
          "2016-03-21T00:00:00.000000000",
          "2016-03-28T00:00:00.000000000",
          "2016-04-04T00:00:00.000000000",
          "2016-04-11T00:00:00.000000000",
          "2016-04-18T00:00:00.000000000",
          "2016-04-25T00:00:00.000000000",
          "2016-05-02T00:00:00.000000000",
          "2016-05-09T00:00:00.000000000",
          "2016-05-16T00:00:00.000000000",
          "2016-05-23T00:00:00.000000000",
          "2016-05-30T00:00:00.000000000",
          "2016-06-06T00:00:00.000000000",
          "2016-06-13T00:00:00.000000000",
          "2016-06-20T00:00:00.000000000",
          "2016-06-27T00:00:00.000000000",
          "2016-07-04T00:00:00.000000000",
          "2016-07-11T00:00:00.000000000",
          "2016-07-18T00:00:00.000000000",
          "2016-07-25T00:00:00.000000000",
          "2016-08-01T00:00:00.000000000",
          "2016-08-08T00:00:00.000000000",
          "2016-08-15T00:00:00.000000000",
          "2016-08-22T00:00:00.000000000",
          "2016-08-29T00:00:00.000000000",
          "2016-09-05T00:00:00.000000000",
          "2016-09-12T00:00:00.000000000",
          "2016-09-19T00:00:00.000000000",
          "2016-09-26T00:00:00.000000000",
          "2016-10-03T00:00:00.000000000",
          "2016-10-10T00:00:00.000000000",
          "2016-10-17T00:00:00.000000000",
          "2016-10-24T00:00:00.000000000",
          "2016-10-31T00:00:00.000000000",
          "2016-11-07T00:00:00.000000000",
          "2016-11-14T00:00:00.000000000",
          "2016-11-21T00:00:00.000000000",
          "2016-11-28T00:00:00.000000000",
          "2016-12-05T00:00:00.000000000",
          "2016-12-12T00:00:00.000000000",
          "2016-12-19T00:00:00.000000000",
          "2016-12-26T00:00:00.000000000",
          "2017-01-02T00:00:00.000000000",
          "2017-01-09T00:00:00.000000000",
          "2017-01-16T00:00:00.000000000",
          "2017-01-23T00:00:00.000000000",
          "2017-01-30T00:00:00.000000000",
          "2017-02-06T00:00:00.000000000",
          "2017-02-13T00:00:00.000000000",
          "2017-02-20T00:00:00.000000000",
          "2017-02-27T00:00:00.000000000",
          "2017-03-06T00:00:00.000000000",
          "2017-03-13T00:00:00.000000000",
          "2017-03-20T00:00:00.000000000",
          "2017-03-27T00:00:00.000000000",
          "2017-04-03T00:00:00.000000000",
          "2017-04-10T00:00:00.000000000",
          "2017-04-17T00:00:00.000000000",
          "2017-04-24T00:00:00.000000000",
          "2017-05-01T00:00:00.000000000",
          "2017-05-08T00:00:00.000000000",
          "2017-05-15T00:00:00.000000000",
          "2017-05-22T00:00:00.000000000",
          "2017-05-29T00:00:00.000000000",
          "2017-06-05T00:00:00.000000000",
          "2017-06-12T00:00:00.000000000",
          "2017-06-19T00:00:00.000000000",
          "2017-06-26T00:00:00.000000000",
          "2017-07-03T00:00:00.000000000",
          "2017-07-10T00:00:00.000000000",
          "2017-07-17T00:00:00.000000000",
          "2017-07-24T00:00:00.000000000",
          "2017-07-31T00:00:00.000000000",
          "2017-08-07T00:00:00.000000000",
          "2017-08-14T00:00:00.000000000",
          "2017-08-21T00:00:00.000000000",
          "2017-08-28T00:00:00.000000000",
          "2017-09-04T00:00:00.000000000",
          "2017-09-11T00:00:00.000000000",
          "2017-09-18T00:00:00.000000000",
          "2017-09-25T00:00:00.000000000",
          "2017-10-02T00:00:00.000000000",
          "2017-10-09T00:00:00.000000000",
          "2017-10-16T00:00:00.000000000",
          "2017-10-23T00:00:00.000000000",
          "2017-10-30T00:00:00.000000000",
          "2017-11-06T00:00:00.000000000",
          "2017-11-13T00:00:00.000000000",
          "2017-11-20T00:00:00.000000000",
          "2017-11-27T00:00:00.000000000",
          "2017-12-04T00:00:00.000000000",
          "2017-12-11T00:00:00.000000000",
          "2017-12-18T00:00:00.000000000",
          "2017-12-25T00:00:00.000000000",
          "2018-01-01T00:00:00.000000000",
          "2018-01-08T00:00:00.000000000",
          "2018-01-15T00:00:00.000000000",
          "2018-01-22T00:00:00.000000000",
          "2018-01-29T00:00:00.000000000",
          "2018-02-05T00:00:00.000000000",
          "2018-02-12T00:00:00.000000000",
          "2018-02-19T00:00:00.000000000",
          "2018-02-26T00:00:00.000000000",
          "2018-03-05T00:00:00.000000000",
          "2018-03-12T00:00:00.000000000",
          "2018-03-19T00:00:00.000000000",
          "2018-03-26T00:00:00.000000000",
          "2018-04-02T00:00:00.000000000",
          "2018-04-09T00:00:00.000000000",
          "2018-04-16T00:00:00.000000000",
          "2018-04-23T00:00:00.000000000",
          "2018-04-30T00:00:00.000000000",
          "2018-05-07T00:00:00.000000000",
          "2018-05-14T00:00:00.000000000",
          "2018-05-21T00:00:00.000000000",
          "2018-05-28T00:00:00.000000000",
          "2018-06-04T00:00:00.000000000",
          "2018-06-11T00:00:00.000000000",
          "2018-06-18T00:00:00.000000000",
          "2018-06-25T00:00:00.000000000",
          "2018-07-02T00:00:00.000000000",
          "2018-07-09T00:00:00.000000000",
          "2018-07-16T00:00:00.000000000",
          "2018-07-23T00:00:00.000000000",
          "2018-07-30T00:00:00.000000000",
          "2018-08-06T00:00:00.000000000",
          "2018-08-13T00:00:00.000000000",
          "2018-08-20T00:00:00.000000000",
          "2018-08-27T00:00:00.000000000",
          "2018-09-03T00:00:00.000000000",
          "2018-09-10T00:00:00.000000000",
          "2018-09-17T00:00:00.000000000",
          "2018-09-24T00:00:00.000000000",
          "2018-10-01T00:00:00.000000000",
          "2018-10-08T00:00:00.000000000",
          "2018-10-15T00:00:00.000000000",
          "2018-10-22T00:00:00.000000000",
          "2018-10-29T00:00:00.000000000",
          "2018-11-05T00:00:00.000000000",
          "2018-11-12T00:00:00.000000000",
          "2018-11-19T00:00:00.000000000",
          "2018-11-26T00:00:00.000000000",
          "2018-12-03T00:00:00.000000000",
          "2018-12-10T00:00:00.000000000",
          "2018-12-17T00:00:00.000000000",
          "2018-12-24T00:00:00.000000000",
          "2019-01-07T00:00:00.000000000",
          "2019-01-14T00:00:00.000000000",
          "2019-01-21T00:00:00.000000000",
          "2019-01-28T00:00:00.000000000",
          "2019-02-04T00:00:00.000000000",
          "2019-02-11T00:00:00.000000000",
          "2019-02-18T00:00:00.000000000",
          "2019-02-25T00:00:00.000000000",
          "2019-03-04T00:00:00.000000000",
          "2019-03-11T00:00:00.000000000",
          "2019-03-18T00:00:00.000000000",
          "2019-03-25T00:00:00.000000000",
          "2019-04-01T00:00:00.000000000",
          "2019-04-08T00:00:00.000000000",
          "2019-04-15T00:00:00.000000000",
          "2019-04-22T00:00:00.000000000",
          "2019-04-29T00:00:00.000000000",
          "2019-05-06T00:00:00.000000000",
          "2019-05-13T00:00:00.000000000",
          "2019-05-20T00:00:00.000000000",
          "2019-05-27T00:00:00.000000000",
          "2019-06-03T00:00:00.000000000",
          "2019-06-10T00:00:00.000000000",
          "2019-06-17T00:00:00.000000000",
          "2019-06-24T00:00:00.000000000",
          "2019-07-01T00:00:00.000000000",
          "2019-07-08T00:00:00.000000000",
          "2019-07-15T00:00:00.000000000",
          "2019-07-22T00:00:00.000000000",
          "2019-07-29T00:00:00.000000000",
          "2019-08-05T00:00:00.000000000",
          "2019-08-12T00:00:00.000000000",
          "2019-08-19T00:00:00.000000000",
          "2019-08-26T00:00:00.000000000",
          "2019-09-02T00:00:00.000000000",
          "2019-09-09T00:00:00.000000000",
          "2019-09-16T00:00:00.000000000",
          "2019-09-23T00:00:00.000000000",
          "2019-09-30T00:00:00.000000000",
          "2019-10-07T00:00:00.000000000",
          "2019-10-14T00:00:00.000000000",
          "2019-10-21T00:00:00.000000000",
          "2019-10-28T00:00:00.000000000",
          "2019-11-04T00:00:00.000000000",
          "2019-11-11T00:00:00.000000000",
          "2019-11-18T00:00:00.000000000",
          "2019-11-25T00:00:00.000000000",
          "2019-12-02T00:00:00.000000000",
          "2019-12-09T00:00:00.000000000",
          "2019-12-16T00:00:00.000000000",
          "2019-12-23T00:00:00.000000000",
          "2019-12-30T00:00:00.000000000",
          "2020-01-06T00:00:00.000000000",
          "2020-01-13T00:00:00.000000000",
          "2020-01-20T00:00:00.000000000",
          "2020-01-27T00:00:00.000000000",
          "2020-02-03T00:00:00.000000000",
          "2020-02-10T00:00:00.000000000",
          "2020-02-17T00:00:00.000000000",
          "2020-02-24T00:00:00.000000000",
          "2020-03-02T00:00:00.000000000",
          "2020-03-09T00:00:00.000000000",
          "2020-03-16T00:00:00.000000000",
          "2020-03-23T00:00:00.000000000",
          "2020-03-30T00:00:00.000000000",
          "2020-04-06T00:00:00.000000000",
          "2020-04-13T00:00:00.000000000",
          "2020-04-20T00:00:00.000000000",
          "2020-04-27T00:00:00.000000000",
          "2020-05-04T00:00:00.000000000",
          "2020-05-11T00:00:00.000000000",
          "2020-05-18T00:00:00.000000000",
          "2020-05-25T00:00:00.000000000",
          "2020-06-01T00:00:00.000000000",
          "2020-06-08T00:00:00.000000000",
          "2020-06-15T00:00:00.000000000",
          "2020-06-22T00:00:00.000000000",
          "2020-06-29T00:00:00.000000000",
          "2020-07-06T00:00:00.000000000",
          "2020-07-13T00:00:00.000000000",
          "2020-07-20T00:00:00.000000000",
          "2020-07-27T00:00:00.000000000",
          "2020-08-03T00:00:00.000000000",
          "2020-08-10T00:00:00.000000000",
          "2020-08-17T00:00:00.000000000",
          "2020-08-24T00:00:00.000000000",
          "2020-08-31T00:00:00.000000000",
          "2020-09-07T00:00:00.000000000",
          "2020-09-14T00:00:00.000000000",
          "2020-09-21T00:00:00.000000000",
          "2020-09-28T00:00:00.000000000",
          "2020-10-05T00:00:00.000000000",
          "2020-10-12T00:00:00.000000000",
          "2020-10-19T00:00:00.000000000",
          "2020-10-26T00:00:00.000000000",
          "2020-11-02T00:00:00.000000000",
          "2020-11-09T00:00:00.000000000",
          "2020-11-16T00:00:00.000000000",
          "2020-11-23T00:00:00.000000000",
          "2020-11-30T00:00:00.000000000",
          "2020-12-07T00:00:00.000000000",
          "2020-12-14T00:00:00.000000000",
          "2020-12-21T00:00:00.000000000",
          "2020-12-28T00:00:00.000000000",
          "2021-01-04T00:00:00.000000000",
          "2021-01-11T00:00:00.000000000",
          "2021-01-18T00:00:00.000000000",
          "2021-01-25T00:00:00.000000000",
          "2021-02-01T00:00:00.000000000",
          "2021-02-08T00:00:00.000000000",
          "2021-02-15T00:00:00.000000000",
          "2021-02-22T00:00:00.000000000",
          "2021-03-01T00:00:00.000000000",
          "2021-03-08T00:00:00.000000000",
          "2021-03-15T00:00:00.000000000",
          "2021-03-22T00:00:00.000000000",
          "2021-03-29T00:00:00.000000000",
          "2021-04-05T00:00:00.000000000",
          "2021-04-12T00:00:00.000000000",
          "2021-04-19T00:00:00.000000000",
          "2021-04-26T00:00:00.000000000",
          "2021-05-03T00:00:00.000000000",
          "2021-05-10T00:00:00.000000000",
          "2021-05-17T00:00:00.000000000",
          "2021-05-24T00:00:00.000000000",
          "2021-05-31T00:00:00.000000000",
          "2021-06-07T00:00:00.000000000",
          "2021-06-14T00:00:00.000000000",
          "2021-06-21T00:00:00.000000000",
          "2021-06-28T00:00:00.000000000",
          "2021-07-05T00:00:00.000000000",
          "2021-07-12T00:00:00.000000000",
          "2021-07-19T00:00:00.000000000",
          "2021-07-26T00:00:00.000000000",
          "2021-08-02T00:00:00.000000000",
          "2021-08-09T00:00:00.000000000",
          "2021-08-16T00:00:00.000000000",
          "2021-08-23T00:00:00.000000000",
          "2021-08-30T00:00:00.000000000",
          "2021-09-06T00:00:00.000000000",
          "2021-09-13T00:00:00.000000000",
          "2021-09-20T00:00:00.000000000",
          "2021-09-27T00:00:00.000000000",
          "2021-10-04T00:00:00.000000000",
          "2021-10-11T00:00:00.000000000",
          "2021-10-18T00:00:00.000000000",
          "2021-10-25T00:00:00.000000000",
          "2021-11-01T00:00:00.000000000",
          "2021-11-08T00:00:00.000000000",
          "2021-11-15T00:00:00.000000000",
          "2021-11-22T00:00:00.000000000",
          "2021-11-29T00:00:00.000000000",
          "2021-12-06T00:00:00.000000000",
          "2021-12-13T00:00:00.000000000",
          "2021-12-20T00:00:00.000000000",
          "2021-12-27T00:00:00.000000000",
          "2022-01-03T00:00:00.000000000"
         ],
         "y": {
          "bdata": "AAAAAAAAAAAAAAAAAAAqQAAAAAAAADxAAAAAAAAASEAAAAAAAIBKQAAAAAAAgFBAAAAAAADAU0AAAAAAAMBRQAAAAAAAgFRAAAAAAABAUEAAAAAAAIBTQAAAAAAAgFBAAAAAAABAUUAAAAAAAEBSQAAAAAAAAGBAAAAAAAAAVUAAAAAAAABDQAAAAAAAgFlAAAAAAACAWEAAAAAAAABYQAAAAAAAgFJAAAAAAACATkAAAAAAAABQQAAAAAAAAElAAAAAAAAAQUAAAAAAAIBLQAAAAAAAAEpAAAAAAACARkAAAAAAAIBCQAAAAAAAAD9AAAAAAAAAQ0AAAAAAAAA+QAAAAAAAAD9AAAAAAAAAOEAAAAAAAAAzQAAAAAAAADBAAAAAAAAANUAAAAAAAIBAQAAAAAAAADtAAAAAAAAAOUAAAAAAAAA7QAAAAAAAADdAAAAAAACAQ0AAAAAAAAA1QAAAAAAAADtAAAAAAAAAREAAAAAAAAA3QAAAAAAAADtAAAAAAACAQkAAAAAAAABCQAAAAAAAAEhAAAAAAAAAQ0AAAAAAAIBUQAAAAAAAAE5AAAAAAAAAVkAAAAAAAEBUQAAAAAAAQFpAAAAAAAAAYEAAAAAAAABgQAAAAAAAwF5AAAAAAADAW0AAAAAAAEBYQAAAAAAAgFNAAAAAAAAATUAAAAAAAMBTQAAAAAAAwFNAAAAAAAAATUAAAAAAAMBRQAAAAAAAwFNAAAAAAAAAWUAAAAAAAEBXQAAAAAAAQF5AAAAAAAAAWUAAAAAAAIBWQAAAAAAAwFxAAAAAAADAXUAAAAAAAIBcQAAAAAAAgFVAAAAAAAAAT0AAAAAAAIBIQAAAAAAAAEtAAAAAAACARUAAAAAAAABAQAAAAAAAAEFAAAAAAACAQkAAAAAAAABCQAAAAAAAAD9AAAAAAAAAO0AAAAAAAAA/QAAAAAAAADxAAAAAAAAAP0AAAAAAAAA4QAAAAAAAADZAAAAAAAAAM0AAAAAAAAAyQAAAAAAAADlAAAAAAAAAMEAAAAAAAAAzQAAAAAAAAD9AAAAAAAAAOEAAAAAAAAA1QAAAAAAAgEJAAAAAAAAAMUAAAAAAAAA0QAAAAAAAgERAAAAAAAAANEAAAAAAAIBAQAAAAAAAgEBAAAAAAAAANkAAAAAAAAA2QAAAAAAAADFAAAAAAAAAKkAAAAAAAAAYQAAAAAAAACxAAAAAAAAAIEAAAAAAAAAiQAAAAAAAABBAAAAAAAAAKEAAAAAAAAAwQAAAAAAAADFAAAAAAAAAKkAAAAAAAAAmQAAAAAAAABBAAAAAAAAAKEAAAAAAAAAyQAAAAAAAADJAAAAAAAAAIEAAAAAAAAAIQAAAAAAAAAhAAAAAAAAAEEAAAAAAAAAgQAAAAAAAABRAAAAAAAAAHEAAAAAAAAAgQAAAAAAAABhAAAAAAAAAGEAAAAAAAAAQQAAAAAAAACBAAAAAAAAAEEAAAAAAAAAgQAAAAAAAAABAAAAAAAAAHEAAAAAAAAAIQAAAAAAAABBAAAAAAAAAHEAAAAAAAAAcQAAAAAAAABBAAAAAAAAAFEAAAAAAAAAYQAAAAAAAACBAAAAAAAAAIEAAAAAAAAAkQAAAAAAAABRAAAAAAAAAEEAAAAAAAAAgQAAAAAAAABRAAAAAAAAAHEAAAAAAAAAYQAAAAAAAAAhAAAAAAAAAFEAAAAAAAAAIQAAAAAAAABBAAAAAAAAAFEAAAAAAAAAgQAAAAAAAABBAAAAAAAAAHEAAAAAAAAAUQAAAAAAAAAhAAAAAAAAA8D8AAAAAAAAAQAAAAAAAABBAAAAAAAAA8D8AAAAAAAAgQAAAAAAAAAhAAAAAAAAAHEAAAAAAAAAiQAAAAAAAABRAAAAAAAAAKEAAAAAAAAAoQAAAAAAAABhAAAAAAAAAJkAAAAAAAAAcQAAAAAAAACJAAAAAAAAAFEAAAAAAAAAIQAAAAAAAACJAAAAAAAAAEEAAAAAAAAAUQAAAAAAAABBAAAAAAAAAHEAAAAAAAAAAQAAAAAAAABRAAAAAAAAACEAAAAAAAAAYQAAAAAAAAAhAAAAAAAAA8D8AAAAAAAAgQAAAAAAAACJAAAAAAAAAAAAAAAAAAAAIQAAAAAAAABBAAAAAAAAAEEAAAAAAAAAAQAAAAAAAAAhAAAAAAAAAFEAAAAAAAAAUQAAAAAAAAAAAAAAAAAAAEEAAAAAAAAAyQAAAAAAAABBAAAAAAAAAGEAAAAAAAAAQQAAAAAAAACBAAAAAAAAAHEAAAAAAAAAUQAAAAAAAABxAAAAAAAAAEEAAAAAAAAAYQAAAAAAAAChAAAAAAAAAJkAAAAAAAAAcQAAAAAAAACBAAAAAAAAAFEAAAAAAAAAAQAAAAAAAAAhAAAAAAAAACEAAAAAAAAAAQAAAAAAAAPA/AAAAAAAAAEAAAAAAAAAQQAAAAAAAACBAAAAAAAAAEEAAAAAAAAAgQAAAAAAAABxAAAAAAAAAIkAAAAAAAAAkQAAAAAAAABhAAAAAAAAACEAAAAAAAAAqQAAAAAAAACJAAAAAAAAAIEAAAAAAAAAkQAAAAAAAACRAAAAAAAAAIkAAAAAAAAAiQAAAAAAAAChAAAAAAAAAAEAAAAAAAAAgQAAAAAAAACpAAAAAAAAAIEAAAAAAAAAiQAAAAAAAAChAAAAAAAAAMEAAAAAAAAAxQAAAAAAAACZAAAAAAAAANEAAAAAAAAAyQAAAAAAAADRAAAAAAAAAP0AAAAAAAAA/QAAAAAAAADpAAAAAAAAAQEAAAAAAAABJQAAAAAAAgEZAAAAAAADAVkAAAAAAAIBRQAAAAAAAQFRAAAAAAABAVEAAAAAAAEBbQAAAAAAAwFFAAAAAAACAW0AAAAAAAIBRQAAAAAAAAEpAAAAAAAAASEAAAAAAAABJQAAAAAAAAD5AAAAAAAAAPkAAAAAAAAAwQAAAAAAAAEVAAAAAAAAAO0AAAAAAAAA6QAAAAAAAAEBAAAAAAAAAN0AAAAAAAAAxQAAAAAAAACxAAAAAAAAAMEAAAAAAAAA1QAAAAAAAADFAAAAAAAAAMUAAAAAAAAAqQAAAAAAAADRAAAAAAAAAKkAAAAAAAAA5QAAAAAAAACpAAAAAAAAANkAAAAAAAAAxQAAAAAAAACxAAAAAAAAAOEAAAAAAAAAkQAAAAAAAACRAAAAAAAAAKkAAAAAAAAAYQAAAAAAAADtAAAAAAAAAJEAAAAAAAAAyQAAAAAAAADlAAAAAAAAAMkAAAAAAAAAsQAAAAAAAADhAAAAAAAAAO0AAAAAAAAA4QAAAAAAAADJAAAAAAACARkAAAAAAAAA+QAAAAAAAADRAAAAAAACAQUAAAAAAAIBCQAAAAAAAAD9AAAAAAAAAPUAAAAAAAABBQAAAAAAAAENAAAAAAAAAQUAAAAAAAAA8QAAAAAAAADdAAAAAAAAAJkAAAAAAAAAqQAAAAAAAADNAAAAAAAAAMUAAAAAAAAAxQAAAAAAAABxAAAAAAAAAJEAAAAAAAAAkQAAAAAAAADBAAAAAAAAAKEAAAAAAAAAmQAAAAAAAACZAAAAAAAAAMkAAAAAAAAAwQAAAAAAAADBAAAAAAAAALkAAAAAAAAA3QAAAAAAAADZAAAAAAAAALEAAAAAAAAA2QAAAAAAAACRAAAAAAAAAMkAAAAAAAAAsQAAAAAAAAC5AAAAAAAAAIEAAAAAAAAAQQAAAAAAAADJAAAAAAAAAKEAAAAAAAAAmQAAAAAAAAC5AAAAAAAAAFEAAAAAAAAAgQAAAAAAAACJAAAAAAAAAIkAAAAAAAAAkQAAAAAAAAAhAAAAAAAAAIEAAAAAAAAAQQAAAAAAAABRAAAAAAAAAIkAAAAAAAAAUQA==",
          "dtype": "f8"
         }
        }
       ],
       "layout": {
        "height": 500,
        "hovermode": "x unified",
        "template": {
         "data": {
          "bar": [
           {
            "error_x": {
             "color": "#2a3f5f"
            },
            "error_y": {
             "color": "#2a3f5f"
            },
            "marker": {
             "line": {
              "color": "#E5ECF6",
              "width": 0.5
             },
             "pattern": {
              "fillmode": "overlay",
              "size": 10,
              "solidity": 0.2
             }
            },
            "type": "bar"
           }
          ],
          "barpolar": [
           {
            "marker": {
             "line": {
              "color": "#E5ECF6",
              "width": 0.5
             },
             "pattern": {
              "fillmode": "overlay",
              "size": 10,
              "solidity": 0.2
             }
            },
            "type": "barpolar"
           }
          ],
          "carpet": [
           {
            "aaxis": {
             "endlinecolor": "#2a3f5f",
             "gridcolor": "white",
             "linecolor": "white",
             "minorgridcolor": "white",
             "startlinecolor": "#2a3f5f"
            },
            "baxis": {
             "endlinecolor": "#2a3f5f",
             "gridcolor": "white",
             "linecolor": "white",
             "minorgridcolor": "white",
             "startlinecolor": "#2a3f5f"
            },
            "type": "carpet"
           }
          ],
          "choropleth": [
           {
            "colorbar": {
             "outlinewidth": 0,
             "ticks": ""
            },
            "type": "choropleth"
           }
          ],
          "contour": [
           {
            "colorbar": {
             "outlinewidth": 0,
             "ticks": ""
            },
            "colorscale": [
             [
              0,
              "#0d0887"
             ],
             [
              0.1111111111111111,
              "#46039f"
             ],
             [
              0.2222222222222222,
              "#7201a8"
             ],
             [
              0.3333333333333333,
              "#9c179e"
             ],
             [
              0.4444444444444444,
              "#bd3786"
             ],
             [
              0.5555555555555556,
              "#d8576b"
             ],
             [
              0.6666666666666666,
              "#ed7953"
             ],
             [
              0.7777777777777778,
              "#fb9f3a"
             ],
             [
              0.8888888888888888,
              "#fdca26"
             ],
             [
              1,
              "#f0f921"
             ]
            ],
            "type": "contour"
           }
          ],
          "contourcarpet": [
           {
            "colorbar": {
             "outlinewidth": 0,
             "ticks": ""
            },
            "type": "contourcarpet"
           }
          ],
          "heatmap": [
           {
            "colorbar": {
             "outlinewidth": 0,
             "ticks": ""
            },
            "colorscale": [
             [
              0,
              "#0d0887"
             ],
             [
              0.1111111111111111,
              "#46039f"
             ],
             [
              0.2222222222222222,
              "#7201a8"
             ],
             [
              0.3333333333333333,
              "#9c179e"
             ],
             [
              0.4444444444444444,
              "#bd3786"
             ],
             [
              0.5555555555555556,
              "#d8576b"
             ],
             [
              0.6666666666666666,
              "#ed7953"
             ],
             [
              0.7777777777777778,
              "#fb9f3a"
             ],
             [
              0.8888888888888888,
              "#fdca26"
             ],
             [
              1,
              "#f0f921"
             ]
            ],
            "type": "heatmap"
           }
          ],
          "histogram": [
           {
            "marker": {
             "pattern": {
              "fillmode": "overlay",
              "size": 10,
              "solidity": 0.2
             }
            },
            "type": "histogram"
           }
          ],
          "histogram2d": [
           {
            "colorbar": {
             "outlinewidth": 0,
             "ticks": ""
            },
            "colorscale": [
             [
              0,
              "#0d0887"
             ],
             [
              0.1111111111111111,
              "#46039f"
             ],
             [
              0.2222222222222222,
              "#7201a8"
             ],
             [
              0.3333333333333333,
              "#9c179e"
             ],
             [
              0.4444444444444444,
              "#bd3786"
             ],
             [
              0.5555555555555556,
              "#d8576b"
             ],
             [
              0.6666666666666666,
              "#ed7953"
             ],
             [
              0.7777777777777778,
              "#fb9f3a"
             ],
             [
              0.8888888888888888,
              "#fdca26"
             ],
             [
              1,
              "#f0f921"
             ]
            ],
            "type": "histogram2d"
           }
          ],
          "histogram2dcontour": [
           {
            "colorbar": {
             "outlinewidth": 0,
             "ticks": ""
            },
            "colorscale": [
             [
              0,
              "#0d0887"
             ],
             [
              0.1111111111111111,
              "#46039f"
             ],
             [
              0.2222222222222222,
              "#7201a8"
             ],
             [
              0.3333333333333333,
              "#9c179e"
             ],
             [
              0.4444444444444444,
              "#bd3786"
             ],
             [
              0.5555555555555556,
              "#d8576b"
             ],
             [
              0.6666666666666666,
              "#ed7953"
             ],
             [
              0.7777777777777778,
              "#fb9f3a"
             ],
             [
              0.8888888888888888,
              "#fdca26"
             ],
             [
              1,
              "#f0f921"
             ]
            ],
            "type": "histogram2dcontour"
           }
          ],
          "mesh3d": [
           {
            "colorbar": {
             "outlinewidth": 0,
             "ticks": ""
            },
            "type": "mesh3d"
           }
          ],
          "parcoords": [
           {
            "line": {
             "colorbar": {
              "outlinewidth": 0,
              "ticks": ""
             }
            },
            "type": "parcoords"
           }
          ],
          "pie": [
           {
            "automargin": true,
            "type": "pie"
           }
          ],
          "scatter": [
           {
            "fillpattern": {
             "fillmode": "overlay",
             "size": 10,
             "solidity": 0.2
            },
            "type": "scatter"
           }
          ],
          "scatter3d": [
           {
            "line": {
             "colorbar": {
              "outlinewidth": 0,
              "ticks": ""
             }
            },
            "marker": {
             "colorbar": {
              "outlinewidth": 0,
              "ticks": ""
             }
            },
            "type": "scatter3d"
           }
          ],
          "scattercarpet": [
           {
            "marker": {
             "colorbar": {
              "outlinewidth": 0,
              "ticks": ""
             }
            },
            "type": "scattercarpet"
           }
          ],
          "scattergeo": [
           {
            "marker": {
             "colorbar": {
              "outlinewidth": 0,
              "ticks": ""
             }
            },
            "type": "scattergeo"
           }
          ],
          "scattergl": [
           {
            "marker": {
             "colorbar": {
              "outlinewidth": 0,
              "ticks": ""
             }
            },
            "type": "scattergl"
           }
          ],
          "scattermap": [
           {
            "marker": {
             "colorbar": {
              "outlinewidth": 0,
              "ticks": ""
             }
            },
            "type": "scattermap"
           }
          ],
          "scattermapbox": [
           {
            "marker": {
             "colorbar": {
              "outlinewidth": 0,
              "ticks": ""
             }
            },
            "type": "scattermapbox"
           }
          ],
          "scatterpolar": [
           {
            "marker": {
             "colorbar": {
              "outlinewidth": 0,
              "ticks": ""
             }
            },
            "type": "scatterpolar"
           }
          ],
          "scatterpolargl": [
           {
            "marker": {
             "colorbar": {
              "outlinewidth": 0,
              "ticks": ""
             }
            },
            "type": "scatterpolargl"
           }
          ],
          "scatterternary": [
           {
            "marker": {
             "colorbar": {
              "outlinewidth": 0,
              "ticks": ""
             }
            },
            "type": "scatterternary"
           }
          ],
          "surface": [
           {
            "colorbar": {
             "outlinewidth": 0,
             "ticks": ""
            },
            "colorscale": [
             [
              0,
              "#0d0887"
             ],
             [
              0.1111111111111111,
              "#46039f"
             ],
             [
              0.2222222222222222,
              "#7201a8"
             ],
             [
              0.3333333333333333,
              "#9c179e"
             ],
             [
              0.4444444444444444,
              "#bd3786"
             ],
             [
              0.5555555555555556,
              "#d8576b"
             ],
             [
              0.6666666666666666,
              "#ed7953"
             ],
             [
              0.7777777777777778,
              "#fb9f3a"
             ],
             [
              0.8888888888888888,
              "#fdca26"
             ],
             [
              1,
              "#f0f921"
             ]
            ],
            "type": "surface"
           }
          ],
          "table": [
           {
            "cells": {
             "fill": {
              "color": "#EBF0F8"
             },
             "line": {
              "color": "white"
             }
            },
            "header": {
             "fill": {
              "color": "#C8D4E3"
             },
             "line": {
              "color": "white"
             }
            },
            "type": "table"
           }
          ]
         },
         "layout": {
          "annotationdefaults": {
           "arrowcolor": "#2a3f5f",
           "arrowhead": 0,
           "arrowwidth": 1
          },
          "autotypenumbers": "strict",
          "coloraxis": {
           "colorbar": {
            "outlinewidth": 0,
            "ticks": ""
           }
          },
          "colorscale": {
           "diverging": [
            [
             0,
             "#8e0152"
            ],
            [
             0.1,
             "#c51b7d"
            ],
            [
             0.2,
             "#de77ae"
            ],
            [
             0.3,
             "#f1b6da"
            ],
            [
             0.4,
             "#fde0ef"
            ],
            [
             0.5,
             "#f7f7f7"
            ],
            [
             0.6,
             "#e6f5d0"
            ],
            [
             0.7,
             "#b8e186"
            ],
            [
             0.8,
             "#7fbc41"
            ],
            [
             0.9,
             "#4d9221"
            ],
            [
             1,
             "#276419"
            ]
           ],
           "sequential": [
            [
             0,
             "#0d0887"
            ],
            [
             0.1111111111111111,
             "#46039f"
            ],
            [
             0.2222222222222222,
             "#7201a8"
            ],
            [
             0.3333333333333333,
             "#9c179e"
            ],
            [
             0.4444444444444444,
             "#bd3786"
            ],
            [
             0.5555555555555556,
             "#d8576b"
            ],
            [
             0.6666666666666666,
             "#ed7953"
            ],
            [
             0.7777777777777778,
             "#fb9f3a"
            ],
            [
             0.8888888888888888,
             "#fdca26"
            ],
            [
             1,
             "#f0f921"
            ]
           ],
           "sequentialminus": [
            [
             0,
             "#0d0887"
            ],
            [
             0.1111111111111111,
             "#46039f"
            ],
            [
             0.2222222222222222,
             "#7201a8"
            ],
            [
             0.3333333333333333,
             "#9c179e"
            ],
            [
             0.4444444444444444,
             "#bd3786"
            ],
            [
             0.5555555555555556,
             "#d8576b"
            ],
            [
             0.6666666666666666,
             "#ed7953"
            ],
            [
             0.7777777777777778,
             "#fb9f3a"
            ],
            [
             0.8888888888888888,
             "#fdca26"
            ],
            [
             1,
             "#f0f921"
            ]
           ]
          },
          "colorway": [
           "#636efa",
           "#EF553B",
           "#00cc96",
           "#ab63fa",
           "#FFA15A",
           "#19d3f3",
           "#FF6692",
           "#B6E880",
           "#FF97FF",
           "#FECB52"
          ],
          "font": {
           "color": "#2a3f5f"
          },
          "geo": {
           "bgcolor": "white",
           "lakecolor": "white",
           "landcolor": "#E5ECF6",
           "showlakes": true,
           "showland": true,
           "subunitcolor": "white"
          },
          "hoverlabel": {
           "align": "left"
          },
          "hovermode": "closest",
          "mapbox": {
           "style": "light"
          },
          "paper_bgcolor": "white",
          "plot_bgcolor": "#E5ECF6",
          "polar": {
           "angularaxis": {
            "gridcolor": "white",
            "linecolor": "white",
            "ticks": ""
           },
           "bgcolor": "#E5ECF6",
           "radialaxis": {
            "gridcolor": "white",
            "linecolor": "white",
            "ticks": ""
           }
          },
          "scene": {
           "xaxis": {
            "backgroundcolor": "#E5ECF6",
            "gridcolor": "white",
            "gridwidth": 2,
            "linecolor": "white",
            "showbackground": true,
            "ticks": "",
            "zerolinecolor": "white"
           },
           "yaxis": {
            "backgroundcolor": "#E5ECF6",
            "gridcolor": "white",
            "gridwidth": 2,
            "linecolor": "white",
            "showbackground": true,
            "ticks": "",
            "zerolinecolor": "white"
           },
           "zaxis": {
            "backgroundcolor": "#E5ECF6",
            "gridcolor": "white",
            "gridwidth": 2,
            "linecolor": "white",
            "showbackground": true,
            "ticks": "",
            "zerolinecolor": "white"
           }
          },
          "shapedefaults": {
           "line": {
            "color": "#2a3f5f"
           }
          },
          "ternary": {
           "aaxis": {
            "gridcolor": "white",
            "linecolor": "white",
            "ticks": ""
           },
           "baxis": {
            "gridcolor": "white",
            "linecolor": "white",
            "ticks": ""
           },
           "bgcolor": "#E5ECF6",
           "caxis": {
            "gridcolor": "white",
            "linecolor": "white",
            "ticks": ""
           }
          },
          "title": {
           "x": 0.05
          },
          "xaxis": {
           "automargin": true,
           "gridcolor": "white",
           "linecolor": "white",
           "ticks": "",
           "title": {
            "standoff": 15
           },
           "zerolinecolor": "white",
           "zerolinewidth": 2
          },
          "yaxis": {
           "automargin": true,
           "gridcolor": "white",
           "linecolor": "white",
           "ticks": "",
           "title": {
            "standoff": 15
           },
           "zerolinecolor": "white",
           "zerolinewidth": 2
          }
         }
        },
        "title": {
         "text": "Serie de Tiempo Global de Casos de Dengue (Todos los Barrios)"
        },
        "xaxis": {
         "title": {
          "text": "Fecha"
         }
        },
        "yaxis": {
         "title": {
          "text": "Casos Totales"
         }
        }
       }
      }
     },
     "metadata": {},
     "output_type": "display_data"
    },
    {
     "data": {
      "image/png": "[encoded data removed]",
      "text/plain": [
       "<Figure size 1500x1200 with 4 Axes>"
      ]
     },
     "metadata": {},
     "output_type": "display_data"
    }
   ],
   "source": [
    "# Análisis global: agregar casos de dengue para todos los barrios\n",
    "dengue_global = df_train.groupby('fecha')['dengue'].sum().reset_index()\n",
    "\n",
    "# Crear visualización interactiva con Plotly\n",
    "fig = go.Figure()\n",
    "fig.add_trace(go.Scatter(\n",
    "    x=dengue_global['fecha'],\n",
    "    y=dengue_global['dengue'],\n",
    "    mode='lines',\n",
    "    name='Casos totales de dengue',\n",
    "    line=dict(color='red', width=2)\n",
    "))\n",
    "\n",
    "fig.update_layout(\n",
    "    title='Serie de Tiempo Global de Casos de Dengue (Todos los Barrios)',\n",
    "    xaxis_title='Fecha',\n",
    "    yaxis_title='Casos Totales',\n",
    "    hovermode='x unified',\n",
    "    height=500\n",
    ")\n",
    "fig.show()\n",
    "\n",
    "# Análisis de estacionalidad - descomposición\n",
    "from statsmodels.tsa.seasonal import seasonal_decompose\n",
    "\n",
    "# Asegurar frecuencia semanal\n",
    "dengue_global_ts = dengue_global.set_index('fecha')['dengue']\n",
    "dengue_global_ts = dengue_global_ts.asfreq('W-MON', method='ffill')\n",
    "\n",
    "# Descomposición\n",
    "decomposition = seasonal_decompose(dengue_global_ts, model='additive', period=52)\n",
    "\n",
    "# Visualizar descomposición\n",
    "fig, axes = plt.subplots(4, 1, figsize=(15, 12))\n",
    "\n",
    "dengue_global_ts.plot(ax=axes[0], title='Serie Original')\n",
    "axes[0].set_ylabel('Casos')\n",
    "\n",
    "decomposition.trend.plot(ax=axes[1], title='Tendencia')\n",
    "axes[1].set_ylabel('Tendencia')\n",
    "\n",
    "decomposition.seasonal.plot(ax=axes[2], title='Estacionalidad')\n",
    "axes[2].set_ylabel('Estacionalidad')\n",
    "\n",
    "decomposition.resid.plot(ax=axes[3], title='Residuos')\n",
    "axes[3].set_ylabel('Residuos')\n",
    "\n",
    "plt.tight_layout()\n",
    "plt.show()"
   ]
  },
  {
   "cell_type": "code",
   "execution_count": 4,
   "id": "112b6d36",
   "metadata": {},
   "outputs": [
    {
     "name": "stdout",
     "output_type": "stream",
     "text": [
      "Barrios seleccionados para análisis: [4 5 3 8 9]\n"
     ]
    },
    {
     "data": {
      "application/vnd.plotly.v1+json": {
       "config": {
        "plotlyServerURL": "https://plot.ly"
       },
       "data": [
        {
         "mode": "lines",
         "name": "Barrio 4",
         "showlegend": true,
         "type": "scatter",
         "x": [
          "2015-01-05T00:00:00.000000000",
          "2015-01-12T00:00:00.000000000",
          "2015-01-19T00:00:00.000000000",
          "2015-01-26T00:00:00.000000000",
          "2015-02-02T00:00:00.000000000",
          "2015-02-09T00:00:00.000000000",
          "2015-02-16T00:00:00.000000000",
          "2015-02-23T00:00:00.000000000",
          "2015-03-02T00:00:00.000000000",
          "2015-03-09T00:00:00.000000000",
          "2015-03-16T00:00:00.000000000",
          "2015-03-23T00:00:00.000000000",
          "2015-03-30T00:00:00.000000000",
          "2015-04-06T00:00:00.000000000",
          "2015-04-13T00:00:00.000000000",
          "2015-04-20T00:00:00.000000000",
          "2015-04-27T00:00:00.000000000",
          "2015-05-04T00:00:00.000000000",
          "2015-05-11T00:00:00.000000000",
          "2015-05-18T00:00:00.000000000",
          "2015-05-25T00:00:00.000000000",
          "2015-06-01T00:00:00.000000000",
          "2015-06-08T00:00:00.000000000",
          "2015-06-15T00:00:00.000000000",
          "2015-06-22T00:00:00.000000000",
          "2015-06-29T00:00:00.000000000",
          "2015-07-06T00:00:00.000000000",
          "2015-07-13T00:00:00.000000000",
          "2015-07-20T00:00:00.000000000",
          "2015-07-27T00:00:00.000000000",
          "2015-08-03T00:00:00.000000000",
          "2015-08-10T00:00:00.000000000",
          "2015-08-17T00:00:00.000000000",
          "2015-08-24T00:00:00.000000000",
          "2015-08-31T00:00:00.000000000",
          "2015-09-07T00:00:00.000000000",
          "2015-09-14T00:00:00.000000000",
          "2015-09-21T00:00:00.000000000",
          "2015-09-28T00:00:00.000000000",
          "2015-10-05T00:00:00.000000000",
          "2015-10-12T00:00:00.000000000",
          "2015-10-19T00:00:00.000000000",
          "2015-10-26T00:00:00.000000000",
          "2015-11-02T00:00:00.000000000",
          "2015-11-09T00:00:00.000000000",
          "2015-11-16T00:00:00.000000000",
          "2015-11-23T00:00:00.000000000",
          "2015-11-30T00:00:00.000000000",
          "2015-12-07T00:00:00.000000000",
          "2015-12-14T00:00:00.000000000",
          "2015-12-21T00:00:00.000000000",
          "2015-12-28T00:00:00.000000000",
          "2016-01-04T00:00:00.000000000",
          "2016-01-04T00:00:00.000000000",
          "2016-01-11T00:00:00.000000000",
          "2016-01-18T00:00:00.000000000",
          "2016-01-25T00:00:00.000000000",
          "2016-02-01T00:00:00.000000000",
          "2016-02-08T00:00:00.000000000",
          "2016-02-15T00:00:00.000000000",
          "2016-02-22T00:00:00.000000000",
          "2016-02-29T00:00:00.000000000",
          "2016-03-07T00:00:00.000000000",
          "2016-03-14T00:00:00.000000000",
          "2016-03-21T00:00:00.000000000",
          "2016-03-28T00:00:00.000000000",
          "2016-04-04T00:00:00.000000000",
          "2016-04-11T00:00:00.000000000",
          "2016-04-18T00:00:00.000000000",
          "2016-04-25T00:00:00.000000000",
          "2016-05-02T00:00:00.000000000",
          "2016-05-09T00:00:00.000000000",
          "2016-05-16T00:00:00.000000000",
          "2016-05-23T00:00:00.000000000",
          "2016-05-30T00:00:00.000000000",
          "2016-06-06T00:00:00.000000000",
          "2016-06-13T00:00:00.000000000",
          "2016-06-20T00:00:00.000000000",
          "2016-06-27T00:00:00.000000000",
          "2016-07-04T00:00:00.000000000",
          "2016-07-11T00:00:00.000000000",
          "2016-07-18T00:00:00.000000000",
          "2016-07-25T00:00:00.000000000",
          "2016-08-01T00:00:00.000000000",
          "2016-08-08T00:00:00.000000000",
          "2016-08-15T00:00:00.000000000",
          "2016-08-22T00:00:00.000000000",
          "2016-08-29T00:00:00.000000000",
          "2016-09-05T00:00:00.000000000",
          "2016-09-12T00:00:00.000000000",
          "2016-09-19T00:00:00.000000000",
          "2016-09-26T00:00:00.000000000",
          "2016-10-03T00:00:00.000000000",
          "2016-10-10T00:00:00.000000000",
          "2016-10-17T00:00:00.000000000",
          "2016-10-24T00:00:00.000000000",
          "2016-10-31T00:00:00.000000000",
          "2016-11-07T00:00:00.000000000",
          "2016-11-14T00:00:00.000000000",
          "2016-11-21T00:00:00.000000000",
          "2016-11-28T00:00:00.000000000",
          "2016-12-05T00:00:00.000000000",
          "2016-12-12T00:00:00.000000000",
          "2016-12-19T00:00:00.000000000",
          "2016-12-26T00:00:00.000000000",
          "2017-01-02T00:00:00.000000000",
          "2017-01-02T00:00:00.000000000",
          "2017-01-09T00:00:00.000000000",
          "2017-01-16T00:00:00.000000000",
          "2017-01-23T00:00:00.000000000",
          "2017-01-30T00:00:00.000000000",
          "2017-02-06T00:00:00.000000000",
          "2017-02-13T00:00:00.000000000",
          "2017-02-20T00:00:00.000000000",
          "2017-02-27T00:00:00.000000000",
          "2017-03-06T00:00:00.000000000",
          "2017-03-13T00:00:00.000000000",
          "2017-03-20T00:00:00.000000000",
          "2017-03-27T00:00:00.000000000",
          "2017-04-03T00:00:00.000000000",
          "2017-04-10T00:00:00.000000000",
          "2017-04-17T00:00:00.000000000",
          "2017-04-24T00:00:00.000000000",
          "2017-05-01T00:00:00.000000000",
          "2017-05-08T00:00:00.000000000",
          "2017-05-15T00:00:00.000000000",
          "2017-05-22T00:00:00.000000000",
          "2017-05-29T00:00:00.000000000",
          "2017-06-05T00:00:00.000000000",
          "2017-06-12T00:00:00.000000000",
          "2017-06-19T00:00:00.000000000",
          "2017-06-26T00:00:00.000000000",
          "2017-07-03T00:00:00.000000000",
          "2017-07-10T00:00:00.000000000",
          "2017-07-17T00:00:00.000000000",
          "2017-07-24T00:00:00.000000000",
          "2017-07-31T00:00:00.000000000",
          "2017-08-07T00:00:00.000000000",
          "2017-08-14T00:00:00.000000000",
          "2017-08-21T00:00:00.000000000",
          "2017-08-28T00:00:00.000000000",
          "2017-09-04T00:00:00.000000000",
          "2017-09-11T00:00:00.000000000",
          "2017-09-18T00:00:00.000000000",
          "2017-09-25T00:00:00.000000000",
          "2017-10-02T00:00:00.000000000",
          "2017-10-09T00:00:00.000000000",
          "2017-10-16T00:00:00.000000000",
          "2017-10-23T00:00:00.000000000",
          "2017-10-30T00:00:00.000000000",
          "2017-11-06T00:00:00.000000000",
          "2017-11-13T00:00:00.000000000",
          "2017-11-20T00:00:00.000000000",
          "2017-11-27T00:00:00.000000000",
          "2017-12-04T00:00:00.000000000",
          "2017-12-11T00:00:00.000000000",
          "2017-12-18T00:00:00.000000000",
          "2017-12-25T00:00:00.000000000",
          "2018-01-01T00:00:00.000000000",
          "2018-01-08T00:00:00.000000000",
          "2018-01-15T00:00:00.000000000",
          "2018-01-22T00:00:00.000000000",
          "2018-01-29T00:00:00.000000000",
          "2018-02-05T00:00:00.000000000",
          "2018-02-12T00:00:00.000000000",
          "2018-02-19T00:00:00.000000000",
          "2018-02-26T00:00:00.000000000",
          "2018-03-05T00:00:00.000000000",
          "2018-03-12T00:00:00.000000000",
          "2018-03-19T00:00:00.000000000",
          "2018-03-26T00:00:00.000000000",
          "2018-04-02T00:00:00.000000000",
          "2018-04-09T00:00:00.000000000",
          "2018-04-16T00:00:00.000000000",
          "2018-04-23T00:00:00.000000000",
          "2018-04-30T00:00:00.000000000",
          "2018-05-07T00:00:00.000000000",
          "2018-05-14T00:00:00.000000000",
          "2018-05-21T00:00:00.000000000",
          "2018-05-28T00:00:00.000000000",
          "2018-06-04T00:00:00.000000000",
          "2018-06-11T00:00:00.000000000",
          "2018-06-18T00:00:00.000000000",
          "2018-06-25T00:00:00.000000000",
          "2018-07-02T00:00:00.000000000",
          "2018-07-09T00:00:00.000000000",
          "2018-07-16T00:00:00.000000000",
          "2018-07-23T00:00:00.000000000",
          "2018-07-30T00:00:00.000000000",
          "2018-08-06T00:00:00.000000000",
          "2018-08-13T00:00:00.000000000",
          "2018-08-20T00:00:00.000000000",
          "2018-08-27T00:00:00.000000000",
          "2018-09-03T00:00:00.000000000",
          "2018-09-10T00:00:00.000000000",
          "2018-09-17T00:00:00.000000000",
          "2018-09-24T00:00:00.000000000",
          "2018-10-01T00:00:00.000000000",
          "2018-10-08T00:00:00.000000000",
          "2018-10-15T00:00:00.000000000",
          "2018-10-22T00:00:00.000000000",
          "2018-10-29T00:00:00.000000000",
          "2018-11-05T00:00:00.000000000",
          "2018-11-12T00:00:00.000000000",
          "2018-11-19T00:00:00.000000000",
          "2018-11-26T00:00:00.000000000",
          "2018-12-03T00:00:00.000000000",
          "2018-12-10T00:00:00.000000000",
          "2018-12-17T00:00:00.000000000",
          "2018-12-24T00:00:00.000000000",
          "2019-01-07T00:00:00.000000000",
          "2019-01-14T00:00:00.000000000",
          "2019-01-21T00:00:00.000000000",
          "2019-01-28T00:00:00.000000000",
          "2019-02-04T00:00:00.000000000",
          "2019-02-11T00:00:00.000000000",
          "2019-02-18T00:00:00.000000000",
          "2019-02-25T00:00:00.000000000",
          "2019-03-04T00:00:00.000000000",
          "2019-03-11T00:00:00.000000000",
          "2019-03-18T00:00:00.000000000",
          "2019-03-25T00:00:00.000000000",
          "2019-04-01T00:00:00.000000000",
          "2019-04-08T00:00:00.000000000",
          "2019-04-15T00:00:00.000000000",
          "2019-04-22T00:00:00.000000000",
          "2019-04-29T00:00:00.000000000",
          "2019-05-06T00:00:00.000000000",
          "2019-05-13T00:00:00.000000000",
          "2019-05-20T00:00:00.000000000",
          "2019-05-27T00:00:00.000000000",
          "2019-06-03T00:00:00.000000000",
          "2019-06-10T00:00:00.000000000",
          "2019-06-17T00:00:00.000000000",
          "2019-06-24T00:00:00.000000000",
          "2019-07-01T00:00:00.000000000",
          "2019-07-08T00:00:00.000000000",
          "2019-07-15T00:00:00.000000000",
          "2019-07-22T00:00:00.000000000",
          "2019-07-29T00:00:00.000000000",
          "2019-08-05T00:00:00.000000000",
          "2019-08-12T00:00:00.000000000",
          "2019-08-19T00:00:00.000000000",
          "2019-08-26T00:00:00.000000000",
          "2019-09-02T00:00:00.000000000",
          "2019-09-09T00:00:00.000000000",
          "2019-09-16T00:00:00.000000000",
          "2019-09-23T00:00:00.000000000",
          "2019-09-30T00:00:00.000000000",
          "2019-10-07T00:00:00.000000000",
          "2019-10-14T00:00:00.000000000",
          "2019-10-21T00:00:00.000000000",
          "2019-10-28T00:00:00.000000000",
          "2019-11-04T00:00:00.000000000",
          "2019-11-11T00:00:00.000000000",
          "2019-11-18T00:00:00.000000000",
          "2019-11-25T00:00:00.000000000",
          "2019-12-02T00:00:00.000000000",
          "2019-12-09T00:00:00.000000000",
          "2019-12-16T00:00:00.000000000",
          "2019-12-23T00:00:00.000000000",
          "2019-12-30T00:00:00.000000000",
          "2020-01-06T00:00:00.000000000",
          "2020-01-13T00:00:00.000000000",
          "2020-01-20T00:00:00.000000000",
          "2020-01-27T00:00:00.000000000",
          "2020-02-03T00:00:00.000000000",
          "2020-02-10T00:00:00.000000000",
          "2020-02-17T00:00:00.000000000",
          "2020-02-24T00:00:00.000000000",
          "2020-03-02T00:00:00.000000000",
          "2020-03-09T00:00:00.000000000",
          "2020-03-16T00:00:00.000000000",
          "2020-03-23T00:00:00.000000000",
          "2020-03-30T00:00:00.000000000",
          "2020-04-06T00:00:00.000000000",
          "2020-04-13T00:00:00.000000000",
          "2020-04-20T00:00:00.000000000",
          "2020-04-27T00:00:00.000000000",
          "2020-05-04T00:00:00.000000000",
          "2020-05-11T00:00:00.000000000",
          "2020-05-18T00:00:00.000000000",
          "2020-05-25T00:00:00.000000000",
          "2020-06-01T00:00:00.000000000",
          "2020-06-08T00:00:00.000000000",
          "2020-06-15T00:00:00.000000000",
          "2020-06-22T00:00:00.000000000",
          "2020-06-29T00:00:00.000000000",
          "2020-07-06T00:00:00.000000000",
          "2020-07-13T00:00:00.000000000",
          "2020-07-20T00:00:00.000000000",
          "2020-07-27T00:00:00.000000000",
          "2020-08-03T00:00:00.000000000",
          "2020-08-10T00:00:00.000000000",
          "2020-08-17T00:00:00.000000000",
          "2020-08-24T00:00:00.000000000",
          "2020-08-31T00:00:00.000000000",
          "2020-09-07T00:00:00.000000000",
          "2020-09-14T00:00:00.000000000",
          "2020-09-21T00:00:00.000000000",
          "2020-09-28T00:00:00.000000000",
          "2020-10-05T00:00:00.000000000",
          "2020-10-12T00:00:00.000000000",
          "2020-10-19T00:00:00.000000000",
          "2020-10-26T00:00:00.000000000",
          "2020-11-02T00:00:00.000000000",
          "2020-11-09T00:00:00.000000000",
          "2020-11-16T00:00:00.000000000",
          "2020-11-23T00:00:00.000000000",
          "2020-11-30T00:00:00.000000000",
          "2020-12-07T00:00:00.000000000",
          "2020-12-14T00:00:00.000000000",
          "2020-12-21T00:00:00.000000000",
          "2020-12-28T00:00:00.000000000",
          "2021-01-04T00:00:00.000000000",
          "2021-01-04T00:00:00.000000000",
          "2021-01-11T00:00:00.000000000",
          "2021-01-18T00:00:00.000000000",
          "2021-01-25T00:00:00.000000000",
          "2021-02-01T00:00:00.000000000",
          "2021-02-08T00:00:00.000000000",
          "2021-02-15T00:00:00.000000000",
          "2021-02-22T00:00:00.000000000",
          "2021-03-01T00:00:00.000000000",
          "2021-03-08T00:00:00.000000000",
          "2021-03-15T00:00:00.000000000",
          "2021-03-22T00:00:00.000000000",
          "2021-03-29T00:00:00.000000000",
          "2021-04-05T00:00:00.000000000",
          "2021-04-12T00:00:00.000000000",
          "2021-04-19T00:00:00.000000000",
          "2021-04-26T00:00:00.000000000",
          "2021-05-03T00:00:00.000000000",
          "2021-05-10T00:00:00.000000000",
          "2021-05-17T00:00:00.000000000",
          "2021-05-24T00:00:00.000000000",
          "2021-05-31T00:00:00.000000000",
          "2021-06-07T00:00:00.000000000",
          "2021-06-14T00:00:00.000000000",
          "2021-06-21T00:00:00.000000000",
          "2021-06-28T00:00:00.000000000",
          "2021-07-05T00:00:00.000000000",
          "2021-07-12T00:00:00.000000000",
          "2021-07-19T00:00:00.000000000",
          "2021-07-26T00:00:00.000000000",
          "2021-08-02T00:00:00.000000000",
          "2021-08-09T00:00:00.000000000",
          "2021-08-16T00:00:00.000000000",
          "2021-08-23T00:00:00.000000000",
          "2021-08-30T00:00:00.000000000",
          "2021-09-06T00:00:00.000000000",
          "2021-09-13T00:00:00.000000000",
          "2021-09-20T00:00:00.000000000",
          "2021-09-27T00:00:00.000000000",
          "2021-10-04T00:00:00.000000000",
          "2021-10-11T00:00:00.000000000",
          "2021-10-18T00:00:00.000000000",
          "2021-10-25T00:00:00.000000000",
          "2021-11-01T00:00:00.000000000",
          "2021-11-08T00:00:00.000000000",
          "2021-11-15T00:00:00.000000000",
          "2021-11-22T00:00:00.000000000",
          "2021-11-29T00:00:00.000000000",
          "2021-12-06T00:00:00.000000000",
          "2021-12-13T00:00:00.000000000",
          "2021-12-20T00:00:00.000000000",
          "2021-12-27T00:00:00.000000000",
          "2022-01-03T00:00:00.000000000"
         ],
         "xaxis": "x",
         "y": {
          "bdata": "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",
          "dtype": "f8"
         },
         "yaxis": "y"
        },
        {
         "mode": "lines",
         "name": "Barrio 5",
         "showlegend": true,
         "type": "scatter",
         "x": [
          "2015-01-05T00:00:00.000000000",
          "2015-01-12T00:00:00.000000000",
          "2015-01-19T00:00:00.000000000",
          "2015-01-26T00:00:00.000000000",
          "2015-02-02T00:00:00.000000000",
          "2015-02-09T00:00:00.000000000",
          "2015-02-16T00:00:00.000000000",
          "2015-02-23T00:00:00.000000000",
          "2015-03-02T00:00:00.000000000",
          "2015-03-09T00:00:00.000000000",
          "2015-03-16T00:00:00.000000000",
          "2015-03-23T00:00:00.000000000",
          "2015-03-30T00:00:00.000000000",
          "2015-04-06T00:00:00.000000000",
          "2015-04-13T00:00:00.000000000",
          "2015-04-20T00:00:00.000000000",
          "2015-04-27T00:00:00.000000000",
          "2015-05-04T00:00:00.000000000",
          "2015-05-11T00:00:00.000000000",
          "2015-05-18T00:00:00.000000000",
          "2015-05-25T00:00:00.000000000",
          "2015-06-01T00:00:00.000000000",
          "2015-06-08T00:00:00.000000000",
          "2015-06-15T00:00:00.000000000",
          "2015-06-22T00:00:00.000000000",
          "2015-06-29T00:00:00.000000000",
          "2015-07-06T00:00:00.000000000",
          "2015-07-13T00:00:00.000000000",
          "2015-07-20T00:00:00.000000000",
          "2015-07-27T00:00:00.000000000",
          "2015-08-03T00:00:00.000000000",
          "2015-08-10T00:00:00.000000000",
          "2015-08-17T00:00:00.000000000",
          "2015-08-24T00:00:00.000000000",
          "2015-08-31T00:00:00.000000000",
          "2015-09-07T00:00:00.000000000",
          "2015-09-14T00:00:00.000000000",
          "2015-09-21T00:00:00.000000000",
          "2015-09-28T00:00:00.000000000",
          "2015-10-05T00:00:00.000000000",
          "2015-10-12T00:00:00.000000000",
          "2015-10-19T00:00:00.000000000",
          "2015-10-26T00:00:00.000000000",
          "2015-11-02T00:00:00.000000000",
          "2015-11-09T00:00:00.000000000",
          "2015-11-16T00:00:00.000000000",
          "2015-11-23T00:00:00.000000000",
          "2015-11-30T00:00:00.000000000",
          "2015-12-07T00:00:00.000000000",
          "2015-12-14T00:00:00.000000000",
          "2015-12-21T00:00:00.000000000",
          "2015-12-28T00:00:00.000000000",
          "2016-01-04T00:00:00.000000000",
          "2016-01-04T00:00:00.000000000",
          "2016-01-11T00:00:00.000000000",
          "2016-01-18T00:00:00.000000000",
          "2016-01-25T00:00:00.000000000",
          "2016-02-01T00:00:00.000000000",
          "2016-02-08T00:00:00.000000000",
          "2016-02-15T00:00:00.000000000",
          "2016-02-22T00:00:00.000000000",
          "2016-02-29T00:00:00.000000000",
          "2016-03-07T00:00:00.000000000",
          "2016-03-14T00:00:00.000000000",
          "2016-03-21T00:00:00.000000000",
          "2016-03-28T00:00:00.000000000",
          "2016-04-04T00:00:00.000000000",
          "2016-04-11T00:00:00.000000000",
          "2016-04-18T00:00:00.000000000",
          "2016-04-25T00:00:00.000000000",
          "2016-05-02T00:00:00.000000000",
          "2016-05-09T00:00:00.000000000",
          "2016-05-16T00:00:00.000000000",
          "2016-05-23T00:00:00.000000000",
          "2016-05-30T00:00:00.000000000",
          "2016-06-06T00:00:00.000000000",
          "2016-06-13T00:00:00.000000000",
          "2016-06-20T00:00:00.000000000",
          "2016-06-27T00:00:00.000000000",
          "2016-07-04T00:00:00.000000000",
          "2016-07-11T00:00:00.000000000",
          "2016-07-18T00:00:00.000000000",
          "2016-07-25T00:00:00.000000000",
          "2016-08-01T00:00:00.000000000",
          "2016-08-08T00:00:00.000000000",
          "2016-08-15T00:00:00.000000000",
          "2016-08-22T00:00:00.000000000",
          "2016-08-29T00:00:00.000000000",
          "2016-09-05T00:00:00.000000000",
          "2016-09-12T00:00:00.000000000",
          "2016-09-19T00:00:00.000000000",
          "2016-09-26T00:00:00.000000000",
          "2016-10-03T00:00:00.000000000",
          "2016-10-10T00:00:00.000000000",
          "2016-10-17T00:00:00.000000000",
          "2016-10-24T00:00:00.000000000",
          "2016-10-31T00:00:00.000000000",
          "2016-11-07T00:00:00.000000000",
          "2016-11-14T00:00:00.000000000",
          "2016-11-21T00:00:00.000000000",
          "2016-11-28T00:00:00.000000000",
          "2016-12-05T00:00:00.000000000",
          "2016-12-12T00:00:00.000000000",
          "2016-12-19T00:00:00.000000000",
          "2016-12-26T00:00:00.000000000",
          "2017-01-02T00:00:00.000000000",
          "2017-01-02T00:00:00.000000000",
          "2017-01-09T00:00:00.000000000",
          "2017-01-16T00:00:00.000000000",
          "2017-01-23T00:00:00.000000000",
          "2017-01-30T00:00:00.000000000",
          "2017-02-06T00:00:00.000000000",
          "2017-02-13T00:00:00.000000000",
          "2017-02-20T00:00:00.000000000",
          "2017-02-27T00:00:00.000000000",
          "2017-03-06T00:00:00.000000000",
          "2017-03-13T00:00:00.000000000",
          "2017-03-20T00:00:00.000000000",
          "2017-03-27T00:00:00.000000000",
          "2017-04-03T00:00:00.000000000",
          "2017-04-10T00:00:00.000000000",
          "2017-04-17T00:00:00.000000000",
          "2017-04-24T00:00:00.000000000",
          "2017-05-01T00:00:00.000000000",
          "2017-05-08T00:00:00.000000000",
          "2017-05-15T00:00:00.000000000",
          "2017-05-22T00:00:00.000000000",
          "2017-05-29T00:00:00.000000000",
          "2017-06-05T00:00:00.000000000",
          "2017-06-12T00:00:00.000000000",
          "2017-06-19T00:00:00.000000000",
          "2017-06-26T00:00:00.000000000",
          "2017-07-03T00:00:00.000000000",
          "2017-07-10T00:00:00.000000000",
          "2017-07-17T00:00:00.000000000",
          "2017-07-24T00:00:00.000000000",
          "2017-07-31T00:00:00.000000000",
          "2017-08-07T00:00:00.000000000",
          "2017-08-14T00:00:00.000000000",
          "2017-08-21T00:00:00.000000000",
          "2017-08-28T00:00:00.000000000",
          "2017-09-04T00:00:00.000000000",
          "2017-09-11T00:00:00.000000000",
          "2017-09-18T00:00:00.000000000",
          "2017-09-25T00:00:00.000000000",
          "2017-10-02T00:00:00.000000000",
          "2017-10-09T00:00:00.000000000",
          "2017-10-16T00:00:00.000000000",
          "2017-10-23T00:00:00.000000000",
          "2017-10-30T00:00:00.000000000",
          "2017-11-06T00:00:00.000000000",
          "2017-11-13T00:00:00.000000000",
          "2017-11-20T00:00:00.000000000",
          "2017-11-27T00:00:00.000000000",
          "2017-12-04T00:00:00.000000000",
          "2017-12-11T00:00:00.000000000",
          "2017-12-18T00:00:00.000000000",
          "2017-12-25T00:00:00.000000000",
          "2018-01-01T00:00:00.000000000",
          "2018-01-08T00:00:00.000000000",
          "2018-01-15T00:00:00.000000000",
          "2018-01-22T00:00:00.000000000",
          "2018-01-29T00:00:00.000000000",
          "2018-02-05T00:00:00.000000000",
          "2018-02-12T00:00:00.000000000",
          "2018-02-19T00:00:00.000000000",
          "2018-02-26T00:00:00.000000000",
          "2018-03-05T00:00:00.000000000",
          "2018-03-12T00:00:00.000000000",
          "2018-03-19T00:00:00.000000000",
          "2018-03-26T00:00:00.000000000",
          "2018-04-02T00:00:00.000000000",
          "2018-04-09T00:00:00.000000000",
          "2018-04-16T00:00:00.000000000",
          "2018-04-23T00:00:00.000000000",
          "2018-04-30T00:00:00.000000000",
          "2018-05-07T00:00:00.000000000",
          "2018-05-14T00:00:00.000000000",
          "2018-05-21T00:00:00.000000000",
          "2018-05-28T00:00:00.000000000",
          "2018-06-04T00:00:00.000000000",
          "2018-06-11T00:00:00.000000000",
          "2018-06-18T00:00:00.000000000",
          "2018-06-25T00:00:00.000000000",
          "2018-07-02T00:00:00.000000000",
          "2018-07-09T00:00:00.000000000",
          "2018-07-16T00:00:00.000000000",
          "2018-07-23T00:00:00.000000000",
          "2018-07-30T00:00:00.000000000",
          "2018-08-06T00:00:00.000000000",
          "2018-08-13T00:00:00.000000000",
          "2018-08-20T00:00:00.000000000",
          "2018-08-27T00:00:00.000000000",
          "2018-09-03T00:00:00.000000000",
          "2018-09-10T00:00:00.000000000",
          "2018-09-17T00:00:00.000000000",
          "2018-09-24T00:00:00.000000000",
          "2018-10-01T00:00:00.000000000",
          "2018-10-08T00:00:00.000000000",
          "2018-10-15T00:00:00.000000000",
          "2018-10-22T00:00:00.000000000",
          "2018-10-29T00:00:00.000000000",
          "2018-11-05T00:00:00.000000000",
          "2018-11-12T00:00:00.000000000",
          "2018-11-19T00:00:00.000000000",
          "2018-11-26T00:00:00.000000000",
          "2018-12-03T00:00:00.000000000",
          "2018-12-10T00:00:00.000000000",
          "2018-12-17T00:00:00.000000000",
          "2018-12-24T00:00:00.000000000",
          "2019-01-07T00:00:00.000000000",
          "2019-01-14T00:00:00.000000000",
          "2019-01-21T00:00:00.000000000",
          "2019-01-28T00:00:00.000000000",
          "2019-02-04T00:00:00.000000000",
          "2019-02-11T00:00:00.000000000",
          "2019-02-18T00:00:00.000000000",
          "2019-02-25T00:00:00.000000000",
          "2019-03-04T00:00:00.000000000",
          "2019-03-11T00:00:00.000000000",
          "2019-03-18T00:00:00.000000000",
          "2019-03-25T00:00:00.000000000",
          "2019-04-01T00:00:00.000000000",
          "2019-04-08T00:00:00.000000000",
          "2019-04-15T00:00:00.000000000",
          "2019-04-22T00:00:00.000000000",
          "2019-04-29T00:00:00.000000000",
          "2019-05-06T00:00:00.000000000",
          "2019-05-13T00:00:00.000000000",
          "2019-05-20T00:00:00.000000000",
          "2019-05-27T00:00:00.000000000",
          "2019-06-03T00:00:00.000000000",
          "2019-06-10T00:00:00.000000000",
          "2019-06-17T00:00:00.000000000",
          "2019-06-24T00:00:00.000000000",
          "2019-07-01T00:00:00.000000000",
          "2019-07-08T00:00:00.000000000",
          "2019-07-15T00:00:00.000000000",
          "2019-07-22T00:00:00.000000000",
          "2019-07-29T00:00:00.000000000",
          "2019-08-05T00:00:00.000000000",
          "2019-08-12T00:00:00.000000000",
          "2019-08-19T00:00:00.000000000",
          "2019-08-26T00:00:00.000000000",
          "2019-09-02T00:00:00.000000000",
          "2019-09-09T00:00:00.000000000",
          "2019-09-16T00:00:00.000000000",
          "2019-09-23T00:00:00.000000000",
          "2019-09-30T00:00:00.000000000",
          "2019-10-07T00:00:00.000000000",
          "2019-10-14T00:00:00.000000000",
          "2019-10-21T00:00:00.000000000",
          "2019-10-28T00:00:00.000000000",
          "2019-11-04T00:00:00.000000000",
          "2019-11-11T00:00:00.000000000",
          "2019-11-18T00:00:00.000000000",
          "2019-11-25T00:00:00.000000000",
          "2019-12-02T00:00:00.000000000",
          "2019-12-09T00:00:00.000000000",
          "2019-12-16T00:00:00.000000000",
          "2019-12-23T00:00:00.000000000",
          "2019-12-30T00:00:00.000000000",
          "2020-01-06T00:00:00.000000000",
          "2020-01-13T00:00:00.000000000",
          "2020-01-20T00:00:00.000000000",
          "2020-01-27T00:00:00.000000000",
          "2020-02-03T00:00:00.000000000",
          "2020-02-10T00:00:00.000000000",
          "2020-02-17T00:00:00.000000000",
          "2020-02-24T00:00:00.000000000",
          "2020-03-02T00:00:00.000000000",
          "2020-03-09T00:00:00.000000000",
          "2020-03-16T00:00:00.000000000",
          "2020-03-23T00:00:00.000000000",
          "2020-03-30T00:00:00.000000000",
          "2020-04-06T00:00:00.000000000",
          "2020-04-13T00:00:00.000000000",
          "2020-04-20T00:00:00.000000000",
          "2020-04-27T00:00:00.000000000",
          "2020-05-04T00:00:00.000000000",
          "2020-05-11T00:00:00.000000000",
          "2020-05-18T00:00:00.000000000",
          "2020-05-25T00:00:00.000000000",
          "2020-06-01T00:00:00.000000000",
          "2020-06-08T00:00:00.000000000",
          "2020-06-15T00:00:00.000000000",
          "2020-06-22T00:00:00.000000000",
          "2020-06-29T00:00:00.000000000",
          "2020-07-06T00:00:00.000000000",
          "2020-07-13T00:00:00.000000000",
          "2020-07-20T00:00:00.000000000",
          "2020-07-27T00:00:00.000000000",
          "2020-08-03T00:00:00.000000000",
          "2020-08-10T00:00:00.000000000",
          "2020-08-17T00:00:00.000000000",
          "2020-08-24T00:00:00.000000000",
          "2020-08-31T00:00:00.000000000",
          "2020-09-07T00:00:00.000000000",
          "2020-09-14T00:00:00.000000000",
          "2020-09-21T00:00:00.000000000",
          "2020-09-28T00:00:00.000000000",
          "2020-10-05T00:00:00.000000000",
          "2020-10-12T00:00:00.000000000",
          "2020-10-19T00:00:00.000000000",
          "2020-10-26T00:00:00.000000000",
          "2020-11-02T00:00:00.000000000",
          "2020-11-09T00:00:00.000000000",
          "2020-11-16T00:00:00.000000000",
          "2020-11-23T00:00:00.000000000",
          "2020-11-30T00:00:00.000000000",
          "2020-12-07T00:00:00.000000000",
          "2020-12-14T00:00:00.000000000",
          "2020-12-21T00:00:00.000000000",
          "2020-12-28T00:00:00.000000000",
          "2021-01-04T00:00:00.000000000",
          "2021-01-04T00:00:00.000000000",
          "2021-01-11T00:00:00.000000000",
          "2021-01-18T00:00:00.000000000",
          "2021-01-25T00:00:00.000000000",
          "2021-02-01T00:00:00.000000000",
          "2021-02-08T00:00:00.000000000",
          "2021-02-15T00:00:00.000000000",
          "2021-02-22T00:00:00.000000000",
          "2021-03-01T00:00:00.000000000",
          "2021-03-08T00:00:00.000000000",
          "2021-03-15T00:00:00.000000000",
          "2021-03-22T00:00:00.000000000",
          "2021-03-29T00:00:00.000000000",
          "2021-04-05T00:00:00.000000000",
          "2021-04-12T00:00:00.000000000",
          "2021-04-19T00:00:00.000000000",
          "2021-04-26T00:00:00.000000000",
          "2021-05-03T00:00:00.000000000",
          "2021-05-10T00:00:00.000000000",
          "2021-05-17T00:00:00.000000000",
          "2021-05-24T00:00:00.000000000",
          "2021-05-31T00:00:00.000000000",
          "2021-06-07T00:00:00.000000000",
          "2021-06-14T00:00:00.000000000",
          "2021-06-21T00:00:00.000000000",
          "2021-06-28T00:00:00.000000000",
          "2021-07-05T00:00:00.000000000",
          "2021-07-12T00:00:00.000000000",
          "2021-07-19T00:00:00.000000000",
          "2021-07-26T00:00:00.000000000",
          "2021-08-02T00:00:00.000000000",
          "2021-08-09T00:00:00.000000000",
          "2021-08-16T00:00:00.000000000",
          "2021-08-23T00:00:00.000000000",
          "2021-08-30T00:00:00.000000000",
          "2021-09-06T00:00:00.000000000",
          "2021-09-13T00:00:00.000000000",
          "2021-09-20T00:00:00.000000000",
          "2021-09-27T00:00:00.000000000",
          "2021-10-04T00:00:00.000000000",
          "2021-10-11T00:00:00.000000000",
          "2021-10-18T00:00:00.000000000",
          "2021-10-25T00:00:00.000000000",
          "2021-11-01T00:00:00.000000000",
          "2021-11-08T00:00:00.000000000",
          "2021-11-15T00:00:00.000000000",
          "2021-11-22T00:00:00.000000000",
          "2021-11-29T00:00:00.000000000",
          "2021-12-06T00:00:00.000000000",
          "2021-12-13T00:00:00.000000000",
          "2021-12-20T00:00:00.000000000",
          "2021-12-27T00:00:00.000000000",
          "2022-01-03T00:00:00.000000000"
         ],
         "xaxis": "x2",
         "y": {
          "bdata": "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",
          "dtype": "f8"
         },
         "yaxis": "y2"
        },
        {
         "mode": "lines",
         "name": "Barrio 3",
         "showlegend": true,
         "type": "scatter",
         "x": [
          "2015-01-05T00:00:00.000000000",
          "2015-01-12T00:00:00.000000000",
          "2015-01-19T00:00:00.000000000",
          "2015-01-26T00:00:00.000000000",
          "2015-02-02T00:00:00.000000000",
          "2015-02-09T00:00:00.000000000",
          "2015-02-16T00:00:00.000000000",
          "2015-02-23T00:00:00.000000000",
          "2015-03-02T00:00:00.000000000",
          "2015-03-09T00:00:00.000000000",
          "2015-03-16T00:00:00.000000000",
          "2015-03-23T00:00:00.000000000",
          "2015-03-30T00:00:00.000000000",
          "2015-04-06T00:00:00.000000000",
          "2015-04-13T00:00:00.000000000",
          "2015-04-20T00:00:00.000000000",
          "2015-04-27T00:00:00.000000000",
          "2015-05-04T00:00:00.000000000",
          "2015-05-11T00:00:00.000000000",
          "2015-05-18T00:00:00.000000000",
          "2015-05-25T00:00:00.000000000",
          "2015-06-01T00:00:00.000000000",
          "2015-06-08T00:00:00.000000000",
          "2015-06-15T00:00:00.000000000",
          "2015-06-22T00:00:00.000000000",
          "2015-06-29T00:00:00.000000000",
          "2015-07-06T00:00:00.000000000",
          "2015-07-13T00:00:00.000000000",
          "2015-07-20T00:00:00.000000000",
          "2015-07-27T00:00:00.000000000",
          "2015-08-03T00:00:00.000000000",
          "2015-08-10T00:00:00.000000000",
          "2015-08-17T00:00:00.000000000",
          "2015-08-24T00:00:00.000000000",
          "2015-08-31T00:00:00.000000000",
          "2015-09-07T00:00:00.000000000",
          "2015-09-14T00:00:00.000000000",
          "2015-09-21T00:00:00.000000000",
          "2015-09-28T00:00:00.000000000",
          "2015-10-05T00:00:00.000000000",
          "2015-10-12T00:00:00.000000000",
          "2015-10-19T00:00:00.000000000",
          "2015-10-26T00:00:00.000000000",
          "2015-11-02T00:00:00.000000000",
          "2015-11-09T00:00:00.000000000",
          "2015-11-16T00:00:00.000000000",
          "2015-11-23T00:00:00.000000000",
          "2015-11-30T00:00:00.000000000",
          "2015-12-07T00:00:00.000000000",
          "2015-12-14T00:00:00.000000000",
          "2015-12-21T00:00:00.000000000",
          "2015-12-28T00:00:00.000000000",
          "2016-01-04T00:00:00.000000000",
          "2016-01-04T00:00:00.000000000",
          "2016-01-11T00:00:00.000000000",
          "2016-01-18T00:00:00.000000000",
          "2016-01-25T00:00:00.000000000",
          "2016-02-01T00:00:00.000000000",
          "2016-02-08T00:00:00.000000000",
          "2016-02-15T00:00:00.000000000",
          "2016-02-22T00:00:00.000000000",
          "2016-02-29T00:00:00.000000000",
          "2016-03-07T00:00:00.000000000",
          "2016-03-14T00:00:00.000000000",
          "2016-03-21T00:00:00.000000000",
          "2016-03-28T00:00:00.000000000",
          "2016-04-04T00:00:00.000000000",
          "2016-04-11T00:00:00.000000000",
          "2016-04-18T00:00:00.000000000",
          "2016-04-25T00:00:00.000000000",
          "2016-05-02T00:00:00.000000000",
          "2016-05-09T00:00:00.000000000",
          "2016-05-16T00:00:00.000000000",
          "2016-05-23T00:00:00.000000000",
          "2016-05-30T00:00:00.000000000",
          "2016-06-06T00:00:00.000000000",
          "2016-06-13T00:00:00.000000000",
          "2016-06-20T00:00:00.000000000",
          "2016-06-27T00:00:00.000000000",
          "2016-07-04T00:00:00.000000000",
          "2016-07-11T00:00:00.000000000",
          "2016-07-18T00:00:00.000000000",
          "2016-07-25T00:00:00.000000000",
          "2016-08-01T00:00:00.000000000",
          "2016-08-08T00:00:00.000000000",
          "2016-08-15T00:00:00.000000000",
          "2016-08-22T00:00:00.000000000",
          "2016-08-29T00:00:00.000000000",
          "2016-09-05T00:00:00.000000000",
          "2016-09-12T00:00:00.000000000",
          "2016-09-19T00:00:00.000000000",
          "2016-09-26T00:00:00.000000000",
          "2016-10-03T00:00:00.000000000",
          "2016-10-10T00:00:00.000000000",
          "2016-10-17T00:00:00.000000000",
          "2016-10-24T00:00:00.000000000",
          "2016-10-31T00:00:00.000000000",
          "2016-11-07T00:00:00.000000000",
          "2016-11-14T00:00:00.000000000",
          "2016-11-21T00:00:00.000000000",
          "2016-11-28T00:00:00.000000000",
          "2016-12-05T00:00:00.000000000",
          "2016-12-12T00:00:00.000000000",
          "2016-12-19T00:00:00.000000000",
          "2016-12-26T00:00:00.000000000",
          "2017-01-02T00:00:00.000000000",
          "2017-01-02T00:00:00.000000000",
          "2017-01-09T00:00:00.000000000",
          "2017-01-16T00:00:00.000000000",
          "2017-01-23T00:00:00.000000000",
          "2017-01-30T00:00:00.000000000",
          "2017-02-06T00:00:00.000000000",
          "2017-02-13T00:00:00.000000000",
          "2017-02-20T00:00:00.000000000",
          "2017-02-27T00:00:00.000000000",
          "2017-03-06T00:00:00.000000000",
          "2017-03-13T00:00:00.000000000",
          "2017-03-20T00:00:00.000000000",
          "2017-03-27T00:00:00.000000000",
          "2017-04-03T00:00:00.000000000",
          "2017-04-10T00:00:00.000000000",
          "2017-04-17T00:00:00.000000000",
          "2017-04-24T00:00:00.000000000",
          "2017-05-01T00:00:00.000000000",
          "2017-05-08T00:00:00.000000000",
          "2017-05-15T00:00:00.000000000",
          "2017-05-22T00:00:00.000000000",
          "2017-05-29T00:00:00.000000000",
          "2017-06-05T00:00:00.000000000",
          "2017-06-12T00:00:00.000000000",
          "2017-06-19T00:00:00.000000000",
          "2017-06-26T00:00:00.000000000",
          "2017-07-03T00:00:00.000000000",
          "2017-07-10T00:00:00.000000000",
          "2017-07-17T00:00:00.000000000",
          "2017-07-24T00:00:00.000000000",
          "2017-07-31T00:00:00.000000000",
          "2017-08-07T00:00:00.000000000",
          "2017-08-14T00:00:00.000000000",
          "2017-08-21T00:00:00.000000000",
          "2017-08-28T00:00:00.000000000",
          "2017-09-04T00:00:00.000000000",
          "2017-09-11T00:00:00.000000000",
          "2017-09-18T00:00:00.000000000",
          "2017-09-25T00:00:00.000000000",
          "2017-10-02T00:00:00.000000000",
          "2017-10-09T00:00:00.000000000",
          "2017-10-16T00:00:00.000000000",
          "2017-10-23T00:00:00.000000000",
          "2017-10-30T00:00:00.000000000",
          "2017-11-06T00:00:00.000000000",
          "2017-11-13T00:00:00.000000000",
          "2017-11-20T00:00:00.000000000",
          "2017-11-27T00:00:00.000000000",
          "2017-12-04T00:00:00.000000000",
          "2017-12-11T00:00:00.000000000",
          "2017-12-18T00:00:00.000000000",
          "2017-12-25T00:00:00.000000000",
          "2018-01-01T00:00:00.000000000",
          "2018-01-08T00:00:00.000000000",
          "2018-01-15T00:00:00.000000000",
          "2018-01-22T00:00:00.000000000",
          "2018-01-29T00:00:00.000000000",
          "2018-02-05T00:00:00.000000000",
          "2018-02-12T00:00:00.000000000",
          "2018-02-19T00:00:00.000000000",
          "2018-02-26T00:00:00.000000000",
          "2018-03-05T00:00:00.000000000",
          "2018-03-12T00:00:00.000000000",
          "2018-03-19T00:00:00.000000000",
          "2018-03-26T00:00:00.000000000",
          "2018-04-02T00:00:00.000000000",
          "2018-04-09T00:00:00.000000000",
          "2018-04-16T00:00:00.000000000",
          "2018-04-23T00:00:00.000000000",
          "2018-04-30T00:00:00.000000000",
          "2018-05-07T00:00:00.000000000",
          "2018-05-14T00:00:00.000000000",
          "2018-05-21T00:00:00.000000000",
          "2018-05-28T00:00:00.000000000",
          "2018-06-04T00:00:00.000000000",
          "2018-06-11T00:00:00.000000000",
          "2018-06-18T00:00:00.000000000",
          "2018-06-25T00:00:00.000000000",
          "2018-07-02T00:00:00.000000000",
          "2018-07-09T00:00:00.000000000",
          "2018-07-16T00:00:00.000000000",
          "2018-07-23T00:00:00.000000000",
          "2018-07-30T00:00:00.000000000",
          "2018-08-06T00:00:00.000000000",
          "2018-08-13T00:00:00.000000000",
          "2018-08-20T00:00:00.000000000",
          "2018-08-27T00:00:00.000000000",
          "2018-09-03T00:00:00.000000000",
          "2018-09-10T00:00:00.000000000",
          "2018-09-17T00:00:00.000000000",
          "2018-09-24T00:00:00.000000000",
          "2018-10-01T00:00:00.000000000",
          "2018-10-08T00:00:00.000000000",
          "2018-10-15T00:00:00.000000000",
          "2018-10-22T00:00:00.000000000",
          "2018-10-29T00:00:00.000000000",
          "2018-11-05T00:00:00.000000000",
          "2018-11-12T00:00:00.000000000",
          "2018-11-19T00:00:00.000000000",
          "2018-11-26T00:00:00.000000000",
          "2018-12-03T00:00:00.000000000",
          "2018-12-10T00:00:00.000000000",
          "2018-12-17T00:00:00.000000000",
          "2018-12-24T00:00:00.000000000",
          "2019-01-07T00:00:00.000000000",
          "2019-01-14T00:00:00.000000000",
          "2019-01-21T00:00:00.000000000",
          "2019-01-28T00:00:00.000000000",
          "2019-02-04T00:00:00.000000000",
          "2019-02-11T00:00:00.000000000",
          "2019-02-18T00:00:00.000000000",
          "2019-02-25T00:00:00.000000000",
          "2019-03-04T00:00:00.000000000",
          "2019-03-11T00:00:00.000000000",
          "2019-03-18T00:00:00.000000000",
          "2019-03-25T00:00:00.000000000",
          "2019-04-01T00:00:00.000000000",
          "2019-04-08T00:00:00.000000000",
          "2019-04-15T00:00:00.000000000",
          "2019-04-22T00:00:00.000000000",
          "2019-04-29T00:00:00.000000000",
          "2019-05-06T00:00:00.000000000",
          "2019-05-13T00:00:00.000000000",
          "2019-05-20T00:00:00.000000000",
          "2019-05-27T00:00:00.000000000",
          "2019-06-03T00:00:00.000000000",
          "2019-06-10T00:00:00.000000000",
          "2019-06-17T00:00:00.000000000",
          "2019-06-24T00:00:00.000000000",
          "2019-07-01T00:00:00.000000000",
          "2019-07-08T00:00:00.000000000",
          "2019-07-15T00:00:00.000000000",
          "2019-07-22T00:00:00.000000000",
          "2019-07-29T00:00:00.000000000",
          "2019-08-05T00:00:00.000000000",
          "2019-08-12T00:00:00.000000000",
          "2019-08-19T00:00:00.000000000",
          "2019-08-26T00:00:00.000000000",
          "2019-09-02T00:00:00.000000000",
          "2019-09-09T00:00:00.000000000",
          "2019-09-16T00:00:00.000000000",
          "2019-09-23T00:00:00.000000000",
          "2019-09-30T00:00:00.000000000",
          "2019-10-07T00:00:00.000000000",
          "2019-10-14T00:00:00.000000000",
          "2019-10-21T00:00:00.000000000",
          "2019-10-28T00:00:00.000000000",
          "2019-11-04T00:00:00.000000000",
          "2019-11-11T00:00:00.000000000",
          "2019-11-18T00:00:00.000000000",
          "2019-11-25T00:00:00.000000000",
          "2019-12-02T00:00:00.000000000",
          "2019-12-09T00:00:00.000000000",
          "2019-12-16T00:00:00.000000000",
          "2019-12-23T00:00:00.000000000",
          "2019-12-30T00:00:00.000000000",
          "2020-01-06T00:00:00.000000000",
          "2020-01-13T00:00:00.000000000",
          "2020-01-20T00:00:00.000000000",
          "2020-01-27T00:00:00.000000000",
          "2020-02-03T00:00:00.000000000",
          "2020-02-10T00:00:00.000000000",
          "2020-02-17T00:00:00.000000000",
          "2020-02-24T00:00:00.000000000",
          "2020-03-02T00:00:00.000000000",
          "2020-03-09T00:00:00.000000000",
          "2020-03-16T00:00:00.000000000",
          "2020-03-23T00:00:00.000000000",
          "2020-03-30T00:00:00.000000000",
          "2020-04-06T00:00:00.000000000",
          "2020-04-13T00:00:00.000000000",
          "2020-04-20T00:00:00.000000000",
          "2020-04-27T00:00:00.000000000",
          "2020-05-04T00:00:00.000000000",
          "2020-05-11T00:00:00.000000000",
          "2020-05-18T00:00:00.000000000",
          "2020-05-25T00:00:00.000000000",
          "2020-06-01T00:00:00.000000000",
          "2020-06-08T00:00:00.000000000",
          "2020-06-15T00:00:00.000000000",
          "2020-06-22T00:00:00.000000000",
          "2020-06-29T00:00:00.000000000",
          "2020-07-06T00:00:00.000000000",
          "2020-07-13T00:00:00.000000000",
          "2020-07-20T00:00:00.000000000",
          "2020-07-27T00:00:00.000000000",
          "2020-08-03T00:00:00.000000000",
          "2020-08-10T00:00:00.000000000",
          "2020-08-17T00:00:00.000000000",
          "2020-08-24T00:00:00.000000000",
          "2020-08-31T00:00:00.000000000",
          "2020-09-07T00:00:00.000000000",
          "2020-09-14T00:00:00.000000000",
          "2020-09-21T00:00:00.000000000",
          "2020-09-28T00:00:00.000000000",
          "2020-10-05T00:00:00.000000000",
          "2020-10-12T00:00:00.000000000",
          "2020-10-19T00:00:00.000000000",
          "2020-10-26T00:00:00.000000000",
          "2020-11-02T00:00:00.000000000",
          "2020-11-09T00:00:00.000000000",
          "2020-11-16T00:00:00.000000000",
          "2020-11-23T00:00:00.000000000",
          "2020-11-30T00:00:00.000000000",
          "2020-12-07T00:00:00.000000000",
          "2020-12-14T00:00:00.000000000",
          "2020-12-21T00:00:00.000000000",
          "2020-12-28T00:00:00.000000000",
          "2021-01-04T00:00:00.000000000",
          "2021-01-04T00:00:00.000000000",
          "2021-01-11T00:00:00.000000000",
          "2021-01-18T00:00:00.000000000",
          "2021-01-25T00:00:00.000000000",
          "2021-02-01T00:00:00.000000000",
          "2021-02-08T00:00:00.000000000",
          "2021-02-15T00:00:00.000000000",
          "2021-02-22T00:00:00.000000000",
          "2021-03-01T00:00:00.000000000",
          "2021-03-08T00:00:00.000000000",
          "2021-03-15T00:00:00.000000000",
          "2021-03-22T00:00:00.000000000",
          "2021-03-29T00:00:00.000000000",
          "2021-04-05T00:00:00.000000000",
          "2021-04-12T00:00:00.000000000",
          "2021-04-19T00:00:00.000000000",
          "2021-04-26T00:00:00.000000000",
          "2021-05-03T00:00:00.000000000",
          "2021-05-10T00:00:00.000000000",
          "2021-05-17T00:00:00.000000000",
          "2021-05-24T00:00:00.000000000",
          "2021-05-31T00:00:00.000000000",
          "2021-06-07T00:00:00.000000000",
          "2021-06-14T00:00:00.000000000",
          "2021-06-21T00:00:00.000000000",
          "2021-06-28T00:00:00.000000000",
          "2021-07-05T00:00:00.000000000",
          "2021-07-12T00:00:00.000000000",
          "2021-07-19T00:00:00.000000000",
          "2021-07-26T00:00:00.000000000",
          "2021-08-02T00:00:00.000000000",
          "2021-08-09T00:00:00.000000000",
          "2021-08-16T00:00:00.000000000",
          "2021-08-23T00:00:00.000000000",
          "2021-08-30T00:00:00.000000000",
          "2021-09-06T00:00:00.000000000",
          "2021-09-13T00:00:00.000000000",
          "2021-09-20T00:00:00.000000000",
          "2021-09-27T00:00:00.000000000",
          "2021-10-04T00:00:00.000000000",
          "2021-10-11T00:00:00.000000000",
          "2021-10-18T00:00:00.000000000",
          "2021-10-25T00:00:00.000000000",
          "2021-11-01T00:00:00.000000000",
          "2021-11-08T00:00:00.000000000",
          "2021-11-15T00:00:00.000000000",
          "2021-11-22T00:00:00.000000000",
          "2021-11-29T00:00:00.000000000",
          "2021-12-06T00:00:00.000000000",
          "2021-12-13T00:00:00.000000000",
          "2021-12-20T00:00:00.000000000",
          "2021-12-27T00:00:00.000000000",
          "2022-01-03T00:00:00.000000000"
         ],
         "xaxis": "x3",
         "y": {
          "bdata": "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",
          "dtype": "f8"
         },
         "yaxis": "y3"
        },
        {
         "mode": "lines",
         "name": "Barrio 8",
         "showlegend": true,
         "type": "scatter",
         "x": [
          "2015-01-05T00:00:00.000000000",
          "2015-01-12T00:00:00.000000000",
          "2015-01-19T00:00:00.000000000",
          "2015-01-26T00:00:00.000000000",
          "2015-02-02T00:00:00.000000000",
          "2015-02-09T00:00:00.000000000",
          "2015-02-16T00:00:00.000000000",
          "2015-02-23T00:00:00.000000000",
          "2015-03-02T00:00:00.000000000",
          "2015-03-09T00:00:00.000000000",
          "2015-03-16T00:00:00.000000000",
          "2015-03-23T00:00:00.000000000",
          "2015-03-30T00:00:00.000000000",
          "2015-04-06T00:00:00.000000000",
          "2015-04-13T00:00:00.000000000",
          "2015-04-20T00:00:00.000000000",
          "2015-04-27T00:00:00.000000000",
          "2015-05-04T00:00:00.000000000",
          "2015-05-11T00:00:00.000000000",
          "2015-05-18T00:00:00.000000000",
          "2015-05-25T00:00:00.000000000",
          "2015-06-01T00:00:00.000000000",
          "2015-06-08T00:00:00.000000000",
          "2015-06-15T00:00:00.000000000",
          "2015-06-22T00:00:00.000000000",
          "2015-06-29T00:00:00.000000000",
          "2015-07-06T00:00:00.000000000",
          "2015-07-13T00:00:00.000000000",
          "2015-07-20T00:00:00.000000000",
          "2015-07-27T00:00:00.000000000",
          "2015-08-03T00:00:00.000000000",
          "2015-08-10T00:00:00.000000000",
          "2015-08-17T00:00:00.000000000",
          "2015-08-24T00:00:00.000000000",
          "2015-08-31T00:00:00.000000000",
          "2015-09-07T00:00:00.000000000",
          "2015-09-14T00:00:00.000000000",
          "2015-09-21T00:00:00.000000000",
          "2015-09-28T00:00:00.000000000",
          "2015-10-05T00:00:00.000000000",
          "2015-10-12T00:00:00.000000000",
          "2015-10-19T00:00:00.000000000",
          "2015-10-26T00:00:00.000000000",
          "2015-11-02T00:00:00.000000000",
          "2015-11-09T00:00:00.000000000",
          "2015-11-16T00:00:00.000000000",
          "2015-11-23T00:00:00.000000000",
          "2015-11-30T00:00:00.000000000",
          "2015-12-07T00:00:00.000000000",
          "2015-12-14T00:00:00.000000000",
          "2015-12-21T00:00:00.000000000",
          "2015-12-28T00:00:00.000000000",
          "2016-01-04T00:00:00.000000000",
          "2016-01-04T00:00:00.000000000",
          "2016-01-11T00:00:00.000000000",
          "2016-01-18T00:00:00.000000000",
          "2016-01-25T00:00:00.000000000",
          "2016-02-01T00:00:00.000000000",
          "2016-02-08T00:00:00.000000000",
          "2016-02-15T00:00:00.000000000",
          "2016-02-22T00:00:00.000000000",
          "2016-02-29T00:00:00.000000000",
          "2016-03-07T00:00:00.000000000",
          "2016-03-14T00:00:00.000000000",
          "2016-03-21T00:00:00.000000000",
          "2016-03-28T00:00:00.000000000",
          "2016-04-04T00:00:00.000000000",
          "2016-04-11T00:00:00.000000000",
          "2016-04-18T00:00:00.000000000",
          "2016-04-25T00:00:00.000000000",
          "2016-05-02T00:00:00.000000000",
          "2016-05-09T00:00:00.000000000",
          "2016-05-16T00:00:00.000000000",
          "2016-05-23T00:00:00.000000000",
          "2016-05-30T00:00:00.000000000",
          "2016-06-06T00:00:00.000000000",
          "2016-06-13T00:00:00.000000000",
          "2016-06-20T00:00:00.000000000",
          "2016-06-27T00:00:00.000000000",
          "2016-07-04T00:00:00.000000000",
          "2016-07-11T00:00:00.000000000",
          "2016-07-18T00:00:00.000000000",
          "2016-07-25T00:00:00.000000000",
          "2016-08-01T00:00:00.000000000",
          "2016-08-08T00:00:00.000000000",
          "2016-08-15T00:00:00.000000000",
          "2016-08-22T00:00:00.000000000",
          "2016-08-29T00:00:00.000000000",
          "2016-09-05T00:00:00.000000000",
          "2016-09-12T00:00:00.000000000",
          "2016-09-19T00:00:00.000000000",
          "2016-09-26T00:00:00.000000000",
          "2016-10-03T00:00:00.000000000",
          "2016-10-10T00:00:00.000000000",
          "2016-10-17T00:00:00.000000000",
          "2016-10-24T00:00:00.000000000",
          "2016-10-31T00:00:00.000000000",
          "2016-11-07T00:00:00.000000000",
          "2016-11-14T00:00:00.000000000",
          "2016-11-21T00:00:00.000000000",
          "2016-11-28T00:00:00.000000000",
          "2016-12-05T00:00:00.000000000",
          "2016-12-12T00:00:00.000000000",
          "2016-12-19T00:00:00.000000000",
          "2016-12-26T00:00:00.000000000",
          "2017-01-02T00:00:00.000000000",
          "2017-01-02T00:00:00.000000000",
          "2017-01-09T00:00:00.000000000",
          "2017-01-16T00:00:00.000000000",
          "2017-01-23T00:00:00.000000000",
          "2017-01-30T00:00:00.000000000",
          "2017-02-06T00:00:00.000000000",
          "2017-02-13T00:00:00.000000000",
          "2017-02-20T00:00:00.000000000",
          "2017-02-27T00:00:00.000000000",
          "2017-03-06T00:00:00.000000000",
          "2017-03-13T00:00:00.000000000",
          "2017-03-20T00:00:00.000000000",
          "2017-03-27T00:00:00.000000000",
          "2017-04-03T00:00:00.000000000",
          "2017-04-10T00:00:00.000000000",
          "2017-04-17T00:00:00.000000000",
          "2017-04-24T00:00:00.000000000",
          "2017-05-01T00:00:00.000000000",
          "2017-05-08T00:00:00.000000000",
          "2017-05-15T00:00:00.000000000",
          "2017-05-22T00:00:00.000000000",
          "2017-05-29T00:00:00.000000000",
          "2017-06-05T00:00:00.000000000",
          "2017-06-12T00:00:00.000000000",
          "2017-06-19T00:00:00.000000000",
          "2017-06-26T00:00:00.000000000",
          "2017-07-03T00:00:00.000000000",
          "2017-07-10T00:00:00.000000000",
          "2017-07-17T00:00:00.000000000",
          "2017-07-24T00:00:00.000000000",
          "2017-07-31T00:00:00.000000000",
          "2017-08-07T00:00:00.000000000",
          "2017-08-14T00:00:00.000000000",
          "2017-08-21T00:00:00.000000000",
          "2017-08-28T00:00:00.000000000",
          "2017-09-04T00:00:00.000000000",
          "2017-09-11T00:00:00.000000000",
          "2017-09-18T00:00:00.000000000",
          "2017-09-25T00:00:00.000000000",
          "2017-10-02T00:00:00.000000000",
          "2017-10-09T00:00:00.000000000",
          "2017-10-16T00:00:00.000000000",
          "2017-10-23T00:00:00.000000000",
          "2017-10-30T00:00:00.000000000",
          "2017-11-06T00:00:00.000000000",
          "2017-11-13T00:00:00.000000000",
          "2017-11-20T00:00:00.000000000",
          "2017-11-27T00:00:00.000000000",
          "2017-12-04T00:00:00.000000000",
          "2017-12-11T00:00:00.000000000",
          "2017-12-18T00:00:00.000000000",
          "2017-12-25T00:00:00.000000000",
          "2018-01-01T00:00:00.000000000",
          "2018-01-08T00:00:00.000000000",
          "2018-01-15T00:00:00.000000000",
          "2018-01-22T00:00:00.000000000",
          "2018-01-29T00:00:00.000000000",
          "2018-02-05T00:00:00.000000000",
          "2018-02-12T00:00:00.000000000",
          "2018-02-19T00:00:00.000000000",
          "2018-02-26T00:00:00.000000000",
          "2018-03-05T00:00:00.000000000",
          "2018-03-12T00:00:00.000000000",
          "2018-03-19T00:00:00.000000000",
          "2018-03-26T00:00:00.000000000",
          "2018-04-02T00:00:00.000000000",
          "2018-04-09T00:00:00.000000000",
          "2018-04-16T00:00:00.000000000",
          "2018-04-23T00:00:00.000000000",
          "2018-04-30T00:00:00.000000000",
          "2018-05-07T00:00:00.000000000",
          "2018-05-14T00:00:00.000000000",
          "2018-05-21T00:00:00.000000000",
          "2018-05-28T00:00:00.000000000",
          "2018-06-04T00:00:00.000000000",
          "2018-06-11T00:00:00.000000000",
          "2018-06-18T00:00:00.000000000",
          "2018-06-25T00:00:00.000000000",
          "2018-07-02T00:00:00.000000000",
          "2018-07-09T00:00:00.000000000",
          "2018-07-16T00:00:00.000000000",
          "2018-07-23T00:00:00.000000000",
          "2018-07-30T00:00:00.000000000",
          "2018-08-06T00:00:00.000000000",
          "2018-08-13T00:00:00.000000000",
          "2018-08-20T00:00:00.000000000",
          "2018-08-27T00:00:00.000000000",
          "2018-09-03T00:00:00.000000000",
          "2018-09-10T00:00:00.000000000",
          "2018-09-17T00:00:00.000000000",
          "2018-09-24T00:00:00.000000000",
          "2018-10-01T00:00:00.000000000",
          "2018-10-08T00:00:00.000000000",
          "2018-10-15T00:00:00.000000000",
          "2018-10-22T00:00:00.000000000",
          "2018-10-29T00:00:00.000000000",
          "2018-11-05T00:00:00.000000000",
          "2018-11-12T00:00:00.000000000",
          "2018-11-19T00:00:00.000000000",
          "2018-11-26T00:00:00.000000000",
          "2018-12-03T00:00:00.000000000",
          "2018-12-10T00:00:00.000000000",
          "2018-12-17T00:00:00.000000000",
          "2018-12-24T00:00:00.000000000",
          "2019-01-07T00:00:00.000000000",
          "2019-01-14T00:00:00.000000000",
          "2019-01-21T00:00:00.000000000",
          "2019-01-28T00:00:00.000000000",
          "2019-02-04T00:00:00.000000000",
          "2019-02-11T00:00:00.000000000",
          "2019-02-18T00:00:00.000000000",
          "2019-02-25T00:00:00.000000000",
          "2019-03-04T00:00:00.000000000",
          "2019-03-11T00:00:00.000000000",
          "2019-03-18T00:00:00.000000000",
          "2019-03-25T00:00:00.000000000",
          "2019-04-01T00:00:00.000000000",
          "2019-04-08T00:00:00.000000000",
          "2019-04-15T00:00:00.000000000",
          "2019-04-22T00:00:00.000000000",
          "2019-04-29T00:00:00.000000000",
          "2019-05-06T00:00:00.000000000",
          "2019-05-13T00:00:00.000000000",
          "2019-05-20T00:00:00.000000000",
          "2019-05-27T00:00:00.000000000",
          "2019-06-03T00:00:00.000000000",
          "2019-06-10T00:00:00.000000000",
          "2019-06-17T00:00:00.000000000",
          "2019-06-24T00:00:00.000000000",
          "2019-07-01T00:00:00.000000000",
          "2019-07-08T00:00:00.000000000",
          "2019-07-15T00:00:00.000000000",
          "2019-07-22T00:00:00.000000000",
          "2019-07-29T00:00:00.000000000",
          "2019-08-05T00:00:00.000000000",
          "2019-08-12T00:00:00.000000000",
          "2019-08-19T00:00:00.000000000",
          "2019-08-26T00:00:00.000000000",
          "2019-09-02T00:00:00.000000000",
          "2019-09-09T00:00:00.000000000",
          "2019-09-16T00:00:00.000000000",
          "2019-09-23T00:00:00.000000000",
          "2019-09-30T00:00:00.000000000",
          "2019-10-07T00:00:00.000000000",
          "2019-10-14T00:00:00.000000000",
          "2019-10-21T00:00:00.000000000",
          "2019-10-28T00:00:00.000000000",
          "2019-11-04T00:00:00.000000000",
          "2019-11-11T00:00:00.000000000",
          "2019-11-18T00:00:00.000000000",
          "2019-11-25T00:00:00.000000000",
          "2019-12-02T00:00:00.000000000",
          "2019-12-09T00:00:00.000000000",
          "2019-12-16T00:00:00.000000000",
          "2019-12-23T00:00:00.000000000",
          "2019-12-30T00:00:00.000000000",
          "2020-01-06T00:00:00.000000000",
          "2020-01-13T00:00:00.000000000",
          "2020-01-20T00:00:00.000000000",
          "2020-01-27T00:00:00.000000000",
          "2020-02-03T00:00:00.000000000",
          "2020-02-10T00:00:00.000000000",
          "2020-02-17T00:00:00.000000000",
          "2020-02-24T00:00:00.000000000",
          "2020-03-02T00:00:00.000000000",
          "2020-03-09T00:00:00.000000000",
          "2020-03-16T00:00:00.000000000",
          "2020-03-23T00:00:00.000000000",
          "2020-03-30T00:00:00.000000000",
          "2020-04-06T00:00:00.000000000",
          "2020-04-13T00:00:00.000000000",
          "2020-04-20T00:00:00.000000000",
          "2020-04-27T00:00:00.000000000",
          "2020-05-04T00:00:00.000000000",
          "2020-05-11T00:00:00.000000000",
          "2020-05-18T00:00:00.000000000",
          "2020-05-25T00:00:00.000000000",
          "2020-06-01T00:00:00.000000000",
          "2020-06-08T00:00:00.000000000",
          "2020-06-15T00:00:00.000000000",
          "2020-06-22T00:00:00.000000000",
          "2020-06-29T00:00:00.000000000",
          "2020-07-06T00:00:00.000000000",
          "2020-07-13T00:00:00.000000000",
          "2020-07-20T00:00:00.000000000",
          "2020-07-27T00:00:00.000000000",
          "2020-08-03T00:00:00.000000000",
          "2020-08-10T00:00:00.000000000",
          "2020-08-17T00:00:00.000000000",
          "2020-08-24T00:00:00.000000000",
          "2020-08-31T00:00:00.000000000",
          "2020-09-07T00:00:00.000000000",
          "2020-09-14T00:00:00.000000000",
          "2020-09-21T00:00:00.000000000",
          "2020-09-28T00:00:00.000000000",
          "2020-10-05T00:00:00.000000000",
          "2020-10-12T00:00:00.000000000",
          "2020-10-19T00:00:00.000000000",
          "2020-10-26T00:00:00.000000000",
          "2020-11-02T00:00:00.000000000",
          "2020-11-09T00:00:00.000000000",
          "2020-11-16T00:00:00.000000000",
          "2020-11-23T00:00:00.000000000",
          "2020-11-30T00:00:00.000000000",
          "2020-12-07T00:00:00.000000000",
          "2020-12-14T00:00:00.000000000",
          "2020-12-21T00:00:00.000000000",
          "2020-12-28T00:00:00.000000000",
          "2021-01-04T00:00:00.000000000",
          "2021-01-04T00:00:00.000000000",
          "2021-01-11T00:00:00.000000000",
          "2021-01-18T00:00:00.000000000",
          "2021-01-25T00:00:00.000000000",
          "2021-02-01T00:00:00.000000000",
          "2021-02-08T00:00:00.000000000",
          "2021-02-15T00:00:00.000000000",
          "2021-02-22T00:00:00.000000000",
          "2021-03-01T00:00:00.000000000",
          "2021-03-08T00:00:00.000000000",
          "2021-03-15T00:00:00.000000000",
          "2021-03-22T00:00:00.000000000",
          "2021-03-29T00:00:00.000000000",
          "2021-04-05T00:00:00.000000000",
          "2021-04-12T00:00:00.000000000",
          "2021-04-19T00:00:00.000000000",
          "2021-04-26T00:00:00.000000000",
          "2021-05-03T00:00:00.000000000",
          "2021-05-10T00:00:00.000000000",
          "2021-05-17T00:00:00.000000000",
          "2021-05-24T00:00:00.000000000",
          "2021-05-31T00:00:00.000000000",
          "2021-06-07T00:00:00.000000000",
          "2021-06-14T00:00:00.000000000",
          "2021-06-21T00:00:00.000000000",
          "2021-06-28T00:00:00.000000000",
          "2021-07-05T00:00:00.000000000",
          "2021-07-12T00:00:00.000000000",
          "2021-07-19T00:00:00.000000000",
          "2021-07-26T00:00:00.000000000",
          "2021-08-02T00:00:00.000000000",
          "2021-08-09T00:00:00.000000000",
          "2021-08-16T00:00:00.000000000",
          "2021-08-23T00:00:00.000000000",
          "2021-08-30T00:00:00.000000000",
          "2021-09-06T00:00:00.000000000",
          "2021-09-13T00:00:00.000000000",
          "2021-09-20T00:00:00.000000000",
          "2021-09-27T00:00:00.000000000",
          "2021-10-04T00:00:00.000000000",
          "2021-10-11T00:00:00.000000000",
          "2021-10-18T00:00:00.000000000",
          "2021-10-25T00:00:00.000000000",
          "2021-11-01T00:00:00.000000000",
          "2021-11-08T00:00:00.000000000",
          "2021-11-15T00:00:00.000000000",
          "2021-11-22T00:00:00.000000000",
          "2021-11-29T00:00:00.000000000",
          "2021-12-06T00:00:00.000000000",
          "2021-12-13T00:00:00.000000000",
          "2021-12-20T00:00:00.000000000",
          "2021-12-27T00:00:00.000000000",
          "2022-01-03T00:00:00.000000000"
         ],
         "xaxis": "x4",
         "y": {
          "bdata": "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",
          "dtype": "f8"
         },
         "yaxis": "y4"
        },
        {
         "mode": "lines",
         "name": "Barrio 9",
         "showlegend": true,
         "type": "scatter",
         "x": [
          "2015-01-05T00:00:00.000000000",
          "2015-01-12T00:00:00.000000000",
          "2015-01-19T00:00:00.000000000",
          "2015-01-26T00:00:00.000000000",
          "2015-02-02T00:00:00.000000000",
          "2015-02-09T00:00:00.000000000",
          "2015-02-16T00:00:00.000000000",
          "2015-02-23T00:00:00.000000000",
          "2015-03-02T00:00:00.000000000",
          "2015-03-09T00:00:00.000000000",
          "2015-03-16T00:00:00.000000000",
          "2015-03-23T00:00:00.000000000",
          "2015-03-30T00:00:00.000000000",
          "2015-04-06T00:00:00.000000000",
          "2015-04-13T00:00:00.000000000",
          "2015-04-20T00:00:00.000000000",
          "2015-04-27T00:00:00.000000000",
          "2015-05-04T00:00:00.000000000",
          "2015-05-11T00:00:00.000000000",
          "2015-05-18T00:00:00.000000000",
          "2015-05-25T00:00:00.000000000",
          "2015-06-01T00:00:00.000000000",
          "2015-06-08T00:00:00.000000000",
          "2015-06-15T00:00:00.000000000",
          "2015-06-22T00:00:00.000000000",
          "2015-06-29T00:00:00.000000000",
          "2015-07-06T00:00:00.000000000",
          "2015-07-13T00:00:00.000000000",
          "2015-07-20T00:00:00.000000000",
          "2015-07-27T00:00:00.000000000",
          "2015-08-03T00:00:00.000000000",
          "2015-08-10T00:00:00.000000000",
          "2015-08-17T00:00:00.000000000",
          "2015-08-24T00:00:00.000000000",
          "2015-08-31T00:00:00.000000000",
          "2015-09-07T00:00:00.000000000",
          "2015-09-14T00:00:00.000000000",
          "2015-09-21T00:00:00.000000000",
          "2015-09-28T00:00:00.000000000",
          "2015-10-05T00:00:00.000000000",
          "2015-10-12T00:00:00.000000000",
          "2015-10-19T00:00:00.000000000",
          "2015-10-26T00:00:00.000000000",
          "2015-11-02T00:00:00.000000000",
          "2015-11-09T00:00:00.000000000",
          "2015-11-16T00:00:00.000000000",
          "2015-11-23T00:00:00.000000000",
          "2015-11-30T00:00:00.000000000",
          "2015-12-07T00:00:00.000000000",
          "2015-12-14T00:00:00.000000000",
          "2015-12-21T00:00:00.000000000",
          "2015-12-28T00:00:00.000000000",
          "2016-01-04T00:00:00.000000000",
          "2016-01-04T00:00:00.000000000",
          "2016-01-11T00:00:00.000000000",
          "2016-01-18T00:00:00.000000000",
          "2016-01-25T00:00:00.000000000",
          "2016-02-01T00:00:00.000000000",
          "2016-02-08T00:00:00.000000000",
          "2016-02-15T00:00:00.000000000",
          "2016-02-22T00:00:00.000000000",
          "2016-02-29T00:00:00.000000000",
          "2016-03-07T00:00:00.000000000",
          "2016-03-14T00:00:00.000000000",
          "2016-03-21T00:00:00.000000000",
          "2016-03-28T00:00:00.000000000",
          "2016-04-04T00:00:00.000000000",
          "2016-04-11T00:00:00.000000000",
          "2016-04-18T00:00:00.000000000",
          "2016-04-25T00:00:00.000000000",
          "2016-05-02T00:00:00.000000000",
          "2016-05-09T00:00:00.000000000",
          "2016-05-16T00:00:00.000000000",
          "2016-05-23T00:00:00.000000000",
          "2016-05-30T00:00:00.000000000",
          "2016-06-06T00:00:00.000000000",
          "2016-06-13T00:00:00.000000000",
          "2016-06-20T00:00:00.000000000",
          "2016-06-27T00:00:00.000000000",
          "2016-07-04T00:00:00.000000000",
          "2016-07-11T00:00:00.000000000",
          "2016-07-18T00:00:00.000000000",
          "2016-07-25T00:00:00.000000000",
          "2016-08-01T00:00:00.000000000",
          "2016-08-08T00:00:00.000000000",
          "2016-08-15T00:00:00.000000000",
          "2016-08-22T00:00:00.000000000",
          "2016-08-29T00:00:00.000000000",
          "2016-09-05T00:00:00.000000000",
          "2016-09-12T00:00:00.000000000",
          "2016-09-19T00:00:00.000000000",
          "2016-09-26T00:00:00.000000000",
          "2016-10-03T00:00:00.000000000",
          "2016-10-10T00:00:00.000000000",
          "2016-10-17T00:00:00.000000000",
          "2016-10-24T00:00:00.000000000",
          "2016-10-31T00:00:00.000000000",
          "2016-11-07T00:00:00.000000000",
          "2016-11-14T00:00:00.000000000",
          "2016-11-21T00:00:00.000000000",
          "2016-11-28T00:00:00.000000000",
          "2016-12-05T00:00:00.000000000",
          "2016-12-12T00:00:00.000000000",
          "2016-12-19T00:00:00.000000000",
          "2016-12-26T00:00:00.000000000",
          "2017-01-02T00:00:00.000000000",
          "2017-01-02T00:00:00.000000000",
          "2017-01-09T00:00:00.000000000",
          "2017-01-16T00:00:00.000000000",
          "2017-01-23T00:00:00.000000000",
          "2017-01-30T00:00:00.000000000",
          "2017-02-06T00:00:00.000000000",
          "2017-02-13T00:00:00.000000000",
          "2017-02-20T00:00:00.000000000",
          "2017-02-27T00:00:00.000000000",
          "2017-03-06T00:00:00.000000000",
          "2017-03-13T00:00:00.000000000",
          "2017-03-20T00:00:00.000000000",
          "2017-03-27T00:00:00.000000000",
          "2017-04-03T00:00:00.000000000",
          "2017-04-10T00:00:00.000000000",
          "2017-04-17T00:00:00.000000000",
          "2017-04-24T00:00:00.000000000",
          "2017-05-01T00:00:00.000000000",
          "2017-05-08T00:00:00.000000000",
          "2017-05-15T00:00:00.000000000",
          "2017-05-22T00:00:00.000000000",
          "2017-05-29T00:00:00.000000000",
          "2017-06-05T00:00:00.000000000",
          "2017-06-12T00:00:00.000000000",
          "2017-06-19T00:00:00.000000000",
          "2017-06-26T00:00:00.000000000",
          "2017-07-03T00:00:00.000000000",
          "2017-07-10T00:00:00.000000000",
          "2017-07-17T00:00:00.000000000",
          "2017-07-24T00:00:00.000000000",
          "2017-07-31T00:00:00.000000000",
          "2017-08-07T00:00:00.000000000",
          "2017-08-14T00:00:00.000000000",
          "2017-08-21T00:00:00.000000000",
          "2017-08-28T00:00:00.000000000",
          "2017-09-04T00:00:00.000000000",
          "2017-09-11T00:00:00.000000000",
          "2017-09-18T00:00:00.000000000",
          "2017-09-25T00:00:00.000000000",
          "2017-10-02T00:00:00.000000000",
          "2017-10-09T00:00:00.000000000",
          "2017-10-16T00:00:00.000000000",
          "2017-10-23T00:00:00.000000000",
          "2017-10-30T00:00:00.000000000",
          "2017-11-06T00:00:00.000000000",
          "2017-11-13T00:00:00.000000000",
          "2017-11-20T00:00:00.000000000",
          "2017-11-27T00:00:00.000000000",
          "2017-12-04T00:00:00.000000000",
          "2017-12-11T00:00:00.000000000",
          "2017-12-18T00:00:00.000000000",
          "2017-12-25T00:00:00.000000000",
          "2018-01-01T00:00:00.000000000",
          "2018-01-08T00:00:00.000000000",
          "2018-01-15T00:00:00.000000000",
          "2018-01-22T00:00:00.000000000",
          "2018-01-29T00:00:00.000000000",
          "2018-02-05T00:00:00.000000000",
          "2018-02-12T00:00:00.000000000",
          "2018-02-19T00:00:00.000000000",
          "2018-02-26T00:00:00.000000000",
          "2018-03-05T00:00:00.000000000",
          "2018-03-12T00:00:00.000000000",
          "2018-03-19T00:00:00.000000000",
          "2018-03-26T00:00:00.000000000",
          "2018-04-02T00:00:00.000000000",
          "2018-04-09T00:00:00.000000000",
          "2018-04-16T00:00:00.000000000",
          "2018-04-23T00:00:00.000000000",
          "2018-04-30T00:00:00.000000000",
          "2018-05-07T00:00:00.000000000",
          "2018-05-14T00:00:00.000000000",
          "2018-05-21T00:00:00.000000000",
          "2018-05-28T00:00:00.000000000",
          "2018-06-04T00:00:00.000000000",
          "2018-06-11T00:00:00.000000000",
          "2018-06-18T00:00:00.000000000",
          "2018-06-25T00:00:00.000000000",
          "2018-07-02T00:00:00.000000000",
          "2018-07-09T00:00:00.000000000",
          "2018-07-16T00:00:00.000000000",
          "2018-07-23T00:00:00.000000000",
          "2018-07-30T00:00:00.000000000",
          "2018-08-06T00:00:00.000000000",
          "2018-08-13T00:00:00.000000000",
          "2018-08-20T00:00:00.000000000",
          "2018-08-27T00:00:00.000000000",
          "2018-09-03T00:00:00.000000000",
          "2018-09-10T00:00:00.000000000",
          "2018-09-17T00:00:00.000000000",
          "2018-09-24T00:00:00.000000000",
          "2018-10-01T00:00:00.000000000",
          "2018-10-08T00:00:00.000000000",
          "2018-10-15T00:00:00.000000000",
          "2018-10-22T00:00:00.000000000",
          "2018-10-29T00:00:00.000000000",
          "2018-11-05T00:00:00.000000000",
          "2018-11-12T00:00:00.000000000",
          "2018-11-19T00:00:00.000000000",
          "2018-11-26T00:00:00.000000000",
          "2018-12-03T00:00:00.000000000",
          "2018-12-10T00:00:00.000000000",
          "2018-12-17T00:00:00.000000000",
          "2018-12-24T00:00:00.000000000",
          "2019-01-07T00:00:00.000000000",
          "2019-01-14T00:00:00.000000000",
          "2019-01-21T00:00:00.000000000",
          "2019-01-28T00:00:00.000000000",
          "2019-02-04T00:00:00.000000000",
          "2019-02-11T00:00:00.000000000",
          "2019-02-18T00:00:00.000000000",
          "2019-02-25T00:00:00.000000000",
          "2019-03-04T00:00:00.000000000",
          "2019-03-11T00:00:00.000000000",
          "2019-03-18T00:00:00.000000000",
          "2019-03-25T00:00:00.000000000",
          "2019-04-01T00:00:00.000000000",
          "2019-04-08T00:00:00.000000000",
          "2019-04-15T00:00:00.000000000",
          "2019-04-22T00:00:00.000000000",
          "2019-04-29T00:00:00.000000000",
          "2019-05-06T00:00:00.000000000",
          "2019-05-13T00:00:00.000000000",
          "2019-05-20T00:00:00.000000000",
          "2019-05-27T00:00:00.000000000",
          "2019-06-03T00:00:00.000000000",
          "2019-06-10T00:00:00.000000000",
          "2019-06-17T00:00:00.000000000",
          "2019-06-24T00:00:00.000000000",
          "2019-07-01T00:00:00.000000000",
          "2019-07-08T00:00:00.000000000",
          "2019-07-15T00:00:00.000000000",
          "2019-07-22T00:00:00.000000000",
          "2019-07-29T00:00:00.000000000",
          "2019-08-05T00:00:00.000000000",
          "2019-08-12T00:00:00.000000000",
          "2019-08-19T00:00:00.000000000",
          "2019-08-26T00:00:00.000000000",
          "2019-09-02T00:00:00.000000000",
          "2019-09-09T00:00:00.000000000",
          "2019-09-16T00:00:00.000000000",
          "2019-09-23T00:00:00.000000000",
          "2019-09-30T00:00:00.000000000",
          "2019-10-07T00:00:00.000000000",
          "2019-10-14T00:00:00.000000000",
          "2019-10-21T00:00:00.000000000",
          "2019-10-28T00:00:00.000000000",
          "2019-11-04T00:00:00.000000000",
          "2019-11-11T00:00:00.000000000",
          "2019-11-18T00:00:00.000000000",
          "2019-11-25T00:00:00.000000000",
          "2019-12-02T00:00:00.000000000",
          "2019-12-09T00:00:00.000000000",
          "2019-12-16T00:00:00.000000000",
          "2019-12-23T00:00:00.000000000",
          "2019-12-30T00:00:00.000000000",
          "2020-01-06T00:00:00.000000000",
          "2020-01-13T00:00:00.000000000",
          "2020-01-20T00:00:00.000000000",
          "2020-01-27T00:00:00.000000000",
          "2020-02-03T00:00:00.000000000",
          "2020-02-10T00:00:00.000000000",
          "2020-02-17T00:00:00.000000000",
          "2020-02-24T00:00:00.000000000",
          "2020-03-02T00:00:00.000000000",
          "2020-03-09T00:00:00.000000000",
          "2020-03-16T00:00:00.000000000",
          "2020-03-23T00:00:00.000000000",
          "2020-03-30T00:00:00.000000000",
          "2020-04-06T00:00:00.000000000",
          "2020-04-13T00:00:00.000000000",
          "2020-04-20T00:00:00.000000000",
          "2020-04-27T00:00:00.000000000",
          "2020-05-04T00:00:00.000000000",
          "2020-05-11T00:00:00.000000000",
          "2020-05-18T00:00:00.000000000",
          "2020-05-25T00:00:00.000000000",
          "2020-06-01T00:00:00.000000000",
          "2020-06-08T00:00:00.000000000",
          "2020-06-15T00:00:00.000000000",
          "2020-06-22T00:00:00.000000000",
          "2020-06-29T00:00:00.000000000",
          "2020-07-06T00:00:00.000000000",
          "2020-07-13T00:00:00.000000000",
          "2020-07-20T00:00:00.000000000",
          "2020-07-27T00:00:00.000000000",
          "2020-08-03T00:00:00.000000000",
          "2020-08-10T00:00:00.000000000",
          "2020-08-17T00:00:00.000000000",
          "2020-08-24T00:00:00.000000000",
          "2020-08-31T00:00:00.000000000",
          "2020-09-07T00:00:00.000000000",
          "2020-09-14T00:00:00.000000000",
          "2020-09-21T00:00:00.000000000",
          "2020-09-28T00:00:00.000000000",
          "2020-10-05T00:00:00.000000000",
          "2020-10-12T00:00:00.000000000",
          "2020-10-19T00:00:00.000000000",
          "2020-10-26T00:00:00.000000000",
          "2020-11-02T00:00:00.000000000",
          "2020-11-09T00:00:00.000000000",
          "2020-11-16T00:00:00.000000000",
          "2020-11-23T00:00:00.000000000",
          "2020-11-30T00:00:00.000000000",
          "2020-12-07T00:00:00.000000000",
          "2020-12-14T00:00:00.000000000",
          "2020-12-21T00:00:00.000000000",
          "2020-12-28T00:00:00.000000000",
          "2021-01-04T00:00:00.000000000",
          "2021-01-04T00:00:00.000000000",
          "2021-01-11T00:00:00.000000000",
          "2021-01-18T00:00:00.000000000",
          "2021-01-25T00:00:00.000000000",
          "2021-02-01T00:00:00.000000000",
          "2021-02-08T00:00:00.000000000",
          "2021-02-15T00:00:00.000000000",
          "2021-02-22T00:00:00.000000000",
          "2021-03-01T00:00:00.000000000",
          "2021-03-08T00:00:00.000000000",
          "2021-03-15T00:00:00.000000000",
          "2021-03-22T00:00:00.000000000",
          "2021-03-29T00:00:00.000000000",
          "2021-04-05T00:00:00.000000000",
          "2021-04-12T00:00:00.000000000",
          "2021-04-19T00:00:00.000000000",
          "2021-04-26T00:00:00.000000000",
          "2021-05-03T00:00:00.000000000",
          "2021-05-10T00:00:00.000000000",
          "2021-05-17T00:00:00.000000000",
          "2021-05-24T00:00:00.000000000",
          "2021-05-31T00:00:00.000000000",
          "2021-06-07T00:00:00.000000000",
          "2021-06-14T00:00:00.000000000",
          "2021-06-21T00:00:00.000000000",
          "2021-06-28T00:00:00.000000000",
          "2021-07-05T00:00:00.000000000",
          "2021-07-12T00:00:00.000000000",
          "2021-07-19T00:00:00.000000000",
          "2021-07-26T00:00:00.000000000",
          "2021-08-02T00:00:00.000000000",
          "2021-08-09T00:00:00.000000000",
          "2021-08-16T00:00:00.000000000",
          "2021-08-23T00:00:00.000000000",
          "2021-08-30T00:00:00.000000000",
          "2021-09-06T00:00:00.000000000",
          "2021-09-13T00:00:00.000000000",
          "2021-09-20T00:00:00.000000000",
          "2021-09-27T00:00:00.000000000",
          "2021-10-04T00:00:00.000000000",
          "2021-10-11T00:00:00.000000000",
          "2021-10-18T00:00:00.000000000",
          "2021-10-25T00:00:00.000000000",
          "2021-11-01T00:00:00.000000000",
          "2021-11-08T00:00:00.000000000",
          "2021-11-15T00:00:00.000000000",
          "2021-11-22T00:00:00.000000000",
          "2021-11-29T00:00:00.000000000",
          "2021-12-06T00:00:00.000000000",
          "2021-12-13T00:00:00.000000000",
          "2021-12-20T00:00:00.000000000",
          "2021-12-27T00:00:00.000000000",
          "2022-01-03T00:00:00.000000000"
         ],
         "xaxis": "x5",
         "y": {
          "bdata": "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",
          "dtype": "f8"
         },
         "yaxis": "y5"
        }
       ],
       "layout": {
        "annotations": [
         {
          "font": {
           "size": 16
          },
          "showarrow": false,
          "text": "Barrio 4",
          "x": 0.5,
          "xanchor": "center",
          "xref": "paper",
          "y": 1,
          "yanchor": "bottom",
          "yref": "paper"
         },
         {
          "font": {
           "size": 16
          },
          "showarrow": false,
          "text": "Barrio 5",
          "x": 0.5,
          "xanchor": "center",
          "xref": "paper",
          "y": 0.79,
          "yanchor": "bottom",
          "yref": "paper"
         },
         {
          "font": {
           "size": 16
          },
          "showarrow": false,
          "text": "Barrio 3",
          "x": 0.5,
          "xanchor": "center",
          "xref": "paper",
          "y": 0.5800000000000001,
          "yanchor": "bottom",
          "yref": "paper"
         },
         {
          "font": {
           "size": 16
          },
          "showarrow": false,
          "text": "Barrio 8",
          "x": 0.5,
          "xanchor": "center",
          "xref": "paper",
          "y": 0.37,
          "yanchor": "bottom",
          "yref": "paper"
         },
         {
          "font": {
           "size": 16
          },
          "showarrow": false,
          "text": "Barrio 9",
          "x": 0.5,
          "xanchor": "center",
          "xref": "paper",
          "y": 0.16,
          "yanchor": "bottom",
          "yref": "paper"
         }
        ],
        "height": 1000,
        "showlegend": true,
        "template": {
         "data": {
          "bar": [
           {
            "error_x": {
             "color": "#2a3f5f"
            },
            "error_y": {
             "color": "#2a3f5f"
            },
            "marker": {
             "line": {
              "color": "#E5ECF6",
              "width": 0.5
             },
             "pattern": {
              "fillmode": "overlay",
              "size": 10,
              "solidity": 0.2
             }
            },
            "type": "bar"
           }
          ],
          "barpolar": [
           {
            "marker": {
             "line": {
              "color": "#E5ECF6",
              "width": 0.5
             },
             "pattern": {
              "fillmode": "overlay",
              "size": 10,
              "solidity": 0.2
             }
            },
            "type": "barpolar"
           }
          ],
          "carpet": [
           {
            "aaxis": {
             "endlinecolor": "#2a3f5f",
             "gridcolor": "white",
             "linecolor": "white",
             "minorgridcolor": "white",
             "startlinecolor": "#2a3f5f"
            },
            "baxis": {
             "endlinecolor": "#2a3f5f",
             "gridcolor": "white",
             "linecolor": "white",
             "minorgridcolor": "white",
             "startlinecolor": "#2a3f5f"
            },
            "type": "carpet"
           }
          ],
          "choropleth": [
           {
            "colorbar": {
             "outlinewidth": 0,
             "ticks": ""
            },
            "type": "choropleth"
           }
          ],
          "contour": [
           {
            "colorbar": {
             "outlinewidth": 0,
             "ticks": ""
            },
            "colorscale": [
             [
              0,
              "#0d0887"
             ],
             [
              0.1111111111111111,
              "#46039f"
             ],
             [
              0.2222222222222222,
              "#7201a8"
             ],
             [
              0.3333333333333333,
              "#9c179e"
             ],
             [
              0.4444444444444444,
              "#bd3786"
             ],
             [
              0.5555555555555556,
              "#d8576b"
             ],
             [
              0.6666666666666666,
              "#ed7953"
             ],
             [
              0.7777777777777778,
              "#fb9f3a"
             ],
             [
              0.8888888888888888,
              "#fdca26"
             ],
             [
              1,
              "#f0f921"
             ]
            ],
            "type": "contour"
           }
          ],
          "contourcarpet": [
           {
            "colorbar": {
             "outlinewidth": 0,
             "ticks": ""
            },
            "type": "contourcarpet"
           }
          ],
          "heatmap": [
           {
            "colorbar": {
             "outlinewidth": 0,
             "ticks": ""
            },
            "colorscale": [
             [
              0,
              "#0d0887"
             ],
             [
              0.1111111111111111,
              "#46039f"
             ],
             [
              0.2222222222222222,
              "#7201a8"
             ],
             [
              0.3333333333333333,
              "#9c179e"
             ],
             [
              0.4444444444444444,
              "#bd3786"
             ],
             [
              0.5555555555555556,
              "#d8576b"
             ],
             [
              0.6666666666666666,
              "#ed7953"
             ],
             [
              0.7777777777777778,
              "#fb9f3a"
             ],
             [
              0.8888888888888888,
              "#fdca26"
             ],
             [
              1,
              "#f0f921"
             ]
            ],
            "type": "heatmap"
           }
          ],
          "histogram": [
           {
            "marker": {
             "pattern": {
              "fillmode": "overlay",
              "size": 10,
              "solidity": 0.2
             }
            },
            "type": "histogram"
           }
          ],
          "histogram2d": [
           {
            "colorbar": {
             "outlinewidth": 0,
             "ticks": ""
            },
            "colorscale": [
             [
              0,
              "#0d0887"
             ],
             [
              0.1111111111111111,
              "#46039f"
             ],
             [
              0.2222222222222222,
              "#7201a8"
             ],
             [
              0.3333333333333333,
              "#9c179e"
             ],
             [
              0.4444444444444444,
              "#bd3786"
             ],
             [
              0.5555555555555556,
              "#d8576b"
             ],
             [
              0.6666666666666666,
              "#ed7953"
             ],
             [
              0.7777777777777778,
              "#fb9f3a"
             ],
             [
              0.8888888888888888,
              "#fdca26"
             ],
             [
              1,
              "#f0f921"
             ]
            ],
            "type": "histogram2d"
           }
          ],
          "histogram2dcontour": [
           {
            "colorbar": {
             "outlinewidth": 0,
             "ticks": ""
            },
            "colorscale": [
             [
              0,
              "#0d0887"
             ],
             [
              0.1111111111111111,
              "#46039f"
             ],
             [
              0.2222222222222222,
              "#7201a8"
             ],
             [
              0.3333333333333333,
              "#9c179e"
             ],
             [
              0.4444444444444444,
              "#bd3786"
             ],
             [
              0.5555555555555556,
              "#d8576b"
             ],
             [
              0.6666666666666666,
              "#ed7953"
             ],
             [
              0.7777777777777778,
              "#fb9f3a"
             ],
             [
              0.8888888888888888,
              "#fdca26"
             ],
             [
              1,
              "#f0f921"
             ]
            ],
            "type": "histogram2dcontour"
           }
          ],
          "mesh3d": [
           {
            "colorbar": {
             "outlinewidth": 0,
             "ticks": ""
            },
            "type": "mesh3d"
           }
          ],
          "parcoords": [
           {
            "line": {
             "colorbar": {
              "outlinewidth": 0,
              "ticks": ""
             }
            },
            "type": "parcoords"
           }
          ],
          "pie": [
           {
            "automargin": true,
            "type": "pie"
           }
          ],
          "scatter": [
           {
            "fillpattern": {
             "fillmode": "overlay",
             "size": 10,
             "solidity": 0.2
            },
            "type": "scatter"
           }
          ],
          "scatter3d": [
           {
            "line": {
             "colorbar": {
              "outlinewidth": 0,
              "ticks": ""
             }
            },
            "marker": {
             "colorbar": {
              "outlinewidth": 0,
              "ticks": ""
             }
            },
            "type": "scatter3d"
           }
          ],
          "scattercarpet": [
           {
            "marker": {
             "colorbar": {
              "outlinewidth": 0,
              "ticks": ""
             }
            },
            "type": "scattercarpet"
           }
          ],
          "scattergeo": [
           {
            "marker": {
             "colorbar": {
              "outlinewidth": 0,
              "ticks": ""
             }
            },
            "type": "scattergeo"
           }
          ],
          "scattergl": [
           {
            "marker": {
             "colorbar": {
              "outlinewidth": 0,
              "ticks": ""
             }
            },
            "type": "scattergl"
           }
          ],
          "scattermap": [
           {
            "marker": {
             "colorbar": {
              "outlinewidth": 0,
              "ticks": ""
             }
            },
            "type": "scattermap"
           }
          ],
          "scattermapbox": [
           {
            "marker": {
             "colorbar": {
              "outlinewidth": 0,
              "ticks": ""
             }
            },
            "type": "scattermapbox"
           }
          ],
          "scatterpolar": [
           {
            "marker": {
             "colorbar": {
              "outlinewidth": 0,
              "ticks": ""
             }
            },
            "type": "scatterpolar"
           }
          ],
          "scatterpolargl": [
           {
            "marker": {
             "colorbar": {
              "outlinewidth": 0,
              "ticks": ""
             }
            },
            "type": "scatterpolargl"
           }
          ],
          "scatterternary": [
           {
            "marker": {
             "colorbar": {
              "outlinewidth": 0,
              "ticks": ""
             }
            },
            "type": "scatterternary"
           }
          ],
          "surface": [
           {
            "colorbar": {
             "outlinewidth": 0,
             "ticks": ""
            },
            "colorscale": [
             [
              0,
              "#0d0887"
             ],
             [
              0.1111111111111111,
              "#46039f"
             ],
             [
              0.2222222222222222,
              "#7201a8"
             ],
             [
              0.3333333333333333,
              "#9c179e"
             ],
             [
              0.4444444444444444,
              "#bd3786"
             ],
             [
              0.5555555555555556,
              "#d8576b"
             ],
             [
              0.6666666666666666,
              "#ed7953"
             ],
             [
              0.7777777777777778,
              "#fb9f3a"
             ],
             [
              0.8888888888888888,
              "#fdca26"
             ],
             [
              1,
              "#f0f921"
             ]
            ],
            "type": "surface"
           }
          ],
          "table": [
           {
            "cells": {
             "fill": {
              "color": "#EBF0F8"
             },
             "line": {
              "color": "white"
             }
            },
            "header": {
             "fill": {
              "color": "#C8D4E3"
             },
             "line": {
              "color": "white"
             }
            },
            "type": "table"
           }
          ]
         },
         "layout": {
          "annotationdefaults": {
           "arrowcolor": "#2a3f5f",
           "arrowhead": 0,
           "arrowwidth": 1
          },
          "autotypenumbers": "strict",
          "coloraxis": {
           "colorbar": {
            "outlinewidth": 0,
            "ticks": ""
           }
          },
          "colorscale": {
           "diverging": [
            [
             0,
             "#8e0152"
            ],
            [
             0.1,
             "#c51b7d"
            ],
            [
             0.2,
             "#de77ae"
            ],
            [
             0.3,
             "#f1b6da"
            ],
            [
             0.4,
             "#fde0ef"
            ],
            [
             0.5,
             "#f7f7f7"
            ],
            [
             0.6,
             "#e6f5d0"
            ],
            [
             0.7,
             "#b8e186"
            ],
            [
             0.8,
             "#7fbc41"
            ],
            [
             0.9,
             "#4d9221"
            ],
            [
             1,
             "#276419"
            ]
           ],
           "sequential": [
            [
             0,
             "#0d0887"
            ],
            [
             0.1111111111111111,
             "#46039f"
            ],
            [
             0.2222222222222222,
             "#7201a8"
            ],
            [
             0.3333333333333333,
             "#9c179e"
            ],
            [
             0.4444444444444444,
             "#bd3786"
            ],
            [
             0.5555555555555556,
             "#d8576b"
            ],
            [
             0.6666666666666666,
             "#ed7953"
            ],
            [
             0.7777777777777778,
             "#fb9f3a"
            ],
            [
             0.8888888888888888,
             "#fdca26"
            ],
            [
             1,
             "#f0f921"
            ]
           ],
           "sequentialminus": [
            [
             0,
             "#0d0887"
            ],
            [
             0.1111111111111111,
             "#46039f"
            ],
            [
             0.2222222222222222,
             "#7201a8"
            ],
            [
             0.3333333333333333,
             "#9c179e"
            ],
            [
             0.4444444444444444,
             "#bd3786"
            ],
            [
             0.5555555555555556,
             "#d8576b"
            ],
            [
             0.6666666666666666,
             "#ed7953"
            ],
            [
             0.7777777777777778,
             "#fb9f3a"
            ],
            [
             0.8888888888888888,
             "#fdca26"
            ],
            [
             1,
             "#f0f921"
            ]
           ]
          },
          "colorway": [
           "#636efa",
           "#EF553B",
           "#00cc96",
           "#ab63fa",
           "#FFA15A",
           "#19d3f3",
           "#FF6692",
           "#B6E880",
           "#FF97FF",
           "#FECB52"
          ],
          "font": {
           "color": "#2a3f5f"
          },
          "geo": {
           "bgcolor": "white",
           "lakecolor": "white",
           "landcolor": "#E5ECF6",
           "showlakes": true,
           "showland": true,
           "subunitcolor": "white"
          },
          "hoverlabel": {
           "align": "left"
          },
          "hovermode": "closest",
          "mapbox": {
           "style": "light"
          },
          "paper_bgcolor": "white",
          "plot_bgcolor": "#E5ECF6",
          "polar": {
           "angularaxis": {
            "gridcolor": "white",
            "linecolor": "white",
            "ticks": ""
           },
           "bgcolor": "#E5ECF6",
           "radialaxis": {
            "gridcolor": "white",
            "linecolor": "white",
            "ticks": ""
           }
          },
          "scene": {
           "xaxis": {
            "backgroundcolor": "#E5ECF6",
            "gridcolor": "white",
            "gridwidth": 2,
            "linecolor": "white",
            "showbackground": true,
            "ticks": "",
            "zerolinecolor": "white"
           },
           "yaxis": {
            "backgroundcolor": "#E5ECF6",
            "gridcolor": "white",
            "gridwidth": 2,
            "linecolor": "white",
            "showbackground": true,
            "ticks": "",
            "zerolinecolor": "white"
           },
           "zaxis": {
            "backgroundcolor": "#E5ECF6",
            "gridcolor": "white",
            "gridwidth": 2,
            "linecolor": "white",
            "showbackground": true,
            "ticks": "",
            "zerolinecolor": "white"
           }
          },
          "shapedefaults": {
           "line": {
            "color": "#2a3f5f"
           }
          },
          "ternary": {
           "aaxis": {
            "gridcolor": "white",
            "linecolor": "white",
            "ticks": ""
           },
           "baxis": {
            "gridcolor": "white",
            "linecolor": "white",
            "ticks": ""
           },
           "bgcolor": "#E5ECF6",
           "caxis": {
            "gridcolor": "white",
            "linecolor": "white",
            "ticks": ""
           }
          },
          "title": {
           "x": 0.05
          },
          "xaxis": {
           "automargin": true,
           "gridcolor": "white",
           "linecolor": "white",
           "ticks": "",
           "title": {
            "standoff": 15
           },
           "zerolinecolor": "white",
           "zerolinewidth": 2
          },
          "yaxis": {
           "automargin": true,
           "gridcolor": "white",
           "linecolor": "white",
           "ticks": "",
           "title": {
            "standoff": 15
           },
           "zerolinecolor": "white",
           "zerolinewidth": 2
          }
         }
        },
        "title": {
         "text": "Comparación de Series de Tiempo por Barrio"
        },
        "xaxis": {
         "anchor": "y",
         "domain": [
          0,
          1
         ],
         "matches": "x5",
         "showticklabels": false
        },
        "xaxis2": {
         "anchor": "y2",
         "domain": [
          0,
          1
         ],
         "matches": "x5",
         "showticklabels": false
        },
        "xaxis3": {
         "anchor": "y3",
         "domain": [
          0,
          1
         ],
         "matches": "x5",
         "showticklabels": false
        },
        "xaxis4": {
         "anchor": "y4",
         "domain": [
          0,
          1
         ],
         "matches": "x5",
         "showticklabels": false
        },
        "xaxis5": {
         "anchor": "y5",
         "domain": [
          0,
          1
         ],
         "title": {
          "text": "Fecha"
         }
        },
        "yaxis": {
         "anchor": "x",
         "domain": [
          0.8400000000000001,
          1
         ],
         "title": {
          "text": "Casos"
         }
        },
        "yaxis2": {
         "anchor": "x2",
         "domain": [
          0.63,
          0.79
         ],
         "title": {
          "text": "Casos"
         }
        },
        "yaxis3": {
         "anchor": "x3",
         "domain": [
          0.42000000000000004,
          0.5800000000000001
         ],
         "title": {
          "text": "Casos"
         }
        },
        "yaxis4": {
         "anchor": "x4",
         "domain": [
          0.21000000000000002,
          0.37
         ],
         "title": {
          "text": "Casos"
         }
        },
        "yaxis5": {
         "anchor": "x5",
         "domain": [
          0,
          0.16
         ],
         "title": {
          "text": "Casos"
         }
        }
       }
      }
     },
     "metadata": {},
     "output_type": "display_data"
    }
   ],
   "source": [
    "# Seleccionar muestra de barrios para análisis detallado\n",
    "barrios_muestra = df_train['id_bar'].unique()[:5]\n",
    "print(f\"Barrios seleccionados para análisis: {barrios_muestra}\")\n",
    "\n",
    "# Crear subplots para comparar series de tiempo\n",
    "fig = make_subplots(\n",
    "    rows=len(barrios_muestra), \n",
    "    cols=1,\n",
    "    subplot_titles=[f'Barrio {b}' for b in barrios_muestra],\n",
    "    shared_xaxes=True,\n",
    "    vertical_spacing=0.05\n",
    ")\n",
    "\n",
    "for i, barrio in enumerate(barrios_muestra):\n",
    "    data_barrio = df_train[df_train['id_bar'] == barrio].sort_values('fecha')\n",
    "    \n",
    "    fig.add_trace(\n",
    "        go.Scatter(\n",
    "            x=data_barrio['fecha'],\n",
    "            y=data_barrio['dengue'],\n",
    "            mode='lines',\n",
    "            name=f'Barrio {barrio}',\n",
    "            showlegend=True\n",
    "        ),\n",
    "        row=i+1, col=1\n",
    "    )\n",
    "\n",
    "fig.update_layout(\n",
    "    height=200*len(barrios_muestra),\n",
    "    title_text=\"Comparación de Series de Tiempo por Barrio\",\n",
    "    showlegend=True\n",
    ")\n",
    "fig.update_xaxes(title_text=\"Fecha\", row=len(barrios_muestra), col=1)\n",
    "fig.update_yaxes(title_text=\"Casos\")\n",
    "\n",
    "fig.show()"
   ]
  },
  {
   "cell_type": "code",
   "execution_count": 5,
   "id": "b478bb99",
   "metadata": {},
   "outputs": [
    {
     "data": {
      "image/png": "[encoded data removed]",
      "text/plain": [
       "<Figure size 1500x1000 with 2 Axes>"
      ]
     },
     "metadata": {},
     "output_type": "display_data"
    },
    {
     "name": "stdout",
     "output_type": "stream",
     "text": [
      "Basado en el análisis ACF/PACF, las correlaciones significativas sugieren\n",
      "usar una ventana de 8-16 semanas para las predicciones.\n"
     ]
    }
   ],
   "source": [
    "# Análisis ACF y PACF para determinar longitud de secuencia óptima\n",
    "# Usar serie global para este análisis\n",
    "fig, axes = plt.subplots(2, 1, figsize=(15, 10))\n",
    "\n",
    "# ACF\n",
    "plot_acf(dengue_global_ts.dropna(), lags=30, ax=axes[0])\n",
    "axes[0].set_title('Función de Autocorrelación (ACF) - Serie Global de Dengue')\n",
    "\n",
    "# PACF\n",
    "plot_pacf(dengue_global_ts.dropna(), lags=30, ax=axes[1])\n",
    "axes[1].set_title('Función de Autocorrelación Parcial (PACF) - Serie Global de Dengue')\n",
    "\n",
    "plt.tight_layout()\n",
    "plt.show()\n",
    "\n",
    "print(\"Basado en el análisis ACF/PACF, las correlaciones significativas sugieren\")\n",
    "print(\"usar una ventana de 8-16 semanas para las predicciones.\")"
   ]
  },
  {
   "cell_type": "code",
   "execution_count": 6,
   "id": "95d0af2f",
   "metadata": {},
   "outputs": [
    {
     "name": "stdout",
     "output_type": "stream",
     "text": [
      "Características totales: 17\n",
      "Columnas de ESTRATO: ['ESTRATO_1', 'ESTRATO_2', 'ESTRATO_3']\n",
      "Características totales: 17\n",
      "Columnas de ESTRATO: ['ESTRATO_1', 'ESTRATO_2', 'ESTRATO_3']\n",
      "\n",
      "Forma después del preprocesamiento:\n",
      "Train: (3680, 24)\n",
      "Test: (520, 23)\n"
     ]
    }
   ],
   "source": [
    "class DataPreprocessor:\n",
    "    \"\"\"Clase para manejar todo el preprocesamiento de datos\"\"\"\n",
    "    \n",
    "    def __init__(self):\n",
    "        self.scaler = StandardScaler()\n",
    "        self.encoder = OneHotEncoder(sparse_output=False, handle_unknown='ignore')\n",
    "        self.feature_columns = None\n",
    "        self.estrato_columns = None\n",
    "        \n",
    "    def prepare_features(self, df):\n",
    "        \"\"\"Prepara las características incluyendo one-hot encoding de ESTRATO\"\"\"\n",
    "        df = df.copy()\n",
    "        \n",
    "        # One-hot encoding de ESTRATO\n",
    "        estrato_encoded = self.encoder.fit_transform(df[['ESTRATO']])\n",
    "        estrato_df = pd.DataFrame(\n",
    "            estrato_encoded,\n",
    "            columns=[f'ESTRATO_{int(cat)}' for cat in self.encoder.categories_[0]],\n",
    "            index=df.index\n",
    "        )\n",
    "        \n",
    "        # Combinar con el dataframe original\n",
    "        df = pd.concat([df, estrato_df], axis=1)\n",
    "        \n",
    "        # Definir columnas de características (excluyendo las no necesarias)\n",
    "        exclude_cols = ['id', 'id_bar', 'anio', 'semana', 'fecha', 'ESTRATO', 'dengue', '__index_level_0__']\n",
    "        self.feature_columns = [col for col in df.columns if col not in exclude_cols]\n",
    "        self.estrato_columns = [col for col in df.columns if col.startswith('ESTRATO_')]\n",
    "        \n",
    "        print(f\"Características totales: {len(self.feature_columns)}\")\n",
    "        print(f\"Columnas de ESTRATO: {self.estrato_columns}\")\n",
    "        \n",
    "        return df\n",
    "    \n",
    "    def fit_scaler(self, df_train):\n",
    "        \"\"\"Ajusta el escalador solo con datos de entrenamiento\"\"\"\n",
    "        # Ajustar solo con características numéricas (excluyendo one-hot encoded)\n",
    "        numeric_features = [col for col in self.feature_columns if col not in self.estrato_columns]\n",
    "        self.scaler.fit(df_train[numeric_features])\n",
    "        return self\n",
    "    \n",
    "    def transform_features(self, df):\n",
    "        \"\"\"Transforma las características usando el escalador ajustado\"\"\"\n",
    "        df = df.copy()\n",
    "        \n",
    "        # Escalar solo características numéricas\n",
    "        numeric_features = [col for col in self.feature_columns if col not in self.estrato_columns]\n",
    "        df[numeric_features] = self.scaler.transform(df[numeric_features])\n",
    "        \n",
    "        return df\n",
    "\n",
    "# Aplicar preprocesamiento\n",
    "preprocessor = DataPreprocessor()\n",
    "\n",
    "# Preparar características\n",
    "df_train = preprocessor.prepare_features(df_train)\n",
    "df_test = preprocessor.prepare_features(df_test)\n",
    "\n",
    "# Ajustar escalador SOLO con datos de entrenamiento\n",
    "preprocessor.fit_scaler(df_train)\n",
    "\n",
    "# Transformar ambos conjuntos\n",
    "df_train_scaled = preprocessor.transform_features(df_train)\n",
    "df_test_scaled = preprocessor.transform_features(df_test)\n",
    "\n",
    "print(\"\\nForma después del preprocesamiento:\")\n",
    "print(f\"Train: {df_train_scaled.shape}\")\n",
    "print(f\"Test: {df_test_scaled.shape}\")"
   ]
  },
  {
   "cell_type": "code",
   "execution_count": 7,
   "id": "3e6c413f",
   "metadata": {},
   "outputs": [],
   "source": [
    "class DengueTimeSeriesDataset(Dataset):\n",
    "    \"\"\"Dataset personalizado para series de tiempo de dengue\"\"\"\n",
    "    \n",
    "    def __init__(self, data, barrios, sequence_length, feature_columns, is_train=True):\n",
    "        self.data = data\n",
    "        self.barrios = barrios\n",
    "        self.sequence_length = sequence_length\n",
    "        self.feature_columns = feature_columns\n",
    "        self.is_train = is_train\n",
    "        self.samples = []\n",
    "        \n",
    "        # Crear muestras por barrio\n",
    "        for barrio in self.barrios:\n",
    "            barrio_data = self.data[self.data['id_bar'] == barrio].sort_values('fecha')\n",
    "            \n",
    "            if len(barrio_data) > sequence_length:\n",
    "                for i in range(len(barrio_data) - sequence_length):\n",
    "                    if is_train:\n",
    "                        # Para entrenamiento, incluir el target\n",
    "                        self.samples.append({\n",
    "                            'barrio': barrio,\n",
    "                            'start_idx': i,\n",
    "                            'end_idx': i + sequence_length\n",
    "                        })\n",
    "                    else:\n",
    "                        # Para predicción, solo necesitamos la última ventana\n",
    "                        if i == len(barrio_data) - sequence_length:\n",
    "                            self.samples.append({\n",
    "                                'barrio': barrio,\n",
    "                                'start_idx': i,\n",
    "                                'end_idx': i + sequence_length\n",
    "                            })\n",
    "    \n",
    "    def __len__(self):\n",
    "        return len(self.samples)\n",
    "    \n",
    "    def __getitem__(self, idx):\n",
    "        sample = self.samples[idx]\n",
    "        barrio_data = self.data[self.data['id_bar'] == sample['barrio']].sort_values('fecha')\n",
    "        \n",
    "        # Obtener secuencia\n",
    "        sequence_data = barrio_data.iloc[sample['start_idx']:sample['end_idx']]\n",
    "        \n",
    "        # Features (X)\n",
    "        X = torch.FloatTensor(sequence_data[self.feature_columns].values)\n",
    "        \n",
    "        if self.is_train:\n",
    "            # Target (y) - siguiente valor de dengue\n",
    "            if sample['end_idx'] < len(barrio_data):\n",
    "                y = torch.FloatTensor([barrio_data.iloc[sample['end_idx']]['dengue']])\n",
    "            else:\n",
    "                y = torch.FloatTensor([sequence_data.iloc[-1]['dengue']])\n",
    "        else:\n",
    "            y = torch.FloatTensor([0])  # Placeholder\n",
    "        \n",
    "        return X, y, sample['barrio']\n",
    "\n",
    "def create_dataloaders(df_train_scaled, df_test_scaled, preprocessor, \n",
    "                      sequence_length=12, batch_size=32, val_years=[2021]):\n",
    "    \"\"\"Crea los dataloaders para entrenamiento, validación y predicción\"\"\"\n",
    "    \n",
    "    # Separar datos de entrenamiento y validación\n",
    "    train_data = df_train_scaled[~df_train_scaled['anio'].isin(val_years)]\n",
    "    val_data = df_train_scaled[df_train_scaled['anio'].isin(val_years)]\n",
    "    \n",
    "    # Obtener barrios únicos\n",
    "    barrios = df_train_scaled['id_bar'].unique()\n",
    "    \n",
    "    # Crear datasets\n",
    "    train_dataset = DengueTimeSeriesDataset(\n",
    "        train_data, barrios, sequence_length, \n",
    "        preprocessor.feature_columns, is_train=True\n",
    "    )\n",
    "    \n",
    "    val_dataset = DengueTimeSeriesDataset(\n",
    "        val_data, barrios, sequence_length, \n",
    "        preprocessor.feature_columns, is_train=True\n",
    "    )\n",
    "    \n",
    "    full_train_dataset = DengueTimeSeriesDataset(\n",
    "        df_train_scaled, barrios, sequence_length, \n",
    "        preprocessor.feature_columns, is_train=True\n",
    "    )\n",
    "    \n",
    "    # Crear dataloaders\n",
    "    train_loader = DataLoader(\n",
    "        train_dataset, batch_size=batch_size, shuffle=True, num_workers=0\n",
    "    )\n",
    "    \n",
    "    val_loader = DataLoader(\n",
    "        val_dataset, batch_size=batch_size, shuffle=False, num_workers=0\n",
    "    )\n",
    "    \n",
    "    full_train_loader = DataLoader(\n",
    "        full_train_dataset, batch_size=batch_size, shuffle=True, num_workers=0\n",
    "    )\n",
    "    \n",
    "    print(f\"Muestras de entrenamiento: {len(train_dataset)}\")\n",
    "    print(f\"Muestras de validación: {len(val_dataset)}\")\n",
    "    print(f\"Muestras totales: {len(full_train_dataset)}\")\n",
    "    \n",
    "    return train_loader, val_loader, full_train_loader"
   ]
  },
  {
   "cell_type": "code",
   "execution_count": 8,
   "id": "f9ce50f5",
   "metadata": {},
   "outputs": [],
   "source": [
    "class DengueLSTM(nn.Module):\n",
    "    \"\"\"Modelo LSTM para predicción de dengue\"\"\"\n",
    "    \n",
    "    def __init__(self, input_size, hidden_size=100, n_layers=2, dropout=0.2):\n",
    "        super(DengueLSTM, self).__init__()\n",
    "        \n",
    "        self.hidden_size = hidden_size\n",
    "        self.n_layers = n_layers\n",
    "        \n",
    "        # LSTM layers\n",
    "        self.lstm = nn.LSTM(\n",
    "            input_size=input_size,\n",
    "            hidden_size=hidden_size,\n",
    "            num_layers=n_layers,\n",
    "            dropout=dropout if n_layers > 1 else 0,\n",
    "            batch_first=True\n",
    "        )\n",
    "        \n",
    "        # Layer normalization para cada capa LSTM\n",
    "        self.layer_norms = nn.ModuleList([\n",
    "            nn.LayerNorm(hidden_size) for _ in range(n_layers)\n",
    "        ])\n",
    "        \n",
    "        # Dropout\n",
    "        self.dropout = nn.Dropout(dropout)\n",
    "        \n",
    "        # Capa de salida\n",
    "        self.fc = nn.Linear(hidden_size, 1)\n",
    "        \n",
    "        # Activación ReLU para asegurar predicciones no negativas\n",
    "        self.relu = nn.ReLU()\n",
    "        \n",
    "    def forward(self, x):\n",
    "        # x shape: (batch, seq_len, features)\n",
    "        batch_size = x.size(0)\n",
    "        \n",
    "        # Inicializar hidden state\n",
    "        h0 = torch.zeros(self.n_layers, batch_size, self.hidden_size).to(x.device)\n",
    "        c0 = torch.zeros(self.n_layers, batch_size, self.hidden_size).to(x.device)\n",
    "        \n",
    "        # LSTM forward\n",
    "        lstm_out, (hidden, cell) = self.lstm(x, (h0, c0))\n",
    "        \n",
    "        # Aplicar layer norm al output\n",
    "        lstm_out = self.layer_norms[-1](lstm_out)\n",
    "        \n",
    "        # Usar la última salida temporal\n",
    "        last_output = lstm_out[:, -1, :]\n",
    "        \n",
    "        # Dropout\n",
    "        last_output = self.dropout(last_output)\n",
    "        \n",
    "        # Capa fully connected\n",
    "        output = self.fc(last_output)\n",
    "        \n",
    "        # ReLU para asegurar valores no negativos\n",
    "        output = self.relu(output)\n",
    "        \n",
    "        return output\n",
    "\n",
    "def train_epoch(model, dataloader, optimizer, criterion, device):\n",
    "    \"\"\"Entrena el modelo por una época\"\"\"\n",
    "    model.train()\n",
    "    total_loss = 0\n",
    "    \n",
    "    for batch_X, batch_y, _ in dataloader:\n",
    "        batch_X = batch_X.to(device)\n",
    "        batch_y = batch_y.to(device)\n",
    "        \n",
    "        # Forward pass\n",
    "        predictions = model(batch_X)\n",
    "        loss = criterion(predictions.squeeze(), batch_y.squeeze())\n",
    "        \n",
    "        # Backward pass\n",
    "        optimizer.zero_grad()\n",
    "        loss.backward()\n",
    "        \n",
    "        # Gradient clipping\n",
    "        torch.nn.utils.clip_grad_norm_(model.parameters(), max_norm=1.0)\n",
    "        \n",
    "        optimizer.step()\n",
    "        \n",
    "        total_loss += loss.item()\n",
    "    \n",
    "    return total_loss / len(dataloader)\n",
    "\n",
    "def evaluate_model(model, dataloader, criterion, device):\n",
    "    \"\"\"Evalúa el modelo\"\"\"\n",
    "    model.eval()\n",
    "    total_loss = 0\n",
    "    all_predictions = []\n",
    "    all_targets = []\n",
    "    \n",
    "    with torch.no_grad():\n",
    "        for batch_X, batch_y, _ in dataloader:\n",
    "            batch_X = batch_X.to(device)\n",
    "            batch_y = batch_y.to(device)\n",
    "            \n",
    "            predictions = model(batch_X)\n",
    "            loss = criterion(predictions.squeeze(), batch_y.squeeze())\n",
    "            \n",
    "            total_loss += loss.item()\n",
    "            all_predictions.extend(predictions.cpu().numpy().flatten())\n",
    "            all_targets.extend(batch_y.cpu().numpy().flatten())\n",
    "    \n",
    "    mae = np.mean(np.abs(np.array(all_predictions) - np.array(all_targets)))\n",
    "    \n",
    "    return total_loss / len(dataloader), mae"
   ]
  },
  {
   "cell_type": "code",
   "execution_count": null,
   "id": "63e8ea94",
   "metadata": {},
   "outputs": [
    {
     "name": "stderr",
     "output_type": "stream",
     "text": [
      "[I 2025-06-18 13:49:28,059] A new study created in memory with name: no-name-21f849cf-5a72-41f8-a13f-d76241fbd8b1\n"
     ]
    },
    {
     "name": "stdout",
     "output_type": "stream",
     "text": [
      "Iniciando búsqueda de hiperparámetros con Optuna...\n",
      "Muestras de entrenamiento: 3010\n",
      "Muestras de validación: 390\n",
      "Muestras totales: 3540\n"
     ]
    },
    {
     "name": "stderr",
     "output_type": "stream",
     "text": [
      "[I 2025-06-18 13:52:28,909] Trial 0 finished with value: 1.4861059188842773 and parameters: {'learning_rate': 0.00799174836288062, 'batch_size': 64, 'n_layers': 2, 'hidden_size': 100, 'sequence_length': 14, 'dropout': 0.45865514783413497}. Best is trial 0 with value: 1.4861059188842773.\n"
     ]
    },
    {
     "name": "stdout",
     "output_type": "stream",
     "text": [
      "Muestras de entrenamiento: 3030\n",
      "Muestras de validación: 410\n",
      "Muestras totales: 3560\n"
     ]
    },
    {
     "name": "stderr",
     "output_type": "stream",
     "text": [
      "[I 2025-06-18 13:55:09,388] Trial 1 finished with value: 1.7193790674209595 and parameters: {'learning_rate': 0.00015564737814174307, 'batch_size': 64, 'n_layers': 2, 'hidden_size': 150, 'sequence_length': 12, 'dropout': 0.28811206085912555}. Best is trial 0 with value: 1.4861059188842773.\n"
     ]
    },
    {
     "name": "stdout",
     "output_type": "stream",
     "text": [
      "Muestras de entrenamiento: 3030\n",
      "Muestras de validación: 410\n",
      "Muestras totales: 3560\n"
     ]
    },
    {
     "name": "stderr",
     "output_type": "stream",
     "text": [
      "[I 2025-06-18 13:57:03,335] Trial 2 finished with value: 1.062119483947754 and parameters: {'learning_rate': 1.092475259913126e-05, 'batch_size': 32, 'n_layers': 2, 'hidden_size': 50, 'sequence_length': 12, 'dropout': 0.2775869980339168}. Best is trial 2 with value: 1.062119483947754.\n"
     ]
    },
    {
     "name": "stdout",
     "output_type": "stream",
     "text": [
      "Muestras de entrenamiento: 3050\n",
      "Muestras de validación: 430\n",
      "Muestras totales: 3580\n"
     ]
    },
    {
     "name": "stderr",
     "output_type": "stream",
     "text": [
      "[I 2025-06-18 14:00:52,953] Trial 3 finished with value: 2.22997784614563 and parameters: {'learning_rate': 0.0020955156263424133, 'batch_size': 32, 'n_layers': 2, 'hidden_size': 75, 'sequence_length': 10, 'dropout': 0.428747378398474}. Best is trial 2 with value: 1.062119483947754.\n"
     ]
    },
    {
     "name": "stdout",
     "output_type": "stream",
     "text": [
      "Muestras de entrenamiento: 2990\n",
      "Muestras de validación: 370\n",
      "Muestras totales: 3520\n"
     ]
    },
    {
     "name": "stderr",
     "output_type": "stream",
     "text": [
      "[I 2025-06-18 14:09:15,822] Trial 4 finished with value: 1.1209385395050049 and parameters: {'learning_rate': 0.0011710335639515507, 'batch_size': 16, 'n_layers': 3, 'hidden_size': 150, 'sequence_length': 16, 'dropout': 0.21084815810112356}. Best is trial 2 with value: 1.062119483947754.\n"
     ]
    },
    {
     "name": "stdout",
     "output_type": "stream",
     "text": [
      "Muestras de entrenamiento: 2990\n",
      "Muestras de validación: 370\n",
      "Muestras totales: 3520\n"
     ]
    },
    {
     "name": "stderr",
     "output_type": "stream",
     "text": [
      "[I 2025-06-18 14:13:21,651] Trial 5 finished with value: 1.337296724319458 and parameters: {'learning_rate': 0.00023152122215197915, 'batch_size': 16, 'n_layers': 2, 'hidden_size': 100, 'sequence_length': 16, 'dropout': 0.38772588387419604}. Best is trial 2 with value: 1.062119483947754.\n"
     ]
    },
    {
     "name": "stdout",
     "output_type": "stream",
     "text": [
      "Muestras de entrenamiento: 3050\n",
      "Muestras de validación: 430\n",
      "Muestras totales: 3580\n"
     ]
    },
    {
     "name": "stderr",
     "output_type": "stream",
     "text": [
      "[I 2025-06-18 14:16:17,218] Trial 6 finished with value: 1.2813953161239624 and parameters: {'learning_rate': 0.0024737684721922093, 'batch_size': 32, 'n_layers': 3, 'hidden_size': 75, 'sequence_length': 10, 'dropout': 0.22715916174692863}. Best is trial 2 with value: 1.062119483947754.\n"
     ]
    },
    {
     "name": "stdout",
     "output_type": "stream",
     "text": [
      "Muestras de entrenamiento: 3030\n",
      "Muestras de validación: 410\n",
      "Muestras totales: 3560\n"
     ]
    },
    {
     "name": "stderr",
     "output_type": "stream",
     "text": [
      "[I 2025-06-18 14:17:30,481] Trial 7 pruned. \n"
     ]
    },
    {
     "name": "stdout",
     "output_type": "stream",
     "text": [
      "Muestras de entrenamiento: 2990\n",
      "Muestras de validación: 370\n",
      "Muestras totales: 3520\n"
     ]
    },
    {
     "name": "stderr",
     "output_type": "stream",
     "text": [
      "[I 2025-06-18 14:20:32,066] Trial 8 finished with value: 1.5194101333618164 and parameters: {'learning_rate': 0.0002398611156334103, 'batch_size': 16, 'n_layers': 1, 'hidden_size': 125, 'sequence_length': 16, 'dropout': 0.41640788172638565}. Best is trial 2 with value: 1.062119483947754.\n"
     ]
    },
    {
     "name": "stdout",
     "output_type": "stream",
     "text": [
      "Muestras de entrenamiento: 3050\n",
      "Muestras de validación: 430\n",
      "Muestras totales: 3580\n"
     ]
    },
    {
     "name": "stderr",
     "output_type": "stream",
     "text": [
      "[I 2025-06-18 14:22:40,398] Trial 9 pruned. \n"
     ]
    },
    {
     "name": "stdout",
     "output_type": "stream",
     "text": [
      "Muestras de entrenamiento: 3070\n",
      "Muestras de validación: 450\n",
      "Muestras totales: 3600\n"
     ]
    },
    {
     "name": "stderr",
     "output_type": "stream",
     "text": [
      "[I 2025-06-18 14:26:29,846] Trial 10 finished with value: 1.1776630878448486 and parameters: {'learning_rate': 1.292397489528838e-05, 'batch_size': 32, 'n_layers': 1, 'hidden_size': 50, 'sequence_length': 8, 'dropout': 0.32590209516825325}. Best is trial 2 with value: 1.062119483947754.\n"
     ]
    },
    {
     "name": "stdout",
     "output_type": "stream",
     "text": [
      "Muestras de entrenamiento: 3010\n",
      "Muestras de validación: 390\n",
      "Muestras totales: 3540\n"
     ]
    },
    {
     "name": "stderr",
     "output_type": "stream",
     "text": [
      "[I 2025-06-18 14:30:23,183] Trial 11 finished with value: 1.556964635848999 and parameters: {'learning_rate': 5.890154495466958e-05, 'batch_size': 16, 'n_layers': 3, 'hidden_size': 50, 'sequence_length': 14, 'dropout': 0.23814956727475306}. Best is trial 2 with value: 1.062119483947754.\n"
     ]
    },
    {
     "name": "stdout",
     "output_type": "stream",
     "text": [
      "Muestras de entrenamiento: 3010\n",
      "Muestras de validación: 390\n",
      "Muestras totales: 3540\n"
     ]
    },
    {
     "name": "stderr",
     "output_type": "stream",
     "text": [
      "[I 2025-06-18 14:36:18,100] Trial 12 finished with value: 1.2701770067214966 and parameters: {'learning_rate': 0.0007807257436728242, 'batch_size': 16, 'n_layers': 3, 'hidden_size': 125, 'sequence_length': 14, 'dropout': 0.3302898344993524}. Best is trial 2 with value: 1.062119483947754.\n"
     ]
    },
    {
     "name": "stdout",
     "output_type": "stream",
     "text": [
      "Muestras de entrenamiento: 2990\n",
      "Muestras de validación: 370\n",
      "Muestras totales: 3520\n"
     ]
    },
    {
     "name": "stderr",
     "output_type": "stream",
     "text": [
      "[I 2025-06-18 14:42:14,614] Trial 13 finished with value: 1.4379100799560547 and parameters: {'learning_rate': 5.6302239343895496e-05, 'batch_size': 16, 'n_layers': 2, 'hidden_size': 125, 'sequence_length': 16, 'dropout': 0.21985725192658306}. Best is trial 2 with value: 1.062119483947754.\n"
     ]
    },
    {
     "name": "stdout",
     "output_type": "stream",
     "text": [
      "Muestras de entrenamiento: 3030\n",
      "Muestras de validación: 410\n",
      "Muestras totales: 3560\n"
     ]
    },
    {
     "name": "stderr",
     "output_type": "stream",
     "text": [
      "[I 2025-06-18 14:44:27,303] Trial 14 finished with value: 1.087938904762268 and parameters: {'learning_rate': 1.032264868966791e-05, 'batch_size': 64, 'n_layers': 3, 'hidden_size': 50, 'sequence_length': 12, 'dropout': 0.26819323250337934}. Best is trial 2 with value: 1.062119483947754.\n"
     ]
    },
    {
     "name": "stdout",
     "output_type": "stream",
     "text": [
      "Muestras de entrenamiento: 3030\n",
      "Muestras de validación: 410\n",
      "Muestras totales: 3560\n"
     ]
    },
    {
     "name": "stderr",
     "output_type": "stream",
     "text": [
      "[I 2025-06-18 14:49:06,677] Trial 15 finished with value: 0.9728249311447144 and parameters: {'learning_rate': 1.0104503207567813e-05, 'batch_size': 64, 'n_layers': 2, 'hidden_size': 50, 'sequence_length': 12, 'dropout': 0.2880103666344317}. Best is trial 15 with value: 0.9728249311447144.\n"
     ]
    },
    {
     "name": "stdout",
     "output_type": "stream",
     "text": [
      "Muestras de entrenamiento: 3030\n",
      "Muestras de validación: 410\n",
      "Muestras totales: 3560\n"
     ]
    },
    {
     "name": "stderr",
     "output_type": "stream",
     "text": [
      "[I 2025-06-18 14:51:42,925] Trial 16 finished with value: 0.9504972100257874 and parameters: {'learning_rate': 1.8396474522303332e-05, 'batch_size': 64, 'n_layers': 2, 'hidden_size': 50, 'sequence_length': 12, 'dropout': 0.3629306679438803}. Best is trial 16 with value: 0.9504972100257874.\n"
     ]
    },
    {
     "name": "stdout",
     "output_type": "stream",
     "text": [
      "\n",
      "=== MEJORES HIPERPARÁMETROS ===\n",
      "learning_rate: 1.8396474522303332e-05\n",
      "batch_size: 64\n",
      "n_layers: 2\n",
      "hidden_size: 50\n",
      "sequence_length: 12\n",
      "dropout: 0.3629306679438803\n",
      "\n",
      "Mejor MAE en validación: 0.9505\n"
     ]
    },
    {
     "data": {
      "application/vnd.plotly.v1+json": {
       "config": {
        "plotlyServerURL": "https://plot.ly"
       },
       "data": [
        {
         "cliponaxis": false,
         "hovertemplate": [
          "n_layers (IntDistribution): 0.035212191857011785<extra></extra>",
          "batch_size (CategoricalDistribution): 0.0813688125639387<extra></extra>",
          "sequence_length (IntDistribution): 0.0839286022500976<extra></extra>",
          "hidden_size (IntDistribution): 0.14355862564782432<extra></extra>",
          "learning_rate (FloatDistribution): 0.148638317551988<extra></extra>",
          "dropout (FloatDistribution): 0.5072934501291396<extra></extra>"
         ],
         "name": "Objective Value",
         "orientation": "h",
         "text": [
          "0.04",
          "0.08",
          "0.08",
          "0.14",
          "0.15",
          "0.51"
         ],
         "textposition": "outside",
         "type": "bar",
         "x": [
          0.035212191857011785,
          0.0813688125639387,
          0.0839286022500976,
          0.14355862564782432,
          0.148638317551988,
          0.5072934501291396
         ],
         "y": [
          "n_layers",
          "batch_size",
          "sequence_length",
          "hidden_size",
          "learning_rate",
          "dropout"
         ]
        }
       ],
       "layout": {
        "template": {
         "data": {
          "bar": [
           {
            "error_x": {
             "color": "#2a3f5f"
            },
            "error_y": {
             "color": "#2a3f5f"
            },
            "marker": {
             "line": {
              "color": "#E5ECF6",
              "width": 0.5
             },
             "pattern": {
              "fillmode": "overlay",
              "size": 10,
              "solidity": 0.2
             }
            },
            "type": "bar"
           }
          ],
          "barpolar": [
           {
            "marker": {
             "line": {
              "color": "#E5ECF6",
              "width": 0.5
             },
             "pattern": {
              "fillmode": "overlay",
              "size": 10,
              "solidity": 0.2
             }
            },
            "type": "barpolar"
           }
          ],
          "carpet": [
           {
            "aaxis": {
             "endlinecolor": "#2a3f5f",
             "gridcolor": "white",
             "linecolor": "white",
             "minorgridcolor": "white",
             "startlinecolor": "#2a3f5f"
            },
            "baxis": {
             "endlinecolor": "#2a3f5f",
             "gridcolor": "white",
             "linecolor": "white",
             "minorgridcolor": "white",
             "startlinecolor": "#2a3f5f"
            },
            "type": "carpet"
           }
          ],
          "choropleth": [
           {
            "colorbar": {
             "outlinewidth": 0,
             "ticks": ""
            },
            "type": "choropleth"
           }
          ],
          "contour": [
           {
            "colorbar": {
             "outlinewidth": 0,
             "ticks": ""
            },
            "colorscale": [
             [
              0,
              "#0d0887"
             ],
             [
              0.1111111111111111,
              "#46039f"
             ],
             [
              0.2222222222222222,
              "#7201a8"
             ],
             [
              0.3333333333333333,
              "#9c179e"
             ],
             [
              0.4444444444444444,
              "#bd3786"
             ],
             [
              0.5555555555555556,
              "#d8576b"
             ],
             [
              0.6666666666666666,
              "#ed7953"
             ],
             [
              0.7777777777777778,
              "#fb9f3a"
             ],
             [
              0.8888888888888888,
              "#fdca26"
             ],
             [
              1,
              "#f0f921"
             ]
            ],
            "type": "contour"
           }
          ],
          "contourcarpet": [
           {
            "colorbar": {
             "outlinewidth": 0,
             "ticks": ""
            },
            "type": "contourcarpet"
           }
          ],
          "heatmap": [
           {
            "colorbar": {
             "outlinewidth": 0,
             "ticks": ""
            },
            "colorscale": [
             [
              0,
              "#0d0887"
             ],
             [
              0.1111111111111111,
              "#46039f"
             ],
             [
              0.2222222222222222,
              "#7201a8"
             ],
             [
              0.3333333333333333,
              "#9c179e"
             ],
             [
              0.4444444444444444,
              "#bd3786"
             ],
             [
              0.5555555555555556,
              "#d8576b"
             ],
             [
              0.6666666666666666,
              "#ed7953"
             ],
             [
              0.7777777777777778,
              "#fb9f3a"
             ],
             [
              0.8888888888888888,
              "#fdca26"
             ],
             [
              1,
              "#f0f921"
             ]
            ],
            "type": "heatmap"
           }
          ],
          "histogram": [
           {
            "marker": {
             "pattern": {
              "fillmode": "overlay",
              "size": 10,
              "solidity": 0.2
             }
            },
            "type": "histogram"
           }
          ],
          "histogram2d": [
           {
            "colorbar": {
             "outlinewidth": 0,
             "ticks": ""
            },
            "colorscale": [
             [
              0,
              "#0d0887"
             ],
             [
              0.1111111111111111,
              "#46039f"
             ],
             [
              0.2222222222222222,
              "#7201a8"
             ],
             [
              0.3333333333333333,
              "#9c179e"
             ],
             [
              0.4444444444444444,
              "#bd3786"
             ],
             [
              0.5555555555555556,
              "#d8576b"
             ],
             [
              0.6666666666666666,
              "#ed7953"
             ],
             [
              0.7777777777777778,
              "#fb9f3a"
             ],
             [
              0.8888888888888888,
              "#fdca26"
             ],
             [
              1,
              "#f0f921"
             ]
            ],
            "type": "histogram2d"
           }
          ],
          "histogram2dcontour": [
           {
            "colorbar": {
             "outlinewidth": 0,
             "ticks": ""
            },
            "colorscale": [
             [
              0,
              "#0d0887"
             ],
             [
              0.1111111111111111,
              "#46039f"
             ],
             [
              0.2222222222222222,
              "#7201a8"
             ],
             [
              0.3333333333333333,
              "#9c179e"
             ],
             [
              0.4444444444444444,
              "#bd3786"
             ],
             [
              0.5555555555555556,
              "#d8576b"
             ],
             [
              0.6666666666666666,
              "#ed7953"
             ],
             [
              0.7777777777777778,
              "#fb9f3a"
             ],
             [
              0.8888888888888888,
              "#fdca26"
             ],
             [
              1,
              "#f0f921"
             ]
            ],
            "type": "histogram2dcontour"
           }
          ],
          "mesh3d": [
           {
            "colorbar": {
             "outlinewidth": 0,
             "ticks": ""
            },
            "type": "mesh3d"
           }
          ],
          "parcoords": [
           {
            "line": {
             "colorbar": {
              "outlinewidth": 0,
              "ticks": ""
             }
            },
            "type": "parcoords"
           }
          ],
          "pie": [
           {
            "automargin": true,
            "type": "pie"
           }
          ],
          "scatter": [
           {
            "fillpattern": {
             "fillmode": "overlay",
             "size": 10,
             "solidity": 0.2
            },
            "type": "scatter"
           }
          ],
          "scatter3d": [
           {
            "line": {
             "colorbar": {
              "outlinewidth": 0,
              "ticks": ""
             }
            },
            "marker": {
             "colorbar": {
              "outlinewidth": 0,
              "ticks": ""
             }
            },
            "type": "scatter3d"
           }
          ],
          "scattercarpet": [
           {
            "marker": {
             "colorbar": {
              "outlinewidth": 0,
              "ticks": ""
             }
            },
            "type": "scattercarpet"
           }
          ],
          "scattergeo": [
           {
            "marker": {
             "colorbar": {
              "outlinewidth": 0,
              "ticks": ""
             }
            },
            "type": "scattergeo"
           }
          ],
          "scattergl": [
           {
            "marker": {
             "colorbar": {
              "outlinewidth": 0,
              "ticks": ""
             }
            },
            "type": "scattergl"
           }
          ],
          "scattermap": [
           {
            "marker": {
             "colorbar": {
              "outlinewidth": 0,
              "ticks": ""
             }
            },
            "type": "scattermap"
           }
          ],
          "scattermapbox": [
           {
            "marker": {
             "colorbar": {
              "outlinewidth": 0,
              "ticks": ""
             }
            },
            "type": "scattermapbox"
           }
          ],
          "scatterpolar": [
           {
            "marker": {
             "colorbar": {
              "outlinewidth": 0,
              "ticks": ""
             }
            },
            "type": "scatterpolar"
           }
          ],
          "scatterpolargl": [
           {
            "marker": {
             "colorbar": {
              "outlinewidth": 0,
              "ticks": ""
             }
            },
            "type": "scatterpolargl"
           }
          ],
          "scatterternary": [
           {
            "marker": {
             "colorbar": {
              "outlinewidth": 0,
              "ticks": ""
             }
            },
            "type": "scatterternary"
           }
          ],
          "surface": [
           {
            "colorbar": {
             "outlinewidth": 0,
             "ticks": ""
            },
            "colorscale": [
             [
              0,
              "#0d0887"
             ],
             [
              0.1111111111111111,
              "#46039f"
             ],
             [
              0.2222222222222222,
              "#7201a8"
             ],
             [
              0.3333333333333333,
              "#9c179e"
             ],
             [
              0.4444444444444444,
              "#bd3786"
             ],
             [
              0.5555555555555556,
              "#d8576b"
             ],
             [
              0.6666666666666666,
              "#ed7953"
             ],
             [
              0.7777777777777778,
              "#fb9f3a"
             ],
             [
              0.8888888888888888,
              "#fdca26"
             ],
             [
              1,
              "#f0f921"
             ]
            ],
            "type": "surface"
           }
          ],
          "table": [
           {
            "cells": {
             "fill": {
              "color": "#EBF0F8"
             },
             "line": {
              "color": "white"
             }
            },
            "header": {
             "fill": {
              "color": "#C8D4E3"
             },
             "line": {
              "color": "white"
             }
            },
            "type": "table"
           }
          ]
         },
         "layout": {
          "annotationdefaults": {
           "arrowcolor": "#2a3f5f",
           "arrowhead": 0,
           "arrowwidth": 1
          },
          "autotypenumbers": "strict",
          "coloraxis": {
           "colorbar": {
            "outlinewidth": 0,
            "ticks": ""
           }
          },
          "colorscale": {
           "diverging": [
            [
             0,
             "#8e0152"
            ],
            [
             0.1,
             "#c51b7d"
            ],
            [
             0.2,
             "#de77ae"
            ],
            [
             0.3,
             "#f1b6da"
            ],
            [
             0.4,
             "#fde0ef"
            ],
            [
             0.5,
             "#f7f7f7"
            ],
            [
             0.6,
             "#e6f5d0"
            ],
            [
             0.7,
             "#b8e186"
            ],
            [
             0.8,
             "#7fbc41"
            ],
            [
             0.9,
             "#4d9221"
            ],
            [
             1,
             "#276419"
            ]
           ],
           "sequential": [
            [
             0,
             "#0d0887"
            ],
            [
             0.1111111111111111,
             "#46039f"
            ],
            [
             0.2222222222222222,
             "#7201a8"
            ],
            [
             0.3333333333333333,
             "#9c179e"
            ],
            [
             0.4444444444444444,
             "#bd3786"
            ],
            [
             0.5555555555555556,
             "#d8576b"
            ],
            [
             0.6666666666666666,
             "#ed7953"
            ],
            [
             0.7777777777777778,
             "#fb9f3a"
            ],
            [
             0.8888888888888888,
             "#fdca26"
            ],
            [
             1,
             "#f0f921"
            ]
           ],
           "sequentialminus": [
            [
             0,
             "#0d0887"
            ],
            [
             0.1111111111111111,
             "#46039f"
            ],
            [
             0.2222222222222222,
             "#7201a8"
            ],
            [
             0.3333333333333333,
             "#9c179e"
            ],
            [
             0.4444444444444444,
             "#bd3786"
            ],
            [
             0.5555555555555556,
             "#d8576b"
            ],
            [
             0.6666666666666666,
             "#ed7953"
            ],
            [
             0.7777777777777778,
             "#fb9f3a"
            ],
            [
             0.8888888888888888,
             "#fdca26"
            ],
            [
             1,
             "#f0f921"
            ]
           ]
          },
          "colorway": [
           "#636efa",
           "#EF553B",
           "#00cc96",
           "#ab63fa",
           "#FFA15A",
           "#19d3f3",
           "#FF6692",
           "#B6E880",
           "#FF97FF",
           "#FECB52"
          ],
          "font": {
           "color": "#2a3f5f"
          },
          "geo": {
           "bgcolor": "white",
           "lakecolor": "white",
           "landcolor": "#E5ECF6",
           "showlakes": true,
           "showland": true,
           "subunitcolor": "white"
          },
          "hoverlabel": {
           "align": "left"
          },
          "hovermode": "closest",
          "mapbox": {
           "style": "light"
          },
          "paper_bgcolor": "white",
          "plot_bgcolor": "#E5ECF6",
          "polar": {
           "angularaxis": {
            "gridcolor": "white",
            "linecolor": "white",
            "ticks": ""
           },
           "bgcolor": "#E5ECF6",
           "radialaxis": {
            "gridcolor": "white",
            "linecolor": "white",
            "ticks": ""
           }
          },
          "scene": {
           "xaxis": {
            "backgroundcolor": "#E5ECF6",
            "gridcolor": "white",
            "gridwidth": 2,
            "linecolor": "white",
            "showbackground": true,
            "ticks": "",
            "zerolinecolor": "white"
           },
           "yaxis": {
            "backgroundcolor": "#E5ECF6",
            "gridcolor": "white",
            "gridwidth": 2,
            "linecolor": "white",
            "showbackground": true,
            "ticks": "",
            "zerolinecolor": "white"
           },
           "zaxis": {
            "backgroundcolor": "#E5ECF6",
            "gridcolor": "white",
            "gridwidth": 2,
            "linecolor": "white",
            "showbackground": true,
            "ticks": "",
            "zerolinecolor": "white"
           }
          },
          "shapedefaults": {
           "line": {
            "color": "#2a3f5f"
           }
          },
          "ternary": {
           "aaxis": {
            "gridcolor": "white",
            "linecolor": "white",
            "ticks": ""
           },
           "baxis": {
            "gridcolor": "white",
            "linecolor": "white",
            "ticks": ""
           },
           "bgcolor": "#E5ECF6",
           "caxis": {
            "gridcolor": "white",
            "linecolor": "white",
            "ticks": ""
           }
          },
          "title": {
           "x": 0.05
          },
          "xaxis": {
           "automargin": true,
           "gridcolor": "white",
           "linecolor": "white",
           "ticks": "",
           "title": {
            "standoff": 15
           },
           "zerolinecolor": "white",
           "zerolinewidth": 2
          },
          "yaxis": {
           "automargin": true,
           "gridcolor": "white",
           "linecolor": "white",
           "ticks": "",
           "title": {
            "standoff": 15
           },
           "zerolinecolor": "white",
           "zerolinewidth": 2
          }
         }
        },
        "title": {
         "text": "Hyperparameter Importances"
        },
        "xaxis": {
         "title": {
          "text": "Hyperparameter Importance"
         }
        },
        "yaxis": {
         "title": {
          "text": "Hyperparameter"
         }
        }
       }
      }
     },
     "metadata": {},
     "output_type": "display_data"
    }
   ],
   "source": [
    "def objective(trial, df_train_scaled, preprocessor, device):\n",
    "    \"\"\"Función objetivo para Optuna\"\"\"\n",
    "    \n",
    "    # Hiperparámetros a optimizar\n",
    "    params = {\n",
    "        'learning_rate': trial.suggest_float('learning_rate', 1e-5, 1e-2, log=True),\n",
    "        'batch_size': trial.suggest_categorical('batch_size', [16, 32, 64]),\n",
    "        'n_layers': trial.suggest_int('n_layers', 1, 3),\n",
    "        'hidden_size': trial.suggest_int('hidden_size', 50, 150, step=25),\n",
    "        'sequence_length': trial.suggest_int('sequence_length', 8, 16, step=2),\n",
    "        'dropout': trial.suggest_float('dropout', 0.1, 0.5)\n",
    "    }\n",
    "    \n",
    "    # Crear dataloaders con los hiperparámetros\n",
    "    train_loader, val_loader, _ = create_dataloaders(\n",
    "        df_train_scaled, None, preprocessor,\n",
    "        sequence_length=params['sequence_length'],\n",
    "        batch_size=params['batch_size'],\n",
    "        val_years=[2021]\n",
    "    )\n",
    "    \n",
    "    # Crear modelo\n",
    "    input_size = len(preprocessor.feature_columns)\n",
    "    model = DengueLSTM(\n",
    "        input_size=input_size,\n",
    "        hidden_size=params['hidden_size'],\n",
    "        n_layers=params['n_layers'],\n",
    "        dropout=params['dropout']\n",
    "    ).to(device)\n",
    "    \n",
    "    # Optimizador y función de pérdida\n",
    "    optimizer = optim.Adam(model.parameters(), lr=params['learning_rate'])\n",
    "    criterion = nn.MSELoss()\n",
    "    \n",
    "    # Early stopping\n",
    "    best_val_mae = float('inf')\n",
    "    patience = 20\n",
    "    patience_counter = 0\n",
    "    \n",
    "    # Entrenar por un número fijo de épocas\n",
    "    n_epochs = 100\n",
    "    \n",
    "    for epoch in range(n_epochs):\n",
    "        # Entrenar\n",
    "        train_loss = train_epoch(model, train_loader, optimizer, criterion, device)\n",
    "        \n",
    "        # Evaluar\n",
    "        val_loss, val_mae = evaluate_model(model, val_loader, criterion, device)\n",
    "        \n",
    "        # Early stopping\n",
    "        if val_mae < best_val_mae:\n",
    "            best_val_mae = val_mae\n",
    "            patience_counter = 0\n",
    "        else:\n",
    "            patience_counter += 1\n",
    "            \n",
    "        if patience_counter >= patience:\n",
    "            break\n",
    "        \n",
    "        # Reportar a Optuna\n",
    "        trial.report(val_mae, epoch)\n",
    "        \n",
    "        # Pruning\n",
    "        if trial.should_prune():\n",
    "            raise optuna.TrialPruned()\n",
    "    \n",
    "    return best_val_mae\n",
    "\n",
    "# Ejecutar búsqueda de hiperparámetros\n",
    "print(\"Iniciando búsqueda de hiperparámetros con Optuna...\")\n",
    "\n",
    "study = optuna.create_study(\n",
    "    direction='minimize',\n",
    "    pruner=optuna.pruners.MedianPruner(n_startup_trials=5, n_warmup_steps=10)\n",
    ")\n",
    "\n",
    "# Optimizar\n",
    "study.optimize(\n",
    "    lambda trial: objective(trial, df_train_scaled, preprocessor, device),\n",
    "    n_trials=100#,\n",
    "    #timeout=3600  # 1 hora máximo\n",
    ")\n",
    "\n",
    "# Mostrar mejores hiperparámetros\n",
    "print(\"\\n=== MEJORES HIPERPARÁMETROS ===\")\n",
    "best_params = study.best_params\n",
    "for key, value in best_params.items():\n",
    "    print(f\"{key}: {value}\")\n",
    "print(f\"\\nMejor MAE en validación: {study.best_value:.4f}\")\n",
    "\n",
    "# Visualizar importancia de hiperparámetros\n",
    "fig = optuna.visualization.plot_param_importances(study)\n",
    "fig.show()"
   ]
  },
  {
   "cell_type": "code",
   "execution_count": 10,
   "id": "d02f53fa",
   "metadata": {},
   "outputs": [
    {
     "name": "stdout",
     "output_type": "stream",
     "text": [
      "Muestras de entrenamiento: 3560\n",
      "Muestras de validación: 0\n",
      "Muestras totales: 3560\n",
      "\n",
      "Entrenando modelo final con todos los datos...\n",
      "Época 10/200, Loss: 11.4803\n",
      "Época 20/200, Loss: 10.6966\n",
      "Época 30/200, Loss: 10.2075\n",
      "Época 40/200, Loss: 9.6651\n",
      "Época 50/200, Loss: 9.4337\n",
      "Época 60/200, Loss: 9.1927\n",
      "Época 70/200, Loss: 9.0114\n",
      "Época 80/200, Loss: 8.5855\n",
      "Época 90/200, Loss: 8.3613\n",
      "Época 100/200, Loss: 8.2948\n",
      "Época 110/200, Loss: 7.9735\n",
      "Época 120/200, Loss: 7.6028\n",
      "Época 130/200, Loss: 7.6577\n",
      "Época 140/200, Loss: 7.2617\n",
      "Época 150/200, Loss: 7.2692\n",
      "Época 160/200, Loss: 6.9954\n",
      "Época 170/200, Loss: 6.8128\n",
      "Época 180/200, Loss: 6.7331\n",
      "Época 190/200, Loss: 6.6610\n",
      "Época 200/200, Loss: 6.5312\n"
     ]
    },
    {
     "data": {
      "image/png": "[encoded data removed]",
      "text/plain": [
       "<Figure size 1000x600 with 1 Axes>"
      ]
     },
     "metadata": {},
     "output_type": "display_data"
    },
    {
     "name": "stdout",
     "output_type": "stream",
     "text": [
      "Modelo guardado exitosamente!\n"
     ]
    }
   ],
   "source": [
    "# Usar los mejores hiperparámetros encontrados\n",
    "best_params = study.best_params\n",
    "\n",
    "# Crear dataloaders con TODOS los datos de entrenamiento\n",
    "_, _, full_train_loader = create_dataloaders(\n",
    "    df_train_scaled, df_test_scaled, preprocessor,\n",
    "    sequence_length=best_params['sequence_length'],\n",
    "    batch_size=best_params['batch_size'],\n",
    "    val_years=[]  # No usar validación, entrenar con todo\n",
    ")\n",
    "\n",
    "# Crear modelo final\n",
    "input_size = len(preprocessor.feature_columns)\n",
    "final_model = DengueLSTM(\n",
    "    input_size=input_size,\n",
    "    hidden_size=best_params['hidden_size'],\n",
    "    n_layers=best_params['n_layers'],\n",
    "    dropout=best_params['dropout']\n",
    ").to(device)\n",
    "\n",
    "# Configurar entrenamiento\n",
    "optimizer = optim.Adam(final_model.parameters(), lr=best_params['learning_rate'])\n",
    "criterion = nn.MSELoss()\n",
    "\n",
    "# Entrenar modelo final\n",
    "print(\"\\nEntrenando modelo final con todos los datos...\")\n",
    "n_epochs_final = 200\n",
    "train_losses = []\n",
    "\n",
    "for epoch in range(n_epochs_final):\n",
    "    train_loss = train_epoch(final_model, full_train_loader, optimizer, criterion, device)\n",
    "    train_losses.append(train_loss)\n",
    "    \n",
    "    if (epoch + 1) % 10 == 0:\n",
    "        print(f\"Época {epoch + 1}/{n_epochs_final}, Loss: {train_loss:.4f}\")\n",
    "\n",
    "# Visualizar curva de entrenamiento\n",
    "plt.figure(figsize=(10, 6))\n",
    "plt.plot(train_losses)\n",
    "plt.title('Curva de Entrenamiento - Modelo Final')\n",
    "plt.xlabel('Época')\n",
    "plt.ylabel('Loss (MSE)')\n",
    "plt.grid(True)\n",
    "plt.show()\n",
    "\n",
    "# Guardar modelo\n",
    "torch.save({\n",
    "    'model_state_dict': final_model.state_dict(),\n",
    "    'hyperparameters': best_params,\n",
    "    'feature_columns': preprocessor.feature_columns,\n",
    "    'scaler': preprocessor.scaler,\n",
    "    'encoder': preprocessor.encoder\n",
    "}, 'dengue_lstm_model.pth')\n",
    "\n",
    "print(\"Modelo guardado exitosamente!\")"
   ]
  },
  {
   "cell_type": "code",
   "execution_count": 11,
   "id": "1d9b9049",
   "metadata": {},
   "outputs": [
    {
     "name": "stdout",
     "output_type": "stream",
     "text": [
      "\n",
      "Generando predicciones para 2022...\n",
      "Predicciones completadas para barrio 0\n",
      "Predicciones completadas para barrio 1\n",
      "Predicciones completadas para barrio 2\n",
      "Predicciones completadas para barrio 3\n",
      "Predicciones completadas para barrio 4\n",
      "Predicciones completadas para barrio 5\n",
      "Predicciones completadas para barrio 6\n",
      "Predicciones completadas para barrio 7\n",
      "Predicciones completadas para barrio 8\n",
      "Predicciones completadas para barrio 9\n",
      "\n",
      "Forma de predicciones: (520, 5)\n",
      "         id  id_bar  anio  semana  dengue\n",
      "0  0_2022_1       0  2022       1  0.4687\n",
      "1  0_2022_2       0  2022       2  0.0000\n",
      "2  0_2022_3       0  2022       3  0.0000\n",
      "3  0_2022_4       0  2022       4  0.0000\n",
      "4  0_2022_5       0  2022       5  0.0000\n",
      "\n",
      "Archivo submission.csv creado exitosamente!\n",
      "\n",
      "=== ESTADÍSTICAS DE PREDICCIONES ===\n",
      "Total de predicciones: 520\n",
      "Promedio de casos predichos: 0.02\n",
      "Desviación estándar: 0.13\n",
      "Mínimo: 0.00\n",
      "Máximo: 1.40\n"
     ]
    }
   ],
   "source": [
    "def generate_predictions_2022(model, df_train_scaled, df_test_scaled, preprocessor, \n",
    "                            sequence_length, device):\n",
    "    \"\"\"Genera predicciones autoregresivas para todo 2022\"\"\"\n",
    "    \n",
    "    model.eval()\n",
    "    predictions_2022 = []\n",
    "    \n",
    "    # Obtener todos los barrios\n",
    "    barrios = sorted(df_train_scaled['id_bar'].unique())\n",
    "    \n",
    "    with torch.no_grad():\n",
    "        for barrio in barrios:\n",
    "            # Obtener datos históricos del barrio\n",
    "            barrio_train = df_train_scaled[df_train_scaled['id_bar'] == barrio].sort_values('fecha')\n",
    "            barrio_test = df_test_scaled[df_test_scaled['id_bar'] == barrio].sort_values('fecha')\n",
    "            \n",
    "            # Si hay datos en test, usar la combinación de train + test\n",
    "            if len(barrio_test) > 0:\n",
    "                barrio_data = pd.concat([barrio_train, barrio_test]).sort_values('fecha')\n",
    "            else:\n",
    "                barrio_data = barrio_train\n",
    "            \n",
    "            # Tomar las últimas 'sequence_length' semanas como input inicial\n",
    "            last_sequence = barrio_data.tail(sequence_length).copy()\n",
    "            \n",
    "            # Generar predicciones para las 52 semanas de 2022\n",
    "            for week in range(1, 53):\n",
    "                # Preparar input\n",
    "                X = torch.FloatTensor(\n",
    "                    last_sequence[preprocessor.feature_columns].values\n",
    "                ).unsqueeze(0).to(device)\n",
    "                \n",
    "                # Predecir\n",
    "                pred = model(X).cpu().item()\n",
    "                \n",
    "                # Guardar predicción\n",
    "                predictions_2022.append({\n",
    "                    'id': f\"{barrio}_2022_{week}\",\n",
    "                    'id_bar': barrio,\n",
    "                    'anio': 2022,\n",
    "                    'semana': week,\n",
    "                    'dengue': max(0, pred)  # Asegurar no negativos\n",
    "                })\n",
    "                \n",
    "                # Actualizar secuencia para predicción autoregresiva\n",
    "                # Crear nueva fila con la predicción\n",
    "                new_row = last_sequence.iloc[-1:].copy()\n",
    "                new_row['dengue'] = pred\n",
    "                new_row['semana'] = week\n",
    "                new_row['anio'] = 2022\n",
    "                \n",
    "                # Actualizar fecha\n",
    "                if week == 1:\n",
    "                    new_row['fecha'] = pd.Timestamp('2022-01-03')  # Primer lunes de 2022\n",
    "                else:\n",
    "                    new_row['fecha'] = new_row['fecha'] + timedelta(weeks=1)\n",
    "                \n",
    "                # Actualizar secuencia eliminando la primera fila y agregando la nueva\n",
    "                last_sequence = pd.concat([last_sequence.iloc[1:], new_row], ignore_index=True)\n",
    "            \n",
    "            print(f\"Predicciones completadas para barrio {barrio}\")\n",
    "    \n",
    "    return pd.DataFrame(predictions_2022)\n",
    "\n",
    "# Generar predicciones\n",
    "print(\"\\nGenerando predicciones para 2022...\")\n",
    "predictions_df = generate_predictions_2022(\n",
    "    final_model, df_train_scaled, df_test_scaled, \n",
    "    preprocessor, best_params['sequence_length'], device\n",
    ")\n",
    "\n",
    "print(f\"\\nForma de predicciones: {predictions_df.shape}\")\n",
    "print(predictions_df.head())\n",
    "\n",
    "# Crear archivo de sumisión\n",
    "submission_df = predictions_df[['id', 'dengue']]\n",
    "submission_df.to_csv('submission_Claude_LSTM.csv', index=False)\n",
    "print(\"\\nArchivo submission.csv creado exitosamente!\")\n",
    "\n",
    "# Estadísticas de las predicciones\n",
    "print(\"\\n=== ESTADÍSTICAS DE PREDICCIONES ===\")\n",
    "print(f\"Total de predicciones: {len(submission_df)}\")\n",
    "print(f\"Promedio de casos predichos: {submission_df['dengue'].mean():.2f}\")\n",
    "print(f\"Desviación estándar: {submission_df['dengue'].std():.2f}\")\n",
    "print(f\"Mínimo: {submission_df['dengue'].min():.2f}\")\n",
    "print(f\"Máximo: {submission_df['dengue'].max():.2f}\")"
   ]
  },
  {
   "cell_type": "code",
   "execution_count": 12,
   "id": "fe8d7c2d",
   "metadata": {},
   "outputs": [
    {
     "data": {
      "application/vnd.plotly.v1+json": {
       "config": {
        "plotlyServerURL": "https://plot.ly"
       },
       "data": [
        {
         "line": {
          "color": "blue"
         },
         "mode": "lines",
         "name": "Histórico - Barrio 0",
         "showlegend": true,
         "type": "scatter",
         "x": [
          "2015-01-05T00:00:00.000000000",
          "2015-01-12T00:00:00.000000000",
          "2015-01-19T00:00:00.000000000",
          "2015-01-26T00:00:00.000000000",
          "2015-02-02T00:00:00.000000000",
          "2015-02-09T00:00:00.000000000",
          "2015-02-16T00:00:00.000000000",
          "2015-02-23T00:00:00.000000000",
          "2015-03-02T00:00:00.000000000",
          "2015-03-09T00:00:00.000000000",
          "2015-03-16T00:00:00.000000000",
          "2015-03-23T00:00:00.000000000",
          "2015-03-30T00:00:00.000000000",
          "2015-04-06T00:00:00.000000000",
          "2015-04-13T00:00:00.000000000",
          "2015-04-20T00:00:00.000000000",
          "2015-04-27T00:00:00.000000000",
          "2015-05-04T00:00:00.000000000",
          "2015-05-11T00:00:00.000000000",
          "2015-05-18T00:00:00.000000000",
          "2015-05-25T00:00:00.000000000",
          "2015-06-01T00:00:00.000000000",
          "2015-06-08T00:00:00.000000000",
          "2015-06-15T00:00:00.000000000",
          "2015-06-22T00:00:00.000000000",
          "2015-06-29T00:00:00.000000000",
          "2015-07-06T00:00:00.000000000",
          "2015-07-13T00:00:00.000000000",
          "2015-07-20T00:00:00.000000000",
          "2015-07-27T00:00:00.000000000",
          "2015-08-03T00:00:00.000000000",
          "2015-08-10T00:00:00.000000000",
          "2015-08-17T00:00:00.000000000",
          "2015-08-24T00:00:00.000000000",
          "2015-08-31T00:00:00.000000000",
          "2015-09-07T00:00:00.000000000",
          "2015-09-14T00:00:00.000000000",
          "2015-09-21T00:00:00.000000000",
          "2015-09-28T00:00:00.000000000",
          "2015-10-05T00:00:00.000000000",
          "2015-10-12T00:00:00.000000000",
          "2015-10-19T00:00:00.000000000",
          "2015-10-26T00:00:00.000000000",
          "2015-11-02T00:00:00.000000000",
          "2015-11-09T00:00:00.000000000",
          "2015-11-16T00:00:00.000000000",
          "2015-11-23T00:00:00.000000000",
          "2015-11-30T00:00:00.000000000",
          "2015-12-07T00:00:00.000000000",
          "2015-12-14T00:00:00.000000000",
          "2015-12-21T00:00:00.000000000",
          "2015-12-28T00:00:00.000000000",
          "2016-01-04T00:00:00.000000000",
          "2016-01-04T00:00:00.000000000",
          "2016-01-11T00:00:00.000000000",
          "2016-01-18T00:00:00.000000000",
          "2016-01-25T00:00:00.000000000",
          "2016-02-01T00:00:00.000000000",
          "2016-02-08T00:00:00.000000000",
          "2016-02-15T00:00:00.000000000",
          "2016-02-22T00:00:00.000000000",
          "2016-02-29T00:00:00.000000000",
          "2016-03-07T00:00:00.000000000",
          "2016-03-14T00:00:00.000000000",
          "2016-03-21T00:00:00.000000000",
          "2016-03-28T00:00:00.000000000",
          "2016-04-04T00:00:00.000000000",
          "2016-04-11T00:00:00.000000000",
          "2016-04-18T00:00:00.000000000",
          "2016-04-25T00:00:00.000000000",
          "2016-05-02T00:00:00.000000000",
          "2016-05-09T00:00:00.000000000",
          "2016-05-16T00:00:00.000000000",
          "2016-05-23T00:00:00.000000000",
          "2016-05-30T00:00:00.000000000",
          "2016-06-06T00:00:00.000000000",
          "2016-06-13T00:00:00.000000000",
          "2016-06-20T00:00:00.000000000",
          "2016-06-27T00:00:00.000000000",
          "2016-07-04T00:00:00.000000000",
          "2016-07-11T00:00:00.000000000",
          "2016-07-18T00:00:00.000000000",
          "2016-07-25T00:00:00.000000000",
          "2016-08-01T00:00:00.000000000",
          "2016-08-08T00:00:00.000000000",
          "2016-08-15T00:00:00.000000000",
          "2016-08-22T00:00:00.000000000",
          "2016-08-29T00:00:00.000000000",
          "2016-09-05T00:00:00.000000000",
          "2016-09-12T00:00:00.000000000",
          "2016-09-19T00:00:00.000000000",
          "2016-09-26T00:00:00.000000000",
          "2016-10-03T00:00:00.000000000",
          "2016-10-10T00:00:00.000000000",
          "2016-10-17T00:00:00.000000000",
          "2016-10-24T00:00:00.000000000",
          "2016-10-31T00:00:00.000000000",
          "2016-11-07T00:00:00.000000000",
          "2016-11-14T00:00:00.000000000",
          "2016-11-21T00:00:00.000000000",
          "2016-11-28T00:00:00.000000000",
          "2016-12-05T00:00:00.000000000",
          "2016-12-12T00:00:00.000000000",
          "2016-12-19T00:00:00.000000000",
          "2016-12-26T00:00:00.000000000",
          "2017-01-02T00:00:00.000000000",
          "2017-01-02T00:00:00.000000000",
          "2017-01-09T00:00:00.000000000",
          "2017-01-16T00:00:00.000000000",
          "2017-01-23T00:00:00.000000000",
          "2017-01-30T00:00:00.000000000",
          "2017-02-06T00:00:00.000000000",
          "2017-02-13T00:00:00.000000000",
          "2017-02-20T00:00:00.000000000",
          "2017-02-27T00:00:00.000000000",
          "2017-03-06T00:00:00.000000000",
          "2017-03-13T00:00:00.000000000",
          "2017-03-20T00:00:00.000000000",
          "2017-03-27T00:00:00.000000000",
          "2017-04-03T00:00:00.000000000",
          "2017-04-10T00:00:00.000000000",
          "2017-04-17T00:00:00.000000000",
          "2017-04-24T00:00:00.000000000",
          "2017-05-01T00:00:00.000000000",
          "2017-05-08T00:00:00.000000000",
          "2017-05-15T00:00:00.000000000",
          "2017-05-22T00:00:00.000000000",
          "2017-05-29T00:00:00.000000000",
          "2017-06-05T00:00:00.000000000",
          "2017-06-12T00:00:00.000000000",
          "2017-06-19T00:00:00.000000000",
          "2017-06-26T00:00:00.000000000",
          "2017-07-03T00:00:00.000000000",
          "2017-07-10T00:00:00.000000000",
          "2017-07-17T00:00:00.000000000",
          "2017-07-24T00:00:00.000000000",
          "2017-07-31T00:00:00.000000000",
          "2017-08-07T00:00:00.000000000",
          "2017-08-14T00:00:00.000000000",
          "2017-08-21T00:00:00.000000000",
          "2017-08-28T00:00:00.000000000",
          "2017-09-04T00:00:00.000000000",
          "2017-09-11T00:00:00.000000000",
          "2017-09-18T00:00:00.000000000",
          "2017-09-25T00:00:00.000000000",
          "2017-10-02T00:00:00.000000000",
          "2017-10-09T00:00:00.000000000",
          "2017-10-16T00:00:00.000000000",
          "2017-10-23T00:00:00.000000000",
          "2017-10-30T00:00:00.000000000",
          "2017-11-06T00:00:00.000000000",
          "2017-11-13T00:00:00.000000000",
          "2017-11-20T00:00:00.000000000",
          "2017-11-27T00:00:00.000000000",
          "2017-12-04T00:00:00.000000000",
          "2017-12-11T00:00:00.000000000",
          "2017-12-18T00:00:00.000000000",
          "2017-12-25T00:00:00.000000000",
          "2018-01-01T00:00:00.000000000",
          "2018-01-08T00:00:00.000000000",
          "2018-01-15T00:00:00.000000000",
          "2018-01-22T00:00:00.000000000",
          "2018-01-29T00:00:00.000000000",
          "2018-02-05T00:00:00.000000000",
          "2018-02-12T00:00:00.000000000",
          "2018-02-19T00:00:00.000000000",
          "2018-02-26T00:00:00.000000000",
          "2018-03-05T00:00:00.000000000",
          "2018-03-12T00:00:00.000000000",
          "2018-03-19T00:00:00.000000000",
          "2018-03-26T00:00:00.000000000",
          "2018-04-02T00:00:00.000000000",
          "2018-04-09T00:00:00.000000000",
          "2018-04-16T00:00:00.000000000",
          "2018-04-23T00:00:00.000000000",
          "2018-04-30T00:00:00.000000000",
          "2018-05-07T00:00:00.000000000",
          "2018-05-14T00:00:00.000000000",
          "2018-05-21T00:00:00.000000000",
          "2018-05-28T00:00:00.000000000",
          "2018-06-04T00:00:00.000000000",
          "2018-06-11T00:00:00.000000000",
          "2018-06-18T00:00:00.000000000",
          "2018-06-25T00:00:00.000000000",
          "2018-07-02T00:00:00.000000000",
          "2018-07-09T00:00:00.000000000",
          "2018-07-16T00:00:00.000000000",
          "2018-07-23T00:00:00.000000000",
          "2018-07-30T00:00:00.000000000",
          "2018-08-06T00:00:00.000000000",
          "2018-08-13T00:00:00.000000000",
          "2018-08-20T00:00:00.000000000",
          "2018-08-27T00:00:00.000000000",
          "2018-09-03T00:00:00.000000000",
          "2018-09-10T00:00:00.000000000",
          "2018-09-17T00:00:00.000000000",
          "2018-09-24T00:00:00.000000000",
          "2018-10-01T00:00:00.000000000",
          "2018-10-08T00:00:00.000000000",
          "2018-10-15T00:00:00.000000000",
          "2018-10-22T00:00:00.000000000",
          "2018-10-29T00:00:00.000000000",
          "2018-11-05T00:00:00.000000000",
          "2018-11-12T00:00:00.000000000",
          "2018-11-19T00:00:00.000000000",
          "2018-11-26T00:00:00.000000000",
          "2018-12-03T00:00:00.000000000",
          "2018-12-10T00:00:00.000000000",
          "2018-12-17T00:00:00.000000000",
          "2018-12-24T00:00:00.000000000",
          "2019-01-07T00:00:00.000000000",
          "2019-01-14T00:00:00.000000000",
          "2019-01-21T00:00:00.000000000",
          "2019-01-28T00:00:00.000000000",
          "2019-02-04T00:00:00.000000000",
          "2019-02-11T00:00:00.000000000",
          "2019-02-18T00:00:00.000000000",
          "2019-02-25T00:00:00.000000000",
          "2019-03-04T00:00:00.000000000",
          "2019-03-11T00:00:00.000000000",
          "2019-03-18T00:00:00.000000000",
          "2019-03-25T00:00:00.000000000",
          "2019-04-01T00:00:00.000000000",
          "2019-04-08T00:00:00.000000000",
          "2019-04-15T00:00:00.000000000",
          "2019-04-22T00:00:00.000000000",
          "2019-04-29T00:00:00.000000000",
          "2019-05-06T00:00:00.000000000",
          "2019-05-13T00:00:00.000000000",
          "2019-05-20T00:00:00.000000000",
          "2019-05-27T00:00:00.000000000",
          "2019-06-03T00:00:00.000000000",
          "2019-06-10T00:00:00.000000000",
          "2019-06-17T00:00:00.000000000",
          "2019-06-24T00:00:00.000000000",
          "2019-07-01T00:00:00.000000000",
          "2019-07-08T00:00:00.000000000",
          "2019-07-15T00:00:00.000000000",
          "2019-07-22T00:00:00.000000000",
          "2019-07-29T00:00:00.000000000",
          "2019-08-05T00:00:00.000000000",
          "2019-08-12T00:00:00.000000000",
          "2019-08-19T00:00:00.000000000",
          "2019-08-26T00:00:00.000000000",
          "2019-09-02T00:00:00.000000000",
          "2019-09-09T00:00:00.000000000",
          "2019-09-16T00:00:00.000000000",
          "2019-09-23T00:00:00.000000000",
          "2019-09-30T00:00:00.000000000",
          "2019-10-07T00:00:00.000000000",
          "2019-10-14T00:00:00.000000000",
          "2019-10-21T00:00:00.000000000",
          "2019-10-28T00:00:00.000000000",
          "2019-11-04T00:00:00.000000000",
          "2019-11-11T00:00:00.000000000",
          "2019-11-18T00:00:00.000000000",
          "2019-11-25T00:00:00.000000000",
          "2019-12-02T00:00:00.000000000",
          "2019-12-09T00:00:00.000000000",
          "2019-12-16T00:00:00.000000000",
          "2019-12-23T00:00:00.000000000",
          "2019-12-30T00:00:00.000000000",
          "2020-01-06T00:00:00.000000000",
          "2020-01-13T00:00:00.000000000",
          "2020-01-20T00:00:00.000000000",
          "2020-01-27T00:00:00.000000000",
          "2020-02-03T00:00:00.000000000",
          "2020-02-10T00:00:00.000000000",
          "2020-02-17T00:00:00.000000000",
          "2020-02-24T00:00:00.000000000",
          "2020-03-02T00:00:00.000000000",
          "2020-03-09T00:00:00.000000000",
          "2020-03-16T00:00:00.000000000",
          "2020-03-23T00:00:00.000000000",
          "2020-03-30T00:00:00.000000000",
          "2020-04-06T00:00:00.000000000",
          "2020-04-13T00:00:00.000000000",
          "2020-04-20T00:00:00.000000000",
          "2020-04-27T00:00:00.000000000",
          "2020-05-04T00:00:00.000000000",
          "2020-05-11T00:00:00.000000000",
          "2020-05-18T00:00:00.000000000",
          "2020-05-25T00:00:00.000000000",
          "2020-06-01T00:00:00.000000000",
          "2020-06-08T00:00:00.000000000",
          "2020-06-15T00:00:00.000000000",
          "2020-06-22T00:00:00.000000000",
          "2020-06-29T00:00:00.000000000",
          "2020-07-06T00:00:00.000000000",
          "2020-07-13T00:00:00.000000000",
          "2020-07-20T00:00:00.000000000",
          "2020-07-27T00:00:00.000000000",
          "2020-08-03T00:00:00.000000000",
          "2020-08-10T00:00:00.000000000",
          "2020-08-17T00:00:00.000000000",
          "2020-08-24T00:00:00.000000000",
          "2020-08-31T00:00:00.000000000",
          "2020-09-07T00:00:00.000000000",
          "2020-09-14T00:00:00.000000000",
          "2020-09-21T00:00:00.000000000",
          "2020-09-28T00:00:00.000000000",
          "2020-10-05T00:00:00.000000000",
          "2020-10-12T00:00:00.000000000",
          "2020-10-19T00:00:00.000000000",
          "2020-10-26T00:00:00.000000000",
          "2020-11-02T00:00:00.000000000",
          "2020-11-09T00:00:00.000000000",
          "2020-11-16T00:00:00.000000000",
          "2020-11-23T00:00:00.000000000",
          "2020-11-30T00:00:00.000000000",
          "2020-12-07T00:00:00.000000000",
          "2020-12-14T00:00:00.000000000",
          "2020-12-21T00:00:00.000000000",
          "2020-12-28T00:00:00.000000000",
          "2021-01-04T00:00:00.000000000",
          "2021-01-04T00:00:00.000000000",
          "2021-01-11T00:00:00.000000000",
          "2021-01-18T00:00:00.000000000",
          "2021-01-25T00:00:00.000000000",
          "2021-02-01T00:00:00.000000000",
          "2021-02-08T00:00:00.000000000",
          "2021-02-15T00:00:00.000000000",
          "2021-02-22T00:00:00.000000000",
          "2021-03-01T00:00:00.000000000",
          "2021-03-08T00:00:00.000000000",
          "2021-03-15T00:00:00.000000000",
          "2021-03-22T00:00:00.000000000",
          "2021-03-29T00:00:00.000000000",
          "2021-04-05T00:00:00.000000000",
          "2021-04-12T00:00:00.000000000",
          "2021-04-19T00:00:00.000000000",
          "2021-04-26T00:00:00.000000000",
          "2021-05-03T00:00:00.000000000",
          "2021-05-10T00:00:00.000000000",
          "2021-05-17T00:00:00.000000000",
          "2021-05-24T00:00:00.000000000",
          "2021-05-31T00:00:00.000000000",
          "2021-06-07T00:00:00.000000000",
          "2021-06-14T00:00:00.000000000",
          "2021-06-21T00:00:00.000000000",
          "2021-06-28T00:00:00.000000000",
          "2021-07-05T00:00:00.000000000",
          "2021-07-12T00:00:00.000000000",
          "2021-07-19T00:00:00.000000000",
          "2021-07-26T00:00:00.000000000",
          "2021-08-02T00:00:00.000000000",
          "2021-08-09T00:00:00.000000000",
          "2021-08-16T00:00:00.000000000",
          "2021-08-23T00:00:00.000000000",
          "2021-08-30T00:00:00.000000000",
          "2021-09-06T00:00:00.000000000",
          "2021-09-13T00:00:00.000000000",
          "2021-09-20T00:00:00.000000000",
          "2021-09-27T00:00:00.000000000",
          "2021-10-04T00:00:00.000000000",
          "2021-10-11T00:00:00.000000000",
          "2021-10-18T00:00:00.000000000",
          "2021-10-25T00:00:00.000000000",
          "2021-11-01T00:00:00.000000000",
          "2021-11-08T00:00:00.000000000",
          "2021-11-15T00:00:00.000000000",
          "2021-11-22T00:00:00.000000000",
          "2021-11-29T00:00:00.000000000",
          "2021-12-06T00:00:00.000000000",
          "2021-12-13T00:00:00.000000000",
          "2021-12-20T00:00:00.000000000",
          "2021-12-27T00:00:00.000000000",
          "2022-01-03T00:00:00.000000000"
         ],
         "xaxis": "x",
         "y": {
          "bdata": "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",
          "dtype": "f8"
         },
         "yaxis": "y"
        },
        {
         "line": {
          "color": "red",
          "dash": "dash"
         },
         "mode": "lines",
         "name": "Predicción 2022 - Barrio 0",
         "showlegend": true,
         "type": "scatter",
         "x": [
          "2022-01-03T00:00:00.000000000",
          "2022-01-10T00:00:00.000000000",
          "2022-01-17T00:00:00.000000000",
          "2022-01-24T00:00:00.000000000",
          "2022-01-31T00:00:00.000000000",
          "2022-02-07T00:00:00.000000000",
          "2022-02-14T00:00:00.000000000",
          "2022-02-21T00:00:00.000000000",
          "2022-02-28T00:00:00.000000000",
          "2022-03-07T00:00:00.000000000",
          "2022-03-14T00:00:00.000000000",
          "2022-03-21T00:00:00.000000000",
          "2022-03-28T00:00:00.000000000",
          "2022-04-04T00:00:00.000000000",
          "2022-04-11T00:00:00.000000000",
          "2022-04-18T00:00:00.000000000",
          "2022-04-25T00:00:00.000000000",
          "2022-05-02T00:00:00.000000000",
          "2022-05-09T00:00:00.000000000",
          "2022-05-16T00:00:00.000000000",
          "2022-05-23T00:00:00.000000000",
          "2022-05-30T00:00:00.000000000",
          "2022-06-06T00:00:00.000000000",
          "2022-06-13T00:00:00.000000000",
          "2022-06-20T00:00:00.000000000",
          "2022-06-27T00:00:00.000000000",
          "2022-07-04T00:00:00.000000000",
          "2022-07-11T00:00:00.000000000",
          "2022-07-18T00:00:00.000000000",
          "2022-07-25T00:00:00.000000000",
          "2022-08-01T00:00:00.000000000",
          "2022-08-08T00:00:00.000000000",
          "2022-08-15T00:00:00.000000000",
          "2022-08-22T00:00:00.000000000",
          "2022-08-29T00:00:00.000000000",
          "2022-09-05T00:00:00.000000000",
          "2022-09-12T00:00:00.000000000",
          "2022-09-19T00:00:00.000000000",
          "2022-09-26T00:00:00.000000000",
          "2022-10-03T00:00:00.000000000",
          "2022-10-10T00:00:00.000000000",
          "2022-10-17T00:00:00.000000000",
          "2022-10-24T00:00:00.000000000",
          "2022-10-31T00:00:00.000000000",
          "2022-11-07T00:00:00.000000000",
          "2022-11-14T00:00:00.000000000",
          "2022-11-21T00:00:00.000000000",
          "2022-11-28T00:00:00.000000000",
          "2022-12-05T00:00:00.000000000",
          "2022-12-12T00:00:00.000000000",
          "2022-12-19T00:00:00.000000000",
          "2022-12-26T00:00:00.000000000"
         ],
         "xaxis": "x",
         "y": {
          "bdata": "AAAAYCz/3T8AAAAAAAAAAAAAAAAAAAAAAAAAAAAAAAAAAAAAAAAAAAAAAAAAAAAAAAAAAAAAAAAAAAAAAAAAAAAAAAAAAAAAAAAAAAAAAAAAAAAAAAAAAAAAAAAAAAAAAAAAAAAAAAAAAAAAAAAAAAAAAAAAAAAAAAAAAAAAAAAAAAAAAAAAAAAAAAAAAAAAAAAAAAAAAAAAAAAAAAAAAAAAAAAAAAAAAAAAAAAAAAAAAAAAAAAAAAAAAAAAAAAAAAAAAAAAAAAAAAAAAAAAAAAAAAAAAAAAAAAAAAAAAAAAAAAAAAAAAAAAAAAAAAAAAAAAAAAAAAAAAAAAAAAAAAAAAAAAAAAAAAAAAAAAAAAAAAAAAAAAAAAAAAAAAAAAAAAAAAAAAAAAAAAAAAAAAAAAAAAAAAAAAAAAAAAAAAAAAAAAAAAAAAAAAAAAAAAAAAAAAAAAAAAAAAAAAAAAAAAAAAAAAAAAAAAAAAAAAAAAAAAAAAAAAAAAAAAAAAAAAAAAAAAAAAAAAAAAAAAAAAAAAAAAAAAAAAAAAAAAAAA=",
          "dtype": "f8"
         },
         "yaxis": "y"
        },
        {
         "line": {
          "color": "blue"
         },
         "mode": "lines",
         "name": "Histórico - Barrio 1",
         "showlegend": false,
         "type": "scatter",
         "x": [
          "2015-01-05T00:00:00.000000000",
          "2015-01-12T00:00:00.000000000",
          "2015-01-19T00:00:00.000000000",
          "2015-01-26T00:00:00.000000000",
          "2015-02-02T00:00:00.000000000",
          "2015-02-09T00:00:00.000000000",
          "2015-02-16T00:00:00.000000000",
          "2015-02-23T00:00:00.000000000",
          "2015-03-02T00:00:00.000000000",
          "2015-03-09T00:00:00.000000000",
          "2015-03-16T00:00:00.000000000",
          "2015-03-23T00:00:00.000000000",
          "2015-03-30T00:00:00.000000000",
          "2015-04-06T00:00:00.000000000",
          "2015-04-13T00:00:00.000000000",
          "2015-04-20T00:00:00.000000000",
          "2015-04-27T00:00:00.000000000",
          "2015-05-04T00:00:00.000000000",
          "2015-05-11T00:00:00.000000000",
          "2015-05-18T00:00:00.000000000",
          "2015-05-25T00:00:00.000000000",
          "2015-06-01T00:00:00.000000000",
          "2015-06-08T00:00:00.000000000",
          "2015-06-15T00:00:00.000000000",
          "2015-06-22T00:00:00.000000000",
          "2015-06-29T00:00:00.000000000",
          "2015-07-06T00:00:00.000000000",
          "2015-07-13T00:00:00.000000000",
          "2015-07-20T00:00:00.000000000",
          "2015-07-27T00:00:00.000000000",
          "2015-08-03T00:00:00.000000000",
          "2015-08-10T00:00:00.000000000",
          "2015-08-17T00:00:00.000000000",
          "2015-08-24T00:00:00.000000000",
          "2015-08-31T00:00:00.000000000",
          "2015-09-07T00:00:00.000000000",
          "2015-09-14T00:00:00.000000000",
          "2015-09-21T00:00:00.000000000",
          "2015-09-28T00:00:00.000000000",
          "2015-10-05T00:00:00.000000000",
          "2015-10-12T00:00:00.000000000",
          "2015-10-19T00:00:00.000000000",
          "2015-10-26T00:00:00.000000000",
          "2015-11-02T00:00:00.000000000",
          "2015-11-09T00:00:00.000000000",
          "2015-11-16T00:00:00.000000000",
          "2015-11-23T00:00:00.000000000",
          "2015-11-30T00:00:00.000000000",
          "2015-12-07T00:00:00.000000000",
          "2015-12-14T00:00:00.000000000",
          "2015-12-21T00:00:00.000000000",
          "2015-12-28T00:00:00.000000000",
          "2016-01-04T00:00:00.000000000",
          "2016-01-04T00:00:00.000000000",
          "2016-01-11T00:00:00.000000000",
          "2016-01-18T00:00:00.000000000",
          "2016-01-25T00:00:00.000000000",
          "2016-02-01T00:00:00.000000000",
          "2016-02-08T00:00:00.000000000",
          "2016-02-15T00:00:00.000000000",
          "2016-02-22T00:00:00.000000000",
          "2016-02-29T00:00:00.000000000",
          "2016-03-07T00:00:00.000000000",
          "2016-03-14T00:00:00.000000000",
          "2016-03-21T00:00:00.000000000",
          "2016-03-28T00:00:00.000000000",
          "2016-04-04T00:00:00.000000000",
          "2016-04-11T00:00:00.000000000",
          "2016-04-18T00:00:00.000000000",
          "2016-04-25T00:00:00.000000000",
          "2016-05-02T00:00:00.000000000",
          "2016-05-09T00:00:00.000000000",
          "2016-05-16T00:00:00.000000000",
          "2016-05-23T00:00:00.000000000",
          "2016-05-30T00:00:00.000000000",
          "2016-06-06T00:00:00.000000000",
          "2016-06-13T00:00:00.000000000",
          "2016-06-20T00:00:00.000000000",
          "2016-06-27T00:00:00.000000000",
          "2016-07-04T00:00:00.000000000",
          "2016-07-11T00:00:00.000000000",
          "2016-07-18T00:00:00.000000000",
          "2016-07-25T00:00:00.000000000",
          "2016-08-01T00:00:00.000000000",
          "2016-08-08T00:00:00.000000000",
          "2016-08-15T00:00:00.000000000",
          "2016-08-22T00:00:00.000000000",
          "2016-08-29T00:00:00.000000000",
          "2016-09-05T00:00:00.000000000",
          "2016-09-12T00:00:00.000000000",
          "2016-09-19T00:00:00.000000000",
          "2016-09-26T00:00:00.000000000",
          "2016-10-03T00:00:00.000000000",
          "2016-10-10T00:00:00.000000000",
          "2016-10-17T00:00:00.000000000",
          "2016-10-24T00:00:00.000000000",
          "2016-10-31T00:00:00.000000000",
          "2016-11-07T00:00:00.000000000",
          "2016-11-14T00:00:00.000000000",
          "2016-11-21T00:00:00.000000000",
          "2016-11-28T00:00:00.000000000",
          "2016-12-05T00:00:00.000000000",
          "2016-12-12T00:00:00.000000000",
          "2016-12-19T00:00:00.000000000",
          "2016-12-26T00:00:00.000000000",
          "2017-01-02T00:00:00.000000000",
          "2017-01-02T00:00:00.000000000",
          "2017-01-09T00:00:00.000000000",
          "2017-01-16T00:00:00.000000000",
          "2017-01-23T00:00:00.000000000",
          "2017-01-30T00:00:00.000000000",
          "2017-02-06T00:00:00.000000000",
          "2017-02-13T00:00:00.000000000",
          "2017-02-20T00:00:00.000000000",
          "2017-02-27T00:00:00.000000000",
          "2017-03-06T00:00:00.000000000",
          "2017-03-13T00:00:00.000000000",
          "2017-03-20T00:00:00.000000000",
          "2017-03-27T00:00:00.000000000",
          "2017-04-03T00:00:00.000000000",
          "2017-04-10T00:00:00.000000000",
          "2017-04-17T00:00:00.000000000",
          "2017-04-24T00:00:00.000000000",
          "2017-05-01T00:00:00.000000000",
          "2017-05-08T00:00:00.000000000",
          "2017-05-15T00:00:00.000000000",
          "2017-05-22T00:00:00.000000000",
          "2017-05-29T00:00:00.000000000",
          "2017-06-05T00:00:00.000000000",
          "2017-06-12T00:00:00.000000000",
          "2017-06-19T00:00:00.000000000",
          "2017-06-26T00:00:00.000000000",
          "2017-07-03T00:00:00.000000000",
          "2017-07-10T00:00:00.000000000",
          "2017-07-17T00:00:00.000000000",
          "2017-07-24T00:00:00.000000000",
          "2017-07-31T00:00:00.000000000",
          "2017-08-07T00:00:00.000000000",
          "2017-08-14T00:00:00.000000000",
          "2017-08-21T00:00:00.000000000",
          "2017-08-28T00:00:00.000000000",
          "2017-09-04T00:00:00.000000000",
          "2017-09-11T00:00:00.000000000",
          "2017-09-18T00:00:00.000000000",
          "2017-09-25T00:00:00.000000000",
          "2017-10-02T00:00:00.000000000",
          "2017-10-09T00:00:00.000000000",
          "2017-10-16T00:00:00.000000000",
          "2017-10-23T00:00:00.000000000",
          "2017-10-30T00:00:00.000000000",
          "2017-11-06T00:00:00.000000000",
          "2017-11-13T00:00:00.000000000",
          "2017-11-20T00:00:00.000000000",
          "2017-11-27T00:00:00.000000000",
          "2017-12-04T00:00:00.000000000",
          "2017-12-11T00:00:00.000000000",
          "2017-12-18T00:00:00.000000000",
          "2017-12-25T00:00:00.000000000",
          "2018-01-01T00:00:00.000000000",
          "2018-01-08T00:00:00.000000000",
          "2018-01-15T00:00:00.000000000",
          "2018-01-22T00:00:00.000000000",
          "2018-01-29T00:00:00.000000000",
          "2018-02-05T00:00:00.000000000",
          "2018-02-12T00:00:00.000000000",
          "2018-02-19T00:00:00.000000000",
          "2018-02-26T00:00:00.000000000",
          "2018-03-05T00:00:00.000000000",
          "2018-03-12T00:00:00.000000000",
          "2018-03-19T00:00:00.000000000",
          "2018-03-26T00:00:00.000000000",
          "2018-04-02T00:00:00.000000000",
          "2018-04-09T00:00:00.000000000",
          "2018-04-16T00:00:00.000000000",
          "2018-04-23T00:00:00.000000000",
          "2018-04-30T00:00:00.000000000",
          "2018-05-07T00:00:00.000000000",
          "2018-05-14T00:00:00.000000000",
          "2018-05-21T00:00:00.000000000",
          "2018-05-28T00:00:00.000000000",
          "2018-06-04T00:00:00.000000000",
          "2018-06-11T00:00:00.000000000",
          "2018-06-18T00:00:00.000000000",
          "2018-06-25T00:00:00.000000000",
          "2018-07-02T00:00:00.000000000",
          "2018-07-09T00:00:00.000000000",
          "2018-07-16T00:00:00.000000000",
          "2018-07-23T00:00:00.000000000",
          "2018-07-30T00:00:00.000000000",
          "2018-08-06T00:00:00.000000000",
          "2018-08-13T00:00:00.000000000",
          "2018-08-20T00:00:00.000000000",
          "2018-08-27T00:00:00.000000000",
          "2018-09-03T00:00:00.000000000",
          "2018-09-10T00:00:00.000000000",
          "2018-09-17T00:00:00.000000000",
          "2018-09-24T00:00:00.000000000",
          "2018-10-01T00:00:00.000000000",
          "2018-10-08T00:00:00.000000000",
          "2018-10-15T00:00:00.000000000",
          "2018-10-22T00:00:00.000000000",
          "2018-10-29T00:00:00.000000000",
          "2018-11-05T00:00:00.000000000",
          "2018-11-12T00:00:00.000000000",
          "2018-11-19T00:00:00.000000000",
          "2018-11-26T00:00:00.000000000",
          "2018-12-03T00:00:00.000000000",
          "2018-12-10T00:00:00.000000000",
          "2018-12-17T00:00:00.000000000",
          "2018-12-24T00:00:00.000000000",
          "2019-01-07T00:00:00.000000000",
          "2019-01-14T00:00:00.000000000",
          "2019-01-21T00:00:00.000000000",
          "2019-01-28T00:00:00.000000000",
          "2019-02-04T00:00:00.000000000",
          "2019-02-11T00:00:00.000000000",
          "2019-02-18T00:00:00.000000000",
          "2019-02-25T00:00:00.000000000",
          "2019-03-04T00:00:00.000000000",
          "2019-03-11T00:00:00.000000000",
          "2019-03-18T00:00:00.000000000",
          "2019-03-25T00:00:00.000000000",
          "2019-04-01T00:00:00.000000000",
          "2019-04-08T00:00:00.000000000",
          "2019-04-15T00:00:00.000000000",
          "2019-04-22T00:00:00.000000000",
          "2019-04-29T00:00:00.000000000",
          "2019-05-06T00:00:00.000000000",
          "2019-05-13T00:00:00.000000000",
          "2019-05-20T00:00:00.000000000",
          "2019-05-27T00:00:00.000000000",
          "2019-06-03T00:00:00.000000000",
          "2019-06-10T00:00:00.000000000",
          "2019-06-17T00:00:00.000000000",
          "2019-06-24T00:00:00.000000000",
          "2019-07-01T00:00:00.000000000",
          "2019-07-08T00:00:00.000000000",
          "2019-07-15T00:00:00.000000000",
          "2019-07-22T00:00:00.000000000",
          "2019-07-29T00:00:00.000000000",
          "2019-08-05T00:00:00.000000000",
          "2019-08-12T00:00:00.000000000",
          "2019-08-19T00:00:00.000000000",
          "2019-08-26T00:00:00.000000000",
          "2019-09-02T00:00:00.000000000",
          "2019-09-09T00:00:00.000000000",
          "2019-09-16T00:00:00.000000000",
          "2019-09-23T00:00:00.000000000",
          "2019-09-30T00:00:00.000000000",
          "2019-10-07T00:00:00.000000000",
          "2019-10-14T00:00:00.000000000",
          "2019-10-21T00:00:00.000000000",
          "2019-10-28T00:00:00.000000000",
          "2019-11-04T00:00:00.000000000",
          "2019-11-11T00:00:00.000000000",
          "2019-11-18T00:00:00.000000000",
          "2019-11-25T00:00:00.000000000",
          "2019-12-02T00:00:00.000000000",
          "2019-12-09T00:00:00.000000000",
          "2019-12-16T00:00:00.000000000",
          "2019-12-23T00:00:00.000000000",
          "2019-12-30T00:00:00.000000000",
          "2020-01-06T00:00:00.000000000",
          "2020-01-13T00:00:00.000000000",
          "2020-01-20T00:00:00.000000000",
          "2020-01-27T00:00:00.000000000",
          "2020-02-03T00:00:00.000000000",
          "2020-02-10T00:00:00.000000000",
          "2020-02-17T00:00:00.000000000",
          "2020-02-24T00:00:00.000000000",
          "2020-03-02T00:00:00.000000000",
          "2020-03-09T00:00:00.000000000",
          "2020-03-16T00:00:00.000000000",
          "2020-03-23T00:00:00.000000000",
          "2020-03-30T00:00:00.000000000",
          "2020-04-06T00:00:00.000000000",
          "2020-04-13T00:00:00.000000000",
          "2020-04-20T00:00:00.000000000",
          "2020-04-27T00:00:00.000000000",
          "2020-05-04T00:00:00.000000000",
          "2020-05-11T00:00:00.000000000",
          "2020-05-18T00:00:00.000000000",
          "2020-05-25T00:00:00.000000000",
          "2020-06-01T00:00:00.000000000",
          "2020-06-08T00:00:00.000000000",
          "2020-06-15T00:00:00.000000000",
          "2020-06-22T00:00:00.000000000",
          "2020-06-29T00:00:00.000000000",
          "2020-07-06T00:00:00.000000000",
          "2020-07-13T00:00:00.000000000",
          "2020-07-20T00:00:00.000000000",
          "2020-07-27T00:00:00.000000000",
          "2020-08-03T00:00:00.000000000",
          "2020-08-10T00:00:00.000000000",
          "2020-08-17T00:00:00.000000000",
          "2020-08-24T00:00:00.000000000",
          "2020-08-31T00:00:00.000000000",
          "2020-09-07T00:00:00.000000000",
          "2020-09-14T00:00:00.000000000",
          "2020-09-21T00:00:00.000000000",
          "2020-09-28T00:00:00.000000000",
          "2020-10-05T00:00:00.000000000",
          "2020-10-12T00:00:00.000000000",
          "2020-10-19T00:00:00.000000000",
          "2020-10-26T00:00:00.000000000",
          "2020-11-02T00:00:00.000000000",
          "2020-11-09T00:00:00.000000000",
          "2020-11-16T00:00:00.000000000",
          "2020-11-23T00:00:00.000000000",
          "2020-11-30T00:00:00.000000000",
          "2020-12-07T00:00:00.000000000",
          "2020-12-14T00:00:00.000000000",
          "2020-12-21T00:00:00.000000000",
          "2020-12-28T00:00:00.000000000",
          "2021-01-04T00:00:00.000000000",
          "2021-01-04T00:00:00.000000000",
          "2021-01-11T00:00:00.000000000",
          "2021-01-18T00:00:00.000000000",
          "2021-01-25T00:00:00.000000000",
          "2021-02-01T00:00:00.000000000",
          "2021-02-08T00:00:00.000000000",
          "2021-02-15T00:00:00.000000000",
          "2021-02-22T00:00:00.000000000",
          "2021-03-01T00:00:00.000000000",
          "2021-03-08T00:00:00.000000000",
          "2021-03-15T00:00:00.000000000",
          "2021-03-22T00:00:00.000000000",
          "2021-03-29T00:00:00.000000000",
          "2021-04-05T00:00:00.000000000",
          "2021-04-12T00:00:00.000000000",
          "2021-04-19T00:00:00.000000000",
          "2021-04-26T00:00:00.000000000",
          "2021-05-03T00:00:00.000000000",
          "2021-05-10T00:00:00.000000000",
          "2021-05-17T00:00:00.000000000",
          "2021-05-24T00:00:00.000000000",
          "2021-05-31T00:00:00.000000000",
          "2021-06-07T00:00:00.000000000",
          "2021-06-14T00:00:00.000000000",
          "2021-06-21T00:00:00.000000000",
          "2021-06-28T00:00:00.000000000",
          "2021-07-05T00:00:00.000000000",
          "2021-07-12T00:00:00.000000000",
          "2021-07-19T00:00:00.000000000",
          "2021-07-26T00:00:00.000000000",
          "2021-08-02T00:00:00.000000000",
          "2021-08-09T00:00:00.000000000",
          "2021-08-16T00:00:00.000000000",
          "2021-08-23T00:00:00.000000000",
          "2021-08-30T00:00:00.000000000",
          "2021-09-06T00:00:00.000000000",
          "2021-09-13T00:00:00.000000000",
          "2021-09-20T00:00:00.000000000",
          "2021-09-27T00:00:00.000000000",
          "2021-10-04T00:00:00.000000000",
          "2021-10-11T00:00:00.000000000",
          "2021-10-18T00:00:00.000000000",
          "2021-10-25T00:00:00.000000000",
          "2021-11-01T00:00:00.000000000",
          "2021-11-08T00:00:00.000000000",
          "2021-11-15T00:00:00.000000000",
          "2021-11-22T00:00:00.000000000",
          "2021-11-29T00:00:00.000000000",
          "2021-12-06T00:00:00.000000000",
          "2021-12-13T00:00:00.000000000",
          "2021-12-20T00:00:00.000000000",
          "2021-12-27T00:00:00.000000000",
          "2022-01-03T00:00:00.000000000"
         ],
         "xaxis": "x2",
         "y": {
          "bdata": "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",
          "dtype": "f8"
         },
         "yaxis": "y2"
        },
        {
         "line": {
          "color": "red",
          "dash": "dash"
         },
         "mode": "lines",
         "name": "Predicción 2022 - Barrio 1",
         "showlegend": false,
         "type": "scatter",
         "x": [
          "2022-01-03T00:00:00.000000000",
          "2022-01-10T00:00:00.000000000",
          "2022-01-17T00:00:00.000000000",
          "2022-01-24T00:00:00.000000000",
          "2022-01-31T00:00:00.000000000",
          "2022-02-07T00:00:00.000000000",
          "2022-02-14T00:00:00.000000000",
          "2022-02-21T00:00:00.000000000",
          "2022-02-28T00:00:00.000000000",
          "2022-03-07T00:00:00.000000000",
          "2022-03-14T00:00:00.000000000",
          "2022-03-21T00:00:00.000000000",
          "2022-03-28T00:00:00.000000000",
          "2022-04-04T00:00:00.000000000",
          "2022-04-11T00:00:00.000000000",
          "2022-04-18T00:00:00.000000000",
          "2022-04-25T00:00:00.000000000",
          "2022-05-02T00:00:00.000000000",
          "2022-05-09T00:00:00.000000000",
          "2022-05-16T00:00:00.000000000",
          "2022-05-23T00:00:00.000000000",
          "2022-05-30T00:00:00.000000000",
          "2022-06-06T00:00:00.000000000",
          "2022-06-13T00:00:00.000000000",
          "2022-06-20T00:00:00.000000000",
          "2022-06-27T00:00:00.000000000",
          "2022-07-04T00:00:00.000000000",
          "2022-07-11T00:00:00.000000000",
          "2022-07-18T00:00:00.000000000",
          "2022-07-25T00:00:00.000000000",
          "2022-08-01T00:00:00.000000000",
          "2022-08-08T00:00:00.000000000",
          "2022-08-15T00:00:00.000000000",
          "2022-08-22T00:00:00.000000000",
          "2022-08-29T00:00:00.000000000",
          "2022-09-05T00:00:00.000000000",
          "2022-09-12T00:00:00.000000000",
          "2022-09-19T00:00:00.000000000",
          "2022-09-26T00:00:00.000000000",
          "2022-10-03T00:00:00.000000000",
          "2022-10-10T00:00:00.000000000",
          "2022-10-17T00:00:00.000000000",
          "2022-10-24T00:00:00.000000000",
          "2022-10-31T00:00:00.000000000",
          "2022-11-07T00:00:00.000000000",
          "2022-11-14T00:00:00.000000000",
          "2022-11-21T00:00:00.000000000",
          "2022-11-28T00:00:00.000000000",
          "2022-12-05T00:00:00.000000000",
          "2022-12-12T00:00:00.000000000",
          "2022-12-19T00:00:00.000000000",
          "2022-12-26T00:00:00.000000000"
         ],
         "xaxis": "x2",
         "y": {
          "bdata": "AAAA4F2F5D8AAACAuRPHPwAAAAAAAAAAAAAAAAAAAAAAAAAAAAAAAAAAAAAAAAAAAAAAAAAAAAAAAAAAAAAAAAAAAAAAAAAAAAAAAAAAAAAAAAAAAAAAAAAAAAAAAAAAAAAAAAAAAAAAAAAAAAAAAAAAAAAAAAAAAAAAAAAAAAAAAAAAAAAAAAAAAAAAAAAAAAAAAAAAAAAAAAAAAAAAAAAAAAAAAAAAAAAAAAAAAAAAAAAAAAAAAAAAAAAAAAAAAAAAAAAAAAAAAAAAAAAAAAAAAAAAAAAAAAAAAAAAAAAAAAAAAAAAAAAAAAAAAAAAAAAAAAAAAAAAAAAAAAAAAAAAAAAAAAAAAAAAAAAAAAAAAAAAAAAAAAAAAAAAAAAAAAAAAAAAAAAAAAAAAAAAAAAAAAAAAAAAAAAAAAAAAAAAAAAAAAAAAAAAAAAAAAAAAAAAAAAAAAAAAAAAAAAAAAAAAAAAAAAAAAAAAAAAAAAAAAAAAAAAAAAAAAAAAAAAAAAAAAAAAAAAAAAAAAAAAAAAAAAAAAAAAAAAAAAAAAA=",
          "dtype": "f8"
         },
         "yaxis": "y2"
        },
        {
         "line": {
          "color": "blue"
         },
         "mode": "lines",
         "name": "Histórico - Barrio 2",
         "showlegend": false,
         "type": "scatter",
         "x": [
          "2015-01-05T00:00:00.000000000",
          "2015-01-12T00:00:00.000000000",
          "2015-01-19T00:00:00.000000000",
          "2015-01-26T00:00:00.000000000",
          "2015-02-02T00:00:00.000000000",
          "2015-02-09T00:00:00.000000000",
          "2015-02-16T00:00:00.000000000",
          "2015-02-23T00:00:00.000000000",
          "2015-03-02T00:00:00.000000000",
          "2015-03-09T00:00:00.000000000",
          "2015-03-16T00:00:00.000000000",
          "2015-03-23T00:00:00.000000000",
          "2015-03-30T00:00:00.000000000",
          "2015-04-06T00:00:00.000000000",
          "2015-04-13T00:00:00.000000000",
          "2015-04-20T00:00:00.000000000",
          "2015-04-27T00:00:00.000000000",
          "2015-05-04T00:00:00.000000000",
          "2015-05-11T00:00:00.000000000",
          "2015-05-18T00:00:00.000000000",
          "2015-05-25T00:00:00.000000000",
          "2015-06-01T00:00:00.000000000",
          "2015-06-08T00:00:00.000000000",
          "2015-06-15T00:00:00.000000000",
          "2015-06-22T00:00:00.000000000",
          "2015-06-29T00:00:00.000000000",
          "2015-07-06T00:00:00.000000000",
          "2015-07-13T00:00:00.000000000",
          "2015-07-20T00:00:00.000000000",
          "2015-07-27T00:00:00.000000000",
          "2015-08-03T00:00:00.000000000",
          "2015-08-10T00:00:00.000000000",
          "2015-08-17T00:00:00.000000000",
          "2015-08-24T00:00:00.000000000",
          "2015-08-31T00:00:00.000000000",
          "2015-09-07T00:00:00.000000000",
          "2015-09-14T00:00:00.000000000",
          "2015-09-21T00:00:00.000000000",
          "2015-09-28T00:00:00.000000000",
          "2015-10-05T00:00:00.000000000",
          "2015-10-12T00:00:00.000000000",
          "2015-10-19T00:00:00.000000000",
          "2015-10-26T00:00:00.000000000",
          "2015-11-02T00:00:00.000000000",
          "2015-11-09T00:00:00.000000000",
          "2015-11-16T00:00:00.000000000",
          "2015-11-23T00:00:00.000000000",
          "2015-11-30T00:00:00.000000000",
          "2015-12-07T00:00:00.000000000",
          "2015-12-14T00:00:00.000000000",
          "2015-12-21T00:00:00.000000000",
          "2015-12-28T00:00:00.000000000",
          "2016-01-04T00:00:00.000000000",
          "2016-01-04T00:00:00.000000000",
          "2016-01-11T00:00:00.000000000",
          "2016-01-18T00:00:00.000000000",
          "2016-01-25T00:00:00.000000000",
          "2016-02-01T00:00:00.000000000",
          "2016-02-08T00:00:00.000000000",
          "2016-02-15T00:00:00.000000000",
          "2016-02-22T00:00:00.000000000",
          "2016-02-29T00:00:00.000000000",
          "2016-03-07T00:00:00.000000000",
          "2016-03-14T00:00:00.000000000",
          "2016-03-21T00:00:00.000000000",
          "2016-03-28T00:00:00.000000000",
          "2016-04-04T00:00:00.000000000",
          "2016-04-11T00:00:00.000000000",
          "2016-04-18T00:00:00.000000000",
          "2016-04-25T00:00:00.000000000",
          "2016-05-02T00:00:00.000000000",
          "2016-05-09T00:00:00.000000000",
          "2016-05-16T00:00:00.000000000",
          "2016-05-23T00:00:00.000000000",
          "2016-05-30T00:00:00.000000000",
          "2016-06-06T00:00:00.000000000",
          "2016-06-13T00:00:00.000000000",
          "2016-06-20T00:00:00.000000000",
          "2016-06-27T00:00:00.000000000",
          "2016-07-04T00:00:00.000000000",
          "2016-07-11T00:00:00.000000000",
          "2016-07-18T00:00:00.000000000",
          "2016-07-25T00:00:00.000000000",
          "2016-08-01T00:00:00.000000000",
          "2016-08-08T00:00:00.000000000",
          "2016-08-15T00:00:00.000000000",
          "2016-08-22T00:00:00.000000000",
          "2016-08-29T00:00:00.000000000",
          "2016-09-05T00:00:00.000000000",
          "2016-09-12T00:00:00.000000000",
          "2016-09-19T00:00:00.000000000",
          "2016-09-26T00:00:00.000000000",
          "2016-10-03T00:00:00.000000000",
          "2016-10-10T00:00:00.000000000",
          "2016-10-17T00:00:00.000000000",
          "2016-10-24T00:00:00.000000000",
          "2016-10-31T00:00:00.000000000",
          "2016-11-07T00:00:00.000000000",
          "2016-11-14T00:00:00.000000000",
          "2016-11-21T00:00:00.000000000",
          "2016-11-28T00:00:00.000000000",
          "2016-12-05T00:00:00.000000000",
          "2016-12-12T00:00:00.000000000",
          "2016-12-19T00:00:00.000000000",
          "2016-12-26T00:00:00.000000000",
          "2017-01-02T00:00:00.000000000",
          "2017-01-02T00:00:00.000000000",
          "2017-01-09T00:00:00.000000000",
          "2017-01-16T00:00:00.000000000",
          "2017-01-23T00:00:00.000000000",
          "2017-01-30T00:00:00.000000000",
          "2017-02-06T00:00:00.000000000",
          "2017-02-13T00:00:00.000000000",
          "2017-02-20T00:00:00.000000000",
          "2017-02-27T00:00:00.000000000",
          "2017-03-06T00:00:00.000000000",
          "2017-03-13T00:00:00.000000000",
          "2017-03-20T00:00:00.000000000",
          "2017-03-27T00:00:00.000000000",
          "2017-04-03T00:00:00.000000000",
          "2017-04-10T00:00:00.000000000",
          "2017-04-17T00:00:00.000000000",
          "2017-04-24T00:00:00.000000000",
          "2017-05-01T00:00:00.000000000",
          "2017-05-08T00:00:00.000000000",
          "2017-05-15T00:00:00.000000000",
          "2017-05-22T00:00:00.000000000",
          "2017-05-29T00:00:00.000000000",
          "2017-06-05T00:00:00.000000000",
          "2017-06-12T00:00:00.000000000",
          "2017-06-19T00:00:00.000000000",
          "2017-06-26T00:00:00.000000000",
          "2017-07-03T00:00:00.000000000",
          "2017-07-10T00:00:00.000000000",
          "2017-07-17T00:00:00.000000000",
          "2017-07-24T00:00:00.000000000",
          "2017-07-31T00:00:00.000000000",
          "2017-08-07T00:00:00.000000000",
          "2017-08-14T00:00:00.000000000",
          "2017-08-21T00:00:00.000000000",
          "2017-08-28T00:00:00.000000000",
          "2017-09-04T00:00:00.000000000",
          "2017-09-11T00:00:00.000000000",
          "2017-09-18T00:00:00.000000000",
          "2017-09-25T00:00:00.000000000",
          "2017-10-02T00:00:00.000000000",
          "2017-10-09T00:00:00.000000000",
          "2017-10-16T00:00:00.000000000",
          "2017-10-23T00:00:00.000000000",
          "2017-10-30T00:00:00.000000000",
          "2017-11-06T00:00:00.000000000",
          "2017-11-13T00:00:00.000000000",
          "2017-11-20T00:00:00.000000000",
          "2017-11-27T00:00:00.000000000",
          "2017-12-04T00:00:00.000000000",
          "2017-12-11T00:00:00.000000000",
          "2017-12-18T00:00:00.000000000",
          "2017-12-25T00:00:00.000000000",
          "2018-01-01T00:00:00.000000000",
          "2018-01-08T00:00:00.000000000",
          "2018-01-15T00:00:00.000000000",
          "2018-01-22T00:00:00.000000000",
          "2018-01-29T00:00:00.000000000",
          "2018-02-05T00:00:00.000000000",
          "2018-02-12T00:00:00.000000000",
          "2018-02-19T00:00:00.000000000",
          "2018-02-26T00:00:00.000000000",
          "2018-03-05T00:00:00.000000000",
          "2018-03-12T00:00:00.000000000",
          "2018-03-19T00:00:00.000000000",
          "2018-03-26T00:00:00.000000000",
          "2018-04-02T00:00:00.000000000",
          "2018-04-09T00:00:00.000000000",
          "2018-04-16T00:00:00.000000000",
          "2018-04-23T00:00:00.000000000",
          "2018-04-30T00:00:00.000000000",
          "2018-05-07T00:00:00.000000000",
          "2018-05-14T00:00:00.000000000",
          "2018-05-21T00:00:00.000000000",
          "2018-05-28T00:00:00.000000000",
          "2018-06-04T00:00:00.000000000",
          "2018-06-11T00:00:00.000000000",
          "2018-06-18T00:00:00.000000000",
          "2018-06-25T00:00:00.000000000",
          "2018-07-02T00:00:00.000000000",
          "2018-07-09T00:00:00.000000000",
          "2018-07-16T00:00:00.000000000",
          "2018-07-23T00:00:00.000000000",
          "2018-07-30T00:00:00.000000000",
          "2018-08-06T00:00:00.000000000",
          "2018-08-13T00:00:00.000000000",
          "2018-08-20T00:00:00.000000000",
          "2018-08-27T00:00:00.000000000",
          "2018-09-03T00:00:00.000000000",
          "2018-09-10T00:00:00.000000000",
          "2018-09-17T00:00:00.000000000",
          "2018-09-24T00:00:00.000000000",
          "2018-10-01T00:00:00.000000000",
          "2018-10-08T00:00:00.000000000",
          "2018-10-15T00:00:00.000000000",
          "2018-10-22T00:00:00.000000000",
          "2018-10-29T00:00:00.000000000",
          "2018-11-05T00:00:00.000000000",
          "2018-11-12T00:00:00.000000000",
          "2018-11-19T00:00:00.000000000",
          "2018-11-26T00:00:00.000000000",
          "2018-12-03T00:00:00.000000000",
          "2018-12-10T00:00:00.000000000",
          "2018-12-17T00:00:00.000000000",
          "2018-12-24T00:00:00.000000000",
          "2019-01-07T00:00:00.000000000",
          "2019-01-14T00:00:00.000000000",
          "2019-01-21T00:00:00.000000000",
          "2019-01-28T00:00:00.000000000",
          "2019-02-04T00:00:00.000000000",
          "2019-02-11T00:00:00.000000000",
          "2019-02-18T00:00:00.000000000",
          "2019-02-25T00:00:00.000000000",
          "2019-03-04T00:00:00.000000000",
          "2019-03-11T00:00:00.000000000",
          "2019-03-18T00:00:00.000000000",
          "2019-03-25T00:00:00.000000000",
          "2019-04-01T00:00:00.000000000",
          "2019-04-08T00:00:00.000000000",
          "2019-04-15T00:00:00.000000000",
          "2019-04-22T00:00:00.000000000",
          "2019-04-29T00:00:00.000000000",
          "2019-05-06T00:00:00.000000000",
          "2019-05-13T00:00:00.000000000",
          "2019-05-20T00:00:00.000000000",
          "2019-05-27T00:00:00.000000000",
          "2019-06-03T00:00:00.000000000",
          "2019-06-10T00:00:00.000000000",
          "2019-06-17T00:00:00.000000000",
          "2019-06-24T00:00:00.000000000",
          "2019-07-01T00:00:00.000000000",
          "2019-07-08T00:00:00.000000000",
          "2019-07-15T00:00:00.000000000",
          "2019-07-22T00:00:00.000000000",
          "2019-07-29T00:00:00.000000000",
          "2019-08-05T00:00:00.000000000",
          "2019-08-12T00:00:00.000000000",
          "2019-08-19T00:00:00.000000000",
          "2019-08-26T00:00:00.000000000",
          "2019-09-02T00:00:00.000000000",
          "2019-09-09T00:00:00.000000000",
          "2019-09-16T00:00:00.000000000",
          "2019-09-23T00:00:00.000000000",
          "2019-09-30T00:00:00.000000000",
          "2019-10-07T00:00:00.000000000",
          "2019-10-14T00:00:00.000000000",
          "2019-10-21T00:00:00.000000000",
          "2019-10-28T00:00:00.000000000",
          "2019-11-04T00:00:00.000000000",
          "2019-11-11T00:00:00.000000000",
          "2019-11-18T00:00:00.000000000",
          "2019-11-25T00:00:00.000000000",
          "2019-12-02T00:00:00.000000000",
          "2019-12-09T00:00:00.000000000",
          "2019-12-16T00:00:00.000000000",
          "2019-12-23T00:00:00.000000000",
          "2019-12-30T00:00:00.000000000",
          "2020-01-06T00:00:00.000000000",
          "2020-01-13T00:00:00.000000000",
          "2020-01-20T00:00:00.000000000",
          "2020-01-27T00:00:00.000000000",
          "2020-02-03T00:00:00.000000000",
          "2020-02-10T00:00:00.000000000",
          "2020-02-17T00:00:00.000000000",
          "2020-02-24T00:00:00.000000000",
          "2020-03-02T00:00:00.000000000",
          "2020-03-09T00:00:00.000000000",
          "2020-03-16T00:00:00.000000000",
          "2020-03-23T00:00:00.000000000",
          "2020-03-30T00:00:00.000000000",
          "2020-04-06T00:00:00.000000000",
          "2020-04-13T00:00:00.000000000",
          "2020-04-20T00:00:00.000000000",
          "2020-04-27T00:00:00.000000000",
          "2020-05-04T00:00:00.000000000",
          "2020-05-11T00:00:00.000000000",
          "2020-05-18T00:00:00.000000000",
          "2020-05-25T00:00:00.000000000",
          "2020-06-01T00:00:00.000000000",
          "2020-06-08T00:00:00.000000000",
          "2020-06-15T00:00:00.000000000",
          "2020-06-22T00:00:00.000000000",
          "2020-06-29T00:00:00.000000000",
          "2020-07-06T00:00:00.000000000",
          "2020-07-13T00:00:00.000000000",
          "2020-07-20T00:00:00.000000000",
          "2020-07-27T00:00:00.000000000",
          "2020-08-03T00:00:00.000000000",
          "2020-08-10T00:00:00.000000000",
          "2020-08-17T00:00:00.000000000",
          "2020-08-24T00:00:00.000000000",
          "2020-08-31T00:00:00.000000000",
          "2020-09-07T00:00:00.000000000",
          "2020-09-14T00:00:00.000000000",
          "2020-09-21T00:00:00.000000000",
          "2020-09-28T00:00:00.000000000",
          "2020-10-05T00:00:00.000000000",
          "2020-10-12T00:00:00.000000000",
          "2020-10-19T00:00:00.000000000",
          "2020-10-26T00:00:00.000000000",
          "2020-11-02T00:00:00.000000000",
          "2020-11-09T00:00:00.000000000",
          "2020-11-16T00:00:00.000000000",
          "2020-11-23T00:00:00.000000000",
          "2020-11-30T00:00:00.000000000",
          "2020-12-07T00:00:00.000000000",
          "2020-12-14T00:00:00.000000000",
          "2020-12-21T00:00:00.000000000",
          "2020-12-28T00:00:00.000000000",
          "2021-01-04T00:00:00.000000000",
          "2021-01-04T00:00:00.000000000",
          "2021-01-11T00:00:00.000000000",
          "2021-01-18T00:00:00.000000000",
          "2021-01-25T00:00:00.000000000",
          "2021-02-01T00:00:00.000000000",
          "2021-02-08T00:00:00.000000000",
          "2021-02-15T00:00:00.000000000",
          "2021-02-22T00:00:00.000000000",
          "2021-03-01T00:00:00.000000000",
          "2021-03-08T00:00:00.000000000",
          "2021-03-15T00:00:00.000000000",
          "2021-03-22T00:00:00.000000000",
          "2021-03-29T00:00:00.000000000",
          "2021-04-05T00:00:00.000000000",
          "2021-04-12T00:00:00.000000000",
          "2021-04-19T00:00:00.000000000",
          "2021-04-26T00:00:00.000000000",
          "2021-05-03T00:00:00.000000000",
          "2021-05-10T00:00:00.000000000",
          "2021-05-17T00:00:00.000000000",
          "2021-05-24T00:00:00.000000000",
          "2021-05-31T00:00:00.000000000",
          "2021-06-07T00:00:00.000000000",
          "2021-06-14T00:00:00.000000000",
          "2021-06-21T00:00:00.000000000",
          "2021-06-28T00:00:00.000000000",
          "2021-07-05T00:00:00.000000000",
          "2021-07-12T00:00:00.000000000",
          "2021-07-19T00:00:00.000000000",
          "2021-07-26T00:00:00.000000000",
          "2021-08-02T00:00:00.000000000",
          "2021-08-09T00:00:00.000000000",
          "2021-08-16T00:00:00.000000000",
          "2021-08-23T00:00:00.000000000",
          "2021-08-30T00:00:00.000000000",
          "2021-09-06T00:00:00.000000000",
          "2021-09-13T00:00:00.000000000",
          "2021-09-20T00:00:00.000000000",
          "2021-09-27T00:00:00.000000000",
          "2021-10-04T00:00:00.000000000",
          "2021-10-11T00:00:00.000000000",
          "2021-10-18T00:00:00.000000000",
          "2021-10-25T00:00:00.000000000",
          "2021-11-01T00:00:00.000000000",
          "2021-11-08T00:00:00.000000000",
          "2021-11-15T00:00:00.000000000",
          "2021-11-22T00:00:00.000000000",
          "2021-11-29T00:00:00.000000000",
          "2021-12-06T00:00:00.000000000",
          "2021-12-13T00:00:00.000000000",
          "2021-12-20T00:00:00.000000000",
          "2021-12-27T00:00:00.000000000",
          "2022-01-03T00:00:00.000000000"
         ],
         "xaxis": "x3",
         "y": {
          "bdata": "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",
          "dtype": "f8"
         },
         "yaxis": "y3"
        },
        {
         "line": {
          "color": "red",
          "dash": "dash"
         },
         "mode": "lines",
         "name": "Predicción 2022 - Barrio 2",
         "showlegend": false,
         "type": "scatter",
         "x": [
          "2022-01-03T00:00:00.000000000",
          "2022-01-10T00:00:00.000000000",
          "2022-01-17T00:00:00.000000000",
          "2022-01-24T00:00:00.000000000",
          "2022-01-31T00:00:00.000000000",
          "2022-02-07T00:00:00.000000000",
          "2022-02-14T00:00:00.000000000",
          "2022-02-21T00:00:00.000000000",
          "2022-02-28T00:00:00.000000000",
          "2022-03-07T00:00:00.000000000",
          "2022-03-14T00:00:00.000000000",
          "2022-03-21T00:00:00.000000000",
          "2022-03-28T00:00:00.000000000",
          "2022-04-04T00:00:00.000000000",
          "2022-04-11T00:00:00.000000000",
          "2022-04-18T00:00:00.000000000",
          "2022-04-25T00:00:00.000000000",
          "2022-05-02T00:00:00.000000000",
          "2022-05-09T00:00:00.000000000",
          "2022-05-16T00:00:00.000000000",
          "2022-05-23T00:00:00.000000000",
          "2022-05-30T00:00:00.000000000",
          "2022-06-06T00:00:00.000000000",
          "2022-06-13T00:00:00.000000000",
          "2022-06-20T00:00:00.000000000",
          "2022-06-27T00:00:00.000000000",
          "2022-07-04T00:00:00.000000000",
          "2022-07-11T00:00:00.000000000",
          "2022-07-18T00:00:00.000000000",
          "2022-07-25T00:00:00.000000000",
          "2022-08-01T00:00:00.000000000",
          "2022-08-08T00:00:00.000000000",
          "2022-08-15T00:00:00.000000000",
          "2022-08-22T00:00:00.000000000",
          "2022-08-29T00:00:00.000000000",
          "2022-09-05T00:00:00.000000000",
          "2022-09-12T00:00:00.000000000",
          "2022-09-19T00:00:00.000000000",
          "2022-09-26T00:00:00.000000000",
          "2022-10-03T00:00:00.000000000",
          "2022-10-10T00:00:00.000000000",
          "2022-10-17T00:00:00.000000000",
          "2022-10-24T00:00:00.000000000",
          "2022-10-31T00:00:00.000000000",
          "2022-11-07T00:00:00.000000000",
          "2022-11-14T00:00:00.000000000",
          "2022-11-21T00:00:00.000000000",
          "2022-11-28T00:00:00.000000000",
          "2022-12-05T00:00:00.000000000",
          "2022-12-12T00:00:00.000000000",
          "2022-12-19T00:00:00.000000000",
          "2022-12-26T00:00:00.000000000"
         ],
         "xaxis": "x3",
         "y": {
          "bdata": "AAAAgLa76T8AAAAAS2fIPwAAAAAAAAAAAAAAAAAAAAAAAAAAAAAAAAAAAAAAAAAAAAAAAAAAAAAAAAAAAAAAAAAAAAAAAAAAAAAAAAAAAAAAAAAAAAAAAAAAAAAAAAAAAAAAAAAAAAAAAAAAAAAAAAAAAAAAAAAAAAAAAAAAAAAAAAAAAAAAAAAAAAAAAAAAAAAAAAAAAAAAAAAAAAAAAAAAAAAAAAAAAAAAAAAAAAAAAAAAAAAAAAAAAAAAAAAAAAAAAAAAAAAAAAAAAAAAAAAAAAAAAAAAAAAAAAAAAAAAAAAAAAAAAAAAAAAAAAAAAAAAAAAAAAAAAAAAAAAAAAAAAAAAAAAAAAAAAAAAAAAAAAAAAAAAAAAAAAAAAAAAAAAAAAAAAAAAAAAAAAAAAAAAAAAAAAAAAAAAAAAAAAAAAAAAAAAAAAAAAAAAAAAAAAAAAAAAAAAAAAAAAAAAAAAAAAAAAAAAAAAAAAAAAAAAAAAAAAAAAAAAAAAAAAAAAAAAAAAAAAAAAAAAAAAAAAAAAAAAAAAAAAAAAAAAAAA=",
          "dtype": "f8"
         },
         "yaxis": "y3"
        },
        {
         "line": {
          "color": "blue"
         },
         "mode": "lines",
         "name": "Histórico - Barrio 3",
         "showlegend": false,
         "type": "scatter",
         "x": [
          "2015-01-05T00:00:00.000000000",
          "2015-01-12T00:00:00.000000000",
          "2015-01-19T00:00:00.000000000",
          "2015-01-26T00:00:00.000000000",
          "2015-02-02T00:00:00.000000000",
          "2015-02-09T00:00:00.000000000",
          "2015-02-16T00:00:00.000000000",
          "2015-02-23T00:00:00.000000000",
          "2015-03-02T00:00:00.000000000",
          "2015-03-09T00:00:00.000000000",
          "2015-03-16T00:00:00.000000000",
          "2015-03-23T00:00:00.000000000",
          "2015-03-30T00:00:00.000000000",
          "2015-04-06T00:00:00.000000000",
          "2015-04-13T00:00:00.000000000",
          "2015-04-20T00:00:00.000000000",
          "2015-04-27T00:00:00.000000000",
          "2015-05-04T00:00:00.000000000",
          "2015-05-11T00:00:00.000000000",
          "2015-05-18T00:00:00.000000000",
          "2015-05-25T00:00:00.000000000",
          "2015-06-01T00:00:00.000000000",
          "2015-06-08T00:00:00.000000000",
          "2015-06-15T00:00:00.000000000",
          "2015-06-22T00:00:00.000000000",
          "2015-06-29T00:00:00.000000000",
          "2015-07-06T00:00:00.000000000",
          "2015-07-13T00:00:00.000000000",
          "2015-07-20T00:00:00.000000000",
          "2015-07-27T00:00:00.000000000",
          "2015-08-03T00:00:00.000000000",
          "2015-08-10T00:00:00.000000000",
          "2015-08-17T00:00:00.000000000",
          "2015-08-24T00:00:00.000000000",
          "2015-08-31T00:00:00.000000000",
          "2015-09-07T00:00:00.000000000",
          "2015-09-14T00:00:00.000000000",
          "2015-09-21T00:00:00.000000000",
          "2015-09-28T00:00:00.000000000",
          "2015-10-05T00:00:00.000000000",
          "2015-10-12T00:00:00.000000000",
          "2015-10-19T00:00:00.000000000",
          "2015-10-26T00:00:00.000000000",
          "2015-11-02T00:00:00.000000000",
          "2015-11-09T00:00:00.000000000",
          "2015-11-16T00:00:00.000000000",
          "2015-11-23T00:00:00.000000000",
          "2015-11-30T00:00:00.000000000",
          "2015-12-07T00:00:00.000000000",
          "2015-12-14T00:00:00.000000000",
          "2015-12-21T00:00:00.000000000",
          "2015-12-28T00:00:00.000000000",
          "2016-01-04T00:00:00.000000000",
          "2016-01-04T00:00:00.000000000",
          "2016-01-11T00:00:00.000000000",
          "2016-01-18T00:00:00.000000000",
          "2016-01-25T00:00:00.000000000",
          "2016-02-01T00:00:00.000000000",
          "2016-02-08T00:00:00.000000000",
          "2016-02-15T00:00:00.000000000",
          "2016-02-22T00:00:00.000000000",
          "2016-02-29T00:00:00.000000000",
          "2016-03-07T00:00:00.000000000",
          "2016-03-14T00:00:00.000000000",
          "2016-03-21T00:00:00.000000000",
          "2016-03-28T00:00:00.000000000",
          "2016-04-04T00:00:00.000000000",
          "2016-04-11T00:00:00.000000000",
          "2016-04-18T00:00:00.000000000",
          "2016-04-25T00:00:00.000000000",
          "2016-05-02T00:00:00.000000000",
          "2016-05-09T00:00:00.000000000",
          "2016-05-16T00:00:00.000000000",
          "2016-05-23T00:00:00.000000000",
          "2016-05-30T00:00:00.000000000",
          "2016-06-06T00:00:00.000000000",
          "2016-06-13T00:00:00.000000000",
          "2016-06-20T00:00:00.000000000",
          "2016-06-27T00:00:00.000000000",
          "2016-07-04T00:00:00.000000000",
          "2016-07-11T00:00:00.000000000",
          "2016-07-18T00:00:00.000000000",
          "2016-07-25T00:00:00.000000000",
          "2016-08-01T00:00:00.000000000",
          "2016-08-08T00:00:00.000000000",
          "2016-08-15T00:00:00.000000000",
          "2016-08-22T00:00:00.000000000",
          "2016-08-29T00:00:00.000000000",
          "2016-09-05T00:00:00.000000000",
          "2016-09-12T00:00:00.000000000",
          "2016-09-19T00:00:00.000000000",
          "2016-09-26T00:00:00.000000000",
          "2016-10-03T00:00:00.000000000",
          "2016-10-10T00:00:00.000000000",
          "2016-10-17T00:00:00.000000000",
          "2016-10-24T00:00:00.000000000",
          "2016-10-31T00:00:00.000000000",
          "2016-11-07T00:00:00.000000000",
          "2016-11-14T00:00:00.000000000",
          "2016-11-21T00:00:00.000000000",
          "2016-11-28T00:00:00.000000000",
          "2016-12-05T00:00:00.000000000",
          "2016-12-12T00:00:00.000000000",
          "2016-12-19T00:00:00.000000000",
          "2016-12-26T00:00:00.000000000",
          "2017-01-02T00:00:00.000000000",
          "2017-01-02T00:00:00.000000000",
          "2017-01-09T00:00:00.000000000",
          "2017-01-16T00:00:00.000000000",
          "2017-01-23T00:00:00.000000000",
          "2017-01-30T00:00:00.000000000",
          "2017-02-06T00:00:00.000000000",
          "2017-02-13T00:00:00.000000000",
          "2017-02-20T00:00:00.000000000",
          "2017-02-27T00:00:00.000000000",
          "2017-03-06T00:00:00.000000000",
          "2017-03-13T00:00:00.000000000",
          "2017-03-20T00:00:00.000000000",
          "2017-03-27T00:00:00.000000000",
          "2017-04-03T00:00:00.000000000",
          "2017-04-10T00:00:00.000000000",
          "2017-04-17T00:00:00.000000000",
          "2017-04-24T00:00:00.000000000",
          "2017-05-01T00:00:00.000000000",
          "2017-05-08T00:00:00.000000000",
          "2017-05-15T00:00:00.000000000",
          "2017-05-22T00:00:00.000000000",
          "2017-05-29T00:00:00.000000000",
          "2017-06-05T00:00:00.000000000",
          "2017-06-12T00:00:00.000000000",
          "2017-06-19T00:00:00.000000000",
          "2017-06-26T00:00:00.000000000",
          "2017-07-03T00:00:00.000000000",
          "2017-07-10T00:00:00.000000000",
          "2017-07-17T00:00:00.000000000",
          "2017-07-24T00:00:00.000000000",
          "2017-07-31T00:00:00.000000000",
          "2017-08-07T00:00:00.000000000",
          "2017-08-14T00:00:00.000000000",
          "2017-08-21T00:00:00.000000000",
          "2017-08-28T00:00:00.000000000",
          "2017-09-04T00:00:00.000000000",
          "2017-09-11T00:00:00.000000000",
          "2017-09-18T00:00:00.000000000",
          "2017-09-25T00:00:00.000000000",
          "2017-10-02T00:00:00.000000000",
          "2017-10-09T00:00:00.000000000",
          "2017-10-16T00:00:00.000000000",
          "2017-10-23T00:00:00.000000000",
          "2017-10-30T00:00:00.000000000",
          "2017-11-06T00:00:00.000000000",
          "2017-11-13T00:00:00.000000000",
          "2017-11-20T00:00:00.000000000",
          "2017-11-27T00:00:00.000000000",
          "2017-12-04T00:00:00.000000000",
          "2017-12-11T00:00:00.000000000",
          "2017-12-18T00:00:00.000000000",
          "2017-12-25T00:00:00.000000000",
          "2018-01-01T00:00:00.000000000",
          "2018-01-08T00:00:00.000000000",
          "2018-01-15T00:00:00.000000000",
          "2018-01-22T00:00:00.000000000",
          "2018-01-29T00:00:00.000000000",
          "2018-02-05T00:00:00.000000000",
          "2018-02-12T00:00:00.000000000",
          "2018-02-19T00:00:00.000000000",
          "2018-02-26T00:00:00.000000000",
          "2018-03-05T00:00:00.000000000",
          "2018-03-12T00:00:00.000000000",
          "2018-03-19T00:00:00.000000000",
          "2018-03-26T00:00:00.000000000",
          "2018-04-02T00:00:00.000000000",
          "2018-04-09T00:00:00.000000000",
          "2018-04-16T00:00:00.000000000",
          "2018-04-23T00:00:00.000000000",
          "2018-04-30T00:00:00.000000000",
          "2018-05-07T00:00:00.000000000",
          "2018-05-14T00:00:00.000000000",
          "2018-05-21T00:00:00.000000000",
          "2018-05-28T00:00:00.000000000",
          "2018-06-04T00:00:00.000000000",
          "2018-06-11T00:00:00.000000000",
          "2018-06-18T00:00:00.000000000",
          "2018-06-25T00:00:00.000000000",
          "2018-07-02T00:00:00.000000000",
          "2018-07-09T00:00:00.000000000",
          "2018-07-16T00:00:00.000000000",
          "2018-07-23T00:00:00.000000000",
          "2018-07-30T00:00:00.000000000",
          "2018-08-06T00:00:00.000000000",
          "2018-08-13T00:00:00.000000000",
          "2018-08-20T00:00:00.000000000",
          "2018-08-27T00:00:00.000000000",
          "2018-09-03T00:00:00.000000000",
          "2018-09-10T00:00:00.000000000",
          "2018-09-17T00:00:00.000000000",
          "2018-09-24T00:00:00.000000000",
          "2018-10-01T00:00:00.000000000",
          "2018-10-08T00:00:00.000000000",
          "2018-10-15T00:00:00.000000000",
          "2018-10-22T00:00:00.000000000",
          "2018-10-29T00:00:00.000000000",
          "2018-11-05T00:00:00.000000000",
          "2018-11-12T00:00:00.000000000",
          "2018-11-19T00:00:00.000000000",
          "2018-11-26T00:00:00.000000000",
          "2018-12-03T00:00:00.000000000",
          "2018-12-10T00:00:00.000000000",
          "2018-12-17T00:00:00.000000000",
          "2018-12-24T00:00:00.000000000",
          "2019-01-07T00:00:00.000000000",
          "2019-01-14T00:00:00.000000000",
          "2019-01-21T00:00:00.000000000",
          "2019-01-28T00:00:00.000000000",
          "2019-02-04T00:00:00.000000000",
          "2019-02-11T00:00:00.000000000",
          "2019-02-18T00:00:00.000000000",
          "2019-02-25T00:00:00.000000000",
          "2019-03-04T00:00:00.000000000",
          "2019-03-11T00:00:00.000000000",
          "2019-03-18T00:00:00.000000000",
          "2019-03-25T00:00:00.000000000",
          "2019-04-01T00:00:00.000000000",
          "2019-04-08T00:00:00.000000000",
          "2019-04-15T00:00:00.000000000",
          "2019-04-22T00:00:00.000000000",
          "2019-04-29T00:00:00.000000000",
          "2019-05-06T00:00:00.000000000",
          "2019-05-13T00:00:00.000000000",
          "2019-05-20T00:00:00.000000000",
          "2019-05-27T00:00:00.000000000",
          "2019-06-03T00:00:00.000000000",
          "2019-06-10T00:00:00.000000000",
          "2019-06-17T00:00:00.000000000",
          "2019-06-24T00:00:00.000000000",
          "2019-07-01T00:00:00.000000000",
          "2019-07-08T00:00:00.000000000",
          "2019-07-15T00:00:00.000000000",
          "2019-07-22T00:00:00.000000000",
          "2019-07-29T00:00:00.000000000",
          "2019-08-05T00:00:00.000000000",
          "2019-08-12T00:00:00.000000000",
          "2019-08-19T00:00:00.000000000",
          "2019-08-26T00:00:00.000000000",
          "2019-09-02T00:00:00.000000000",
          "2019-09-09T00:00:00.000000000",
          "2019-09-16T00:00:00.000000000",
          "2019-09-23T00:00:00.000000000",
          "2019-09-30T00:00:00.000000000",
          "2019-10-07T00:00:00.000000000",
          "2019-10-14T00:00:00.000000000",
          "2019-10-21T00:00:00.000000000",
          "2019-10-28T00:00:00.000000000",
          "2019-11-04T00:00:00.000000000",
          "2019-11-11T00:00:00.000000000",
          "2019-11-18T00:00:00.000000000",
          "2019-11-25T00:00:00.000000000",
          "2019-12-02T00:00:00.000000000",
          "2019-12-09T00:00:00.000000000",
          "2019-12-16T00:00:00.000000000",
          "2019-12-23T00:00:00.000000000",
          "2019-12-30T00:00:00.000000000",
          "2020-01-06T00:00:00.000000000",
          "2020-01-13T00:00:00.000000000",
          "2020-01-20T00:00:00.000000000",
          "2020-01-27T00:00:00.000000000",
          "2020-02-03T00:00:00.000000000",
          "2020-02-10T00:00:00.000000000",
          "2020-02-17T00:00:00.000000000",
          "2020-02-24T00:00:00.000000000",
          "2020-03-02T00:00:00.000000000",
          "2020-03-09T00:00:00.000000000",
          "2020-03-16T00:00:00.000000000",
          "2020-03-23T00:00:00.000000000",
          "2020-03-30T00:00:00.000000000",
          "2020-04-06T00:00:00.000000000",
          "2020-04-13T00:00:00.000000000",
          "2020-04-20T00:00:00.000000000",
          "2020-04-27T00:00:00.000000000",
          "2020-05-04T00:00:00.000000000",
          "2020-05-11T00:00:00.000000000",
          "2020-05-18T00:00:00.000000000",
          "2020-05-25T00:00:00.000000000",
          "2020-06-01T00:00:00.000000000",
          "2020-06-08T00:00:00.000000000",
          "2020-06-15T00:00:00.000000000",
          "2020-06-22T00:00:00.000000000",
          "2020-06-29T00:00:00.000000000",
          "2020-07-06T00:00:00.000000000",
          "2020-07-13T00:00:00.000000000",
          "2020-07-20T00:00:00.000000000",
          "2020-07-27T00:00:00.000000000",
          "2020-08-03T00:00:00.000000000",
          "2020-08-10T00:00:00.000000000",
          "2020-08-17T00:00:00.000000000",
          "2020-08-24T00:00:00.000000000",
          "2020-08-31T00:00:00.000000000",
          "2020-09-07T00:00:00.000000000",
          "2020-09-14T00:00:00.000000000",
          "2020-09-21T00:00:00.000000000",
          "2020-09-28T00:00:00.000000000",
          "2020-10-05T00:00:00.000000000",
          "2020-10-12T00:00:00.000000000",
          "2020-10-19T00:00:00.000000000",
          "2020-10-26T00:00:00.000000000",
          "2020-11-02T00:00:00.000000000",
          "2020-11-09T00:00:00.000000000",
          "2020-11-16T00:00:00.000000000",
          "2020-11-23T00:00:00.000000000",
          "2020-11-30T00:00:00.000000000",
          "2020-12-07T00:00:00.000000000",
          "2020-12-14T00:00:00.000000000",
          "2020-12-21T00:00:00.000000000",
          "2020-12-28T00:00:00.000000000",
          "2021-01-04T00:00:00.000000000",
          "2021-01-04T00:00:00.000000000",
          "2021-01-11T00:00:00.000000000",
          "2021-01-18T00:00:00.000000000",
          "2021-01-25T00:00:00.000000000",
          "2021-02-01T00:00:00.000000000",
          "2021-02-08T00:00:00.000000000",
          "2021-02-15T00:00:00.000000000",
          "2021-02-22T00:00:00.000000000",
          "2021-03-01T00:00:00.000000000",
          "2021-03-08T00:00:00.000000000",
          "2021-03-15T00:00:00.000000000",
          "2021-03-22T00:00:00.000000000",
          "2021-03-29T00:00:00.000000000",
          "2021-04-05T00:00:00.000000000",
          "2021-04-12T00:00:00.000000000",
          "2021-04-19T00:00:00.000000000",
          "2021-04-26T00:00:00.000000000",
          "2021-05-03T00:00:00.000000000",
          "2021-05-10T00:00:00.000000000",
          "2021-05-17T00:00:00.000000000",
          "2021-05-24T00:00:00.000000000",
          "2021-05-31T00:00:00.000000000",
          "2021-06-07T00:00:00.000000000",
          "2021-06-14T00:00:00.000000000",
          "2021-06-21T00:00:00.000000000",
          "2021-06-28T00:00:00.000000000",
          "2021-07-05T00:00:00.000000000",
          "2021-07-12T00:00:00.000000000",
          "2021-07-19T00:00:00.000000000",
          "2021-07-26T00:00:00.000000000",
          "2021-08-02T00:00:00.000000000",
          "2021-08-09T00:00:00.000000000",
          "2021-08-16T00:00:00.000000000",
          "2021-08-23T00:00:00.000000000",
          "2021-08-30T00:00:00.000000000",
          "2021-09-06T00:00:00.000000000",
          "2021-09-13T00:00:00.000000000",
          "2021-09-20T00:00:00.000000000",
          "2021-09-27T00:00:00.000000000",
          "2021-10-04T00:00:00.000000000",
          "2021-10-11T00:00:00.000000000",
          "2021-10-18T00:00:00.000000000",
          "2021-10-25T00:00:00.000000000",
          "2021-11-01T00:00:00.000000000",
          "2021-11-08T00:00:00.000000000",
          "2021-11-15T00:00:00.000000000",
          "2021-11-22T00:00:00.000000000",
          "2021-11-29T00:00:00.000000000",
          "2021-12-06T00:00:00.000000000",
          "2021-12-13T00:00:00.000000000",
          "2021-12-20T00:00:00.000000000",
          "2021-12-27T00:00:00.000000000",
          "2022-01-03T00:00:00.000000000"
         ],
         "xaxis": "x4",
         "y": {
          "bdata": "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",
          "dtype": "f8"
         },
         "yaxis": "y4"
        },
        {
         "line": {
          "color": "red",
          "dash": "dash"
         },
         "mode": "lines",
         "name": "Predicción 2022 - Barrio 3",
         "showlegend": false,
         "type": "scatter",
         "x": [
          "2022-01-03T00:00:00.000000000",
          "2022-01-10T00:00:00.000000000",
          "2022-01-17T00:00:00.000000000",
          "2022-01-24T00:00:00.000000000",
          "2022-01-31T00:00:00.000000000",
          "2022-02-07T00:00:00.000000000",
          "2022-02-14T00:00:00.000000000",
          "2022-02-21T00:00:00.000000000",
          "2022-02-28T00:00:00.000000000",
          "2022-03-07T00:00:00.000000000",
          "2022-03-14T00:00:00.000000000",
          "2022-03-21T00:00:00.000000000",
          "2022-03-28T00:00:00.000000000",
          "2022-04-04T00:00:00.000000000",
          "2022-04-11T00:00:00.000000000",
          "2022-04-18T00:00:00.000000000",
          "2022-04-25T00:00:00.000000000",
          "2022-05-02T00:00:00.000000000",
          "2022-05-09T00:00:00.000000000",
          "2022-05-16T00:00:00.000000000",
          "2022-05-23T00:00:00.000000000",
          "2022-05-30T00:00:00.000000000",
          "2022-06-06T00:00:00.000000000",
          "2022-06-13T00:00:00.000000000",
          "2022-06-20T00:00:00.000000000",
          "2022-06-27T00:00:00.000000000",
          "2022-07-04T00:00:00.000000000",
          "2022-07-11T00:00:00.000000000",
          "2022-07-18T00:00:00.000000000",
          "2022-07-25T00:00:00.000000000",
          "2022-08-01T00:00:00.000000000",
          "2022-08-08T00:00:00.000000000",
          "2022-08-15T00:00:00.000000000",
          "2022-08-22T00:00:00.000000000",
          "2022-08-29T00:00:00.000000000",
          "2022-09-05T00:00:00.000000000",
          "2022-09-12T00:00:00.000000000",
          "2022-09-19T00:00:00.000000000",
          "2022-09-26T00:00:00.000000000",
          "2022-10-03T00:00:00.000000000",
          "2022-10-10T00:00:00.000000000",
          "2022-10-17T00:00:00.000000000",
          "2022-10-24T00:00:00.000000000",
          "2022-10-31T00:00:00.000000000",
          "2022-11-07T00:00:00.000000000",
          "2022-11-14T00:00:00.000000000",
          "2022-11-21T00:00:00.000000000",
          "2022-11-28T00:00:00.000000000",
          "2022-12-05T00:00:00.000000000",
          "2022-12-12T00:00:00.000000000",
          "2022-12-19T00:00:00.000000000",
          "2022-12-26T00:00:00.000000000"
         ],
         "xaxis": "x4",
         "y": {
          "bdata": "AAAAoGdu9j8AAACA0RLkPwAAAIAhpsQ/AAAAAAAAAAAAAAAAAAAAAAAAAAAAAAAAAAAAAAAAAAAAAAAAAAAAAAAAAAAAAAAAAAAAAAAAAAAAAAAAAAAAAAAAAAAAAAAAAAAAAAAAAAAAAAAAAAAAAAAAAAAAAAAAAAAAAAAAAAAAAAAAAAAAAAAAAAAAAAAAAAAAAAAAAAAAAAAAAAAAAAAAAAAAAAAAAAAAAAAAAAAAAAAAAAAAAAAAAAAAAAAAAAAAAAAAAAAAAAAAAAAAAAAAAAAAAAAAAAAAAAAAAAAAAAAAAAAAAAAAAAAAAAAAAAAAAAAAAAAAAAAAAAAAAAAAAAAAAAAAAAAAAAAAAAAAAAAAAAAAAAAAAAAAAAAAAAAAAAAAAAAAAAAAAAAAAAAAAAAAAAAAAAAAAAAAAAAAAAAAAAAAAAAAAAAAAAAAAAAAAAAAAAAAAAAAAAAAAAAAAAAAAAAAAAAAAAAAAAAAAAAAAAAAAAAAAAAAAAAAAAAAAAAAAAAAAAAAAAAAAAAAAAAAAAAAAAAAAAAAAAA=",
          "dtype": "f8"
         },
         "yaxis": "y4"
        },
        {
         "line": {
          "color": "blue"
         },
         "mode": "lines",
         "name": "Histórico - Barrio 4",
         "showlegend": false,
         "type": "scatter",
         "x": [
          "2015-01-05T00:00:00.000000000",
          "2015-01-12T00:00:00.000000000",
          "2015-01-19T00:00:00.000000000",
          "2015-01-26T00:00:00.000000000",
          "2015-02-02T00:00:00.000000000",
          "2015-02-09T00:00:00.000000000",
          "2015-02-16T00:00:00.000000000",
          "2015-02-23T00:00:00.000000000",
          "2015-03-02T00:00:00.000000000",
          "2015-03-09T00:00:00.000000000",
          "2015-03-16T00:00:00.000000000",
          "2015-03-23T00:00:00.000000000",
          "2015-03-30T00:00:00.000000000",
          "2015-04-06T00:00:00.000000000",
          "2015-04-13T00:00:00.000000000",
          "2015-04-20T00:00:00.000000000",
          "2015-04-27T00:00:00.000000000",
          "2015-05-04T00:00:00.000000000",
          "2015-05-11T00:00:00.000000000",
          "2015-05-18T00:00:00.000000000",
          "2015-05-25T00:00:00.000000000",
          "2015-06-01T00:00:00.000000000",
          "2015-06-08T00:00:00.000000000",
          "2015-06-15T00:00:00.000000000",
          "2015-06-22T00:00:00.000000000",
          "2015-06-29T00:00:00.000000000",
          "2015-07-06T00:00:00.000000000",
          "2015-07-13T00:00:00.000000000",
          "2015-07-20T00:00:00.000000000",
          "2015-07-27T00:00:00.000000000",
          "2015-08-03T00:00:00.000000000",
          "2015-08-10T00:00:00.000000000",
          "2015-08-17T00:00:00.000000000",
          "2015-08-24T00:00:00.000000000",
          "2015-08-31T00:00:00.000000000",
          "2015-09-07T00:00:00.000000000",
          "2015-09-14T00:00:00.000000000",
          "2015-09-21T00:00:00.000000000",
          "2015-09-28T00:00:00.000000000",
          "2015-10-05T00:00:00.000000000",
          "2015-10-12T00:00:00.000000000",
          "2015-10-19T00:00:00.000000000",
          "2015-10-26T00:00:00.000000000",
          "2015-11-02T00:00:00.000000000",
          "2015-11-09T00:00:00.000000000",
          "2015-11-16T00:00:00.000000000",
          "2015-11-23T00:00:00.000000000",
          "2015-11-30T00:00:00.000000000",
          "2015-12-07T00:00:00.000000000",
          "2015-12-14T00:00:00.000000000",
          "2015-12-21T00:00:00.000000000",
          "2015-12-28T00:00:00.000000000",
          "2016-01-04T00:00:00.000000000",
          "2016-01-04T00:00:00.000000000",
          "2016-01-11T00:00:00.000000000",
          "2016-01-18T00:00:00.000000000",
          "2016-01-25T00:00:00.000000000",
          "2016-02-01T00:00:00.000000000",
          "2016-02-08T00:00:00.000000000",
          "2016-02-15T00:00:00.000000000",
          "2016-02-22T00:00:00.000000000",
          "2016-02-29T00:00:00.000000000",
          "2016-03-07T00:00:00.000000000",
          "2016-03-14T00:00:00.000000000",
          "2016-03-21T00:00:00.000000000",
          "2016-03-28T00:00:00.000000000",
          "2016-04-04T00:00:00.000000000",
          "2016-04-11T00:00:00.000000000",
          "2016-04-18T00:00:00.000000000",
          "2016-04-25T00:00:00.000000000",
          "2016-05-02T00:00:00.000000000",
          "2016-05-09T00:00:00.000000000",
          "2016-05-16T00:00:00.000000000",
          "2016-05-23T00:00:00.000000000",
          "2016-05-30T00:00:00.000000000",
          "2016-06-06T00:00:00.000000000",
          "2016-06-13T00:00:00.000000000",
          "2016-06-20T00:00:00.000000000",
          "2016-06-27T00:00:00.000000000",
          "2016-07-04T00:00:00.000000000",
          "2016-07-11T00:00:00.000000000",
          "2016-07-18T00:00:00.000000000",
          "2016-07-25T00:00:00.000000000",
          "2016-08-01T00:00:00.000000000",
          "2016-08-08T00:00:00.000000000",
          "2016-08-15T00:00:00.000000000",
          "2016-08-22T00:00:00.000000000",
          "2016-08-29T00:00:00.000000000",
          "2016-09-05T00:00:00.000000000",
          "2016-09-12T00:00:00.000000000",
          "2016-09-19T00:00:00.000000000",
          "2016-09-26T00:00:00.000000000",
          "2016-10-03T00:00:00.000000000",
          "2016-10-10T00:00:00.000000000",
          "2016-10-17T00:00:00.000000000",
          "2016-10-24T00:00:00.000000000",
          "2016-10-31T00:00:00.000000000",
          "2016-11-07T00:00:00.000000000",
          "2016-11-14T00:00:00.000000000",
          "2016-11-21T00:00:00.000000000",
          "2016-11-28T00:00:00.000000000",
          "2016-12-05T00:00:00.000000000",
          "2016-12-12T00:00:00.000000000",
          "2016-12-19T00:00:00.000000000",
          "2016-12-26T00:00:00.000000000",
          "2017-01-02T00:00:00.000000000",
          "2017-01-02T00:00:00.000000000",
          "2017-01-09T00:00:00.000000000",
          "2017-01-16T00:00:00.000000000",
          "2017-01-23T00:00:00.000000000",
          "2017-01-30T00:00:00.000000000",
          "2017-02-06T00:00:00.000000000",
          "2017-02-13T00:00:00.000000000",
          "2017-02-20T00:00:00.000000000",
          "2017-02-27T00:00:00.000000000",
          "2017-03-06T00:00:00.000000000",
          "2017-03-13T00:00:00.000000000",
          "2017-03-20T00:00:00.000000000",
          "2017-03-27T00:00:00.000000000",
          "2017-04-03T00:00:00.000000000",
          "2017-04-10T00:00:00.000000000",
          "2017-04-17T00:00:00.000000000",
          "2017-04-24T00:00:00.000000000",
          "2017-05-01T00:00:00.000000000",
          "2017-05-08T00:00:00.000000000",
          "2017-05-15T00:00:00.000000000",
          "2017-05-22T00:00:00.000000000",
          "2017-05-29T00:00:00.000000000",
          "2017-06-05T00:00:00.000000000",
          "2017-06-12T00:00:00.000000000",
          "2017-06-19T00:00:00.000000000",
          "2017-06-26T00:00:00.000000000",
          "2017-07-03T00:00:00.000000000",
          "2017-07-10T00:00:00.000000000",
          "2017-07-17T00:00:00.000000000",
          "2017-07-24T00:00:00.000000000",
          "2017-07-31T00:00:00.000000000",
          "2017-08-07T00:00:00.000000000",
          "2017-08-14T00:00:00.000000000",
          "2017-08-21T00:00:00.000000000",
          "2017-08-28T00:00:00.000000000",
          "2017-09-04T00:00:00.000000000",
          "2017-09-11T00:00:00.000000000",
          "2017-09-18T00:00:00.000000000",
          "2017-09-25T00:00:00.000000000",
          "2017-10-02T00:00:00.000000000",
          "2017-10-09T00:00:00.000000000",
          "2017-10-16T00:00:00.000000000",
          "2017-10-23T00:00:00.000000000",
          "2017-10-30T00:00:00.000000000",
          "2017-11-06T00:00:00.000000000",
          "2017-11-13T00:00:00.000000000",
          "2017-11-20T00:00:00.000000000",
          "2017-11-27T00:00:00.000000000",
          "2017-12-04T00:00:00.000000000",
          "2017-12-11T00:00:00.000000000",
          "2017-12-18T00:00:00.000000000",
          "2017-12-25T00:00:00.000000000",
          "2018-01-01T00:00:00.000000000",
          "2018-01-08T00:00:00.000000000",
          "2018-01-15T00:00:00.000000000",
          "2018-01-22T00:00:00.000000000",
          "2018-01-29T00:00:00.000000000",
          "2018-02-05T00:00:00.000000000",
          "2018-02-12T00:00:00.000000000",
          "2018-02-19T00:00:00.000000000",
          "2018-02-26T00:00:00.000000000",
          "2018-03-05T00:00:00.000000000",
          "2018-03-12T00:00:00.000000000",
          "2018-03-19T00:00:00.000000000",
          "2018-03-26T00:00:00.000000000",
          "2018-04-02T00:00:00.000000000",
          "2018-04-09T00:00:00.000000000",
          "2018-04-16T00:00:00.000000000",
          "2018-04-23T00:00:00.000000000",
          "2018-04-30T00:00:00.000000000",
          "2018-05-07T00:00:00.000000000",
          "2018-05-14T00:00:00.000000000",
          "2018-05-21T00:00:00.000000000",
          "2018-05-28T00:00:00.000000000",
          "2018-06-04T00:00:00.000000000",
          "2018-06-11T00:00:00.000000000",
          "2018-06-18T00:00:00.000000000",
          "2018-06-25T00:00:00.000000000",
          "2018-07-02T00:00:00.000000000",
          "2018-07-09T00:00:00.000000000",
          "2018-07-16T00:00:00.000000000",
          "2018-07-23T00:00:00.000000000",
          "2018-07-30T00:00:00.000000000",
          "2018-08-06T00:00:00.000000000",
          "2018-08-13T00:00:00.000000000",
          "2018-08-20T00:00:00.000000000",
          "2018-08-27T00:00:00.000000000",
          "2018-09-03T00:00:00.000000000",
          "2018-09-10T00:00:00.000000000",
          "2018-09-17T00:00:00.000000000",
          "2018-09-24T00:00:00.000000000",
          "2018-10-01T00:00:00.000000000",
          "2018-10-08T00:00:00.000000000",
          "2018-10-15T00:00:00.000000000",
          "2018-10-22T00:00:00.000000000",
          "2018-10-29T00:00:00.000000000",
          "2018-11-05T00:00:00.000000000",
          "2018-11-12T00:00:00.000000000",
          "2018-11-19T00:00:00.000000000",
          "2018-11-26T00:00:00.000000000",
          "2018-12-03T00:00:00.000000000",
          "2018-12-10T00:00:00.000000000",
          "2018-12-17T00:00:00.000000000",
          "2018-12-24T00:00:00.000000000",
          "2019-01-07T00:00:00.000000000",
          "2019-01-14T00:00:00.000000000",
          "2019-01-21T00:00:00.000000000",
          "2019-01-28T00:00:00.000000000",
          "2019-02-04T00:00:00.000000000",
          "2019-02-11T00:00:00.000000000",
          "2019-02-18T00:00:00.000000000",
          "2019-02-25T00:00:00.000000000",
          "2019-03-04T00:00:00.000000000",
          "2019-03-11T00:00:00.000000000",
          "2019-03-18T00:00:00.000000000",
          "2019-03-25T00:00:00.000000000",
          "2019-04-01T00:00:00.000000000",
          "2019-04-08T00:00:00.000000000",
          "2019-04-15T00:00:00.000000000",
          "2019-04-22T00:00:00.000000000",
          "2019-04-29T00:00:00.000000000",
          "2019-05-06T00:00:00.000000000",
          "2019-05-13T00:00:00.000000000",
          "2019-05-20T00:00:00.000000000",
          "2019-05-27T00:00:00.000000000",
          "2019-06-03T00:00:00.000000000",
          "2019-06-10T00:00:00.000000000",
          "2019-06-17T00:00:00.000000000",
          "2019-06-24T00:00:00.000000000",
          "2019-07-01T00:00:00.000000000",
          "2019-07-08T00:00:00.000000000",
          "2019-07-15T00:00:00.000000000",
          "2019-07-22T00:00:00.000000000",
          "2019-07-29T00:00:00.000000000",
          "2019-08-05T00:00:00.000000000",
          "2019-08-12T00:00:00.000000000",
          "2019-08-19T00:00:00.000000000",
          "2019-08-26T00:00:00.000000000",
          "2019-09-02T00:00:00.000000000",
          "2019-09-09T00:00:00.000000000",
          "2019-09-16T00:00:00.000000000",
          "2019-09-23T00:00:00.000000000",
          "2019-09-30T00:00:00.000000000",
          "2019-10-07T00:00:00.000000000",
          "2019-10-14T00:00:00.000000000",
          "2019-10-21T00:00:00.000000000",
          "2019-10-28T00:00:00.000000000",
          "2019-11-04T00:00:00.000000000",
          "2019-11-11T00:00:00.000000000",
          "2019-11-18T00:00:00.000000000",
          "2019-11-25T00:00:00.000000000",
          "2019-12-02T00:00:00.000000000",
          "2019-12-09T00:00:00.000000000",
          "2019-12-16T00:00:00.000000000",
          "2019-12-23T00:00:00.000000000",
          "2019-12-30T00:00:00.000000000",
          "2020-01-06T00:00:00.000000000",
          "2020-01-13T00:00:00.000000000",
          "2020-01-20T00:00:00.000000000",
          "2020-01-27T00:00:00.000000000",
          "2020-02-03T00:00:00.000000000",
          "2020-02-10T00:00:00.000000000",
          "2020-02-17T00:00:00.000000000",
          "2020-02-24T00:00:00.000000000",
          "2020-03-02T00:00:00.000000000",
          "2020-03-09T00:00:00.000000000",
          "2020-03-16T00:00:00.000000000",
          "2020-03-23T00:00:00.000000000",
          "2020-03-30T00:00:00.000000000",
          "2020-04-06T00:00:00.000000000",
          "2020-04-13T00:00:00.000000000",
          "2020-04-20T00:00:00.000000000",
          "2020-04-27T00:00:00.000000000",
          "2020-05-04T00:00:00.000000000",
          "2020-05-11T00:00:00.000000000",
          "2020-05-18T00:00:00.000000000",
          "2020-05-25T00:00:00.000000000",
          "2020-06-01T00:00:00.000000000",
          "2020-06-08T00:00:00.000000000",
          "2020-06-15T00:00:00.000000000",
          "2020-06-22T00:00:00.000000000",
          "2020-06-29T00:00:00.000000000",
          "2020-07-06T00:00:00.000000000",
          "2020-07-13T00:00:00.000000000",
          "2020-07-20T00:00:00.000000000",
          "2020-07-27T00:00:00.000000000",
          "2020-08-03T00:00:00.000000000",
          "2020-08-10T00:00:00.000000000",
          "2020-08-17T00:00:00.000000000",
          "2020-08-24T00:00:00.000000000",
          "2020-08-31T00:00:00.000000000",
          "2020-09-07T00:00:00.000000000",
          "2020-09-14T00:00:00.000000000",
          "2020-09-21T00:00:00.000000000",
          "2020-09-28T00:00:00.000000000",
          "2020-10-05T00:00:00.000000000",
          "2020-10-12T00:00:00.000000000",
          "2020-10-19T00:00:00.000000000",
          "2020-10-26T00:00:00.000000000",
          "2020-11-02T00:00:00.000000000",
          "2020-11-09T00:00:00.000000000",
          "2020-11-16T00:00:00.000000000",
          "2020-11-23T00:00:00.000000000",
          "2020-11-30T00:00:00.000000000",
          "2020-12-07T00:00:00.000000000",
          "2020-12-14T00:00:00.000000000",
          "2020-12-21T00:00:00.000000000",
          "2020-12-28T00:00:00.000000000",
          "2021-01-04T00:00:00.000000000",
          "2021-01-04T00:00:00.000000000",
          "2021-01-11T00:00:00.000000000",
          "2021-01-18T00:00:00.000000000",
          "2021-01-25T00:00:00.000000000",
          "2021-02-01T00:00:00.000000000",
          "2021-02-08T00:00:00.000000000",
          "2021-02-15T00:00:00.000000000",
          "2021-02-22T00:00:00.000000000",
          "2021-03-01T00:00:00.000000000",
          "2021-03-08T00:00:00.000000000",
          "2021-03-15T00:00:00.000000000",
          "2021-03-22T00:00:00.000000000",
          "2021-03-29T00:00:00.000000000",
          "2021-04-05T00:00:00.000000000",
          "2021-04-12T00:00:00.000000000",
          "2021-04-19T00:00:00.000000000",
          "2021-04-26T00:00:00.000000000",
          "2021-05-03T00:00:00.000000000",
          "2021-05-10T00:00:00.000000000",
          "2021-05-17T00:00:00.000000000",
          "2021-05-24T00:00:00.000000000",
          "2021-05-31T00:00:00.000000000",
          "2021-06-07T00:00:00.000000000",
          "2021-06-14T00:00:00.000000000",
          "2021-06-21T00:00:00.000000000",
          "2021-06-28T00:00:00.000000000",
          "2021-07-05T00:00:00.000000000",
          "2021-07-12T00:00:00.000000000",
          "2021-07-19T00:00:00.000000000",
          "2021-07-26T00:00:00.000000000",
          "2021-08-02T00:00:00.000000000",
          "2021-08-09T00:00:00.000000000",
          "2021-08-16T00:00:00.000000000",
          "2021-08-23T00:00:00.000000000",
          "2021-08-30T00:00:00.000000000",
          "2021-09-06T00:00:00.000000000",
          "2021-09-13T00:00:00.000000000",
          "2021-09-20T00:00:00.000000000",
          "2021-09-27T00:00:00.000000000",
          "2021-10-04T00:00:00.000000000",
          "2021-10-11T00:00:00.000000000",
          "2021-10-18T00:00:00.000000000",
          "2021-10-25T00:00:00.000000000",
          "2021-11-01T00:00:00.000000000",
          "2021-11-08T00:00:00.000000000",
          "2021-11-15T00:00:00.000000000",
          "2021-11-22T00:00:00.000000000",
          "2021-11-29T00:00:00.000000000",
          "2021-12-06T00:00:00.000000000",
          "2021-12-13T00:00:00.000000000",
          "2021-12-20T00:00:00.000000000",
          "2021-12-27T00:00:00.000000000",
          "2022-01-03T00:00:00.000000000"
         ],
         "xaxis": "x5",
         "y": {
          "bdata": "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",
          "dtype": "f8"
         },
         "yaxis": "y5"
        },
        {
         "line": {
          "color": "red",
          "dash": "dash"
         },
         "mode": "lines",
         "name": "Predicción 2022 - Barrio 4",
         "showlegend": false,
         "type": "scatter",
         "x": [
          "2022-01-03T00:00:00.000000000",
          "2022-01-10T00:00:00.000000000",
          "2022-01-17T00:00:00.000000000",
          "2022-01-24T00:00:00.000000000",
          "2022-01-31T00:00:00.000000000",
          "2022-02-07T00:00:00.000000000",
          "2022-02-14T00:00:00.000000000",
          "2022-02-21T00:00:00.000000000",
          "2022-02-28T00:00:00.000000000",
          "2022-03-07T00:00:00.000000000",
          "2022-03-14T00:00:00.000000000",
          "2022-03-21T00:00:00.000000000",
          "2022-03-28T00:00:00.000000000",
          "2022-04-04T00:00:00.000000000",
          "2022-04-11T00:00:00.000000000",
          "2022-04-18T00:00:00.000000000",
          "2022-04-25T00:00:00.000000000",
          "2022-05-02T00:00:00.000000000",
          "2022-05-09T00:00:00.000000000",
          "2022-05-16T00:00:00.000000000",
          "2022-05-23T00:00:00.000000000",
          "2022-05-30T00:00:00.000000000",
          "2022-06-06T00:00:00.000000000",
          "2022-06-13T00:00:00.000000000",
          "2022-06-20T00:00:00.000000000",
          "2022-06-27T00:00:00.000000000",
          "2022-07-04T00:00:00.000000000",
          "2022-07-11T00:00:00.000000000",
          "2022-07-18T00:00:00.000000000",
          "2022-07-25T00:00:00.000000000",
          "2022-08-01T00:00:00.000000000",
          "2022-08-08T00:00:00.000000000",
          "2022-08-15T00:00:00.000000000",
          "2022-08-22T00:00:00.000000000",
          "2022-08-29T00:00:00.000000000",
          "2022-09-05T00:00:00.000000000",
          "2022-09-12T00:00:00.000000000",
          "2022-09-19T00:00:00.000000000",
          "2022-09-26T00:00:00.000000000",
          "2022-10-03T00:00:00.000000000",
          "2022-10-10T00:00:00.000000000",
          "2022-10-17T00:00:00.000000000",
          "2022-10-24T00:00:00.000000000",
          "2022-10-31T00:00:00.000000000",
          "2022-11-07T00:00:00.000000000",
          "2022-11-14T00:00:00.000000000",
          "2022-11-21T00:00:00.000000000",
          "2022-11-28T00:00:00.000000000",
          "2022-12-05T00:00:00.000000000",
          "2022-12-12T00:00:00.000000000",
          "2022-12-19T00:00:00.000000000",
          "2022-12-26T00:00:00.000000000"
         ],
         "xaxis": "x5",
         "y": {
          "bdata": "AAAA4JOU7D8AAADAgHvUPwAAAAAAAAAAAAAAAAAAAAAAAAAAAAAAAAAAAAAAAAAAAAAAAAAAAAAAAAAAAAAAAAAAAAAAAAAAAAAAAAAAAAAAAAAAAAAAAAAAAAAAAAAAAAAAAAAAAAAAAAAAAAAAAAAAAAAAAAAAAAAAAAAAAAAAAAAAAAAAAAAAAAAAAAAAAAAAAAAAAAAAAAAAAAAAAAAAAAAAAAAAAAAAAAAAAAAAAAAAAAAAAAAAAAAAAAAAAAAAAAAAAAAAAAAAAAAAAAAAAAAAAAAAAAAAAAAAAAAAAAAAAAAAAAAAAAAAAAAAAAAAAAAAAAAAAAAAAAAAAAAAAAAAAAAAAAAAAAAAAAAAAAAAAAAAAAAAAAAAAAAAAAAAAAAAAAAAAAAAAAAAAAAAAAAAAAAAAAAAAAAAAAAAAAAAAAAAAAAAAAAAAAAAAAAAAAAAAAAAAAAAAAAAAAAAAAAAAAAAAAAAAAAAAAAAAAAAAAAAAAAAAAAAAAAAAAAAAAAAAAAAAAAAAAAAAAAAAAAAAAAAAAAAAAAAAAA=",
          "dtype": "f8"
         },
         "yaxis": "y5"
        }
       ],
       "layout": {
        "annotations": [
         {
          "font": {
           "size": 16
          },
          "showarrow": false,
          "text": "Barrio 0",
          "x": 0.5,
          "xanchor": "center",
          "xref": "paper",
          "y": 1,
          "yanchor": "bottom",
          "yref": "paper"
         },
         {
          "font": {
           "size": 16
          },
          "showarrow": false,
          "text": "Barrio 1",
          "x": 0.5,
          "xanchor": "center",
          "xref": "paper",
          "y": 0.79,
          "yanchor": "bottom",
          "yref": "paper"
         },
         {
          "font": {
           "size": 16
          },
          "showarrow": false,
          "text": "Barrio 2",
          "x": 0.5,
          "xanchor": "center",
          "xref": "paper",
          "y": 0.5800000000000001,
          "yanchor": "bottom",
          "yref": "paper"
         },
         {
          "font": {
           "size": 16
          },
          "showarrow": false,
          "text": "Barrio 3",
          "x": 0.5,
          "xanchor": "center",
          "xref": "paper",
          "y": 0.37,
          "yanchor": "bottom",
          "yref": "paper"
         },
         {
          "font": {
           "size": 16
          },
          "showarrow": false,
          "text": "Barrio 4",
          "x": 0.5,
          "xanchor": "center",
          "xref": "paper",
          "y": 0.16,
          "yanchor": "bottom",
          "yref": "paper"
         }
        ],
        "height": 1000,
        "showlegend": true,
        "template": {
         "data": {
          "bar": [
           {
            "error_x": {
             "color": "#2a3f5f"
            },
            "error_y": {
             "color": "#2a3f5f"
            },
            "marker": {
             "line": {
              "color": "#E5ECF6",
              "width": 0.5
             },
             "pattern": {
              "fillmode": "overlay",
              "size": 10,
              "solidity": 0.2
             }
            },
            "type": "bar"
           }
          ],
          "barpolar": [
           {
            "marker": {
             "line": {
              "color": "#E5ECF6",
              "width": 0.5
             },
             "pattern": {
              "fillmode": "overlay",
              "size": 10,
              "solidity": 0.2
             }
            },
            "type": "barpolar"
           }
          ],
          "carpet": [
           {
            "aaxis": {
             "endlinecolor": "#2a3f5f",
             "gridcolor": "white",
             "linecolor": "white",
             "minorgridcolor": "white",
             "startlinecolor": "#2a3f5f"
            },
            "baxis": {
             "endlinecolor": "#2a3f5f",
             "gridcolor": "white",
             "linecolor": "white",
             "minorgridcolor": "white",
             "startlinecolor": "#2a3f5f"
            },
            "type": "carpet"
           }
          ],
          "choropleth": [
           {
            "colorbar": {
             "outlinewidth": 0,
             "ticks": ""
            },
            "type": "choropleth"
           }
          ],
          "contour": [
           {
            "colorbar": {
             "outlinewidth": 0,
             "ticks": ""
            },
            "colorscale": [
             [
              0,
              "#0d0887"
             ],
             [
              0.1111111111111111,
              "#46039f"
             ],
             [
              0.2222222222222222,
              "#7201a8"
             ],
             [
              0.3333333333333333,
              "#9c179e"
             ],
             [
              0.4444444444444444,
              "#bd3786"
             ],
             [
              0.5555555555555556,
              "#d8576b"
             ],
             [
              0.6666666666666666,
              "#ed7953"
             ],
             [
              0.7777777777777778,
              "#fb9f3a"
             ],
             [
              0.8888888888888888,
              "#fdca26"
             ],
             [
              1,
              "#f0f921"
             ]
            ],
            "type": "contour"
           }
          ],
          "contourcarpet": [
           {
            "colorbar": {
             "outlinewidth": 0,
             "ticks": ""
            },
            "type": "contourcarpet"
           }
          ],
          "heatmap": [
           {
            "colorbar": {
             "outlinewidth": 0,
             "ticks": ""
            },
            "colorscale": [
             [
              0,
              "#0d0887"
             ],
             [
              0.1111111111111111,
              "#46039f"
             ],
             [
              0.2222222222222222,
              "#7201a8"
             ],
             [
              0.3333333333333333,
              "#9c179e"
             ],
             [
              0.4444444444444444,
              "#bd3786"
             ],
             [
              0.5555555555555556,
              "#d8576b"
             ],
             [
              0.6666666666666666,
              "#ed7953"
             ],
             [
              0.7777777777777778,
              "#fb9f3a"
             ],
             [
              0.8888888888888888,
              "#fdca26"
             ],
             [
              1,
              "#f0f921"
             ]
            ],
            "type": "heatmap"
           }
          ],
          "histogram": [
           {
            "marker": {
             "pattern": {
              "fillmode": "overlay",
              "size": 10,
              "solidity": 0.2
             }
            },
            "type": "histogram"
           }
          ],
          "histogram2d": [
           {
            "colorbar": {
             "outlinewidth": 0,
             "ticks": ""
            },
            "colorscale": [
             [
              0,
              "#0d0887"
             ],
             [
              0.1111111111111111,
              "#46039f"
             ],
             [
              0.2222222222222222,
              "#7201a8"
             ],
             [
              0.3333333333333333,
              "#9c179e"
             ],
             [
              0.4444444444444444,
              "#bd3786"
             ],
             [
              0.5555555555555556,
              "#d8576b"
             ],
             [
              0.6666666666666666,
              "#ed7953"
             ],
             [
              0.7777777777777778,
              "#fb9f3a"
             ],
             [
              0.8888888888888888,
              "#fdca26"
             ],
             [
              1,
              "#f0f921"
             ]
            ],
            "type": "histogram2d"
           }
          ],
          "histogram2dcontour": [
           {
            "colorbar": {
             "outlinewidth": 0,
             "ticks": ""
            },
            "colorscale": [
             [
              0,
              "#0d0887"
             ],
             [
              0.1111111111111111,
              "#46039f"
             ],
             [
              0.2222222222222222,
              "#7201a8"
             ],
             [
              0.3333333333333333,
              "#9c179e"
             ],
             [
              0.4444444444444444,
              "#bd3786"
             ],
             [
              0.5555555555555556,
              "#d8576b"
             ],
             [
              0.6666666666666666,
              "#ed7953"
             ],
             [
              0.7777777777777778,
              "#fb9f3a"
             ],
             [
              0.8888888888888888,
              "#fdca26"
             ],
             [
              1,
              "#f0f921"
             ]
            ],
            "type": "histogram2dcontour"
           }
          ],
          "mesh3d": [
           {
            "colorbar": {
             "outlinewidth": 0,
             "ticks": ""
            },
            "type": "mesh3d"
           }
          ],
          "parcoords": [
           {
            "line": {
             "colorbar": {
              "outlinewidth": 0,
              "ticks": ""
             }
            },
            "type": "parcoords"
           }
          ],
          "pie": [
           {
            "automargin": true,
            "type": "pie"
           }
          ],
          "scatter": [
           {
            "fillpattern": {
             "fillmode": "overlay",
             "size": 10,
             "solidity": 0.2
            },
            "type": "scatter"
           }
          ],
          "scatter3d": [
           {
            "line": {
             "colorbar": {
              "outlinewidth": 0,
              "ticks": ""
             }
            },
            "marker": {
             "colorbar": {
              "outlinewidth": 0,
              "ticks": ""
             }
            },
            "type": "scatter3d"
           }
          ],
          "scattercarpet": [
           {
            "marker": {
             "colorbar": {
              "outlinewidth": 0,
              "ticks": ""
             }
            },
            "type": "scattercarpet"
           }
          ],
          "scattergeo": [
           {
            "marker": {
             "colorbar": {
              "outlinewidth": 0,
              "ticks": ""
             }
            },
            "type": "scattergeo"
           }
          ],
          "scattergl": [
           {
            "marker": {
             "colorbar": {
              "outlinewidth": 0,
              "ticks": ""
             }
            },
            "type": "scattergl"
           }
          ],
          "scattermap": [
           {
            "marker": {
             "colorbar": {
              "outlinewidth": 0,
              "ticks": ""
             }
            },
            "type": "scattermap"
           }
          ],
          "scattermapbox": [
           {
            "marker": {
             "colorbar": {
              "outlinewidth": 0,
              "ticks": ""
             }
            },
            "type": "scattermapbox"
           }
          ],
          "scatterpolar": [
           {
            "marker": {
             "colorbar": {
              "outlinewidth": 0,
              "ticks": ""
             }
            },
            "type": "scatterpolar"
           }
          ],
          "scatterpolargl": [
           {
            "marker": {
             "colorbar": {
              "outlinewidth": 0,
              "ticks": ""
             }
            },
            "type": "scatterpolargl"
           }
          ],
          "scatterternary": [
           {
            "marker": {
             "colorbar": {
              "outlinewidth": 0,
              "ticks": ""
             }
            },
            "type": "scatterternary"
           }
          ],
          "surface": [
           {
            "colorbar": {
             "outlinewidth": 0,
             "ticks": ""
            },
            "colorscale": [
             [
              0,
              "#0d0887"
             ],
             [
              0.1111111111111111,
              "#46039f"
             ],
             [
              0.2222222222222222,
              "#7201a8"
             ],
             [
              0.3333333333333333,
              "#9c179e"
             ],
             [
              0.4444444444444444,
              "#bd3786"
             ],
             [
              0.5555555555555556,
              "#d8576b"
             ],
             [
              0.6666666666666666,
              "#ed7953"
             ],
             [
              0.7777777777777778,
              "#fb9f3a"
             ],
             [
              0.8888888888888888,
              "#fdca26"
             ],
             [
              1,
              "#f0f921"
             ]
            ],
            "type": "surface"
           }
          ],
          "table": [
           {
            "cells": {
             "fill": {
              "color": "#EBF0F8"
             },
             "line": {
              "color": "white"
             }
            },
            "header": {
             "fill": {
              "color": "#C8D4E3"
             },
             "line": {
              "color": "white"
             }
            },
            "type": "table"
           }
          ]
         },
         "layout": {
          "annotationdefaults": {
           "arrowcolor": "#2a3f5f",
           "arrowhead": 0,
           "arrowwidth": 1
          },
          "autotypenumbers": "strict",
          "coloraxis": {
           "colorbar": {
            "outlinewidth": 0,
            "ticks": ""
           }
          },
          "colorscale": {
           "diverging": [
            [
             0,
             "#8e0152"
            ],
            [
             0.1,
             "#c51b7d"
            ],
            [
             0.2,
             "#de77ae"
            ],
            [
             0.3,
             "#f1b6da"
            ],
            [
             0.4,
             "#fde0ef"
            ],
            [
             0.5,
             "#f7f7f7"
            ],
            [
             0.6,
             "#e6f5d0"
            ],
            [
             0.7,
             "#b8e186"
            ],
            [
             0.8,
             "#7fbc41"
            ],
            [
             0.9,
             "#4d9221"
            ],
            [
             1,
             "#276419"
            ]
           ],
           "sequential": [
            [
             0,
             "#0d0887"
            ],
            [
             0.1111111111111111,
             "#46039f"
            ],
            [
             0.2222222222222222,
             "#7201a8"
            ],
            [
             0.3333333333333333,
             "#9c179e"
            ],
            [
             0.4444444444444444,
             "#bd3786"
            ],
            [
             0.5555555555555556,
             "#d8576b"
            ],
            [
             0.6666666666666666,
             "#ed7953"
            ],
            [
             0.7777777777777778,
             "#fb9f3a"
            ],
            [
             0.8888888888888888,
             "#fdca26"
            ],
            [
             1,
             "#f0f921"
            ]
           ],
           "sequentialminus": [
            [
             0,
             "#0d0887"
            ],
            [
             0.1111111111111111,
             "#46039f"
            ],
            [
             0.2222222222222222,
             "#7201a8"
            ],
            [
             0.3333333333333333,
             "#9c179e"
            ],
            [
             0.4444444444444444,
             "#bd3786"
            ],
            [
             0.5555555555555556,
             "#d8576b"
            ],
            [
             0.6666666666666666,
             "#ed7953"
            ],
            [
             0.7777777777777778,
             "#fb9f3a"
            ],
            [
             0.8888888888888888,
             "#fdca26"
            ],
            [
             1,
             "#f0f921"
            ]
           ]
          },
          "colorway": [
           "#636efa",
           "#EF553B",
           "#00cc96",
           "#ab63fa",
           "#FFA15A",
           "#19d3f3",
           "#FF6692",
           "#B6E880",
           "#FF97FF",
           "#FECB52"
          ],
          "font": {
           "color": "#2a3f5f"
          },
          "geo": {
           "bgcolor": "white",
           "lakecolor": "white",
           "landcolor": "#E5ECF6",
           "showlakes": true,
           "showland": true,
           "subunitcolor": "white"
          },
          "hoverlabel": {
           "align": "left"
          },
          "hovermode": "closest",
          "mapbox": {
           "style": "light"
          },
          "paper_bgcolor": "white",
          "plot_bgcolor": "#E5ECF6",
          "polar": {
           "angularaxis": {
            "gridcolor": "white",
            "linecolor": "white",
            "ticks": ""
           },
           "bgcolor": "#E5ECF6",
           "radialaxis": {
            "gridcolor": "white",
            "linecolor": "white",
            "ticks": ""
           }
          },
          "scene": {
           "xaxis": {
            "backgroundcolor": "#E5ECF6",
            "gridcolor": "white",
            "gridwidth": 2,
            "linecolor": "white",
            "showbackground": true,
            "ticks": "",
            "zerolinecolor": "white"
           },
           "yaxis": {
            "backgroundcolor": "#E5ECF6",
            "gridcolor": "white",
            "gridwidth": 2,
            "linecolor": "white",
            "showbackground": true,
            "ticks": "",
            "zerolinecolor": "white"
           },
           "zaxis": {
            "backgroundcolor": "#E5ECF6",
            "gridcolor": "white",
            "gridwidth": 2,
            "linecolor": "white",
            "showbackground": true,
            "ticks": "",
            "zerolinecolor": "white"
           }
          },
          "shapedefaults": {
           "line": {
            "color": "#2a3f5f"
           }
          },
          "ternary": {
           "aaxis": {
            "gridcolor": "white",
            "linecolor": "white",
            "ticks": ""
           },
           "baxis": {
            "gridcolor": "white",
            "linecolor": "white",
            "ticks": ""
           },
           "bgcolor": "#E5ECF6",
           "caxis": {
            "gridcolor": "white",
            "linecolor": "white",
            "ticks": ""
           }
          },
          "title": {
           "x": 0.05
          },
          "xaxis": {
           "automargin": true,
           "gridcolor": "white",
           "linecolor": "white",
           "ticks": "",
           "title": {
            "standoff": 15
           },
           "zerolinecolor": "white",
           "zerolinewidth": 2
          },
          "yaxis": {
           "automargin": true,
           "gridcolor": "white",
           "linecolor": "white",
           "ticks": "",
           "title": {
            "standoff": 15
           },
           "zerolinecolor": "white",
           "zerolinewidth": 2
          }
         }
        },
        "title": {
         "text": "Predicciones de Dengue para 2022 vs Datos Históricos"
        },
        "xaxis": {
         "anchor": "y",
         "domain": [
          0,
          1
         ],
         "matches": "x5",
         "showticklabels": false
        },
        "xaxis2": {
         "anchor": "y2",
         "domain": [
          0,
          1
         ],
         "matches": "x5",
         "showticklabels": false
        },
        "xaxis3": {
         "anchor": "y3",
         "domain": [
          0,
          1
         ],
         "matches": "x5",
         "showticklabels": false
        },
        "xaxis4": {
         "anchor": "y4",
         "domain": [
          0,
          1
         ],
         "matches": "x5",
         "showticklabels": false
        },
        "xaxis5": {
         "anchor": "y5",
         "domain": [
          0,
          1
         ],
         "title": {
          "text": "Fecha"
         }
        },
        "yaxis": {
         "anchor": "x",
         "domain": [
          0.8400000000000001,
          1
         ],
         "title": {
          "text": "Casos"
         }
        },
        "yaxis2": {
         "anchor": "x2",
         "domain": [
          0.63,
          0.79
         ],
         "title": {
          "text": "Casos"
         }
        },
        "yaxis3": {
         "anchor": "x3",
         "domain": [
          0.42000000000000004,
          0.5800000000000001
         ],
         "title": {
          "text": "Casos"
         }
        },
        "yaxis4": {
         "anchor": "x4",
         "domain": [
          0.21000000000000002,
          0.37
         ],
         "title": {
          "text": "Casos"
         }
        },
        "yaxis5": {
         "anchor": "x5",
         "domain": [
          0,
          0.16
         ],
         "title": {
          "text": "Casos"
         }
        }
       }
      }
     },
     "metadata": {},
     "output_type": "display_data"
    },
    {
     "data": {
      "application/vnd.plotly.v1+json": {
       "config": {
        "plotlyServerURL": "https://plot.ly"
       },
       "data": [
        {
         "line": {
          "color": "blue",
          "width": 2
         },
         "mode": "lines",
         "name": "Histórico Total",
         "type": "scatter",
         "x": [
          "2015-01-05T00:00:00.000000000",
          "2015-01-12T00:00:00.000000000",
          "2015-01-19T00:00:00.000000000",
          "2015-01-26T00:00:00.000000000",
          "2015-02-02T00:00:00.000000000",
          "2015-02-09T00:00:00.000000000",
          "2015-02-16T00:00:00.000000000",
          "2015-02-23T00:00:00.000000000",
          "2015-03-02T00:00:00.000000000",
          "2015-03-09T00:00:00.000000000",
          "2015-03-16T00:00:00.000000000",
          "2015-03-23T00:00:00.000000000",
          "2015-03-30T00:00:00.000000000",
          "2015-04-06T00:00:00.000000000",
          "2015-04-13T00:00:00.000000000",
          "2015-04-20T00:00:00.000000000",
          "2015-04-27T00:00:00.000000000",
          "2015-05-04T00:00:00.000000000",
          "2015-05-11T00:00:00.000000000",
          "2015-05-18T00:00:00.000000000",
          "2015-05-25T00:00:00.000000000",
          "2015-06-01T00:00:00.000000000",
          "2015-06-08T00:00:00.000000000",
          "2015-06-15T00:00:00.000000000",
          "2015-06-22T00:00:00.000000000",
          "2015-06-29T00:00:00.000000000",
          "2015-07-06T00:00:00.000000000",
          "2015-07-13T00:00:00.000000000",
          "2015-07-20T00:00:00.000000000",
          "2015-07-27T00:00:00.000000000",
          "2015-08-03T00:00:00.000000000",
          "2015-08-10T00:00:00.000000000",
          "2015-08-17T00:00:00.000000000",
          "2015-08-24T00:00:00.000000000",
          "2015-08-31T00:00:00.000000000",
          "2015-09-07T00:00:00.000000000",
          "2015-09-14T00:00:00.000000000",
          "2015-09-21T00:00:00.000000000",
          "2015-09-28T00:00:00.000000000",
          "2015-10-05T00:00:00.000000000",
          "2015-10-12T00:00:00.000000000",
          "2015-10-19T00:00:00.000000000",
          "2015-10-26T00:00:00.000000000",
          "2015-11-02T00:00:00.000000000",
          "2015-11-09T00:00:00.000000000",
          "2015-11-16T00:00:00.000000000",
          "2015-11-23T00:00:00.000000000",
          "2015-11-30T00:00:00.000000000",
          "2015-12-07T00:00:00.000000000",
          "2015-12-14T00:00:00.000000000",
          "2015-12-21T00:00:00.000000000",
          "2015-12-28T00:00:00.000000000",
          "2016-01-04T00:00:00.000000000",
          "2016-01-11T00:00:00.000000000",
          "2016-01-18T00:00:00.000000000",
          "2016-01-25T00:00:00.000000000",
          "2016-02-01T00:00:00.000000000",
          "2016-02-08T00:00:00.000000000",
          "2016-02-15T00:00:00.000000000",
          "2016-02-22T00:00:00.000000000",
          "2016-02-29T00:00:00.000000000",
          "2016-03-07T00:00:00.000000000",
          "2016-03-14T00:00:00.000000000",
          "2016-03-21T00:00:00.000000000",
          "2016-03-28T00:00:00.000000000",
          "2016-04-04T00:00:00.000000000",
          "2016-04-11T00:00:00.000000000",
          "2016-04-18T00:00:00.000000000",
          "2016-04-25T00:00:00.000000000",
          "2016-05-02T00:00:00.000000000",
          "2016-05-09T00:00:00.000000000",
          "2016-05-16T00:00:00.000000000",
          "2016-05-23T00:00:00.000000000",
          "2016-05-30T00:00:00.000000000",
          "2016-06-06T00:00:00.000000000",
          "2016-06-13T00:00:00.000000000",
          "2016-06-20T00:00:00.000000000",
          "2016-06-27T00:00:00.000000000",
          "2016-07-04T00:00:00.000000000",
          "2016-07-11T00:00:00.000000000",
          "2016-07-18T00:00:00.000000000",
          "2016-07-25T00:00:00.000000000",
          "2016-08-01T00:00:00.000000000",
          "2016-08-08T00:00:00.000000000",
          "2016-08-15T00:00:00.000000000",
          "2016-08-22T00:00:00.000000000",
          "2016-08-29T00:00:00.000000000",
          "2016-09-05T00:00:00.000000000",
          "2016-09-12T00:00:00.000000000",
          "2016-09-19T00:00:00.000000000",
          "2016-09-26T00:00:00.000000000",
          "2016-10-03T00:00:00.000000000",
          "2016-10-10T00:00:00.000000000",
          "2016-10-17T00:00:00.000000000",
          "2016-10-24T00:00:00.000000000",
          "2016-10-31T00:00:00.000000000",
          "2016-11-07T00:00:00.000000000",
          "2016-11-14T00:00:00.000000000",
          "2016-11-21T00:00:00.000000000",
          "2016-11-28T00:00:00.000000000",
          "2016-12-05T00:00:00.000000000",
          "2016-12-12T00:00:00.000000000",
          "2016-12-19T00:00:00.000000000",
          "2016-12-26T00:00:00.000000000",
          "2017-01-02T00:00:00.000000000",
          "2017-01-09T00:00:00.000000000",
          "2017-01-16T00:00:00.000000000",
          "2017-01-23T00:00:00.000000000",
          "2017-01-30T00:00:00.000000000",
          "2017-02-06T00:00:00.000000000",
          "2017-02-13T00:00:00.000000000",
          "2017-02-20T00:00:00.000000000",
          "2017-02-27T00:00:00.000000000",
          "2017-03-06T00:00:00.000000000",
          "2017-03-13T00:00:00.000000000",
          "2017-03-20T00:00:00.000000000",
          "2017-03-27T00:00:00.000000000",
          "2017-04-03T00:00:00.000000000",
          "2017-04-10T00:00:00.000000000",
          "2017-04-17T00:00:00.000000000",
          "2017-04-24T00:00:00.000000000",
          "2017-05-01T00:00:00.000000000",
          "2017-05-08T00:00:00.000000000",
          "2017-05-15T00:00:00.000000000",
          "2017-05-22T00:00:00.000000000",
          "2017-05-29T00:00:00.000000000",
          "2017-06-05T00:00:00.000000000",
          "2017-06-12T00:00:00.000000000",
          "2017-06-19T00:00:00.000000000",
          "2017-06-26T00:00:00.000000000",
          "2017-07-03T00:00:00.000000000",
          "2017-07-10T00:00:00.000000000",
          "2017-07-17T00:00:00.000000000",
          "2017-07-24T00:00:00.000000000",
          "2017-07-31T00:00:00.000000000",
          "2017-08-07T00:00:00.000000000",
          "2017-08-14T00:00:00.000000000",
          "2017-08-21T00:00:00.000000000",
          "2017-08-28T00:00:00.000000000",
          "2017-09-04T00:00:00.000000000",
          "2017-09-11T00:00:00.000000000",
          "2017-09-18T00:00:00.000000000",
          "2017-09-25T00:00:00.000000000",
          "2017-10-02T00:00:00.000000000",
          "2017-10-09T00:00:00.000000000",
          "2017-10-16T00:00:00.000000000",
          "2017-10-23T00:00:00.000000000",
          "2017-10-30T00:00:00.000000000",
          "2017-11-06T00:00:00.000000000",
          "2017-11-13T00:00:00.000000000",
          "2017-11-20T00:00:00.000000000",
          "2017-11-27T00:00:00.000000000",
          "2017-12-04T00:00:00.000000000",
          "2017-12-11T00:00:00.000000000",
          "2017-12-18T00:00:00.000000000",
          "2017-12-25T00:00:00.000000000",
          "2018-01-01T00:00:00.000000000",
          "2018-01-08T00:00:00.000000000",
          "2018-01-15T00:00:00.000000000",
          "2018-01-22T00:00:00.000000000",
          "2018-01-29T00:00:00.000000000",
          "2018-02-05T00:00:00.000000000",
          "2018-02-12T00:00:00.000000000",
          "2018-02-19T00:00:00.000000000",
          "2018-02-26T00:00:00.000000000",
          "2018-03-05T00:00:00.000000000",
          "2018-03-12T00:00:00.000000000",
          "2018-03-19T00:00:00.000000000",
          "2018-03-26T00:00:00.000000000",
          "2018-04-02T00:00:00.000000000",
          "2018-04-09T00:00:00.000000000",
          "2018-04-16T00:00:00.000000000",
          "2018-04-23T00:00:00.000000000",
          "2018-04-30T00:00:00.000000000",
          "2018-05-07T00:00:00.000000000",
          "2018-05-14T00:00:00.000000000",
          "2018-05-21T00:00:00.000000000",
          "2018-05-28T00:00:00.000000000",
          "2018-06-04T00:00:00.000000000",
          "2018-06-11T00:00:00.000000000",
          "2018-06-18T00:00:00.000000000",
          "2018-06-25T00:00:00.000000000",
          "2018-07-02T00:00:00.000000000",
          "2018-07-09T00:00:00.000000000",
          "2018-07-16T00:00:00.000000000",
          "2018-07-23T00:00:00.000000000",
          "2018-07-30T00:00:00.000000000",
          "2018-08-06T00:00:00.000000000",
          "2018-08-13T00:00:00.000000000",
          "2018-08-20T00:00:00.000000000",
          "2018-08-27T00:00:00.000000000",
          "2018-09-03T00:00:00.000000000",
          "2018-09-10T00:00:00.000000000",
          "2018-09-17T00:00:00.000000000",
          "2018-09-24T00:00:00.000000000",
          "2018-10-01T00:00:00.000000000",
          "2018-10-08T00:00:00.000000000",
          "2018-10-15T00:00:00.000000000",
          "2018-10-22T00:00:00.000000000",
          "2018-10-29T00:00:00.000000000",
          "2018-11-05T00:00:00.000000000",
          "2018-11-12T00:00:00.000000000",
          "2018-11-19T00:00:00.000000000",
          "2018-11-26T00:00:00.000000000",
          "2018-12-03T00:00:00.000000000",
          "2018-12-10T00:00:00.000000000",
          "2018-12-17T00:00:00.000000000",
          "2018-12-24T00:00:00.000000000",
          "2019-01-07T00:00:00.000000000",
          "2019-01-14T00:00:00.000000000",
          "2019-01-21T00:00:00.000000000",
          "2019-01-28T00:00:00.000000000",
          "2019-02-04T00:00:00.000000000",
          "2019-02-11T00:00:00.000000000",
          "2019-02-18T00:00:00.000000000",
          "2019-02-25T00:00:00.000000000",
          "2019-03-04T00:00:00.000000000",
          "2019-03-11T00:00:00.000000000",
          "2019-03-18T00:00:00.000000000",
          "2019-03-25T00:00:00.000000000",
          "2019-04-01T00:00:00.000000000",
          "2019-04-08T00:00:00.000000000",
          "2019-04-15T00:00:00.000000000",
          "2019-04-22T00:00:00.000000000",
          "2019-04-29T00:00:00.000000000",
          "2019-05-06T00:00:00.000000000",
          "2019-05-13T00:00:00.000000000",
          "2019-05-20T00:00:00.000000000",
          "2019-05-27T00:00:00.000000000",
          "2019-06-03T00:00:00.000000000",
          "2019-06-10T00:00:00.000000000",
          "2019-06-17T00:00:00.000000000",
          "2019-06-24T00:00:00.000000000",
          "2019-07-01T00:00:00.000000000",
          "2019-07-08T00:00:00.000000000",
          "2019-07-15T00:00:00.000000000",
          "2019-07-22T00:00:00.000000000",
          "2019-07-29T00:00:00.000000000",
          "2019-08-05T00:00:00.000000000",
          "2019-08-12T00:00:00.000000000",
          "2019-08-19T00:00:00.000000000",
          "2019-08-26T00:00:00.000000000",
          "2019-09-02T00:00:00.000000000",
          "2019-09-09T00:00:00.000000000",
          "2019-09-16T00:00:00.000000000",
          "2019-09-23T00:00:00.000000000",
          "2019-09-30T00:00:00.000000000",
          "2019-10-07T00:00:00.000000000",
          "2019-10-14T00:00:00.000000000",
          "2019-10-21T00:00:00.000000000",
          "2019-10-28T00:00:00.000000000",
          "2019-11-04T00:00:00.000000000",
          "2019-11-11T00:00:00.000000000",
          "2019-11-18T00:00:00.000000000",
          "2019-11-25T00:00:00.000000000",
          "2019-12-02T00:00:00.000000000",
          "2019-12-09T00:00:00.000000000",
          "2019-12-16T00:00:00.000000000",
          "2019-12-23T00:00:00.000000000",
          "2019-12-30T00:00:00.000000000",
          "2020-01-06T00:00:00.000000000",
          "2020-01-13T00:00:00.000000000",
          "2020-01-20T00:00:00.000000000",
          "2020-01-27T00:00:00.000000000",
          "2020-02-03T00:00:00.000000000",
          "2020-02-10T00:00:00.000000000",
          "2020-02-17T00:00:00.000000000",
          "2020-02-24T00:00:00.000000000",
          "2020-03-02T00:00:00.000000000",
          "2020-03-09T00:00:00.000000000",
          "2020-03-16T00:00:00.000000000",
          "2020-03-23T00:00:00.000000000",
          "2020-03-30T00:00:00.000000000",
          "2020-04-06T00:00:00.000000000",
          "2020-04-13T00:00:00.000000000",
          "2020-04-20T00:00:00.000000000",
          "2020-04-27T00:00:00.000000000",
          "2020-05-04T00:00:00.000000000",
          "2020-05-11T00:00:00.000000000",
          "2020-05-18T00:00:00.000000000",
          "2020-05-25T00:00:00.000000000",
          "2020-06-01T00:00:00.000000000",
          "2020-06-08T00:00:00.000000000",
          "2020-06-15T00:00:00.000000000",
          "2020-06-22T00:00:00.000000000",
          "2020-06-29T00:00:00.000000000",
          "2020-07-06T00:00:00.000000000",
          "2020-07-13T00:00:00.000000000",
          "2020-07-20T00:00:00.000000000",
          "2020-07-27T00:00:00.000000000",
          "2020-08-03T00:00:00.000000000",
          "2020-08-10T00:00:00.000000000",
          "2020-08-17T00:00:00.000000000",
          "2020-08-24T00:00:00.000000000",
          "2020-08-31T00:00:00.000000000",
          "2020-09-07T00:00:00.000000000",
          "2020-09-14T00:00:00.000000000",
          "2020-09-21T00:00:00.000000000",
          "2020-09-28T00:00:00.000000000",
          "2020-10-05T00:00:00.000000000",
          "2020-10-12T00:00:00.000000000",
          "2020-10-19T00:00:00.000000000",
          "2020-10-26T00:00:00.000000000",
          "2020-11-02T00:00:00.000000000",
          "2020-11-09T00:00:00.000000000",
          "2020-11-16T00:00:00.000000000",
          "2020-11-23T00:00:00.000000000",
          "2020-11-30T00:00:00.000000000",
          "2020-12-07T00:00:00.000000000",
          "2020-12-14T00:00:00.000000000",
          "2020-12-21T00:00:00.000000000",
          "2020-12-28T00:00:00.000000000",
          "2021-01-04T00:00:00.000000000",
          "2021-01-11T00:00:00.000000000",
          "2021-01-18T00:00:00.000000000",
          "2021-01-25T00:00:00.000000000",
          "2021-02-01T00:00:00.000000000",
          "2021-02-08T00:00:00.000000000",
          "2021-02-15T00:00:00.000000000",
          "2021-02-22T00:00:00.000000000",
          "2021-03-01T00:00:00.000000000",
          "2021-03-08T00:00:00.000000000",
          "2021-03-15T00:00:00.000000000",
          "2021-03-22T00:00:00.000000000",
          "2021-03-29T00:00:00.000000000",
          "2021-04-05T00:00:00.000000000",
          "2021-04-12T00:00:00.000000000",
          "2021-04-19T00:00:00.000000000",
          "2021-04-26T00:00:00.000000000",
          "2021-05-03T00:00:00.000000000",
          "2021-05-10T00:00:00.000000000",
          "2021-05-17T00:00:00.000000000",
          "2021-05-24T00:00:00.000000000",
          "2021-05-31T00:00:00.000000000",
          "2021-06-07T00:00:00.000000000",
          "2021-06-14T00:00:00.000000000",
          "2021-06-21T00:00:00.000000000",
          "2021-06-28T00:00:00.000000000",
          "2021-07-05T00:00:00.000000000",
          "2021-07-12T00:00:00.000000000",
          "2021-07-19T00:00:00.000000000",
          "2021-07-26T00:00:00.000000000",
          "2021-08-02T00:00:00.000000000",
          "2021-08-09T00:00:00.000000000",
          "2021-08-16T00:00:00.000000000",
          "2021-08-23T00:00:00.000000000",
          "2021-08-30T00:00:00.000000000",
          "2021-09-06T00:00:00.000000000",
          "2021-09-13T00:00:00.000000000",
          "2021-09-20T00:00:00.000000000",
          "2021-09-27T00:00:00.000000000",
          "2021-10-04T00:00:00.000000000",
          "2021-10-11T00:00:00.000000000",
          "2021-10-18T00:00:00.000000000",
          "2021-10-25T00:00:00.000000000",
          "2021-11-01T00:00:00.000000000",
          "2021-11-08T00:00:00.000000000",
          "2021-11-15T00:00:00.000000000",
          "2021-11-22T00:00:00.000000000",
          "2021-11-29T00:00:00.000000000",
          "2021-12-06T00:00:00.000000000",
          "2021-12-13T00:00:00.000000000",
          "2021-12-20T00:00:00.000000000",
          "2021-12-27T00:00:00.000000000",
          "2022-01-03T00:00:00.000000000"
         ],
         "y": {
          "bdata": "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",
          "dtype": "f8"
         }
        },
        {
         "line": {
          "color": "red",
          "dash": "dash",
          "width": 2
         },
         "mode": "lines",
         "name": "Predicción 2022 Total",
         "type": "scatter",
         "x": [
          "2022-01-03T00:00:00.000000000",
          "2022-01-10T00:00:00.000000000",
          "2022-01-17T00:00:00.000000000",
          "2022-01-24T00:00:00.000000000",
          "2022-01-31T00:00:00.000000000",
          "2022-02-07T00:00:00.000000000",
          "2022-02-14T00:00:00.000000000",
          "2022-02-21T00:00:00.000000000",
          "2022-02-28T00:00:00.000000000",
          "2022-03-07T00:00:00.000000000",
          "2022-03-14T00:00:00.000000000",
          "2022-03-21T00:00:00.000000000",
          "2022-03-28T00:00:00.000000000",
          "2022-04-04T00:00:00.000000000",
          "2022-04-11T00:00:00.000000000",
          "2022-04-18T00:00:00.000000000",
          "2022-04-25T00:00:00.000000000",
          "2022-05-02T00:00:00.000000000",
          "2022-05-09T00:00:00.000000000",
          "2022-05-16T00:00:00.000000000",
          "2022-05-23T00:00:00.000000000",
          "2022-05-30T00:00:00.000000000",
          "2022-06-06T00:00:00.000000000",
          "2022-06-13T00:00:00.000000000",
          "2022-06-20T00:00:00.000000000",
          "2022-06-27T00:00:00.000000000",
          "2022-07-04T00:00:00.000000000",
          "2022-07-11T00:00:00.000000000",
          "2022-07-18T00:00:00.000000000",
          "2022-07-25T00:00:00.000000000",
          "2022-08-01T00:00:00.000000000",
          "2022-08-08T00:00:00.000000000",
          "2022-08-15T00:00:00.000000000",
          "2022-08-22T00:00:00.000000000",
          "2022-08-29T00:00:00.000000000",
          "2022-09-05T00:00:00.000000000",
          "2022-09-12T00:00:00.000000000",
          "2022-09-19T00:00:00.000000000",
          "2022-09-26T00:00:00.000000000",
          "2022-10-03T00:00:00.000000000",
          "2022-10-10T00:00:00.000000000",
          "2022-10-17T00:00:00.000000000",
          "2022-10-24T00:00:00.000000000",
          "2022-10-31T00:00:00.000000000",
          "2022-11-07T00:00:00.000000000",
          "2022-11-14T00:00:00.000000000",
          "2022-11-21T00:00:00.000000000",
          "2022-11-28T00:00:00.000000000",
          "2022-12-05T00:00:00.000000000",
          "2022-12-12T00:00:00.000000000",
          "2022-12-19T00:00:00.000000000",
          "2022-12-26T00:00:00.000000000"
         ],
         "y": {
          "bdata": "AAAAheaSIEAAAAD8HGQIQAAAAKCr8eE/AAAAAASZoD8AAAAAAAAAAAAAAAAAAAAAAAAAAAAAAAAAAAAAAAAAAAAAAAAAAAAAAAAAAAAAAAAAAAAAAAAAAAAAAAAAAAAAAAAAAAAAAAAAAAAAAAAAAAAAAAAAAAAAAAAAAAAAAAAAAAAAAAAAAAAAAAAAAAAAAAAAAAAAAAAAAAAAAAAAAAAAAAAAAAAAAAAAAAAAAAAAAAAAAAAAAAAAAAAAAAAAAAAAAAAAAAAAAAAAAAAAAAAAAAAAAAAAAAAAAAAAAAAAAAAAAAAAAAAAAAAAAAAAAAAAAAAAAAAAAAAAAAAAAAAAAAAAAAAAAAAAAAAAAAAAAAAAAAAAAAAAAAAAAAAAAAAAAAAAAAAAAAAAAAAAAAAAAAAAAAAAAAAAAAAAAAAAAAAAAAAAAAAAAAAAAAAAAAAAAAAAAAAAAAAAAAAAAAAAAAAAAAAAAAAAAAAAAAAAAAAAAAAAAAAAAAAAAAAAAAAAAAAAAAAAAAAAAAAAAAAAAAAAAAAAAAAAAAAAAAA=",
          "dtype": "f8"
         }
        }
       ],
       "layout": {
        "height": 500,
        "hovermode": "x unified",
        "template": {
         "data": {
          "bar": [
           {
            "error_x": {
             "color": "#2a3f5f"
            },
            "error_y": {
             "color": "#2a3f5f"
            },
            "marker": {
             "line": {
              "color": "#E5ECF6",
              "width": 0.5
             },
             "pattern": {
              "fillmode": "overlay",
              "size": 10,
              "solidity": 0.2
             }
            },
            "type": "bar"
           }
          ],
          "barpolar": [
           {
            "marker": {
             "line": {
              "color": "#E5ECF6",
              "width": 0.5
             },
             "pattern": {
              "fillmode": "overlay",
              "size": 10,
              "solidity": 0.2
             }
            },
            "type": "barpolar"
           }
          ],
          "carpet": [
           {
            "aaxis": {
             "endlinecolor": "#2a3f5f",
             "gridcolor": "white",
             "linecolor": "white",
             "minorgridcolor": "white",
             "startlinecolor": "#2a3f5f"
            },
            "baxis": {
             "endlinecolor": "#2a3f5f",
             "gridcolor": "white",
             "linecolor": "white",
             "minorgridcolor": "white",
             "startlinecolor": "#2a3f5f"
            },
            "type": "carpet"
           }
          ],
          "choropleth": [
           {
            "colorbar": {
             "outlinewidth": 0,
             "ticks": ""
            },
            "type": "choropleth"
           }
          ],
          "contour": [
           {
            "colorbar": {
             "outlinewidth": 0,
             "ticks": ""
            },
            "colorscale": [
             [
              0,
              "#0d0887"
             ],
             [
              0.1111111111111111,
              "#46039f"
             ],
             [
              0.2222222222222222,
              "#7201a8"
             ],
             [
              0.3333333333333333,
              "#9c179e"
             ],
             [
              0.4444444444444444,
              "#bd3786"
             ],
             [
              0.5555555555555556,
              "#d8576b"
             ],
             [
              0.6666666666666666,
              "#ed7953"
             ],
             [
              0.7777777777777778,
              "#fb9f3a"
             ],
             [
              0.8888888888888888,
              "#fdca26"
             ],
             [
              1,
              "#f0f921"
             ]
            ],
            "type": "contour"
           }
          ],
          "contourcarpet": [
           {
            "colorbar": {
             "outlinewidth": 0,
             "ticks": ""
            },
            "type": "contourcarpet"
           }
          ],
          "heatmap": [
           {
            "colorbar": {
             "outlinewidth": 0,
             "ticks": ""
            },
            "colorscale": [
             [
              0,
              "#0d0887"
             ],
             [
              0.1111111111111111,
              "#46039f"
             ],
             [
              0.2222222222222222,
              "#7201a8"
             ],
             [
              0.3333333333333333,
              "#9c179e"
             ],
             [
              0.4444444444444444,
              "#bd3786"
             ],
             [
              0.5555555555555556,
              "#d8576b"
             ],
             [
              0.6666666666666666,
              "#ed7953"
             ],
             [
              0.7777777777777778,
              "#fb9f3a"
             ],
             [
              0.8888888888888888,
              "#fdca26"
             ],
             [
              1,
              "#f0f921"
             ]
            ],
            "type": "heatmap"
           }
          ],
          "histogram": [
           {
            "marker": {
             "pattern": {
              "fillmode": "overlay",
              "size": 10,
              "solidity": 0.2
             }
            },
            "type": "histogram"
           }
          ],
          "histogram2d": [
           {
            "colorbar": {
             "outlinewidth": 0,
             "ticks": ""
            },
            "colorscale": [
             [
              0,
              "#0d0887"
             ],
             [
              0.1111111111111111,
              "#46039f"
             ],
             [
              0.2222222222222222,
              "#7201a8"
             ],
             [
              0.3333333333333333,
              "#9c179e"
             ],
             [
              0.4444444444444444,
              "#bd3786"
             ],
             [
              0.5555555555555556,
              "#d8576b"
             ],
             [
              0.6666666666666666,
              "#ed7953"
             ],
             [
              0.7777777777777778,
              "#fb9f3a"
             ],
             [
              0.8888888888888888,
              "#fdca26"
             ],
             [
              1,
              "#f0f921"
             ]
            ],
            "type": "histogram2d"
           }
          ],
          "histogram2dcontour": [
           {
            "colorbar": {
             "outlinewidth": 0,
             "ticks": ""
            },
            "colorscale": [
             [
              0,
              "#0d0887"
             ],
             [
              0.1111111111111111,
              "#46039f"
             ],
             [
              0.2222222222222222,
              "#7201a8"
             ],
             [
              0.3333333333333333,
              "#9c179e"
             ],
             [
              0.4444444444444444,
              "#bd3786"
             ],
             [
              0.5555555555555556,
              "#d8576b"
             ],
             [
              0.6666666666666666,
              "#ed7953"
             ],
             [
              0.7777777777777778,
              "#fb9f3a"
             ],
             [
              0.8888888888888888,
              "#fdca26"
             ],
             [
              1,
              "#f0f921"
             ]
            ],
            "type": "histogram2dcontour"
           }
          ],
          "mesh3d": [
           {
            "colorbar": {
             "outlinewidth": 0,
             "ticks": ""
            },
            "type": "mesh3d"
           }
          ],
          "parcoords": [
           {
            "line": {
             "colorbar": {
              "outlinewidth": 0,
              "ticks": ""
             }
            },
            "type": "parcoords"
           }
          ],
          "pie": [
           {
            "automargin": true,
            "type": "pie"
           }
          ],
          "scatter": [
           {
            "fillpattern": {
             "fillmode": "overlay",
             "size": 10,
             "solidity": 0.2
            },
            "type": "scatter"
           }
          ],
          "scatter3d": [
           {
            "line": {
             "colorbar": {
              "outlinewidth": 0,
              "ticks": ""
             }
            },
            "marker": {
             "colorbar": {
              "outlinewidth": 0,
              "ticks": ""
             }
            },
            "type": "scatter3d"
           }
          ],
          "scattercarpet": [
           {
            "marker": {
             "colorbar": {
              "outlinewidth": 0,
              "ticks": ""
             }
            },
            "type": "scattercarpet"
           }
          ],
          "scattergeo": [
           {
            "marker": {
             "colorbar": {
              "outlinewidth": 0,
              "ticks": ""
             }
            },
            "type": "scattergeo"
           }
          ],
          "scattergl": [
           {
            "marker": {
             "colorbar": {
              "outlinewidth": 0,
              "ticks": ""
             }
            },
            "type": "scattergl"
           }
          ],
          "scattermap": [
           {
            "marker": {
             "colorbar": {
              "outlinewidth": 0,
              "ticks": ""
             }
            },
            "type": "scattermap"
           }
          ],
          "scattermapbox": [
           {
            "marker": {
             "colorbar": {
              "outlinewidth": 0,
              "ticks": ""
             }
            },
            "type": "scattermapbox"
           }
          ],
          "scatterpolar": [
           {
            "marker": {
             "colorbar": {
              "outlinewidth": 0,
              "ticks": ""
             }
            },
            "type": "scatterpolar"
           }
          ],
          "scatterpolargl": [
           {
            "marker": {
             "colorbar": {
              "outlinewidth": 0,
              "ticks": ""
             }
            },
            "type": "scatterpolargl"
           }
          ],
          "scatterternary": [
           {
            "marker": {
             "colorbar": {
              "outlinewidth": 0,
              "ticks": ""
             }
            },
            "type": "scatterternary"
           }
          ],
          "surface": [
           {
            "colorbar": {
             "outlinewidth": 0,
             "ticks": ""
            },
            "colorscale": [
             [
              0,
              "#0d0887"
             ],
             [
              0.1111111111111111,
              "#46039f"
             ],
             [
              0.2222222222222222,
              "#7201a8"
             ],
             [
              0.3333333333333333,
              "#9c179e"
             ],
             [
              0.4444444444444444,
              "#bd3786"
             ],
             [
              0.5555555555555556,
              "#d8576b"
             ],
             [
              0.6666666666666666,
              "#ed7953"
             ],
             [
              0.7777777777777778,
              "#fb9f3a"
             ],
             [
              0.8888888888888888,
              "#fdca26"
             ],
             [
              1,
              "#f0f921"
             ]
            ],
            "type": "surface"
           }
          ],
          "table": [
           {
            "cells": {
             "fill": {
              "color": "#EBF0F8"
             },
             "line": {
              "color": "white"
             }
            },
            "header": {
             "fill": {
              "color": "#C8D4E3"
             },
             "line": {
              "color": "white"
             }
            },
            "type": "table"
           }
          ]
         },
         "layout": {
          "annotationdefaults": {
           "arrowcolor": "#2a3f5f",
           "arrowhead": 0,
           "arrowwidth": 1
          },
          "autotypenumbers": "strict",
          "coloraxis": {
           "colorbar": {
            "outlinewidth": 0,
            "ticks": ""
           }
          },
          "colorscale": {
           "diverging": [
            [
             0,
             "#8e0152"
            ],
            [
             0.1,
             "#c51b7d"
            ],
            [
             0.2,
             "#de77ae"
            ],
            [
             0.3,
             "#f1b6da"
            ],
            [
             0.4,
             "#fde0ef"
            ],
            [
             0.5,
             "#f7f7f7"
            ],
            [
             0.6,
             "#e6f5d0"
            ],
            [
             0.7,
             "#b8e186"
            ],
            [
             0.8,
             "#7fbc41"
            ],
            [
             0.9,
             "#4d9221"
            ],
            [
             1,
             "#276419"
            ]
           ],
           "sequential": [
            [
             0,
             "#0d0887"
            ],
            [
             0.1111111111111111,
             "#46039f"
            ],
            [
             0.2222222222222222,
             "#7201a8"
            ],
            [
             0.3333333333333333,
             "#9c179e"
            ],
            [
             0.4444444444444444,
             "#bd3786"
            ],
            [
             0.5555555555555556,
             "#d8576b"
            ],
            [
             0.6666666666666666,
             "#ed7953"
            ],
            [
             0.7777777777777778,
             "#fb9f3a"
            ],
            [
             0.8888888888888888,
             "#fdca26"
            ],
            [
             1,
             "#f0f921"
            ]
           ],
           "sequentialminus": [
            [
             0,
             "#0d0887"
            ],
            [
             0.1111111111111111,
             "#46039f"
            ],
            [
             0.2222222222222222,
             "#7201a8"
            ],
            [
             0.3333333333333333,
             "#9c179e"
            ],
            [
             0.4444444444444444,
             "#bd3786"
            ],
            [
             0.5555555555555556,
             "#d8576b"
            ],
            [
             0.6666666666666666,
             "#ed7953"
            ],
            [
             0.7777777777777778,
             "#fb9f3a"
            ],
            [
             0.8888888888888888,
             "#fdca26"
            ],
            [
             1,
             "#f0f921"
            ]
           ]
          },
          "colorway": [
           "#636efa",
           "#EF553B",
           "#00cc96",
           "#ab63fa",
           "#FFA15A",
           "#19d3f3",
           "#FF6692",
           "#B6E880",
           "#FF97FF",
           "#FECB52"
          ],
          "font": {
           "color": "#2a3f5f"
          },
          "geo": {
           "bgcolor": "white",
           "lakecolor": "white",
           "landcolor": "#E5ECF6",
           "showlakes": true,
           "showland": true,
           "subunitcolor": "white"
          },
          "hoverlabel": {
           "align": "left"
          },
          "hovermode": "closest",
          "mapbox": {
           "style": "light"
          },
          "paper_bgcolor": "white",
          "plot_bgcolor": "#E5ECF6",
          "polar": {
           "angularaxis": {
            "gridcolor": "white",
            "linecolor": "white",
            "ticks": ""
           },
           "bgcolor": "#E5ECF6",
           "radialaxis": {
            "gridcolor": "white",
            "linecolor": "white",
            "ticks": ""
           }
          },
          "scene": {
           "xaxis": {
            "backgroundcolor": "#E5ECF6",
            "gridcolor": "white",
            "gridwidth": 2,
            "linecolor": "white",
            "showbackground": true,
            "ticks": "",
            "zerolinecolor": "white"
           },
           "yaxis": {
            "backgroundcolor": "#E5ECF6",
            "gridcolor": "white",
            "gridwidth": 2,
            "linecolor": "white",
            "showbackground": true,
            "ticks": "",
            "zerolinecolor": "white"
           },
           "zaxis": {
            "backgroundcolor": "#E5ECF6",
            "gridcolor": "white",
            "gridwidth": 2,
            "linecolor": "white",
            "showbackground": true,
            "ticks": "",
            "zerolinecolor": "white"
           }
          },
          "shapedefaults": {
           "line": {
            "color": "#2a3f5f"
           }
          },
          "ternary": {
           "aaxis": {
            "gridcolor": "white",
            "linecolor": "white",
            "ticks": ""
           },
           "baxis": {
            "gridcolor": "white",
            "linecolor": "white",
            "ticks": ""
           },
           "bgcolor": "#E5ECF6",
           "caxis": {
            "gridcolor": "white",
            "linecolor": "white",
            "ticks": ""
           }
          },
          "title": {
           "x": 0.05
          },
          "xaxis": {
           "automargin": true,
           "gridcolor": "white",
           "linecolor": "white",
           "ticks": "",
           "title": {
            "standoff": 15
           },
           "zerolinecolor": "white",
           "zerolinewidth": 2
          },
          "yaxis": {
           "automargin": true,
           "gridcolor": "white",
           "linecolor": "white",
           "ticks": "",
           "title": {
            "standoff": 15
           },
           "zerolinecolor": "white",
           "zerolinewidth": 2
          }
         }
        },
        "title": {
         "text": "Predicción Total de Casos de Dengue para 2022 (Todos los Barrios)"
        },
        "xaxis": {
         "title": {
          "text": "Fecha"
         }
        },
        "yaxis": {
         "title": {
          "text": "Casos Totales"
         }
        }
       }
      }
     },
     "metadata": {},
     "output_type": "display_data"
    },
    {
     "name": "stdout",
     "output_type": "stream",
     "text": [
      "\n",
      "¡Proceso completado exitosamente!\n",
      "Se generaron 520 predicciones para el archivo de sumisión.\n"
     ]
    }
   ],
   "source": [
    "# Visualizar predicciones para algunos barrios\n",
    "barrios_visualizar = predictions_df['id_bar'].unique()[:5]\n",
    "\n",
    "fig = make_subplots(\n",
    "    rows=len(barrios_visualizar), \n",
    "    cols=1,\n",
    "    subplot_titles=[f'Barrio {b}' for b in barrios_visualizar],\n",
    "    shared_xaxes=True,\n",
    "    vertical_spacing=0.05\n",
    ")\n",
    "\n",
    "for i, barrio in enumerate(barrios_visualizar):\n",
    "    # Datos históricos\n",
    "    hist_data = df_train[df_train['id_bar'] == barrio].sort_values('fecha')\n",
    "    \n",
    "    # Predicciones 2022\n",
    "    pred_data = predictions_df[predictions_df['id_bar'] == barrio].sort_values('semana')\n",
    "    pred_data['fecha'] = pd.date_range(start='2022-01-03', periods=52, freq='W-MON')\n",
    "    \n",
    "    # Agregar trazas\n",
    "    fig.add_trace(\n",
    "        go.Scatter(\n",
    "            x=hist_data['fecha'],\n",
    "            y=hist_data['dengue'],\n",
    "            mode='lines',\n",
    "            name=f'Histórico - Barrio {barrio}',\n",
    "            line=dict(color='blue'),\n",
    "            showlegend=(i == 0)\n",
    "        ),\n",
    "        row=i+1, col=1\n",
    "    )\n",
    "    \n",
    "    fig.add_trace(\n",
    "        go.Scatter(\n",
    "            x=pred_data['fecha'],\n",
    "            y=pred_data['dengue'],\n",
    "            mode='lines',\n",
    "            name=f'Predicción 2022 - Barrio {barrio}',\n",
    "            line=dict(color='red', dash='dash'),\n",
    "            showlegend=(i == 0)\n",
    "        ),\n",
    "        row=i+1, col=1\n",
    "    )\n",
    "\n",
    "fig.update_layout(\n",
    "    height=200*len(barrios_visualizar),\n",
    "    title_text=\"Predicciones de Dengue para 2022 vs Datos Históricos\",\n",
    "    showlegend=True\n",
    ")\n",
    "fig.update_xaxes(title_text=\"Fecha\", row=len(barrios_visualizar), col=1)\n",
    "fig.update_yaxes(title_text=\"Casos\")\n",
    "\n",
    "fig.show()\n",
    "\n",
    "# Visualización agregada\n",
    "pred_aggregated = predictions_df.groupby('semana')['dengue'].sum().reset_index()\n",
    "pred_aggregated['fecha'] = pd.date_range(start='2022-01-03', periods=52, freq='W-MON')\n",
    "\n",
    "hist_aggregated = df_train.groupby('fecha')['dengue'].sum().reset_index()\n",
    "\n",
    "fig = go.Figure()\n",
    "\n",
    "# Histórico\n",
    "fig.add_trace(go.Scatter(\n",
    "    x=hist_aggregated['fecha'],\n",
    "    y=hist_aggregated['dengue'],\n",
    "    mode='lines',\n",
    "    name='Histórico Total',\n",
    "    line=dict(color='blue', width=2)\n",
    "))\n",
    "\n",
    "# Predicción\n",
    "fig.add_trace(go.Scatter(\n",
    "    x=pred_aggregated['fecha'],\n",
    "    y=pred_aggregated['dengue'],\n",
    "    mode='lines',\n",
    "    name='Predicción 2022 Total',\n",
    "    line=dict(color='red', width=2, dash='dash')\n",
    "))\n",
    "\n",
    "fig.update_layout(\n",
    "    title='Predicción Total de Casos de Dengue para 2022 (Todos los Barrios)',\n",
    "    xaxis_title='Fecha',\n",
    "    yaxis_title='Casos Totales',\n",
    "    hovermode='x unified',\n",
    "    height=500\n",
    ")\n",
    "fig.show()\n",
    "\n",
    "print(\"\\n¡Proceso completado exitosamente!\")\n",
    "print(f\"Se generaron {len(submission_df)} predicciones para el archivo de sumisión.\")"
   ]
  }
 ],
 "metadata": {
  "kernelspec": {
   "display_name": "venv",
   "language": "python",
   "name": "python3"
  },
  "language_info": {
   "codemirror_mode": {
    "name": "ipython",
    "version": 3
   },
   "file_extension": ".py",
   "mimetype": "text/x-python",
   "name": "python",
   "nbconvert_exporter": "python",
   "pygments_lexer": "ipython3",
   "version": "3.12.5"
  }
 },
 "nbformat": 4,
 "nbformat_minor": 5
}
