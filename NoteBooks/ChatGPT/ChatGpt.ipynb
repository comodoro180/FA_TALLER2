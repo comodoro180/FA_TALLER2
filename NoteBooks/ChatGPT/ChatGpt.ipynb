{
 "cells": [
  {
   "cell_type": "code",
   "execution_count": null,
   "id": "f2d2e2fe",
   "metadata": {},
   "outputs": [],
   "source": [
    "# =============================================================================\n",
    "# Sección 1: Importación de Librerías y Configuración Inicial\n",
    "# =============================================================================\n",
    "\n",
    "# -----------------------------\n",
    "# 1. Manipulación de datos\n",
    "# -----------------------------\n",
    "import pandas as pd\n",
    "import numpy as np\n",
    "\n",
    "# -----------------------------\n",
    "# 2. Visualización\n",
    "# -----------------------------\n",
    "import matplotlib.pyplot as plt\n",
    "import seaborn as sns\n",
    "import plotly.express as px\n",
    "\n",
    "# -----------------------------\n",
    "# 3. Preprocesamiento y métricas\n",
    "# -----------------------------\n",
    "from sklearn.preprocessing import StandardScaler, MinMaxScaler\n",
    "from sklearn.metrics import (\n",
    "    mean_squared_error,\n",
    "    mean_absolute_error,\n",
    "    mean_absolute_percentage_error\n",
    ")\n",
    "\n",
    "# -----------------------------\n",
    "# 4. Deep Learning y Series de Tiempo\n",
    "# -----------------------------\n",
    "import torch\n",
    "from darts import TimeSeries\n",
    "from darts.models import RNNModel\n",
    "# RNNModel soporta model='RNN' | 'LSTM' | 'GRU'\n",
    "from darts.dataprocessing.transformers import Scaler as DartsScaler\n",
    "\n",
    "# -----------------------------\n",
    "# 5. Optimización de Hiperparámetros\n",
    "# -----------------------------\n",
    "import optuna\n",
    "\n",
    "# -----------------------------\n",
    "# 6. Reproducibilidad\n",
    "# -----------------------------\n",
    "import random\n",
    "import os\n",
    "\n",
    "SEED = 42\n",
    "random.seed(SEED)\n",
    "np.random.seed(SEED)\n",
    "torch.manual_seed(SEED)\n",
    "if torch.cuda.is_available():\n",
    "    torch.cuda.manual_seed_all(SEED)\n",
    "\n",
    "# -----------------------------\n",
    "# 7. Configuración de estilo gráfico\n",
    "# -----------------------------\n",
    "sns.set_style('whitegrid')\n",
    "plt.rcParams['figure.figsize'] = (12, 6)\n",
    "plt.rcParams['axes.titlesize'] = 14\n",
    "plt.rcParams['axes.labelsize'] = 12\n",
    "\n",
    "# -----------------------------\n",
    "# 8. Supresión de warnings\n",
    "# -----------------------------\n",
    "import warnings\n",
    "warnings.filterwarnings('ignore')\n",
    "\n",
    "print(f\"✅ Entorno configurado. Semilla global: {SEED}\")\n"
   ]
  },
  {
   "cell_type": "code",
   "execution_count": null,
   "id": "34433ffa",
   "metadata": {},
   "outputs": [],
   "source": [
    "# =============================================================================\n",
    "# Sección 2: Carga y Exploración Inicial de Datos\n",
    "# =============================================================================\n",
    "\n",
    "# -----------------------------\n",
    "# 1. Carga de archivos\n",
    "# -----------------------------\n",
    "from IPython.display import display\n",
    "\n",
    "# Rutas relativas a tu proyecto\n",
    "train_path      = '../../Datos/df_train.parquet'\n",
    "test_path       = '../../Datos/df_test.parquet'\n",
    "submit_path     = '../../Datos/sample_submission.csv'\n",
    "\n",
    "# Lectura de los datos\n",
    "train_df        = pd.read_parquet(train_path)     # Datos de entrenamiento (2015–2021)\n",
    "test_df         = pd.read_parquet(test_path)      # Datos de test (2022, sin 'dengue')\n",
    "submission_df   = pd.read_csv(submit_path)        # Formato de envío\n",
    "\n",
    "\n",
    "\n",
    "# ----------------------------------------------------------\n",
    "# Conversión forzada de columnas clave a tipo numérico\n",
    "# ----------------------------------------------------------\n",
    "# Si hay valores no convertibles, pasarán a NaN para que no rompan los agregados\n",
    "train_df['dengue'] = pd.to_numeric(train_df['dengue'], errors='coerce')\n",
    "train_df['semana'] = pd.to_numeric(train_df['semana'], errors='coerce')\n",
    "\n",
    "# Verificamos que ahora sean numéricos\n",
    "print(train_df[['dengue','semana']].dtypes)\n",
    "# Y cuántos NaN se generaron (opcional)\n",
    "print(\"Nulos en 'dengue':\", train_df['dengue'].isna().sum())\n",
    "print(\"Nulos en 'semana':\", train_df['semana'].isna().sum())\n",
    "\n",
    "\n",
    "\n",
    "# -----------------------------\n",
    "# 2. Inspección básica\n",
    "# -----------------------------\n",
    "print(\"➡️  Primeras filas de train_df:\")\n",
    "display(train_df.head())\n",
    "\n",
    "print(\"\\n➡️  Estructura y tipos de datos de train_df:\")\n",
    "train_df.info()\n",
    "\n",
    "print(\"\\n➡️  Primeras filas de test_df:\")\n",
    "display(test_df.head())\n",
    "\n",
    "print(\"\\n➡️  Estructura y tipos de datos de test_df:\")\n",
    "test_df.info()\n",
    "\n",
    "print(\"\\n➡️  Muestra de sample_submission.csv:\")\n",
    "display(submission_df.head())\n",
    "\n",
    "# -----------------------------\n",
    "# 3. Valores faltantes\n",
    "# -----------------------------\n",
    "print(\"\\n➡️  Valores faltantes en train_df:\")\n",
    "missing_train = train_df.isnull().sum()\n",
    "print(missing_train[missing_train > 0])\n",
    "\n",
    "print(\"\\n➡️  Valores faltantes en test_df:\")\n",
    "missing_test = test_df.isnull().sum()\n",
    "print(missing_test[missing_test > 0])\n",
    "\n",
    "# Visualización rápida de missing (solo variables con >0 faltantes)\n",
    "if (missing_train > 0).any():\n",
    "    fig, ax = plt.subplots()\n",
    "    missing_train[missing_train > 0].plot.bar(ax=ax)\n",
    "    ax.set_title(\"Valores faltantes en train_df\")\n",
    "    ax.set_ylabel(\"Cantidad\")\n",
    "    plt.xticks(rotation=45)\n",
    "    plt.show()\n",
    "\n",
    "# -----------------------------\n",
    "# 4. Estadísticas descriptivas\n",
    "# -----------------------------\n",
    "print(\"\\n➡️  Estadísticas descriptivas de train_df:\")\n",
    "display(train_df.describe())\n",
    "\n",
    "# Estadísticas categóricas (por ejemplo, conteo de barrios)\n",
    "print(\"\\n➡️  Número de registros por barrio (id_bar):\")\n",
    "display(train_df['id_bar'].value_counts().sort_index())\n",
    "\n",
    "# Distribución de la variable objetivo 'dengue'\n",
    "fig, ax = plt.subplots()\n",
    "sns.histplot(train_df['dengue'], bins=30, kde=True, ax=ax)\n",
    "ax.set_title(\"Distribución de casos de dengue (train_df)\")\n",
    "ax.set_xlabel(\"Casos de dengue por semana\")\n",
    "plt.show()\n"
   ]
  },
  {
   "cell_type": "code",
   "execution_count": null,
   "id": "e3109fa3",
   "metadata": {},
   "outputs": [],
   "source": [
    "# =============================================================================\n",
    "# Sección 3: Análisis Exploratorio Enfocado en Series Temporales\n",
    "# =============================================================================\n",
    "\n",
    "# -----------------------------\n",
    "# 3.1 Análisis por Barrio\n",
    "# -----------------------------\n",
    "# 3.1.1 – Crear columna 'date' a partir de año y semana (lunes de la semana)\n",
    "train_df['date'] = train_df.apply(\n",
    "    lambda r: pd.to_datetime(f\"{r.anio}-{int(r.semana):02d}-1\", format=\"%Y-%W-%w\"),\n",
    "    axis=1\n",
    ")\n",
    "\n",
    "# 3.1.2 – Pivot: filas=fecha, columnas=barrio, valores=casos dengue\n",
    "ts_barrio = train_df.pivot_table(\n",
    "    index='date',\n",
    "    columns='id_bar',\n",
    "    values='dengue',\n",
    "    aggfunc='sum'\n",
    ").sort_index()\n",
    "\n",
    "# 3.1.3 – Identificar barrios con mayor y menor incidencia total\n",
    "total_por_barrio = train_df.groupby('id_bar')['dengue'].sum().sort_values()\n",
    "top5_barrio    = total_por_barrio.tail(5).index.tolist()\n",
    "bottom5_barrio = total_por_barrio.head(5).index.tolist()\n",
    "\n",
    "print(\"Top 5 barrios con más casos acumulados:\", top5_barrio)\n",
    "print(\"Bottom 5 barrios con menos casos acumulados:\", bottom5_barrio)\n",
    "\n",
    "# 3.1.4 – Visualizar series temporales para top5 y bottom5\n",
    "fig, axes = plt.subplots(2, 1, figsize=(14, 10), sharex=True)\n",
    "for b in top5_barrio:\n",
    "    axes[0].plot(ts_barrio.index, ts_barrio[b], label=f\"Barrio {b}\")\n",
    "axes[0].set_title(\"Evolución semanal de dengue — Top 5 barrios\")\n",
    "axes[0].legend(loc='upper left')\n",
    "\n",
    "for b in bottom5_barrio:\n",
    "    axes[1].plot(ts_barrio.index, ts_barrio[b], label=f\"Barrio {b}\")\n",
    "axes[1].set_title(\"Evolución semanal de dengue — Bottom 5 barrios\")\n",
    "axes[1].legend(loc='upper left')\n",
    "\n",
    "plt.xlabel(\"Fecha\")\n",
    "plt.tight_layout()\n",
    "plt.show()\n",
    "\n",
    "# 3.1.5 – Incidencia total por barrio (barras)\n",
    "fig, ax = plt.subplots(figsize=(12, 6))\n",
    "total_por_barrio.plot.bar(ax=ax)\n",
    "ax.set_title(\"Casos acumulados de dengue por barrio (2015–2021)\")\n",
    "ax.set_xlabel(\"ID de Barrio\")\n",
    "ax.set_ylabel(\"Casos totales\")\n",
    "plt.xticks(rotation=90)\n",
    "plt.show()\n",
    "\n",
    "\n",
    "# -----------------------------\n",
    "# 3.2 Análisis de Estacionalidad y Tendencias\n",
    "# -----------------------------\n",
    "from statsmodels.tsa.seasonal import seasonal_decompose\n",
    "\n",
    "# Tomamos el barrio con más casos para ejemplo de descomposición\n",
    "b0 = top5_barrio[-1]\n",
    "serie_b0 = ts_barrio[b0].asfreq('W-MON').fillna(0)\n",
    "\n",
    "# Descomposición STL (tendencia, estacionalidad, residuo)\n",
    "decomp = seasonal_decompose(serie_b0, model='additive', period=52)\n",
    "\n",
    "fig = decomp.plot()\n",
    "fig.set_size_inches(14, 8)\n",
    "plt.suptitle(f\"Descomposición de la serie de dengue — Barrio {b0}\", y=1.02)\n",
    "plt.show()\n",
    "\n",
    "# Estacionalidad promedio por semana del año\n",
    "seasonal_week = train_df.groupby('semana')['dengue'].mean()\n",
    "fig, ax = plt.subplots(figsize=(12, 4))\n",
    "sns.lineplot(x=seasonal_week.index, y=seasonal_week.values, ax=ax)\n",
    "ax.set_title(\"Promedio semanal de casos de dengue (2015–2021)\")\n",
    "ax.set_xlabel(\"Semana del año\")\n",
    "ax.set_ylabel(\"Casos promedio\")\n",
    "plt.show()\n",
    "\n",
    "\n",
    "# -----------------------------\n",
    "# 3.3 Análisis de Correlaciones Temporales\n",
    "# -----------------------------\n",
    "from statsmodels.graphics.tsaplots import plot_acf\n",
    "\n",
    "# 3.3.1 – Autocorrelación de la serie agregada de dengue\n",
    "agg_series = train_df.set_index('date')['dengue'].resample('W-MON').sum()\n",
    "fig, ax = plt.subplots(figsize=(10, 4))\n",
    "plot_acf(agg_series.fillna(0), lags=24, ax=ax)\n",
    "ax.set_title(\"Autocorrelación de casos semanales de dengue (agregado)\")\n",
    "plt.show()\n",
    "\n",
    "# -----------------------------\n",
    "# 3.3.2 – Correlación cruzada simple entre lluvia media y dengue\n",
    "# -----------------------------\n",
    "# 1. Seleccionamos sólo las columnas numéricas de interés\n",
    "weekly_df = (\n",
    "    train_df\n",
    "    .set_index('date')[['dengue', 'lluvia_mean']]   # sólo numéricas\n",
    "    .resample('W-MON')                              # muestreo semanal (lunes)\n",
    "    .mean()                                         # media de cada columna\n",
    "    .fillna(0)                                      # rellenar NaN con 0\n",
    ")\n",
    "\n",
    "# 2. Calculamos las correlaciones con distintos lags\n",
    "ccf_vals = [weekly_df['lluvia_mean'].shift(l).corr(weekly_df['dengue']) for l in range(9)]\n",
    "\n",
    "# 3. Visualizamos\n",
    "fig, ax = plt.subplots(figsize=(8, 4))\n",
    "sns.barplot(x=list(range(9)), y=ccf_vals, ax=ax)\n",
    "ax.set_title(\"Correlación (lag) entre lluvia_mean y dengue\")\n",
    "ax.set_xlabel(\"Desfase de semanas\")\n",
    "ax.set_ylabel(\"Coeficiente de correlación\")\n",
    "plt.show()\n",
    "\n",
    "\n",
    "\n",
    "# -----------------------------\n",
    "# 3.4 Determinación de Ventanas Temporales\n",
    "# -----------------------------\n",
    "# Usamos la autocorrelación para ver hasta qué lag es significativo\n",
    "acf_vals = agg_series.fillna(0).autocorr(lag=1)\n",
    "# Comparamos varios lags\n",
    "lags = list(range(1, 21))\n",
    "acf_lags = [agg_series.autocorr(lag=l) for l in lags]\n",
    "\n",
    "fig, ax = plt.subplots(figsize=(10, 4))\n",
    "sns.lineplot(x=lags, y=acf_lags, marker='o', ax=ax)\n",
    "ax.axhline(0.2, color='red', linestyle='--', label='Umbral 0.2')\n",
    "ax.set_title(\"ACF: elección de ventana temporal óptima (semanas)\")\n",
    "ax.set_xlabel(\"Lag (semanas)\")\n",
    "ax.set_ylabel(\"Autocorrelación\")\n",
    "ax.legend()\n",
    "plt.show()\n",
    "\n",
    "print(\"➡️ Observación: la autocorrelación cae por debajo de 0.2 alrededor de las 8–10 semanas,\")\n",
    "print(\"   lo que sugiere considerar ventanas de entrada de longitud ~8–10 semanas.\")\n"
   ]
  },
  {
   "cell_type": "code",
   "execution_count": null,
   "id": "a9fcbc48",
   "metadata": {},
   "outputs": [],
   "source": [
    "# =============================================================================\n",
    "# Sección 4: Análisis y Selección de Variables\n",
    "# =============================================================================\n",
    "\n",
    "# -----------------------------\n",
    "# 4.1 Importancia de Variables\n",
    "# -----------------------------\n",
    "\n",
    "# 4.1.1 – Identificar columnas numéricas predictoras (excluimos id, date y target)\n",
    "exclude_cols = ['id', 'id_bar', 'anio', 'date', 'dengue']\n",
    "numeric_cols = [\n",
    "    c for c in train_df.columns\n",
    "    if pd.api.types.is_numeric_dtype(train_df[c]) and c not in exclude_cols\n",
    "]\n",
    "\n",
    "# 4.1.2 – Correlación de cada variable numérica con la variable objetivo 'dengue'\n",
    "corr_with_target = train_df[numeric_cols + ['dengue']].corr()['dengue'].drop('dengue')\n",
    "corr_with_target = corr_with_target.sort_values()\n",
    "\n",
    "# 4.1.3 – Visualizar correlaciones\n",
    "fig, ax = plt.subplots(figsize=(10, 6))\n",
    "corr_with_target.plot.barh(ax=ax)\n",
    "ax.set_title(\"Correlación de variables numéricas con dengue\")\n",
    "ax.set_xlabel(\"Coeficiente de correlación\")\n",
    "plt.tight_layout()\n",
    "plt.show()\n",
    "\n",
    "# 4.1.4 – Importancia usando Random Forest\n",
    "from sklearn.ensemble import RandomForestRegressor\n",
    "\n",
    "# Definimos X e y (eliminamos filas con NaN en predictors o target)\n",
    "rf_df = train_df.dropna(subset=numeric_cols + ['dengue'])\n",
    "X = rf_df[numeric_cols]\n",
    "y = rf_df['dengue']\n",
    "\n",
    "# Instanciamos y ajustamos el modelo\n",
    "rf = RandomForestRegressor(\n",
    "    n_estimators=100,\n",
    "    random_state=SEED,\n",
    "    n_jobs=-1\n",
    ")\n",
    "rf.fit(X, y)\n",
    "\n",
    "# Extraemos importancias\n",
    "importances = pd.Series(rf.feature_importances_, index=numeric_cols)\n",
    "importances = importances.sort_values()\n",
    "\n",
    "# 4.1.5 – Visualizar importancias de Random Forest\n",
    "fig, ax = plt.subplots(figsize=(10, 6))\n",
    "importances.plot.barh(ax=ax)\n",
    "ax.set_title(\"Importancia relativa de variables (Random Forest)\")\n",
    "ax.set_xlabel(\"Importancia\")\n",
    "plt.tight_layout()\n",
    "plt.show()\n",
    "\n",
    "\n",
    "# -----------------------------\n",
    "# 4.2 Reducción de Dimensionalidad (PCA)\n",
    "# -----------------------------\n",
    "from sklearn.decomposition import PCA\n",
    "\n",
    "# 4.2.1 – Escalar variables antes de PCA\n",
    "scaler = StandardScaler()\n",
    "X_scaled = scaler.fit_transform(X)\n",
    "\n",
    "# 4.2.2 – Ajustar PCA y obtener varianza explicada\n",
    "pca = PCA()\n",
    "pca.fit(X_scaled)\n",
    "\n",
    "explained_var = pca.explained_variance_ratio_\n",
    "cum_var = np.cumsum(explained_var)\n",
    "\n",
    "# 4.2.3 – Visualizar varianza explicada acumulada\n",
    "fig, ax = plt.subplots(figsize=(8, 4))\n",
    "ax.plot(range(1, len(cum_var) + 1), cum_var, marker='o')\n",
    "ax.axhline(0.90, linestyle='--', label='90% Varianza')\n",
    "ax.set_title(\"Varianza explicada acumulada por componentes PCA\")\n",
    "ax.set_xlabel(\"Número de componentes\")\n",
    "ax.set_ylabel(\"Varianza explicada acumulada\")\n",
    "ax.legend()\n",
    "plt.tight_layout()\n",
    "plt.show()\n",
    "\n",
    "# 4.2.4 – Si es necesario, seleccionar componentes o eliminar variables redundantes\n",
    "# Identificación de pares de variables con alta correlación (> 0.9)\n",
    "corr_matrix = pd.DataFrame(X_scaled, columns=numeric_cols).corr().abs()\n",
    "upper_tri = corr_matrix.where(np.triu(np.ones(corr_matrix.shape), k=1).astype(bool))\n",
    "\n",
    "to_drop = [col for col in upper_tri.columns if any(upper_tri[col] > 0.90)]\n",
    "print(f\"Variables con correlación > 0.90 (a considerar para eliminación):\\n{to_drop}\")\n",
    "\n",
    "# Crear nuevo conjunto de características sin las redundantes\n",
    "X_reduced = X.drop(columns=to_drop)\n",
    "\n",
    "print(f\"Tamaño original de X: {X.shape[1]} variables\")\n",
    "print(f\"Tamaño reducido de X: {X_reduced.shape[1]} variables\")\n"
   ]
  },
  {
   "cell_type": "code",
   "execution_count": null,
   "id": "9fa10189",
   "metadata": {},
   "outputs": [],
   "source": [
    "# =============================================================================\n",
    "# Sección 5: Preprocesamiento para Series Temporales\n",
    "# =============================================================================\n",
    "\n",
    "# -----------------------------\n",
    "# 5.1: Escalado de Variables\n",
    "# -----------------------------\n",
    "# Recalculamos la lista de predictoras numéricas reducidas (de la Sección 4)\n",
    "numeric_cols_reduced = [c for c in numeric_cols if c not in to_drop]\n",
    "\n",
    "# Usamos MinMaxScaler para llevar todas las variables al rango [0,1]\n",
    "scaler = MinMaxScaler()\n",
    "# Ajustamos y transformamos sólo las predictoras numéricas\n",
    "train_scaled = train_df.copy()\n",
    "train_scaled[numeric_cols_reduced] = scaler.fit_transform(\n",
    "    train_df[numeric_cols_reduced]\n",
    ")\n",
    "\n",
    "# -----------------------------\n",
    "# 5.2: Creación de Características Temporales\n",
    "# -----------------------------\n",
    "# Definimos lags de dengue y rolling windows\n",
    "lags = [1, 2, 4, 8]\n",
    "rolling_windows = [4, 8]\n",
    "\n",
    "for lag in lags:\n",
    "    col = f\"dengue_lag_{lag}\"\n",
    "    train_scaled[col] = (train_scaled\n",
    "                         .groupby('id_bar')['dengue']\n",
    "                         .shift(lag))\n",
    "\n",
    "for window in rolling_windows:\n",
    "    col = f\"dengue_rollmean_{window}\"\n",
    "    train_scaled[col] = (train_scaled\n",
    "                         .groupby('id_bar')['dengue']\n",
    "                         .rolling(window=window, min_periods=1)\n",
    "                         .mean()\n",
    "                         .reset_index(level=0, drop=True))\n",
    "\n",
    "# -----------------------------\n",
    "# 5.3: Limpieza de NaNs\n",
    "# -----------------------------\n",
    "# Eliminamos filas donde alguna feature temporal o target sea NaN\n",
    "feature_cols = numeric_cols_reduced + \\\n",
    "               [f\"dengue_lag_{lag}\" for lag in lags] + \\\n",
    "               [f\"dengue_rollmean_{w}\" for w in rolling_windows]\n",
    "train_scaled = train_scaled.dropna(subset=feature_cols + ['dengue'])\n",
    "\n",
    "# -----------------------------\n",
    "# 5.4: Preparación de TimeSeries de Darts (índices únicos)\n",
    "# -----------------------------\n",
    "series_dict = {}\n",
    "\n",
    "for barrio in train_scaled['id_bar'].unique():\n",
    "    # 1) Filtrar barrio y agrupar por fecha para tener un índice único\n",
    "    df_bar = (\n",
    "        train_scaled[train_scaled['id_bar'] == barrio]\n",
    "        .groupby('date')[['dengue'] + feature_cols]\n",
    "        .mean()               # puedes cambiar a .sum() si prefieres sumar los casos\n",
    "        .reset_index()\n",
    "    )\n",
    "\n",
    "    # 2) Construir la serie objetivo\n",
    "    ts_target = TimeSeries.from_dataframe(\n",
    "        df_bar,\n",
    "        time_col='date',\n",
    "        value_cols='dengue',\n",
    "        freq='W-MON'         # asegura frecuencia semanal sin duplicados\n",
    "    )\n",
    "    # 3) Construir covariables\n",
    "    ts_cov = TimeSeries.from_dataframe(\n",
    "        df_bar,\n",
    "        time_col='date',\n",
    "        value_cols=feature_cols,\n",
    "        freq='W-MON'\n",
    "    )\n",
    "\n",
    "    # 4) Guardar en el diccionario\n",
    "    series_dict[barrio] = {\n",
    "        'target': ts_target,\n",
    "        'covariates': ts_cov\n",
    "    }\n",
    "\n",
    "# -----------------------------\n",
    "# 5.5: División Temporal Train/Validation\n",
    "# -----------------------------\n",
    "train_series = {}\n",
    "val_series   = {}\n",
    "split_date   = pd.Timestamp('2020-12-31')\n",
    "\n",
    "for barrio, seqs in series_dict.items():\n",
    "    tgt, cov = seqs['target'], seqs['covariates']\n",
    "    train_tgt, val_tgt = tgt.split_after(split_date)\n",
    "    train_cov, val_cov = cov.split_after(split_date)\n",
    "    train_series[barrio] = {'target': train_tgt, 'covariates': train_cov}\n",
    "    val_series[barrio]   = {'target': val_tgt,   'covariates': val_cov}\n",
    "\n",
    "print(f\"✅ Series Darts creadas para {len(series_dict)} barrios con índices únicos.\")\n",
    "print(f\"   – Training hasta {split_date.date()}, validación desde {split_date.date() + pd.Timedelta(days=1)}.\")\n",
    "\n",
    "\n",
    "# -----------------------------\n",
    "# 5.5: División Temporal Train/Validation\n",
    "# -----------------------------\n",
    "train_series = {}\n",
    "val_series   = {}\n",
    "# Usamos todo 2015–2020 para entrenar y 2021 como validación\n",
    "split_date = pd.Timestamp('2020-12-31')\n",
    "\n",
    "for barrio, seqs in series_dict.items():\n",
    "    tgt, cov = seqs['target'], seqs['covariates']\n",
    "    train_tgt, val_tgt = tgt.split_after(split_date)\n",
    "    train_cov, val_cov = cov.split_after(split_date)\n",
    "    train_series[barrio] = {'target': train_tgt, 'covariates': train_cov}\n",
    "    val_series[barrio]   = {'target': val_tgt,   'covariates': val_cov}\n",
    "\n",
    "print(f\"✅ Preprocesamiento completo. Series Darts creadas para {len(series_dict)} barrios.\")\n",
    "print(f\"   – Training hasta {split_date.date()}, validación desde {split_date.date() + pd.Timedelta(days=1)}.\")\n"
   ]
  },
  {
   "cell_type": "code",
   "execution_count": null,
   "id": "9e7197ef",
   "metadata": {},
   "outputs": [],
   "source": [
    "# =============================================================================\n",
    "# Sección 6: Implementación de Modelos con DARTS\n",
    "# =============================================================================\n",
    "\n",
    "# -----------------------------\n",
    "# 6.1 Parámetros comunes\n",
    "# -----------------------------\n",
    "input_chunk_length  = 8    # semanas de historial\n",
    "output_chunk_length = 1    # horizonte de predicción en semanas\n",
    "\n",
    "common_kwargs = dict(\n",
    "    input_chunk_length=input_chunk_length,\n",
    "    output_chunk_length=output_chunk_length,\n",
    "    batch_size=32,\n",
    "    n_epochs=50,\n",
    "    random_state=SEED,\n",
    "    save_checkpoints=False,\n",
    "    pl_trainer_kwargs={\"accelerator\": \"gpu\" if torch.cuda.is_available() else \"cpu\"}\n",
    ")\n",
    "\n",
    "# -----------------------------\n",
    "# 6.2 Función helper para entrenamiento y predicción\n",
    "# -----------------------------\n",
    "def train_and_predict(model, train_s, covariates, val_s):\n",
    "    \"\"\"\n",
    "    Ajusta `model` sobre train_s usando covariates como future_covariates,\n",
    "    luego predice sobre val_s durante n_timesteps.\n",
    "    \"\"\"\n",
    "    model.fit(\n",
    "        series=train_s['target'],\n",
    "        future_covariates=covariates\n",
    "    )\n",
    "    n_steps = val_s['target'].n_timesteps\n",
    "    return model.predict(\n",
    "        n=n_steps,\n",
    "        future_covariates=covariates\n",
    "    )\n",
    "\n",
    "# -----------------------------\n",
    "# 6.3 Selección de un barrio de ejemplo\n",
    "# -----------------------------\n",
    "b0       = list(train_series.keys())[0]\n",
    "train_s  = train_series[b0]\n",
    "val_s    = val_series[b0]\n",
    "full_cov = series_dict[b0]['covariates']  # debe arrancar al menos input_chunk_length semanas antes\n",
    "\n",
    "# -----------------------------\n",
    "# 6.4 RNN básica\n",
    "# -----------------------------\n",
    "rnn_model = RNNModel(\n",
    "    model=\"RNN\",\n",
    "    hidden_dim=64,      # parámetro correcto para tu versión de Darts\n",
    "    n_rnn_layers=2,\n",
    "    dropout=0.1,\n",
    "    model_name=\"RNN_basic\",\n",
    "    **common_kwargs\n",
    ")\n",
    "rnn_pred = train_and_predict(rnn_model, train_s, full_cov, val_s)\n",
    "\n",
    "# -----------------------------\n",
    "# 6.5 LSTM\n",
    "# -----------------------------\n",
    "lstm_model = RNNModel(\n",
    "    model=\"LSTM\",\n",
    "    hidden_dim=64,\n",
    "    n_rnn_layers=2,\n",
    "    dropout=0.1,\n",
    "    model_name=\"LSTM_basic\",\n",
    "    **common_kwargs\n",
    ")\n",
    "lstm_pred = train_and_predict(lstm_model, train_s, full_cov, val_s)\n",
    "\n",
    "# -----------------------------\n",
    "# 6.6 GRU\n",
    "# -----------------------------\n",
    "gru_model = RNNModel(\n",
    "    model=\"GRU\",\n",
    "    hidden_dim=64,\n",
    "    n_rnn_layers=2,\n",
    "    dropout=0.1,\n",
    "    model_name=\"GRU_basic\",\n",
    "    **common_kwargs\n",
    ")\n",
    "gru_pred = train_and_predict(gru_model, train_s, full_cov, val_s)\n",
    "\n",
    "# -----------------------------\n",
    "# 6.7 Visualización comparativa\n",
    "# -----------------------------\n",
    "import matplotlib.dates as mdates\n",
    "\n",
    "plt.figure(figsize=(12, 6))\n",
    "train_s['target'].plot(label=\"Histórico\")\n",
    "val_s['target'].plot(label=\"Validación (real)\", lw=2)\n",
    "rnn_pred.plot(label=\"Predicción RNN\")\n",
    "lstm_pred.plot(label=\"Predicción LSTM\")\n",
    "gru_pred.plot(label=\"Predicción GRU\")\n",
    "\n",
    "ax = plt.gca()\n",
    "ax.xaxis.set_major_locator(mdates.MonthLocator(interval=2))\n",
    "ax.xaxis.set_major_formatter(mdates.DateFormatter(\"%Y-%m\"))\n",
    "\n",
    "plt.title(f\"Comparación de Modelos – Barrio {b0}\")\n",
    "plt.xlabel(\"Fecha\")\n",
    "plt.ylabel(\"Casos semanales de dengue\")\n",
    "plt.legend()\n",
    "plt.tight_layout()\n",
    "plt.show()\n"
   ]
  },
  {
   "cell_type": "code",
   "execution_count": 11,
   "id": "eb02769d",
   "metadata": {},
   "outputs": [
    {
     "name": "stderr",
     "output_type": "stream",
     "text": [
      "[I 2025-06-15 11:12:05,672] A new study created in memory with name: no-name-88645b6e-ba4c-444a-b39f-5d02f442531d\n",
      "ignoring user defined `output_chunk_length`. RNNModel uses a fixed `output_chunk_length=1`.\n",
      "GPU available: True (cuda), used: True\n",
      "TPU available: False, using: 0 TPU cores\n",
      "HPU available: False, using: 0 HPUs\n",
      "LOCAL_RANK: 0 - CUDA_VISIBLE_DEVICES: [0]\n",
      "\n",
      "  | Name            | Type             | Params | Mode \n",
      "-------------------------------------------------------------\n",
      "0 | criterion       | MSELoss          | 0      | train\n",
      "1 | train_criterion | MSELoss          | 0      | train\n",
      "2 | val_criterion   | MSELoss          | 0      | train\n",
      "3 | train_metrics   | MetricCollection | 0      | train\n",
      "4 | val_metrics     | MetricCollection | 0      | train\n",
      "5 | rnn             | RNN              | 18.5 K | train\n",
      "6 | V               | Linear           | 59     | train\n",
      "-------------------------------------------------------------\n",
      "18.6 K    Trainable params\n",
      "0         Non-trainable params\n",
      "18.6 K    Total params\n",
      "0.074     Total estimated model params size (MB)\n",
      "7         Modules in train mode\n",
      "0         Modules in eval mode\n"
     ]
    },
    {
     "data": {
      "application/vnd.jupyter.widget-view+json": {
       "model_id": "73cb4340049640a5a1c059fb3a4d7ae1",
       "version_major": 2,
       "version_minor": 0
      },
      "text/plain": [
       "Training: |          | 0/? [00:00<?, ?it/s]"
      ]
     },
     "metadata": {},
     "output_type": "display_data"
    },
    {
     "name": "stderr",
     "output_type": "stream",
     "text": [
      "`Trainer.fit` stopped: `max_epochs=20` reached.\n",
      "GPU available: True (cuda), used: True\n",
      "TPU available: False, using: 0 TPU cores\n",
      "HPU available: False, using: 0 HPUs\n",
      "LOCAL_RANK: 0 - CUDA_VISIBLE_DEVICES: [0]\n"
     ]
    },
    {
     "data": {
      "application/vnd.jupyter.widget-view+json": {
       "model_id": "7d17e4407e174ee49fb61aef72ed094c",
       "version_major": 2,
       "version_minor": 0
      },
      "text/plain": [
       "Predicting: |          | 0/? [00:00<?, ?it/s]"
      ]
     },
     "metadata": {},
     "output_type": "display_data"
    },
    {
     "name": "stderr",
     "output_type": "stream",
     "text": [
      "[I 2025-06-15 11:12:08,905] Trial 0 finished with value: inf and parameters: {'hidden_dim': 58, 'n_rnn_layers': 3, 'dropout': 0.36599697090570255, 'lr': 0.0015751320499779737, 'batch_size': 16}. Best is trial 0 with value: inf.\n",
      "ignoring user defined `output_chunk_length`. RNNModel uses a fixed `output_chunk_length=1`.\n",
      "GPU available: True (cuda), used: True\n",
      "TPU available: False, using: 0 TPU cores\n",
      "HPU available: False, using: 0 HPUs\n",
      "LOCAL_RANK: 0 - CUDA_VISIBLE_DEVICES: [0]\n",
      "\n",
      "  | Name            | Type             | Params | Mode \n",
      "-------------------------------------------------------------\n",
      "0 | criterion       | MSELoss          | 0      | train\n",
      "1 | train_criterion | MSELoss          | 0      | train\n",
      "2 | val_criterion   | MSELoss          | 0      | train\n",
      "3 | train_metrics   | MetricCollection | 0      | train\n",
      "4 | val_metrics     | MetricCollection | 0      | train\n",
      "5 | rnn             | RNN              | 41.4 K | train\n",
      "6 | V               | Linear           | 114    | train\n",
      "-------------------------------------------------------------\n",
      "41.5 K    Trainable params\n",
      "0         Non-trainable params\n",
      "41.5 K    Total params\n",
      "0.166     Total estimated model params size (MB)\n",
      "7         Modules in train mode\n",
      "0         Modules in eval mode\n"
     ]
    },
    {
     "data": {
      "application/vnd.jupyter.widget-view+json": {
       "model_id": "91be7154656b4a4487c61e6d6f6b799b",
       "version_major": 2,
       "version_minor": 0
      },
      "text/plain": [
       "Training: |          | 0/? [00:00<?, ?it/s]"
      ]
     },
     "metadata": {},
     "output_type": "display_data"
    },
    {
     "name": "stderr",
     "output_type": "stream",
     "text": [
      "`Trainer.fit` stopped: `max_epochs=20` reached.\n",
      "GPU available: True (cuda), used: True\n",
      "TPU available: False, using: 0 TPU cores\n",
      "HPU available: False, using: 0 HPUs\n",
      "LOCAL_RANK: 0 - CUDA_VISIBLE_DEVICES: [0]\n"
     ]
    },
    {
     "data": {
      "application/vnd.jupyter.widget-view+json": {
       "model_id": "7d94bf676e024083a8438d77cd035eed",
       "version_major": 2,
       "version_minor": 0
      },
      "text/plain": [
       "Predicting: |          | 0/? [00:00<?, ?it/s]"
      ]
     },
     "metadata": {},
     "output_type": "display_data"
    },
    {
     "name": "stderr",
     "output_type": "stream",
     "text": [
      "[I 2025-06-15 11:12:11,084] Trial 1 finished with value: inf and parameters: {'hidden_dim': 113, 'n_rnn_layers': 2, 'dropout': 0.35403628889802274, 'lr': 0.00010994335574766199, 'batch_size': 16}. Best is trial 0 with value: inf.\n",
      "ignoring user defined `output_chunk_length`. RNNModel uses a fixed `output_chunk_length=1`.\n",
      "GPU available: True (cuda), used: True\n",
      "TPU available: False, using: 0 TPU cores\n",
      "HPU available: False, using: 0 HPUs\n",
      "LOCAL_RANK: 0 - CUDA_VISIBLE_DEVICES: [0]\n",
      "\n",
      "  | Name            | Type             | Params | Mode \n",
      "-------------------------------------------------------------\n",
      "0 | criterion       | MSELoss          | 0      | train\n",
      "1 | train_criterion | MSELoss          | 0      | train\n",
      "2 | val_criterion   | MSELoss          | 0      | train\n",
      "3 | train_metrics   | MetricCollection | 0      | train\n",
      "4 | val_metrics     | MetricCollection | 0      | train\n",
      "5 | rnn             | RNN              | 2.2 K  | train\n",
      "6 | V               | Linear           | 37     | train\n",
      "-------------------------------------------------------------\n",
      "2.2 K     Trainable params\n",
      "0         Non-trainable params\n",
      "2.2 K     Total params\n",
      "0.009     Total estimated model params size (MB)\n",
      "7         Modules in train mode\n",
      "0         Modules in eval mode\n"
     ]
    },
    {
     "data": {
      "application/vnd.jupyter.widget-view+json": {
       "model_id": "a82576ca67864468baa330e626693467",
       "version_major": 2,
       "version_minor": 0
      },
      "text/plain": [
       "Training: |          | 0/? [00:00<?, ?it/s]"
      ]
     },
     "metadata": {},
     "output_type": "display_data"
    },
    {
     "name": "stderr",
     "output_type": "stream",
     "text": [
      "`Trainer.fit` stopped: `max_epochs=20` reached.\n",
      "GPU available: True (cuda), used: True\n",
      "TPU available: False, using: 0 TPU cores\n",
      "HPU available: False, using: 0 HPUs\n",
      "LOCAL_RANK: 0 - CUDA_VISIBLE_DEVICES: [0]\n"
     ]
    },
    {
     "data": {
      "application/vnd.jupyter.widget-view+json": {
       "model_id": "9de398d3a12945f2aa3d9cf150da1dbe",
       "version_major": 2,
       "version_minor": 0
      },
      "text/plain": [
       "Predicting: |          | 0/? [00:00<?, ?it/s]"
      ]
     },
     "metadata": {},
     "output_type": "display_data"
    },
    {
     "name": "stderr",
     "output_type": "stream",
     "text": [
      "[I 2025-06-15 11:12:11,775] Trial 2 finished with value: inf and parameters: {'hidden_dim': 36, 'n_rnn_layers': 1, 'dropout': 0.15212112147976886, 'lr': 0.0011207606211860567, 'batch_size': 64}. Best is trial 0 with value: inf.\n",
      "ignoring user defined `output_chunk_length`. RNNModel uses a fixed `output_chunk_length=1`.\n",
      "GPU available: True (cuda), used: True\n",
      "TPU available: False, using: 0 TPU cores\n",
      "HPU available: False, using: 0 HPUs\n",
      "LOCAL_RANK: 0 - CUDA_VISIBLE_DEVICES: [0]\n",
      "\n",
      "  | Name            | Type             | Params | Mode \n",
      "-------------------------------------------------------------\n",
      "0 | criterion       | MSELoss          | 0      | train\n",
      "1 | train_criterion | MSELoss          | 0      | train\n",
      "2 | val_criterion   | MSELoss          | 0      | train\n",
      "3 | train_metrics   | MetricCollection | 0      | train\n",
      "4 | val_metrics     | MetricCollection | 0      | train\n",
      "5 | rnn             | RNN              | 1.7 K  | train\n",
      "6 | V               | Linear           | 32     | train\n",
      "-------------------------------------------------------------\n",
      "1.8 K     Trainable params\n",
      "0         Non-trainable params\n",
      "1.8 K     Total params\n",
      "0.007     Total estimated model params size (MB)\n",
      "7         Modules in train mode\n",
      "0         Modules in eval mode\n"
     ]
    },
    {
     "data": {
      "application/vnd.jupyter.widget-view+json": {
       "model_id": "b76b7db01e7d49229dd7132896a05508",
       "version_major": 2,
       "version_minor": 0
      },
      "text/plain": [
       "Training: |          | 0/? [00:00<?, ?it/s]"
      ]
     },
     "metadata": {},
     "output_type": "display_data"
    },
    {
     "name": "stderr",
     "output_type": "stream",
     "text": [
      "`Trainer.fit` stopped: `max_epochs=20` reached.\n",
      "GPU available: True (cuda), used: True\n",
      "TPU available: False, using: 0 TPU cores\n",
      "HPU available: False, using: 0 HPUs\n",
      "LOCAL_RANK: 0 - CUDA_VISIBLE_DEVICES: [0]\n"
     ]
    },
    {
     "data": {
      "application/vnd.jupyter.widget-view+json": {
       "model_id": "d51af84082e34b7f8a3703c55c96b65b",
       "version_major": 2,
       "version_minor": 0
      },
      "text/plain": [
       "Predicting: |          | 0/? [00:00<?, ?it/s]"
      ]
     },
     "metadata": {},
     "output_type": "display_data"
    },
    {
     "name": "stderr",
     "output_type": "stream",
     "text": [
      "[I 2025-06-15 11:12:13,543] Trial 3 finished with value: inf and parameters: {'hidden_dim': 31, 'n_rnn_layers': 1, 'dropout': 0.18318092164684585, 'lr': 0.000816845589476017, 'batch_size': 16}. Best is trial 0 with value: inf.\n",
      "ignoring user defined `output_chunk_length`. RNNModel uses a fixed `output_chunk_length=1`.\n",
      "GPU available: True (cuda), used: True\n",
      "TPU available: False, using: 0 TPU cores\n",
      "HPU available: False, using: 0 HPUs\n",
      "LOCAL_RANK: 0 - CUDA_VISIBLE_DEVICES: [0]\n",
      "\n",
      "  | Name            | Type             | Params | Mode \n",
      "-------------------------------------------------------------\n",
      "0 | criterion       | MSELoss          | 0      | train\n",
      "1 | train_criterion | MSELoss          | 0      | train\n",
      "2 | val_criterion   | MSELoss          | 0      | train\n",
      "3 | train_metrics   | MetricCollection | 0      | train\n",
      "4 | val_metrics     | MetricCollection | 0      | train\n",
      "5 | rnn             | RNN              | 8.8 K  | train\n",
      "6 | V               | Linear           | 83     | train\n",
      "-------------------------------------------------------------\n",
      "8.9 K     Trainable params\n",
      "0         Non-trainable params\n",
      "8.9 K     Total params\n",
      "0.035     Total estimated model params size (MB)\n",
      "7         Modules in train mode\n",
      "0         Modules in eval mode\n"
     ]
    },
    {
     "data": {
      "application/vnd.jupyter.widget-view+json": {
       "model_id": "04764a7bc8bb42829477e2e743528f79",
       "version_major": 2,
       "version_minor": 0
      },
      "text/plain": [
       "Training: |          | 0/? [00:00<?, ?it/s]"
      ]
     },
     "metadata": {},
     "output_type": "display_data"
    },
    {
     "name": "stderr",
     "output_type": "stream",
     "text": [
      "`Trainer.fit` stopped: `max_epochs=20` reached.\n",
      "GPU available: True (cuda), used: True\n",
      "TPU available: False, using: 0 TPU cores\n",
      "HPU available: False, using: 0 HPUs\n",
      "LOCAL_RANK: 0 - CUDA_VISIBLE_DEVICES: [0]\n"
     ]
    },
    {
     "data": {
      "application/vnd.jupyter.widget-view+json": {
       "model_id": "79cdc87472cb42f6a0c4ff004ff2fbf9",
       "version_major": 2,
       "version_minor": 0
      },
      "text/plain": [
       "Predicting: |          | 0/? [00:00<?, ?it/s]"
      ]
     },
     "metadata": {},
     "output_type": "display_data"
    },
    {
     "name": "stderr",
     "output_type": "stream",
     "text": [
      "[I 2025-06-15 11:12:14,217] Trial 4 finished with value: inf and parameters: {'hidden_dim': 82, 'n_rnn_layers': 1, 'dropout': 0.3037724259507192, 'lr': 0.00021930485556643703, 'batch_size': 64}. Best is trial 0 with value: inf.\n",
      "ignoring user defined `output_chunk_length`. RNNModel uses a fixed `output_chunk_length=1`.\n",
      "GPU available: True (cuda), used: True\n",
      "TPU available: False, using: 0 TPU cores\n",
      "HPU available: False, using: 0 HPUs\n",
      "LOCAL_RANK: 0 - CUDA_VISIBLE_DEVICES: [0]\n",
      "\n",
      "  | Name            | Type             | Params | Mode \n",
      "-------------------------------------------------------------\n",
      "0 | criterion       | MSELoss          | 0      | train\n",
      "1 | train_criterion | MSELoss          | 0      | train\n",
      "2 | val_criterion   | MSELoss          | 0      | train\n",
      "3 | train_metrics   | MetricCollection | 0      | train\n",
      "4 | val_metrics     | MetricCollection | 0      | train\n",
      "5 | rnn             | RNN              | 14.1 K | train\n",
      "6 | V               | Linear           | 108    | train\n",
      "-------------------------------------------------------------\n",
      "14.2 K    Trainable params\n",
      "0         Non-trainable params\n",
      "14.2 K    Total params\n",
      "0.057     Total estimated model params size (MB)\n",
      "7         Modules in train mode\n",
      "0         Modules in eval mode\n"
     ]
    },
    {
     "data": {
      "application/vnd.jupyter.widget-view+json": {
       "model_id": "f042853ff6f34926b11874a98a8af9ba",
       "version_major": 2,
       "version_minor": 0
      },
      "text/plain": [
       "Training: |          | 0/? [00:00<?, ?it/s]"
      ]
     },
     "metadata": {},
     "output_type": "display_data"
    },
    {
     "name": "stderr",
     "output_type": "stream",
     "text": [
      "`Trainer.fit` stopped: `max_epochs=20` reached.\n",
      "GPU available: True (cuda), used: True\n",
      "TPU available: False, using: 0 TPU cores\n",
      "HPU available: False, using: 0 HPUs\n",
      "LOCAL_RANK: 0 - CUDA_VISIBLE_DEVICES: [0]\n"
     ]
    },
    {
     "data": {
      "application/vnd.jupyter.widget-view+json": {
       "model_id": "064cfb9e34764c56b74f599dc8bf2812",
       "version_major": 2,
       "version_minor": 0
      },
      "text/plain": [
       "Predicting: |          | 0/? [00:00<?, ?it/s]"
      ]
     },
     "metadata": {},
     "output_type": "display_data"
    },
    {
     "name": "stderr",
     "output_type": "stream",
     "text": [
      "[I 2025-06-15 11:12:14,881] Trial 5 finished with value: inf and parameters: {'hidden_dim': 107, 'n_rnn_layers': 1, 'dropout': 0.048836057003191935, 'lr': 0.0023359635026261607, 'batch_size': 64}. Best is trial 0 with value: inf.\n",
      "ignoring user defined `output_chunk_length`. RNNModel uses a fixed `output_chunk_length=1`.\n",
      "GPU available: True (cuda), used: True\n",
      "TPU available: False, using: 0 TPU cores\n",
      "HPU available: False, using: 0 HPUs\n",
      "LOCAL_RANK: 0 - CUDA_VISIBLE_DEVICES: [0]\n",
      "\n",
      "  | Name            | Type             | Params | Mode \n",
      "-------------------------------------------------------------\n",
      "0 | criterion       | MSELoss          | 0      | train\n",
      "1 | train_criterion | MSELoss          | 0      | train\n",
      "2 | val_criterion   | MSELoss          | 0      | train\n",
      "3 | train_metrics   | MetricCollection | 0      | train\n",
      "4 | val_metrics     | MetricCollection | 0      | train\n",
      "5 | rnn             | RNN              | 2.4 K  | train\n",
      "6 | V               | Linear           | 20     | train\n",
      "-------------------------------------------------------------\n",
      "2.4 K     Trainable params\n",
      "0         Non-trainable params\n",
      "2.4 K     Total params\n",
      "0.010     Total estimated model params size (MB)\n",
      "7         Modules in train mode\n",
      "0         Modules in eval mode\n"
     ]
    },
    {
     "data": {
      "application/vnd.jupyter.widget-view+json": {
       "model_id": "64eb60a22a3e49369dbf4b085cf3b969",
       "version_major": 2,
       "version_minor": 0
      },
      "text/plain": [
       "Training: |          | 0/? [00:00<?, ?it/s]"
      ]
     },
     "metadata": {},
     "output_type": "display_data"
    },
    {
     "name": "stderr",
     "output_type": "stream",
     "text": [
      "`Trainer.fit` stopped: `max_epochs=20` reached.\n",
      "GPU available: True (cuda), used: True\n",
      "TPU available: False, using: 0 TPU cores\n",
      "HPU available: False, using: 0 HPUs\n",
      "LOCAL_RANK: 0 - CUDA_VISIBLE_DEVICES: [0]\n"
     ]
    },
    {
     "data": {
      "application/vnd.jupyter.widget-view+json": {
       "model_id": "f5025356ae9846509415c93a54e28d0e",
       "version_major": 2,
       "version_minor": 0
      },
      "text/plain": [
       "Predicting: |          | 0/? [00:00<?, ?it/s]"
      ]
     },
     "metadata": {},
     "output_type": "display_data"
    },
    {
     "name": "stderr",
     "output_type": "stream",
     "text": [
      "[I 2025-06-15 11:12:15,791] Trial 6 finished with value: inf and parameters: {'hidden_dim': 19, 'n_rnn_layers': 3, 'dropout': 0.12938999080000846, 'lr': 0.0021137059440645744, 'batch_size': 64}. Best is trial 0 with value: inf.\n",
      "ignoring user defined `output_chunk_length`. RNNModel uses a fixed `output_chunk_length=1`.\n",
      "GPU available: True (cuda), used: True\n",
      "TPU available: False, using: 0 TPU cores\n",
      "HPU available: False, using: 0 HPUs\n",
      "LOCAL_RANK: 0 - CUDA_VISIBLE_DEVICES: [0]\n",
      "\n",
      "  | Name            | Type             | Params | Mode \n",
      "-------------------------------------------------------------\n",
      "0 | criterion       | MSELoss          | 0      | train\n",
      "1 | train_criterion | MSELoss          | 0      | train\n",
      "2 | val_criterion   | MSELoss          | 0      | train\n",
      "3 | train_metrics   | MetricCollection | 0      | train\n",
      "4 | val_metrics     | MetricCollection | 0      | train\n",
      "5 | rnn             | RNN              | 7.5 K  | train\n",
      "6 | V               | Linear           | 37     | train\n",
      "-------------------------------------------------------------\n",
      "7.6 K     Trainable params\n",
      "0         Non-trainable params\n",
      "7.6 K     Total params\n",
      "0.030     Total estimated model params size (MB)\n",
      "7         Modules in train mode\n",
      "0         Modules in eval mode\n"
     ]
    },
    {
     "data": {
      "application/vnd.jupyter.widget-view+json": {
       "model_id": "02da7692c4924fedb59faf74981c4ad9",
       "version_major": 2,
       "version_minor": 0
      },
      "text/plain": [
       "Training: |          | 0/? [00:00<?, ?it/s]"
      ]
     },
     "metadata": {},
     "output_type": "display_data"
    },
    {
     "name": "stderr",
     "output_type": "stream",
     "text": [
      "`Trainer.fit` stopped: `max_epochs=20` reached.\n",
      "GPU available: True (cuda), used: True\n",
      "TPU available: False, using: 0 TPU cores\n",
      "HPU available: False, using: 0 HPUs\n",
      "LOCAL_RANK: 0 - CUDA_VISIBLE_DEVICES: [0]\n"
     ]
    },
    {
     "data": {
      "application/vnd.jupyter.widget-view+json": {
       "model_id": "93d73787c91341edb282132678a2b780",
       "version_major": 2,
       "version_minor": 0
      },
      "text/plain": [
       "Predicting: |          | 0/? [00:00<?, ?it/s]"
      ]
     },
     "metadata": {},
     "output_type": "display_data"
    },
    {
     "name": "stderr",
     "output_type": "stream",
     "text": [
      "[I 2025-06-15 11:12:16,701] Trial 7 finished with value: inf and parameters: {'hidden_dim': 36, 'n_rnn_layers': 3, 'dropout': 0.3875664116805573, 'lr': 0.007568292060167619, 'batch_size': 64}. Best is trial 0 with value: inf.\n",
      "ignoring user defined `output_chunk_length`. RNNModel uses a fixed `output_chunk_length=1`.\n",
      "GPU available: True (cuda), used: True\n",
      "TPU available: False, using: 0 TPU cores\n",
      "HPU available: False, using: 0 HPUs\n",
      "LOCAL_RANK: 0 - CUDA_VISIBLE_DEVICES: [0]\n",
      "\n",
      "  | Name            | Type             | Params | Mode \n",
      "-------------------------------------------------------------\n",
      "0 | criterion       | MSELoss          | 0      | train\n",
      "1 | train_criterion | MSELoss          | 0      | train\n",
      "2 | val_criterion   | MSELoss          | 0      | train\n",
      "3 | train_metrics   | MetricCollection | 0      | train\n",
      "4 | val_metrics     | MetricCollection | 0      | train\n",
      "5 | rnn             | RNN              | 1.2 K  | train\n",
      "6 | V               | Linear           | 26     | train\n",
      "-------------------------------------------------------------\n",
      "1.3 K     Trainable params\n",
      "0         Non-trainable params\n",
      "1.3 K     Total params\n",
      "0.005     Total estimated model params size (MB)\n",
      "7         Modules in train mode\n",
      "0         Modules in eval mode\n"
     ]
    },
    {
     "data": {
      "application/vnd.jupyter.widget-view+json": {
       "model_id": "e83578bd359347998f7c4391699b06bb",
       "version_major": 2,
       "version_minor": 0
      },
      "text/plain": [
       "Training: |          | 0/? [00:00<?, ?it/s]"
      ]
     },
     "metadata": {},
     "output_type": "display_data"
    },
    {
     "name": "stderr",
     "output_type": "stream",
     "text": [
      "`Trainer.fit` stopped: `max_epochs=20` reached.\n",
      "GPU available: True (cuda), used: True\n",
      "TPU available: False, using: 0 TPU cores\n",
      "HPU available: False, using: 0 HPUs\n",
      "LOCAL_RANK: 0 - CUDA_VISIBLE_DEVICES: [0]\n"
     ]
    },
    {
     "data": {
      "application/vnd.jupyter.widget-view+json": {
       "model_id": "d3c2337f7d804360887049919dc7d843",
       "version_major": 2,
       "version_minor": 0
      },
      "text/plain": [
       "Predicting: |          | 0/? [00:00<?, ?it/s]"
      ]
     },
     "metadata": {},
     "output_type": "display_data"
    },
    {
     "name": "stderr",
     "output_type": "stream",
     "text": [
      "[I 2025-06-15 11:12:17,371] Trial 8 finished with value: inf and parameters: {'hidden_dim': 25, 'n_rnn_layers': 1, 'dropout': 0.022613644455269033, 'lr': 0.0004473636174621269, 'batch_size': 64}. Best is trial 0 with value: inf.\n",
      "ignoring user defined `output_chunk_length`. RNNModel uses a fixed `output_chunk_length=1`.\n",
      "GPU available: True (cuda), used: True\n",
      "TPU available: False, using: 0 TPU cores\n",
      "HPU available: False, using: 0 HPUs\n",
      "LOCAL_RANK: 0 - CUDA_VISIBLE_DEVICES: [0]\n",
      "\n",
      "  | Name            | Type             | Params | Mode \n",
      "-------------------------------------------------------------\n",
      "0 | criterion       | MSELoss          | 0      | train\n",
      "1 | train_criterion | MSELoss          | 0      | train\n",
      "2 | val_criterion   | MSELoss          | 0      | train\n",
      "3 | train_metrics   | MetricCollection | 0      | train\n",
      "4 | val_metrics     | MetricCollection | 0      | train\n",
      "5 | rnn             | RNN              | 4.5 K  | train\n",
      "6 | V               | Linear           | 57     | train\n",
      "-------------------------------------------------------------\n",
      "4.6 K     Trainable params\n",
      "0         Non-trainable params\n",
      "4.6 K     Total params\n",
      "0.018     Total estimated model params size (MB)\n",
      "7         Modules in train mode\n",
      "0         Modules in eval mode\n"
     ]
    },
    {
     "data": {
      "application/vnd.jupyter.widget-view+json": {
       "model_id": "06ee2bd368694a019d80cae34941a627",
       "version_major": 2,
       "version_minor": 0
      },
      "text/plain": [
       "Training: |          | 0/? [00:00<?, ?it/s]"
      ]
     },
     "metadata": {},
     "output_type": "display_data"
    },
    {
     "name": "stderr",
     "output_type": "stream",
     "text": [
      "`Trainer.fit` stopped: `max_epochs=20` reached.\n",
      "GPU available: True (cuda), used: True\n",
      "TPU available: False, using: 0 TPU cores\n",
      "HPU available: False, using: 0 HPUs\n",
      "LOCAL_RANK: 0 - CUDA_VISIBLE_DEVICES: [0]\n"
     ]
    },
    {
     "data": {
      "application/vnd.jupyter.widget-view+json": {
       "model_id": "9f343e1cd3ab4facbe6ed080966f7a04",
       "version_major": 2,
       "version_minor": 0
      },
      "text/plain": [
       "Predicting: |          | 0/? [00:00<?, ?it/s]"
      ]
     },
     "metadata": {},
     "output_type": "display_data"
    },
    {
     "name": "stderr",
     "output_type": "stream",
     "text": [
      "[I 2025-06-15 11:12:18,023] Trial 9 finished with value: inf and parameters: {'hidden_dim': 56, 'n_rnn_layers': 1, 'dropout': 0.27134804157912423, 'lr': 0.00019135880487692312, 'batch_size': 64}. Best is trial 0 with value: inf.\n",
      "ignoring user defined `output_chunk_length`. RNNModel uses a fixed `output_chunk_length=1`.\n",
      "GPU available: True (cuda), used: True\n",
      "TPU available: False, using: 0 TPU cores\n",
      "HPU available: False, using: 0 HPUs\n",
      "LOCAL_RANK: 0 - CUDA_VISIBLE_DEVICES: [0]\n",
      "\n",
      "  | Name            | Type             | Params | Mode \n",
      "-------------------------------------------------------------\n",
      "0 | criterion       | MSELoss          | 0      | train\n",
      "1 | train_criterion | MSELoss          | 0      | train\n",
      "2 | val_criterion   | MSELoss          | 0      | train\n",
      "3 | train_metrics   | MetricCollection | 0      | train\n",
      "4 | val_metrics     | MetricCollection | 0      | train\n",
      "5 | rnn             | RNN              | 18.4 K | train\n",
      "6 | V               | Linear           | 75     | train\n",
      "-------------------------------------------------------------\n",
      "18.5 K    Trainable params\n",
      "0         Non-trainable params\n",
      "18.5 K    Total params\n",
      "0.074     Total estimated model params size (MB)\n",
      "7         Modules in train mode\n",
      "0         Modules in eval mode\n"
     ]
    },
    {
     "data": {
      "application/vnd.jupyter.widget-view+json": {
       "model_id": "df97db153eab48e28297e386c94c85f1",
       "version_major": 2,
       "version_minor": 0
      },
      "text/plain": [
       "Training: |          | 0/? [00:00<?, ?it/s]"
      ]
     },
     "metadata": {},
     "output_type": "display_data"
    },
    {
     "name": "stderr",
     "output_type": "stream",
     "text": [
      "`Trainer.fit` stopped: `max_epochs=20` reached.\n",
      "GPU available: True (cuda), used: True\n",
      "TPU available: False, using: 0 TPU cores\n",
      "HPU available: False, using: 0 HPUs\n",
      "LOCAL_RANK: 0 - CUDA_VISIBLE_DEVICES: [0]\n"
     ]
    },
    {
     "data": {
      "application/vnd.jupyter.widget-view+json": {
       "model_id": "771ffd5dcf544106ae2cb04fb81883a3",
       "version_major": 2,
       "version_minor": 0
      },
      "text/plain": [
       "Predicting: |          | 0/? [00:00<?, ?it/s]"
      ]
     },
     "metadata": {},
     "output_type": "display_data"
    },
    {
     "name": "stderr",
     "output_type": "stream",
     "text": [
      "[I 2025-06-15 11:12:19,208] Trial 10 finished with value: inf and parameters: {'hidden_dim': 74, 'n_rnn_layers': 2, 'dropout': 0.48476855539393304, 'lr': 0.0073211732432526145, 'batch_size': 32}. Best is trial 0 with value: inf.\n",
      "ignoring user defined `output_chunk_length`. RNNModel uses a fixed `output_chunk_length=1`.\n",
      "GPU available: True (cuda), used: True\n",
      "TPU available: False, using: 0 TPU cores\n",
      "HPU available: False, using: 0 HPUs\n",
      "LOCAL_RANK: 0 - CUDA_VISIBLE_DEVICES: [0]\n",
      "\n",
      "  | Name            | Type             | Params | Mode \n",
      "-------------------------------------------------------------\n",
      "0 | criterion       | MSELoss          | 0      | train\n",
      "1 | train_criterion | MSELoss          | 0      | train\n",
      "2 | val_criterion   | MSELoss          | 0      | train\n",
      "3 | train_metrics   | MetricCollection | 0      | train\n",
      "4 | val_metrics     | MetricCollection | 0      | train\n",
      "5 | rnn             | RNN              | 45.0 K | train\n",
      "6 | V               | Linear           | 119    | train\n",
      "-------------------------------------------------------------\n",
      "45.1 K    Trainable params\n",
      "0         Non-trainable params\n",
      "45.1 K    Total params\n",
      "0.180     Total estimated model params size (MB)\n",
      "7         Modules in train mode\n",
      "0         Modules in eval mode\n"
     ]
    },
    {
     "data": {
      "application/vnd.jupyter.widget-view+json": {
       "model_id": "d1e6d2272d97430aa5970ad6b0b6b8de",
       "version_major": 2,
       "version_minor": 0
      },
      "text/plain": [
       "Training: |          | 0/? [00:00<?, ?it/s]"
      ]
     },
     "metadata": {},
     "output_type": "display_data"
    },
    {
     "name": "stderr",
     "output_type": "stream",
     "text": [
      "`Trainer.fit` stopped: `max_epochs=20` reached.\n",
      "GPU available: True (cuda), used: True\n",
      "TPU available: False, using: 0 TPU cores\n",
      "HPU available: False, using: 0 HPUs\n",
      "LOCAL_RANK: 0 - CUDA_VISIBLE_DEVICES: [0]\n"
     ]
    },
    {
     "data": {
      "application/vnd.jupyter.widget-view+json": {
       "model_id": "dd72f22cab1d40cc9efdcebe33c41d8c",
       "version_major": 2,
       "version_minor": 0
      },
      "text/plain": [
       "Predicting: |          | 0/? [00:00<?, ?it/s]"
      ]
     },
     "metadata": {},
     "output_type": "display_data"
    },
    {
     "name": "stderr",
     "output_type": "stream",
     "text": [
      "[I 2025-06-15 11:12:21,326] Trial 11 finished with value: inf and parameters: {'hidden_dim': 118, 'n_rnn_layers': 2, 'dropout': 0.38595709175381115, 'lr': 0.0004672941588975318, 'batch_size': 16}. Best is trial 0 with value: inf.\n",
      "ignoring user defined `output_chunk_length`. RNNModel uses a fixed `output_chunk_length=1`.\n",
      "GPU available: True (cuda), used: True\n",
      "TPU available: False, using: 0 TPU cores\n",
      "HPU available: False, using: 0 HPUs\n",
      "LOCAL_RANK: 0 - CUDA_VISIBLE_DEVICES: [0]\n",
      "\n",
      "  | Name            | Type             | Params | Mode \n",
      "-------------------------------------------------------------\n",
      "0 | criterion       | MSELoss          | 0      | train\n",
      "1 | train_criterion | MSELoss          | 0      | train\n",
      "2 | val_criterion   | MSELoss          | 0      | train\n",
      "3 | train_metrics   | MetricCollection | 0      | train\n",
      "4 | val_metrics     | MetricCollection | 0      | train\n",
      "5 | rnn             | RNN              | 49.9 K | train\n",
      "6 | V               | Linear           | 98     | train\n",
      "-------------------------------------------------------------\n",
      "50.0 K    Trainable params\n",
      "0         Non-trainable params\n",
      "50.0 K    Total params\n",
      "0.200     Total estimated model params size (MB)\n",
      "7         Modules in train mode\n",
      "0         Modules in eval mode\n"
     ]
    },
    {
     "data": {
      "application/vnd.jupyter.widget-view+json": {
       "model_id": "f4b9921c98744c99b72528c347d9d31d",
       "version_major": 2,
       "version_minor": 0
      },
      "text/plain": [
       "Training: |          | 0/? [00:00<?, ?it/s]"
      ]
     },
     "metadata": {},
     "output_type": "display_data"
    },
    {
     "name": "stderr",
     "output_type": "stream",
     "text": [
      "`Trainer.fit` stopped: `max_epochs=20` reached.\n",
      "GPU available: True (cuda), used: True\n",
      "TPU available: False, using: 0 TPU cores\n",
      "HPU available: False, using: 0 HPUs\n",
      "LOCAL_RANK: 0 - CUDA_VISIBLE_DEVICES: [0]\n"
     ]
    },
    {
     "data": {
      "application/vnd.jupyter.widget-view+json": {
       "model_id": "741531d957f94e66ab1166fc58cb0149",
       "version_major": 2,
       "version_minor": 0
      },
      "text/plain": [
       "Predicting: |          | 0/? [00:00<?, ?it/s]"
      ]
     },
     "metadata": {},
     "output_type": "display_data"
    },
    {
     "name": "stderr",
     "output_type": "stream",
     "text": [
      "[I 2025-06-15 11:12:23,919] Trial 12 finished with value: inf and parameters: {'hidden_dim': 97, 'n_rnn_layers': 3, 'dropout': 0.3783825948251982, 'lr': 0.00012699870393086127, 'batch_size': 16}. Best is trial 0 with value: inf.\n",
      "ignoring user defined `output_chunk_length`. RNNModel uses a fixed `output_chunk_length=1`.\n",
      "GPU available: True (cuda), used: True\n",
      "TPU available: False, using: 0 TPU cores\n",
      "HPU available: False, using: 0 HPUs\n",
      "LOCAL_RANK: 0 - CUDA_VISIBLE_DEVICES: [0]\n",
      "\n",
      "  | Name            | Type             | Params | Mode \n",
      "-------------------------------------------------------------\n",
      "0 | criterion       | MSELoss          | 0      | train\n",
      "1 | train_criterion | MSELoss          | 0      | train\n",
      "2 | val_criterion   | MSELoss          | 0      | train\n",
      "3 | train_metrics   | MetricCollection | 0      | train\n",
      "4 | val_metrics     | MetricCollection | 0      | train\n",
      "5 | rnn             | RNN              | 9.5 K  | train\n",
      "6 | V               | Linear           | 53     | train\n",
      "-------------------------------------------------------------\n",
      "9.6 K     Trainable params\n",
      "0         Non-trainable params\n",
      "9.6 K     Total params\n",
      "0.038     Total estimated model params size (MB)\n",
      "7         Modules in train mode\n",
      "0         Modules in eval mode\n"
     ]
    },
    {
     "data": {
      "application/vnd.jupyter.widget-view+json": {
       "model_id": "3816f9b536e64ec09fed582a0a1fd291",
       "version_major": 2,
       "version_minor": 0
      },
      "text/plain": [
       "Training: |          | 0/? [00:00<?, ?it/s]"
      ]
     },
     "metadata": {},
     "output_type": "display_data"
    },
    {
     "name": "stderr",
     "output_type": "stream",
     "text": [
      "`Trainer.fit` stopped: `max_epochs=20` reached.\n",
      "GPU available: True (cuda), used: True\n",
      "TPU available: False, using: 0 TPU cores\n",
      "HPU available: False, using: 0 HPUs\n",
      "LOCAL_RANK: 0 - CUDA_VISIBLE_DEVICES: [0]\n"
     ]
    },
    {
     "data": {
      "application/vnd.jupyter.widget-view+json": {
       "model_id": "a2a7a3e5be7140bfb1624ab927086441",
       "version_major": 2,
       "version_minor": 0
      },
      "text/plain": [
       "Predicting: |          | 0/? [00:00<?, ?it/s]"
      ]
     },
     "metadata": {},
     "output_type": "display_data"
    },
    {
     "name": "stderr",
     "output_type": "stream",
     "text": [
      "[I 2025-06-15 11:12:26,029] Trial 13 finished with value: inf and parameters: {'hidden_dim': 52, 'n_rnn_layers': 2, 'dropout': 0.4983163403782794, 'lr': 0.0027670444528765104, 'batch_size': 16}. Best is trial 0 with value: inf.\n",
      "ignoring user defined `output_chunk_length`. RNNModel uses a fixed `output_chunk_length=1`.\n",
      "GPU available: True (cuda), used: True\n",
      "TPU available: False, using: 0 TPU cores\n",
      "HPU available: False, using: 0 HPUs\n",
      "LOCAL_RANK: 0 - CUDA_VISIBLE_DEVICES: [0]\n",
      "\n",
      "  | Name            | Type             | Params | Mode \n",
      "-------------------------------------------------------------\n",
      "0 | criterion       | MSELoss          | 0      | train\n",
      "1 | train_criterion | MSELoss          | 0      | train\n",
      "2 | val_criterion   | MSELoss          | 0      | train\n",
      "3 | train_metrics   | MetricCollection | 0      | train\n",
      "4 | val_metrics     | MetricCollection | 0      | train\n",
      "5 | rnn             | RNN              | 43.1 K | train\n",
      "6 | V               | Linear           | 91     | train\n",
      "-------------------------------------------------------------\n",
      "43.2 K    Trainable params\n",
      "0         Non-trainable params\n",
      "43.2 K    Total params\n",
      "0.173     Total estimated model params size (MB)\n",
      "7         Modules in train mode\n",
      "0         Modules in eval mode\n"
     ]
    },
    {
     "data": {
      "application/vnd.jupyter.widget-view+json": {
       "model_id": "5941b98bb1aa4d7ea3d5c15522afe61b",
       "version_major": 2,
       "version_minor": 0
      },
      "text/plain": [
       "Training: |          | 0/? [00:00<?, ?it/s]"
      ]
     },
     "metadata": {},
     "output_type": "display_data"
    },
    {
     "name": "stderr",
     "output_type": "stream",
     "text": [
      "`Trainer.fit` stopped: `max_epochs=20` reached.\n",
      "GPU available: True (cuda), used: True\n",
      "TPU available: False, using: 0 TPU cores\n",
      "HPU available: False, using: 0 HPUs\n",
      "LOCAL_RANK: 0 - CUDA_VISIBLE_DEVICES: [0]\n"
     ]
    },
    {
     "data": {
      "application/vnd.jupyter.widget-view+json": {
       "model_id": "25cce914f01e4c3781fa117f988a09f2",
       "version_major": 2,
       "version_minor": 0
      },
      "text/plain": [
       "Predicting: |          | 0/? [00:00<?, ?it/s]"
      ]
     },
     "metadata": {},
     "output_type": "display_data"
    },
    {
     "name": "stderr",
     "output_type": "stream",
     "text": [
      "[I 2025-06-15 11:12:28,601] Trial 14 finished with value: inf and parameters: {'hidden_dim': 90, 'n_rnn_layers': 3, 'dropout': 0.3119603689005771, 'lr': 0.0010071336951821197, 'batch_size': 16}. Best is trial 0 with value: inf.\n",
      "ignoring user defined `output_chunk_length`. RNNModel uses a fixed `output_chunk_length=1`.\n",
      "GPU available: True (cuda), used: True\n",
      "TPU available: False, using: 0 TPU cores\n",
      "HPU available: False, using: 0 HPUs\n",
      "LOCAL_RANK: 0 - CUDA_VISIBLE_DEVICES: [0]\n",
      "\n",
      "  | Name            | Type             | Params | Mode \n",
      "-------------------------------------------------------------\n",
      "0 | criterion       | MSELoss          | 0      | train\n",
      "1 | train_criterion | MSELoss          | 0      | train\n",
      "2 | val_criterion   | MSELoss          | 0      | train\n",
      "3 | train_metrics   | MetricCollection | 0      | train\n",
      "4 | val_metrics     | MetricCollection | 0      | train\n",
      "5 | rnn             | RNN              | 51.8 K | train\n",
      "6 | V               | Linear           | 128    | train\n",
      "-------------------------------------------------------------\n",
      "51.9 K    Trainable params\n",
      "0         Non-trainable params\n",
      "51.9 K    Total params\n",
      "0.208     Total estimated model params size (MB)\n",
      "7         Modules in train mode\n",
      "0         Modules in eval mode\n"
     ]
    },
    {
     "data": {
      "application/vnd.jupyter.widget-view+json": {
       "model_id": "c80abb6aa3da4983b0803b3419f3e36f",
       "version_major": 2,
       "version_minor": 0
      },
      "text/plain": [
       "Training: |          | 0/? [00:00<?, ?it/s]"
      ]
     },
     "metadata": {},
     "output_type": "display_data"
    },
    {
     "name": "stderr",
     "output_type": "stream",
     "text": [
      "`Trainer.fit` stopped: `max_epochs=20` reached.\n",
      "GPU available: True (cuda), used: True\n",
      "TPU available: False, using: 0 TPU cores\n",
      "HPU available: False, using: 0 HPUs\n",
      "LOCAL_RANK: 0 - CUDA_VISIBLE_DEVICES: [0]\n"
     ]
    },
    {
     "data": {
      "application/vnd.jupyter.widget-view+json": {
       "model_id": "04a89388c6d74c729a43a45441662bdb",
       "version_major": 2,
       "version_minor": 0
      },
      "text/plain": [
       "Predicting: |          | 0/? [00:00<?, ?it/s]"
      ]
     },
     "metadata": {},
     "output_type": "display_data"
    },
    {
     "name": "stderr",
     "output_type": "stream",
     "text": [
      "[I 2025-06-15 11:12:29,815] Trial 15 finished with value: inf and parameters: {'hidden_dim': 127, 'n_rnn_layers': 2, 'dropout': 0.4175337316762072, 'lr': 0.00035898706342599754, 'batch_size': 32}. Best is trial 0 with value: inf.\n",
      "ignoring user defined `output_chunk_length`. RNNModel uses a fixed `output_chunk_length=1`.\n",
      "GPU available: True (cuda), used: True\n",
      "TPU available: False, using: 0 TPU cores\n",
      "HPU available: False, using: 0 HPUs\n",
      "LOCAL_RANK: 0 - CUDA_VISIBLE_DEVICES: [0]\n",
      "\n",
      "  | Name            | Type             | Params | Mode \n",
      "-------------------------------------------------------------\n",
      "0 | criterion       | MSELoss          | 0      | train\n",
      "1 | train_criterion | MSELoss          | 0      | train\n",
      "2 | val_criterion   | MSELoss          | 0      | train\n",
      "3 | train_metrics   | MetricCollection | 0      | train\n",
      "4 | val_metrics     | MetricCollection | 0      | train\n",
      "5 | rnn             | RNN              | 13.2 K | train\n",
      "6 | V               | Linear           | 63     | train\n",
      "-------------------------------------------------------------\n",
      "13.3 K    Trainable params\n",
      "0         Non-trainable params\n",
      "13.3 K    Total params\n",
      "0.053     Total estimated model params size (MB)\n",
      "7         Modules in train mode\n",
      "0         Modules in eval mode\n"
     ]
    },
    {
     "data": {
      "application/vnd.jupyter.widget-view+json": {
       "model_id": "c98bb4d9d1a948d68b0b7e5aab20dbe4",
       "version_major": 2,
       "version_minor": 0
      },
      "text/plain": [
       "Training: |          | 0/? [00:00<?, ?it/s]"
      ]
     },
     "metadata": {},
     "output_type": "display_data"
    },
    {
     "name": "stderr",
     "output_type": "stream",
     "text": [
      "`Trainer.fit` stopped: `max_epochs=20` reached.\n",
      "GPU available: True (cuda), used: True\n",
      "TPU available: False, using: 0 TPU cores\n",
      "HPU available: False, using: 0 HPUs\n",
      "LOCAL_RANK: 0 - CUDA_VISIBLE_DEVICES: [0]\n"
     ]
    },
    {
     "data": {
      "application/vnd.jupyter.widget-view+json": {
       "model_id": "64bca3461caf4b16aec8f0f55754ea85",
       "version_major": 2,
       "version_minor": 0
      },
      "text/plain": [
       "Predicting: |          | 0/? [00:00<?, ?it/s]"
      ]
     },
     "metadata": {},
     "output_type": "display_data"
    },
    {
     "name": "stderr",
     "output_type": "stream",
     "text": [
      "[I 2025-06-15 11:12:31,952] Trial 16 finished with value: inf and parameters: {'hidden_dim': 62, 'n_rnn_layers': 2, 'dropout': 0.22422956712409575, 'lr': 0.0030520569437134854, 'batch_size': 16}. Best is trial 0 with value: inf.\n",
      "ignoring user defined `output_chunk_length`. RNNModel uses a fixed `output_chunk_length=1`.\n",
      "GPU available: True (cuda), used: True\n",
      "TPU available: False, using: 0 TPU cores\n",
      "HPU available: False, using: 0 HPUs\n",
      "LOCAL_RANK: 0 - CUDA_VISIBLE_DEVICES: [0]\n",
      "\n",
      "  | Name            | Type             | Params | Mode \n",
      "-------------------------------------------------------------\n",
      "0 | criterion       | MSELoss          | 0      | train\n",
      "1 | train_criterion | MSELoss          | 0      | train\n",
      "2 | val_criterion   | MSELoss          | 0      | train\n",
      "3 | train_metrics   | MetricCollection | 0      | train\n",
      "4 | val_metrics     | MetricCollection | 0      | train\n",
      "5 | rnn             | RNN              | 25.1 K | train\n",
      "6 | V               | Linear           | 69     | train\n",
      "-------------------------------------------------------------\n",
      "25.2 K    Trainable params\n",
      "0         Non-trainable params\n",
      "25.2 K    Total params\n",
      "0.101     Total estimated model params size (MB)\n",
      "7         Modules in train mode\n",
      "0         Modules in eval mode\n"
     ]
    },
    {
     "data": {
      "application/vnd.jupyter.widget-view+json": {
       "model_id": "353337d9c49142bb8e1c4ec120644af1",
       "version_major": 2,
       "version_minor": 0
      },
      "text/plain": [
       "Training: |          | 0/? [00:00<?, ?it/s]"
      ]
     },
     "metadata": {},
     "output_type": "display_data"
    },
    {
     "name": "stderr",
     "output_type": "stream",
     "text": [
      "`Trainer.fit` stopped: `max_epochs=20` reached.\n",
      "GPU available: True (cuda), used: True\n",
      "TPU available: False, using: 0 TPU cores\n",
      "HPU available: False, using: 0 HPUs\n",
      "LOCAL_RANK: 0 - CUDA_VISIBLE_DEVICES: [0]\n"
     ]
    },
    {
     "data": {
      "application/vnd.jupyter.widget-view+json": {
       "model_id": "ffe45b2252034ae38be3c335754393a5",
       "version_major": 2,
       "version_minor": 0
      },
      "text/plain": [
       "Predicting: |          | 0/? [00:00<?, ?it/s]"
      ]
     },
     "metadata": {},
     "output_type": "display_data"
    },
    {
     "name": "stderr",
     "output_type": "stream",
     "text": [
      "[I 2025-06-15 11:12:34,511] Trial 17 finished with value: inf and parameters: {'hidden_dim': 68, 'n_rnn_layers': 3, 'dropout': 0.31059819942639333, 'lr': 0.00011260095614210235, 'batch_size': 16}. Best is trial 0 with value: inf.\n",
      "ignoring user defined `output_chunk_length`. RNNModel uses a fixed `output_chunk_length=1`.\n",
      "GPU available: True (cuda), used: True\n",
      "TPU available: False, using: 0 TPU cores\n",
      "HPU available: False, using: 0 HPUs\n",
      "LOCAL_RANK: 0 - CUDA_VISIBLE_DEVICES: [0]\n",
      "\n",
      "  | Name            | Type             | Params | Mode \n",
      "-------------------------------------------------------------\n",
      "0 | criterion       | MSELoss          | 0      | train\n",
      "1 | train_criterion | MSELoss          | 0      | train\n",
      "2 | val_criterion   | MSELoss          | 0      | train\n",
      "3 | train_metrics   | MetricCollection | 0      | train\n",
      "4 | val_metrics     | MetricCollection | 0      | train\n",
      "5 | rnn             | RNN              | 35.9 K | train\n",
      "6 | V               | Linear           | 106    | train\n",
      "-------------------------------------------------------------\n",
      "36.0 K    Trainable params\n",
      "0         Non-trainable params\n",
      "36.0 K    Total params\n",
      "0.144     Total estimated model params size (MB)\n",
      "7         Modules in train mode\n",
      "0         Modules in eval mode\n"
     ]
    },
    {
     "data": {
      "application/vnd.jupyter.widget-view+json": {
       "model_id": "e214ceb055c84c32accdad91ec1126af",
       "version_major": 2,
       "version_minor": 0
      },
      "text/plain": [
       "Training: |          | 0/? [00:00<?, ?it/s]"
      ]
     },
     "metadata": {},
     "output_type": "display_data"
    },
    {
     "name": "stderr",
     "output_type": "stream",
     "text": [
      "`Trainer.fit` stopped: `max_epochs=20` reached.\n",
      "GPU available: True (cuda), used: True\n",
      "TPU available: False, using: 0 TPU cores\n",
      "HPU available: False, using: 0 HPUs\n",
      "LOCAL_RANK: 0 - CUDA_VISIBLE_DEVICES: [0]\n"
     ]
    },
    {
     "data": {
      "application/vnd.jupyter.widget-view+json": {
       "model_id": "2f14d5e9d31a43c79b9193d49e9be738",
       "version_major": 2,
       "version_minor": 0
      },
      "text/plain": [
       "Predicting: |          | 0/? [00:00<?, ?it/s]"
      ]
     },
     "metadata": {},
     "output_type": "display_data"
    },
    {
     "name": "stderr",
     "output_type": "stream",
     "text": [
      "[I 2025-06-15 11:12:36,699] Trial 18 finished with value: inf and parameters: {'hidden_dim': 105, 'n_rnn_layers': 2, 'dropout': 0.44246949496060284, 'lr': 0.0014179506149336308, 'batch_size': 16}. Best is trial 0 with value: inf.\n",
      "ignoring user defined `output_chunk_length`. RNNModel uses a fixed `output_chunk_length=1`.\n",
      "GPU available: True (cuda), used: True\n",
      "TPU available: False, using: 0 TPU cores\n",
      "HPU available: False, using: 0 HPUs\n",
      "LOCAL_RANK: 0 - CUDA_VISIBLE_DEVICES: [0]\n",
      "\n",
      "  | Name            | Type             | Params | Mode \n",
      "-------------------------------------------------------------\n",
      "0 | criterion       | MSELoss          | 0      | train\n",
      "1 | train_criterion | MSELoss          | 0      | train\n",
      "2 | val_criterion   | MSELoss          | 0      | train\n",
      "3 | train_metrics   | MetricCollection | 0      | train\n",
      "4 | val_metrics     | MetricCollection | 0      | train\n",
      "5 | rnn             | RNN              | 11.4 K | train\n",
      "6 | V               | Linear           | 46     | train\n",
      "-------------------------------------------------------------\n",
      "11.5 K    Trainable params\n",
      "0         Non-trainable params\n",
      "11.5 K    Total params\n",
      "0.046     Total estimated model params size (MB)\n",
      "7         Modules in train mode\n",
      "0         Modules in eval mode\n"
     ]
    },
    {
     "data": {
      "application/vnd.jupyter.widget-view+json": {
       "model_id": "245794152fc9417c804ef11840e0ac0a",
       "version_major": 2,
       "version_minor": 0
      },
      "text/plain": [
       "Training: |          | 0/? [00:00<?, ?it/s]"
      ]
     },
     "metadata": {},
     "output_type": "display_data"
    },
    {
     "name": "stderr",
     "output_type": "stream",
     "text": [
      "`Trainer.fit` stopped: `max_epochs=20` reached.\n",
      "GPU available: True (cuda), used: True\n",
      "TPU available: False, using: 0 TPU cores\n",
      "HPU available: False, using: 0 HPUs\n",
      "LOCAL_RANK: 0 - CUDA_VISIBLE_DEVICES: [0]\n"
     ]
    },
    {
     "data": {
      "application/vnd.jupyter.widget-view+json": {
       "model_id": "4985b7959d284123b0430798fe08ac03",
       "version_major": 2,
       "version_minor": 0
      },
      "text/plain": [
       "Predicting: |          | 0/? [00:00<?, ?it/s]"
      ]
     },
     "metadata": {},
     "output_type": "display_data"
    },
    {
     "name": "stderr",
     "output_type": "stream",
     "text": [
      "[I 2025-06-15 11:12:38,104] Trial 19 finished with value: inf and parameters: {'hidden_dim': 45, 'n_rnn_layers': 3, 'dropout': 0.3398893842612357, 'lr': 0.0005977799565497156, 'batch_size': 32}. Best is trial 0 with value: inf.\n",
      "[I 2025-06-15 11:12:38,105] A new study created in memory with name: no-name-b44bf08a-eec7-4142-9605-4c58ea840f5f\n",
      "ignoring user defined `output_chunk_length`. RNNModel uses a fixed `output_chunk_length=1`.\n",
      "GPU available: True (cuda), used: True\n",
      "TPU available: False, using: 0 TPU cores\n",
      "HPU available: False, using: 0 HPUs\n",
      "LOCAL_RANK: 0 - CUDA_VISIBLE_DEVICES: [0]\n",
      "\n",
      "  | Name            | Type             | Params | Mode \n",
      "-------------------------------------------------------------\n",
      "0 | criterion       | MSELoss          | 0      | train\n",
      "1 | train_criterion | MSELoss          | 0      | train\n",
      "2 | val_criterion   | MSELoss          | 0      | train\n",
      "3 | train_metrics   | MetricCollection | 0      | train\n",
      "4 | val_metrics     | MetricCollection | 0      | train\n",
      "5 | rnn             | LSTM             | 52.7 K | train\n",
      "6 | V               | Linear           | 104    | train\n",
      "-------------------------------------------------------------\n",
      "52.8 K    Trainable params\n",
      "0         Non-trainable params\n",
      "52.8 K    Total params\n",
      "0.211     Total estimated model params size (MB)\n",
      "7         Modules in train mode\n",
      "0         Modules in eval mode\n"
     ]
    },
    {
     "data": {
      "application/vnd.jupyter.widget-view+json": {
       "model_id": "b733c1d4fb224a9388fe1ea7a68c8115",
       "version_major": 2,
       "version_minor": 0
      },
      "text/plain": [
       "Training: |          | 0/? [00:00<?, ?it/s]"
      ]
     },
     "metadata": {},
     "output_type": "display_data"
    },
    {
     "name": "stderr",
     "output_type": "stream",
     "text": [
      "`Trainer.fit` stopped: `max_epochs=20` reached.\n",
      "GPU available: True (cuda), used: True\n",
      "TPU available: False, using: 0 TPU cores\n",
      "HPU available: False, using: 0 HPUs\n",
      "LOCAL_RANK: 0 - CUDA_VISIBLE_DEVICES: [0]\n"
     ]
    },
    {
     "data": {
      "application/vnd.jupyter.widget-view+json": {
       "model_id": "03f32c706bf94cb7822715b89fdc9548",
       "version_major": 2,
       "version_minor": 0
      },
      "text/plain": [
       "Predicting: |          | 0/? [00:00<?, ?it/s]"
      ]
     },
     "metadata": {},
     "output_type": "display_data"
    },
    {
     "name": "stderr",
     "output_type": "stream",
     "text": [
      "[I 2025-06-15 11:12:39,091] Trial 0 finished with value: inf and parameters: {'hidden_dim': 103, 'n_rnn_layers': 1, 'dropout': 0.0027610585618011996, 'lr': 0.004274869455295219, 'batch_size': 64}. Best is trial 0 with value: inf.\n",
      "ignoring user defined `output_chunk_length`. RNNModel uses a fixed `output_chunk_length=1`.\n",
      "GPU available: True (cuda), used: True\n",
      "TPU available: False, using: 0 TPU cores\n",
      "HPU available: False, using: 0 HPUs\n",
      "LOCAL_RANK: 0 - CUDA_VISIBLE_DEVICES: [0]\n",
      "\n",
      "  | Name            | Type             | Params | Mode \n",
      "-------------------------------------------------------------\n",
      "0 | criterion       | MSELoss          | 0      | train\n",
      "1 | train_criterion | MSELoss          | 0      | train\n",
      "2 | val_criterion   | MSELoss          | 0      | train\n",
      "3 | train_metrics   | MetricCollection | 0      | train\n",
      "4 | val_metrics     | MetricCollection | 0      | train\n",
      "5 | rnn             | LSTM             | 9.5 K  | train\n",
      "6 | V               | Linear           | 25     | train\n",
      "-------------------------------------------------------------\n",
      "9.5 K     Trainable params\n",
      "0         Non-trainable params\n",
      "9.5 K     Total params\n",
      "0.038     Total estimated model params size (MB)\n",
      "7         Modules in train mode\n",
      "0         Modules in eval mode\n"
     ]
    },
    {
     "data": {
      "application/vnd.jupyter.widget-view+json": {
       "model_id": "0019c7d754234f1d81c8ff6d6905dedc",
       "version_major": 2,
       "version_minor": 0
      },
      "text/plain": [
       "Training: |          | 0/? [00:00<?, ?it/s]"
      ]
     },
     "metadata": {},
     "output_type": "display_data"
    },
    {
     "name": "stderr",
     "output_type": "stream",
     "text": [
      "`Trainer.fit` stopped: `max_epochs=20` reached.\n",
      "GPU available: True (cuda), used: True\n",
      "TPU available: False, using: 0 TPU cores\n",
      "HPU available: False, using: 0 HPUs\n",
      "LOCAL_RANK: 0 - CUDA_VISIBLE_DEVICES: [0]\n"
     ]
    },
    {
     "data": {
      "application/vnd.jupyter.widget-view+json": {
       "model_id": "6d62d1394f4c47d2972cd3d96cc86292",
       "version_major": 2,
       "version_minor": 0
      },
      "text/plain": [
       "Predicting: |          | 0/? [00:00<?, ?it/s]"
      ]
     },
     "metadata": {},
     "output_type": "display_data"
    },
    {
     "name": "stderr",
     "output_type": "stream",
     "text": [
      "[I 2025-06-15 11:12:41,382] Trial 1 finished with value: inf and parameters: {'hidden_dim': 24, 'n_rnn_layers': 2, 'dropout': 0.05793452976256486, 'lr': 0.005323617594751502, 'batch_size': 16}. Best is trial 0 with value: inf.\n",
      "ignoring user defined `output_chunk_length`. RNNModel uses a fixed `output_chunk_length=1`.\n",
      "GPU available: True (cuda), used: True\n",
      "TPU available: False, using: 0 TPU cores\n",
      "HPU available: False, using: 0 HPUs\n",
      "LOCAL_RANK: 0 - CUDA_VISIBLE_DEVICES: [0]\n",
      "\n",
      "  | Name            | Type             | Params | Mode \n",
      "-------------------------------------------------------------\n",
      "0 | criterion       | MSELoss          | 0      | train\n",
      "1 | train_criterion | MSELoss          | 0      | train\n",
      "2 | val_criterion   | MSELoss          | 0      | train\n",
      "3 | train_metrics   | MetricCollection | 0      | train\n",
      "4 | val_metrics     | MetricCollection | 0      | train\n",
      "5 | rnn             | LSTM             | 15.5 K | train\n",
      "6 | V               | Linear           | 52     | train\n",
      "-------------------------------------------------------------\n",
      "15.6 K    Trainable params\n",
      "0         Non-trainable params\n",
      "15.6 K    Total params\n",
      "0.062     Total estimated model params size (MB)\n",
      "7         Modules in train mode\n",
      "0         Modules in eval mode\n"
     ]
    },
    {
     "data": {
      "application/vnd.jupyter.widget-view+json": {
       "model_id": "271f8410651a4497b8f47ae54938477e",
       "version_major": 2,
       "version_minor": 0
      },
      "text/plain": [
       "Training: |          | 0/? [00:00<?, ?it/s]"
      ]
     },
     "metadata": {},
     "output_type": "display_data"
    },
    {
     "name": "stderr",
     "output_type": "stream",
     "text": [
      "`Trainer.fit` stopped: `max_epochs=20` reached.\n",
      "GPU available: True (cuda), used: True\n",
      "TPU available: False, using: 0 TPU cores\n",
      "HPU available: False, using: 0 HPUs\n",
      "LOCAL_RANK: 0 - CUDA_VISIBLE_DEVICES: [0]\n"
     ]
    },
    {
     "data": {
      "application/vnd.jupyter.widget-view+json": {
       "model_id": "0066f87356d94a3b81353d44abc0a8e6",
       "version_major": 2,
       "version_minor": 0
      },
      "text/plain": [
       "Predicting: |          | 0/? [00:00<?, ?it/s]"
      ]
     },
     "metadata": {},
     "output_type": "display_data"
    },
    {
     "name": "stderr",
     "output_type": "stream",
     "text": [
      "[I 2025-06-15 11:12:43,197] Trial 2 finished with value: inf and parameters: {'hidden_dim': 51, 'n_rnn_layers': 1, 'dropout': 0.36480308916903204, 'lr': 0.0018841476921545091, 'batch_size': 16}. Best is trial 0 with value: inf.\n",
      "ignoring user defined `output_chunk_length`. RNNModel uses a fixed `output_chunk_length=1`.\n",
      "GPU available: True (cuda), used: True\n",
      "TPU available: False, using: 0 TPU cores\n",
      "HPU available: False, using: 0 HPUs\n",
      "LOCAL_RANK: 0 - CUDA_VISIBLE_DEVICES: [0]\n",
      "\n",
      "  | Name            | Type             | Params | Mode \n",
      "-------------------------------------------------------------\n",
      "0 | criterion       | MSELoss          | 0      | train\n",
      "1 | train_criterion | MSELoss          | 0      | train\n",
      "2 | val_criterion   | MSELoss          | 0      | train\n",
      "3 | train_metrics   | MetricCollection | 0      | train\n",
      "4 | val_metrics     | MetricCollection | 0      | train\n",
      "5 | rnn             | LSTM             | 195 K  | train\n",
      "6 | V               | Linear           | 97     | train\n",
      "-------------------------------------------------------------\n",
      "195 K     Trainable params\n",
      "0         Non-trainable params\n",
      "195 K     Total params\n",
      "0.782     Total estimated model params size (MB)\n",
      "7         Modules in train mode\n",
      "0         Modules in eval mode\n"
     ]
    },
    {
     "data": {
      "application/vnd.jupyter.widget-view+json": {
       "model_id": "37596b9b2d69467aa0af259fd75db597",
       "version_major": 2,
       "version_minor": 0
      },
      "text/plain": [
       "Training: |          | 0/? [00:00<?, ?it/s]"
      ]
     },
     "metadata": {},
     "output_type": "display_data"
    },
    {
     "name": "stderr",
     "output_type": "stream",
     "text": [
      "`Trainer.fit` stopped: `max_epochs=20` reached.\n",
      "GPU available: True (cuda), used: True\n",
      "TPU available: False, using: 0 TPU cores\n",
      "HPU available: False, using: 0 HPUs\n",
      "LOCAL_RANK: 0 - CUDA_VISIBLE_DEVICES: [0]\n"
     ]
    },
    {
     "data": {
      "application/vnd.jupyter.widget-view+json": {
       "model_id": "05085e40b7cf416caaf804a0f907255e",
       "version_major": 2,
       "version_minor": 0
      },
      "text/plain": [
       "Predicting: |          | 0/? [00:00<?, ?it/s]"
      ]
     },
     "metadata": {},
     "output_type": "display_data"
    },
    {
     "name": "stderr",
     "output_type": "stream",
     "text": [
      "[I 2025-06-15 11:12:45,218] Trial 3 finished with value: inf and parameters: {'hidden_dim': 96, 'n_rnn_layers': 3, 'dropout': 0.2806385987847481, 'lr': 0.003482846706526885, 'batch_size': 32}. Best is trial 0 with value: inf.\n",
      "ignoring user defined `output_chunk_length`. RNNModel uses a fixed `output_chunk_length=1`.\n",
      "GPU available: True (cuda), used: True\n",
      "TPU available: False, using: 0 TPU cores\n",
      "HPU available: False, using: 0 HPUs\n",
      "LOCAL_RANK: 0 - CUDA_VISIBLE_DEVICES: [0]\n",
      "\n",
      "  | Name            | Type             | Params | Mode \n",
      "-------------------------------------------------------------\n",
      "0 | criterion       | MSELoss          | 0      | train\n",
      "1 | train_criterion | MSELoss          | 0      | train\n",
      "2 | val_criterion   | MSELoss          | 0      | train\n",
      "3 | train_metrics   | MetricCollection | 0      | train\n",
      "4 | val_metrics     | MetricCollection | 0      | train\n",
      "5 | rnn             | LSTM             | 3.1 K  | train\n",
      "6 | V               | Linear           | 19     | train\n",
      "-------------------------------------------------------------\n",
      "3.1 K     Trainable params\n",
      "0         Non-trainable params\n",
      "3.1 K     Total params\n",
      "0.012     Total estimated model params size (MB)\n",
      "7         Modules in train mode\n",
      "0         Modules in eval mode\n"
     ]
    },
    {
     "data": {
      "application/vnd.jupyter.widget-view+json": {
       "model_id": "7d68668a23404cd48684f76aead8f17f",
       "version_major": 2,
       "version_minor": 0
      },
      "text/plain": [
       "Training: |          | 0/? [00:00<?, ?it/s]"
      ]
     },
     "metadata": {},
     "output_type": "display_data"
    },
    {
     "name": "stderr",
     "output_type": "stream",
     "text": [
      "`Trainer.fit` stopped: `max_epochs=20` reached.\n",
      "GPU available: True (cuda), used: True\n",
      "TPU available: False, using: 0 TPU cores\n",
      "HPU available: False, using: 0 HPUs\n",
      "LOCAL_RANK: 0 - CUDA_VISIBLE_DEVICES: [0]\n"
     ]
    },
    {
     "data": {
      "application/vnd.jupyter.widget-view+json": {
       "model_id": "79cdb873203743e8bafea596a3894e06",
       "version_major": 2,
       "version_minor": 0
      },
      "text/plain": [
       "Predicting: |          | 0/? [00:00<?, ?it/s]"
      ]
     },
     "metadata": {},
     "output_type": "display_data"
    },
    {
     "name": "stderr",
     "output_type": "stream",
     "text": [
      "[I 2025-06-15 11:12:45,863] Trial 4 finished with value: inf and parameters: {'hidden_dim': 18, 'n_rnn_layers': 1, 'dropout': 0.015714592843367126, 'lr': 0.0018742210985555703, 'batch_size': 64}. Best is trial 0 with value: inf.\n",
      "ignoring user defined `output_chunk_length`. RNNModel uses a fixed `output_chunk_length=1`.\n",
      "GPU available: True (cuda), used: True\n",
      "TPU available: False, using: 0 TPU cores\n",
      "HPU available: False, using: 0 HPUs\n",
      "LOCAL_RANK: 0 - CUDA_VISIBLE_DEVICES: [0]\n",
      "\n",
      "  | Name            | Type             | Params | Mode \n",
      "-------------------------------------------------------------\n",
      "0 | criterion       | MSELoss          | 0      | train\n",
      "1 | train_criterion | MSELoss          | 0      | train\n",
      "2 | val_criterion   | MSELoss          | 0      | train\n",
      "3 | train_metrics   | MetricCollection | 0      | train\n",
      "4 | val_metrics     | MetricCollection | 0      | train\n",
      "5 | rnn             | LSTM             | 28.0 K | train\n",
      "6 | V               | Linear           | 45     | train\n",
      "-------------------------------------------------------------\n",
      "28.0 K    Trainable params\n",
      "0         Non-trainable params\n",
      "28.0 K    Total params\n",
      "0.112     Total estimated model params size (MB)\n",
      "7         Modules in train mode\n",
      "0         Modules in eval mode\n"
     ]
    },
    {
     "data": {
      "application/vnd.jupyter.widget-view+json": {
       "model_id": "b7ec506d715741c4b23113943c235b98",
       "version_major": 2,
       "version_minor": 0
      },
      "text/plain": [
       "Training: |          | 0/? [00:00<?, ?it/s]"
      ]
     },
     "metadata": {},
     "output_type": "display_data"
    },
    {
     "name": "stderr",
     "output_type": "stream",
     "text": [
      "`Trainer.fit` stopped: `max_epochs=20` reached.\n",
      "GPU available: True (cuda), used: True\n",
      "TPU available: False, using: 0 TPU cores\n",
      "HPU available: False, using: 0 HPUs\n",
      "LOCAL_RANK: 0 - CUDA_VISIBLE_DEVICES: [0]\n"
     ]
    },
    {
     "data": {
      "application/vnd.jupyter.widget-view+json": {
       "model_id": "4d7cc9a4ae0b437885d2fb1b36152fe5",
       "version_major": 2,
       "version_minor": 0
      },
      "text/plain": [
       "Predicting: |          | 0/? [00:00<?, ?it/s]"
      ]
     },
     "metadata": {},
     "output_type": "display_data"
    },
    {
     "name": "stderr",
     "output_type": "stream",
     "text": [
      "[I 2025-06-15 11:12:47,145] Trial 5 finished with value: inf and parameters: {'hidden_dim': 44, 'n_rnn_layers': 2, 'dropout': 0.37777556927152434, 'lr': 0.00028681134821030097, 'batch_size': 32}. Best is trial 0 with value: inf.\n",
      "ignoring user defined `output_chunk_length`. RNNModel uses a fixed `output_chunk_length=1`.\n",
      "GPU available: True (cuda), used: True\n",
      "TPU available: False, using: 0 TPU cores\n",
      "HPU available: False, using: 0 HPUs\n",
      "LOCAL_RANK: 0 - CUDA_VISIBLE_DEVICES: [0]\n",
      "\n",
      "  | Name            | Type             | Params | Mode \n",
      "-------------------------------------------------------------\n",
      "0 | criterion       | MSELoss          | 0      | train\n",
      "1 | train_criterion | MSELoss          | 0      | train\n",
      "2 | val_criterion   | MSELoss          | 0      | train\n",
      "3 | train_metrics   | MetricCollection | 0      | train\n",
      "4 | val_metrics     | MetricCollection | 0      | train\n",
      "5 | rnn             | LSTM             | 306 K  | train\n",
      "6 | V               | Linear           | 122    | train\n",
      "-------------------------------------------------------------\n",
      "306 K     Trainable params\n",
      "0         Non-trainable params\n",
      "306 K     Total params\n",
      "1.228     Total estimated model params size (MB)\n",
      "7         Modules in train mode\n",
      "0         Modules in eval mode\n"
     ]
    },
    {
     "data": {
      "application/vnd.jupyter.widget-view+json": {
       "model_id": "66e830ff004d4846a3141cf4f7723771",
       "version_major": 2,
       "version_minor": 0
      },
      "text/plain": [
       "Training: |          | 0/? [00:00<?, ?it/s]"
      ]
     },
     "metadata": {},
     "output_type": "display_data"
    },
    {
     "name": "stderr",
     "output_type": "stream",
     "text": [
      "`Trainer.fit` stopped: `max_epochs=20` reached.\n",
      "GPU available: True (cuda), used: True\n",
      "TPU available: False, using: 0 TPU cores\n",
      "HPU available: False, using: 0 HPUs\n",
      "LOCAL_RANK: 0 - CUDA_VISIBLE_DEVICES: [0]\n"
     ]
    },
    {
     "data": {
      "application/vnd.jupyter.widget-view+json": {
       "model_id": "a731e40e6945466d9d0f68e38070bbe1",
       "version_major": 2,
       "version_minor": 0
      },
      "text/plain": [
       "Predicting: |          | 0/? [00:00<?, ?it/s]"
      ]
     },
     "metadata": {},
     "output_type": "display_data"
    },
    {
     "name": "stderr",
     "output_type": "stream",
     "text": [
      "[I 2025-06-15 11:12:49,429] Trial 6 finished with value: inf and parameters: {'hidden_dim': 121, 'n_rnn_layers': 3, 'dropout': 0.31670187825521173, 'lr': 0.005532496914298506, 'batch_size': 64}. Best is trial 0 with value: inf.\n",
      "ignoring user defined `output_chunk_length`. RNNModel uses a fixed `output_chunk_length=1`.\n",
      "GPU available: True (cuda), used: True\n",
      "TPU available: False, using: 0 TPU cores\n",
      "HPU available: False, using: 0 HPUs\n",
      "LOCAL_RANK: 0 - CUDA_VISIBLE_DEVICES: [0]\n",
      "\n",
      "  | Name            | Type             | Params | Mode \n",
      "-------------------------------------------------------------\n",
      "0 | criterion       | MSELoss          | 0      | train\n",
      "1 | train_criterion | MSELoss          | 0      | train\n",
      "2 | val_criterion   | MSELoss          | 0      | train\n",
      "3 | train_metrics   | MetricCollection | 0      | train\n",
      "4 | val_metrics     | MetricCollection | 0      | train\n",
      "5 | rnn             | LSTM             | 124 K  | train\n",
      "6 | V               | Linear           | 77     | train\n",
      "-------------------------------------------------------------\n",
      "124 K     Trainable params\n",
      "0         Non-trainable params\n",
      "124 K     Total params\n",
      "0.498     Total estimated model params size (MB)\n",
      "7         Modules in train mode\n",
      "0         Modules in eval mode\n"
     ]
    },
    {
     "data": {
      "application/vnd.jupyter.widget-view+json": {
       "model_id": "bd367f9b30164bf8a8551d5ac26c34fc",
       "version_major": 2,
       "version_minor": 0
      },
      "text/plain": [
       "Training: |          | 0/? [00:00<?, ?it/s]"
      ]
     },
     "metadata": {},
     "output_type": "display_data"
    },
    {
     "name": "stderr",
     "output_type": "stream",
     "text": [
      "`Trainer.fit` stopped: `max_epochs=20` reached.\n",
      "GPU available: True (cuda), used: True\n",
      "TPU available: False, using: 0 TPU cores\n",
      "HPU available: False, using: 0 HPUs\n",
      "LOCAL_RANK: 0 - CUDA_VISIBLE_DEVICES: [0]\n"
     ]
    },
    {
     "data": {
      "application/vnd.jupyter.widget-view+json": {
       "model_id": "005549b0ad2244148948cb762db1efb7",
       "version_major": 2,
       "version_minor": 0
      },
      "text/plain": [
       "Predicting: |          | 0/? [00:00<?, ?it/s]"
      ]
     },
     "metadata": {},
     "output_type": "display_data"
    },
    {
     "name": "stderr",
     "output_type": "stream",
     "text": [
      "[I 2025-06-15 11:12:50,861] Trial 7 finished with value: inf and parameters: {'hidden_dim': 76, 'n_rnn_layers': 3, 'dropout': 0.4480456499617466, 'lr': 0.0004325207525386532, 'batch_size': 64}. Best is trial 0 with value: inf.\n",
      "ignoring user defined `output_chunk_length`. RNNModel uses a fixed `output_chunk_length=1`.\n",
      "GPU available: True (cuda), used: True\n",
      "TPU available: False, using: 0 TPU cores\n",
      "HPU available: False, using: 0 HPUs\n",
      "LOCAL_RANK: 0 - CUDA_VISIBLE_DEVICES: [0]\n",
      "\n",
      "  | Name            | Type             | Params | Mode \n",
      "-------------------------------------------------------------\n",
      "0 | criterion       | MSELoss          | 0      | train\n",
      "1 | train_criterion | MSELoss          | 0      | train\n",
      "2 | val_criterion   | MSELoss          | 0      | train\n",
      "3 | train_metrics   | MetricCollection | 0      | train\n",
      "4 | val_metrics     | MetricCollection | 0      | train\n",
      "5 | rnn             | LSTM             | 245 K  | train\n",
      "6 | V               | Linear           | 109    | train\n",
      "-------------------------------------------------------------\n",
      "245 K     Trainable params\n",
      "0         Non-trainable params\n",
      "245 K     Total params\n",
      "0.984     Total estimated model params size (MB)\n",
      "7         Modules in train mode\n",
      "0         Modules in eval mode\n"
     ]
    },
    {
     "data": {
      "application/vnd.jupyter.widget-view+json": {
       "model_id": "d98faf765a8a4b45bad1df0386d3516d",
       "version_major": 2,
       "version_minor": 0
      },
      "text/plain": [
       "Training: |          | 0/? [00:00<?, ?it/s]"
      ]
     },
     "metadata": {},
     "output_type": "display_data"
    },
    {
     "name": "stderr",
     "output_type": "stream",
     "text": [
      "`Trainer.fit` stopped: `max_epochs=20` reached.\n",
      "GPU available: True (cuda), used: True\n",
      "TPU available: False, using: 0 TPU cores\n",
      "HPU available: False, using: 0 HPUs\n",
      "LOCAL_RANK: 0 - CUDA_VISIBLE_DEVICES: [0]\n"
     ]
    },
    {
     "data": {
      "application/vnd.jupyter.widget-view+json": {
       "model_id": "89d46222b9a74f2d853bfb9720bebe0e",
       "version_major": 2,
       "version_minor": 0
      },
      "text/plain": [
       "Predicting: |          | 0/? [00:00<?, ?it/s]"
      ]
     },
     "metadata": {},
     "output_type": "display_data"
    },
    {
     "name": "stderr",
     "output_type": "stream",
     "text": [
      "[I 2025-06-15 11:12:55,023] Trial 8 finished with value: inf and parameters: {'hidden_dim': 108, 'n_rnn_layers': 3, 'dropout': 0.0034760652655953517, 'lr': 0.001050738402418141, 'batch_size': 16}. Best is trial 0 with value: inf.\n",
      "ignoring user defined `output_chunk_length`. RNNModel uses a fixed `output_chunk_length=1`.\n",
      "GPU available: True (cuda), used: True\n",
      "TPU available: False, using: 0 TPU cores\n",
      "HPU available: False, using: 0 HPUs\n",
      "LOCAL_RANK: 0 - CUDA_VISIBLE_DEVICES: [0]\n",
      "\n",
      "  | Name            | Type             | Params | Mode \n",
      "-------------------------------------------------------------\n",
      "0 | criterion       | MSELoss          | 0      | train\n",
      "1 | train_criterion | MSELoss          | 0      | train\n",
      "2 | val_criterion   | MSELoss          | 0      | train\n",
      "3 | train_metrics   | MetricCollection | 0      | train\n",
      "4 | val_metrics     | MetricCollection | 0      | train\n",
      "5 | rnn             | LSTM             | 64.6 K | train\n",
      "6 | V               | Linear           | 55     | train\n",
      "-------------------------------------------------------------\n",
      "64.6 K    Trainable params\n",
      "0         Non-trainable params\n",
      "64.6 K    Total params\n",
      "0.259     Total estimated model params size (MB)\n",
      "7         Modules in train mode\n",
      "0         Modules in eval mode\n"
     ]
    },
    {
     "data": {
      "application/vnd.jupyter.widget-view+json": {
       "model_id": "e0f92bbc4f9f40c188c525dfcb2ffe4f",
       "version_major": 2,
       "version_minor": 0
      },
      "text/plain": [
       "Training: |          | 0/? [00:00<?, ?it/s]"
      ]
     },
     "metadata": {},
     "output_type": "display_data"
    },
    {
     "name": "stderr",
     "output_type": "stream",
     "text": [
      "`Trainer.fit` stopped: `max_epochs=20` reached.\n",
      "GPU available: True (cuda), used: True\n",
      "TPU available: False, using: 0 TPU cores\n",
      "HPU available: False, using: 0 HPUs\n",
      "LOCAL_RANK: 0 - CUDA_VISIBLE_DEVICES: [0]\n"
     ]
    },
    {
     "data": {
      "application/vnd.jupyter.widget-view+json": {
       "model_id": "aef1f9bd63e1490a93679a94b2e107e1",
       "version_major": 2,
       "version_minor": 0
      },
      "text/plain": [
       "Predicting: |          | 0/? [00:00<?, ?it/s]"
      ]
     },
     "metadata": {},
     "output_type": "display_data"
    },
    {
     "name": "stderr",
     "output_type": "stream",
     "text": [
      "[I 2025-06-15 11:12:56,140] Trial 9 finished with value: inf and parameters: {'hidden_dim': 54, 'n_rnn_layers': 3, 'dropout': 0.16160146601037761, 'lr': 0.0010903884523201113, 'batch_size': 64}. Best is trial 0 with value: inf.\n",
      "ignoring user defined `output_chunk_length`. RNNModel uses a fixed `output_chunk_length=1`.\n",
      "GPU available: True (cuda), used: True\n",
      "TPU available: False, using: 0 TPU cores\n",
      "HPU available: False, using: 0 HPUs\n",
      "LOCAL_RANK: 0 - CUDA_VISIBLE_DEVICES: [0]\n",
      "\n",
      "  | Name            | Type             | Params | Mode \n",
      "-------------------------------------------------------------\n",
      "0 | criterion       | MSELoss          | 0      | train\n",
      "1 | train_criterion | MSELoss          | 0      | train\n",
      "2 | val_criterion   | MSELoss          | 0      | train\n",
      "3 | train_metrics   | MetricCollection | 0      | train\n",
      "4 | val_metrics     | MetricCollection | 0      | train\n",
      "5 | rnn             | LSTM             | 39.0 K | train\n",
      "6 | V               | Linear           | 88     | train\n",
      "-------------------------------------------------------------\n",
      "39.1 K    Trainable params\n",
      "0         Non-trainable params\n",
      "39.1 K    Total params\n",
      "0.156     Total estimated model params size (MB)\n",
      "7         Modules in train mode\n",
      "0         Modules in eval mode\n"
     ]
    },
    {
     "data": {
      "application/vnd.jupyter.widget-view+json": {
       "model_id": "e8497796992440afb82be487a3416702",
       "version_major": 2,
       "version_minor": 0
      },
      "text/plain": [
       "Training: |          | 0/? [00:00<?, ?it/s]"
      ]
     },
     "metadata": {},
     "output_type": "display_data"
    },
    {
     "name": "stderr",
     "output_type": "stream",
     "text": [
      "`Trainer.fit` stopped: `max_epochs=20` reached.\n",
      "GPU available: True (cuda), used: True\n",
      "TPU available: False, using: 0 TPU cores\n",
      "HPU available: False, using: 0 HPUs\n",
      "LOCAL_RANK: 0 - CUDA_VISIBLE_DEVICES: [0]\n"
     ]
    },
    {
     "data": {
      "application/vnd.jupyter.widget-view+json": {
       "model_id": "fff6ce16709940b081adeb46c399cf7f",
       "version_major": 2,
       "version_minor": 0
      },
      "text/plain": [
       "Predicting: |          | 0/? [00:00<?, ?it/s]"
      ]
     },
     "metadata": {},
     "output_type": "display_data"
    },
    {
     "name": "stderr",
     "output_type": "stream",
     "text": [
      "[I 2025-06-15 11:12:56,914] Trial 10 finished with value: inf and parameters: {'hidden_dim': 87, 'n_rnn_layers': 1, 'dropout': 0.15312212864990257, 'lr': 0.009006020499939725, 'batch_size': 64}. Best is trial 0 with value: inf.\n",
      "ignoring user defined `output_chunk_length`. RNNModel uses a fixed `output_chunk_length=1`.\n",
      "GPU available: True (cuda), used: True\n",
      "TPU available: False, using: 0 TPU cores\n",
      "HPU available: False, using: 0 HPUs\n",
      "LOCAL_RANK: 0 - CUDA_VISIBLE_DEVICES: [0]\n",
      "\n",
      "  | Name            | Type             | Params | Mode \n",
      "-------------------------------------------------------------\n",
      "0 | criterion       | MSELoss          | 0      | train\n",
      "1 | train_criterion | MSELoss          | 0      | train\n",
      "2 | val_criterion   | MSELoss          | 0      | train\n",
      "3 | train_metrics   | MetricCollection | 0      | train\n",
      "4 | val_metrics     | MetricCollection | 0      | train\n",
      "5 | rnn             | LSTM             | 5.8 K  | train\n",
      "6 | V               | Linear           | 19     | train\n",
      "-------------------------------------------------------------\n",
      "5.9 K     Trainable params\n",
      "0         Non-trainable params\n",
      "5.9 K     Total params\n",
      "0.023     Total estimated model params size (MB)\n",
      "7         Modules in train mode\n",
      "0         Modules in eval mode\n"
     ]
    },
    {
     "data": {
      "application/vnd.jupyter.widget-view+json": {
       "model_id": "fcec551e8d574f71b05581f19f0c3f61",
       "version_major": 2,
       "version_minor": 0
      },
      "text/plain": [
       "Training: |          | 0/? [00:00<?, ?it/s]"
      ]
     },
     "metadata": {},
     "output_type": "display_data"
    },
    {
     "name": "stderr",
     "output_type": "stream",
     "text": [
      "`Trainer.fit` stopped: `max_epochs=20` reached.\n",
      "GPU available: True (cuda), used: True\n",
      "TPU available: False, using: 0 TPU cores\n",
      "HPU available: False, using: 0 HPUs\n",
      "LOCAL_RANK: 0 - CUDA_VISIBLE_DEVICES: [0]\n"
     ]
    },
    {
     "data": {
      "application/vnd.jupyter.widget-view+json": {
       "model_id": "905f0609832b40518d6a69af204a92cd",
       "version_major": 2,
       "version_minor": 0
      },
      "text/plain": [
       "Predicting: |          | 0/? [00:00<?, ?it/s]"
      ]
     },
     "metadata": {},
     "output_type": "display_data"
    },
    {
     "name": "stderr",
     "output_type": "stream",
     "text": [
      "[I 2025-06-15 11:12:59,245] Trial 11 finished with value: inf and parameters: {'hidden_dim': 18, 'n_rnn_layers': 2, 'dropout': 0.09131733402734946, 'lr': 0.00011560203927866101, 'batch_size': 16}. Best is trial 0 with value: inf.\n",
      "ignoring user defined `output_chunk_length`. RNNModel uses a fixed `output_chunk_length=1`.\n",
      "GPU available: True (cuda), used: True\n",
      "TPU available: False, using: 0 TPU cores\n",
      "HPU available: False, using: 0 HPUs\n",
      "LOCAL_RANK: 0 - CUDA_VISIBLE_DEVICES: [0]\n",
      "\n",
      "  | Name            | Type             | Params | Mode \n",
      "-------------------------------------------------------------\n",
      "0 | criterion       | MSELoss          | 0      | train\n",
      "1 | train_criterion | MSELoss          | 0      | train\n",
      "2 | val_criterion   | MSELoss          | 0      | train\n",
      "3 | train_metrics   | MetricCollection | 0      | train\n",
      "4 | val_metrics     | MetricCollection | 0      | train\n",
      "5 | rnn             | LSTM             | 204 K  | train\n",
      "6 | V               | Linear           | 127    | train\n",
      "-------------------------------------------------------------\n",
      "204 K     Trainable params\n",
      "0         Non-trainable params\n",
      "204 K     Total params\n",
      "0.817     Total estimated model params size (MB)\n",
      "7         Modules in train mode\n",
      "0         Modules in eval mode\n"
     ]
    },
    {
     "data": {
      "application/vnd.jupyter.widget-view+json": {
       "model_id": "7a6428e0fdd5462f8c34caf40b93b021",
       "version_major": 2,
       "version_minor": 0
      },
      "text/plain": [
       "Training: |          | 0/? [00:00<?, ?it/s]"
      ]
     },
     "metadata": {},
     "output_type": "display_data"
    },
    {
     "name": "stderr",
     "output_type": "stream",
     "text": [
      "`Trainer.fit` stopped: `max_epochs=20` reached.\n",
      "GPU available: True (cuda), used: True\n",
      "TPU available: False, using: 0 TPU cores\n",
      "HPU available: False, using: 0 HPUs\n",
      "LOCAL_RANK: 0 - CUDA_VISIBLE_DEVICES: [0]\n"
     ]
    },
    {
     "data": {
      "application/vnd.jupyter.widget-view+json": {
       "model_id": "b2eac3adb86c43f38fad506ff708ff40",
       "version_major": 2,
       "version_minor": 0
      },
      "text/plain": [
       "Predicting: |          | 0/? [00:00<?, ?it/s]"
      ]
     },
     "metadata": {},
     "output_type": "display_data"
    },
    {
     "name": "stderr",
     "output_type": "stream",
     "text": [
      "[I 2025-06-15 11:13:02,955] Trial 12 finished with value: inf and parameters: {'hidden_dim': 126, 'n_rnn_layers': 2, 'dropout': 0.09529612667065687, 'lr': 0.009292212015807447, 'batch_size': 16}. Best is trial 0 with value: inf.\n",
      "ignoring user defined `output_chunk_length`. RNNModel uses a fixed `output_chunk_length=1`.\n",
      "GPU available: True (cuda), used: True\n",
      "TPU available: False, using: 0 TPU cores\n",
      "HPU available: False, using: 0 HPUs\n",
      "LOCAL_RANK: 0 - CUDA_VISIBLE_DEVICES: [0]\n",
      "\n",
      "  | Name            | Type             | Params | Mode \n",
      "-------------------------------------------------------------\n",
      "0 | criterion       | MSELoss          | 0      | train\n",
      "1 | train_criterion | MSELoss          | 0      | train\n",
      "2 | val_criterion   | MSELoss          | 0      | train\n",
      "3 | train_metrics   | MetricCollection | 0      | train\n",
      "4 | val_metrics     | MetricCollection | 0      | train\n",
      "5 | rnn             | LSTM             | 59.4 K | train\n",
      "6 | V               | Linear           | 67     | train\n",
      "-------------------------------------------------------------\n",
      "59.5 K    Trainable params\n",
      "0         Non-trainable params\n",
      "59.5 K    Total params\n",
      "0.238     Total estimated model params size (MB)\n",
      "7         Modules in train mode\n",
      "0         Modules in eval mode\n"
     ]
    },
    {
     "data": {
      "application/vnd.jupyter.widget-view+json": {
       "model_id": "0e1a25e5f0a24e2abaa5df8d625a9ca4",
       "version_major": 2,
       "version_minor": 0
      },
      "text/plain": [
       "Training: |          | 0/? [00:00<?, ?it/s]"
      ]
     },
     "metadata": {},
     "output_type": "display_data"
    },
    {
     "name": "stderr",
     "output_type": "stream",
     "text": [
      "`Trainer.fit` stopped: `max_epochs=20` reached.\n",
      "GPU available: True (cuda), used: True\n",
      "TPU available: False, using: 0 TPU cores\n",
      "HPU available: False, using: 0 HPUs\n",
      "LOCAL_RANK: 0 - CUDA_VISIBLE_DEVICES: [0]\n"
     ]
    },
    {
     "data": {
      "application/vnd.jupyter.widget-view+json": {
       "model_id": "6b2118e350124cda870095643db0875d",
       "version_major": 2,
       "version_minor": 0
      },
      "text/plain": [
       "Predicting: |          | 0/? [00:00<?, ?it/s]"
      ]
     },
     "metadata": {},
     "output_type": "display_data"
    },
    {
     "name": "stderr",
     "output_type": "stream",
     "text": [
      "[I 2025-06-15 11:13:05,571] Trial 13 finished with value: inf and parameters: {'hidden_dim': 66, 'n_rnn_layers': 2, 'dropout': 0.20468497526815105, 'lr': 0.0039062037013667546, 'batch_size': 16}. Best is trial 0 with value: inf.\n",
      "ignoring user defined `output_chunk_length`. RNNModel uses a fixed `output_chunk_length=1`.\n",
      "GPU available: True (cuda), used: True\n",
      "TPU available: False, using: 0 TPU cores\n",
      "HPU available: False, using: 0 HPUs\n",
      "LOCAL_RANK: 0 - CUDA_VISIBLE_DEVICES: [0]\n",
      "\n",
      "  | Name            | Type             | Params | Mode \n",
      "-------------------------------------------------------------\n",
      "0 | criterion       | MSELoss          | 0      | train\n",
      "1 | train_criterion | MSELoss          | 0      | train\n",
      "2 | val_criterion   | MSELoss          | 0      | train\n",
      "3 | train_metrics   | MetricCollection | 0      | train\n",
      "4 | val_metrics     | MetricCollection | 0      | train\n",
      "5 | rnn             | LSTM             | 49.1 K | train\n",
      "6 | V               | Linear           | 100    | train\n",
      "-------------------------------------------------------------\n",
      "49.2 K    Trainable params\n",
      "0         Non-trainable params\n",
      "49.2 K    Total params\n",
      "0.197     Total estimated model params size (MB)\n",
      "7         Modules in train mode\n",
      "0         Modules in eval mode\n"
     ]
    },
    {
     "data": {
      "application/vnd.jupyter.widget-view+json": {
       "model_id": "d7d9adea2ad844e4baede7d701c564ab",
       "version_major": 2,
       "version_minor": 0
      },
      "text/plain": [
       "Training: |          | 0/? [00:00<?, ?it/s]"
      ]
     },
     "metadata": {},
     "output_type": "display_data"
    },
    {
     "name": "stderr",
     "output_type": "stream",
     "text": [
      "`Trainer.fit` stopped: `max_epochs=20` reached.\n",
      "GPU available: True (cuda), used: True\n",
      "TPU available: False, using: 0 TPU cores\n",
      "HPU available: False, using: 0 HPUs\n",
      "LOCAL_RANK: 0 - CUDA_VISIBLE_DEVICES: [0]\n"
     ]
    },
    {
     "data": {
      "application/vnd.jupyter.widget-view+json": {
       "model_id": "a988be9bbc0b4a6e9a6940d9454bca42",
       "version_major": 2,
       "version_minor": 0
      },
      "text/plain": [
       "Predicting: |          | 0/? [00:00<?, ?it/s]"
      ]
     },
     "metadata": {},
     "output_type": "display_data"
    },
    {
     "name": "stderr",
     "output_type": "stream",
     "text": [
      "[I 2025-06-15 11:13:06,644] Trial 14 finished with value: inf and parameters: {'hidden_dim': 99, 'n_rnn_layers': 1, 'dropout': 0.04583568412221303, 'lr': 0.002458965486054906, 'batch_size': 32}. Best is trial 0 with value: inf.\n",
      "ignoring user defined `output_chunk_length`. RNNModel uses a fixed `output_chunk_length=1`.\n",
      "GPU available: True (cuda), used: True\n",
      "TPU available: False, using: 0 TPU cores\n",
      "HPU available: False, using: 0 HPUs\n",
      "LOCAL_RANK: 0 - CUDA_VISIBLE_DEVICES: [0]\n",
      "\n",
      "  | Name            | Type             | Params | Mode \n",
      "-------------------------------------------------------------\n",
      "0 | criterion       | MSELoss          | 0      | train\n",
      "1 | train_criterion | MSELoss          | 0      | train\n",
      "2 | val_criterion   | MSELoss          | 0      | train\n",
      "3 | train_metrics   | MetricCollection | 0      | train\n",
      "4 | val_metrics     | MetricCollection | 0      | train\n",
      "5 | rnn             | LSTM             | 8.4 K  | train\n",
      "6 | V               | Linear           | 36     | train\n",
      "-------------------------------------------------------------\n",
      "8.4 K     Trainable params\n",
      "0         Non-trainable params\n",
      "8.4 K     Total params\n",
      "0.034     Total estimated model params size (MB)\n",
      "7         Modules in train mode\n",
      "0         Modules in eval mode\n"
     ]
    },
    {
     "data": {
      "application/vnd.jupyter.widget-view+json": {
       "model_id": "838fd44dd02c4d26a1829a1f5b6f9b94",
       "version_major": 2,
       "version_minor": 0
      },
      "text/plain": [
       "Training: |          | 0/? [00:00<?, ?it/s]"
      ]
     },
     "metadata": {},
     "output_type": "display_data"
    },
    {
     "name": "stderr",
     "output_type": "stream",
     "text": [
      "`Trainer.fit` stopped: `max_epochs=20` reached.\n",
      "GPU available: True (cuda), used: True\n",
      "TPU available: False, using: 0 TPU cores\n",
      "HPU available: False, using: 0 HPUs\n",
      "LOCAL_RANK: 0 - CUDA_VISIBLE_DEVICES: [0]\n"
     ]
    },
    {
     "data": {
      "application/vnd.jupyter.widget-view+json": {
       "model_id": "4724dfad45ff41b685ad70d7eba83126",
       "version_major": 2,
       "version_minor": 0
      },
      "text/plain": [
       "Predicting: |          | 0/? [00:00<?, ?it/s]"
      ]
     },
     "metadata": {},
     "output_type": "display_data"
    },
    {
     "name": "stderr",
     "output_type": "stream",
     "text": [
      "[I 2025-06-15 11:13:07,304] Trial 15 finished with value: inf and parameters: {'hidden_dim': 35, 'n_rnn_layers': 1, 'dropout': 0.08523063926605656, 'lr': 0.005694832454680416, 'batch_size': 64}. Best is trial 0 with value: inf.\n",
      "ignoring user defined `output_chunk_length`. RNNModel uses a fixed `output_chunk_length=1`.\n",
      "GPU available: True (cuda), used: True\n",
      "TPU available: False, using: 0 TPU cores\n",
      "HPU available: False, using: 0 HPUs\n",
      "LOCAL_RANK: 0 - CUDA_VISIBLE_DEVICES: [0]\n",
      "\n",
      "  | Name            | Type             | Params | Mode \n",
      "-------------------------------------------------------------\n",
      "0 | criterion       | MSELoss          | 0      | train\n",
      "1 | train_criterion | MSELoss          | 0      | train\n",
      "2 | val_criterion   | MSELoss          | 0      | train\n",
      "3 | train_metrics   | MetricCollection | 0      | train\n",
      "4 | val_metrics     | MetricCollection | 0      | train\n",
      "5 | rnn             | LSTM             | 75.6 K | train\n",
      "6 | V               | Linear           | 76     | train\n",
      "-------------------------------------------------------------\n",
      "75.7 K    Trainable params\n",
      "0         Non-trainable params\n",
      "75.7 K    Total params\n",
      "0.303     Total estimated model params size (MB)\n",
      "7         Modules in train mode\n",
      "0         Modules in eval mode\n"
     ]
    },
    {
     "data": {
      "application/vnd.jupyter.widget-view+json": {
       "model_id": "632780526b044f97a3660573cd746d87",
       "version_major": 2,
       "version_minor": 0
      },
      "text/plain": [
       "Training: |          | 0/? [00:00<?, ?it/s]"
      ]
     },
     "metadata": {},
     "output_type": "display_data"
    },
    {
     "name": "stderr",
     "output_type": "stream",
     "text": [
      "`Trainer.fit` stopped: `max_epochs=20` reached.\n",
      "GPU available: True (cuda), used: True\n",
      "TPU available: False, using: 0 TPU cores\n",
      "HPU available: False, using: 0 HPUs\n",
      "LOCAL_RANK: 0 - CUDA_VISIBLE_DEVICES: [0]\n"
     ]
    },
    {
     "data": {
      "application/vnd.jupyter.widget-view+json": {
       "model_id": "9cef05c9820d454896ae4a1c2eb228eb",
       "version_major": 2,
       "version_minor": 0
      },
      "text/plain": [
       "Predicting: |          | 0/? [00:00<?, ?it/s]"
      ]
     },
     "metadata": {},
     "output_type": "display_data"
    },
    {
     "name": "stderr",
     "output_type": "stream",
     "text": [
      "[I 2025-06-15 11:13:10,014] Trial 16 finished with value: inf and parameters: {'hidden_dim': 75, 'n_rnn_layers': 2, 'dropout': 0.21451395067502993, 'lr': 0.0006337711639952191, 'batch_size': 16}. Best is trial 0 with value: inf.\n",
      "ignoring user defined `output_chunk_length`. RNNModel uses a fixed `output_chunk_length=1`.\n",
      "GPU available: True (cuda), used: True\n",
      "TPU available: False, using: 0 TPU cores\n",
      "HPU available: False, using: 0 HPUs\n",
      "LOCAL_RANK: 0 - CUDA_VISIBLE_DEVICES: [0]\n",
      "\n",
      "  | Name            | Type             | Params | Mode \n",
      "-------------------------------------------------------------\n",
      "0 | criterion       | MSELoss          | 0      | train\n",
      "1 | train_criterion | MSELoss          | 0      | train\n",
      "2 | val_criterion   | MSELoss          | 0      | train\n",
      "3 | train_metrics   | MetricCollection | 0      | train\n",
      "4 | val_metrics     | MetricCollection | 0      | train\n",
      "5 | rnn             | LSTM             | 61.4 K | train\n",
      "6 | V               | Linear           | 113    | train\n",
      "-------------------------------------------------------------\n",
      "61.5 K    Trainable params\n",
      "0         Non-trainable params\n",
      "61.5 K    Total params\n",
      "0.246     Total estimated model params size (MB)\n",
      "7         Modules in train mode\n",
      "0         Modules in eval mode\n"
     ]
    },
    {
     "data": {
      "application/vnd.jupyter.widget-view+json": {
       "model_id": "996040a543584ec488c2dcf564cedfd7",
       "version_major": 2,
       "version_minor": 0
      },
      "text/plain": [
       "Training: |          | 0/? [00:00<?, ?it/s]"
      ]
     },
     "metadata": {},
     "output_type": "display_data"
    },
    {
     "name": "stderr",
     "output_type": "stream",
     "text": [
      "`Trainer.fit` stopped: `max_epochs=20` reached.\n",
      "GPU available: True (cuda), used: True\n",
      "TPU available: False, using: 0 TPU cores\n",
      "HPU available: False, using: 0 HPUs\n",
      "LOCAL_RANK: 0 - CUDA_VISIBLE_DEVICES: [0]\n"
     ]
    },
    {
     "data": {
      "application/vnd.jupyter.widget-view+json": {
       "model_id": "b2ff0d3acfaf4d7995214324b911c7f8",
       "version_major": 2,
       "version_minor": 0
      },
      "text/plain": [
       "Predicting: |          | 0/? [00:00<?, ?it/s]"
      ]
     },
     "metadata": {},
     "output_type": "display_data"
    },
    {
     "name": "stderr",
     "output_type": "stream",
     "text": [
      "[I 2025-06-15 11:13:11,936] Trial 17 finished with value: inf and parameters: {'hidden_dim': 112, 'n_rnn_layers': 1, 'dropout': 0.12079171308839448, 'lr': 0.005665033272450026, 'batch_size': 16}. Best is trial 0 with value: inf.\n",
      "ignoring user defined `output_chunk_length`. RNNModel uses a fixed `output_chunk_length=1`.\n",
      "GPU available: True (cuda), used: True\n",
      "TPU available: False, using: 0 TPU cores\n",
      "HPU available: False, using: 0 HPUs\n",
      "LOCAL_RANK: 0 - CUDA_VISIBLE_DEVICES: [0]\n",
      "\n",
      "  | Name            | Type             | Params | Mode \n",
      "-------------------------------------------------------------\n",
      "0 | criterion       | MSELoss          | 0      | train\n",
      "1 | train_criterion | MSELoss          | 0      | train\n",
      "2 | val_criterion   | MSELoss          | 0      | train\n",
      "3 | train_metrics   | MetricCollection | 0      | train\n",
      "4 | val_metrics     | MetricCollection | 0      | train\n",
      "5 | rnn             | LSTM             | 14.9 K | train\n",
      "6 | V               | Linear           | 32     | train\n",
      "-------------------------------------------------------------\n",
      "14.9 K    Trainable params\n",
      "0         Non-trainable params\n",
      "14.9 K    Total params\n",
      "0.060     Total estimated model params size (MB)\n",
      "7         Modules in train mode\n",
      "0         Modules in eval mode\n"
     ]
    },
    {
     "data": {
      "application/vnd.jupyter.widget-view+json": {
       "model_id": "7777cfbaa5c4404296d3910edb2fd116",
       "version_major": 2,
       "version_minor": 0
      },
      "text/plain": [
       "Training: |          | 0/? [00:00<?, ?it/s]"
      ]
     },
     "metadata": {},
     "output_type": "display_data"
    },
    {
     "name": "stderr",
     "output_type": "stream",
     "text": [
      "`Trainer.fit` stopped: `max_epochs=20` reached.\n",
      "GPU available: True (cuda), used: True\n",
      "TPU available: False, using: 0 TPU cores\n",
      "HPU available: False, using: 0 HPUs\n",
      "LOCAL_RANK: 0 - CUDA_VISIBLE_DEVICES: [0]\n"
     ]
    },
    {
     "data": {
      "application/vnd.jupyter.widget-view+json": {
       "model_id": "06471525f9ed4d54a9b29a088ff082ec",
       "version_major": 2,
       "version_minor": 0
      },
      "text/plain": [
       "Predicting: |          | 0/? [00:00<?, ?it/s]"
      ]
     },
     "metadata": {},
     "output_type": "display_data"
    },
    {
     "name": "stderr",
     "output_type": "stream",
     "text": [
      "[I 2025-06-15 11:13:12,805] Trial 18 finished with value: inf and parameters: {'hidden_dim': 31, 'n_rnn_layers': 2, 'dropout': 0.05380357290988198, 'lr': 0.002851507546999549, 'batch_size': 64}. Best is trial 0 with value: inf.\n",
      "ignoring user defined `output_chunk_length`. RNNModel uses a fixed `output_chunk_length=1`.\n",
      "GPU available: True (cuda), used: True\n",
      "TPU available: False, using: 0 TPU cores\n",
      "HPU available: False, using: 0 HPUs\n",
      "LOCAL_RANK: 0 - CUDA_VISIBLE_DEVICES: [0]\n",
      "\n",
      "  | Name            | Type             | Params | Mode \n",
      "-------------------------------------------------------------\n",
      "0 | criterion       | MSELoss          | 0      | train\n",
      "1 | train_criterion | MSELoss          | 0      | train\n",
      "2 | val_criterion   | MSELoss          | 0      | train\n",
      "3 | train_metrics   | MetricCollection | 0      | train\n",
      "4 | val_metrics     | MetricCollection | 0      | train\n",
      "5 | rnn             | LSTM             | 22.8 K | train\n",
      "6 | V               | Linear           | 65     | train\n",
      "-------------------------------------------------------------\n",
      "22.8 K    Trainable params\n",
      "0         Non-trainable params\n",
      "22.8 K    Total params\n",
      "0.091     Total estimated model params size (MB)\n",
      "7         Modules in train mode\n",
      "0         Modules in eval mode\n"
     ]
    },
    {
     "data": {
      "application/vnd.jupyter.widget-view+json": {
       "model_id": "867e4fbe1e304947b8dbff7723691e18",
       "version_major": 2,
       "version_minor": 0
      },
      "text/plain": [
       "Training: |          | 0/? [00:00<?, ?it/s]"
      ]
     },
     "metadata": {},
     "output_type": "display_data"
    },
    {
     "name": "stderr",
     "output_type": "stream",
     "text": [
      "`Trainer.fit` stopped: `max_epochs=20` reached.\n",
      "GPU available: True (cuda), used: True\n",
      "TPU available: False, using: 0 TPU cores\n",
      "HPU available: False, using: 0 HPUs\n",
      "LOCAL_RANK: 0 - CUDA_VISIBLE_DEVICES: [0]\n"
     ]
    },
    {
     "data": {
      "application/vnd.jupyter.widget-view+json": {
       "model_id": "087717a80c0c4b839e937fe9c94da26b",
       "version_major": 2,
       "version_minor": 0
      },
      "text/plain": [
       "Predicting: |          | 0/? [00:00<?, ?it/s]"
      ]
     },
     "metadata": {},
     "output_type": "display_data"
    },
    {
     "name": "stderr",
     "output_type": "stream",
     "text": [
      "[I 2025-06-15 11:13:13,933] Trial 19 finished with value: inf and parameters: {'hidden_dim': 64, 'n_rnn_layers': 1, 'dropout': 0.49065654337914677, 'lr': 0.00136874340170028, 'batch_size': 32}. Best is trial 0 with value: inf.\n",
      "[I 2025-06-15 11:13:13,934] A new study created in memory with name: no-name-062c85b2-f7b9-426a-998c-259fc0ec1843\n",
      "ignoring user defined `output_chunk_length`. RNNModel uses a fixed `output_chunk_length=1`.\n",
      "GPU available: True (cuda), used: True\n",
      "TPU available: False, using: 0 TPU cores\n",
      "HPU available: False, using: 0 HPUs\n",
      "LOCAL_RANK: 0 - CUDA_VISIBLE_DEVICES: [0]\n",
      "\n",
      "  | Name            | Type             | Params | Mode \n",
      "-------------------------------------------------------------\n",
      "0 | criterion       | MSELoss          | 0      | train\n",
      "1 | train_criterion | MSELoss          | 0      | train\n",
      "2 | val_criterion   | MSELoss          | 0      | train\n",
      "3 | train_metrics   | MetricCollection | 0      | train\n",
      "4 | val_metrics     | MetricCollection | 0      | train\n",
      "5 | rnn             | GRU              | 55.4 K | train\n",
      "6 | V               | Linear           | 125    | train\n",
      "-------------------------------------------------------------\n",
      "55.6 K    Trainable params\n",
      "0         Non-trainable params\n",
      "55.6 K    Total params\n",
      "0.222     Total estimated model params size (MB)\n",
      "7         Modules in train mode\n",
      "0         Modules in eval mode\n"
     ]
    },
    {
     "data": {
      "application/vnd.jupyter.widget-view+json": {
       "model_id": "c78cda3e0da342aa9176406eca0aa358",
       "version_major": 2,
       "version_minor": 0
      },
      "text/plain": [
       "Training: |          | 0/? [00:00<?, ?it/s]"
      ]
     },
     "metadata": {},
     "output_type": "display_data"
    },
    {
     "name": "stderr",
     "output_type": "stream",
     "text": [
      "`Trainer.fit` stopped: `max_epochs=20` reached.\n",
      "GPU available: True (cuda), used: True\n",
      "TPU available: False, using: 0 TPU cores\n",
      "HPU available: False, using: 0 HPUs\n",
      "LOCAL_RANK: 0 - CUDA_VISIBLE_DEVICES: [0]\n"
     ]
    },
    {
     "data": {
      "application/vnd.jupyter.widget-view+json": {
       "model_id": "71df9b306c53424db63b0e7323c5c901",
       "version_major": 2,
       "version_minor": 0
      },
      "text/plain": [
       "Predicting: |          | 0/? [00:00<?, ?it/s]"
      ]
     },
     "metadata": {},
     "output_type": "display_data"
    },
    {
     "name": "stderr",
     "output_type": "stream",
     "text": [
      "[I 2025-06-15 11:13:14,866] Trial 0 finished with value: inf and parameters: {'hidden_dim': 124, 'n_rnn_layers': 1, 'dropout': 0.24862425294619273, 'lr': 0.0003997206819121809, 'batch_size': 64}. Best is trial 0 with value: inf.\n",
      "ignoring user defined `output_chunk_length`. RNNModel uses a fixed `output_chunk_length=1`.\n",
      "GPU available: True (cuda), used: True\n",
      "TPU available: False, using: 0 TPU cores\n",
      "HPU available: False, using: 0 HPUs\n",
      "LOCAL_RANK: 0 - CUDA_VISIBLE_DEVICES: [0]\n",
      "\n",
      "  | Name            | Type             | Params | Mode \n",
      "-------------------------------------------------------------\n",
      "0 | criterion       | MSELoss          | 0      | train\n",
      "1 | train_criterion | MSELoss          | 0      | train\n",
      "2 | val_criterion   | MSELoss          | 0      | train\n",
      "3 | train_metrics   | MetricCollection | 0      | train\n",
      "4 | val_metrics     | MetricCollection | 0      | train\n",
      "5 | rnn             | GRU              | 21.0 K | train\n",
      "6 | V               | Linear           | 73     | train\n",
      "-------------------------------------------------------------\n",
      "21.0 K    Trainable params\n",
      "0         Non-trainable params\n",
      "21.0 K    Total params\n",
      "0.084     Total estimated model params size (MB)\n",
      "7         Modules in train mode\n",
      "0         Modules in eval mode\n"
     ]
    },
    {
     "data": {
      "application/vnd.jupyter.widget-view+json": {
       "model_id": "334ad5cec7664e0bb5bab88ab9e55a58",
       "version_major": 2,
       "version_minor": 0
      },
      "text/plain": [
       "Training: |          | 0/? [00:00<?, ?it/s]"
      ]
     },
     "metadata": {},
     "output_type": "display_data"
    },
    {
     "name": "stderr",
     "output_type": "stream",
     "text": [
      "`Trainer.fit` stopped: `max_epochs=20` reached.\n",
      "GPU available: True (cuda), used: True\n",
      "TPU available: False, using: 0 TPU cores\n",
      "HPU available: False, using: 0 HPUs\n",
      "LOCAL_RANK: 0 - CUDA_VISIBLE_DEVICES: [0]\n"
     ]
    },
    {
     "data": {
      "application/vnd.jupyter.widget-view+json": {
       "model_id": "c47279fa269a4eed80c403576a4939a1",
       "version_major": 2,
       "version_minor": 0
      },
      "text/plain": [
       "Predicting: |          | 0/? [00:00<?, ?it/s]"
      ]
     },
     "metadata": {},
     "output_type": "display_data"
    },
    {
     "name": "stderr",
     "output_type": "stream",
     "text": [
      "[I 2025-06-15 11:13:15,610] Trial 1 finished with value: inf and parameters: {'hidden_dim': 72, 'n_rnn_layers': 1, 'dropout': 0.13932323211830572, 'lr': 0.0065543823435462835, 'batch_size': 64}. Best is trial 0 with value: inf.\n",
      "ignoring user defined `output_chunk_length`. RNNModel uses a fixed `output_chunk_length=1`.\n",
      "GPU available: True (cuda), used: True\n",
      "TPU available: False, using: 0 TPU cores\n",
      "HPU available: False, using: 0 HPUs\n",
      "LOCAL_RANK: 0 - CUDA_VISIBLE_DEVICES: [0]\n",
      "\n",
      "  | Name            | Type             | Params | Mode \n",
      "-------------------------------------------------------------\n",
      "0 | criterion       | MSELoss          | 0      | train\n",
      "1 | train_criterion | MSELoss          | 0      | train\n",
      "2 | val_criterion   | MSELoss          | 0      | train\n",
      "3 | train_metrics   | MetricCollection | 0      | train\n",
      "4 | val_metrics     | MetricCollection | 0      | train\n",
      "5 | rnn             | GRU              | 57.9 K | train\n",
      "6 | V               | Linear           | 128    | train\n",
      "-------------------------------------------------------------\n",
      "58.0 K    Trainable params\n",
      "0         Non-trainable params\n",
      "58.0 K    Total params\n",
      "0.232     Total estimated model params size (MB)\n",
      "7         Modules in train mode\n",
      "0         Modules in eval mode\n"
     ]
    },
    {
     "data": {
      "application/vnd.jupyter.widget-view+json": {
       "model_id": "f7b346ad8cc048b79d2411c3d78f42c3",
       "version_major": 2,
       "version_minor": 0
      },
      "text/plain": [
       "Training: |          | 0/? [00:00<?, ?it/s]"
      ]
     },
     "metadata": {},
     "output_type": "display_data"
    },
    {
     "name": "stderr",
     "output_type": "stream",
     "text": [
      "`Trainer.fit` stopped: `max_epochs=20` reached.\n",
      "GPU available: True (cuda), used: True\n",
      "TPU available: False, using: 0 TPU cores\n",
      "HPU available: False, using: 0 HPUs\n",
      "LOCAL_RANK: 0 - CUDA_VISIBLE_DEVICES: [0]\n"
     ]
    },
    {
     "data": {
      "application/vnd.jupyter.widget-view+json": {
       "model_id": "cda332b07c6e4f8ebf0b8aa901ee169f",
       "version_major": 2,
       "version_minor": 0
      },
      "text/plain": [
       "Predicting: |          | 0/? [00:00<?, ?it/s]"
      ]
     },
     "metadata": {},
     "output_type": "display_data"
    },
    {
     "name": "stderr",
     "output_type": "stream",
     "text": [
      "[I 2025-06-15 11:13:16,798] Trial 2 finished with value: inf and parameters: {'hidden_dim': 127, 'n_rnn_layers': 1, 'dropout': 0.3360677737029393, 'lr': 0.003336101309469784, 'batch_size': 32}. Best is trial 0 with value: inf.\n",
      "ignoring user defined `output_chunk_length`. RNNModel uses a fixed `output_chunk_length=1`.\n",
      "GPU available: True (cuda), used: True\n",
      "TPU available: False, using: 0 TPU cores\n",
      "HPU available: False, using: 0 HPUs\n",
      "LOCAL_RANK: 0 - CUDA_VISIBLE_DEVICES: [0]\n",
      "\n",
      "  | Name            | Type             | Params | Mode \n",
      "-------------------------------------------------------------\n",
      "0 | criterion       | MSELoss          | 0      | train\n",
      "1 | train_criterion | MSELoss          | 0      | train\n",
      "2 | val_criterion   | MSELoss          | 0      | train\n",
      "3 | train_metrics   | MetricCollection | 0      | train\n",
      "4 | val_metrics     | MetricCollection | 0      | train\n",
      "5 | rnn             | GRU              | 75.2 K | train\n",
      "6 | V               | Linear           | 88     | train\n",
      "-------------------------------------------------------------\n",
      "75.3 K    Trainable params\n",
      "0         Non-trainable params\n",
      "75.3 K    Total params\n",
      "0.301     Total estimated model params size (MB)\n",
      "7         Modules in train mode\n",
      "0         Modules in eval mode\n"
     ]
    },
    {
     "data": {
      "application/vnd.jupyter.widget-view+json": {
       "model_id": "7015fe826808407d824661f3de3a73c7",
       "version_major": 2,
       "version_minor": 0
      },
      "text/plain": [
       "Training: |          | 0/? [00:00<?, ?it/s]"
      ]
     },
     "metadata": {},
     "output_type": "display_data"
    },
    {
     "name": "stderr",
     "output_type": "stream",
     "text": [
      "`Trainer.fit` stopped: `max_epochs=20` reached.\n",
      "GPU available: True (cuda), used: True\n",
      "TPU available: False, using: 0 TPU cores\n",
      "HPU available: False, using: 0 HPUs\n",
      "LOCAL_RANK: 0 - CUDA_VISIBLE_DEVICES: [0]\n"
     ]
    },
    {
     "data": {
      "application/vnd.jupyter.widget-view+json": {
       "model_id": "92c2e5faf58c498cbd0355ae6b54f6fc",
       "version_major": 2,
       "version_minor": 0
      },
      "text/plain": [
       "Predicting: |          | 0/? [00:00<?, ?it/s]"
      ]
     },
     "metadata": {},
     "output_type": "display_data"
    },
    {
     "name": "stderr",
     "output_type": "stream",
     "text": [
      "[I 2025-06-15 11:13:19,464] Trial 3 finished with value: inf and parameters: {'hidden_dim': 87, 'n_rnn_layers': 2, 'dropout': 0.26788734203737924, 'lr': 0.0001515582353959763, 'batch_size': 16}. Best is trial 0 with value: inf.\n",
      "ignoring user defined `output_chunk_length`. RNNModel uses a fixed `output_chunk_length=1`.\n",
      "GPU available: True (cuda), used: True\n",
      "TPU available: False, using: 0 TPU cores\n",
      "HPU available: False, using: 0 HPUs\n",
      "LOCAL_RANK: 0 - CUDA_VISIBLE_DEVICES: [0]\n",
      "\n",
      "  | Name            | Type             | Params | Mode \n",
      "-------------------------------------------------------------\n",
      "0 | criterion       | MSELoss          | 0      | train\n",
      "1 | train_criterion | MSELoss          | 0      | train\n",
      "2 | val_criterion   | MSELoss          | 0      | train\n",
      "3 | train_metrics   | MetricCollection | 0      | train\n",
      "4 | val_metrics     | MetricCollection | 0      | train\n",
      "5 | rnn             | GRU              | 5.2 K  | train\n",
      "6 | V               | Linear           | 21     | train\n",
      "-------------------------------------------------------------\n",
      "5.2 K     Trainable params\n",
      "0         Non-trainable params\n",
      "5.2 K     Total params\n",
      "0.021     Total estimated model params size (MB)\n",
      "7         Modules in train mode\n",
      "0         Modules in eval mode\n"
     ]
    },
    {
     "data": {
      "application/vnd.jupyter.widget-view+json": {
       "model_id": "13757b4d3b8c4cc3ab178f4749ab8139",
       "version_major": 2,
       "version_minor": 0
      },
      "text/plain": [
       "Training: |          | 0/? [00:00<?, ?it/s]"
      ]
     },
     "metadata": {},
     "output_type": "display_data"
    },
    {
     "name": "stderr",
     "output_type": "stream",
     "text": [
      "`Trainer.fit` stopped: `max_epochs=20` reached.\n",
      "GPU available: True (cuda), used: True\n",
      "TPU available: False, using: 0 TPU cores\n",
      "HPU available: False, using: 0 HPUs\n",
      "LOCAL_RANK: 0 - CUDA_VISIBLE_DEVICES: [0]\n"
     ]
    },
    {
     "data": {
      "application/vnd.jupyter.widget-view+json": {
       "model_id": "098993312f62443bb15259bda756bd85",
       "version_major": 2,
       "version_minor": 0
      },
      "text/plain": [
       "Predicting: |          | 0/? [00:00<?, ?it/s]"
      ]
     },
     "metadata": {},
     "output_type": "display_data"
    },
    {
     "name": "stderr",
     "output_type": "stream",
     "text": [
      "[I 2025-06-15 11:13:20,340] Trial 4 finished with value: inf and parameters: {'hidden_dim': 20, 'n_rnn_layers': 2, 'dropout': 0.3387821809211412, 'lr': 0.00010793832090127293, 'batch_size': 64}. Best is trial 0 with value: inf.\n",
      "ignoring user defined `output_chunk_length`. RNNModel uses a fixed `output_chunk_length=1`.\n",
      "GPU available: True (cuda), used: True\n",
      "TPU available: False, using: 0 TPU cores\n",
      "HPU available: False, using: 0 HPUs\n",
      "LOCAL_RANK: 0 - CUDA_VISIBLE_DEVICES: [0]\n",
      "\n",
      "  | Name            | Type             | Params | Mode \n",
      "-------------------------------------------------------------\n",
      "0 | criterion       | MSELoss          | 0      | train\n",
      "1 | train_criterion | MSELoss          | 0      | train\n",
      "2 | val_criterion   | MSELoss          | 0      | train\n",
      "3 | train_metrics   | MetricCollection | 0      | train\n",
      "4 | val_metrics     | MetricCollection | 0      | train\n",
      "5 | rnn             | GRU              | 21.4 K | train\n",
      "6 | V               | Linear           | 36     | train\n",
      "-------------------------------------------------------------\n",
      "21.5 K    Trainable params\n",
      "0         Non-trainable params\n",
      "21.5 K    Total params\n",
      "0.086     Total estimated model params size (MB)\n",
      "7         Modules in train mode\n",
      "0         Modules in eval mode\n"
     ]
    },
    {
     "data": {
      "application/vnd.jupyter.widget-view+json": {
       "model_id": "7caadd1f41e14a5dbe27a9f4c7b014a0",
       "version_major": 2,
       "version_minor": 0
      },
      "text/plain": [
       "Training: |          | 0/? [00:00<?, ?it/s]"
      ]
     },
     "metadata": {},
     "output_type": "display_data"
    },
    {
     "name": "stderr",
     "output_type": "stream",
     "text": [
      "`Trainer.fit` stopped: `max_epochs=20` reached.\n",
      "GPU available: True (cuda), used: True\n",
      "TPU available: False, using: 0 TPU cores\n",
      "HPU available: False, using: 0 HPUs\n",
      "LOCAL_RANK: 0 - CUDA_VISIBLE_DEVICES: [0]\n"
     ]
    },
    {
     "data": {
      "application/vnd.jupyter.widget-view+json": {
       "model_id": "9c40c93dd6eb434ca9ace1fccc9b6c33",
       "version_major": 2,
       "version_minor": 0
      },
      "text/plain": [
       "Predicting: |          | 0/? [00:00<?, ?it/s]"
      ]
     },
     "metadata": {},
     "output_type": "display_data"
    },
    {
     "name": "stderr",
     "output_type": "stream",
     "text": [
      "[I 2025-06-15 11:13:21,885] Trial 5 finished with value: inf and parameters: {'hidden_dim': 35, 'n_rnn_layers': 3, 'dropout': 0.1933676731502687, 'lr': 0.0074723976893329375, 'batch_size': 32}. Best is trial 0 with value: inf.\n",
      "ignoring user defined `output_chunk_length`. RNNModel uses a fixed `output_chunk_length=1`.\n",
      "GPU available: True (cuda), used: True\n",
      "TPU available: False, using: 0 TPU cores\n",
      "HPU available: False, using: 0 HPUs\n",
      "LOCAL_RANK: 0 - CUDA_VISIBLE_DEVICES: [0]\n",
      "\n",
      "  | Name            | Type             | Params | Mode \n",
      "-------------------------------------------------------------\n",
      "0 | criterion       | MSELoss          | 0      | train\n",
      "1 | train_criterion | MSELoss          | 0      | train\n",
      "2 | val_criterion   | MSELoss          | 0      | train\n",
      "3 | train_metrics   | MetricCollection | 0      | train\n",
      "4 | val_metrics     | MetricCollection | 0      | train\n",
      "5 | rnn             | GRU              | 226 K  | train\n",
      "6 | V               | Linear           | 121    | train\n",
      "-------------------------------------------------------------\n",
      "226 K     Trainable params\n",
      "0         Non-trainable params\n",
      "226 K     Total params\n",
      "0.906     Total estimated model params size (MB)\n",
      "7         Modules in train mode\n",
      "0         Modules in eval mode\n"
     ]
    },
    {
     "data": {
      "application/vnd.jupyter.widget-view+json": {
       "model_id": "5667847e32f34385b6b8e0b5d4768f3a",
       "version_major": 2,
       "version_minor": 0
      },
      "text/plain": [
       "Training: |          | 0/? [00:00<?, ?it/s]"
      ]
     },
     "metadata": {},
     "output_type": "display_data"
    },
    {
     "name": "stderr",
     "output_type": "stream",
     "text": [
      "`Trainer.fit` stopped: `max_epochs=20` reached.\n",
      "GPU available: True (cuda), used: True\n",
      "TPU available: False, using: 0 TPU cores\n",
      "HPU available: False, using: 0 HPUs\n",
      "LOCAL_RANK: 0 - CUDA_VISIBLE_DEVICES: [0]\n"
     ]
    },
    {
     "data": {
      "application/vnd.jupyter.widget-view+json": {
       "model_id": "cca4157066f44a57bba0ce7f4a257294",
       "version_major": 2,
       "version_minor": 0
      },
      "text/plain": [
       "Predicting: |          | 0/? [00:00<?, ?it/s]"
      ]
     },
     "metadata": {},
     "output_type": "display_data"
    },
    {
     "name": "stderr",
     "output_type": "stream",
     "text": [
      "[I 2025-06-15 11:13:25,614] Trial 6 finished with value: inf and parameters: {'hidden_dim': 120, 'n_rnn_layers': 3, 'dropout': 0.1289708138575778, 'lr': 0.002089142634385646, 'batch_size': 16}. Best is trial 0 with value: inf.\n",
      "ignoring user defined `output_chunk_length`. RNNModel uses a fixed `output_chunk_length=1`.\n",
      "GPU available: True (cuda), used: True\n",
      "TPU available: False, using: 0 TPU cores\n",
      "HPU available: False, using: 0 HPUs\n",
      "LOCAL_RANK: 0 - CUDA_VISIBLE_DEVICES: [0]\n",
      "\n",
      "  | Name            | Type             | Params | Mode \n",
      "-------------------------------------------------------------\n",
      "0 | criterion       | MSELoss          | 0      | train\n",
      "1 | train_criterion | MSELoss          | 0      | train\n",
      "2 | val_criterion   | MSELoss          | 0      | train\n",
      "3 | train_metrics   | MetricCollection | 0      | train\n",
      "4 | val_metrics     | MetricCollection | 0      | train\n",
      "5 | rnn             | GRU              | 8.8 K  | train\n",
      "6 | V               | Linear           | 44     | train\n",
      "-------------------------------------------------------------\n",
      "8.8 K     Trainable params\n",
      "0         Non-trainable params\n",
      "8.8 K     Total params\n",
      "0.035     Total estimated model params size (MB)\n",
      "7         Modules in train mode\n",
      "0         Modules in eval mode\n"
     ]
    },
    {
     "data": {
      "application/vnd.jupyter.widget-view+json": {
       "model_id": "2cadd047f6f544b9bc342c89f0c8537e",
       "version_major": 2,
       "version_minor": 0
      },
      "text/plain": [
       "Training: |          | 0/? [00:00<?, ?it/s]"
      ]
     },
     "metadata": {},
     "output_type": "display_data"
    },
    {
     "name": "stderr",
     "output_type": "stream",
     "text": [
      "`Trainer.fit` stopped: `max_epochs=20` reached.\n",
      "GPU available: True (cuda), used: True\n",
      "TPU available: False, using: 0 TPU cores\n",
      "HPU available: False, using: 0 HPUs\n",
      "LOCAL_RANK: 0 - CUDA_VISIBLE_DEVICES: [0]\n"
     ]
    },
    {
     "data": {
      "application/vnd.jupyter.widget-view+json": {
       "model_id": "e7bafec92e4e479f97d18b5e8b187e4f",
       "version_major": 2,
       "version_minor": 0
      },
      "text/plain": [
       "Predicting: |          | 0/? [00:00<?, ?it/s]"
      ]
     },
     "metadata": {},
     "output_type": "display_data"
    },
    {
     "name": "stderr",
     "output_type": "stream",
     "text": [
      "[I 2025-06-15 11:13:27,317] Trial 7 finished with value: inf and parameters: {'hidden_dim': 43, 'n_rnn_layers': 1, 'dropout': 0.4486078789766634, 'lr': 0.006321732490144022, 'batch_size': 16}. Best is trial 0 with value: inf.\n",
      "ignoring user defined `output_chunk_length`. RNNModel uses a fixed `output_chunk_length=1`.\n",
      "GPU available: True (cuda), used: True\n",
      "TPU available: False, using: 0 TPU cores\n",
      "HPU available: False, using: 0 HPUs\n",
      "LOCAL_RANK: 0 - CUDA_VISIBLE_DEVICES: [0]\n",
      "\n",
      "  | Name            | Type             | Params | Mode \n",
      "-------------------------------------------------------------\n",
      "0 | criterion       | MSELoss          | 0      | train\n",
      "1 | train_criterion | MSELoss          | 0      | train\n",
      "2 | val_criterion   | MSELoss          | 0      | train\n",
      "3 | train_metrics   | MetricCollection | 0      | train\n",
      "4 | val_metrics     | MetricCollection | 0      | train\n",
      "5 | rnn             | GRU              | 152 K  | train\n",
      "6 | V               | Linear           | 99     | train\n",
      "-------------------------------------------------------------\n",
      "152 K     Trainable params\n",
      "0         Non-trainable params\n",
      "152 K     Total params\n",
      "0.611     Total estimated model params size (MB)\n",
      "7         Modules in train mode\n",
      "0         Modules in eval mode\n"
     ]
    },
    {
     "data": {
      "application/vnd.jupyter.widget-view+json": {
       "model_id": "df3ea03d1fb84739b9e3c149b641f34c",
       "version_major": 2,
       "version_minor": 0
      },
      "text/plain": [
       "Training: |          | 0/? [00:00<?, ?it/s]"
      ]
     },
     "metadata": {},
     "output_type": "display_data"
    },
    {
     "name": "stderr",
     "output_type": "stream",
     "text": [
      "`Trainer.fit` stopped: `max_epochs=20` reached.\n",
      "GPU available: True (cuda), used: True\n",
      "TPU available: False, using: 0 TPU cores\n",
      "HPU available: False, using: 0 HPUs\n",
      "LOCAL_RANK: 0 - CUDA_VISIBLE_DEVICES: [0]\n"
     ]
    },
    {
     "data": {
      "application/vnd.jupyter.widget-view+json": {
       "model_id": "b3e8ab57d32b45639ca002e0d6149919",
       "version_major": 2,
       "version_minor": 0
      },
      "text/plain": [
       "Predicting: |          | 0/? [00:00<?, ?it/s]"
      ]
     },
     "metadata": {},
     "output_type": "display_data"
    },
    {
     "name": "stderr",
     "output_type": "stream",
     "text": [
      "[I 2025-06-15 11:13:30,612] Trial 8 finished with value: inf and parameters: {'hidden_dim': 98, 'n_rnn_layers': 3, 'dropout': 0.44354321213255865, 'lr': 0.003628700225554068, 'batch_size': 16}. Best is trial 0 with value: inf.\n",
      "ignoring user defined `output_chunk_length`. RNNModel uses a fixed `output_chunk_length=1`.\n",
      "GPU available: True (cuda), used: True\n",
      "TPU available: False, using: 0 TPU cores\n",
      "HPU available: False, using: 0 HPUs\n",
      "LOCAL_RANK: 0 - CUDA_VISIBLE_DEVICES: [0]\n",
      "\n",
      "  | Name            | Type             | Params | Mode \n",
      "-------------------------------------------------------------\n",
      "0 | criterion       | MSELoss          | 0      | train\n",
      "1 | train_criterion | MSELoss          | 0      | train\n",
      "2 | val_criterion   | MSELoss          | 0      | train\n",
      "3 | train_metrics   | MetricCollection | 0      | train\n",
      "4 | val_metrics     | MetricCollection | 0      | train\n",
      "5 | rnn             | GRU              | 132 K  | train\n",
      "6 | V               | Linear           | 118    | train\n",
      "-------------------------------------------------------------\n",
      "132 K     Trainable params\n",
      "0         Non-trainable params\n",
      "132 K     Total params\n",
      "0.531     Total estimated model params size (MB)\n",
      "7         Modules in train mode\n",
      "0         Modules in eval mode\n"
     ]
    },
    {
     "data": {
      "application/vnd.jupyter.widget-view+json": {
       "model_id": "b8575fa6016545edabfaddb633b3efcf",
       "version_major": 2,
       "version_minor": 0
      },
      "text/plain": [
       "Training: |          | 0/? [00:00<?, ?it/s]"
      ]
     },
     "metadata": {},
     "output_type": "display_data"
    },
    {
     "name": "stderr",
     "output_type": "stream",
     "text": [
      "`Trainer.fit` stopped: `max_epochs=20` reached.\n",
      "GPU available: True (cuda), used: True\n",
      "TPU available: False, using: 0 TPU cores\n",
      "HPU available: False, using: 0 HPUs\n",
      "LOCAL_RANK: 0 - CUDA_VISIBLE_DEVICES: [0]\n"
     ]
    },
    {
     "data": {
      "application/vnd.jupyter.widget-view+json": {
       "model_id": "57df5e6bff8b4dfa8c9642d330bfd5dd",
       "version_major": 2,
       "version_minor": 0
      },
      "text/plain": [
       "Predicting: |          | 0/? [00:00<?, ?it/s]"
      ]
     },
     "metadata": {},
     "output_type": "display_data"
    },
    {
     "name": "stderr",
     "output_type": "stream",
     "text": [
      "[I 2025-06-15 11:13:33,498] Trial 9 finished with value: inf and parameters: {'hidden_dim': 117, 'n_rnn_layers': 2, 'dropout': 0.004598525808314824, 'lr': 0.00015956700210656633, 'batch_size': 16}. Best is trial 0 with value: inf.\n",
      "ignoring user defined `output_chunk_length`. RNNModel uses a fixed `output_chunk_length=1`.\n",
      "GPU available: True (cuda), used: True\n",
      "TPU available: False, using: 0 TPU cores\n",
      "HPU available: False, using: 0 HPUs\n",
      "LOCAL_RANK: 0 - CUDA_VISIBLE_DEVICES: [0]\n",
      "\n",
      "  | Name            | Type             | Params | Mode \n",
      "-------------------------------------------------------------\n",
      "0 | criterion       | MSELoss          | 0      | train\n",
      "1 | train_criterion | MSELoss          | 0      | train\n",
      "2 | val_criterion   | MSELoss          | 0      | train\n",
      "3 | train_metrics   | MetricCollection | 0      | train\n",
      "4 | val_metrics     | MetricCollection | 0      | train\n",
      "5 | rnn             | GRU              | 16.6 K | train\n",
      "6 | V               | Linear           | 64     | train\n",
      "-------------------------------------------------------------\n",
      "16.7 K    Trainable params\n",
      "0         Non-trainable params\n",
      "16.7 K    Total params\n",
      "0.067     Total estimated model params size (MB)\n",
      "7         Modules in train mode\n",
      "0         Modules in eval mode\n"
     ]
    },
    {
     "data": {
      "application/vnd.jupyter.widget-view+json": {
       "model_id": "6ea602c86a5f4cbb96a553aea950813c",
       "version_major": 2,
       "version_minor": 0
      },
      "text/plain": [
       "Training: |          | 0/? [00:00<?, ?it/s]"
      ]
     },
     "metadata": {},
     "output_type": "display_data"
    },
    {
     "name": "stderr",
     "output_type": "stream",
     "text": [
      "`Trainer.fit` stopped: `max_epochs=20` reached.\n",
      "GPU available: True (cuda), used: True\n",
      "TPU available: False, using: 0 TPU cores\n",
      "HPU available: False, using: 0 HPUs\n",
      "LOCAL_RANK: 0 - CUDA_VISIBLE_DEVICES: [0]\n"
     ]
    },
    {
     "data": {
      "application/vnd.jupyter.widget-view+json": {
       "model_id": "145c9ba2a5cf4cd7aab53a588fa2e8ad",
       "version_major": 2,
       "version_minor": 0
      },
      "text/plain": [
       "Predicting: |          | 0/? [00:00<?, ?it/s]"
      ]
     },
     "metadata": {},
     "output_type": "display_data"
    },
    {
     "name": "stderr",
     "output_type": "stream",
     "text": [
      "[I 2025-06-15 11:13:34,181] Trial 10 finished with value: inf and parameters: {'hidden_dim': 63, 'n_rnn_layers': 1, 'dropout': 0.04496314831805567, 'lr': 0.000466607000412674, 'batch_size': 64}. Best is trial 0 with value: inf.\n",
      "ignoring user defined `output_chunk_length`. RNNModel uses a fixed `output_chunk_length=1`.\n",
      "GPU available: True (cuda), used: True\n",
      "TPU available: False, using: 0 TPU cores\n",
      "HPU available: False, using: 0 HPUs\n",
      "LOCAL_RANK: 0 - CUDA_VISIBLE_DEVICES: [0]\n",
      "\n",
      "  | Name            | Type             | Params | Mode \n",
      "-------------------------------------------------------------\n",
      "0 | criterion       | MSELoss          | 0      | train\n",
      "1 | train_criterion | MSELoss          | 0      | train\n",
      "2 | val_criterion   | MSELoss          | 0      | train\n",
      "3 | train_metrics   | MetricCollection | 0      | train\n",
      "4 | val_metrics     | MetricCollection | 0      | train\n",
      "5 | rnn             | GRU              | 19.0 K | train\n",
      "6 | V               | Linear           | 69     | train\n",
      "-------------------------------------------------------------\n",
      "19.0 K    Trainable params\n",
      "0         Non-trainable params\n",
      "19.0 K    Total params\n",
      "0.076     Total estimated model params size (MB)\n",
      "7         Modules in train mode\n",
      "0         Modules in eval mode\n"
     ]
    },
    {
     "data": {
      "application/vnd.jupyter.widget-view+json": {
       "model_id": "5921b19874d64a578f814256e78f9a49",
       "version_major": 2,
       "version_minor": 0
      },
      "text/plain": [
       "Training: |          | 0/? [00:00<?, ?it/s]"
      ]
     },
     "metadata": {},
     "output_type": "display_data"
    },
    {
     "name": "stderr",
     "output_type": "stream",
     "text": [
      "`Trainer.fit` stopped: `max_epochs=20` reached.\n",
      "GPU available: True (cuda), used: True\n",
      "TPU available: False, using: 0 TPU cores\n",
      "HPU available: False, using: 0 HPUs\n",
      "LOCAL_RANK: 0 - CUDA_VISIBLE_DEVICES: [0]\n"
     ]
    },
    {
     "data": {
      "application/vnd.jupyter.widget-view+json": {
       "model_id": "5f899887835b4070be7c3f046aea24bc",
       "version_major": 2,
       "version_minor": 0
      },
      "text/plain": [
       "Predicting: |          | 0/? [00:00<?, ?it/s]"
      ]
     },
     "metadata": {},
     "output_type": "display_data"
    },
    {
     "name": "stderr",
     "output_type": "stream",
     "text": [
      "[I 2025-06-15 11:13:34,896] Trial 11 finished with value: inf and parameters: {'hidden_dim': 68, 'n_rnn_layers': 1, 'dropout': 0.1395746892432882, 'lr': 0.0006518970724993522, 'batch_size': 64}. Best is trial 0 with value: inf.\n",
      "ignoring user defined `output_chunk_length`. RNNModel uses a fixed `output_chunk_length=1`.\n",
      "GPU available: True (cuda), used: True\n",
      "TPU available: False, using: 0 TPU cores\n",
      "HPU available: False, using: 0 HPUs\n",
      "LOCAL_RANK: 0 - CUDA_VISIBLE_DEVICES: [0]\n",
      "\n",
      "  | Name            | Type             | Params | Mode \n",
      "-------------------------------------------------------------\n",
      "0 | criterion       | MSELoss          | 0      | train\n",
      "1 | train_criterion | MSELoss          | 0      | train\n",
      "2 | val_criterion   | MSELoss          | 0      | train\n",
      "3 | train_metrics   | MetricCollection | 0      | train\n",
      "4 | val_metrics     | MetricCollection | 0      | train\n",
      "5 | rnn             | GRU              | 31.7 K | train\n",
      "6 | V               | Linear           | 92     | train\n",
      "-------------------------------------------------------------\n",
      "31.8 K    Trainable params\n",
      "0         Non-trainable params\n",
      "31.8 K    Total params\n",
      "0.127     Total estimated model params size (MB)\n",
      "7         Modules in train mode\n",
      "0         Modules in eval mode\n"
     ]
    },
    {
     "data": {
      "application/vnd.jupyter.widget-view+json": {
       "model_id": "b2171200db2b4065a235d4c3e98cbdd8",
       "version_major": 2,
       "version_minor": 0
      },
      "text/plain": [
       "Training: |          | 0/? [00:00<?, ?it/s]"
      ]
     },
     "metadata": {},
     "output_type": "display_data"
    },
    {
     "name": "stderr",
     "output_type": "stream",
     "text": [
      "`Trainer.fit` stopped: `max_epochs=20` reached.\n",
      "GPU available: True (cuda), used: True\n",
      "TPU available: False, using: 0 TPU cores\n",
      "HPU available: False, using: 0 HPUs\n",
      "LOCAL_RANK: 0 - CUDA_VISIBLE_DEVICES: [0]\n"
     ]
    },
    {
     "data": {
      "application/vnd.jupyter.widget-view+json": {
       "model_id": "12ef0a88e5724661a02f8e50c34468ed",
       "version_major": 2,
       "version_minor": 0
      },
      "text/plain": [
       "Predicting: |          | 0/? [00:00<?, ?it/s]"
      ]
     },
     "metadata": {},
     "output_type": "display_data"
    },
    {
     "name": "stderr",
     "output_type": "stream",
     "text": [
      "[I 2025-06-15 11:13:35,634] Trial 12 finished with value: inf and parameters: {'hidden_dim': 91, 'n_rnn_layers': 1, 'dropout': 0.24569010426170576, 'lr': 0.0003556399943005641, 'batch_size': 64}. Best is trial 0 with value: inf.\n",
      "ignoring user defined `output_chunk_length`. RNNModel uses a fixed `output_chunk_length=1`.\n",
      "GPU available: True (cuda), used: True\n",
      "TPU available: False, using: 0 TPU cores\n",
      "HPU available: False, using: 0 HPUs\n",
      "LOCAL_RANK: 0 - CUDA_VISIBLE_DEVICES: [0]\n",
      "\n",
      "  | Name            | Type             | Params | Mode \n",
      "-------------------------------------------------------------\n",
      "0 | criterion       | MSELoss          | 0      | train\n",
      "1 | train_criterion | MSELoss          | 0      | train\n",
      "2 | val_criterion   | MSELoss          | 0      | train\n",
      "3 | train_metrics   | MetricCollection | 0      | train\n",
      "4 | val_metrics     | MetricCollection | 0      | train\n",
      "5 | rnn             | GRU              | 12.8 K | train\n",
      "6 | V               | Linear           | 55     | train\n",
      "-------------------------------------------------------------\n",
      "12.9 K    Trainable params\n",
      "0         Non-trainable params\n",
      "12.9 K    Total params\n",
      "0.051     Total estimated model params size (MB)\n",
      "7         Modules in train mode\n",
      "0         Modules in eval mode\n"
     ]
    },
    {
     "data": {
      "application/vnd.jupyter.widget-view+json": {
       "model_id": "d8767a3c57ff49b5890e8eb70118976d",
       "version_major": 2,
       "version_minor": 0
      },
      "text/plain": [
       "Training: |          | 0/? [00:00<?, ?it/s]"
      ]
     },
     "metadata": {},
     "output_type": "display_data"
    },
    {
     "name": "stderr",
     "output_type": "stream",
     "text": [
      "`Trainer.fit` stopped: `max_epochs=20` reached.\n",
      "GPU available: True (cuda), used: True\n",
      "TPU available: False, using: 0 TPU cores\n",
      "HPU available: False, using: 0 HPUs\n",
      "LOCAL_RANK: 0 - CUDA_VISIBLE_DEVICES: [0]\n"
     ]
    },
    {
     "data": {
      "application/vnd.jupyter.widget-view+json": {
       "model_id": "9f8ce9c31e2b4b42bd7df22c391e0b83",
       "version_major": 2,
       "version_minor": 0
      },
      "text/plain": [
       "Predicting: |          | 0/? [00:00<?, ?it/s]"
      ]
     },
     "metadata": {},
     "output_type": "display_data"
    },
    {
     "name": "stderr",
     "output_type": "stream",
     "text": [
      "[I 2025-06-15 11:13:36,338] Trial 13 finished with value: inf and parameters: {'hidden_dim': 54, 'n_rnn_layers': 1, 'dropout': 0.1125870981603882, 'lr': 0.0013307021748829942, 'batch_size': 64}. Best is trial 0 with value: inf.\n",
      "ignoring user defined `output_chunk_length`. RNNModel uses a fixed `output_chunk_length=1`.\n",
      "GPU available: True (cuda), used: True\n",
      "TPU available: False, using: 0 TPU cores\n",
      "HPU available: False, using: 0 HPUs\n",
      "LOCAL_RANK: 0 - CUDA_VISIBLE_DEVICES: [0]\n",
      "\n",
      "  | Name            | Type             | Params | Mode \n",
      "-------------------------------------------------------------\n",
      "0 | criterion       | MSELoss          | 0      | train\n",
      "1 | train_criterion | MSELoss          | 0      | train\n",
      "2 | val_criterion   | MSELoss          | 0      | train\n",
      "3 | train_metrics   | MetricCollection | 0      | train\n",
      "4 | val_metrics     | MetricCollection | 0      | train\n",
      "5 | rnn             | GRU              | 105 K  | train\n",
      "6 | V               | Linear           | 105    | train\n",
      "-------------------------------------------------------------\n",
      "105 K     Trainable params\n",
      "0         Non-trainable params\n",
      "105 K     Total params\n",
      "0.423     Total estimated model params size (MB)\n",
      "7         Modules in train mode\n",
      "0         Modules in eval mode\n"
     ]
    },
    {
     "data": {
      "application/vnd.jupyter.widget-view+json": {
       "model_id": "88d0aefe08f14cf0a1fc3e731033772e",
       "version_major": 2,
       "version_minor": 0
      },
      "text/plain": [
       "Training: |          | 0/? [00:00<?, ?it/s]"
      ]
     },
     "metadata": {},
     "output_type": "display_data"
    },
    {
     "name": "stderr",
     "output_type": "stream",
     "text": [
      "`Trainer.fit` stopped: `max_epochs=20` reached.\n",
      "GPU available: True (cuda), used: True\n",
      "TPU available: False, using: 0 TPU cores\n",
      "HPU available: False, using: 0 HPUs\n",
      "LOCAL_RANK: 0 - CUDA_VISIBLE_DEVICES: [0]\n"
     ]
    },
    {
     "data": {
      "application/vnd.jupyter.widget-view+json": {
       "model_id": "c1b005a0f004456fa2d4520511271044",
       "version_major": 2,
       "version_minor": 0
      },
      "text/plain": [
       "Predicting: |          | 0/? [00:00<?, ?it/s]"
      ]
     },
     "metadata": {},
     "output_type": "display_data"
    },
    {
     "name": "stderr",
     "output_type": "stream",
     "text": [
      "[I 2025-06-15 11:13:37,583] Trial 14 finished with value: inf and parameters: {'hidden_dim': 104, 'n_rnn_layers': 2, 'dropout': 0.23801221146107315, 'lr': 0.0009388848879968424, 'batch_size': 64}. Best is trial 0 with value: inf.\n",
      "ignoring user defined `output_chunk_length`. RNNModel uses a fixed `output_chunk_length=1`.\n",
      "GPU available: True (cuda), used: True\n",
      "TPU available: False, using: 0 TPU cores\n",
      "HPU available: False, using: 0 HPUs\n",
      "LOCAL_RANK: 0 - CUDA_VISIBLE_DEVICES: [0]\n",
      "\n",
      "  | Name            | Type             | Params | Mode \n",
      "-------------------------------------------------------------\n",
      "0 | criterion       | MSELoss          | 0      | train\n",
      "1 | train_criterion | MSELoss          | 0      | train\n",
      "2 | val_criterion   | MSELoss          | 0      | train\n",
      "3 | train_metrics   | MetricCollection | 0      | train\n",
      "4 | val_metrics     | MetricCollection | 0      | train\n",
      "5 | rnn             | GRU              | 64.1 K | train\n",
      "6 | V               | Linear           | 81     | train\n",
      "-------------------------------------------------------------\n",
      "64.2 K    Trainable params\n",
      "0         Non-trainable params\n",
      "64.2 K    Total params\n",
      "0.257     Total estimated model params size (MB)\n",
      "7         Modules in train mode\n",
      "0         Modules in eval mode\n"
     ]
    },
    {
     "data": {
      "application/vnd.jupyter.widget-view+json": {
       "model_id": "31cb49771e824e2592b9eafc616e1484",
       "version_major": 2,
       "version_minor": 0
      },
      "text/plain": [
       "Training: |          | 0/? [00:00<?, ?it/s]"
      ]
     },
     "metadata": {},
     "output_type": "display_data"
    },
    {
     "name": "stderr",
     "output_type": "stream",
     "text": [
      "`Trainer.fit` stopped: `max_epochs=20` reached.\n",
      "GPU available: True (cuda), used: True\n",
      "TPU available: False, using: 0 TPU cores\n",
      "HPU available: False, using: 0 HPUs\n",
      "LOCAL_RANK: 0 - CUDA_VISIBLE_DEVICES: [0]\n"
     ]
    },
    {
     "data": {
      "application/vnd.jupyter.widget-view+json": {
       "model_id": "6cd6cdc7a8e54950841701b5cd3a758c",
       "version_major": 2,
       "version_minor": 0
      },
      "text/plain": [
       "Predicting: |          | 0/? [00:00<?, ?it/s]"
      ]
     },
     "metadata": {},
     "output_type": "display_data"
    },
    {
     "name": "stderr",
     "output_type": "stream",
     "text": [
      "[I 2025-06-15 11:13:38,568] Trial 15 finished with value: inf and parameters: {'hidden_dim': 80, 'n_rnn_layers': 2, 'dropout': 0.3339030827654464, 'lr': 0.00029497634926910747, 'batch_size': 64}. Best is trial 0 with value: inf.\n",
      "ignoring user defined `output_chunk_length`. RNNModel uses a fixed `output_chunk_length=1`.\n",
      "GPU available: True (cuda), used: True\n",
      "TPU available: False, using: 0 TPU cores\n",
      "HPU available: False, using: 0 HPUs\n",
      "LOCAL_RANK: 0 - CUDA_VISIBLE_DEVICES: [0]\n",
      "\n",
      "  | Name            | Type             | Params | Mode \n",
      "-------------------------------------------------------------\n",
      "0 | criterion       | MSELoss          | 0      | train\n",
      "1 | train_criterion | MSELoss          | 0      | train\n",
      "2 | val_criterion   | MSELoss          | 0      | train\n",
      "3 | train_metrics   | MetricCollection | 0      | train\n",
      "4 | val_metrics     | MetricCollection | 0      | train\n",
      "5 | rnn             | GRU              | 43.8 K | train\n",
      "6 | V               | Linear           | 110    | train\n",
      "-------------------------------------------------------------\n",
      "43.9 K    Trainable params\n",
      "0         Non-trainable params\n",
      "43.9 K    Total params\n",
      "0.176     Total estimated model params size (MB)\n",
      "7         Modules in train mode\n",
      "0         Modules in eval mode\n"
     ]
    },
    {
     "data": {
      "application/vnd.jupyter.widget-view+json": {
       "model_id": "c41551d1982141258fd21fb03f12e064",
       "version_major": 2,
       "version_minor": 0
      },
      "text/plain": [
       "Training: |          | 0/? [00:00<?, ?it/s]"
      ]
     },
     "metadata": {},
     "output_type": "display_data"
    },
    {
     "name": "stderr",
     "output_type": "stream",
     "text": [
      "`Trainer.fit` stopped: `max_epochs=20` reached.\n",
      "GPU available: True (cuda), used: True\n",
      "TPU available: False, using: 0 TPU cores\n",
      "HPU available: False, using: 0 HPUs\n",
      "LOCAL_RANK: 0 - CUDA_VISIBLE_DEVICES: [0]\n"
     ]
    },
    {
     "data": {
      "application/vnd.jupyter.widget-view+json": {
       "model_id": "4a46146d2d594413bfc365be02d701e1",
       "version_major": 2,
       "version_minor": 0
      },
      "text/plain": [
       "Predicting: |          | 0/? [00:00<?, ?it/s]"
      ]
     },
     "metadata": {},
     "output_type": "display_data"
    },
    {
     "name": "stderr",
     "output_type": "stream",
     "text": [
      "[I 2025-06-15 11:13:39,644] Trial 16 finished with value: inf and parameters: {'hidden_dim': 109, 'n_rnn_layers': 1, 'dropout': 0.18292269435017008, 'lr': 0.009682101647202514, 'batch_size': 32}. Best is trial 0 with value: inf.\n",
      "ignoring user defined `output_chunk_length`. RNNModel uses a fixed `output_chunk_length=1`.\n",
      "GPU available: True (cuda), used: True\n",
      "TPU available: False, using: 0 TPU cores\n",
      "HPU available: False, using: 0 HPUs\n",
      "LOCAL_RANK: 0 - CUDA_VISIBLE_DEVICES: [0]\n",
      "\n",
      "  | Name            | Type             | Params | Mode \n",
      "-------------------------------------------------------------\n",
      "0 | criterion       | MSELoss          | 0      | train\n",
      "1 | train_criterion | MSELoss          | 0      | train\n",
      "2 | val_criterion   | MSELoss          | 0      | train\n",
      "3 | train_metrics   | MetricCollection | 0      | train\n",
      "4 | val_metrics     | MetricCollection | 0      | train\n",
      "5 | rnn             | GRU              | 21.5 K | train\n",
      "6 | V               | Linear           | 74     | train\n",
      "-------------------------------------------------------------\n",
      "21.5 K    Trainable params\n",
      "0         Non-trainable params\n",
      "21.5 K    Total params\n",
      "0.086     Total estimated model params size (MB)\n",
      "7         Modules in train mode\n",
      "0         Modules in eval mode\n"
     ]
    },
    {
     "data": {
      "application/vnd.jupyter.widget-view+json": {
       "model_id": "402ce1a0722a49baa0aea71b9f581fc2",
       "version_major": 2,
       "version_minor": 0
      },
      "text/plain": [
       "Training: |          | 0/? [00:00<?, ?it/s]"
      ]
     },
     "metadata": {},
     "output_type": "display_data"
    },
    {
     "name": "stderr",
     "output_type": "stream",
     "text": [
      "`Trainer.fit` stopped: `max_epochs=20` reached.\n",
      "GPU available: True (cuda), used: True\n",
      "TPU available: False, using: 0 TPU cores\n",
      "HPU available: False, using: 0 HPUs\n",
      "LOCAL_RANK: 0 - CUDA_VISIBLE_DEVICES: [0]\n"
     ]
    },
    {
     "data": {
      "application/vnd.jupyter.widget-view+json": {
       "model_id": "55b82e04916e43b99af6a0b586b29b06",
       "version_major": 2,
       "version_minor": 0
      },
      "text/plain": [
       "Predicting: |          | 0/? [00:00<?, ?it/s]"
      ]
     },
     "metadata": {},
     "output_type": "display_data"
    },
    {
     "name": "stderr",
     "output_type": "stream",
     "text": [
      "[I 2025-06-15 11:13:40,356] Trial 17 finished with value: inf and parameters: {'hidden_dim': 73, 'n_rnn_layers': 1, 'dropout': 0.07568336245328133, 'lr': 0.001485398232601089, 'batch_size': 64}. Best is trial 0 with value: inf.\n",
      "ignoring user defined `output_chunk_length`. RNNModel uses a fixed `output_chunk_length=1`.\n",
      "GPU available: True (cuda), used: True\n",
      "TPU available: False, using: 0 TPU cores\n",
      "HPU available: False, using: 0 HPUs\n",
      "LOCAL_RANK: 0 - CUDA_VISIBLE_DEVICES: [0]\n",
      "\n",
      "  | Name            | Type             | Params | Mode \n",
      "-------------------------------------------------------------\n",
      "0 | criterion       | MSELoss          | 0      | train\n",
      "1 | train_criterion | MSELoss          | 0      | train\n",
      "2 | val_criterion   | MSELoss          | 0      | train\n",
      "3 | train_metrics   | MetricCollection | 0      | train\n",
      "4 | val_metrics     | MetricCollection | 0      | train\n",
      "5 | rnn             | GRU              | 11.6 K | train\n",
      "6 | V               | Linear           | 52     | train\n",
      "-------------------------------------------------------------\n",
      "11.7 K    Trainable params\n",
      "0         Non-trainable params\n",
      "11.7 K    Total params\n",
      "0.047     Total estimated model params size (MB)\n",
      "7         Modules in train mode\n",
      "0         Modules in eval mode\n"
     ]
    },
    {
     "data": {
      "application/vnd.jupyter.widget-view+json": {
       "model_id": "82104743f7d7426db59c4376297c89fd",
       "version_major": 2,
       "version_minor": 0
      },
      "text/plain": [
       "Training: |          | 0/? [00:00<?, ?it/s]"
      ]
     },
     "metadata": {},
     "output_type": "display_data"
    },
    {
     "name": "stderr",
     "output_type": "stream",
     "text": [
      "`Trainer.fit` stopped: `max_epochs=20` reached.\n",
      "GPU available: True (cuda), used: True\n",
      "TPU available: False, using: 0 TPU cores\n",
      "HPU available: False, using: 0 HPUs\n",
      "LOCAL_RANK: 0 - CUDA_VISIBLE_DEVICES: [0]\n"
     ]
    },
    {
     "data": {
      "application/vnd.jupyter.widget-view+json": {
       "model_id": "a32d6e145dae4dd3a766b945d4c35795",
       "version_major": 2,
       "version_minor": 0
      },
      "text/plain": [
       "Predicting: |          | 0/? [00:00<?, ?it/s]"
      ]
     },
     "metadata": {},
     "output_type": "display_data"
    },
    {
     "name": "stderr",
     "output_type": "stream",
     "text": [
      "[I 2025-06-15 11:13:41,044] Trial 18 finished with value: inf and parameters: {'hidden_dim': 51, 'n_rnn_layers': 1, 'dropout': 0.2895732693936758, 'lr': 0.0006904155246260914, 'batch_size': 64}. Best is trial 0 with value: inf.\n",
      "ignoring user defined `output_chunk_length`. RNNModel uses a fixed `output_chunk_length=1`.\n",
      "GPU available: True (cuda), used: True\n",
      "TPU available: False, using: 0 TPU cores\n",
      "HPU available: False, using: 0 HPUs\n",
      "LOCAL_RANK: 0 - CUDA_VISIBLE_DEVICES: [0]\n",
      "\n",
      "  | Name            | Type             | Params | Mode \n",
      "-------------------------------------------------------------\n",
      "0 | criterion       | MSELoss          | 0      | train\n",
      "1 | train_criterion | MSELoss          | 0      | train\n",
      "2 | val_criterion   | MSELoss          | 0      | train\n",
      "3 | train_metrics   | MetricCollection | 0      | train\n",
      "4 | val_metrics     | MetricCollection | 0      | train\n",
      "5 | rnn             | GRU              | 64.1 K | train\n",
      "6 | V               | Linear           | 81     | train\n",
      "-------------------------------------------------------------\n",
      "64.2 K    Trainable params\n",
      "0         Non-trainable params\n",
      "64.2 K    Total params\n",
      "0.257     Total estimated model params size (MB)\n",
      "7         Modules in train mode\n",
      "0         Modules in eval mode\n"
     ]
    },
    {
     "data": {
      "application/vnd.jupyter.widget-view+json": {
       "model_id": "7f7dd194a03f40aab4d240642b8e0c26",
       "version_major": 2,
       "version_minor": 0
      },
      "text/plain": [
       "Training: |          | 0/? [00:00<?, ?it/s]"
      ]
     },
     "metadata": {},
     "output_type": "display_data"
    },
    {
     "name": "stderr",
     "output_type": "stream",
     "text": [
      "`Trainer.fit` stopped: `max_epochs=20` reached.\n",
      "GPU available: True (cuda), used: True\n",
      "TPU available: False, using: 0 TPU cores\n",
      "HPU available: False, using: 0 HPUs\n",
      "LOCAL_RANK: 0 - CUDA_VISIBLE_DEVICES: [0]\n"
     ]
    },
    {
     "data": {
      "application/vnd.jupyter.widget-view+json": {
       "model_id": "5d810c10b7504905a01c316c2b6397ef",
       "version_major": 2,
       "version_minor": 0
      },
      "text/plain": [
       "Predicting: |          | 0/? [00:00<?, ?it/s]"
      ]
     },
     "metadata": {},
     "output_type": "display_data"
    },
    {
     "name": "stderr",
     "output_type": "stream",
     "text": [
      "[I 2025-06-15 11:13:42,029] Trial 19 finished with value: inf and parameters: {'hidden_dim': 80, 'n_rnn_layers': 2, 'dropout': 0.3909729109925136, 'lr': 0.00026782584648770623, 'batch_size': 64}. Best is trial 0 with value: inf.\n"
     ]
    },
    {
     "name": "stdout",
     "output_type": "stream",
     "text": [
      "▶️ Mejor RNN: {'hidden_dim': 58, 'n_rnn_layers': 3, 'dropout': 0.36599697090570255, 'lr': 0.0015751320499779737, 'batch_size': 16} — MSE: inf\n",
      "▶️ Mejor LSTM: {'hidden_dim': 103, 'n_rnn_layers': 1, 'dropout': 0.0027610585618011996, 'lr': 0.004274869455295219, 'batch_size': 64} — MSE: inf\n",
      "▶️ Mejor GRU: {'hidden_dim': 124, 'n_rnn_layers': 1, 'dropout': 0.24862425294619273, 'lr': 0.0003997206819121809, 'batch_size': 64} — MSE: inf\n"
     ]
    }
   ],
   "source": [
    "# =============================================================================\n",
    "# Sección 7: Optimización de Hiperparámetros con Optuna\n",
    "#           — filtrado de NaNs antes de calcular MSE\n",
    "# =============================================================================\n",
    "\n",
    "import optuna\n",
    "import torch\n",
    "import numpy as np\n",
    "from sklearn.metrics import mean_squared_error\n",
    "from darts.models import RNNModel\n",
    "\n",
    "# ------------------------------------------------------------------------\n",
    "# Datos de ejemplo (un barrio)\n",
    "# ------------------------------------------------------------------------\n",
    "b0       = list(train_series.keys())[0]\n",
    "train_s  = train_series[b0]\n",
    "val_s    = val_series[b0]\n",
    "full_cov = series_dict[b0]['covariates']\n",
    "\n",
    "# ------------------------------------------------------------------------\n",
    "# Construcción de la función objetivo\n",
    "# ------------------------------------------------------------------------\n",
    "def make_objective(model_type: str):\n",
    "    def objective(trial):\n",
    "        # 1) Espacio de búsqueda\n",
    "        hidden_dim = trial.suggest_int(\"hidden_dim\", 16, 128)\n",
    "        n_layers   = trial.suggest_int(\"n_rnn_layers\", 1, 3)\n",
    "        dropout    = trial.suggest_float(\"dropout\", 0.0, 0.5)\n",
    "        lr         = trial.suggest_loguniform(\"lr\", 1e-4, 1e-2)\n",
    "        batch_sz   = trial.suggest_categorical(\"batch_size\", [16, 32, 64])\n",
    "\n",
    "        # 2) Instanciar el modelo\n",
    "        model = RNNModel(\n",
    "            model=model_type,\n",
    "            hidden_dim=hidden_dim,\n",
    "            n_rnn_layers=n_layers,\n",
    "            dropout=dropout,\n",
    "            optimizer_cls=torch.optim.Adam,\n",
    "            optimizer_kwargs={\"lr\": lr},\n",
    "            input_chunk_length=input_chunk_length,\n",
    "            output_chunk_length=output_chunk_length,\n",
    "            batch_size=batch_sz,\n",
    "            n_epochs=20,\n",
    "            random_state=SEED,\n",
    "            pl_trainer_kwargs={\"accelerator\": \"gpu\" if torch.cuda.is_available() else \"cpu\"},\n",
    "            save_checkpoints=False\n",
    "        )\n",
    "\n",
    "        # 3) Entrenar\n",
    "        model.fit(\n",
    "            series=train_s[\"target\"],\n",
    "            future_covariates=full_cov\n",
    "        )\n",
    "\n",
    "        # 4) Predecir en validación\n",
    "        n_steps = val_s[\"target\"].n_timesteps\n",
    "        pred_ts = model.predict(n=n_steps, future_covariates=full_cov)\n",
    "\n",
    "        # 5) Extraer y alinear arrays\n",
    "        y_true = np.array(val_s[\"target\"].values()).reshape(-1)\n",
    "        y_pred = np.array(pred_ts.values()).reshape(-1)\n",
    "\n",
    "        # 6) Filtrar NaNs\n",
    "        mask = np.isfinite(y_true) & np.isfinite(y_pred)\n",
    "        if mask.sum() == 0:\n",
    "            return float(\"inf\")\n",
    "\n",
    "        y_true, y_pred = y_true[mask], y_pred[mask]\n",
    "\n",
    "        # 7) Calcular y devolver MSE\n",
    "        return mean_squared_error(y_true, y_pred)\n",
    "    return objective\n",
    "\n",
    "# ------------------------------------------------------------------------\n",
    "# Ejecutar estudios y capturar solo resultados finales\n",
    "# ------------------------------------------------------------------------\n",
    "results = {}\n",
    "sampler = optuna.samplers.TPESampler(seed=SEED)\n",
    "pruner  = optuna.pruners.MedianPruner()\n",
    "\n",
    "for model_type in [\"RNN\", \"LSTM\", \"GRU\"]:\n",
    "    study = optuna.create_study(direction=\"minimize\", sampler=sampler, pruner=pruner)\n",
    "    try:\n",
    "        study.optimize(make_objective(model_type), n_trials=20, show_progress_bar=False)\n",
    "        results[model_type] = (study.best_params, study.best_value)\n",
    "    except Exception as e:\n",
    "        # Mostrar el error solo si ocurre\n",
    "        print(f\"❗ Error optimizando {model_type}: {e}\")\n",
    "\n",
    "# ------------------------------------------------------------------------\n",
    "# Imprimir únicamente los mejores hiperparámetros y su MSE numérico\n",
    "# ------------------------------------------------------------------------\n",
    "for mt, (params, mse) in results.items():\n",
    "    print(f\"▶️ Mejor {mt}: {params} — MSE: {mse:.4f}\")\n"
   ]
  }
 ],
 "metadata": {
  "kernelspec": {
   "display_name": "venv",
   "language": "python",
   "name": "python3"
  },
  "language_info": {
   "codemirror_mode": {
    "name": "ipython",
    "version": 3
   },
   "file_extension": ".py",
   "mimetype": "text/x-python",
   "name": "python",
   "nbconvert_exporter": "python",
   "pygments_lexer": "ipython3",
   "version": "3.13.3"
  }
 },
 "nbformat": 4,
 "nbformat_minor": 5
}
