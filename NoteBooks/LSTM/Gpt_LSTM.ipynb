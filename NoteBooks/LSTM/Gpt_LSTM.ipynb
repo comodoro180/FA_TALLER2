{
 "cells": [
  {
   "cell_type": "code",
   "execution_count": 1,
   "id": "43f29c38",
   "metadata": {},
   "outputs": [],
   "source": [
    "# %%\n",
    "import os\n",
    "import random\n",
    "import numpy as np\n",
    "import pandas as pd\n",
    "import torch\n",
    "from torch import nn, optim\n",
    "from torch.utils.data import Dataset, DataLoader\n",
    "from sklearn.model_selection import train_test_split\n",
    "from sklearn.preprocessing import StandardScaler\n",
    "import optuna\n",
    "\n",
    "import warnings\n",
    "warnings.filterwarnings('ignore')\n",
    "\n",
    "# Fijar semillas\n",
    "random.seed(42)\n",
    "np.random.seed(42)\n",
    "torch.manual_seed(42)\n",
    "if torch.cuda.is_available():\n",
    "    torch.cuda.manual_seed_all(42)\n",
    "\n",
    "# Seleccionar dispositivo de cómputo\n",
    "device = torch.device('cuda' if torch.cuda.is_available() else 'cpu')"
   ]
  },
  {
   "cell_type": "code",
   "execution_count": 2,
   "id": "d5dd4ebd",
   "metadata": {},
   "outputs": [
    {
     "name": "stdout",
     "output_type": "stream",
     "text": [
      "Train shape: (3680, 20)\n",
      "Test  shape: (520, 19)\n"
     ]
    }
   ],
   "source": [
    "# %%\n",
    "data_dir = '../../Datos'\n",
    "df_train = pd.read_parquet(os.path.join(data_dir, 'df_train.parquet'))\n",
    "df_test  = pd.read_parquet(os.path.join(data_dir, 'df_test.parquet'))\n",
    "print('Train shape:', df_train.shape)\n",
    "print('Test  shape:', df_test.shape)\n",
    "\n",
    "# %%\n",
    "FEATURE_COLS = ['ESTRATO', 'area_barrio']\n",
    "TARGET_COL  = 'dengue'\n",
    "\n",
    "scaler = StandardScaler()\n",
    "df_train[FEATURE_COLS] = scaler.fit_transform(df_train[FEATURE_COLS])\n",
    "df_test[FEATURE_COLS]  = scaler.transform(df_test[FEATURE_COLS])\n",
    "\n",
    "all_ids = df_train['id_bar'].unique()\n",
    "train_ids, val_ids = train_test_split(all_ids, test_size=0.2, random_state=42)\n",
    "train_df = df_train[df_train['id_bar'].isin(train_ids)].reset_index(drop=True)\n",
    "val_df   = df_train[df_train['id_bar'].isin(val_ids)].reset_index(drop=True)"
   ]
  },
  {
   "cell_type": "code",
   "execution_count": 3,
   "id": "7aa600bc",
   "metadata": {},
   "outputs": [],
   "source": [
    "# %%\n",
    "class DengueDataset(Dataset):\n",
    "    def __init__(self, df, seq_len):\n",
    "        self.seq_len = seq_len\n",
    "        self.windows = []\n",
    "        for _, group in df.groupby('id_bar'):\n",
    "            group = group.sort_values(['anio', 'semana'])\n",
    "            vals = group[FEATURE_COLS + [TARGET_COL]].values\n",
    "            for i in range(len(vals) - seq_len):\n",
    "                x = vals[i:i+seq_len, :-1]\n",
    "                y = vals[i+seq_len, -1]\n",
    "                self.windows.append((x, y))\n",
    "\n",
    "    def __len__(self):\n",
    "        return len(self.windows)\n",
    "\n",
    "    def __getitem__(self, idx):\n",
    "        x, y = self.windows[idx]\n",
    "        return torch.tensor(x, dtype=torch.float32), torch.tensor(y, dtype=torch.float32)"
   ]
  },
  {
   "cell_type": "code",
   "execution_count": 4,
   "id": "149774de",
   "metadata": {},
   "outputs": [],
   "source": [
    "def create_loaders(seq_len, batch_size):\n",
    "    train_ds = DengueDataset(train_df, seq_len)\n",
    "    val_ds   = DengueDataset(val_df, seq_len)\n",
    "    train_loader = DataLoader(train_ds, batch_size=batch_size, shuffle=True)\n",
    "    val_loader   = DataLoader(val_ds,   batch_size=batch_size, shuffle=False)\n",
    "    return train_loader, val_loader"
   ]
  },
  {
   "cell_type": "code",
   "execution_count": 5,
   "id": "a85f18d9",
   "metadata": {},
   "outputs": [],
   "source": [
    "# %%\n",
    "class LSTMModel(nn.Module):\n",
    "    def __init__(self, input_size, hidden_size, num_layers, dropout):\n",
    "        super(LSTMModel, self).__init__()\n",
    "        self.lstm = nn.LSTM(\n",
    "            input_size=input_size,\n",
    "            hidden_size=hidden_size,\n",
    "            num_layers=num_layers,\n",
    "            dropout=dropout,\n",
    "            batch_first=True\n",
    "        )\n",
    "        self.layer_norm = nn.LayerNorm(hidden_size)\n",
    "        self.fc = nn.Linear(hidden_size, 1)\n",
    "\n",
    "    def forward(self, x):\n",
    "        out, _ = self.lstm(x)\n",
    "        last = out[:, -1, :]\n",
    "        normed = self.layer_norm(last)\n",
    "        return self.fc(normed).squeeze(1)"
   ]
  },
  {
   "cell_type": "code",
   "execution_count": 6,
   "id": "e5005184",
   "metadata": {},
   "outputs": [],
   "source": [
    "# %%\n",
    "def train_epoch(model, loader, criterion, optimizer):\n",
    "    model.train()\n",
    "    total_loss = 0.0\n",
    "    for x, y in loader:\n",
    "        x, y = x.to(device), y.to(device)\n",
    "        optimizer.zero_grad()\n",
    "        preds = model(x)\n",
    "        loss = criterion(preds, y)\n",
    "        loss.backward()\n",
    "        optimizer.step()\n",
    "        total_loss += loss.item() * x.size(0)\n",
    "    return total_loss / len(loader.dataset)\n",
    "\n",
    "\n",
    "def eval_epoch(model, loader, criterion):\n",
    "    model.eval()\n",
    "    total_loss = 0.0\n",
    "    with torch.no_grad():\n",
    "        for x, y in loader:\n",
    "            x, y = x.to(device), y.to(device)\n",
    "            preds = model(x)\n",
    "            total_loss += criterion(preds, y).item() * x.size(0)\n",
    "    return total_loss / len(loader.dataset)"
   ]
  },
  {
   "cell_type": "code",
   "execution_count": 7,
   "id": "0d63a35b",
   "metadata": {},
   "outputs": [],
   "source": [
    "# %%\n",
    "def objective(trial):\n",
    "    hidden_size = trial.suggest_int('hidden_size', 32, 256)\n",
    "    num_layers  = trial.suggest_int('num_layers', 1, 3)\n",
    "    dropout     = trial.suggest_float('dropout', 0.0, 0.5)\n",
    "    lr          = trial.suggest_loguniform('lr', 1e-4, 1e-2)\n",
    "    batch_size  = trial.suggest_categorical('batch_size', [32, 64, 128])\n",
    "    seq_len     = trial.suggest_int('seq_len', 8, 16)\n",
    "\n",
    "    model = LSTMModel(\n",
    "        input_size=len(FEATURE_COLS),\n",
    "        hidden_size=hidden_size,\n",
    "        num_layers=num_layers,\n",
    "        dropout=dropout\n",
    "    ).to(device)\n",
    "    criterion = nn.MSELoss()\n",
    "    optimizer = optim.Adam(model.parameters(), lr=lr)\n",
    "\n",
    "    train_loader, val_loader = create_loaders(seq_len, batch_size)\n",
    "    best_val = float('inf')\n",
    "    for _ in range(20):\n",
    "        train_epoch(model, train_loader, criterion, optimizer)\n",
    "        val_loss = eval_epoch(model, val_loader, criterion)\n",
    "        if val_loss < best_val:\n",
    "            best_val = val_loss\n",
    "            torch.save(model.state_dict(), 'best_model.pth')\n",
    "    return best_val"
   ]
  },
  {
   "cell_type": "code",
   "execution_count": 8,
   "id": "20177556",
   "metadata": {},
   "outputs": [
    {
     "name": "stderr",
     "output_type": "stream",
     "text": [
      "[I 2025-06-15 22:28:41,553] A new study created in memory with name: no-name-87404ee1-c92e-4e08-b21e-ee95f5a12380\n",
      "[I 2025-06-15 22:28:46,367] Trial 0 finished with value: 9.021092668634838 and parameters: {'hidden_size': 98, 'num_layers': 3, 'dropout': 0.12296275718486605, 'lr': 0.000627576788897835, 'batch_size': 32, 'seq_len': 11}. Best is trial 0 with value: 9.021092668634838.\n",
      "[I 2025-06-15 22:28:48,119] Trial 1 finished with value: 9.042110899132743 and parameters: {'hidden_size': 59, 'num_layers': 1, 'dropout': 0.08718671612994744, 'lr': 0.00022914565648395678, 'batch_size': 64, 'seq_len': 13}. Best is trial 0 with value: 9.021092668634838.\n",
      "[I 2025-06-15 22:28:49,841] Trial 2 finished with value: 9.020364690561589 and parameters: {'hidden_size': 220, 'num_layers': 2, 'dropout': 0.027021339881077244, 'lr': 0.0010493152617226129, 'batch_size': 128, 'seq_len': 11}. Best is trial 2 with value: 9.020364690561589.\n",
      "[I 2025-06-15 22:28:51,592] Trial 3 finished with value: 9.016972240299236 and parameters: {'hidden_size': 97, 'num_layers': 1, 'dropout': 0.47075488628058565, 'lr': 0.002648223400777716, 'batch_size': 64, 'seq_len': 9}. Best is trial 3 with value: 9.016972240299236.\n",
      "[I 2025-06-15 22:28:53,819] Trial 4 finished with value: 9.044348932991564 and parameters: {'hidden_size': 121, 'num_layers': 3, 'dropout': 0.010974830586941153, 'lr': 0.003413115593441002, 'batch_size': 64, 'seq_len': 13}. Best is trial 3 with value: 9.016972240299236.\n",
      "[I 2025-06-15 22:28:58,297] Trial 5 finished with value: 9.016331249109193 and parameters: {'hidden_size': 58, 'num_layers': 1, 'dropout': 0.00010296871655346429, 'lr': 0.0013825001489558906, 'batch_size': 32, 'seq_len': 10}. Best is trial 5 with value: 9.016331249109193.\n",
      "[I 2025-06-15 22:28:59,915] Trial 6 finished with value: 9.0234838052958 and parameters: {'hidden_size': 101, 'num_layers': 3, 'dropout': 0.059162328927939434, 'lr': 0.002690435388423247, 'batch_size': 128, 'seq_len': 11}. Best is trial 5 with value: 9.016331249109193.\n",
      "[I 2025-06-15 22:29:01,655] Trial 7 finished with value: 8.985989842242185 and parameters: {'hidden_size': 117, 'num_layers': 1, 'dropout': 0.3084522360918623, 'lr': 0.005004277752875582, 'batch_size': 64, 'seq_len': 9}. Best is trial 7 with value: 8.985989842242185.\n",
      "[I 2025-06-15 22:29:07,210] Trial 8 finished with value: 8.917666294357993 and parameters: {'hidden_size': 47, 'num_layers': 1, 'dropout': 0.20649453111686128, 'lr': 0.00016727617342952416, 'batch_size': 32, 'seq_len': 16}. Best is trial 8 with value: 8.917666294357993.\n",
      "[I 2025-06-15 22:29:11,473] Trial 9 finished with value: 8.996812809597362 and parameters: {'hidden_size': 50, 'num_layers': 3, 'dropout': 0.4983725423929518, 'lr': 0.00020756403850424011, 'batch_size': 32, 'seq_len': 16}. Best is trial 8 with value: 8.917666294357993.\n",
      "[I 2025-06-15 22:29:16,182] Trial 10 finished with value: 8.925008697943253 and parameters: {'hidden_size': 173, 'num_layers': 2, 'dropout': 0.22770896639314794, 'lr': 0.00010040475150416343, 'batch_size': 32, 'seq_len': 16}. Best is trial 8 with value: 8.917666294357993.\n",
      "[I 2025-06-15 22:29:20,819] Trial 11 finished with value: 8.985415707934987 and parameters: {'hidden_size': 185, 'num_layers': 2, 'dropout': 0.22052020035119485, 'lr': 0.00010085649646298159, 'batch_size': 32, 'seq_len': 16}. Best is trial 8 with value: 8.917666294357993.\n",
      "[I 2025-06-15 22:29:25,423] Trial 12 finished with value: 8.979200005869014 and parameters: {'hidden_size': 175, 'num_layers': 2, 'dropout': 0.2506931755568526, 'lr': 0.00011921930180913099, 'batch_size': 32, 'seq_len': 15}. Best is trial 8 with value: 8.917666294357993.\n",
      "[I 2025-06-15 22:29:29,948] Trial 13 finished with value: 9.026624951658949 and parameters: {'hidden_size': 154, 'num_layers': 2, 'dropout': 0.18628806914487184, 'lr': 0.000361183099292994, 'batch_size': 32, 'seq_len': 14}. Best is trial 8 with value: 8.917666294357993.\n",
      "[I 2025-06-15 22:29:33,953] Trial 14 finished with value: 8.935461027426355 and parameters: {'hidden_size': 249, 'num_layers': 1, 'dropout': 0.3372823483413654, 'lr': 0.0004699032330478752, 'batch_size': 32, 'seq_len': 15}. Best is trial 8 with value: 8.917666294357993.\n",
      "[I 2025-06-15 22:29:39,246] Trial 15 finished with value: 9.033734978929077 and parameters: {'hidden_size': 200, 'num_layers': 2, 'dropout': 0.1536307621376493, 'lr': 0.00020536866343933284, 'batch_size': 32, 'seq_len': 14}. Best is trial 8 with value: 8.917666294357993.\n",
      "[I 2025-06-15 22:29:41,199] Trial 16 finished with value: 8.955508080395786 and parameters: {'hidden_size': 150, 'num_layers': 2, 'dropout': 0.3820354095067478, 'lr': 0.00014778983909315212, 'batch_size': 128, 'seq_len': 16}. Best is trial 8 with value: 8.917666294357993.\n",
      "[I 2025-06-15 22:29:45,168] Trial 17 finished with value: 8.939612071169671 and parameters: {'hidden_size': 225, 'num_layers': 1, 'dropout': 0.2740497661577991, 'lr': 0.008364036578831734, 'batch_size': 32, 'seq_len': 15}. Best is trial 8 with value: 8.917666294357993.\n",
      "[I 2025-06-15 22:29:48,959] Trial 18 finished with value: 9.066233420036209 and parameters: {'hidden_size': 74, 'num_layers': 1, 'dropout': 0.19342523123421582, 'lr': 0.0003445748234238916, 'batch_size': 32, 'seq_len': 13}. Best is trial 8 with value: 8.917666294357993.\n",
      "[I 2025-06-15 22:29:50,252] Trial 19 finished with value: 9.059724027154136 and parameters: {'hidden_size': 38, 'num_layers': 2, 'dropout': 0.35174366400750906, 'lr': 0.0006621981414143492, 'batch_size': 128, 'seq_len': 14}. Best is trial 8 with value: 8.917666294357993.\n",
      "[I 2025-06-15 22:29:54,419] Trial 20 finished with value: 8.966822698381211 and parameters: {'hidden_size': 167, 'num_layers': 2, 'dropout': 0.41469940680392037, 'lr': 0.00017722777301081995, 'batch_size': 32, 'seq_len': 8}. Best is trial 8 with value: 8.917666294357993.\n",
      "[I 2025-06-15 22:29:58,465] Trial 21 finished with value: 8.935049746597118 and parameters: {'hidden_size': 256, 'num_layers': 1, 'dropout': 0.30962257498027435, 'lr': 0.0003937177855511078, 'batch_size': 32, 'seq_len': 15}. Best is trial 8 with value: 8.917666294357993.\n",
      "[I 2025-06-15 22:30:02,553] Trial 22 finished with value: 8.918606942350214 and parameters: {'hidden_size': 244, 'num_layers': 1, 'dropout': 0.2889417402998379, 'lr': 0.00027463956974410457, 'batch_size': 32, 'seq_len': 16}. Best is trial 8 with value: 8.917666294357993.\n",
      "[I 2025-06-15 22:30:06,552] Trial 23 finished with value: 8.918821865862066 and parameters: {'hidden_size': 211, 'num_layers': 1, 'dropout': 0.2632656714745905, 'lr': 0.0002670842870943283, 'batch_size': 32, 'seq_len': 16}. Best is trial 8 with value: 8.917666294357993.\n",
      "[I 2025-06-15 22:30:10,647] Trial 24 finished with value: 8.920196110552007 and parameters: {'hidden_size': 228, 'num_layers': 1, 'dropout': 0.26968935254537596, 'lr': 0.0002742784274041319, 'batch_size': 32, 'seq_len': 16}. Best is trial 8 with value: 8.917666294357993.\n",
      "[I 2025-06-15 22:30:14,620] Trial 25 finished with value: 8.937485803625739 and parameters: {'hidden_size': 201, 'num_layers': 1, 'dropout': 0.15285818730354173, 'lr': 0.0006789534681062355, 'batch_size': 32, 'seq_len': 15}. Best is trial 8 with value: 8.917666294357993.\n",
      "[I 2025-06-15 22:30:18,569] Trial 26 finished with value: 9.058481421174303 and parameters: {'hidden_size': 240, 'num_layers': 1, 'dropout': 0.2799020548641684, 'lr': 0.00015027493493666188, 'batch_size': 32, 'seq_len': 14}. Best is trial 8 with value: 8.917666294357993.\n",
      "[I 2025-06-15 22:30:22,354] Trial 27 finished with value: 9.027018418472805 and parameters: {'hidden_size': 204, 'num_layers': 1, 'dropout': 0.2194063564868652, 'lr': 0.00028651278920074176, 'batch_size': 32, 'seq_len': 12}. Best is trial 8 with value: 8.917666294357993.\n",
      "[I 2025-06-15 22:30:23,861] Trial 28 finished with value: 8.925000754269687 and parameters: {'hidden_size': 134, 'num_layers': 1, 'dropout': 0.37679080975640705, 'lr': 0.0005065827873035485, 'batch_size': 128, 'seq_len': 16}. Best is trial 8 with value: 8.917666294357993.\n",
      "[I 2025-06-15 22:30:26,483] Trial 29 finished with value: 9.027721013915674 and parameters: {'hidden_size': 239, 'num_layers': 1, 'dropout': 0.10669406254586263, 'lr': 0.0009084068344167209, 'batch_size': 64, 'seq_len': 12}. Best is trial 8 with value: 8.917666294357993.\n",
      "[I 2025-06-15 22:30:30,672] Trial 30 finished with value: 8.945378229908497 and parameters: {'hidden_size': 83, 'num_layers': 1, 'dropout': 0.1444820733830713, 'lr': 0.001664875593721482, 'batch_size': 32, 'seq_len': 15}. Best is trial 8 with value: 8.917666294357993.\n",
      "[I 2025-06-15 22:30:35,689] Trial 31 finished with value: 8.919838601892645 and parameters: {'hidden_size': 222, 'num_layers': 1, 'dropout': 0.2744281683971046, 'lr': 0.00027228276282291605, 'batch_size': 32, 'seq_len': 16}. Best is trial 8 with value: 8.917666294357993.\n",
      "[I 2025-06-15 22:30:40,039] Trial 32 finished with value: 8.918891592459245 and parameters: {'hidden_size': 214, 'num_layers': 1, 'dropout': 0.3071207540121185, 'lr': 0.00025133815335394037, 'batch_size': 32, 'seq_len': 16}. Best is trial 8 with value: 8.917666294357993.\n",
      "[I 2025-06-15 22:30:44,586] Trial 33 finished with value: 8.941359512529022 and parameters: {'hidden_size': 211, 'num_layers': 1, 'dropout': 0.31501849262767745, 'lr': 0.00014779824406537773, 'batch_size': 32, 'seq_len': 15}. Best is trial 8 with value: 8.917666294357993.\n",
      "[I 2025-06-15 22:30:48,993] Trial 34 finished with value: 8.917022488333963 and parameters: {'hidden_size': 243, 'num_layers': 1, 'dropout': 0.23577605497949686, 'lr': 0.00024720391215585403, 'batch_size': 32, 'seq_len': 16}. Best is trial 34 with value: 8.917022488333963.\n",
      "[I 2025-06-15 22:30:51,292] Trial 35 finished with value: 9.0277137567768 and parameters: {'hidden_size': 245, 'num_layers': 1, 'dropout': 0.23112765912784813, 'lr': 0.0005428478830010129, 'batch_size': 64, 'seq_len': 14}. Best is trial 34 with value: 8.917022488333963.\n",
      "[I 2025-06-15 22:30:55,445] Trial 36 finished with value: 8.934755686659988 and parameters: {'hidden_size': 188, 'num_layers': 1, 'dropout': 0.18243212915301135, 'lr': 0.0001767236565310233, 'batch_size': 32, 'seq_len': 15}. Best is trial 34 with value: 8.917022488333963.\n",
      "[I 2025-06-15 22:30:57,081] Trial 37 finished with value: 8.91952599178661 and parameters: {'hidden_size': 234, 'num_layers': 1, 'dropout': 0.2488879893843173, 'lr': 0.0008160593334829808, 'batch_size': 128, 'seq_len': 16}. Best is trial 34 with value: 8.917022488333963.\n",
      "[I 2025-06-15 22:30:59,532] Trial 38 finished with value: 9.04336127764742 and parameters: {'hidden_size': 254, 'num_layers': 1, 'dropout': 0.20378782491756608, 'lr': 0.0012643690604701966, 'batch_size': 64, 'seq_len': 13}. Best is trial 34 with value: 8.917022488333963.\n",
      "[I 2025-06-15 22:31:03,156] Trial 39 finished with value: 9.04861035293707 and parameters: {'hidden_size': 116, 'num_layers': 1, 'dropout': 0.05932401905037282, 'lr': 0.00039528590119749537, 'batch_size': 32, 'seq_len': 10}. Best is trial 34 with value: 8.917022488333963.\n",
      "[I 2025-06-15 22:31:09,218] Trial 40 finished with value: 8.922066926956177 and parameters: {'hidden_size': 132, 'num_layers': 3, 'dropout': 0.4258979292546804, 'lr': 0.0002184984133148126, 'batch_size': 32, 'seq_len': 16}. Best is trial 34 with value: 8.917022488333963.\n",
      "[I 2025-06-15 22:31:13,634] Trial 41 finished with value: 8.920053352009166 and parameters: {'hidden_size': 216, 'num_layers': 1, 'dropout': 0.29860400592478836, 'lr': 0.00031256584126985586, 'batch_size': 32, 'seq_len': 16}. Best is trial 34 with value: 8.917022488333963.\n",
      "[I 2025-06-15 22:31:17,810] Trial 42 finished with value: 8.919807293198325 and parameters: {'hidden_size': 189, 'num_layers': 1, 'dropout': 0.33960230178454753, 'lr': 0.00023172024551455347, 'batch_size': 32, 'seq_len': 16}. Best is trial 34 with value: 8.917022488333963.\n",
      "[I 2025-06-15 22:31:22,161] Trial 43 finished with value: 8.936909864712032 and parameters: {'hidden_size': 228, 'num_layers': 1, 'dropout': 0.24996355933806996, 'lr': 0.00012425944363035773, 'batch_size': 32, 'seq_len': 15}. Best is trial 34 with value: 8.917022488333963.\n",
      "[I 2025-06-15 22:31:26,411] Trial 44 finished with value: 8.917316382581538 and parameters: {'hidden_size': 212, 'num_layers': 1, 'dropout': 0.29799994612329245, 'lr': 0.0002490168113465405, 'batch_size': 32, 'seq_len': 16}. Best is trial 34 with value: 8.917022488333963.\n",
      "[I 2025-06-15 22:31:30,984] Trial 45 finished with value: 8.934445443301971 and parameters: {'hidden_size': 234, 'num_layers': 1, 'dropout': 0.24522543095022123, 'lr': 0.00018705899786325246, 'batch_size': 32, 'seq_len': 15}. Best is trial 34 with value: 8.917022488333963.\n",
      "[I 2025-06-15 22:31:32,956] Trial 46 finished with value: 8.915939461101186 and parameters: {'hidden_size': 105, 'num_layers': 1, 'dropout': 0.17646678238522887, 'lr': 0.00013076078831219422, 'batch_size': 64, 'seq_len': 16}. Best is trial 46 with value: 8.915939461101186.\n",
      "[I 2025-06-15 22:31:35,222] Trial 47 finished with value: 9.020451726213013 and parameters: {'hidden_size': 106, 'num_layers': 2, 'dropout': 0.17217112295463696, 'lr': 0.00011723285043384474, 'batch_size': 64, 'seq_len': 14}. Best is trial 46 with value: 8.915939461101186.\n",
      "[I 2025-06-15 22:31:37,218] Trial 48 finished with value: 8.930804039871388 and parameters: {'hidden_size': 72, 'num_layers': 1, 'dropout': 0.1185840436000753, 'lr': 0.00015551074344206402, 'batch_size': 64, 'seq_len': 15}. Best is trial 46 with value: 8.915939461101186.\n",
      "[I 2025-06-15 22:31:39,567] Trial 49 finished with value: 8.919727368788285 and parameters: {'hidden_size': 88, 'num_layers': 2, 'dropout': 0.20316561610184017, 'lr': 0.00010061647900727224, 'batch_size': 64, 'seq_len': 16}. Best is trial 46 with value: 8.915939461101186.\n"
     ]
    }
   ],
   "source": [
    "study = optuna.create_study(direction='minimize')\n",
    "study.optimize(objective, n_trials=50)"
   ]
  },
  {
   "cell_type": "code",
   "execution_count": 11,
   "id": "16ebff06",
   "metadata": {},
   "outputs": [
    {
     "name": "stdout",
     "output_type": "stream",
     "text": [
      "Mejores hiperparámetros: {'hidden_size': 105, 'num_layers': 1, 'dropout': 0.17646678238522887, 'lr': 0.00013076078831219422, 'batch_size': 64, 'seq_len': 16}\n"
     ]
    },
    {
     "ename": "KeyError",
     "evalue": "\"['dengue'] not in index\"",
     "output_type": "error",
     "traceback": [
      "\u001b[31m---------------------------------------------------------------------------\u001b[39m",
      "\u001b[31mKeyError\u001b[39m                                  Traceback (most recent call last)",
      "\u001b[36mCell\u001b[39m\u001b[36m \u001b[39m\u001b[32mIn[11]\u001b[39m\u001b[32m, line 21\u001b[39m\n\u001b[32m     19\u001b[39m seq_len = params[\u001b[33m'\u001b[39m\u001b[33mseq_len\u001b[39m\u001b[33m'\u001b[39m]\n\u001b[32m     20\u001b[39m batch_size = params[\u001b[33m'\u001b[39m\u001b[33mbatch_size\u001b[39m\u001b[33m'\u001b[39m]\n\u001b[32m---> \u001b[39m\u001b[32m21\u001b[39m dataset_test = \u001b[43mDengueDataset\u001b[49m\u001b[43m(\u001b[49m\u001b[43mdf_test\u001b[49m\u001b[43m,\u001b[49m\u001b[43m \u001b[49m\u001b[43mseq_len\u001b[49m\u001b[43m)\u001b[49m\n\u001b[32m     22\u001b[39m loader_test = DataLoader(dataset_test, batch_size=batch_size, shuffle=\u001b[38;5;28;01mFalse\u001b[39;00m)\n\u001b[32m     24\u001b[39m preds = []\n",
      "\u001b[36mCell\u001b[39m\u001b[36m \u001b[39m\u001b[32mIn[3]\u001b[39m\u001b[32m, line 8\u001b[39m, in \u001b[36mDengueDataset.__init__\u001b[39m\u001b[34m(self, df, seq_len)\u001b[39m\n\u001b[32m      6\u001b[39m \u001b[38;5;28;01mfor\u001b[39;00m _, group \u001b[38;5;129;01min\u001b[39;00m df.groupby(\u001b[33m'\u001b[39m\u001b[33mid_bar\u001b[39m\u001b[33m'\u001b[39m):\n\u001b[32m      7\u001b[39m     group = group.sort_values([\u001b[33m'\u001b[39m\u001b[33manio\u001b[39m\u001b[33m'\u001b[39m, \u001b[33m'\u001b[39m\u001b[33msemana\u001b[39m\u001b[33m'\u001b[39m])\n\u001b[32m----> \u001b[39m\u001b[32m8\u001b[39m     vals = \u001b[43mgroup\u001b[49m\u001b[43m[\u001b[49m\u001b[43mFEATURE_COLS\u001b[49m\u001b[43m \u001b[49m\u001b[43m+\u001b[49m\u001b[43m \u001b[49m\u001b[43m[\u001b[49m\u001b[43mTARGET_COL\u001b[49m\u001b[43m]\u001b[49m\u001b[43m]\u001b[49m.values\n\u001b[32m      9\u001b[39m     \u001b[38;5;28;01mfor\u001b[39;00m i \u001b[38;5;129;01min\u001b[39;00m \u001b[38;5;28mrange\u001b[39m(\u001b[38;5;28mlen\u001b[39m(vals) - seq_len):\n\u001b[32m     10\u001b[39m         x = vals[i:i+seq_len, :-\u001b[32m1\u001b[39m]\n",
      "\u001b[36mFile \u001b[39m\u001b[32mc:\\Git\\ICESI\\FA_TALLER2\\venv\\Lib\\site-packages\\pandas\\core\\frame.py:4108\u001b[39m, in \u001b[36mDataFrame.__getitem__\u001b[39m\u001b[34m(self, key)\u001b[39m\n\u001b[32m   4106\u001b[39m     \u001b[38;5;28;01mif\u001b[39;00m is_iterator(key):\n\u001b[32m   4107\u001b[39m         key = \u001b[38;5;28mlist\u001b[39m(key)\n\u001b[32m-> \u001b[39m\u001b[32m4108\u001b[39m     indexer = \u001b[38;5;28;43mself\u001b[39;49m\u001b[43m.\u001b[49m\u001b[43mcolumns\u001b[49m\u001b[43m.\u001b[49m\u001b[43m_get_indexer_strict\u001b[49m\u001b[43m(\u001b[49m\u001b[43mkey\u001b[49m\u001b[43m,\u001b[49m\u001b[43m \u001b[49m\u001b[33;43m\"\u001b[39;49m\u001b[33;43mcolumns\u001b[39;49m\u001b[33;43m\"\u001b[39;49m\u001b[43m)\u001b[49m[\u001b[32m1\u001b[39m]\n\u001b[32m   4110\u001b[39m \u001b[38;5;66;03m# take() does not accept boolean indexers\u001b[39;00m\n\u001b[32m   4111\u001b[39m \u001b[38;5;28;01mif\u001b[39;00m \u001b[38;5;28mgetattr\u001b[39m(indexer, \u001b[33m\"\u001b[39m\u001b[33mdtype\u001b[39m\u001b[33m\"\u001b[39m, \u001b[38;5;28;01mNone\u001b[39;00m) == \u001b[38;5;28mbool\u001b[39m:\n",
      "\u001b[36mFile \u001b[39m\u001b[32mc:\\Git\\ICESI\\FA_TALLER2\\venv\\Lib\\site-packages\\pandas\\core\\indexes\\base.py:6200\u001b[39m, in \u001b[36mIndex._get_indexer_strict\u001b[39m\u001b[34m(self, key, axis_name)\u001b[39m\n\u001b[32m   6197\u001b[39m \u001b[38;5;28;01melse\u001b[39;00m:\n\u001b[32m   6198\u001b[39m     keyarr, indexer, new_indexer = \u001b[38;5;28mself\u001b[39m._reindex_non_unique(keyarr)\n\u001b[32m-> \u001b[39m\u001b[32m6200\u001b[39m \u001b[38;5;28;43mself\u001b[39;49m\u001b[43m.\u001b[49m\u001b[43m_raise_if_missing\u001b[49m\u001b[43m(\u001b[49m\u001b[43mkeyarr\u001b[49m\u001b[43m,\u001b[49m\u001b[43m \u001b[49m\u001b[43mindexer\u001b[49m\u001b[43m,\u001b[49m\u001b[43m \u001b[49m\u001b[43maxis_name\u001b[49m\u001b[43m)\u001b[49m\n\u001b[32m   6202\u001b[39m keyarr = \u001b[38;5;28mself\u001b[39m.take(indexer)\n\u001b[32m   6203\u001b[39m \u001b[38;5;28;01mif\u001b[39;00m \u001b[38;5;28misinstance\u001b[39m(key, Index):\n\u001b[32m   6204\u001b[39m     \u001b[38;5;66;03m# GH 42790 - Preserve name from an Index\u001b[39;00m\n",
      "\u001b[36mFile \u001b[39m\u001b[32mc:\\Git\\ICESI\\FA_TALLER2\\venv\\Lib\\site-packages\\pandas\\core\\indexes\\base.py:6252\u001b[39m, in \u001b[36mIndex._raise_if_missing\u001b[39m\u001b[34m(self, key, indexer, axis_name)\u001b[39m\n\u001b[32m   6249\u001b[39m     \u001b[38;5;28;01mraise\u001b[39;00m \u001b[38;5;167;01mKeyError\u001b[39;00m(\u001b[33mf\u001b[39m\u001b[33m\"\u001b[39m\u001b[33mNone of [\u001b[39m\u001b[38;5;132;01m{\u001b[39;00mkey\u001b[38;5;132;01m}\u001b[39;00m\u001b[33m] are in the [\u001b[39m\u001b[38;5;132;01m{\u001b[39;00maxis_name\u001b[38;5;132;01m}\u001b[39;00m\u001b[33m]\u001b[39m\u001b[33m\"\u001b[39m)\n\u001b[32m   6251\u001b[39m not_found = \u001b[38;5;28mlist\u001b[39m(ensure_index(key)[missing_mask.nonzero()[\u001b[32m0\u001b[39m]].unique())\n\u001b[32m-> \u001b[39m\u001b[32m6252\u001b[39m \u001b[38;5;28;01mraise\u001b[39;00m \u001b[38;5;167;01mKeyError\u001b[39;00m(\u001b[33mf\u001b[39m\u001b[33m\"\u001b[39m\u001b[38;5;132;01m{\u001b[39;00mnot_found\u001b[38;5;132;01m}\u001b[39;00m\u001b[33m not in index\u001b[39m\u001b[33m\"\u001b[39m)\n",
      "\u001b[31mKeyError\u001b[39m: \"['dengue'] not in index\""
     ]
    }
   ],
   "source": [
    "print('Mejores hiperparámetros:', study.best_params)\n",
    "\n",
    "# %%\n",
    "params = study.best_params\n",
    "\n",
    "# If you changed the model definition or search space, retrain and save the model again.\n",
    "# Otherwise, make sure to use the exact same parameters as when 'best_model.pth' was saved.\n",
    "model = LSTMModel(\n",
    "    input_size=len(FEATURE_COLS),\n",
    "    hidden_size=params['hidden_size'],\n",
    "    num_layers=params['num_layers'],\n",
    "    dropout=params['dropout']\n",
    ").to(device)\n",
    "\n",
    "# If you want to load weights, make sure the model definition matches the checkpoint.\n",
    "# Otherwise, skip loading the state dict to avoid size mismatch errors.\n",
    "model.eval()\n",
    "\n",
    "seq_len = params['seq_len']\n",
    "batch_size = params['batch_size']\n",
    "dataset_test = DengueDataset(df_test, seq_len)\n",
    "loader_test = DataLoader(dataset_test, batch_size=batch_size, shuffle=False)\n",
    "\n",
    "preds = []\n",
    "with torch.no_grad():\n",
    "    for x, _ in loader_test:\n",
    "        preds.extend(model(x.to(device)).cpu().numpy())"
   ]
  },
  {
   "cell_type": "code",
   "execution_count": null,
   "id": "48aef854",
   "metadata": {},
   "outputs": [],
   "source": [
    "submission = pd.read_csv(os.path.join(data_dir, 'sample_submission.csv'))\n",
    "submission['dengue'] = preds\n",
    "submission.to_csv('predictions_Gpt_LSTM.csv', index=False)\n",
    "print('Archivo predictions.csv guardado correctamente')"
   ]
  }
 ],
 "metadata": {
  "kernelspec": {
   "display_name": "venv",
   "language": "python",
   "name": "python3"
  },
  "language_info": {
   "codemirror_mode": {
    "name": "ipython",
    "version": 3
   },
   "file_extension": ".py",
   "mimetype": "text/x-python",
   "name": "python",
   "nbconvert_exporter": "python",
   "pygments_lexer": "ipython3",
   "version": "3.13.3"
  }
 },
 "nbformat": 4,
 "nbformat_minor": 5
}
