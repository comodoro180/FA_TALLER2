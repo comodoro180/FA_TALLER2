{
 "cells": [
  {
   "cell_type": "markdown",
   "id": "100820ba",
   "metadata": {
    "papermill": {
     "duration": 0.006708,
     "end_time": "2025-06-06T01:05:13.015676",
     "exception": false,
     "start_time": "2025-06-06T01:05:13.008968",
     "status": "completed"
    },
    "tags": []
   },
   "source": [
    "# Librerias"
   ]
  },
  {
   "cell_type": "code",
   "execution_count": 37,
   "id": "de1982ad",
   "metadata": {
    "_cell_guid": "b1076dfc-b9ad-4769-8c92-a6c4dae69d19",
    "_uuid": "8f2839f25d086af736a60e9eeb907d3b93b6e0e5",
    "execution": {
     "iopub.execute_input": "2025-06-06T01:05:13.028293Z",
     "iopub.status.busy": "2025-06-06T01:05:13.028042Z",
     "iopub.status.idle": "2025-06-06T01:05:20.627520Z",
     "shell.execute_reply": "2025-06-06T01:05:20.626625Z"
    },
    "papermill": {
     "duration": 7.607344,
     "end_time": "2025-06-06T01:05:20.628893",
     "exception": false,
     "start_time": "2025-06-06T01:05:13.021549",
     "status": "completed"
    },
    "tags": []
   },
   "outputs": [],
   "source": [
    "\n",
    "import numpy as np # linear algebra\n",
    "import pandas as pd # data processing, CSV file I/O (e.g. pd.read_csv)\n",
    "\n",
    "pd.set_option('display.max_columns', None)\n",
    "\n",
    "import matplotlib.pyplot as plt #gráficos\n",
    "from sklearn.neural_network import MLPRegressor\n",
    "from sklearn.metrics import mean_squared_error, mean_absolute_error, r2_score\n",
    "from math import sqrt\n",
    "\n",
    "import torch\n",
    "from torch.utils.data import Dataset, DataLoader\n",
    "import torch.nn as nn\n",
    "import torch.optim as optim\n",
    "from sklearn.preprocessing import StandardScaler\n",
    "import random\n",
    "import os"
   ]
  },
  {
   "cell_type": "code",
   "execution_count": 38,
   "id": "f1fd7af6",
   "metadata": {
    "execution": {
     "iopub.execute_input": "2025-06-06T01:05:20.641859Z",
     "iopub.status.busy": "2025-06-06T01:05:20.641465Z",
     "iopub.status.idle": "2025-06-06T01:05:20.645047Z",
     "shell.execute_reply": "2025-06-06T01:05:20.644446Z"
    },
    "papermill": {
     "duration": 0.010984,
     "end_time": "2025-06-06T01:05:20.646082",
     "exception": false,
     "start_time": "2025-06-06T01:05:20.635098",
     "status": "completed"
    },
    "tags": []
   },
   "outputs": [],
   "source": [
    "import warnings\n",
    "warnings.filterwarnings('ignore')"
   ]
  },
  {
   "cell_type": "code",
   "execution_count": 39,
   "id": "e625cf2f",
   "metadata": {
    "execution": {
     "iopub.execute_input": "2025-06-06T01:05:20.658928Z",
     "iopub.status.busy": "2025-06-06T01:05:20.658678Z",
     "iopub.status.idle": "2025-06-06T01:05:20.724434Z",
     "shell.execute_reply": "2025-06-06T01:05:20.723808Z"
    },
    "papermill": {
     "duration": 0.073561,
     "end_time": "2025-06-06T01:05:20.725638",
     "exception": false,
     "start_time": "2025-06-06T01:05:20.652077",
     "status": "completed"
    },
    "tags": []
   },
   "outputs": [
    {
     "name": "stdout",
     "output_type": "stream",
     "text": [
      "Utilizamos la primera GPU disponible\n"
     ]
    },
    {
     "data": {
      "text/plain": [
       "device(type='cuda', index=0)"
      ]
     },
     "execution_count": 39,
     "metadata": {},
     "output_type": "execute_result"
    }
   ],
   "source": [
    "if torch.cuda.is_available():\n",
    "    print(\"Utilizamos la primera GPU disponible\")\n",
    "    DEVICE=device = torch.device('cuda:0')\n",
    "    os.environ[\"CUDA_LAUNCH_BLOCKING\"] = \"1\"\n",
    "else:\n",
    "    print(\"No hay GPU, toca correr todo en CPU\")\n",
    "    DEVICE=device = torch.device('cpu')\n",
    "\n",
    "DEVICE"
   ]
  },
  {
   "cell_type": "code",
   "execution_count": 40,
   "id": "700f4623",
   "metadata": {
    "execution": {
     "iopub.execute_input": "2025-06-06T01:05:20.741174Z",
     "iopub.status.busy": "2025-06-06T01:05:20.740902Z",
     "iopub.status.idle": "2025-06-06T01:05:20.744995Z",
     "shell.execute_reply": "2025-06-06T01:05:20.744305Z"
    },
    "papermill": {
     "duration": 0.013542,
     "end_time": "2025-06-06T01:05:20.746248",
     "exception": false,
     "start_time": "2025-06-06T01:05:20.732706",
     "status": "completed"
    },
    "tags": []
   },
   "outputs": [],
   "source": [
    "os.environ[\"CUDA_LAUNCH_BLOCKING\"] = \"1\" if torch.cuda.is_available() else \"0\""
   ]
  },
  {
   "cell_type": "code",
   "execution_count": 41,
   "id": "62340b99",
   "metadata": {
    "execution": {
     "iopub.execute_input": "2025-06-06T01:05:20.761079Z",
     "iopub.status.busy": "2025-06-06T01:05:20.760792Z",
     "iopub.status.idle": "2025-06-06T01:05:20.765701Z",
     "shell.execute_reply": "2025-06-06T01:05:20.764861Z"
    },
    "papermill": {
     "duration": 0.01387,
     "end_time": "2025-06-06T01:05:20.767089",
     "exception": false,
     "start_time": "2025-06-06T01:05:20.753219",
     "status": "completed"
    },
    "tags": []
   },
   "outputs": [],
   "source": [
    "def reset_seed():\n",
    "    SEED = 42\n",
    "    torch.backends.cudnn.enabled = True\n",
    "    torch.manual_seed(SEED)\n",
    "    np.random.seed(SEED)\n",
    "    random.seed(SEED)\n",
    "\n",
    "    if torch.cuda.is_available():\n",
    "        torch.cuda.manual_seed(SEED)\n",
    "        torch.cuda.manual_seed_all(SEED)\n",
    "        torch.backends.cudnn.deterministic = True\n",
    "        torch.backends.cudnn.benchmark = False"
   ]
  },
  {
   "cell_type": "code",
   "execution_count": 42,
   "id": "2f6922df",
   "metadata": {
    "execution": {
     "iopub.execute_input": "2025-06-06T01:05:20.781941Z",
     "iopub.status.busy": "2025-06-06T01:05:20.781656Z",
     "iopub.status.idle": "2025-06-06T01:05:20.790112Z",
     "shell.execute_reply": "2025-06-06T01:05:20.789546Z"
    },
    "papermill": {
     "duration": 0.017527,
     "end_time": "2025-06-06T01:05:20.791338",
     "exception": false,
     "start_time": "2025-06-06T01:05:20.773811",
     "status": "completed"
    },
    "tags": []
   },
   "outputs": [],
   "source": [
    "reset_seed()"
   ]
  },
  {
   "cell_type": "markdown",
   "id": "183d220d",
   "metadata": {
    "papermill": {
     "duration": 0.006675,
     "end_time": "2025-06-06T01:05:20.805091",
     "exception": false,
     "start_time": "2025-06-06T01:05:20.798416",
     "status": "completed"
    },
    "tags": []
   },
   "source": [
    "# Carga de datos"
   ]
  },
  {
   "cell_type": "code",
   "execution_count": 43,
   "id": "29f74a8c",
   "metadata": {
    "execution": {
     "iopub.execute_input": "2025-06-06T01:05:20.818740Z",
     "iopub.status.busy": "2025-06-06T01:05:20.818216Z",
     "iopub.status.idle": "2025-06-06T01:05:20.977003Z",
     "shell.execute_reply": "2025-06-06T01:05:20.976272Z"
    },
    "papermill": {
     "duration": 0.166631,
     "end_time": "2025-06-06T01:05:20.978085",
     "exception": false,
     "start_time": "2025-06-06T01:05:20.811454",
     "status": "completed"
    },
    "tags": []
   },
   "outputs": [
    {
     "name": "stdout",
     "output_type": "stream",
     "text": [
      "(3680, 20)\n"
     ]
    },
    {
     "data": {
      "application/vnd.microsoft.datawrangler.viewer.v0+json": {
       "columns": [
        {
         "name": "index",
         "rawType": "int64",
         "type": "integer"
        },
        {
         "name": "id",
         "rawType": "object",
         "type": "string"
        },
        {
         "name": "id_bar",
         "rawType": "int64",
         "type": "integer"
        },
        {
         "name": "anio",
         "rawType": "int64",
         "type": "integer"
        },
        {
         "name": "semana",
         "rawType": "UInt32",
         "type": "integer"
        },
        {
         "name": "ESTRATO",
         "rawType": "float64",
         "type": "float"
        },
        {
         "name": "area_barrio",
         "rawType": "float64",
         "type": "float"
        },
        {
         "name": "dengue",
         "rawType": "float64",
         "type": "float"
        },
        {
         "name": "concentraciones",
         "rawType": "float64",
         "type": "float"
        },
        {
         "name": "vivienda",
         "rawType": "float64",
         "type": "float"
        },
        {
         "name": "equipesado",
         "rawType": "float64",
         "type": "float"
        },
        {
         "name": "sumideros",
         "rawType": "float64",
         "type": "float"
        },
        {
         "name": "maquina",
         "rawType": "float64",
         "type": "float"
        },
        {
         "name": "lluvia_mean",
         "rawType": "float64",
         "type": "float"
        },
        {
         "name": "lluvia_var",
         "rawType": "float64",
         "type": "float"
        },
        {
         "name": "lluvia_max",
         "rawType": "float64",
         "type": "float"
        },
        {
         "name": "lluvia_min",
         "rawType": "float64",
         "type": "float"
        },
        {
         "name": "temperatura_mean",
         "rawType": "float64",
         "type": "float"
        },
        {
         "name": "temperatura_var",
         "rawType": "float64",
         "type": "float"
        },
        {
         "name": "temperatura_max",
         "rawType": "float64",
         "type": "float"
        },
        {
         "name": "temperatura_min",
         "rawType": "float64",
         "type": "float"
        }
       ],
       "ref": "dc5411c0-0be7-43df-839f-f9c2d08955f6",
       "rows": [
        [
         "0",
         "4_2015_01",
         "4",
         "2015",
         "1",
         "3.0",
         "0.56",
         "0.0",
         "0.0",
         "0.0",
         "0.0",
         "0.0",
         "0.0",
         "0.0006510416666666666",
         "4.069010416666667e-05",
         "0.0625",
         "0.0",
         "26.163888888888888",
         "11.588927875243662",
         "31.8",
         "20.900000000000002"
        ],
        [
         "1",
         "5_2015_01",
         "5",
         "2015",
         "1",
         "3.0",
         "0.842",
         "0.0",
         "0.0",
         "0.0",
         "0.0",
         "0.0",
         "0.0",
         "0.0006510416666666666",
         "4.069010416666667e-05",
         "0.0625",
         "0.0",
         "26.163888888888888",
         "11.588927875243662",
         "31.8",
         "20.900000000000002"
        ],
        [
         "2",
         "3_2015_01",
         "3",
         "2015",
         "1",
         "1.0",
         "0.781",
         "0.0",
         "0.0",
         "0.0",
         "0.0",
         "0.0",
         "0.0",
         "0.0006510416666666666",
         "4.069010416666667e-05",
         "0.0625",
         "0.0",
         "26.163888888888888",
         "11.588927875243662",
         "31.8",
         "20.900000000000002"
        ],
        [
         "3",
         "8_2015_01",
         "8",
         "2015",
         "1",
         "2.0",
         "0.394",
         "0.0",
         "0.0",
         "0.0",
         "0.0",
         "0.0",
         "0.0",
         "0.0006510416666666666",
         "4.069010416666667e-05",
         "0.0625",
         "0.0",
         "26.163888888888888",
         "11.588927875243662",
         "31.8",
         "20.900000000000002"
        ],
        [
         "4",
         "9_2015_01",
         "9",
         "2015",
         "1",
         "2.0",
         "0.292",
         "0.0",
         "0.0",
         "0.0",
         "0.0",
         "0.0",
         "0.0",
         "0.0006510416666666666",
         "4.069010416666667e-05",
         "0.0625",
         "0.0",
         "26.163888888888888",
         "11.588927875243662",
         "31.8",
         "20.900000000000002"
        ]
       ],
       "shape": {
        "columns": 20,
        "rows": 5
       }
      },
      "text/html": [
       "<div>\n",
       "<style scoped>\n",
       "    .dataframe tbody tr th:only-of-type {\n",
       "        vertical-align: middle;\n",
       "    }\n",
       "\n",
       "    .dataframe tbody tr th {\n",
       "        vertical-align: top;\n",
       "    }\n",
       "\n",
       "    .dataframe thead th {\n",
       "        text-align: right;\n",
       "    }\n",
       "</style>\n",
       "<table border=\"1\" class=\"dataframe\">\n",
       "  <thead>\n",
       "    <tr style=\"text-align: right;\">\n",
       "      <th></th>\n",
       "      <th>id</th>\n",
       "      <th>id_bar</th>\n",
       "      <th>anio</th>\n",
       "      <th>semana</th>\n",
       "      <th>ESTRATO</th>\n",
       "      <th>area_barrio</th>\n",
       "      <th>dengue</th>\n",
       "      <th>concentraciones</th>\n",
       "      <th>vivienda</th>\n",
       "      <th>equipesado</th>\n",
       "      <th>sumideros</th>\n",
       "      <th>maquina</th>\n",
       "      <th>lluvia_mean</th>\n",
       "      <th>lluvia_var</th>\n",
       "      <th>lluvia_max</th>\n",
       "      <th>lluvia_min</th>\n",
       "      <th>temperatura_mean</th>\n",
       "      <th>temperatura_var</th>\n",
       "      <th>temperatura_max</th>\n",
       "      <th>temperatura_min</th>\n",
       "    </tr>\n",
       "  </thead>\n",
       "  <tbody>\n",
       "    <tr>\n",
       "      <th>0</th>\n",
       "      <td>4_2015_01</td>\n",
       "      <td>4</td>\n",
       "      <td>2015</td>\n",
       "      <td>1</td>\n",
       "      <td>3.0</td>\n",
       "      <td>0.560</td>\n",
       "      <td>0.0</td>\n",
       "      <td>0.0</td>\n",
       "      <td>0.0</td>\n",
       "      <td>0.0</td>\n",
       "      <td>0.0</td>\n",
       "      <td>0.0</td>\n",
       "      <td>0.000651</td>\n",
       "      <td>0.000041</td>\n",
       "      <td>0.0625</td>\n",
       "      <td>0.0</td>\n",
       "      <td>26.163889</td>\n",
       "      <td>11.588928</td>\n",
       "      <td>31.8</td>\n",
       "      <td>20.9</td>\n",
       "    </tr>\n",
       "    <tr>\n",
       "      <th>1</th>\n",
       "      <td>5_2015_01</td>\n",
       "      <td>5</td>\n",
       "      <td>2015</td>\n",
       "      <td>1</td>\n",
       "      <td>3.0</td>\n",
       "      <td>0.842</td>\n",
       "      <td>0.0</td>\n",
       "      <td>0.0</td>\n",
       "      <td>0.0</td>\n",
       "      <td>0.0</td>\n",
       "      <td>0.0</td>\n",
       "      <td>0.0</td>\n",
       "      <td>0.000651</td>\n",
       "      <td>0.000041</td>\n",
       "      <td>0.0625</td>\n",
       "      <td>0.0</td>\n",
       "      <td>26.163889</td>\n",
       "      <td>11.588928</td>\n",
       "      <td>31.8</td>\n",
       "      <td>20.9</td>\n",
       "    </tr>\n",
       "    <tr>\n",
       "      <th>2</th>\n",
       "      <td>3_2015_01</td>\n",
       "      <td>3</td>\n",
       "      <td>2015</td>\n",
       "      <td>1</td>\n",
       "      <td>1.0</td>\n",
       "      <td>0.781</td>\n",
       "      <td>0.0</td>\n",
       "      <td>0.0</td>\n",
       "      <td>0.0</td>\n",
       "      <td>0.0</td>\n",
       "      <td>0.0</td>\n",
       "      <td>0.0</td>\n",
       "      <td>0.000651</td>\n",
       "      <td>0.000041</td>\n",
       "      <td>0.0625</td>\n",
       "      <td>0.0</td>\n",
       "      <td>26.163889</td>\n",
       "      <td>11.588928</td>\n",
       "      <td>31.8</td>\n",
       "      <td>20.9</td>\n",
       "    </tr>\n",
       "    <tr>\n",
       "      <th>3</th>\n",
       "      <td>8_2015_01</td>\n",
       "      <td>8</td>\n",
       "      <td>2015</td>\n",
       "      <td>1</td>\n",
       "      <td>2.0</td>\n",
       "      <td>0.394</td>\n",
       "      <td>0.0</td>\n",
       "      <td>0.0</td>\n",
       "      <td>0.0</td>\n",
       "      <td>0.0</td>\n",
       "      <td>0.0</td>\n",
       "      <td>0.0</td>\n",
       "      <td>0.000651</td>\n",
       "      <td>0.000041</td>\n",
       "      <td>0.0625</td>\n",
       "      <td>0.0</td>\n",
       "      <td>26.163889</td>\n",
       "      <td>11.588928</td>\n",
       "      <td>31.8</td>\n",
       "      <td>20.9</td>\n",
       "    </tr>\n",
       "    <tr>\n",
       "      <th>4</th>\n",
       "      <td>9_2015_01</td>\n",
       "      <td>9</td>\n",
       "      <td>2015</td>\n",
       "      <td>1</td>\n",
       "      <td>2.0</td>\n",
       "      <td>0.292</td>\n",
       "      <td>0.0</td>\n",
       "      <td>0.0</td>\n",
       "      <td>0.0</td>\n",
       "      <td>0.0</td>\n",
       "      <td>0.0</td>\n",
       "      <td>0.0</td>\n",
       "      <td>0.000651</td>\n",
       "      <td>0.000041</td>\n",
       "      <td>0.0625</td>\n",
       "      <td>0.0</td>\n",
       "      <td>26.163889</td>\n",
       "      <td>11.588928</td>\n",
       "      <td>31.8</td>\n",
       "      <td>20.9</td>\n",
       "    </tr>\n",
       "  </tbody>\n",
       "</table>\n",
       "</div>"
      ],
      "text/plain": [
       "          id  id_bar  anio  semana  ESTRATO  area_barrio  dengue  \\\n",
       "0  4_2015_01       4  2015       1      3.0        0.560     0.0   \n",
       "1  5_2015_01       5  2015       1      3.0        0.842     0.0   \n",
       "2  3_2015_01       3  2015       1      1.0        0.781     0.0   \n",
       "3  8_2015_01       8  2015       1      2.0        0.394     0.0   \n",
       "4  9_2015_01       9  2015       1      2.0        0.292     0.0   \n",
       "\n",
       "   concentraciones  vivienda  equipesado  sumideros  maquina  lluvia_mean  \\\n",
       "0              0.0       0.0         0.0        0.0      0.0     0.000651   \n",
       "1              0.0       0.0         0.0        0.0      0.0     0.000651   \n",
       "2              0.0       0.0         0.0        0.0      0.0     0.000651   \n",
       "3              0.0       0.0         0.0        0.0      0.0     0.000651   \n",
       "4              0.0       0.0         0.0        0.0      0.0     0.000651   \n",
       "\n",
       "   lluvia_var  lluvia_max  lluvia_min  temperatura_mean  temperatura_var  \\\n",
       "0    0.000041      0.0625         0.0         26.163889        11.588928   \n",
       "1    0.000041      0.0625         0.0         26.163889        11.588928   \n",
       "2    0.000041      0.0625         0.0         26.163889        11.588928   \n",
       "3    0.000041      0.0625         0.0         26.163889        11.588928   \n",
       "4    0.000041      0.0625         0.0         26.163889        11.588928   \n",
       "\n",
       "   temperatura_max  temperatura_min  \n",
       "0             31.8             20.9  \n",
       "1             31.8             20.9  \n",
       "2             31.8             20.9  \n",
       "3             31.8             20.9  \n",
       "4             31.8             20.9  "
      ]
     },
     "execution_count": 43,
     "metadata": {},
     "output_type": "execute_result"
    }
   ],
   "source": [
    "df = pd.read_parquet('../../Datos/df_train.parquet')\n",
    "print(df.shape)\n",
    "df.head(5)"
   ]
  },
  {
   "cell_type": "code",
   "execution_count": 44,
   "id": "574191ae",
   "metadata": {
    "execution": {
     "iopub.execute_input": "2025-06-06T01:05:20.991499Z",
     "iopub.status.busy": "2025-06-06T01:05:20.991302Z",
     "iopub.status.idle": "2025-06-06T01:05:21.011739Z",
     "shell.execute_reply": "2025-06-06T01:05:21.011226Z"
    },
    "papermill": {
     "duration": 0.028424,
     "end_time": "2025-06-06T01:05:21.012787",
     "exception": false,
     "start_time": "2025-06-06T01:05:20.984363",
     "status": "completed"
    },
    "tags": []
   },
   "outputs": [],
   "source": [
    "# Establecemos una variable que se llame fecha, donde solo te tienen en cuenta el año y el mes\n",
    "\n",
    "df['fecha'] = df['anio'].astype(str) + df['semana'].astype(str).str.zfill(2)\n",
    "df = df.sort_values(by=['fecha','id_bar'])"
   ]
  },
  {
   "cell_type": "markdown",
   "id": "438f2eba",
   "metadata": {
    "papermill": {
     "duration": 0.005863,
     "end_time": "2025-06-06T01:05:21.024793",
     "exception": false,
     "start_time": "2025-06-06T01:05:21.018930",
     "status": "completed"
    },
    "tags": []
   },
   "source": [
    "# Breve entendimiento"
   ]
  },
  {
   "cell_type": "code",
   "execution_count": 45,
   "id": "d66a852b",
   "metadata": {
    "execution": {
     "iopub.execute_input": "2025-06-06T01:05:21.037665Z",
     "iopub.status.busy": "2025-06-06T01:05:21.037422Z",
     "iopub.status.idle": "2025-06-06T01:05:21.409465Z",
     "shell.execute_reply": "2025-06-06T01:05:21.408540Z"
    },
    "papermill": {
     "duration": 0.380569,
     "end_time": "2025-06-06T01:05:21.411319",
     "exception": false,
     "start_time": "2025-06-06T01:05:21.030750",
     "status": "completed"
    },
    "tags": []
   },
   "outputs": [
    {
     "data": {
      "image/png": "[encoded data removed]",
      "text/plain": [
       "<Figure size 1400x700 with 1 Axes>"
      ]
     },
     "metadata": {},
     "output_type": "display_data"
    }
   ],
   "source": [
    "# Group by year and week, summing 'Casos_Dengue'\n",
    "dengue_by_week = df.groupby(['fecha'])['dengue'].sum().reset_index()\n",
    "\n",
    "# Rename columns for clarity\n",
    "dengue_by_week.columns = ['fecha', 'dengue']\n",
    "\n",
    "plt.figure(figsize=(14,7))\n",
    "ax = plt.gca() # get current axis\n",
    "plt.plot(dengue_by_week.fecha, dengue_by_week.dengue)\n",
    "plt.xlabel('Semana')\n",
    "plt.ylabel('Casos Dengue')\n",
    "plt.title('Evolución de los casos de dengue en función de la semana')\n",
    "plt.xticks(np.arange(0,368,9), rotation=90)\n",
    "plt.show()"
   ]
  },
  {
   "cell_type": "code",
   "execution_count": 46,
   "id": "a7d233fc",
   "metadata": {
    "execution": {
     "iopub.execute_input": "2025-06-06T01:05:21.427867Z",
     "iopub.status.busy": "2025-06-06T01:05:21.427609Z",
     "iopub.status.idle": "2025-06-06T01:05:22.274662Z",
     "shell.execute_reply": "2025-06-06T01:05:22.273952Z"
    },
    "papermill": {
     "duration": 0.85674,
     "end_time": "2025-06-06T01:05:22.276128",
     "exception": false,
     "start_time": "2025-06-06T01:05:21.419388",
     "status": "completed"
    },
    "tags": []
   },
   "outputs": [
    {
     "data": {
      "text/plain": [
       "<Figure size 1400x700 with 0 Axes>"
      ]
     },
     "metadata": {},
     "output_type": "display_data"
    },
    {
     "data": {
      "image/png": "[encoded data removed]",
      "text/plain": [
       "<Figure size 1200x800 with 1 Axes>"
      ]
     },
     "metadata": {},
     "output_type": "display_data"
    }
   ],
   "source": [
    "# Extract week number from the 'fecha' column\n",
    "dengue_by_week['week'] = dengue_by_week['fecha'].str[4:].astype(int)\n",
    "\n",
    "# Group by week number and create boxplots\n",
    "plt.figure(figsize=(14, 7))\n",
    "dengue_by_week.boxplot(column='dengue', by='week', figsize=(12, 8))\n",
    "plt.title('Distribución de casos de dengue por semana del año')\n",
    "plt.xlabel('Número de semana')\n",
    "plt.ylabel('Casos de dengue')\n",
    "plt.suptitle('') # Remove the default boxplot title\n",
    "plt.xticks(rotation=45)\n",
    "plt.tight_layout()\n",
    "plt.show()\n"
   ]
  },
  {
   "cell_type": "code",
   "execution_count": 47,
   "id": "58c33a5f",
   "metadata": {
    "execution": {
     "iopub.execute_input": "2025-06-06T01:05:22.294191Z",
     "iopub.status.busy": "2025-06-06T01:05:22.293961Z",
     "iopub.status.idle": "2025-06-06T01:05:22.726124Z",
     "shell.execute_reply": "2025-06-06T01:05:22.725444Z"
    },
    "papermill": {
     "duration": 0.446083,
     "end_time": "2025-06-06T01:05:22.730894",
     "exception": false,
     "start_time": "2025-06-06T01:05:22.284811",
     "status": "completed"
    },
    "tags": []
   },
   "outputs": [
    {
     "data": {
      "image/png": "[encoded data removed]",
      "text/plain": [
       "<Figure size 1400x700 with 1 Axes>"
      ]
     },
     "metadata": {},
     "output_type": "display_data"
    }
   ],
   "source": [
    "plt.figure(figsize=(14,7))\n",
    "ax = plt.gca()  # Obtener el eje actual\n",
    "\n",
    "# Graficar cada barrio en el mismo gráfico\n",
    "for barrio_id in df['id_bar'].unique():\n",
    "    plt.plot(df[df['id_bar'] == barrio_id]['fecha'], df[df['id_bar'] == barrio_id]['dengue'], label=f'Barrio {barrio_id}')\n",
    "\n",
    "plt.xlabel('Semana')\n",
    "plt.ylabel('Casos Dengue')\n",
    "plt.title('Evolución de los casos de dengue en función de la semana')\n",
    "plt.xticks(np.arange(0,368,9), rotation=90)\n",
    "plt.legend(loc='upper right', bbox_to_anchor=(1.2, 1))  # Ajustar la leyenda para que no se sobreponga\n",
    "plt.show()"
   ]
  },
  {
   "cell_type": "code",
   "execution_count": 48,
   "id": "6aa70ed2",
   "metadata": {
    "execution": {
     "iopub.execute_input": "2025-06-06T01:05:22.756976Z",
     "iopub.status.busy": "2025-06-06T01:05:22.756718Z",
     "iopub.status.idle": "2025-06-06T01:05:23.087605Z",
     "shell.execute_reply": "2025-06-06T01:05:23.086879Z"
    },
    "papermill": {
     "duration": 0.345854,
     "end_time": "2025-06-06T01:05:23.089274",
     "exception": false,
     "start_time": "2025-06-06T01:05:22.743420",
     "status": "completed"
    },
    "tags": []
   },
   "outputs": [
    {
     "data": {
      "image/png": "[encoded data removed]",
      "text/plain": [
       "<Figure size 1400x700 with 1 Axes>"
      ]
     },
     "metadata": {},
     "output_type": "display_data"
    }
   ],
   "source": [
    "plt.figure(figsize=(14,7))\n",
    "ax = plt.gca()  # Obtener el eje actual\n",
    "\n",
    "# Graficar cada barrio en el mismo gráfico\n",
    "plt.plot(df[df['id_bar'] == barrio_id]['fecha'], df[df['id_bar'] == barrio_id]['dengue'], label=f'Barrio {barrio_id}')\n",
    "\n",
    "plt.xlabel('Semana')\n",
    "plt.ylabel('Casos Dengue')\n",
    "plt.title('Evolución de los casos de dengue en función de la semana')\n",
    "plt.xticks(np.arange(0,368,9), rotation=90)\n",
    "plt.legend(loc='upper right', bbox_to_anchor=(1.2, 1))  # Ajustar la leyenda para que no se sobreponga\n",
    "plt.show()"
   ]
  },
  {
   "cell_type": "markdown",
   "id": "b36726f5",
   "metadata": {
    "papermill": {
     "duration": 0.013534,
     "end_time": "2025-06-06T01:05:23.117661",
     "exception": false,
     "start_time": "2025-06-06T01:05:23.104127",
     "status": "completed"
    },
    "tags": []
   },
   "source": [
    "## Parámetros"
   ]
  },
  {
   "cell_type": "code",
   "execution_count": 49,
   "id": "938f35b4",
   "metadata": {
    "execution": {
     "iopub.execute_input": "2025-06-06T01:05:23.145521Z",
     "iopub.status.busy": "2025-06-06T01:05:23.145291Z",
     "iopub.status.idle": "2025-06-06T01:05:23.148799Z",
     "shell.execute_reply": "2025-06-06T01:05:23.148128Z"
    },
    "papermill": {
     "duration": 0.018843,
     "end_time": "2025-06-06T01:05:23.149950",
     "exception": false,
     "start_time": "2025-06-06T01:05:23.131107",
     "status": "completed"
    },
    "tags": []
   },
   "outputs": [],
   "source": [
    "SEQUENCE_LENGTH = 5\n",
    "TARGET_COLUMN = 'dengue'\n",
    "GROUP_COLUMN = 'id_bar'"
   ]
  },
  {
   "cell_type": "markdown",
   "id": "e226036b",
   "metadata": {
    "papermill": {
     "duration": 0.013378,
     "end_time": "2025-06-06T01:05:23.220148",
     "exception": false,
     "start_time": "2025-06-06T01:05:23.206770",
     "status": "completed"
    },
    "tags": []
   },
   "source": [
    "## División temporal train/val"
   ]
  },
  {
   "cell_type": "code",
   "execution_count": 50,
   "id": "7a8f297c",
   "metadata": {
    "execution": {
     "iopub.execute_input": "2025-06-06T01:05:23.248816Z",
     "iopub.status.busy": "2025-06-06T01:05:23.248543Z",
     "iopub.status.idle": "2025-06-06T01:05:23.255781Z",
     "shell.execute_reply": "2025-06-06T01:05:23.254952Z"
    },
    "papermill": {
     "duration": 0.023456,
     "end_time": "2025-06-06T01:05:23.256941",
     "exception": false,
     "start_time": "2025-06-06T01:05:23.233485",
     "status": "completed"
    },
    "tags": []
   },
   "outputs": [],
   "source": [
    "# Ordenar datos\n",
    "df = df.sort_values(by=[GROUP_COLUMN, 'anio', 'semana'])\n",
    "features_cols_ini = df.columns.difference(['anio', 'semana', TARGET_COLUMN, GROUP_COLUMN, 'id', 'fecha'])"
   ]
  },
  {
   "cell_type": "code",
   "execution_count": 51,
   "id": "b0e38ee4",
   "metadata": {
    "execution": {
     "iopub.execute_input": "2025-06-06T01:05:23.285353Z",
     "iopub.status.busy": "2025-06-06T01:05:23.284600Z",
     "iopub.status.idle": "2025-06-06T01:05:23.289225Z",
     "shell.execute_reply": "2025-06-06T01:05:23.288689Z"
    },
    "papermill": {
     "duration": 0.019779,
     "end_time": "2025-06-06T01:05:23.290261",
     "exception": false,
     "start_time": "2025-06-06T01:05:23.270482",
     "status": "completed"
    },
    "tags": []
   },
   "outputs": [
    {
     "data": {
      "text/plain": [
       "Index(['ESTRATO', 'area_barrio', 'concentraciones', 'equipesado', 'lluvia_max',\n",
       "       'lluvia_mean', 'lluvia_min', 'lluvia_var', 'maquina', 'sumideros',\n",
       "       'temperatura_max', 'temperatura_mean', 'temperatura_min',\n",
       "       'temperatura_var', 'vivienda'],\n",
       "      dtype='object')"
      ]
     },
     "execution_count": 51,
     "metadata": {},
     "output_type": "execute_result"
    }
   ],
   "source": [
    "features_cols_ini"
   ]
  },
  {
   "cell_type": "code",
   "execution_count": 52,
   "id": "26b6b9d5",
   "metadata": {
    "execution": {
     "iopub.execute_input": "2025-06-06T01:05:23.318553Z",
     "iopub.status.busy": "2025-06-06T01:05:23.318359Z",
     "iopub.status.idle": "2025-06-06T01:05:23.327450Z",
     "shell.execute_reply": "2025-06-06T01:05:23.326890Z"
    },
    "papermill": {
     "duration": 0.02437,
     "end_time": "2025-06-06T01:05:23.328433",
     "exception": false,
     "start_time": "2025-06-06T01:05:23.304063",
     "status": "completed"
    },
    "tags": []
   },
   "outputs": [
    {
     "data": {
      "application/vnd.microsoft.datawrangler.viewer.v0+json": {
       "columns": [
        {
         "name": "anio",
         "rawType": "int64",
         "type": "integer"
        },
        {
         "name": "proportion",
         "rawType": "float64",
         "type": "float"
        }
       ],
       "ref": "dc0d32db-0a78-4f83-ba3d-8b1978c60c5a",
       "rows": [
        [
         "2015",
         "0.14402173913043478"
        ],
        [
         "2016",
         "0.28804347826086957"
        ],
        [
         "2017",
         "0.42934782608695654"
        ],
        [
         "2018",
         "0.5706521739130435"
        ],
        [
         "2019",
         "0.7119565217391304"
        ],
        [
         "2020",
         "0.8559782608695652"
        ],
        [
         "2021",
         "1.0"
        ]
       ],
       "shape": {
        "columns": 1,
        "rows": 7
       }
      },
      "text/plain": [
       "anio\n",
       "2015    0.144022\n",
       "2016    0.288043\n",
       "2017    0.429348\n",
       "2018    0.570652\n",
       "2019    0.711957\n",
       "2020    0.855978\n",
       "2021    1.000000\n",
       "Name: proportion, dtype: float64"
      ]
     },
     "execution_count": 52,
     "metadata": {},
     "output_type": "execute_result"
    }
   ],
   "source": [
    "df.anio.value_counts(1).sort_index().cumsum()"
   ]
  },
  {
   "cell_type": "code",
   "execution_count": 53,
   "id": "073c6d8c",
   "metadata": {
    "execution": {
     "iopub.execute_input": "2025-06-06T01:05:23.358433Z",
     "iopub.status.busy": "2025-06-06T01:05:23.358216Z",
     "iopub.status.idle": "2025-06-06T01:05:23.364579Z",
     "shell.execute_reply": "2025-06-06T01:05:23.364080Z"
    },
    "papermill": {
     "duration": 0.023253,
     "end_time": "2025-06-06T01:05:23.365564",
     "exception": false,
     "start_time": "2025-06-06T01:05:23.342311",
     "status": "completed"
    },
    "tags": []
   },
   "outputs": [],
   "source": [
    "train_df = df[df.anio <= 2020].copy()\n",
    "val_df = df[df.anio >= 2021].copy()"
   ]
  },
  {
   "cell_type": "markdown",
   "id": "576238ac",
   "metadata": {
    "papermill": {
     "duration": 0.01409,
     "end_time": "2025-06-06T01:05:23.393661",
     "exception": false,
     "start_time": "2025-06-06T01:05:23.379571",
     "status": "completed"
    },
    "tags": []
   },
   "source": [
    "# Estandarizar"
   ]
  },
  {
   "cell_type": "code",
   "execution_count": 54,
   "id": "5652b3c9",
   "metadata": {
    "execution": {
     "iopub.execute_input": "2025-06-06T01:05:23.422523Z",
     "iopub.status.busy": "2025-06-06T01:05:23.422258Z",
     "iopub.status.idle": "2025-06-06T01:05:23.442753Z",
     "shell.execute_reply": "2025-06-06T01:05:23.442061Z"
    },
    "papermill": {
     "duration": 0.036518,
     "end_time": "2025-06-06T01:05:23.443867",
     "exception": false,
     "start_time": "2025-06-06T01:05:23.407349",
     "status": "completed"
    },
    "tags": []
   },
   "outputs": [],
   "source": [
    "features_cols = features_cols_ini.copy()\n",
    "scaler = StandardScaler().fit(train_df[features_cols])\n",
    "train_df[features_cols] = scaler.transform(train_df[features_cols])\n",
    "val_df[features_cols] = scaler.transform(val_df[features_cols])"
   ]
  },
  {
   "cell_type": "code",
   "execution_count": 55,
   "id": "8e77a307",
   "metadata": {
    "execution": {
     "iopub.execute_input": "2025-06-06T01:05:23.472884Z",
     "iopub.status.busy": "2025-06-06T01:05:23.472641Z",
     "iopub.status.idle": "2025-06-06T01:05:23.492335Z",
     "shell.execute_reply": "2025-06-06T01:05:23.491784Z"
    },
    "papermill": {
     "duration": 0.035381,
     "end_time": "2025-06-06T01:05:23.493284",
     "exception": false,
     "start_time": "2025-06-06T01:05:23.457903",
     "status": "completed"
    },
    "tags": []
   },
   "outputs": [
    {
     "data": {
      "application/vnd.microsoft.datawrangler.viewer.v0+json": {
       "columns": [
        {
         "name": "index",
         "rawType": "int64",
         "type": "integer"
        },
        {
         "name": "id",
         "rawType": "object",
         "type": "string"
        },
        {
         "name": "id_bar",
         "rawType": "int64",
         "type": "integer"
        },
        {
         "name": "anio",
         "rawType": "int64",
         "type": "integer"
        },
        {
         "name": "semana",
         "rawType": "UInt32",
         "type": "integer"
        },
        {
         "name": "ESTRATO",
         "rawType": "float64",
         "type": "float"
        },
        {
         "name": "area_barrio",
         "rawType": "float64",
         "type": "float"
        },
        {
         "name": "dengue",
         "rawType": "float64",
         "type": "float"
        },
        {
         "name": "concentraciones",
         "rawType": "float64",
         "type": "float"
        },
        {
         "name": "vivienda",
         "rawType": "float64",
         "type": "float"
        },
        {
         "name": "equipesado",
         "rawType": "float64",
         "type": "float"
        },
        {
         "name": "sumideros",
         "rawType": "float64",
         "type": "float"
        },
        {
         "name": "maquina",
         "rawType": "float64",
         "type": "float"
        },
        {
         "name": "lluvia_mean",
         "rawType": "float64",
         "type": "float"
        },
        {
         "name": "lluvia_var",
         "rawType": "float64",
         "type": "float"
        },
        {
         "name": "lluvia_max",
         "rawType": "float64",
         "type": "float"
        },
        {
         "name": "lluvia_min",
         "rawType": "float64",
         "type": "float"
        },
        {
         "name": "temperatura_mean",
         "rawType": "float64",
         "type": "float"
        },
        {
         "name": "temperatura_var",
         "rawType": "float64",
         "type": "float"
        },
        {
         "name": "temperatura_max",
         "rawType": "float64",
         "type": "float"
        },
        {
         "name": "temperatura_min",
         "rawType": "float64",
         "type": "float"
        },
        {
         "name": "fecha",
         "rawType": "object",
         "type": "string"
        }
       ],
       "ref": "c95def3c-67bc-4eb3-ba11-23aad12c92a7",
       "rows": [
        [
         "9",
         "0_2015_01",
         "0",
         "2015",
         "1",
         "0.0",
         "1.9564094055960612",
         "0.0",
         "-0.21361873055665234",
         "-0.19178664547882124",
         "-0.25205971753209644",
         "-0.588659901707968",
         "-0.28457254953691197",
         "-0.8519473905628023",
         "-0.6095927711967566",
         "-1.1034180484636764",
         "0.0",
         "0.03171467424333076",
         "0.1021780198872007",
         "-0.9093048527108868",
         "0.006634020270825559",
         "201501"
        ],
        [
         "19",
         "0_2015_02",
         "0",
         "2015",
         "2",
         "0.0",
         "1.9564094055960612",
         "3.0",
         "-0.21361873055665234",
         "-0.19178664547882124",
         "-0.25205971753209644",
         "-0.588659901707968",
         "-0.28457254953691197",
         "-0.6960072253528841",
         "-0.5174758079215029",
         "-0.23927191663119257",
         "0.0",
         "0.06988892017245199",
         "-0.5970520037180767",
         "-0.8789688372051998",
         "-0.8540163738879881",
         "201502"
        ],
        [
         "29",
         "0_2015_03",
         "0",
         "2015",
         "3",
         "0.0",
         "1.9564094055960612",
         "9.0",
         "-0.21361873055665234",
         "-0.19178664547882124",
         "-0.25205971753209644",
         "-0.588659901707968",
         "-0.28457254953691197",
         "1.521162032075708",
         "1.8447912265604927",
         "1.9413086566509827",
         "0.0",
         "-0.8523765645254219",
         "0.05135846061165708",
         "-0.5149366511369601",
         "-1.1324620896452509",
         "201503"
        ],
        [
         "39",
         "0_2015_04",
         "0",
         "2015",
         "4",
         "0.0",
         "1.9564094055960612",
         "5.0",
         "-0.21361873055665234",
         "-0.19178664547882124",
         "-0.25205971753209644",
         "-0.588659901707968",
         "-0.28457254953691197",
         "-0.11287057061337738",
         "-0.30948981448900414",
         "-0.013394336464799267",
         "0.0",
         "-1.61972096011364",
         "-1.2123881888715788",
         "-1.698041255858738",
         "-1.1324620896452509",
         "201504"
        ],
        [
         "49",
         "0_2015_05",
         "0",
         "2015",
         "5",
         "0.0",
         "1.9564094055960612",
         "5.0",
         "-0.21361873055665234",
         "-0.19178664547882124",
         "-0.25205971753209644",
         "1.1335803679949106",
         "-0.28457254953691197",
         "-0.6772864852145584",
         "-0.5788028296007068",
         "-0.7759755296150694",
         "0.0",
         "-0.5506645194660418",
         "-1.0295793218805631",
         "-1.0913209457450066",
         "-0.14524546105131977",
         "201505"
        ],
        [
         "59",
         "0_2015_06",
         "0",
         "2015",
         "6",
         "0.0",
         "1.9564094055960612",
         "5.0",
         "-0.21361873055665234",
         "-0.19178664547882124",
         "-0.25205971753209644",
         "-0.588659901707968",
         "-0.28457254953691197",
         "0.6654225997835057",
         "0.6114268589622104",
         "0.8519069521505972",
         "0.0",
         "-0.9432378113231792",
         "-0.8007677987601904",
         "-0.5452726666426492",
         "-0.29712494237346243",
         "201506"
        ],
        [
         "69",
         "0_2015_07",
         "0",
         "2015",
         "7",
         "0.0",
         "1.9564094055960612",
         "3.0",
         "-0.21361873055665234",
         "-0.19178664547882124",
         "-0.25205971753209644",
         "1.1335803679949106",
         "-0.28457254953691197",
         "-0.02024610863667686",
         "-0.17789964170340847",
         "0.2984979949215266",
         "0.0",
         "-0.6534782203388364",
         "-0.10909940493321339",
         "-0.4239286046199012",
         "-1.3602813116284636",
         "201507"
        ],
        [
         "79",
         "0_2015_08",
         "0",
         "2015",
         "8",
         "0.0",
         "1.9564094055960612",
         "6.0",
         "-0.21361873055665234",
         "-0.19178664547882124",
         "-0.25205971753209644",
         "1.1335803679949106",
         "-0.28457254953691197",
         "-0.8377664299080206",
         "-0.6086078542349438",
         "-1.0198024690236387",
         "0.0",
         "0.07153156632091358",
         "-0.7398868814801042",
         "-0.6666167286653929",
         "-0.06930572039024711",
         "201508"
        ],
        [
         "89",
         "0_2015_09",
         "0",
         "2015",
         "9",
         "0.0",
         "1.9564094055960612",
         "5.0",
         "-0.21361873055665234",
         "-0.19178664547882124",
         "3.155614575283799",
         "1.1335803679949106",
         "-0.28457254953691197",
         "0.2603633854674875",
         "0.12852865278471026",
         "0.6685035983097494",
         "0.0",
         "-0.5208353412516578",
         "-0.19232558981807482",
         "-0.727288759676767",
         "-0.6008839050177477",
         "201509"
        ],
        [
         "99",
         "0_2015_10",
         "0",
         "2015",
         "10",
         "0.0",
         "1.9564094055960612",
         "7.0",
         "-0.21361873055665234",
         "-0.19178664547882124",
         "-0.25205971753209644",
         "1.1335803679949106",
         "2.939900583705076",
         "-0.29463455678718226",
         "-0.3825277290572203",
         "-0.2545555294512632",
         "0.0",
         "-0.37115678628306054",
         "-0.2904975545915544",
         "0.2434637365052043",
         "-0.5249441643566777",
         "201510"
        ],
        [
         "109",
         "0_2015_11",
         "0",
         "2015",
         "11",
         "0.0",
         "1.9564094055960612",
         "5.0",
         "-0.21361873055665234",
         "-0.19178664547882124",
         "3.155614575283799",
         "-0.588659901707968",
         "1.327664017084082",
         "-0.22003960762062308",
         "-0.34359806270256826",
         "-0.10065310268171436",
         "0.0",
         "0.2946730845736883",
         "0.20602156242087802",
         "-0.05989641855166143",
         "0.23445324225403816",
         "201511"
        ],
        [
         "119",
         "0_2015_12",
         "0",
         "2015",
         "12",
         "0.0",
         "1.9564094055960612",
         "4.0",
         "-0.21361873055665234",
         "-0.19178664547882124",
         "6.563288868099695",
         "1.1335803679949106",
         "-0.28457254953691197",
         "0.4300596945367408",
         "-0.027274407488614268",
         "0.1410412395891707",
         "0.0",
         "-1.5283691018320942",
         "-1.3375835190602245",
         "-1.758713286870112",
         "-0.7147935160093567",
         "201512"
        ],
        [
         "129",
         "0_2015_13",
         "0",
         "2015",
         "13",
         "0.0",
         "1.9564094055960612",
         "4.0",
         "-0.21361873055665234",
         "-0.19178664547882124",
         "3.155614575283799",
         "1.1335803679949106",
         "-0.28457254953691197",
         "-0.2571786759411938",
         "-0.3963517038778135",
         "-0.3602079459807052",
         "0.0",
         "-1.1243435361962155",
         "-0.5827418828371211",
         "-0.6666167286653929",
         "-0.5249441643566777",
         "201513"
        ],
        [
         "139",
         "0_2015_14",
         "0",
         "2015",
         "14",
         "0.0",
         "1.9564094055960612",
         "4.0",
         "-0.21361873055665234",
         "-0.19178664547882124",
         "-0.25205971753209644",
         "-0.588659901707968",
         "-0.28457254953691197",
         "0.21850093040432372",
         "3.30230755892178",
         "4.568312897421734",
         "0.0",
         "-1.2239906602834598",
         "-0.9969968680710594",
         "-1.5160251628246182",
         "-0.8287031270009629",
         "201514"
        ],
        [
         "149",
         "0_2015_15",
         "0",
         "2015",
         "15",
         "0.0",
         "1.9564094055960612",
         "3.0",
         "-0.21361873055665234",
         "-0.19178664547882124",
         "-0.25205971753209644",
         "1.1335803679949106",
         "-0.28457254953691197",
         "0.34270584093744594",
         "0.3497895592316359",
         "0.45391101133026845",
         "0.0",
         "-0.2233425549528637",
         "0.09575053537416817",
         "0.15245568998814113",
         "-0.7907332566704266",
         "201515"
        ],
        [
         "159",
         "0_2015_16",
         "0",
         "2015",
         "16",
         "0.0",
         "1.9564094055960612",
         "4.0",
         "0.39387359678622",
         "-0.19178664547882124",
         "-0.25205971753209644",
         "1.1335803679949106",
         "-0.28457254953691197",
         "2.453714101212394",
         "2.2320874837369415",
         "1.269096267210084",
         "0.0",
         "-1.0388509807782098",
         "-0.481079749124255",
         "-0.9699768837222608",
         "-0.942612737992572",
         "201516"
        ],
        [
         "169",
         "0_2015_17",
         "0",
         "2015",
         "17",
         "0.0",
         "1.9564094055960612",
         "6.0",
         "1.6088582514719647",
         "-0.19178664547882124",
         "-0.25205971753209644",
         "1.1335803679949106",
         "-0.28457254953691197",
         "-0.32872070440827206",
         "-0.261716379601068",
         "0.2686416349939466",
         "0.0",
         "-0.26435767499763724",
         "-0.8403277979890912",
         "-0.6969527441710778",
         "-0.638853775348284",
         "201517"
        ],
        [
         "179",
         "0_2015_18",
         "0",
         "2015",
         "18",
         "0.0",
         "1.9564094055960612",
         "4.0",
         "-0.21361873055665234",
         "-0.19178664547882124",
         "-0.25205971753209644",
         "-0.588659901707968",
         "-0.28457254953691197",
         "-0.4069589976171361",
         "-0.32583638637249474",
         "-0.008062843620588494",
         "0.0",
         "0.02194916947076412",
         "-1.023677159685219",
         "-0.05989641855166143",
         "0.5761820752288598",
         "201518"
        ],
        [
         "189",
         "0_2015_19",
         "0",
         "2015",
         "19",
         "0.0",
         "1.9564094055960612",
         "7.0",
         "-0.21361873055665234",
         "-0.19178664547882124",
         "-0.25205971753209644",
         "1.1335803679949106",
         "-0.28457254953691197",
         "0.4142622699738613",
         "1.498767582068312",
         "2.2743492429860113",
         "0.0",
         "0.18228100237307332",
         "0.39677461681138404",
         "-0.24191251158578347",
         "-0.6768236456788204",
         "201519"
        ],
        [
         "199",
         "0_2015_20",
         "0",
         "2015",
         "20",
         "0.0",
         "1.9564094055960612",
         "5.0",
         "-0.21361873055665234",
         "-0.19178664547882124",
         "-0.25205971753209644",
         "1.1335803679949106",
         "-0.28457254953691197",
         "-0.5587697995696199",
         "-0.4815857709916784",
         "-0.2085269745629108",
         "0.0",
         "0.5402311409456613",
         "-1.8745408882911356",
         "-0.727288759676767",
         "0.993850648864754",
         "201520"
        ],
        [
         "209",
         "0_2015_21",
         "0",
         "2015",
         "21",
         "0.0",
         "1.9564094055960612",
         "4.0",
         "-0.21361873055665234",
         "-0.19178664547882124",
         "-0.25205971753209644",
         "1.1335803679949106",
         "-0.28457254953691197",
         "-0.7465676242957004",
         "-0.5934680541955004",
         "-0.7851279256642979",
         "0.0",
         "0.0011752775000369465",
         "-0.7150058500943307",
         "-0.5452726666426492",
         "0.006634020270822861",
         "201521"
        ],
        [
         "219",
         "0_2015_22",
         "0",
         "2015",
         "22",
         "0.0",
         "1.9564094055960612",
         "2.0",
         "-0.21361873055665234",
         "-0.19178664547882124",
         "3.155614575283799",
         "1.1335803679949106",
         "-0.28457254953691197",
         "0.21046541271418084",
         "0.37844637897319766",
         "0.8127204797456482",
         "0.0",
         "-1.1347026564556342",
         "-1.9131589881686262",
         "-1.2733370387791265",
         "0.4622724642372535",
         "201522"
        ],
        [
         "229",
         "0_2015_23",
         "0",
         "2015",
         "23",
         "0.0",
         "1.9564094055960612",
         "3.0",
         "2.216350578814837",
         "-0.19178664547882124",
         "-0.25205971753209644",
         "1.1335803679949106",
         "-0.28457254953691197",
         "-0.6011074734209102",
         "-0.5604653564645173",
         "-0.6675685084494519",
         "0.0",
         "-0.005454821355176049",
         "-1.4740013271683523",
         "-0.9093048527108868",
         "0.8419711675426114",
         "201523"
        ],
        [
         "239",
         "0_2015_24",
         "0",
         "2015",
         "24",
         "0.0",
         "1.9564094055960612",
         "3.0",
         "-0.011121288109028224",
         "-0.19178664547882124",
         "-0.25205971753209644",
         "1.1335803679949106",
         "-0.28457254953691197",
         "-0.3865245897276868",
         "-0.17765457805682733",
         "0.3456817065927912",
         "0.0",
         "-1.2444770003619954",
         "-1.9097112948066637",
         "-1.3946811008018725",
         "0.006634020270822861",
         "201524"
        ],
        [
         "249",
         "0_2015_25",
         "0",
         "2015",
         "25",
         "0.0",
         "1.9564094055960612",
         "4.0",
         "-0.21361873055665234",
         "-0.19178664547882124",
         "-0.25205971753209644",
         "1.1335803679949106",
         "-0.28457254953691197",
         "-0.774807140765898",
         "-0.5921483646866645",
         "-0.7400768111307173",
         "0.0",
         "1.116918988876035",
         "-0.07309180232150277",
         "0.12211967448245628",
         "0.5382122048983261",
         "201525"
        ],
        [
         "259",
         "0_2015_26",
         "0",
         "2015",
         "26",
         "0.0",
         "1.9564094055960612",
         "5.0",
         "-0.21361873055665234",
         "-0.19178664547882124",
         "-0.25205971753209644",
         "-0.588659901707968",
         "-0.28457254953691197",
         "-0.8491140785457134",
         "-0.609565283019174",
         "-1.0964871077662026",
         "0.0",
         "1.4132672676130296",
         "1.0193497312095248",
         "1.699592480778159",
         "-0.14524546105131977",
         "201526"
        ],
        [
         "269",
         "0_2015_27",
         "0",
         "2015",
         "27",
         "0.0",
         "1.9564094055960612",
         "9.0",
         "-0.21361873055665234",
         "-0.19178664547882124",
         "-0.25205971753209644",
         "1.1335803679949106",
         "-0.28457254953691197",
         "-0.8505541354794308",
         "-0.6095525221385878",
         "-1.0898227417109392",
         "0.0",
         "0.6361106423490338",
         "0.10230181693827906",
         "0.8501840466189358",
         "0.08257376093189553",
         "201527"
        ],
        [
         "279",
         "0_2015_28",
         "0",
         "2015",
         "28",
         "0.0",
         "1.9564094055960612",
         "5.0",
         "-0.21361873055665234",
         "-0.19178664547882124",
         "-0.25205971753209644",
         "1.1335803679949106",
         "-0.28457254953691197",
         "-0.5992209988377405",
         "-0.5420798938212306",
         "-0.5262839480778685",
         "0.0",
         "0.08137216278239259",
         "-0.99924747911271",
         "-0.787960790688141",
         "0.6900916862204688",
         "201528"
        ],
        [
         "289",
         "0_2015_29",
         "0",
         "2015",
         "29",
         "0.0",
         "1.9564094055960612",
         "2.0",
         "-0.21361873055665234",
         "-0.19178664547882124",
         "-0.25205971753209644",
         "1.1335803679949106",
         "-0.28457254953691197",
         "-0.8076404388546535",
         "-0.6030477089683739",
         "-0.8797619236490377",
         "0.0",
         "0.19346694420346291",
         "-0.7179316816962226",
         "0.061447643471082274",
         "0.6900916862204688",
         "201529"
        ],
        [
         "299",
         "0_2015_30",
         "0",
         "2015",
         "30",
         "0.0",
         "1.9564094055960612",
         "0.0",
         "-0.21361873055665234",
         "-0.19178664547882124",
         "-0.25205971753209644",
         "1.1335803679949106",
         "-0.28457254953691197",
         "-0.1749226238872583",
         "0.015441544314462334",
         "0.9913254900267067",
         "0.0",
         "-0.5389459137389617",
         "1.4129517553324769",
         "1.3962323257212932",
         "-0.8287031270009629",
         "201530"
        ],
        [
         "309",
         "0_2015_31",
         "0",
         "2015",
         "31",
         "0.0",
         "1.9564094055960612",
         "7.0",
         "-0.21361873055665234",
         "-0.19178664547882124",
         "-0.25205971753209644",
         "1.1335803679949106",
         "-0.28457254953691197",
         "-0.752831871957371",
         "-0.5737464476851311",
         "-0.5662701444094487",
         "0.0",
         "0.016776853688933085",
         "0.16019995459195469",
         "-0.3632565736085272",
         "0.23445324225403816",
         "201531"
        ],
        [
         "319",
         "0_2015_32",
         "0",
         "2015",
         "32",
         "0.0",
         "1.9564094055960612",
         "1.0",
         "0.1913761543385959",
         "-0.19178664547882124",
         "-0.25205971753209644",
         "1.1335803679949106",
         "-0.28457254953691197",
         "-0.8187576783829517",
         "-0.6067744418315281",
         "-0.9951887437261993",
         "0.0",
         "1.7169840788702302",
         "2.410133081809049",
         "2.67034497696013",
         "0.6900916862204688",
         "201532"
        ],
        [
         "329",
         "0_2015_33",
         "0",
         "2015",
         "33",
         "0.0",
         "1.9564094055960612",
         "3.0",
         "-0.21361873055665234",
         "-0.19178664547882124",
         "-0.25205971753209644",
         "2.8558206376977893",
         "-0.28457254953691197",
         "-0.5405386787887582",
         "-0.5322209554750615",
         "-0.5698244729722558",
         "0.0",
         "0.582577920732148",
         "0.038165394998870145",
         "0.2434637365052043",
         "0.5382122048983261",
         "201533"
        ],
        [
         "339",
         "0_2015_34",
         "0",
         "2015",
         "34",
         "0.0",
         "1.9564094055960612",
         "1.0",
         "-0.21361873055665234",
         "-0.19178664547882124",
         "-0.25205971753209644",
         "-0.588659901707968",
         "-0.28457254953691197",
         "-0.8284348609775323",
         "-0.608563798312754",
         "-1.031887186137183",
         "0.0",
         "1.3757144628967148",
         "2.090802199560154",
         "2.4276568529146343",
         "0.6141519455593961",
         "201534"
        ],
        [
         "349",
         "0_2015_35",
         "0",
         "2015",
         "35",
         "0.0",
         "1.9564094055960612",
         "4.0",
         "-0.21361873055665234",
         "-0.19178664547882124",
         "-0.25205971753209644",
         "1.1335803679949106",
         "-0.28457254953691197",
         "-0.723296304246828",
         "-0.5679889579225035",
         "-0.5595169201401151",
         "0.0",
         "0.9352014203378831",
         "1.0921456935652294",
         "1.9726166203293356",
         "0.34836285324564714",
         "201535"
        ],
        [
         "359",
         "0_2015_36",
         "0",
         "2015",
         "36",
         "0.0",
         "1.9564094055960612",
         "3.0",
         "-0.21361873055665234",
         "-0.19178664547882124",
         "-0.25205971753209644",
         "1.1335803679949106",
         "-0.28457254953691197",
         "-0.838284850404159",
         "-0.6089001279980522",
         "-1.0354415146999902",
         "0.0",
         "1.3898300561588761",
         "0.38818223561114146",
         "1.092872170664423",
         "1.0318205191952903",
         "201536"
        ],
        [
         "369",
         "0_2015_37",
         "0",
         "2015",
         "37",
         "0.0",
         "1.9564094055960612",
         "2.0",
         "0.5963710392338442",
         "-0.19178664547882124",
         "3.155614575283799",
         "1.1335803679949106",
         "-0.28457254953691197",
         "-0.6293613904604448",
         "-0.5805529507436681",
         "-0.8506164294340192",
         "0.0",
         "0.9056385740718476",
         "0.7066541999275975",
         "1.790600527295218",
         "0.5382122048983261",
         "201537"
        ],
        [
         "379",
         "0_2015_38",
         "0",
         "2015",
         "38",
         "0.0",
         "1.9564094055960612",
         "8.0",
         "1.2038633665767164",
         "-0.19178664547882124",
         "-0.25205971753209644",
         "2.8558206376977893",
         "1.327664017084082",
         "-0.8182392578868134",
         "-0.6085465298078093",
         "-1.0418393061130429",
         "0.0",
         "1.2105886549242402",
         "2.4253480965536722",
         "2.1242966978577686",
         "-0.942612737992572",
         "201538"
        ],
        [
         "389",
         "0_2015_39",
         "0",
         "2015",
         "39",
         "0.0",
         "1.9564094055960612",
         "0.0",
         "-0.21361873055665234",
         "-0.19178664547882124",
         "6.563288868099695",
         "1.1335803679949106",
         "-0.28457254953691197",
         "-0.8475012147799501",
         "-0.6094480085591515",
         "-1.0745391288908686",
         "0.0",
         "1.696644460649669",
         "2.678025687435104",
         "2.3669848219032645",
         "0.1585135015929682",
         "201539"
        ],
        [
         "399",
         "0_2015_40",
         "0",
         "2015",
         "40",
         "0.0",
         "1.9564094055960612",
         "3.0",
         "-0.21361873055665234",
         "-0.19178664547882124",
         "3.155614575283799",
         "1.1335803679949106",
         "-0.28457254953691197",
         "0.24763328217342592",
         "0.29915630722782455",
         "0.7623378723678575",
         "0.0",
         "1.1049914519185156",
         "0.649242411782314",
         "2.2456407598805166",
         "0.5382122048983261",
         "201540"
        ],
        [
         "409",
         "0_2015_41",
         "0",
         "2015",
         "41",
         "0.0",
         "1.9564094055960612",
         "3.0",
         "-0.21361873055665234",
         "-0.19178664547882124",
         "-0.25205971753209644",
         "1.1335803679949106",
         "-0.28457254953691197",
         "-0.7423770586185829",
         "-0.5920813654424008",
         "-0.7869939481597716",
         "0.0",
         "1.1726507919693514",
         "-0.17924606144021393",
         "1.0322001396530536",
         "0.6141519455593961",
         "201541"
        ],
        [
         "419",
         "0_2015_42",
         "0",
         "2015",
         "42",
         "0.0",
         "1.9564094055960612",
         "2.0",
         "-0.21361873055665234",
         "-0.19178664547882124",
         "-0.25205971753209644",
         "1.70766045789587",
         "-0.28457254953691197",
         "-0.04426625829108236",
         "-0.42345944179988426",
         "-0.534547761986395",
         "0.0",
         "0.056572322755316824",
         "-0.6761017824148863",
         "-0.12056844956303545",
         "0.5382122048983261",
         "201542"
        ],
        [
         "429",
         "0_2015_43",
         "0",
         "2015",
         "43",
         "0.0",
         "1.9564094055960612",
         "2.0",
         "-0.21361873055665234",
         "-0.19178664547882124",
         "3.155614575283799",
         "1.1335803679949106",
         "-0.28457254953691197",
         "0.1170777205626103",
         "-0.256372536676601",
         "0.0324565019954127",
         "0.0",
         "0.7628846497601584",
         "0.6500396472082647",
         "0.425479829539322",
         "0.6900916862204688",
         "201543"
        ],
        [
         "439",
         "0_2015_44",
         "0",
         "2015",
         "44",
         "0.0",
         "1.9564094055960612",
         "2.0",
         "-0.21361873055665234",
         "-0.19178664547882124",
         "-0.25205971753209644",
         "1.1335803679949106",
         "1.327664017084082",
         "0.2646259539912907",
         "0.149875744810977",
         "0.5000284244326909",
         "0.0",
         "-0.11095047275224237",
         "-0.7027205635340418",
         "-0.787960790688141",
         "0.3863327235761808",
         "201544"
        ],
        [
         "449",
         "0_2015_45",
         "0",
         "2015",
         "45",
         "0.0",
         "1.9564094055960612",
         "1.0",
         "-0.21361873055665234",
         "-0.19178664547882124",
         "-0.25205971753209644",
         "-0.588659901707968",
         "-0.28457254953691197",
         "-0.04772239493200417",
         "-0.21155994862402674",
         "0.3456817065927912",
         "0.0",
         "-0.8787854798242458",
         "-1.5835245296585083",
         "-1.2733370387791265",
         "0.3103929829151108",
         "201545"
        ],
        [
         "459",
         "0_2015_46",
         "0",
         "2015",
         "46",
         "0.0",
         "1.9564094055960612",
         "2.0",
         "-0.21361873055665234",
         "-0.19178664547882124",
         "-0.25205971753209644",
         "1.1335803679949106",
         "-0.28457254953691197",
         "-0.7297765604485561",
         "-0.5928871930950596",
         "-0.8189829052250357",
         "0.0",
         "0.4851803272232257",
         "-1.2148470313773296",
         "0.0007756124597082652",
         "0.7660314268815387",
         "201546"
        ],
        [
         "469",
         "0_2015_47",
         "0",
         "2015",
         "47",
         "0.0",
         "1.9564094055960612",
         "1.0",
         "-0.21361873055665234",
         "-0.19178664547882124",
         "-0.25205971753209644",
         "-0.588659901707968",
         "-0.28457254953691197",
         "0.4888860202790949",
         "-0.028407647034561574",
         "0.36620795404300227",
         "0.0",
         "-0.41217190632783723",
         "-1.8259765560444807",
         "-0.6666167286653929",
         "0.7660314268815387",
         "201547"
        ],
        [
         "479",
         "0_2015_48",
         "0",
         "2015",
         "48",
         "0.0",
         "1.9564094055960612",
         "0.0",
         "-0.21361873055665234",
         "-0.19178664547882124",
         "-0.25205971753209644",
         "1.1335803679949106",
         "-0.28457254953691197",
         "-0.7359400041248663",
         "-0.5908130942410048",
         "-0.744342005406086",
         "0.0",
         "0.39108524987374804",
         "-0.8090903583691635",
         "-0.3025845425971575",
         "0.879941037873145",
         "201548"
        ],
        [
         "489",
         "0_2015_49",
         "0",
         "2015",
         "49",
         "0.0",
         "1.9564094055960612",
         "3.0",
         "-0.21361873055665234",
         "-0.19178664547882124",
         "-0.25205971753209644",
         "1.1335803679949106",
         "-0.28457254953691197",
         "-0.8538374652883064",
         "-0.6096021731738769",
         "-1.1100824145189399",
         "0.0",
         "1.162116240325865",
         "-0.22906875233596008",
         "0.9108560776303055",
         "0.7660314268815387",
         "201549"
        ],
        [
         "499",
         "0_2015_50",
         "0",
         "2015",
         "50",
         "0.0",
         "1.9564094055960612",
         "2.0",
         "-0.21361873055665234",
         "-0.19178664547882124",
         "-0.25205971753209644",
         "-0.588659901707968",
         "-0.28457254953691197",
         "-0.8538374652883064",
         "-0.6096021731738769",
         "-1.1100824145189399",
         "0.0",
         "1.025221618877719",
         "0.29851005821246884",
         "0.3648077985279523",
         "0.5761820752288598",
         "201550"
        ]
       ],
       "shape": {
        "columns": 21,
        "rows": 3150
       }
      },
      "text/html": [
       "<div>\n",
       "<style scoped>\n",
       "    .dataframe tbody tr th:only-of-type {\n",
       "        vertical-align: middle;\n",
       "    }\n",
       "\n",
       "    .dataframe tbody tr th {\n",
       "        vertical-align: top;\n",
       "    }\n",
       "\n",
       "    .dataframe thead th {\n",
       "        text-align: right;\n",
       "    }\n",
       "</style>\n",
       "<table border=\"1\" class=\"dataframe\">\n",
       "  <thead>\n",
       "    <tr style=\"text-align: right;\">\n",
       "      <th></th>\n",
       "      <th>id</th>\n",
       "      <th>id_bar</th>\n",
       "      <th>anio</th>\n",
       "      <th>semana</th>\n",
       "      <th>ESTRATO</th>\n",
       "      <th>area_barrio</th>\n",
       "      <th>dengue</th>\n",
       "      <th>concentraciones</th>\n",
       "      <th>vivienda</th>\n",
       "      <th>equipesado</th>\n",
       "      <th>sumideros</th>\n",
       "      <th>maquina</th>\n",
       "      <th>lluvia_mean</th>\n",
       "      <th>lluvia_var</th>\n",
       "      <th>lluvia_max</th>\n",
       "      <th>lluvia_min</th>\n",
       "      <th>temperatura_mean</th>\n",
       "      <th>temperatura_var</th>\n",
       "      <th>temperatura_max</th>\n",
       "      <th>temperatura_min</th>\n",
       "      <th>fecha</th>\n",
       "    </tr>\n",
       "  </thead>\n",
       "  <tbody>\n",
       "    <tr>\n",
       "      <th>9</th>\n",
       "      <td>0_2015_01</td>\n",
       "      <td>0</td>\n",
       "      <td>2015</td>\n",
       "      <td>1</td>\n",
       "      <td>0.0</td>\n",
       "      <td>1.956409</td>\n",
       "      <td>0.0</td>\n",
       "      <td>-0.213619</td>\n",
       "      <td>-0.191787</td>\n",
       "      <td>-0.252060</td>\n",
       "      <td>-0.58866</td>\n",
       "      <td>-0.284573</td>\n",
       "      <td>-0.851947</td>\n",
       "      <td>-0.609593</td>\n",
       "      <td>-1.103418</td>\n",
       "      <td>0.0</td>\n",
       "      <td>0.031715</td>\n",
       "      <td>0.102178</td>\n",
       "      <td>-0.909305</td>\n",
       "      <td>0.006634</td>\n",
       "      <td>201501</td>\n",
       "    </tr>\n",
       "    <tr>\n",
       "      <th>19</th>\n",
       "      <td>0_2015_02</td>\n",
       "      <td>0</td>\n",
       "      <td>2015</td>\n",
       "      <td>2</td>\n",
       "      <td>0.0</td>\n",
       "      <td>1.956409</td>\n",
       "      <td>3.0</td>\n",
       "      <td>-0.213619</td>\n",
       "      <td>-0.191787</td>\n",
       "      <td>-0.252060</td>\n",
       "      <td>-0.58866</td>\n",
       "      <td>-0.284573</td>\n",
       "      <td>-0.696007</td>\n",
       "      <td>-0.517476</td>\n",
       "      <td>-0.239272</td>\n",
       "      <td>0.0</td>\n",
       "      <td>0.069889</td>\n",
       "      <td>-0.597052</td>\n",
       "      <td>-0.878969</td>\n",
       "      <td>-0.854016</td>\n",
       "      <td>201502</td>\n",
       "    </tr>\n",
       "    <tr>\n",
       "      <th>29</th>\n",
       "      <td>0_2015_03</td>\n",
       "      <td>0</td>\n",
       "      <td>2015</td>\n",
       "      <td>3</td>\n",
       "      <td>0.0</td>\n",
       "      <td>1.956409</td>\n",
       "      <td>9.0</td>\n",
       "      <td>-0.213619</td>\n",
       "      <td>-0.191787</td>\n",
       "      <td>-0.252060</td>\n",
       "      <td>-0.58866</td>\n",
       "      <td>-0.284573</td>\n",
       "      <td>1.521162</td>\n",
       "      <td>1.844791</td>\n",
       "      <td>1.941309</td>\n",
       "      <td>0.0</td>\n",
       "      <td>-0.852377</td>\n",
       "      <td>0.051358</td>\n",
       "      <td>-0.514937</td>\n",
       "      <td>-1.132462</td>\n",
       "      <td>201503</td>\n",
       "    </tr>\n",
       "    <tr>\n",
       "      <th>39</th>\n",
       "      <td>0_2015_04</td>\n",
       "      <td>0</td>\n",
       "      <td>2015</td>\n",
       "      <td>4</td>\n",
       "      <td>0.0</td>\n",
       "      <td>1.956409</td>\n",
       "      <td>5.0</td>\n",
       "      <td>-0.213619</td>\n",
       "      <td>-0.191787</td>\n",
       "      <td>-0.252060</td>\n",
       "      <td>-0.58866</td>\n",
       "      <td>-0.284573</td>\n",
       "      <td>-0.112871</td>\n",
       "      <td>-0.309490</td>\n",
       "      <td>-0.013394</td>\n",
       "      <td>0.0</td>\n",
       "      <td>-1.619721</td>\n",
       "      <td>-1.212388</td>\n",
       "      <td>-1.698041</td>\n",
       "      <td>-1.132462</td>\n",
       "      <td>201504</td>\n",
       "    </tr>\n",
       "    <tr>\n",
       "      <th>49</th>\n",
       "      <td>0_2015_05</td>\n",
       "      <td>0</td>\n",
       "      <td>2015</td>\n",
       "      <td>5</td>\n",
       "      <td>0.0</td>\n",
       "      <td>1.956409</td>\n",
       "      <td>5.0</td>\n",
       "      <td>-0.213619</td>\n",
       "      <td>-0.191787</td>\n",
       "      <td>-0.252060</td>\n",
       "      <td>1.13358</td>\n",
       "      <td>-0.284573</td>\n",
       "      <td>-0.677286</td>\n",
       "      <td>-0.578803</td>\n",
       "      <td>-0.775976</td>\n",
       "      <td>0.0</td>\n",
       "      <td>-0.550665</td>\n",
       "      <td>-1.029579</td>\n",
       "      <td>-1.091321</td>\n",
       "      <td>-0.145245</td>\n",
       "      <td>201505</td>\n",
       "    </tr>\n",
       "    <tr>\n",
       "      <th>...</th>\n",
       "      <td>...</td>\n",
       "      <td>...</td>\n",
       "      <td>...</td>\n",
       "      <td>...</td>\n",
       "      <td>...</td>\n",
       "      <td>...</td>\n",
       "      <td>...</td>\n",
       "      <td>...</td>\n",
       "      <td>...</td>\n",
       "      <td>...</td>\n",
       "      <td>...</td>\n",
       "      <td>...</td>\n",
       "      <td>...</td>\n",
       "      <td>...</td>\n",
       "      <td>...</td>\n",
       "      <td>...</td>\n",
       "      <td>...</td>\n",
       "      <td>...</td>\n",
       "      <td>...</td>\n",
       "      <td>...</td>\n",
       "      <td>...</td>\n",
       "    </tr>\n",
       "    <tr>\n",
       "      <th>3104</th>\n",
       "      <td>9_2020_49</td>\n",
       "      <td>9</td>\n",
       "      <td>2020</td>\n",
       "      <td>49</td>\n",
       "      <td>0.0</td>\n",
       "      <td>-1.433650</td>\n",
       "      <td>1.0</td>\n",
       "      <td>-0.213619</td>\n",
       "      <td>-0.191787</td>\n",
       "      <td>-0.252060</td>\n",
       "      <td>-0.58866</td>\n",
       "      <td>-0.284573</td>\n",
       "      <td>-0.244578</td>\n",
       "      <td>-0.465497</td>\n",
       "      <td>-0.485942</td>\n",
       "      <td>0.0</td>\n",
       "      <td>-0.676754</td>\n",
       "      <td>-1.196244</td>\n",
       "      <td>-1.356761</td>\n",
       "      <td>-0.268648</td>\n",
       "      <td>202049</td>\n",
       "    </tr>\n",
       "    <tr>\n",
       "      <th>3114</th>\n",
       "      <td>9_2020_50</td>\n",
       "      <td>9</td>\n",
       "      <td>2020</td>\n",
       "      <td>50</td>\n",
       "      <td>0.0</td>\n",
       "      <td>-1.433650</td>\n",
       "      <td>2.0</td>\n",
       "      <td>-0.213619</td>\n",
       "      <td>-0.191787</td>\n",
       "      <td>-0.252060</td>\n",
       "      <td>-0.01458</td>\n",
       "      <td>-0.284573</td>\n",
       "      <td>-0.337145</td>\n",
       "      <td>-0.354887</td>\n",
       "      <td>-0.132820</td>\n",
       "      <td>0.0</td>\n",
       "      <td>-0.822238</td>\n",
       "      <td>-0.231416</td>\n",
       "      <td>-1.250585</td>\n",
       "      <td>-0.088291</td>\n",
       "      <td>202050</td>\n",
       "    </tr>\n",
       "    <tr>\n",
       "      <th>3124</th>\n",
       "      <td>9_2020_51</td>\n",
       "      <td>9</td>\n",
       "      <td>2020</td>\n",
       "      <td>51</td>\n",
       "      <td>0.0</td>\n",
       "      <td>-1.433650</td>\n",
       "      <td>1.0</td>\n",
       "      <td>-0.213619</td>\n",
       "      <td>-0.191787</td>\n",
       "      <td>-0.252060</td>\n",
       "      <td>-0.58866</td>\n",
       "      <td>1.327664</td>\n",
       "      <td>-0.725413</td>\n",
       "      <td>-0.584582</td>\n",
       "      <td>-0.773665</td>\n",
       "      <td>0.0</td>\n",
       "      <td>-0.512646</td>\n",
       "      <td>-0.745166</td>\n",
       "      <td>-1.151993</td>\n",
       "      <td>0.395825</td>\n",
       "      <td>202051</td>\n",
       "    </tr>\n",
       "    <tr>\n",
       "      <th>3134</th>\n",
       "      <td>9_2020_52</td>\n",
       "      <td>9</td>\n",
       "      <td>2020</td>\n",
       "      <td>52</td>\n",
       "      <td>0.0</td>\n",
       "      <td>-1.433650</td>\n",
       "      <td>1.0</td>\n",
       "      <td>-0.213619</td>\n",
       "      <td>0.088812</td>\n",
       "      <td>3.155615</td>\n",
       "      <td>-0.01458</td>\n",
       "      <td>-0.284573</td>\n",
       "      <td>0.372659</td>\n",
       "      <td>0.077798</td>\n",
       "      <td>0.334574</td>\n",
       "      <td>0.0</td>\n",
       "      <td>-1.608459</td>\n",
       "      <td>-0.946357</td>\n",
       "      <td>-0.810713</td>\n",
       "      <td>-0.648346</td>\n",
       "      <td>202052</td>\n",
       "    </tr>\n",
       "    <tr>\n",
       "      <th>3144</th>\n",
       "      <td>9_2020_53</td>\n",
       "      <td>9</td>\n",
       "      <td>2020</td>\n",
       "      <td>53</td>\n",
       "      <td>0.0</td>\n",
       "      <td>-1.433650</td>\n",
       "      <td>1.0</td>\n",
       "      <td>-0.213619</td>\n",
       "      <td>-0.191787</td>\n",
       "      <td>-0.252060</td>\n",
       "      <td>-0.58866</td>\n",
       "      <td>-0.284573</td>\n",
       "      <td>-0.573919</td>\n",
       "      <td>-0.487397</td>\n",
       "      <td>-0.221323</td>\n",
       "      <td>0.0</td>\n",
       "      <td>-1.247598</td>\n",
       "      <td>-1.541062</td>\n",
       "      <td>-1.546361</td>\n",
       "      <td>-0.316110</td>\n",
       "      <td>202053</td>\n",
       "    </tr>\n",
       "  </tbody>\n",
       "</table>\n",
       "<p>3150 rows × 21 columns</p>\n",
       "</div>"
      ],
      "text/plain": [
       "             id  id_bar  anio  semana  ESTRATO  area_barrio  dengue  \\\n",
       "9     0_2015_01       0  2015       1      0.0     1.956409     0.0   \n",
       "19    0_2015_02       0  2015       2      0.0     1.956409     3.0   \n",
       "29    0_2015_03       0  2015       3      0.0     1.956409     9.0   \n",
       "39    0_2015_04       0  2015       4      0.0     1.956409     5.0   \n",
       "49    0_2015_05       0  2015       5      0.0     1.956409     5.0   \n",
       "...         ...     ...   ...     ...      ...          ...     ...   \n",
       "3104  9_2020_49       9  2020      49      0.0    -1.433650     1.0   \n",
       "3114  9_2020_50       9  2020      50      0.0    -1.433650     2.0   \n",
       "3124  9_2020_51       9  2020      51      0.0    -1.433650     1.0   \n",
       "3134  9_2020_52       9  2020      52      0.0    -1.433650     1.0   \n",
       "3144  9_2020_53       9  2020      53      0.0    -1.433650     1.0   \n",
       "\n",
       "      concentraciones  vivienda  equipesado  sumideros   maquina  lluvia_mean  \\\n",
       "9           -0.213619 -0.191787   -0.252060   -0.58866 -0.284573    -0.851947   \n",
       "19          -0.213619 -0.191787   -0.252060   -0.58866 -0.284573    -0.696007   \n",
       "29          -0.213619 -0.191787   -0.252060   -0.58866 -0.284573     1.521162   \n",
       "39          -0.213619 -0.191787   -0.252060   -0.58866 -0.284573    -0.112871   \n",
       "49          -0.213619 -0.191787   -0.252060    1.13358 -0.284573    -0.677286   \n",
       "...               ...       ...         ...        ...       ...          ...   \n",
       "3104        -0.213619 -0.191787   -0.252060   -0.58866 -0.284573    -0.244578   \n",
       "3114        -0.213619 -0.191787   -0.252060   -0.01458 -0.284573    -0.337145   \n",
       "3124        -0.213619 -0.191787   -0.252060   -0.58866  1.327664    -0.725413   \n",
       "3134        -0.213619  0.088812    3.155615   -0.01458 -0.284573     0.372659   \n",
       "3144        -0.213619 -0.191787   -0.252060   -0.58866 -0.284573    -0.573919   \n",
       "\n",
       "      lluvia_var  lluvia_max  lluvia_min  temperatura_mean  temperatura_var  \\\n",
       "9      -0.609593   -1.103418         0.0          0.031715         0.102178   \n",
       "19     -0.517476   -0.239272         0.0          0.069889        -0.597052   \n",
       "29      1.844791    1.941309         0.0         -0.852377         0.051358   \n",
       "39     -0.309490   -0.013394         0.0         -1.619721        -1.212388   \n",
       "49     -0.578803   -0.775976         0.0         -0.550665        -1.029579   \n",
       "...          ...         ...         ...               ...              ...   \n",
       "3104   -0.465497   -0.485942         0.0         -0.676754        -1.196244   \n",
       "3114   -0.354887   -0.132820         0.0         -0.822238        -0.231416   \n",
       "3124   -0.584582   -0.773665         0.0         -0.512646        -0.745166   \n",
       "3134    0.077798    0.334574         0.0         -1.608459        -0.946357   \n",
       "3144   -0.487397   -0.221323         0.0         -1.247598        -1.541062   \n",
       "\n",
       "      temperatura_max  temperatura_min   fecha  \n",
       "9           -0.909305         0.006634  201501  \n",
       "19          -0.878969        -0.854016  201502  \n",
       "29          -0.514937        -1.132462  201503  \n",
       "39          -1.698041        -1.132462  201504  \n",
       "49          -1.091321        -0.145245  201505  \n",
       "...               ...              ...     ...  \n",
       "3104        -1.356761        -0.268648  202049  \n",
       "3114        -1.250585        -0.088291  202050  \n",
       "3124        -1.151993         0.395825  202051  \n",
       "3134        -0.810713        -0.648346  202052  \n",
       "3144        -1.546361        -0.316110  202053  \n",
       "\n",
       "[3150 rows x 21 columns]"
      ]
     },
     "execution_count": 55,
     "metadata": {},
     "output_type": "execute_result"
    }
   ],
   "source": [
    "train_df"
   ]
  },
  {
   "cell_type": "markdown",
   "id": "815bc64b",
   "metadata": {
    "papermill": {
     "duration": 0.014153,
     "end_time": "2025-06-06T01:05:23.521529",
     "exception": false,
     "start_time": "2025-06-06T01:05:23.507376",
     "status": "completed"
    },
    "tags": []
   },
   "source": [
    "## Estructura de los datos"
   ]
  },
  {
   "cell_type": "code",
   "execution_count": 56,
   "id": "149b1abd",
   "metadata": {},
   "outputs": [
    {
     "name": "stdout",
     "output_type": "stream",
     "text": [
      "Usando estas columnas como features: ['anio', 'semana', 'ESTRATO', 'area_barrio', 'concentraciones', 'vivienda', 'equipesado', 'sumideros', 'maquina', 'lluvia_mean', 'lluvia_var', 'lluvia_max', 'lluvia_min', 'temperatura_mean', 'temperatura_var', 'temperatura_max', 'temperatura_min']\n"
     ]
    }
   ],
   "source": [
    "import numpy as np\n",
    "import pandas as pd\n",
    "import torch\n",
    "import torch.nn as nn\n",
    "import torch.optim as optim\n",
    "from torch.utils.data import Dataset, DataLoader\n",
    "from torch.nn.utils import clip_grad_norm_\n",
    "import optuna\n",
    "from optuna.exceptions import TrialPruned\n",
    "\n",
    "# -------------------------------------------------------------------\n",
    "# 1) Carga de datos y cálculo de estadísticas por barrio\n",
    "# -------------------------------------------------------------------\n",
    "# Nota: aquí usarías pd.read_parquet(...) si tienes pyarrow/fastparquet instalado.\n",
    "train_df = pd.read_parquet(\"../../Datos/df_train.parquet\")\n",
    "val_df  = pd.read_parquet(\"../../Datos/df_test.parquet\")\n",
    "\n",
    "# Para este ejemplo asumimos que df_train está cargado:\n",
    "#   - 'id_bar' identifica cada barrio\n",
    "#   - 'dengue' es el número de casos\n",
    "#   - hay columnas de covariables en features_cols\n",
    "\n",
    "# 0) Definición de features_cols\n",
    "# Asume que `train_df` ya está cargado como pandas DataFrame\n",
    "\n",
    "# Columnas a excluir: \n",
    "#   - 'id' es el identificador de fila\n",
    "#   - 'id_bar' identifica el barrio (ya lo agrupamos por separado)\n",
    "#   - 'dengue' es la variable a predecir\n",
    "exclude = ['id', 'id_bar', 'dengue']\n",
    "\n",
    "# Todas las demás columnas serán variables predictoras\n",
    "features_cols = [c for c in train_df.columns if c not in exclude]\n",
    "\n",
    "print(\"Usando estas columnas como features:\", features_cols)\n"
   ]
  },
  {
   "cell_type": "code",
   "execution_count": 58,
   "id": "39f336bd",
   "metadata": {},
   "outputs": [],
   "source": [
    "# --- 1.1) Calculamos media y varianza de casos por barrio ---\n",
    "stats = (\n",
    "    train_df\n",
    "    .groupby(\"id_bar\")[\"dengue\"]\n",
    "    .agg([\"mean\",\"var\"])\n",
    "    .rename(columns={\"mean\":\"dengue_mean\",\"var\":\"dengue_var\"})\n",
    "    .reset_index()\n",
    ")\n",
    "\n",
    "# --- 1.2) Agrupamos barrios en dos clusters según comportamiento ---\n",
    "# (Puedes usar k-means, o un umbral manual sobre varianza)\n",
    "from sklearn.cluster import KMeans\n",
    "kmeans = KMeans(n_clusters=2, random_state=42)\n",
    "stats[\"cluster\"] = kmeans.fit_predict(stats[[\"dengue_mean\",\"dengue_var\"]])\n",
    "\n",
    "# --- 1.3) Definimos un mapping cluster → sequence_length ---\n",
    "# Decisión: barrios con mayor varianza (cluster==0) usan ventanas más largas\n",
    "cluster_seq_len = {\n",
    "    0: 16,   # cluster de alta variabilidad → SEQUENCE_LENGTH largo\n",
    "    1: 8     # cluster de baja variabilidad → SEQUENCE_LENGTH corto\n",
    "}\n",
    "\n",
    "# Creamos un dict id_bar → sequence_length\n",
    "bar_seq_len = stats.set_index(\"id_bar\")[\"cluster\"].map(cluster_seq_len).to_dict()"
   ]
  },
  {
   "cell_type": "code",
   "execution_count": 59,
   "id": "0a1e6deb",
   "metadata": {},
   "outputs": [],
   "source": [
    "# -------------------------------------------------------------------\n",
    "# 2) Dataset que usa sequence_length dinámico por barrio\n",
    "# -------------------------------------------------------------------\n",
    "class DengueDataset(Dataset):\n",
    "    def __init__(self, df, bar_seq_len_map, is_train=True):\n",
    "        \"\"\"\n",
    "        df: DataFrame completo (train o val)\n",
    "        bar_seq_len_map: dict {id_bar: sequence_length}\n",
    "        is_train: si True devuelve (x,y), si False devuelve (x,id)\n",
    "        \"\"\"\n",
    "        self.is_train = is_train\n",
    "        self.data = []\n",
    "\n",
    "        # imputar posibles NaN\n",
    "        df = df.fillna(0.0)\n",
    "\n",
    "        # agrupamos\n",
    "        for bar_id, group in df.groupby(\"id_bar\"):\n",
    "            seq_len = bar_seq_len_map.get(bar_id, 12)  # default=12\n",
    "            group = group.sort_values([\"anio\",\"semana\"]).reset_index(drop=True)\n",
    "\n",
    "            if len(group) <= seq_len:\n",
    "                continue  # no hay suficiente historia\n",
    "\n",
    "            # extraer todas las ventanas para este barrio\n",
    "            for i in range(len(group) - seq_len):\n",
    "                x_np = (\n",
    "                    group.loc[i : i + seq_len - 1, features_cols]\n",
    "                         .to_numpy()\n",
    "                         .astype(np.float32)\n",
    "                )\n",
    "                if is_train:\n",
    "                    y_val = float(group.loc[i + seq_len, \"dengue\"])\n",
    "                    self.data.append((bar_id, x_np, y_val))\n",
    "                else:\n",
    "                    row_id = group.loc[i + seq_len, \"id\"]\n",
    "                    self.data.append((bar_id, x_np, row_id))\n",
    "\n",
    "    def __len__(self):\n",
    "        return len(self.data)\n",
    "\n",
    "    def __getitem__(self, idx):\n",
    "        bar_id, x_np, y_or_id = self.data[idx]\n",
    "        x = torch.from_numpy(x_np)  # (seq_len, n_features)\n",
    "        if self.is_train:\n",
    "            y = torch.tensor(y_or_id, dtype=torch.float32)\n",
    "            return bar_id, x, y\n",
    "        else:\n",
    "            return bar_id, x, y_or_id\n"
   ]
  },
  {
   "cell_type": "code",
   "execution_count": 60,
   "id": "b4360db0",
   "metadata": {},
   "outputs": [],
   "source": [
    "# -------------------------------------------------------------------\n",
    "# 3) DataLoaders (train/val)\n",
    "# -------------------------------------------------------------------\n",
    "\n",
    "# Supón que ya tienes split train_df / val_df\n",
    "train_loader = DataLoader(\n",
    "    DengueDataset(train_df, bar_seq_len, is_train=True),\n",
    "    batch_size=32, shuffle=True,  drop_last=True\n",
    ")\n",
    "val_loader   = DataLoader(\n",
    "    DengueDataset(val_df,   bar_seq_len, is_train=False),\n",
    "    batch_size=32, shuffle=False, drop_last=False\n",
    ")"
   ]
  },
  {
   "cell_type": "code",
   "execution_count": 61,
   "id": "9f0a53ef",
   "metadata": {},
   "outputs": [],
   "source": [
    "# -------------------------------------------------------------------\n",
    "# 4) Definición de la LSTM “robusta”\n",
    "# -------------------------------------------------------------------\n",
    "class RobustLSTMNet(nn.Module):\n",
    "    def __init__(self,\n",
    "                 input_size:int,\n",
    "                 hidden_size:int,\n",
    "                 num_layers:int=2,\n",
    "                 bidirectional:bool=True,\n",
    "                 dropout:float=0.2):\n",
    "        super().__init__()\n",
    "        self.hidden_size   = hidden_size\n",
    "        self.num_layers    = num_layers\n",
    "        self.bidirectional = bidirectional\n",
    "        self.num_dirs      = 2 if bidirectional else 1\n",
    "\n",
    "        # LSTM con dropout y bidireccionalidad\n",
    "        self.lstm = nn.LSTM(\n",
    "            input_size,\n",
    "            hidden_size,\n",
    "            num_layers,\n",
    "            batch_first=True,\n",
    "            dropout=dropout if num_layers>1 else 0.0,\n",
    "            bidirectional=bidirectional\n",
    "        )\n",
    "        self.norm = nn.LayerNorm(hidden_size*self.num_dirs)\n",
    "        self.fc   = nn.Linear(hidden_size*self.num_dirs, 1)\n",
    "\n",
    "        # inicialización Xavier\n",
    "        for n,p in self.lstm.named_parameters():\n",
    "            if \"weight\" in n: nn.init.xavier_uniform_(p)\n",
    "            elif \"bias\" in n: nn.init.zeros_(p)\n",
    "        nn.init.xavier_uniform_(self.fc.weight)\n",
    "        nn.init.zeros_(self.fc.bias)\n",
    "\n",
    "    def forward(self, x):\n",
    "        # x: (batch, seq_len, features)\n",
    "        batch = x.size(0)\n",
    "        # h0, c0: (num_layers*num_dirs, batch, hidden_size)\n",
    "        h0 = torch.zeros(self.num_layers*self.num_dirs, batch,\n",
    "                         self.hidden_size, device=x.device)\n",
    "        c0 = torch.zeros_like(h0)\n",
    "\n",
    "        out, _ = self.lstm(x, (h0, c0))         # (batch, seq_len, hidden*dirs)\n",
    "        last    = out[:, -1, :]                 # última salida temporal\n",
    "        last    = self.norm(last)               # normalizamos\n",
    "        return self.fc(last).squeeze(-1)"
   ]
  },
  {
   "cell_type": "code",
   "execution_count": 62,
   "id": "d4de1ffc",
   "metadata": {},
   "outputs": [],
   "source": [
    "# -------------------------------------------------------------------\n",
    "# 5) Objetivo de Optuna para la LSTM\n",
    "# -------------------------------------------------------------------\n",
    "def objective(trial):\n",
    "    # 5.1) Espacio de búsqueda\n",
    "    hidden_size   = trial.suggest_int(\"hidden_size\",  32, 256)\n",
    "    num_layers    = trial.suggest_int(\"num_layers\",    1,   3)\n",
    "    bidirectional = trial.suggest_categorical(\"bidirectional\", [False,True])\n",
    "    dropout       = trial.suggest_float(\"dropout\",   0.0,  0.5)\n",
    "    lr            = trial.suggest_loguniform(\"lr\", 1e-4, 1e-2)\n",
    "    weight_decay  = trial.suggest_loguniform(\"wd\", 1e-6, 1e-3)\n",
    "    clip_value    = trial.suggest_float(\"clip\", 0.5, 5.0)\n",
    "    max_epochs    = 20\n",
    "\n",
    "    # 5.2) Instanciamos el modelo\n",
    "    model = RobustLSTMNet(\n",
    "        input_size=len(features_cols),\n",
    "        hidden_size=hidden_size,\n",
    "        num_layers=num_layers,\n",
    "        bidirectional=bidirectional,\n",
    "        dropout=dropout\n",
    "    ).to(DEVICE)\n",
    "\n",
    "    optimizer = optim.Adam(\n",
    "        model.parameters(),\n",
    "        lr=lr,\n",
    "        weight_decay=weight_decay\n",
    "    )\n",
    "    scheduler = optim.lr_scheduler.ReduceLROnPlateau(\n",
    "        optimizer, mode=\"min\", factor=0.5, patience=5\n",
    "    )\n",
    "    criterion = nn.MSELoss()\n",
    "\n",
    "    # 5.3) Entrenamiento y validación con pruning\n",
    "    for epoch in range(max_epochs):\n",
    "        # (a) --- train ---\n",
    "        model.train()\n",
    "        train_loss = 0.0\n",
    "        for _, xb, yb in train_loader:\n",
    "            xb, yb = xb.to(DEVICE), yb.to(DEVICE)\n",
    "            optimizer.zero_grad()\n",
    "            raw = criterion(model(xb), yb)\n",
    "            # evitamos NaN sustituyéndolos por un valor grande\n",
    "            loss = torch.nan_to_num(raw, nan=1e6, posinf=1e6, neginf=1e6)\n",
    "            loss.backward()\n",
    "            clip_grad_norm_(model.parameters(), clip_value)\n",
    "            optimizer.step()\n",
    "            train_loss += loss.item()\n",
    "        train_loss /= len(train_loader)\n",
    "\n",
    "        # (b) --- val ---\n",
    "        model.eval()\n",
    "        val_loss = 0.0\n",
    "        with torch.no_grad():\n",
    "            for _, xb, yb in val_loader:\n",
    "                xb, yb = xb.to(DEVICE), yb.to(DEVICE)\n",
    "                raw  = criterion(model(xb), yb)\n",
    "                vloss = torch.nan_to_num(raw, nan=1e6, posinf=1e6, neginf=1e6)\n",
    "                val_loss += vloss.item()\n",
    "        val_loss /= len(val_loader)\n",
    "\n",
    "        # (c) reporte y pruning\n",
    "        print(f\"Epoch {epoch+1:02d}/{max_epochs} – Train Loss: {train_loss:.4f} – Val Loss: {val_loss:.4f}\")\n",
    "        scheduler.step(val_loss)\n",
    "        trial.report(val_loss, epoch)\n",
    "        if trial.should_prune():\n",
    "            raise TrialPruned()\n",
    "\n",
    "    return val_loss"
   ]
  },
  {
   "cell_type": "code",
   "execution_count": null,
   "id": "d8650958",
   "metadata": {},
   "outputs": [],
   "source": [
    "\n",
    "# -------------------------------------------------------------------\n",
    "# 6) Lanzamos la búsqueda\n",
    "# -------------------------------------------------------------------\n",
    "study = optuna.create_study(\n",
    "    direction=\"minimize\",\n",
    "    pruner=optuna.pruners.MedianPruner(n_warmup_steps=5)\n",
    ")\n",
    "study.optimize(objective, n_trials=50, timeout=600)\n",
    "\n",
    "print(\"✅ Best params:\", study.best_params)\n"
   ]
  },
  {
   "cell_type": "markdown",
   "id": "cec7f54d",
   "metadata": {
    "papermill": {
     "duration": 0.014577,
     "end_time": "2025-06-06T01:05:24.646436",
     "exception": false,
     "start_time": "2025-06-06T01:05:24.631859",
     "status": "completed"
    },
    "tags": []
   },
   "source": [
    "# Entrenamiento"
   ]
  },
  {
   "cell_type": "code",
   "execution_count": null,
   "id": "0b700831",
   "metadata": {},
   "outputs": [],
   "source": [
    "# Mostrar los mejores hiperparámetros\n",
    "print(\"Mejores hiperparámetros:\", study.best_params)\n",
    "best_hidden_size = study.best_params['hidden_size']\n",
    "best_num_layers = study.best_params['num_layers']\n",
    "best_dropout = study.best_params['dropout']\n",
    "best_bidirectional = study.best_params['bidirectional']\n",
    "best_learning_rate = study.best_params['lr']\n",
    "best_weight_decay = study.best_params['wd']\n",
    "best_clip_value = study.best_params['clip']\n",
    "\n",
    "# Entrenar el modelo final con los mejores hiperparámetros usando RobustLSTMNet\n",
    "model = RobustLSTMNet(\n",
    "    input_size=len(features_cols),\n",
    "    hidden_size=best_hidden_size,\n",
    "    num_layers=best_num_layers,\n",
    "    dropout=best_dropout,\n",
    "    bidirectional=best_bidirectional\n",
    ").to(DEVICE)\n",
    "optimizer = optim.Adam(model.parameters(), lr=best_learning_rate, weight_decay=best_weight_decay)\n",
    "criterion = nn.MSELoss()\n",
    "\n",
    "for epoch in range(50):\n",
    "    model.train()\n",
    "    train_loss = 0\n",
    "    for _, x_batch, y_batch in train_loader:\n",
    "        x_batch, y_batch = x_batch.to(DEVICE), y_batch.to(DEVICE)\n",
    "        optimizer.zero_grad()\n",
    "        preds = model(x_batch)\n",
    "        loss = criterion(preds, y_batch)\n",
    "        loss.backward()\n",
    "        torch.nn.utils.clip_grad_norm_(model.parameters(), best_clip_value)\n",
    "        optimizer.step()\n",
    "        train_loss += loss.item()\n",
    "\n",
    "    model.eval()\n",
    "    val_loss = 0\n",
    "    with torch.no_grad():\n",
    "        for _, x_batch, y_batch in val_loader:\n",
    "            x_batch, y_batch = x_batch.to(DEVICE), y_batch.to(DEVICE)\n",
    "            preds = model(x_batch)\n",
    "            loss = criterion(preds, y_batch)\n",
    "            val_loss += loss.item()\n",
    "\n",
    "    print(f'Epoch {epoch+1}/50 | Train MSE: {train_loss/len(train_loader):.4f} | Val MSE: {val_loss/len(val_loader):.4f}')\n"
   ]
  },
  {
   "cell_type": "code",
   "execution_count": null,
   "id": "7c4d5df1",
   "metadata": {
    "execution": {
     "iopub.execute_input": "2025-06-06T01:05:33.956608Z",
     "iopub.status.busy": "2025-06-06T01:05:33.956365Z",
     "iopub.status.idle": "2025-06-06T01:05:33.962204Z",
     "shell.execute_reply": "2025-06-06T01:05:33.961666Z"
    },
    "papermill": {
     "duration": 0.022774,
     "end_time": "2025-06-06T01:05:33.963250",
     "exception": false,
     "start_time": "2025-06-06T01:05:33.940476",
     "status": "completed"
    },
    "tags": []
   },
   "outputs": [],
   "source": [
    "# Guardar el mejor modelo encontrado por Optuna\n",
    "torch.save(model.state_dict(), 'best_LSTM.pth')"
   ]
  },
  {
   "cell_type": "markdown",
   "id": "b4f85e8f",
   "metadata": {
    "papermill": {
     "duration": 0.014613,
     "end_time": "2025-06-06T01:05:33.993501",
     "exception": false,
     "start_time": "2025-06-06T01:05:33.978888",
     "status": "completed"
    },
    "tags": []
   },
   "source": [
    "# Submission"
   ]
  },
  {
   "cell_type": "code",
   "execution_count": null,
   "id": "995efe99",
   "metadata": {
    "execution": {
     "iopub.execute_input": "2025-06-06T01:05:34.024752Z",
     "iopub.status.busy": "2025-06-06T01:05:34.024277Z",
     "iopub.status.idle": "2025-06-06T01:05:34.041277Z",
     "shell.execute_reply": "2025-06-06T01:05:34.040751Z"
    },
    "papermill": {
     "duration": 0.033873,
     "end_time": "2025-06-06T01:05:34.042429",
     "exception": false,
     "start_time": "2025-06-06T01:05:34.008556",
     "status": "completed"
    },
    "tags": []
   },
   "outputs": [],
   "source": [
    "# Cargar datos nuevos y preparar submission\n",
    "features_cols = features_cols_ini.copy()\n",
    "df_test = pd.read_parquet('../../Datos/df_test.parquet')\n",
    "df_test = df_test.sort_values(by=[GROUP_COLUMN, 'anio', 'semana'])\n",
    "df_test[features_cols] = scaler.transform(df_test[features_cols])"
   ]
  },
  {
   "cell_type": "code",
   "execution_count": null,
   "id": "0be610d0",
   "metadata": {
    "execution": {
     "iopub.execute_input": "2025-06-06T01:05:34.073739Z",
     "iopub.status.busy": "2025-06-06T01:05:34.073554Z",
     "iopub.status.idle": "2025-06-06T01:05:34.084288Z",
     "shell.execute_reply": "2025-06-06T01:05:34.083442Z"
    },
    "papermill": {
     "duration": 0.027719,
     "end_time": "2025-06-06T01:05:34.085347",
     "exception": false,
     "start_time": "2025-06-06T01:05:34.057628",
     "status": "completed"
    },
    "tags": []
   },
   "outputs": [],
   "source": [
    "# Agregar últimas SEQUENCE_LENGTH filas del entrenamiento a cada grupo de test\n",
    "historical_sequences = df.groupby(GROUP_COLUMN).tail(SEQUENCE_LENGTH)\n",
    "df_test_extended = pd.concat([historical_sequences, df_test], ignore_index=True)\n",
    "df_test_extended = df_test_extended.sort_values(by=[GROUP_COLUMN, 'anio', 'semana']).reset_index(drop=True)"
   ]
  },
  {
   "cell_type": "code",
   "execution_count": null,
   "id": "2218aa50",
   "metadata": {
    "execution": {
     "iopub.execute_input": "2025-06-06T01:05:34.117201Z",
     "iopub.status.busy": "2025-06-06T01:05:34.116978Z",
     "iopub.status.idle": "2025-06-06T01:05:34.137087Z",
     "shell.execute_reply": "2025-06-06T01:05:34.136257Z"
    },
    "papermill": {
     "duration": 0.037632,
     "end_time": "2025-06-06T01:05:34.138267",
     "exception": false,
     "start_time": "2025-06-06T01:05:34.100635",
     "status": "completed"
    },
    "tags": []
   },
   "outputs": [],
   "source": [
    "df_test_extended"
   ]
  },
  {
   "cell_type": "code",
   "execution_count": null,
   "id": "fa2ce132",
   "metadata": {
    "execution": {
     "iopub.execute_input": "2025-06-06T01:05:34.169930Z",
     "iopub.status.busy": "2025-06-06T01:05:34.169697Z",
     "iopub.status.idle": "2025-06-06T01:05:34.289363Z",
     "shell.execute_reply": "2025-06-06T01:05:34.288786Z"
    },
    "papermill": {
     "duration": 0.136635,
     "end_time": "2025-06-06T01:05:34.290621",
     "exception": false,
     "start_time": "2025-06-06T01:05:34.153986",
     "status": "completed"
    },
    "tags": []
   },
   "outputs": [],
   "source": [
    "# Crear loader para predicción\n",
    "test_loader = DataLoader(DengueDataset(df_test_extended, SEQUENCE_LENGTH, is_train=False), batch_size=32, shuffle=False)"
   ]
  },
  {
   "cell_type": "code",
   "execution_count": null,
   "id": "23d6cbff",
   "metadata": {
    "execution": {
     "iopub.execute_input": "2025-06-06T01:05:34.324579Z",
     "iopub.status.busy": "2025-06-06T01:05:34.324107Z",
     "iopub.status.idle": "2025-06-06T01:05:34.348640Z",
     "shell.execute_reply": "2025-06-06T01:05:34.347712Z"
    },
    "papermill": {
     "duration": 0.043293,
     "end_time": "2025-06-06T01:05:34.349716",
     "exception": true,
     "start_time": "2025-06-06T01:05:34.306423",
     "status": "failed"
    },
    "tags": []
   },
   "outputs": [],
   "source": [
    "# Crear loader para predicción\n",
    "#test_loader = DataLoader(DengueDataset(df_test_extended, SEQUENCE_LENGTH), batch_size=64, shuffle=False)"
   ]
  },
  {
   "cell_type": "code",
   "execution_count": null,
   "id": "56b79dc4",
   "metadata": {
    "execution": {
     "iopub.execute_input": "2025-06-06T01:02:57.039501Z",
     "iopub.status.busy": "2025-06-06T01:02:57.038907Z",
     "iopub.status.idle": "2025-06-06T01:02:57.061588Z",
     "shell.execute_reply": "2025-06-06T01:02:57.060531Z",
     "shell.execute_reply.started": "2025-06-06T01:02:57.039478Z"
    },
    "papermill": {
     "duration": null,
     "end_time": null,
     "exception": null,
     "start_time": null,
     "status": "pending"
    },
    "tags": []
   },
   "outputs": [],
   "source": [
    "# Generar predicciones\n",
    "model.eval()\n",
    "predictions = []\n",
    "ids = []\n",
    "\n",
    "with torch.no_grad():\n",
    "    for x_batch, id_batch in test_loader:\n",
    "        x_batch = x_batch.to(device)\n",
    "        preds = model(x_batch).cpu().numpy()\n",
    "        predictions.extend(preds)\n",
    "        ids.extend(id_batch)\n"
   ]
  },
  {
   "cell_type": "code",
   "execution_count": null,
   "id": "8bc7b3d6",
   "metadata": {
    "execution": {
     "iopub.execute_input": "2025-06-06T01:01:26.908992Z",
     "iopub.status.busy": "2025-06-06T01:01:26.908345Z",
     "iopub.status.idle": "2025-06-06T01:01:26.914031Z",
     "shell.execute_reply": "2025-06-06T01:01:26.913247Z",
     "shell.execute_reply.started": "2025-06-06T01:01:26.908968Z"
    },
    "papermill": {
     "duration": null,
     "end_time": null,
     "exception": null,
     "start_time": null,
     "status": "pending"
    },
    "tags": []
   },
   "outputs": [],
   "source": [
    "len(ids)"
   ]
  },
  {
   "cell_type": "code",
   "execution_count": null,
   "id": "4bf3e102",
   "metadata": {
    "execution": {
     "iopub.execute_input": "2025-06-06T01:02:59.891000Z",
     "iopub.status.busy": "2025-06-06T01:02:59.890651Z",
     "iopub.status.idle": "2025-06-06T01:02:59.900589Z",
     "shell.execute_reply": "2025-06-06T01:02:59.899671Z",
     "shell.execute_reply.started": "2025-06-06T01:02:59.890978Z"
    },
    "papermill": {
     "duration": null,
     "end_time": null,
     "exception": null,
     "start_time": null,
     "status": "pending"
    },
    "tags": []
   },
   "outputs": [],
   "source": [
    "# Preparar submission con todos los registros\n",
    "df_submission = pd.DataFrame({'id': ids, 'dengue': predictions})\n",
    "\n",
    "# Exportar a CSV\n",
    "df_submission.to_csv('submission_LSTM.csv', index=False)\n",
    "print(f'Submission guardado en submission.csv, con {len(df_submission)} predicciones.')"
   ]
  },
  {
   "cell_type": "code",
   "execution_count": null,
   "id": "a41ad089",
   "metadata": {
    "execution": {
     "iopub.execute_input": "2025-06-06T01:03:01.466245Z",
     "iopub.status.busy": "2025-06-06T01:03:01.465593Z",
     "iopub.status.idle": "2025-06-06T01:03:01.477329Z",
     "shell.execute_reply": "2025-06-06T01:03:01.476479Z",
     "shell.execute_reply.started": "2025-06-06T01:03:01.466219Z"
    },
    "papermill": {
     "duration": null,
     "end_time": null,
     "exception": null,
     "start_time": null,
     "status": "pending"
    },
    "tags": []
   },
   "outputs": [],
   "source": [
    "df_submission"
   ]
  }
 ],
 "metadata": {
  "kaggle": {
   "accelerator": "gpu",
   "dataSources": [
    {
     "databundleVersionId": 12528598,
     "isSourceIdPinned": false,
     "sourceId": 104130,
     "sourceType": "competition"
    }
   ],
   "dockerImageVersionId": 31041,
   "isGpuEnabled": true,
   "isInternetEnabled": true,
   "language": "python",
   "sourceType": "notebook"
  },
  "kernelspec": {
   "display_name": "venv",
   "language": "python",
   "name": "python3"
  },
  "language_info": {
   "codemirror_mode": {
    "name": "ipython",
    "version": 3
   },
   "file_extension": ".py",
   "mimetype": "text/x-python",
   "name": "python",
   "nbconvert_exporter": "python",
   "pygments_lexer": "ipython3",
   "version": "3.13.3"
  },
  "papermill": {
   "default_parameters": {},
   "duration": 28.262454,
   "end_time": "2025-06-06T01:05:37.116417",
   "environment_variables": {},
   "exception": true,
   "input_path": "__notebook__.ipynb",
   "output_path": "__notebook__.ipynb",
   "parameters": {},
   "start_time": "2025-06-06T01:05:08.853963",
   "version": "2.6.0"
  }
 },
 "nbformat": 4,
 "nbformat_minor": 5
}
