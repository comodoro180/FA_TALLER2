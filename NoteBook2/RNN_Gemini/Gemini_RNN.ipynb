{
 "cells": [
  {
   "cell_type": "code",
   "execution_count": 8,
   "id": "0d336b87",
   "metadata": {},
   "outputs": [
    {
     "name": "stderr",
     "output_type": "stream",
     "text": [
      "[I 2025-06-23 00:33:53,105] A new study created in memory with name: no-name-0b42958d-a08e-4e12-a2d6-afb4f9934694\n"
     ]
    },
    {
     "name": "stdout",
     "output_type": "stream",
     "text": [
      "Cargando librerías...\n",
      "Usando dispositivo: cuda\n",
      "\n",
      "--- Fase 3: Carga y Preparación de Datos ---\n",
      "Cargando datos desde: ../../Datos/df_train.parquet\n",
      "Datos cargados exitosamente.\n",
      "Forma inicial de los datos: (3680, 20)\n",
      "Columna 'fecha' creada y datos ordenados.\n",
      "Tamaño del conjunto de entrenamiento: (3150, 22)\n",
      "Tamaño del conjunto de validación: (530, 22)\n",
      "Rango de fechas en entrenamiento: 2014-12-29 00:00:00 a 2020-12-28 00:00:00\n",
      "Rango de fechas en validación: 2021-01-04 00:00:00 a 2022-01-03 00:00:00\n",
      "\n",
      "--- Fase 4: Preprocesamiento de Datos ---\n",
      "Variables Categóricas para One-Hot Encoding: ['id_bar', 'ESTRATO']\n",
      "Variables Numéricas para Escalado: ['id', 'area_barrio', 'concentraciones', 'vivienda', 'equipesado', 'sumideros', 'maquina', 'lluvia_mean', 'lluvia_var', 'lluvia_max', 'lluvia_min', 'temperatura_mean', 'temperatura_var', 'temperatura_max', 'temperatura_min']\n",
      "Variable Objetivo para Escalado: dengue\n",
      "Ajustando el preprocesador (scaler y one-hot encoder) con los datos de entrenamiento...\n",
      "Preprocesamiento completado.\n",
      "Forma de datos de entrenamiento procesados: (3150, 31)\n",
      "Forma de datos de validación procesados: (530, 31)\n",
      "\n",
      "--- Fase 5: Creación de Secuencias ---\n",
      "Función 'create_sequences' definida.\n",
      "\n",
      "--- Fase 6: Definición del Modelo RNN ---\n",
      "Clase del modelo 'SimpleRNN' definida.\n",
      "El modelo tendrá un tamaño de entrada (n_features) de: 29\n",
      "\n",
      "--- Fase 7: Optimización de Hiperparámetros con Optuna ---\n",
      "Iniciando estudio de Optuna con 50 trials...\n"
     ]
    },
    {
     "data": {
      "application/vnd.jupyter.widget-view+json": {
       "model_id": "fdfd5a847d32463bbfc71ef53372c5bc",
       "version_major": 2,
       "version_minor": 0
      },
      "text/plain": [
       "  0%|          | 0/50 [00:00<?, ?it/s]"
      ]
     },
     "metadata": {},
     "output_type": "display_data"
    },
    {
     "name": "stdout",
     "output_type": "stream",
     "text": [
      "\n",
      "Iniciando Trial 0 con params: {'window_size': 21, 'hidden_size': 128, 'num_layers': 2, 'learning_rate': 0.003902725628129111, 'batch_size': 64, 'epochs': 50}\n"
     ]
    },
    {
     "data": {
      "application/vnd.jupyter.widget-view+json": {
       "model_id": "d4ccda6c17fc4d5aba7f76d17b9d7cb1",
       "version_major": 2,
       "version_minor": 0
      },
      "text/plain": [
       "Creando secuencias por barrio:   0%|          | 0/10 [00:00<?, ?it/s]"
      ]
     },
     "metadata": {},
     "output_type": "display_data"
    },
    {
     "data": {
      "application/vnd.jupyter.widget-view+json": {
       "model_id": "0771be57a5704bb0ab3f0bc900aec9d9",
       "version_major": 2,
       "version_minor": 0
      },
      "text/plain": [
       "Creando secuencias por barrio:   0%|          | 0/10 [00:00<?, ?it/s]"
      ]
     },
     "metadata": {},
     "output_type": "display_data"
    },
    {
     "name": "stdout",
     "output_type": "stream",
     "text": [
      "Trial 0 finalizado. MSE de validación: 0.115692\n",
      "[I 2025-06-23 00:33:57,578] Trial 0 finished with value: 0.11569228768348694 and parameters: {'window_size': 21, 'hidden_size': 128, 'num_layers': 2, 'learning_rate': 0.003902725628129111, 'batch_size': 64}. Best is trial 0 with value: 0.11569228768348694.\n",
      "\n",
      "Iniciando Trial 1 con params: {'window_size': 42, 'hidden_size': 118, 'num_layers': 1, 'learning_rate': 0.0007992127892068904, 'batch_size': 32, 'epochs': 50}\n"
     ]
    },
    {
     "data": {
      "application/vnd.jupyter.widget-view+json": {
       "model_id": "5f760eff2a944fe29490497238dd2328",
       "version_major": 2,
       "version_minor": 0
      },
      "text/plain": [
       "Creando secuencias por barrio:   0%|          | 0/10 [00:00<?, ?it/s]"
      ]
     },
     "metadata": {},
     "output_type": "display_data"
    },
    {
     "data": {
      "application/vnd.jupyter.widget-view+json": {
       "model_id": "7d02aca92d934527b44fbd616e3bf53c",
       "version_major": 2,
       "version_minor": 0
      },
      "text/plain": [
       "Creando secuencias por barrio:   0%|          | 0/10 [00:00<?, ?it/s]"
      ]
     },
     "metadata": {},
     "output_type": "display_data"
    },
    {
     "name": "stdout",
     "output_type": "stream",
     "text": [
      "Trial 1 finalizado. MSE de validación: 0.134860\n",
      "[I 2025-06-23 00:34:03,546] Trial 1 finished with value: 0.13486026227474213 and parameters: {'window_size': 42, 'hidden_size': 118, 'num_layers': 1, 'learning_rate': 0.0007992127892068904, 'batch_size': 32}. Best is trial 0 with value: 0.11569228768348694.\n",
      "\n",
      "Iniciando Trial 2 con params: {'window_size': 26, 'hidden_size': 74, 'num_layers': 2, 'learning_rate': 0.0005576853748642406, 'batch_size': 128, 'epochs': 50}\n"
     ]
    },
    {
     "data": {
      "application/vnd.jupyter.widget-view+json": {
       "model_id": "f1fa588d3c67472e9177f6876041bd15",
       "version_major": 2,
       "version_minor": 0
      },
      "text/plain": [
       "Creando secuencias por barrio:   0%|          | 0/10 [00:00<?, ?it/s]"
      ]
     },
     "metadata": {},
     "output_type": "display_data"
    },
    {
     "data": {
      "application/vnd.jupyter.widget-view+json": {
       "model_id": "c8cf538d59de4e3896d1eae5ff18c05d",
       "version_major": 2,
       "version_minor": 0
      },
      "text/plain": [
       "Creando secuencias por barrio:   0%|          | 0/10 [00:00<?, ?it/s]"
      ]
     },
     "metadata": {},
     "output_type": "display_data"
    },
    {
     "name": "stdout",
     "output_type": "stream",
     "text": [
      "Trial 2 finalizado. MSE de validación: 0.126314\n",
      "[I 2025-06-23 00:34:05,902] Trial 2 finished with value: 0.12631439417600632 and parameters: {'window_size': 26, 'hidden_size': 74, 'num_layers': 2, 'learning_rate': 0.0005576853748642406, 'batch_size': 128}. Best is trial 0 with value: 0.11569228768348694.\n",
      "\n",
      "Iniciando Trial 3 con params: {'window_size': 43, 'hidden_size': 88, 'num_layers': 1, 'learning_rate': 0.004799196601360989, 'batch_size': 32, 'epochs': 50}\n"
     ]
    },
    {
     "data": {
      "application/vnd.jupyter.widget-view+json": {
       "model_id": "e86bb4da6e334b849a46cf4122ad1374",
       "version_major": 2,
       "version_minor": 0
      },
      "text/plain": [
       "Creando secuencias por barrio:   0%|          | 0/10 [00:00<?, ?it/s]"
      ]
     },
     "metadata": {},
     "output_type": "display_data"
    },
    {
     "data": {
      "application/vnd.jupyter.widget-view+json": {
       "model_id": "1ddc3a7159ee45aa8293d19454999430",
       "version_major": 2,
       "version_minor": 0
      },
      "text/plain": [
       "Creando secuencias por barrio:   0%|          | 0/10 [00:00<?, ?it/s]"
      ]
     },
     "metadata": {},
     "output_type": "display_data"
    },
    {
     "name": "stdout",
     "output_type": "stream",
     "text": [
      "Trial 3 finalizado. MSE de validación: 0.149157\n",
      "[I 2025-06-23 00:34:12,035] Trial 3 finished with value: 0.1491570696234703 and parameters: {'window_size': 43, 'hidden_size': 88, 'num_layers': 1, 'learning_rate': 0.004799196601360989, 'batch_size': 32}. Best is trial 0 with value: 0.11569228768348694.\n",
      "\n",
      "Iniciando Trial 4 con params: {'window_size': 28, 'hidden_size': 84, 'num_layers': 2, 'learning_rate': 0.0009253815933011593, 'batch_size': 128, 'epochs': 50}\n"
     ]
    },
    {
     "data": {
      "application/vnd.jupyter.widget-view+json": {
       "model_id": "73571ff1a6214c4ea34ea378cb5fc942",
       "version_major": 2,
       "version_minor": 0
      },
      "text/plain": [
       "Creando secuencias por barrio:   0%|          | 0/10 [00:00<?, ?it/s]"
      ]
     },
     "metadata": {},
     "output_type": "display_data"
    },
    {
     "data": {
      "application/vnd.jupyter.widget-view+json": {
       "model_id": "43b0126cfe784adc9f2131c158c38821",
       "version_major": 2,
       "version_minor": 0
      },
      "text/plain": [
       "Creando secuencias por barrio:   0%|          | 0/10 [00:00<?, ?it/s]"
      ]
     },
     "metadata": {},
     "output_type": "display_data"
    },
    {
     "name": "stdout",
     "output_type": "stream",
     "text": [
      "Trial 4 finalizado. MSE de validación: 0.180176\n",
      "[I 2025-06-23 00:34:13,993] Trial 4 finished with value: 0.18017612770199776 and parameters: {'window_size': 28, 'hidden_size': 84, 'num_layers': 2, 'learning_rate': 0.0009253815933011593, 'batch_size': 128}. Best is trial 0 with value: 0.11569228768348694.\n",
      "\n",
      "Iniciando Trial 5 con params: {'window_size': 14, 'hidden_size': 93, 'num_layers': 3, 'learning_rate': 0.00011165781518820355, 'batch_size': 128, 'epochs': 50}\n"
     ]
    },
    {
     "data": {
      "application/vnd.jupyter.widget-view+json": {
       "model_id": "0d188eb452bc4a23af034acecc3f24c0",
       "version_major": 2,
       "version_minor": 0
      },
      "text/plain": [
       "Creando secuencias por barrio:   0%|          | 0/10 [00:00<?, ?it/s]"
      ]
     },
     "metadata": {},
     "output_type": "display_data"
    },
    {
     "data": {
      "application/vnd.jupyter.widget-view+json": {
       "model_id": "b7203410e93b4f3f99a3dc49b490da22",
       "version_major": 2,
       "version_minor": 0
      },
      "text/plain": [
       "Creando secuencias por barrio:   0%|          | 0/10 [00:00<?, ?it/s]"
      ]
     },
     "metadata": {},
     "output_type": "display_data"
    },
    {
     "name": "stdout",
     "output_type": "stream",
     "text": [
      "Trial 5 finalizado. MSE de validación: 0.098436\n",
      "[I 2025-06-23 00:34:16,568] Trial 5 finished with value: 0.0984359267167747 and parameters: {'window_size': 14, 'hidden_size': 93, 'num_layers': 3, 'learning_rate': 0.00011165781518820355, 'batch_size': 128}. Best is trial 5 with value: 0.0984359267167747.\n",
      "\n",
      "Iniciando Trial 6 con params: {'window_size': 47, 'hidden_size': 89, 'num_layers': 1, 'learning_rate': 0.0024197981527529374, 'batch_size': 64, 'epochs': 50}\n"
     ]
    },
    {
     "data": {
      "application/vnd.jupyter.widget-view+json": {
       "model_id": "1834cd97b1ea493bb33b983045dd12b7",
       "version_major": 2,
       "version_minor": 0
      },
      "text/plain": [
       "Creando secuencias por barrio:   0%|          | 0/10 [00:00<?, ?it/s]"
      ]
     },
     "metadata": {},
     "output_type": "display_data"
    },
    {
     "data": {
      "application/vnd.jupyter.widget-view+json": {
       "model_id": "31473edd95e244a4af78feb5e5a2afc8",
       "version_major": 2,
       "version_minor": 0
      },
      "text/plain": [
       "Creando secuencias por barrio:   0%|          | 0/10 [00:00<?, ?it/s]"
      ]
     },
     "metadata": {},
     "output_type": "display_data"
    },
    {
     "name": "stdout",
     "output_type": "stream",
     "text": [
      "Trial 6 finalizado. MSE de validación: 0.230967\n",
      "[I 2025-06-23 00:34:19,691] Trial 6 finished with value: 0.23096677660942078 and parameters: {'window_size': 47, 'hidden_size': 89, 'num_layers': 1, 'learning_rate': 0.0024197981527529374, 'batch_size': 64}. Best is trial 5 with value: 0.0984359267167747.\n",
      "\n",
      "Iniciando Trial 7 con params: {'window_size': 27, 'hidden_size': 108, 'num_layers': 3, 'learning_rate': 0.00020568447599045436, 'batch_size': 64, 'epochs': 50}\n"
     ]
    },
    {
     "data": {
      "application/vnd.jupyter.widget-view+json": {
       "model_id": "4eaa71ea292f4f53b040c8b84ff98db8",
       "version_major": 2,
       "version_minor": 0
      },
      "text/plain": [
       "Creando secuencias por barrio:   0%|          | 0/10 [00:00<?, ?it/s]"
      ]
     },
     "metadata": {},
     "output_type": "display_data"
    },
    {
     "data": {
      "application/vnd.jupyter.widget-view+json": {
       "model_id": "8464971409ef48ba81b293d48ede1de7",
       "version_major": 2,
       "version_minor": 0
      },
      "text/plain": [
       "Creando secuencias por barrio:   0%|          | 0/10 [00:00<?, ?it/s]"
      ]
     },
     "metadata": {},
     "output_type": "display_data"
    },
    {
     "name": "stdout",
     "output_type": "stream",
     "text": [
      "Trial 7 finalizado. MSE de validación: 0.109132\n",
      "[I 2025-06-23 00:34:23,268] Trial 7 finished with value: 0.1091317892074585 and parameters: {'window_size': 27, 'hidden_size': 108, 'num_layers': 3, 'learning_rate': 0.00020568447599045436, 'batch_size': 64}. Best is trial 5 with value: 0.0984359267167747.\n",
      "\n",
      "Iniciando Trial 8 con params: {'window_size': 12, 'hidden_size': 64, 'num_layers': 3, 'learning_rate': 0.0016952801876358192, 'batch_size': 32, 'epochs': 50}\n"
     ]
    },
    {
     "data": {
      "application/vnd.jupyter.widget-view+json": {
       "model_id": "9bdcba171d1f41fcac1c1c0a087a1748",
       "version_major": 2,
       "version_minor": 0
      },
      "text/plain": [
       "Creando secuencias por barrio:   0%|          | 0/10 [00:00<?, ?it/s]"
      ]
     },
     "metadata": {},
     "output_type": "display_data"
    },
    {
     "data": {
      "application/vnd.jupyter.widget-view+json": {
       "model_id": "88108fbf3fca425f9a6e787ab2fd0a41",
       "version_major": 2,
       "version_minor": 0
      },
      "text/plain": [
       "Creando secuencias por barrio:   0%|          | 0/10 [00:00<?, ?it/s]"
      ]
     },
     "metadata": {},
     "output_type": "display_data"
    },
    {
     "name": "stdout",
     "output_type": "stream",
     "text": [
      "Trial 8 finalizado. MSE de validación: 0.190020\n",
      "[I 2025-06-23 00:34:30,688] Trial 8 finished with value: 0.19001976973735368 and parameters: {'window_size': 12, 'hidden_size': 64, 'num_layers': 3, 'learning_rate': 0.0016952801876358192, 'batch_size': 32}. Best is trial 5 with value: 0.0984359267167747.\n",
      "\n",
      "Iniciando Trial 9 con params: {'window_size': 28, 'hidden_size': 34, 'num_layers': 1, 'learning_rate': 0.0003325978326895612, 'batch_size': 32, 'epochs': 50}\n"
     ]
    },
    {
     "data": {
      "application/vnd.jupyter.widget-view+json": {
       "model_id": "0c77d349c37444e9a5a21fbdad644b63",
       "version_major": 2,
       "version_minor": 0
      },
      "text/plain": [
       "Creando secuencias por barrio:   0%|          | 0/10 [00:00<?, ?it/s]"
      ]
     },
     "metadata": {},
     "output_type": "display_data"
    },
    {
     "data": {
      "application/vnd.jupyter.widget-view+json": {
       "model_id": "cb3f58b2b0f94ec98b28e344d27ce849",
       "version_major": 2,
       "version_minor": 0
      },
      "text/plain": [
       "Creando secuencias por barrio:   0%|          | 0/10 [00:00<?, ?it/s]"
      ]
     },
     "metadata": {},
     "output_type": "display_data"
    },
    {
     "name": "stdout",
     "output_type": "stream",
     "text": [
      "Trial 9 finalizado. MSE de validación: 0.107435\n",
      "[I 2025-06-23 00:34:38,300] Trial 9 finished with value: 0.10743488278239965 and parameters: {'window_size': 28, 'hidden_size': 34, 'num_layers': 1, 'learning_rate': 0.0003325978326895612, 'batch_size': 32}. Best is trial 5 with value: 0.0984359267167747.\n",
      "\n",
      "Iniciando Trial 10 con params: {'window_size': 8, 'hidden_size': 53, 'num_layers': 3, 'learning_rate': 0.00011876223673163687, 'batch_size': 128, 'epochs': 50}\n"
     ]
    },
    {
     "data": {
      "application/vnd.jupyter.widget-view+json": {
       "model_id": "53fa6585c53247fc9b70f719ad91de33",
       "version_major": 2,
       "version_minor": 0
      },
      "text/plain": [
       "Creando secuencias por barrio:   0%|          | 0/10 [00:00<?, ?it/s]"
      ]
     },
     "metadata": {},
     "output_type": "display_data"
    },
    {
     "data": {
      "application/vnd.jupyter.widget-view+json": {
       "model_id": "8e4fffeebf384b778fd9042c1cefc49f",
       "version_major": 2,
       "version_minor": 0
      },
      "text/plain": [
       "Creando secuencias por barrio:   0%|          | 0/10 [00:00<?, ?it/s]"
      ]
     },
     "metadata": {},
     "output_type": "display_data"
    },
    {
     "name": "stdout",
     "output_type": "stream",
     "text": [
      "Trial 10 finalizado. MSE de validación: 0.133821\n",
      "[I 2025-06-23 00:34:41,226] Trial 10 finished with value: 0.13382123596966267 and parameters: {'window_size': 8, 'hidden_size': 53, 'num_layers': 3, 'learning_rate': 0.00011876223673163687, 'batch_size': 128}. Best is trial 5 with value: 0.0984359267167747.\n",
      "\n",
      "Iniciando Trial 11 con params: {'window_size': 17, 'hidden_size': 37, 'num_layers': 2, 'learning_rate': 0.0002936923051270236, 'batch_size': 32, 'epochs': 50}\n"
     ]
    },
    {
     "data": {
      "application/vnd.jupyter.widget-view+json": {
       "model_id": "51568efadb2f48468c0f9c2a633abde6",
       "version_major": 2,
       "version_minor": 0
      },
      "text/plain": [
       "Creando secuencias por barrio:   0%|          | 0/10 [00:00<?, ?it/s]"
      ]
     },
     "metadata": {},
     "output_type": "display_data"
    },
    {
     "data": {
      "application/vnd.jupyter.widget-view+json": {
       "model_id": "1ef2d54fb3aa493d8ee3a8af745c3118",
       "version_major": 2,
       "version_minor": 0
      },
      "text/plain": [
       "Creando secuencias por barrio:   0%|          | 0/10 [00:00<?, ?it/s]"
      ]
     },
     "metadata": {},
     "output_type": "display_data"
    },
    {
     "name": "stdout",
     "output_type": "stream",
     "text": [
      "Trial 11 finalizado. MSE de validación: 0.133406\n",
      "[I 2025-06-23 00:34:52,285] Trial 11 finished with value: 0.13340569473803043 and parameters: {'window_size': 17, 'hidden_size': 37, 'num_layers': 2, 'learning_rate': 0.0002936923051270236, 'batch_size': 32}. Best is trial 5 with value: 0.0984359267167747.\n",
      "\n",
      "Iniciando Trial 12 con params: {'window_size': 35, 'hidden_size': 32, 'num_layers': 1, 'learning_rate': 0.00013090513188855594, 'batch_size': 128, 'epochs': 50}\n"
     ]
    },
    {
     "data": {
      "application/vnd.jupyter.widget-view+json": {
       "model_id": "209e8c4e550940bd920ca4a41111e7e6",
       "version_major": 2,
       "version_minor": 0
      },
      "text/plain": [
       "Creando secuencias por barrio:   0%|          | 0/10 [00:00<?, ?it/s]"
      ]
     },
     "metadata": {},
     "output_type": "display_data"
    },
    {
     "data": {
      "application/vnd.jupyter.widget-view+json": {
       "model_id": "14868e23b4174ad3a945274e225bde5a",
       "version_major": 2,
       "version_minor": 0
      },
      "text/plain": [
       "Creando secuencias por barrio:   0%|          | 0/10 [00:00<?, ?it/s]"
      ]
     },
     "metadata": {},
     "output_type": "display_data"
    },
    {
     "name": "stdout",
     "output_type": "stream",
     "text": [
      "Trial 12 finalizado. MSE de validación: 0.091160\n",
      "[I 2025-06-23 00:34:54,928] Trial 12 finished with value: 0.09115958958864212 and parameters: {'window_size': 35, 'hidden_size': 32, 'num_layers': 1, 'learning_rate': 0.00013090513188855594, 'batch_size': 128}. Best is trial 12 with value: 0.09115958958864212.\n",
      "\n",
      "Iniciando Trial 13 con params: {'window_size': 36, 'hidden_size': 100, 'num_layers': 3, 'learning_rate': 0.00012046296478753033, 'batch_size': 128, 'epochs': 50}\n"
     ]
    },
    {
     "data": {
      "application/vnd.jupyter.widget-view+json": {
       "model_id": "dd8418520e2d4ae1a2f58224c3bd68c3",
       "version_major": 2,
       "version_minor": 0
      },
      "text/plain": [
       "Creando secuencias por barrio:   0%|          | 0/10 [00:00<?, ?it/s]"
      ]
     },
     "metadata": {},
     "output_type": "display_data"
    },
    {
     "data": {
      "application/vnd.jupyter.widget-view+json": {
       "model_id": "0f8f74c617254eacbc88aa73481b7a2d",
       "version_major": 2,
       "version_minor": 0
      },
      "text/plain": [
       "Creando secuencias por barrio:   0%|          | 0/10 [00:00<?, ?it/s]"
      ]
     },
     "metadata": {},
     "output_type": "display_data"
    },
    {
     "name": "stdout",
     "output_type": "stream",
     "text": [
      "Trial 13 finalizado. MSE de validación: 0.078838\n",
      "[I 2025-06-23 00:34:57,935] Trial 13 finished with value: 0.07883801683783531 and parameters: {'window_size': 36, 'hidden_size': 100, 'num_layers': 3, 'learning_rate': 0.00012046296478753033, 'batch_size': 128}. Best is trial 13 with value: 0.07883801683783531.\n",
      "\n",
      "Iniciando Trial 14 con params: {'window_size': 36, 'hidden_size': 104, 'num_layers': 2, 'learning_rate': 0.00020242778906729485, 'batch_size': 128, 'epochs': 50}\n"
     ]
    },
    {
     "data": {
      "application/vnd.jupyter.widget-view+json": {
       "model_id": "5b4c00744bdd4e2590bd4be6ac9ad7c8",
       "version_major": 2,
       "version_minor": 0
      },
      "text/plain": [
       "Creando secuencias por barrio:   0%|          | 0/10 [00:00<?, ?it/s]"
      ]
     },
     "metadata": {},
     "output_type": "display_data"
    },
    {
     "data": {
      "application/vnd.jupyter.widget-view+json": {
       "model_id": "ec66670eef054792ba5e527a06036620",
       "version_major": 2,
       "version_minor": 0
      },
      "text/plain": [
       "Creando secuencias por barrio:   0%|          | 0/10 [00:00<?, ?it/s]"
      ]
     },
     "metadata": {},
     "output_type": "display_data"
    },
    {
     "name": "stdout",
     "output_type": "stream",
     "text": [
      "Trial 14 finalizado. MSE de validación: 0.092446\n",
      "[I 2025-06-23 00:34:59,886] Trial 14 finished with value: 0.09244582056999207 and parameters: {'window_size': 36, 'hidden_size': 104, 'num_layers': 2, 'learning_rate': 0.00020242778906729485, 'batch_size': 128}. Best is trial 13 with value: 0.07883801683783531.\n",
      "\n",
      "Iniciando Trial 15 con params: {'window_size': 35, 'hidden_size': 55, 'num_layers': 1, 'learning_rate': 0.008936426826238391, 'batch_size': 128, 'epochs': 50}\n"
     ]
    },
    {
     "data": {
      "application/vnd.jupyter.widget-view+json": {
       "model_id": "d60b4c72a4bd413c8ba35fd52c472d5c",
       "version_major": 2,
       "version_minor": 0
      },
      "text/plain": [
       "Creando secuencias por barrio:   0%|          | 0/10 [00:00<?, ?it/s]"
      ]
     },
     "metadata": {},
     "output_type": "display_data"
    },
    {
     "data": {
      "application/vnd.jupyter.widget-view+json": {
       "model_id": "6b381d77653146778eed6a36e5956f5f",
       "version_major": 2,
       "version_minor": 0
      },
      "text/plain": [
       "Creando secuencias por barrio:   0%|          | 0/10 [00:00<?, ?it/s]"
      ]
     },
     "metadata": {},
     "output_type": "display_data"
    },
    {
     "name": "stdout",
     "output_type": "stream",
     "text": [
      "Trial 15 finalizado. MSE de validación: 0.133866\n",
      "[I 2025-06-23 00:35:01,661] Trial 15 finished with value: 0.13386600837111473 and parameters: {'window_size': 35, 'hidden_size': 55, 'num_layers': 1, 'learning_rate': 0.008936426826238391, 'batch_size': 128}. Best is trial 13 with value: 0.07883801683783531.\n",
      "\n",
      "Iniciando Trial 16 con params: {'window_size': 33, 'hidden_size': 72, 'num_layers': 3, 'learning_rate': 0.00010404235765585959, 'batch_size': 128, 'epochs': 50}\n"
     ]
    },
    {
     "data": {
      "application/vnd.jupyter.widget-view+json": {
       "model_id": "c1dc33e3e38b4720b3d470be0304c41f",
       "version_major": 2,
       "version_minor": 0
      },
      "text/plain": [
       "Creando secuencias por barrio:   0%|          | 0/10 [00:00<?, ?it/s]"
      ]
     },
     "metadata": {},
     "output_type": "display_data"
    },
    {
     "data": {
      "application/vnd.jupyter.widget-view+json": {
       "model_id": "ee94bba4b23743ed8485d04400ba3dda",
       "version_major": 2,
       "version_minor": 0
      },
      "text/plain": [
       "Creando secuencias por barrio:   0%|          | 0/10 [00:00<?, ?it/s]"
      ]
     },
     "metadata": {},
     "output_type": "display_data"
    },
    {
     "name": "stdout",
     "output_type": "stream",
     "text": [
      "Trial 16 finalizado. MSE de validación: 0.085997\n",
      "[I 2025-06-23 00:35:03,953] Trial 16 finished with value: 0.0859973132610321 and parameters: {'window_size': 33, 'hidden_size': 72, 'num_layers': 3, 'learning_rate': 0.00010404235765585959, 'batch_size': 128}. Best is trial 13 with value: 0.07883801683783531.\n",
      "\n",
      "Iniciando Trial 17 con params: {'window_size': 39, 'hidden_size': 72, 'num_layers': 3, 'learning_rate': 0.00046495079478462, 'batch_size': 128, 'epochs': 50}\n"
     ]
    },
    {
     "data": {
      "application/vnd.jupyter.widget-view+json": {
       "model_id": "bc98a4d8e5434079826cd409485bd919",
       "version_major": 2,
       "version_minor": 0
      },
      "text/plain": [
       "Creando secuencias por barrio:   0%|          | 0/10 [00:00<?, ?it/s]"
      ]
     },
     "metadata": {},
     "output_type": "display_data"
    },
    {
     "data": {
      "application/vnd.jupyter.widget-view+json": {
       "model_id": "27ef01f0e2fe40f3a69633affcf99fa3",
       "version_major": 2,
       "version_minor": 0
      },
      "text/plain": [
       "Creando secuencias por barrio:   0%|          | 0/10 [00:00<?, ?it/s]"
      ]
     },
     "metadata": {},
     "output_type": "display_data"
    },
    {
     "name": "stdout",
     "output_type": "stream",
     "text": [
      "Trial 17 finalizado. MSE de validación: 0.056702\n",
      "[I 2025-06-23 00:35:06,045] Trial 17 finished with value: 0.05670248903334141 and parameters: {'window_size': 39, 'hidden_size': 72, 'num_layers': 3, 'learning_rate': 0.00046495079478462, 'batch_size': 128}. Best is trial 17 with value: 0.05670248903334141.\n",
      "\n",
      "Iniciando Trial 18 con params: {'window_size': 40, 'hidden_size': 99, 'num_layers': 3, 'learning_rate': 0.0005978092592503343, 'batch_size': 128, 'epochs': 50}\n"
     ]
    },
    {
     "data": {
      "application/vnd.jupyter.widget-view+json": {
       "model_id": "7a2cf2da7ed74041a63517eb0b8166c4",
       "version_major": 2,
       "version_minor": 0
      },
      "text/plain": [
       "Creando secuencias por barrio:   0%|          | 0/10 [00:00<?, ?it/s]"
      ]
     },
     "metadata": {},
     "output_type": "display_data"
    },
    {
     "data": {
      "application/vnd.jupyter.widget-view+json": {
       "model_id": "1ba8db1a822b4eada482d5ee9248a685",
       "version_major": 2,
       "version_minor": 0
      },
      "text/plain": [
       "Creando secuencias por barrio:   0%|          | 0/10 [00:00<?, ?it/s]"
      ]
     },
     "metadata": {},
     "output_type": "display_data"
    },
    {
     "name": "stdout",
     "output_type": "stream",
     "text": [
      "Trial 18 finalizado. MSE de validación: 0.069241\n",
      "[I 2025-06-23 00:35:08,332] Trial 18 finished with value: 0.06924073910340667 and parameters: {'window_size': 40, 'hidden_size': 99, 'num_layers': 3, 'learning_rate': 0.0005978092592503343, 'batch_size': 128}. Best is trial 17 with value: 0.05670248903334141.\n",
      "\n",
      "Iniciando Trial 19 con params: {'window_size': 41, 'hidden_size': 76, 'num_layers': 3, 'learning_rate': 0.0004543230321124556, 'batch_size': 128, 'epochs': 50}\n"
     ]
    },
    {
     "data": {
      "application/vnd.jupyter.widget-view+json": {
       "model_id": "4ea3d4626d824167aeaa26a3afd425c1",
       "version_major": 2,
       "version_minor": 0
      },
      "text/plain": [
       "Creando secuencias por barrio:   0%|          | 0/10 [00:00<?, ?it/s]"
      ]
     },
     "metadata": {},
     "output_type": "display_data"
    },
    {
     "data": {
      "application/vnd.jupyter.widget-view+json": {
       "model_id": "4197f1796e8e4391a53242382ea2ff62",
       "version_major": 2,
       "version_minor": 0
      },
      "text/plain": [
       "Creando secuencias por barrio:   0%|          | 0/10 [00:00<?, ?it/s]"
      ]
     },
     "metadata": {},
     "output_type": "display_data"
    },
    {
     "name": "stdout",
     "output_type": "stream",
     "text": [
      "Trial 19 finalizado. MSE de validación: 0.104111\n",
      "[I 2025-06-23 00:35:10,392] Trial 19 finished with value: 0.10411103814840317 and parameters: {'window_size': 41, 'hidden_size': 76, 'num_layers': 3, 'learning_rate': 0.0004543230321124556, 'batch_size': 128}. Best is trial 17 with value: 0.05670248903334141.\n",
      "\n",
      "Iniciando Trial 20 con params: {'window_size': 48, 'hidden_size': 63, 'num_layers': 3, 'learning_rate': 0.0014406545334080113, 'batch_size': 64, 'epochs': 50}\n"
     ]
    },
    {
     "data": {
      "application/vnd.jupyter.widget-view+json": {
       "model_id": "9031a31556c34268bd7dfc16200f3018",
       "version_major": 2,
       "version_minor": 0
      },
      "text/plain": [
       "Creando secuencias por barrio:   0%|          | 0/10 [00:00<?, ?it/s]"
      ]
     },
     "metadata": {},
     "output_type": "display_data"
    },
    {
     "data": {
      "application/vnd.jupyter.widget-view+json": {
       "model_id": "6735df8987784f9e92ae0166d10f6540",
       "version_major": 2,
       "version_minor": 0
      },
      "text/plain": [
       "Creando secuencias por barrio:   0%|          | 0/10 [00:00<?, ?it/s]"
      ]
     },
     "metadata": {},
     "output_type": "display_data"
    },
    {
     "name": "stdout",
     "output_type": "stream",
     "text": [
      "Trial 20 finalizado. MSE de validación: 0.168603\n",
      "[I 2025-06-23 00:35:13,797] Trial 20 finished with value: 0.1686030924320221 and parameters: {'window_size': 48, 'hidden_size': 63, 'num_layers': 3, 'learning_rate': 0.0014406545334080113, 'batch_size': 64}. Best is trial 17 with value: 0.05670248903334141.\n",
      "\n",
      "Iniciando Trial 21 con params: {'window_size': 38, 'hidden_size': 100, 'num_layers': 3, 'learning_rate': 0.0005992302326359159, 'batch_size': 128, 'epochs': 50}\n"
     ]
    },
    {
     "data": {
      "application/vnd.jupyter.widget-view+json": {
       "model_id": "345d7c4b3be14dccb8778112058639a8",
       "version_major": 2,
       "version_minor": 0
      },
      "text/plain": [
       "Creando secuencias por barrio:   0%|          | 0/10 [00:00<?, ?it/s]"
      ]
     },
     "metadata": {},
     "output_type": "display_data"
    },
    {
     "data": {
      "application/vnd.jupyter.widget-view+json": {
       "model_id": "c8d21b88e5744a6f9b0da387fc1fcad3",
       "version_major": 2,
       "version_minor": 0
      },
      "text/plain": [
       "Creando secuencias por barrio:   0%|          | 0/10 [00:00<?, ?it/s]"
      ]
     },
     "metadata": {},
     "output_type": "display_data"
    },
    {
     "name": "stdout",
     "output_type": "stream",
     "text": [
      "Trial 21 finalizado. MSE de validación: 0.075285\n",
      "[I 2025-06-23 00:35:16,109] Trial 21 finished with value: 0.07528529781848192 and parameters: {'window_size': 38, 'hidden_size': 100, 'num_layers': 3, 'learning_rate': 0.0005992302326359159, 'batch_size': 128}. Best is trial 17 with value: 0.05670248903334141.\n",
      "\n",
      "Iniciando Trial 22 con params: {'window_size': 40, 'hidden_size': 115, 'num_layers': 3, 'learning_rate': 0.0005978997377232712, 'batch_size': 128, 'epochs': 50}\n"
     ]
    },
    {
     "data": {
      "application/vnd.jupyter.widget-view+json": {
       "model_id": "3af869c788ad4d68805ce5116e2978c0",
       "version_major": 2,
       "version_minor": 0
      },
      "text/plain": [
       "Creando secuencias por barrio:   0%|          | 0/10 [00:00<?, ?it/s]"
      ]
     },
     "metadata": {},
     "output_type": "display_data"
    },
    {
     "data": {
      "application/vnd.jupyter.widget-view+json": {
       "model_id": "3d975fbf01c04a109138eff3878eba9f",
       "version_major": 2,
       "version_minor": 0
      },
      "text/plain": [
       "Creando secuencias por barrio:   0%|          | 0/10 [00:00<?, ?it/s]"
      ]
     },
     "metadata": {},
     "output_type": "display_data"
    },
    {
     "name": "stdout",
     "output_type": "stream",
     "text": [
      "Trial 22 finalizado. MSE de validación: 0.044941\n",
      "[I 2025-06-23 00:35:18,456] Trial 22 finished with value: 0.04494081949815154 and parameters: {'window_size': 40, 'hidden_size': 115, 'num_layers': 3, 'learning_rate': 0.0005978997377232712, 'batch_size': 128}. Best is trial 22 with value: 0.04494081949815154.\n",
      "\n",
      "Iniciando Trial 23 con params: {'window_size': 32, 'hidden_size': 115, 'num_layers': 3, 'learning_rate': 0.0003989524486064137, 'batch_size': 128, 'epochs': 50}\n"
     ]
    },
    {
     "data": {
      "application/vnd.jupyter.widget-view+json": {
       "model_id": "b8126c165efd46b78e2e89c7dc9c7efc",
       "version_major": 2,
       "version_minor": 0
      },
      "text/plain": [
       "Creando secuencias por barrio:   0%|          | 0/10 [00:00<?, ?it/s]"
      ]
     },
     "metadata": {},
     "output_type": "display_data"
    },
    {
     "data": {
      "application/vnd.jupyter.widget-view+json": {
       "model_id": "a33bb0f4f9fd4c92b3a4f75b6a47b3d0",
       "version_major": 2,
       "version_minor": 0
      },
      "text/plain": [
       "Creando secuencias por barrio:   0%|          | 0/10 [00:00<?, ?it/s]"
      ]
     },
     "metadata": {},
     "output_type": "display_data"
    },
    {
     "name": "stdout",
     "output_type": "stream",
     "text": [
      "Trial 23 finalizado. MSE de validación: 0.095395\n",
      "[I 2025-06-23 00:35:20,868] Trial 23 finished with value: 0.09539517760276794 and parameters: {'window_size': 32, 'hidden_size': 115, 'num_layers': 3, 'learning_rate': 0.0003989524486064137, 'batch_size': 128}. Best is trial 22 with value: 0.04494081949815154.\n",
      "\n",
      "Iniciando Trial 24 con params: {'window_size': 45, 'hidden_size': 128, 'num_layers': 3, 'learning_rate': 0.0012290157591119842, 'batch_size': 128, 'epochs': 50}\n"
     ]
    },
    {
     "data": {
      "application/vnd.jupyter.widget-view+json": {
       "model_id": "4a87864593214820b0f0e2bce4298524",
       "version_major": 2,
       "version_minor": 0
      },
      "text/plain": [
       "Creando secuencias por barrio:   0%|          | 0/10 [00:00<?, ?it/s]"
      ]
     },
     "metadata": {},
     "output_type": "display_data"
    },
    {
     "data": {
      "application/vnd.jupyter.widget-view+json": {
       "model_id": "1175bd82aae34bb8a12114c4ebc51ff2",
       "version_major": 2,
       "version_minor": 0
      },
      "text/plain": [
       "Creando secuencias por barrio:   0%|          | 0/10 [00:00<?, ?it/s]"
      ]
     },
     "metadata": {},
     "output_type": "display_data"
    },
    {
     "name": "stdout",
     "output_type": "stream",
     "text": [
      "Trial 24 finalizado. MSE de validación: 0.105038\n",
      "[I 2025-06-23 00:35:23,139] Trial 24 finished with value: 0.10503814369440079 and parameters: {'window_size': 45, 'hidden_size': 128, 'num_layers': 3, 'learning_rate': 0.0012290157591119842, 'batch_size': 128}. Best is trial 22 with value: 0.04494081949815154.\n",
      "\n",
      "Iniciando Trial 25 con params: {'window_size': 40, 'hidden_size': 119, 'num_layers': 2, 'learning_rate': 0.0007260238536893676, 'batch_size': 128, 'epochs': 50}\n"
     ]
    },
    {
     "data": {
      "application/vnd.jupyter.widget-view+json": {
       "model_id": "77907ef1bc3641c5bf0c23ff0643eb84",
       "version_major": 2,
       "version_minor": 0
      },
      "text/plain": [
       "Creando secuencias por barrio:   0%|          | 0/10 [00:00<?, ?it/s]"
      ]
     },
     "metadata": {},
     "output_type": "display_data"
    },
    {
     "data": {
      "application/vnd.jupyter.widget-view+json": {
       "model_id": "c55d21837f2843e9bffe659aaa3b4888",
       "version_major": 2,
       "version_minor": 0
      },
      "text/plain": [
       "Creando secuencias por barrio:   0%|          | 0/10 [00:00<?, ?it/s]"
      ]
     },
     "metadata": {},
     "output_type": "display_data"
    },
    {
     "name": "stdout",
     "output_type": "stream",
     "text": [
      "Trial 25 finalizado. MSE de validación: 0.059399\n",
      "[I 2025-06-23 00:35:25,100] Trial 25 finished with value: 0.05939856916666031 and parameters: {'window_size': 40, 'hidden_size': 119, 'num_layers': 2, 'learning_rate': 0.0007260238536893676, 'batch_size': 128}. Best is trial 22 with value: 0.04494081949815154.\n",
      "\n",
      "Iniciando Trial 26 con params: {'window_size': 31, 'hidden_size': 115, 'num_layers': 2, 'learning_rate': 0.0008039411307443494, 'batch_size': 128, 'epochs': 50}\n"
     ]
    },
    {
     "data": {
      "application/vnd.jupyter.widget-view+json": {
       "model_id": "bf27768a5702432d9f2ec642ff9357ec",
       "version_major": 2,
       "version_minor": 0
      },
      "text/plain": [
       "Creando secuencias por barrio:   0%|          | 0/10 [00:00<?, ?it/s]"
      ]
     },
     "metadata": {},
     "output_type": "display_data"
    },
    {
     "data": {
      "application/vnd.jupyter.widget-view+json": {
       "model_id": "15dceb7d3b944abc90076720f69ab0f7",
       "version_major": 2,
       "version_minor": 0
      },
      "text/plain": [
       "Creando secuencias por barrio:   0%|          | 0/10 [00:00<?, ?it/s]"
      ]
     },
     "metadata": {},
     "output_type": "display_data"
    },
    {
     "name": "stdout",
     "output_type": "stream",
     "text": [
      "Trial 26 finalizado. MSE de validación: 0.132411\n",
      "[I 2025-06-23 00:35:27,158] Trial 26 finished with value: 0.1324114352464676 and parameters: {'window_size': 31, 'hidden_size': 115, 'num_layers': 2, 'learning_rate': 0.0008039411307443494, 'batch_size': 128}. Best is trial 22 with value: 0.04494081949815154.\n",
      "\n",
      "Iniciando Trial 27 con params: {'window_size': 39, 'hidden_size': 110, 'num_layers': 2, 'learning_rate': 0.0002697243182880343, 'batch_size': 128, 'epochs': 50}\n"
     ]
    },
    {
     "data": {
      "application/vnd.jupyter.widget-view+json": {
       "model_id": "e42ad01b81084ddcb361add907559db3",
       "version_major": 2,
       "version_minor": 0
      },
      "text/plain": [
       "Creando secuencias por barrio:   0%|          | 0/10 [00:00<?, ?it/s]"
      ]
     },
     "metadata": {},
     "output_type": "display_data"
    },
    {
     "data": {
      "application/vnd.jupyter.widget-view+json": {
       "model_id": "cae088e3934846cb9cd40e354f290415",
       "version_major": 2,
       "version_minor": 0
      },
      "text/plain": [
       "Creando secuencias por barrio:   0%|          | 0/10 [00:00<?, ?it/s]"
      ]
     },
     "metadata": {},
     "output_type": "display_data"
    },
    {
     "name": "stdout",
     "output_type": "stream",
     "text": [
      "Trial 27 finalizado. MSE de validación: 0.079407\n",
      "[I 2025-06-23 00:35:29,083] Trial 27 finished with value: 0.0794069655239582 and parameters: {'window_size': 39, 'hidden_size': 110, 'num_layers': 2, 'learning_rate': 0.0002697243182880343, 'batch_size': 128}. Best is trial 22 with value: 0.04494081949815154.\n",
      "\n",
      "Iniciando Trial 28 con params: {'window_size': 44, 'hidden_size': 121, 'num_layers': 2, 'learning_rate': 0.0022179977741455426, 'batch_size': 64, 'epochs': 50}\n"
     ]
    },
    {
     "data": {
      "application/vnd.jupyter.widget-view+json": {
       "model_id": "1c8accc18d2248e2a666268d3bc7cee0",
       "version_major": 2,
       "version_minor": 0
      },
      "text/plain": [
       "Creando secuencias por barrio:   0%|          | 0/10 [00:00<?, ?it/s]"
      ]
     },
     "metadata": {},
     "output_type": "display_data"
    },
    {
     "data": {
      "application/vnd.jupyter.widget-view+json": {
       "model_id": "699a4694cc6a4801ae31c10ac2179ba2",
       "version_major": 2,
       "version_minor": 0
      },
      "text/plain": [
       "Creando secuencias por barrio:   0%|          | 0/10 [00:00<?, ?it/s]"
      ]
     },
     "metadata": {},
     "output_type": "display_data"
    },
    {
     "name": "stdout",
     "output_type": "stream",
     "text": [
      "Trial 28 finalizado. MSE de validación: 0.154891\n",
      "[I 2025-06-23 00:35:32,251] Trial 28 finished with value: 0.15489141643047333 and parameters: {'window_size': 44, 'hidden_size': 121, 'num_layers': 2, 'learning_rate': 0.0022179977741455426, 'batch_size': 64}. Best is trial 22 with value: 0.04494081949815154.\n",
      "\n",
      "Iniciando Trial 29 con params: {'window_size': 23, 'hidden_size': 122, 'num_layers': 2, 'learning_rate': 0.001110692231264737, 'batch_size': 128, 'epochs': 50}\n"
     ]
    },
    {
     "data": {
      "application/vnd.jupyter.widget-view+json": {
       "model_id": "61ba5bcaf2ef4827a4255a16c8c50ba6",
       "version_major": 2,
       "version_minor": 0
      },
      "text/plain": [
       "Creando secuencias por barrio:   0%|          | 0/10 [00:00<?, ?it/s]"
      ]
     },
     "metadata": {},
     "output_type": "display_data"
    },
    {
     "data": {
      "application/vnd.jupyter.widget-view+json": {
       "model_id": "ba68fa8d1f08468e98a45487bef27b26",
       "version_major": 2,
       "version_minor": 0
      },
      "text/plain": [
       "Creando secuencias por barrio:   0%|          | 0/10 [00:00<?, ?it/s]"
      ]
     },
     "metadata": {},
     "output_type": "display_data"
    },
    {
     "name": "stdout",
     "output_type": "stream",
     "text": [
      "Trial 29 finalizado. MSE de validación: 0.147869\n",
      "[I 2025-06-23 00:35:34,292] Trial 29 finished with value: 0.1478693832953771 and parameters: {'window_size': 23, 'hidden_size': 122, 'num_layers': 2, 'learning_rate': 0.001110692231264737, 'batch_size': 128}. Best is trial 22 with value: 0.04494081949815154.\n",
      "\n",
      "Iniciando Trial 30 con params: {'window_size': 46, 'hidden_size': 45, 'num_layers': 2, 'learning_rate': 0.0033606139626314005, 'batch_size': 64, 'epochs': 50}\n"
     ]
    },
    {
     "data": {
      "application/vnd.jupyter.widget-view+json": {
       "model_id": "d8ee8f128c5c45799ad23bd9c708bfc9",
       "version_major": 2,
       "version_minor": 0
      },
      "text/plain": [
       "Creando secuencias por barrio:   0%|          | 0/10 [00:00<?, ?it/s]"
      ]
     },
     "metadata": {},
     "output_type": "display_data"
    },
    {
     "data": {
      "application/vnd.jupyter.widget-view+json": {
       "model_id": "2c14de1e91724634bebf0957faa30896",
       "version_major": 2,
       "version_minor": 0
      },
      "text/plain": [
       "Creando secuencias por barrio:   0%|          | 0/10 [00:00<?, ?it/s]"
      ]
     },
     "metadata": {},
     "output_type": "display_data"
    },
    {
     "name": "stdout",
     "output_type": "stream",
     "text": [
      "Trial 30 finalizado. MSE de validación: 0.119788\n",
      "[I 2025-06-23 00:35:37,458] Trial 30 finished with value: 0.11978770047426224 and parameters: {'window_size': 46, 'hidden_size': 45, 'num_layers': 2, 'learning_rate': 0.0033606139626314005, 'batch_size': 64}. Best is trial 22 with value: 0.04494081949815154.\n",
      "\n",
      "Iniciando Trial 31 con params: {'window_size': 40, 'hidden_size': 95, 'num_layers': 3, 'learning_rate': 0.0006087466433043365, 'batch_size': 128, 'epochs': 50}\n"
     ]
    },
    {
     "data": {
      "application/vnd.jupyter.widget-view+json": {
       "model_id": "7e3f3ccdbcda4f4cb5627da9644fc529",
       "version_major": 2,
       "version_minor": 0
      },
      "text/plain": [
       "Creando secuencias por barrio:   0%|          | 0/10 [00:00<?, ?it/s]"
      ]
     },
     "metadata": {},
     "output_type": "display_data"
    },
    {
     "data": {
      "application/vnd.jupyter.widget-view+json": {
       "model_id": "a52b05eeb74c449faa1288074167a9af",
       "version_major": 2,
       "version_minor": 0
      },
      "text/plain": [
       "Creando secuencias por barrio:   0%|          | 0/10 [00:00<?, ?it/s]"
      ]
     },
     "metadata": {},
     "output_type": "display_data"
    },
    {
     "name": "stdout",
     "output_type": "stream",
     "text": [
      "Trial 31 finalizado. MSE de validación: 0.056279\n",
      "[I 2025-06-23 00:35:39,861] Trial 31 finished with value: 0.05627933191135526 and parameters: {'window_size': 40, 'hidden_size': 95, 'num_layers': 3, 'learning_rate': 0.0006087466433043365, 'batch_size': 128}. Best is trial 22 with value: 0.04494081949815154.\n",
      "\n",
      "Iniciando Trial 32 con params: {'window_size': 38, 'hidden_size': 81, 'num_layers': 3, 'learning_rate': 0.0007061129259911572, 'batch_size': 128, 'epochs': 50}\n"
     ]
    },
    {
     "data": {
      "application/vnd.jupyter.widget-view+json": {
       "model_id": "fc8615f40c9e4670bfc0c2c9717d8ae2",
       "version_major": 2,
       "version_minor": 0
      },
      "text/plain": [
       "Creando secuencias por barrio:   0%|          | 0/10 [00:00<?, ?it/s]"
      ]
     },
     "metadata": {},
     "output_type": "display_data"
    },
    {
     "data": {
      "application/vnd.jupyter.widget-view+json": {
       "model_id": "04b2e2aaddf644899410bd62ad33361f",
       "version_major": 2,
       "version_minor": 0
      },
      "text/plain": [
       "Creando secuencias por barrio:   0%|          | 0/10 [00:00<?, ?it/s]"
      ]
     },
     "metadata": {},
     "output_type": "display_data"
    },
    {
     "name": "stdout",
     "output_type": "stream",
     "text": [
      "Trial 32 finalizado. MSE de validación: 0.092534\n",
      "[I 2025-06-23 00:35:41,911] Trial 32 finished with value: 0.09253373183310032 and parameters: {'window_size': 38, 'hidden_size': 81, 'num_layers': 3, 'learning_rate': 0.0007061129259911572, 'batch_size': 128}. Best is trial 22 with value: 0.04494081949815154.\n",
      "\n",
      "Iniciando Trial 33 con params: {'window_size': 42, 'hidden_size': 110, 'num_layers': 2, 'learning_rate': 0.00045710832939425294, 'batch_size': 128, 'epochs': 50}\n"
     ]
    },
    {
     "data": {
      "application/vnd.jupyter.widget-view+json": {
       "model_id": "e4520ed34c72419e865f71a7e5d87990",
       "version_major": 2,
       "version_minor": 0
      },
      "text/plain": [
       "Creando secuencias por barrio:   0%|          | 0/10 [00:00<?, ?it/s]"
      ]
     },
     "metadata": {},
     "output_type": "display_data"
    },
    {
     "data": {
      "application/vnd.jupyter.widget-view+json": {
       "model_id": "64758a946fef431295d434cdac41c6f5",
       "version_major": 2,
       "version_minor": 0
      },
      "text/plain": [
       "Creando secuencias por barrio:   0%|          | 0/10 [00:00<?, ?it/s]"
      ]
     },
     "metadata": {},
     "output_type": "display_data"
    },
    {
     "name": "stdout",
     "output_type": "stream",
     "text": [
      "Trial 33 finalizado. MSE de validación: 0.101092\n",
      "[I 2025-06-23 00:35:43,796] Trial 33 finished with value: 0.10109174251556396 and parameters: {'window_size': 42, 'hidden_size': 110, 'num_layers': 2, 'learning_rate': 0.00045710832939425294, 'batch_size': 128}. Best is trial 22 with value: 0.04494081949815154.\n",
      "\n",
      "Iniciando Trial 34 con params: {'window_size': 43, 'hidden_size': 93, 'num_layers': 3, 'learning_rate': 0.0007931201666709741, 'batch_size': 128, 'epochs': 50}\n"
     ]
    },
    {
     "data": {
      "application/vnd.jupyter.widget-view+json": {
       "model_id": "f9f99c854cb649ff84abb6c7a3158f1d",
       "version_major": 2,
       "version_minor": 0
      },
      "text/plain": [
       "Creando secuencias por barrio:   0%|          | 0/10 [00:00<?, ?it/s]"
      ]
     },
     "metadata": {},
     "output_type": "display_data"
    },
    {
     "data": {
      "application/vnd.jupyter.widget-view+json": {
       "model_id": "b18f47d3873b4a5d94a121dab2196f79",
       "version_major": 2,
       "version_minor": 0
      },
      "text/plain": [
       "Creando secuencias por barrio:   0%|          | 0/10 [00:00<?, ?it/s]"
      ]
     },
     "metadata": {},
     "output_type": "display_data"
    },
    {
     "name": "stdout",
     "output_type": "stream",
     "text": [
      "Trial 34 finalizado. MSE de validación: 0.074353\n",
      "[I 2025-06-23 00:35:46,175] Trial 34 finished with value: 0.07435259968042374 and parameters: {'window_size': 43, 'hidden_size': 93, 'num_layers': 3, 'learning_rate': 0.0007931201666709741, 'batch_size': 128}. Best is trial 22 with value: 0.04494081949815154.\n",
      "\n",
      "Iniciando Trial 35 con params: {'window_size': 30, 'hidden_size': 67, 'num_layers': 3, 'learning_rate': 0.0005126836135988125, 'batch_size': 32, 'epochs': 50}\n"
     ]
    },
    {
     "data": {
      "application/vnd.jupyter.widget-view+json": {
       "model_id": "5d5c024e71ee48b4aea4dd4628ae6f6b",
       "version_major": 2,
       "version_minor": 0
      },
      "text/plain": [
       "Creando secuencias por barrio:   0%|          | 0/10 [00:00<?, ?it/s]"
      ]
     },
     "metadata": {},
     "output_type": "display_data"
    },
    {
     "data": {
      "application/vnd.jupyter.widget-view+json": {
       "model_id": "5692eb4eb6e24cf4929bd60f104be09e",
       "version_major": 2,
       "version_minor": 0
      },
      "text/plain": [
       "Creando secuencias por barrio:   0%|          | 0/10 [00:00<?, ?it/s]"
      ]
     },
     "metadata": {},
     "output_type": "display_data"
    },
    {
     "name": "stdout",
     "output_type": "stream",
     "text": [
      "Trial 35 finalizado. MSE de validación: 0.100637\n",
      "[I 2025-06-23 00:35:53,075] Trial 35 finished with value: 0.10063668619841337 and parameters: {'window_size': 30, 'hidden_size': 67, 'num_layers': 3, 'learning_rate': 0.0005126836135988125, 'batch_size': 32}. Best is trial 22 with value: 0.04494081949815154.\n",
      "\n",
      "Iniciando Trial 36 con params: {'window_size': 24, 'hidden_size': 124, 'num_layers': 3, 'learning_rate': 0.0003666417856269786, 'batch_size': 128, 'epochs': 50}\n"
     ]
    },
    {
     "data": {
      "application/vnd.jupyter.widget-view+json": {
       "model_id": "d701a826f39446c29372dd4d59abb6cc",
       "version_major": 2,
       "version_minor": 0
      },
      "text/plain": [
       "Creando secuencias por barrio:   0%|          | 0/10 [00:00<?, ?it/s]"
      ]
     },
     "metadata": {},
     "output_type": "display_data"
    },
    {
     "data": {
      "application/vnd.jupyter.widget-view+json": {
       "model_id": "2fb89accf6ab48b2bf10702daebda24f",
       "version_major": 2,
       "version_minor": 0
      },
      "text/plain": [
       "Creando secuencias por barrio:   0%|          | 0/10 [00:00<?, ?it/s]"
      ]
     },
     "metadata": {},
     "output_type": "display_data"
    },
    {
     "name": "stdout",
     "output_type": "stream",
     "text": [
      "Trial 36 finalizado. MSE de validación: 0.119553\n",
      "[I 2025-06-23 00:35:55,512] Trial 36 finished with value: 0.11955321952700615 and parameters: {'window_size': 24, 'hidden_size': 124, 'num_layers': 3, 'learning_rate': 0.0003666417856269786, 'batch_size': 128}. Best is trial 22 with value: 0.04494081949815154.\n",
      "\n",
      "Iniciando Trial 37 con params: {'window_size': 38, 'hidden_size': 84, 'num_layers': 2, 'learning_rate': 0.0009966613379007582, 'batch_size': 128, 'epochs': 50}\n"
     ]
    },
    {
     "data": {
      "application/vnd.jupyter.widget-view+json": {
       "model_id": "1f42ef80109e43f3bd6f5c31af1300bc",
       "version_major": 2,
       "version_minor": 0
      },
      "text/plain": [
       "Creando secuencias por barrio:   0%|          | 0/10 [00:00<?, ?it/s]"
      ]
     },
     "metadata": {},
     "output_type": "display_data"
    },
    {
     "data": {
      "application/vnd.jupyter.widget-view+json": {
       "model_id": "7ffb63700fe44f37b90ecdd8ce609388",
       "version_major": 2,
       "version_minor": 0
      },
      "text/plain": [
       "Creando secuencias por barrio:   0%|          | 0/10 [00:00<?, ?it/s]"
      ]
     },
     "metadata": {},
     "output_type": "display_data"
    },
    {
     "name": "stdout",
     "output_type": "stream",
     "text": [
      "Trial 37 finalizado. MSE de validación: 0.083155\n",
      "[I 2025-06-23 00:35:57,504] Trial 37 finished with value: 0.08315513469278812 and parameters: {'window_size': 38, 'hidden_size': 84, 'num_layers': 2, 'learning_rate': 0.0009966613379007582, 'batch_size': 128}. Best is trial 22 with value: 0.04494081949815154.\n",
      "\n",
      "Iniciando Trial 38 con params: {'window_size': 41, 'hidden_size': 115, 'num_layers': 3, 'learning_rate': 0.00019640166109059304, 'batch_size': 128, 'epochs': 50}\n"
     ]
    },
    {
     "data": {
      "application/vnd.jupyter.widget-view+json": {
       "model_id": "89b5f8fbbe7b4616878e1fb68542156d",
       "version_major": 2,
       "version_minor": 0
      },
      "text/plain": [
       "Creando secuencias por barrio:   0%|          | 0/10 [00:00<?, ?it/s]"
      ]
     },
     "metadata": {},
     "output_type": "display_data"
    },
    {
     "data": {
      "application/vnd.jupyter.widget-view+json": {
       "model_id": "097987b12ea7497b929b8d09eaafc223",
       "version_major": 2,
       "version_minor": 0
      },
      "text/plain": [
       "Creando secuencias por barrio:   0%|          | 0/10 [00:00<?, ?it/s]"
      ]
     },
     "metadata": {},
     "output_type": "display_data"
    },
    {
     "name": "stdout",
     "output_type": "stream",
     "text": [
      "Trial 38 finalizado. MSE de validación: 0.071960\n",
      "[I 2025-06-23 00:35:59,859] Trial 38 finished with value: 0.07195980101823807 and parameters: {'window_size': 41, 'hidden_size': 115, 'num_layers': 3, 'learning_rate': 0.00019640166109059304, 'batch_size': 128}. Best is trial 22 with value: 0.04494081949815154.\n",
      "\n",
      "Iniciando Trial 39 con params: {'window_size': 34, 'hidden_size': 93, 'num_layers': 2, 'learning_rate': 0.0006767804650914688, 'batch_size': 32, 'epochs': 50}\n"
     ]
    },
    {
     "data": {
      "application/vnd.jupyter.widget-view+json": {
       "model_id": "61fc9f1846044cae9e5b0cfaccf1f82f",
       "version_major": 2,
       "version_minor": 0
      },
      "text/plain": [
       "Creando secuencias por barrio:   0%|          | 0/10 [00:00<?, ?it/s]"
      ]
     },
     "metadata": {},
     "output_type": "display_data"
    },
    {
     "data": {
      "application/vnd.jupyter.widget-view+json": {
       "model_id": "36c57e1e7e244261823b726b44347778",
       "version_major": 2,
       "version_minor": 0
      },
      "text/plain": [
       "Creando secuencias por barrio:   0%|          | 0/10 [00:00<?, ?it/s]"
      ]
     },
     "metadata": {},
     "output_type": "display_data"
    },
    {
     "name": "stdout",
     "output_type": "stream",
     "text": [
      "Trial 39 finalizado. MSE de validación: 0.129481\n",
      "[I 2025-06-23 00:36:06,189] Trial 39 finished with value: 0.12948068355520567 and parameters: {'window_size': 34, 'hidden_size': 93, 'num_layers': 2, 'learning_rate': 0.0006767804650914688, 'batch_size': 32}. Best is trial 22 with value: 0.04494081949815154.\n",
      "\n",
      "Iniciando Trial 40 con params: {'window_size': 45, 'hidden_size': 106, 'num_layers': 2, 'learning_rate': 0.00025116392162975477, 'batch_size': 64, 'epochs': 50}\n"
     ]
    },
    {
     "data": {
      "application/vnd.jupyter.widget-view+json": {
       "model_id": "5e975232de2a438d82c97ff32e61a604",
       "version_major": 2,
       "version_minor": 0
      },
      "text/plain": [
       "Creando secuencias por barrio:   0%|          | 0/10 [00:00<?, ?it/s]"
      ]
     },
     "metadata": {},
     "output_type": "display_data"
    },
    {
     "data": {
      "application/vnd.jupyter.widget-view+json": {
       "model_id": "4d87e3abf3814c4182eaac3d86cfa878",
       "version_major": 2,
       "version_minor": 0
      },
      "text/plain": [
       "Creando secuencias por barrio:   0%|          | 0/10 [00:00<?, ?it/s]"
      ]
     },
     "metadata": {},
     "output_type": "display_data"
    },
    {
     "name": "stdout",
     "output_type": "stream",
     "text": [
      "Trial 40 finalizado. MSE de validación: 0.075262\n",
      "[I 2025-06-23 00:36:09,705] Trial 40 finished with value: 0.07526182010769844 and parameters: {'window_size': 45, 'hidden_size': 106, 'num_layers': 2, 'learning_rate': 0.00025116392162975477, 'batch_size': 64}. Best is trial 22 with value: 0.04494081949815154.\n",
      "\n",
      "Iniciando Trial 41 con params: {'window_size': 40, 'hidden_size': 100, 'num_layers': 3, 'learning_rate': 0.0005691386869089372, 'batch_size': 128, 'epochs': 50}\n"
     ]
    },
    {
     "data": {
      "application/vnd.jupyter.widget-view+json": {
       "model_id": "e9f63866c83f4377ab1f94c9c4b562b2",
       "version_major": 2,
       "version_minor": 0
      },
      "text/plain": [
       "Creando secuencias por barrio:   0%|          | 0/10 [00:00<?, ?it/s]"
      ]
     },
     "metadata": {},
     "output_type": "display_data"
    },
    {
     "data": {
      "application/vnd.jupyter.widget-view+json": {
       "model_id": "baaca16c209542d1a1e2d7a8c24df91d",
       "version_major": 2,
       "version_minor": 0
      },
      "text/plain": [
       "Creando secuencias por barrio:   0%|          | 0/10 [00:00<?, ?it/s]"
      ]
     },
     "metadata": {},
     "output_type": "display_data"
    },
    {
     "name": "stdout",
     "output_type": "stream",
     "text": [
      "Trial 41 finalizado. MSE de validación: 0.043345\n",
      "[I 2025-06-23 00:36:11,938] Trial 41 finished with value: 0.04334511328488588 and parameters: {'window_size': 40, 'hidden_size': 100, 'num_layers': 3, 'learning_rate': 0.0005691386869089372, 'batch_size': 128}. Best is trial 41 with value: 0.04334511328488588.\n",
      "\n",
      "Iniciando Trial 42 con params: {'window_size': 43, 'hidden_size': 88, 'num_layers': 3, 'learning_rate': 0.0005302658705827768, 'batch_size': 128, 'epochs': 50}\n"
     ]
    },
    {
     "data": {
      "application/vnd.jupyter.widget-view+json": {
       "model_id": "612eb9ca0b6047ecbe43482eb8b5df7a",
       "version_major": 2,
       "version_minor": 0
      },
      "text/plain": [
       "Creando secuencias por barrio:   0%|          | 0/10 [00:00<?, ?it/s]"
      ]
     },
     "metadata": {},
     "output_type": "display_data"
    },
    {
     "data": {
      "application/vnd.jupyter.widget-view+json": {
       "model_id": "43faf399639441a3b1d1672127017a89",
       "version_major": 2,
       "version_minor": 0
      },
      "text/plain": [
       "Creando secuencias por barrio:   0%|          | 0/10 [00:00<?, ?it/s]"
      ]
     },
     "metadata": {},
     "output_type": "display_data"
    },
    {
     "name": "stdout",
     "output_type": "stream",
     "text": [
      "Trial 42 finalizado. MSE de validación: 0.128478\n",
      "[I 2025-06-23 00:36:14,230] Trial 42 finished with value: 0.1284777969121933 and parameters: {'window_size': 43, 'hidden_size': 88, 'num_layers': 3, 'learning_rate': 0.0005302658705827768, 'batch_size': 128}. Best is trial 41 with value: 0.04334511328488588.\n",
      "\n",
      "Iniciando Trial 43 con params: {'window_size': 40, 'hidden_size': 103, 'num_layers': 3, 'learning_rate': 0.0008751660679830799, 'batch_size': 128, 'epochs': 50}\n"
     ]
    },
    {
     "data": {
      "application/vnd.jupyter.widget-view+json": {
       "model_id": "f018b99b4d5949f790f57d17c5d38840",
       "version_major": 2,
       "version_minor": 0
      },
      "text/plain": [
       "Creando secuencias por barrio:   0%|          | 0/10 [00:00<?, ?it/s]"
      ]
     },
     "metadata": {},
     "output_type": "display_data"
    },
    {
     "data": {
      "application/vnd.jupyter.widget-view+json": {
       "model_id": "d98e054412c74d5ca3e4c73cf54165d0",
       "version_major": 2,
       "version_minor": 0
      },
      "text/plain": [
       "Creando secuencias por barrio:   0%|          | 0/10 [00:00<?, ?it/s]"
      ]
     },
     "metadata": {},
     "output_type": "display_data"
    },
    {
     "name": "stdout",
     "output_type": "stream",
     "text": [
      "Trial 43 finalizado. MSE de validación: 0.100254\n",
      "[I 2025-06-23 00:36:16,512] Trial 43 finished with value: 0.10025375336408615 and parameters: {'window_size': 40, 'hidden_size': 103, 'num_layers': 3, 'learning_rate': 0.0008751660679830799, 'batch_size': 128}. Best is trial 41 with value: 0.04334511328488588.\n",
      "\n",
      "Iniciando Trial 44 con params: {'window_size': 37, 'hidden_size': 97, 'num_layers': 3, 'learning_rate': 0.0014106821688890298, 'batch_size': 128, 'epochs': 50}\n"
     ]
    },
    {
     "data": {
      "application/vnd.jupyter.widget-view+json": {
       "model_id": "0166b01a8c3b4ddb814ef7baae39d837",
       "version_major": 2,
       "version_minor": 0
      },
      "text/plain": [
       "Creando secuencias por barrio:   0%|          | 0/10 [00:00<?, ?it/s]"
      ]
     },
     "metadata": {},
     "output_type": "display_data"
    },
    {
     "data": {
      "application/vnd.jupyter.widget-view+json": {
       "model_id": "00ab31a1e43042e09e25065263521534",
       "version_major": 2,
       "version_minor": 0
      },
      "text/plain": [
       "Creando secuencias por barrio:   0%|          | 0/10 [00:00<?, ?it/s]"
      ]
     },
     "metadata": {},
     "output_type": "display_data"
    },
    {
     "name": "stdout",
     "output_type": "stream",
     "text": [
      "Trial 44 finalizado. MSE de validación: 0.110625\n",
      "[I 2025-06-23 00:36:18,779] Trial 44 finished with value: 0.11062510684132576 and parameters: {'window_size': 37, 'hidden_size': 97, 'num_layers': 3, 'learning_rate': 0.0014106821688890298, 'batch_size': 128}. Best is trial 41 with value: 0.04334511328488588.\n",
      "\n",
      "Iniciando Trial 45 con params: {'window_size': 48, 'hidden_size': 118, 'num_layers': 3, 'learning_rate': 0.0004100027264959977, 'batch_size': 128, 'epochs': 50}\n"
     ]
    },
    {
     "data": {
      "application/vnd.jupyter.widget-view+json": {
       "model_id": "7bdb3856826640d68808175252f9a6ca",
       "version_major": 2,
       "version_minor": 0
      },
      "text/plain": [
       "Creando secuencias por barrio:   0%|          | 0/10 [00:00<?, ?it/s]"
      ]
     },
     "metadata": {},
     "output_type": "display_data"
    },
    {
     "data": {
      "application/vnd.jupyter.widget-view+json": {
       "model_id": "efbd972abcc643e1acd1c5132e77aa2e",
       "version_major": 2,
       "version_minor": 0
      },
      "text/plain": [
       "Creando secuencias por barrio:   0%|          | 0/10 [00:00<?, ?it/s]"
      ]
     },
     "metadata": {},
     "output_type": "display_data"
    },
    {
     "name": "stdout",
     "output_type": "stream",
     "text": [
      "Trial 45 finalizado. MSE de validación: 0.074718\n",
      "[I 2025-06-23 00:36:20,972] Trial 45 finished with value: 0.0747176855802536 and parameters: {'window_size': 48, 'hidden_size': 118, 'num_layers': 3, 'learning_rate': 0.0004100027264959977, 'batch_size': 128}. Best is trial 41 with value: 0.04334511328488588.\n",
      "\n",
      "Iniciando Trial 46 con params: {'window_size': 42, 'hidden_size': 112, 'num_layers': 3, 'learning_rate': 0.00033700662239733977, 'batch_size': 128, 'epochs': 50}\n"
     ]
    },
    {
     "data": {
      "application/vnd.jupyter.widget-view+json": {
       "model_id": "aeec6f8ed7d144d8b1b1ce747bedc27a",
       "version_major": 2,
       "version_minor": 0
      },
      "text/plain": [
       "Creando secuencias por barrio:   0%|          | 0/10 [00:00<?, ?it/s]"
      ]
     },
     "metadata": {},
     "output_type": "display_data"
    },
    {
     "data": {
      "application/vnd.jupyter.widget-view+json": {
       "model_id": "fc16c24fc0af468c81811b26604e78d6",
       "version_major": 2,
       "version_minor": 0
      },
      "text/plain": [
       "Creando secuencias por barrio:   0%|          | 0/10 [00:00<?, ?it/s]"
      ]
     },
     "metadata": {},
     "output_type": "display_data"
    },
    {
     "name": "stdout",
     "output_type": "stream",
     "text": [
      "Trial 46 finalizado. MSE de validación: 0.085265\n",
      "[I 2025-06-23 00:36:23,213] Trial 46 finished with value: 0.08526475727558136 and parameters: {'window_size': 42, 'hidden_size': 112, 'num_layers': 3, 'learning_rate': 0.00033700662239733977, 'batch_size': 128}. Best is trial 41 with value: 0.04334511328488588.\n",
      "\n",
      "Iniciando Trial 47 con params: {'window_size': 30, 'hidden_size': 78, 'num_layers': 3, 'learning_rate': 0.0017545140389813015, 'batch_size': 32, 'epochs': 50}\n"
     ]
    },
    {
     "data": {
      "application/vnd.jupyter.widget-view+json": {
       "model_id": "39084c7857bd4e82b1fa9c1189a715c1",
       "version_major": 2,
       "version_minor": 0
      },
      "text/plain": [
       "Creando secuencias por barrio:   0%|          | 0/10 [00:00<?, ?it/s]"
      ]
     },
     "metadata": {},
     "output_type": "display_data"
    },
    {
     "data": {
      "application/vnd.jupyter.widget-view+json": {
       "model_id": "0f7a9440e4ac4010b77071ef536f9197",
       "version_major": 2,
       "version_minor": 0
      },
      "text/plain": [
       "Creando secuencias por barrio:   0%|          | 0/10 [00:00<?, ?it/s]"
      ]
     },
     "metadata": {},
     "output_type": "display_data"
    },
    {
     "name": "stdout",
     "output_type": "stream",
     "text": [
      "Trial 47 finalizado. MSE de validación: 0.135715\n",
      "[I 2025-06-23 00:36:29,809] Trial 47 finished with value: 0.13571471348404884 and parameters: {'window_size': 30, 'hidden_size': 78, 'num_layers': 3, 'learning_rate': 0.0017545140389813015, 'batch_size': 32}. Best is trial 41 with value: 0.04334511328488588.\n",
      "\n",
      "Iniciando Trial 48 con params: {'window_size': 40, 'hidden_size': 127, 'num_layers': 1, 'learning_rate': 0.0006703020815754209, 'batch_size': 128, 'epochs': 50}\n"
     ]
    },
    {
     "data": {
      "application/vnd.jupyter.widget-view+json": {
       "model_id": "f3e44d19e3354df495a940e8b95e0ed6",
       "version_major": 2,
       "version_minor": 0
      },
      "text/plain": [
       "Creando secuencias por barrio:   0%|          | 0/10 [00:00<?, ?it/s]"
      ]
     },
     "metadata": {},
     "output_type": "display_data"
    },
    {
     "data": {
      "application/vnd.jupyter.widget-view+json": {
       "model_id": "01d906e5b8d44dd6a86c27f120a616a8",
       "version_major": 2,
       "version_minor": 0
      },
      "text/plain": [
       "Creando secuencias por barrio:   0%|          | 0/10 [00:00<?, ?it/s]"
      ]
     },
     "metadata": {},
     "output_type": "display_data"
    },
    {
     "name": "stdout",
     "output_type": "stream",
     "text": [
      "Trial 48 finalizado. MSE de validación: 0.107254\n",
      "[I 2025-06-23 00:36:31,537] Trial 48 finished with value: 0.10725366324186325 and parameters: {'window_size': 40, 'hidden_size': 127, 'num_layers': 1, 'learning_rate': 0.0006703020815754209, 'batch_size': 128}. Best is trial 41 with value: 0.04334511328488588.\n",
      "\n",
      "Iniciando Trial 49 con params: {'window_size': 36, 'hidden_size': 69, 'num_layers': 3, 'learning_rate': 0.00016909856249125134, 'batch_size': 128, 'epochs': 50}\n"
     ]
    },
    {
     "data": {
      "application/vnd.jupyter.widget-view+json": {
       "model_id": "b1580377dbe545358468c772692d51ac",
       "version_major": 2,
       "version_minor": 0
      },
      "text/plain": [
       "Creando secuencias por barrio:   0%|          | 0/10 [00:00<?, ?it/s]"
      ]
     },
     "metadata": {},
     "output_type": "display_data"
    },
    {
     "data": {
      "application/vnd.jupyter.widget-view+json": {
       "model_id": "133626bc086e4dd1a62c4c3efabe3b70",
       "version_major": 2,
       "version_minor": 0
      },
      "text/plain": [
       "Creando secuencias por barrio:   0%|          | 0/10 [00:00<?, ?it/s]"
      ]
     },
     "metadata": {},
     "output_type": "display_data"
    },
    {
     "name": "stdout",
     "output_type": "stream",
     "text": [
      "Trial 49 finalizado. MSE de validación: 0.077196\n",
      "[I 2025-06-23 00:36:33,656] Trial 49 finished with value: 0.07719646766781807 and parameters: {'window_size': 36, 'hidden_size': 69, 'num_layers': 3, 'learning_rate': 0.00016909856249125134, 'batch_size': 128}. Best is trial 41 with value: 0.04334511328488588.\n",
      "\n",
      "Optimización de hiperparámetros finalizada.\n",
      "Mejor MSE de validación encontrado: 0.043345\n",
      "Mejores hiperparámetros:\n",
      "{'window_size': 40, 'hidden_size': 100, 'num_layers': 3, 'learning_rate': 0.0005691386869089372, 'batch_size': 128}\n",
      "\n",
      "--- Fase 8: Entrenamiento del Modelo Final ---\n",
      "Tamaño del conjunto de datos combinado para entrenamiento final: (3680, 22)\n"
     ]
    },
    {
     "data": {
      "application/vnd.jupyter.widget-view+json": {
       "model_id": "5f1db3623e384e86aad7b8c492e79880",
       "version_major": 2,
       "version_minor": 0
      },
      "text/plain": [
       "Creando secuencias por barrio:   0%|          | 0/10 [00:00<?, ?it/s]"
      ]
     },
     "metadata": {},
     "output_type": "display_data"
    },
    {
     "name": "stdout",
     "output_type": "stream",
     "text": [
      "Entrenando el modelo final por 100 épocas...\n"
     ]
    },
    {
     "data": {
      "application/vnd.jupyter.widget-view+json": {
       "model_id": "fee22a7e82884cd880f1ac95eb7a0e03",
       "version_major": 2,
       "version_minor": 0
      },
      "text/plain": [
       "Entrenamiento Final:   0%|          | 0/100 [00:00<?, ?it/s]"
      ]
     },
     "metadata": {},
     "output_type": "display_data"
    },
    {
     "name": "stdout",
     "output_type": "stream",
     "text": [
      "Entrenamiento final completado.\n"
     ]
    },
    {
     "data": {
      "image/png": "[encoded data removed]",
      "text/plain": [
       "<Figure size 1000x500 with 1 Axes>"
      ]
     },
     "metadata": {},
     "output_type": "display_data"
    },
    {
     "name": "stdout",
     "output_type": "stream",
     "text": [
      "\n",
      "--- Fase 9: Generación de Pronósticos para 2022 (Rolling Forecast) ---\n"
     ]
    },
    {
     "data": {
      "application/vnd.jupyter.widget-view+json": {
       "model_id": "81e5a7d6699147a19a0fb591f363c14c",
       "version_major": 2,
       "version_minor": 0
      },
      "text/plain": [
       "Pronosticando por barrio:   0%|          | 0/10 [00:00<?, ?it/s]"
      ]
     },
     "metadata": {},
     "output_type": "display_data"
    },
    {
     "name": "stdout",
     "output_type": "stream",
     "text": [
      "Pronósticos para 2022 generados.\n"
     ]
    }
   ],
   "source": [
    "# -*- coding: utf-8 -*-\n",
    "\"\"\"\n",
    "Jupyter Notebook para Pronóstico de Casos de Dengue con RNN en PyTorch.\n",
    "\n",
    "Este notebook implementa un pipeline completo de ciencia de datos para predecir\n",
    "el número de casos de dengue por barrio y semana para el año 2022.\n",
    "Utiliza una Red Neuronal Recurrente (RNN) simple y optimiza sus hiperparámetros\n",
    "con Optuna.\n",
    "\"\"\"\n",
    "\n",
    "# =============================================================================\n",
    "# 1. OBJETIVO GENERAL\n",
    "# =============================================================================\n",
    "# El objetivo es construir, optimizar y entrenar una Red Neuronal Recurrente (RNN)\n",
    "# simple con PyTorch. El modelo aprenderá de datos históricos (hasta 2021) para\n",
    "# pronosticar la variable 'dengue' para cada barrio y cada semana del año 2022,\n",
    "# utilizando un enfoque de pronóstico iterativo (rolling forecast).\n",
    "\n",
    "# =============================================================================\n",
    "# 2. ENTORNO Y LIBRERÍAS\n",
    "# =============================================================================\n",
    "print(\"Cargando librerías...\")\n",
    "\n",
    "import pandas as pd\n",
    "import pyarrow.parquet as pq\n",
    "import numpy as np\n",
    "import matplotlib.pyplot as plt\n",
    "import seaborn as sns\n",
    "\n",
    "# PyTorch\n",
    "import torch\n",
    "import torch.nn as nn\n",
    "import torch.optim as optim\n",
    "from torch.utils.data import DataLoader, TensorDataset\n",
    "\n",
    "# Scikit-learn\n",
    "from sklearn.preprocessing import StandardScaler, OneHotEncoder\n",
    "from sklearn.compose import ColumnTransformer\n",
    "from sklearn.pipeline import Pipeline\n",
    "from sklearn.metrics import mean_squared_error\n",
    "\n",
    "# Optuna para optimización de hiperparámetros\n",
    "import optuna\n",
    "\n",
    "# Otros\n",
    "from tqdm.notebook import tqdm\n",
    "import os\n",
    "from datetime import date\n",
    "\n",
    "# Configuración de PyTorch para reproducibilidad y selección de dispositivo\n",
    "SEED = 42\n",
    "np.random.seed(SEED)\n",
    "torch.manual_seed(SEED)\n",
    "device = \"cuda\" if torch.cuda.is_available() else \"cpu\"\n",
    "print(f\"Usando dispositivo: {device}\")\n",
    "\n",
    "# Configuración de estilo para gráficos\n",
    "sns.set_style(\"whitegrid\")\n",
    "plt.rcParams['figure.figsize'] = (12, 6)\n",
    "\n",
    "# =============================================================================\n",
    "# 3. CARGA Y PREPARACIÓN DE DATOS\n",
    "# =============================================================================\n",
    "print(\"\\n--- Fase 3: Carga y Preparación de Datos ---\")\n",
    "\n",
    "# Asegurarse de que el directorio de datos existe\n",
    "if not os.path.exists('../../Datos'):\n",
    "    raise FileNotFoundError(\"El directorio '../../Datos' no fue encontrado. \"\n",
    "                            \"Asegúrate de que la estructura de carpetas es correcta.\")\n",
    "\n",
    "file_path = '../../Datos/df_train.parquet'\n",
    "print(f\"Cargando datos desde: {file_path}\")\n",
    "try:\n",
    "    df = pd.read_parquet(file_path)\n",
    "except Exception as e:\n",
    "    raise IOError(f\"No se pudo leer el archivo Parquet. Error: {e}\")\n",
    "\n",
    "print(\"Datos cargados exitosamente.\")\n",
    "print(\"Forma inicial de los datos:\", df.shape)\n",
    "\n",
    "# Creación de columna de secuencia (fecha)\n",
    "# Usamos el formato %G-%V para año y semana ISO.\n",
    "# El día '1' corresponde al lunes de esa semana.\n",
    "df['semana_iso'] = df['anio'].astype(str) + '-' + df['semana'].astype(str) + '-1'\n",
    "df['fecha'] = pd.to_datetime(df['semana_iso'], format='%G-%V-%u')\n",
    "df = df.sort_values(by=['id_bar', 'fecha']).reset_index(drop=True)\n",
    "\n",
    "print(\"Columna 'fecha' creada y datos ordenados.\")\n",
    "\n",
    "# División en conjuntos de entrenamiento y validación\n",
    "df_train = df[df['anio'] < 2021].copy()\n",
    "df_val = df[df['anio'] == 2021].copy()\n",
    "\n",
    "print(f\"Tamaño del conjunto de entrenamiento: {df_train.shape}\")\n",
    "print(f\"Tamaño del conjunto de validación: {df_val.shape}\")\n",
    "print(f\"Rango de fechas en entrenamiento: {df_train['fecha'].min()} a {df_train['fecha'].max()}\")\n",
    "print(f\"Rango de fechas en validación: {df_val['fecha'].min()} a {df_val['fecha'].max()}\")\n",
    "\n",
    "\n",
    "# =============================================================================\n",
    "# 4. PREPROCESAMIENTO DE DATOS (CORREGIDO)\n",
    "# =============================================================================\n",
    "print(\"\\n--- Fase 4: Preprocesamiento de Datos ---\")\n",
    "\n",
    "# Definir explícitamente las columnas categóricas y el objetivo\n",
    "target = 'dengue'\n",
    "categorical_features = ['id_bar', 'ESTRATO']\n",
    "\n",
    "# Las covariables numéricas son el resto de columnas, excluyendo las de fecha/ID\n",
    "# Esta es una forma más robusta de definir las columnas\n",
    "cols_to_exclude = ['dengue', 'anio', 'semana', 'semana_iso', 'fecha'] + categorical_features\n",
    "numeric_features = [col for col in df_train.columns if col not in cols_to_exclude]\n",
    "\n",
    "print(f\"Variables Categóricas para One-Hot Encoding: {categorical_features}\")\n",
    "print(f\"Variables Numéricas para Escalado: {numeric_features}\")\n",
    "print(f\"Variable Objetivo para Escalado: {target}\")\n",
    "\n",
    "# Crear el pipeline de preprocesamiento\n",
    "# 1. StandardScaler para numéricas Y el target\n",
    "# 2. One-Hot Encode para categóricas.\n",
    "#    - sparse_output=False es la clave para evitar el error de forma.\n",
    "#    - remainder='drop' es más seguro que 'passthrough'.\n",
    "preprocessor = ColumnTransformer(\n",
    "    transformers=[\n",
    "        ('num', StandardScaler(), numeric_features + [target]),\n",
    "        ('cat', OneHotEncoder(handle_unknown='ignore', sparse_output=False), categorical_features)\n",
    "    ],\n",
    "    remainder='drop'\n",
    ")\n",
    "\n",
    "# Definir la lista completa de columnas que el preprocesador necesita\n",
    "cols_for_processing = numeric_features + [target] + categorical_features\n",
    "\n",
    "# Ajustar el preprocesador ÚNICAMENTE con los datos de entrenamiento\n",
    "print(\"Ajustando el preprocesador (scaler y one-hot encoder) con los datos de entrenamiento...\")\n",
    "preprocessor.fit(df_train[cols_for_processing])\n",
    "\n",
    "# Función para aplicar la transformación de forma limpia\n",
    "def apply_preprocessing(df, preprocessor, cols_for_processing):\n",
    "    \"\"\"Aplica el preprocesador ajustado a un DataFrame.\"\"\"\n",
    "    # Transforma los datos. La salida será un array de NumPy denso.\n",
    "    processed_data = preprocessor.transform(df[cols_for_processing])\n",
    "    \n",
    "    # Obtener los nombres de las nuevas columnas one-hot\n",
    "    ohe_feature_names = preprocessor.named_transformers_['cat'].get_feature_names_out(categorical_features)\n",
    "    \n",
    "    # Combinar todos los nombres de columna en el orden correcto\n",
    "    all_feature_names = numeric_features + [target] + list(ohe_feature_names)\n",
    "    \n",
    "    # Crear el DataFrame procesado\n",
    "    df_processed = pd.DataFrame(processed_data, columns=all_feature_names, index=df.index)\n",
    "    \n",
    "    # Devolver el DataFrame con las columnas de identificación para referencia\n",
    "    return pd.concat([df[['id_bar', 'fecha']], df_processed], axis=1)\n",
    "\n",
    "\n",
    "# Transformar ambos conjuntos de datos usando la nueva función\n",
    "df_train_processed = apply_preprocessing(df_train, preprocessor, cols_for_processing)\n",
    "df_val_processed = apply_preprocessing(df_val, preprocessor, cols_for_processing)\n",
    "\n",
    "print(\"Preprocesamiento completado.\")\n",
    "print(\"Forma de datos de entrenamiento procesados:\", df_train_processed.shape)\n",
    "print(\"Forma de datos de validación procesados:\", df_val_processed.shape)\n",
    "\n",
    "# =============================================================================\n",
    "# 5. CREACIÓN DE SECUENCIAS (VENTANAS DESLIZANTES)\n",
    "# =============================================================================\n",
    "print(\"\\n--- Fase 5: Creación de Secuencias ---\")\n",
    "\n",
    "def create_sequences(data, window_size, target_col, group_by_col):\n",
    "    \"\"\"\n",
    "    Crea secuencias de datos (ventanas deslizantes) para modelos RNN.\n",
    "    Procesa cada grupo (barrio) de forma independiente.\n",
    "    \n",
    "    Args:\n",
    "        data (pd.DataFrame): DataFrame procesado con features y target.\n",
    "        window_size (int): Número de pasos de tiempo en cada secuencia de entrada.\n",
    "        target_col (str): Nombre de la columna objetivo.\n",
    "        group_by_col (str): Nombre de la columna para agrupar (ej. 'id_bar').\n",
    "        \n",
    "    Returns:\n",
    "        tuple: (np.array de secuencias X, np.array de etiquetas y)\n",
    "    \"\"\"\n",
    "    X_list, y_list = [], []\n",
    "    \n",
    "    # Excluir columnas de identificación para las secuencias\n",
    "    feature_cols = [col for col in data.columns if col not in [group_by_col, 'fecha']]\n",
    "    \n",
    "    for _, group in tqdm(data.groupby(group_by_col), desc=\"Creando secuencias por barrio\"):\n",
    "        group_features = group[feature_cols].values\n",
    "        \n",
    "        if len(group_features) > window_size:\n",
    "            for i in range(len(group_features) - window_size):\n",
    "                # La secuencia de entrada (X) son 'window_size' pasos de todas las features\n",
    "                seq_x = group_features[i:i + window_size, :]\n",
    "                # La etiqueta (y) es el valor de la columna 'dengue' en el siguiente paso de tiempo\n",
    "                seq_y = group_features[i + window_size, feature_cols.index(target_col)]\n",
    "                \n",
    "                X_list.append(seq_x)\n",
    "                y_list.append(seq_y)\n",
    "                \n",
    "    return np.array(X_list), np.array(y_list).reshape(-1, 1)\n",
    "\n",
    "# Nota: El tamaño de la ventana (window_size) se definirá dinámicamente\n",
    "# dentro del estudio de Optuna. Aquí solo definimos la función.\n",
    "print(\"Función 'create_sequences' definida.\")\n",
    "\n",
    "\n",
    "# =============================================================================\n",
    "# 6. DEFINICIÓN DEL MODELO (RNN SIMPLE)\n",
    "# =============================================================================\n",
    "print(\"\\n--- Fase 6: Definición del Modelo RNN ---\")\n",
    "\n",
    "class SimpleRNN(nn.Module):\n",
    "    \"\"\"\n",
    "    Modelo de Red Neuronal Recurrente (RNN) simple.\n",
    "    \"\"\"\n",
    "    def __init__(self, input_size, hidden_size, num_layers, output_size):\n",
    "        \"\"\"\n",
    "        Args:\n",
    "            input_size (int): Número de features de entrada.\n",
    "            hidden_size (int): Número de neuronas en la capa oculta de la RNN.\n",
    "            num_layers (int): Número de capas apiladas en la RNN.\n",
    "            output_size (int): Tamaño de la salida (1 para regresión).\n",
    "        \"\"\"\n",
    "        super(SimpleRNN, self).__init__()\n",
    "        self.hidden_size = hidden_size\n",
    "        self.num_layers = num_layers\n",
    "        \n",
    "        # Capa RNN\n",
    "        self.rnn = nn.RNN(input_size, hidden_size, num_layers, batch_first=True)\n",
    "        # batch_first=True hace que la entrada/salida sea (batch, seq, feature)\n",
    "        \n",
    "        # Capa de salida lineal\n",
    "        self.fc = nn.Linear(hidden_size, output_size)\n",
    "\n",
    "    def forward(self, x):\n",
    "        \"\"\"\n",
    "        Pase hacia adelante del modelo.\n",
    "        \"\"\"\n",
    "        # Inicializar el estado oculto con ceros\n",
    "        # h0 shape: (num_layers, batch_size, hidden_size)\n",
    "        h0 = torch.zeros(self.num_layers, x.size(0), self.hidden_size).to(x.device)\n",
    "        \n",
    "        # Forward pass por la RNN\n",
    "        out, _ = self.rnn(x, h0)\n",
    "        \n",
    "        # Decodificar el estado oculto del último paso de tiempo\n",
    "        # out shape: (batch_size, seq_length, hidden_size)\n",
    "        # Queremos la salida del último paso: out[:, -1, :]\n",
    "        out = self.fc(out[:, -1, :])\n",
    "        return out\n",
    "\n",
    "print(\"Clase del modelo 'SimpleRNN' definida.\")\n",
    "\n",
    "# Determinar el número de features de entrada después del preprocesamiento\n",
    "input_size = df_train_processed.shape[1] - 2 # Restamos id_bar y fecha\n",
    "print(f\"El modelo tendrá un tamaño de entrada (n_features) de: {input_size}\")\n",
    "\n",
    "\n",
    "# =============================================================================\n",
    "# 7. OPTIMIZACIÓN DE HIPERPARÁMETROS CON OPTUNA\n",
    "# =============================================================================\n",
    "print(\"\\n--- Fase 7: Optimización de Hiperparámetros con Optuna ---\")\n",
    "\n",
    "def objective(trial):\n",
    "    \"\"\"\n",
    "    Función objetivo que Optuna intentará minimizar.\n",
    "    Entrena y evalúa un modelo con un conjunto de hiperparámetros.\n",
    "    \"\"\"\n",
    "    # 1. Sugerir Hiperparámetros\n",
    "    params = {\n",
    "        'window_size': trial.suggest_int('window_size', 8, 48),\n",
    "        'hidden_size': trial.suggest_int('hidden_size', 32, 128),\n",
    "        'num_layers': trial.suggest_int('num_layers', 1, 3),\n",
    "        'learning_rate': trial.suggest_float('learning_rate', 1e-4, 1e-2, log=True),\n",
    "        'batch_size': trial.suggest_categorical('batch_size', [32, 64, 128]),\n",
    "        'epochs': 50 # Usamos un número fijo de épocas para la optimización\n",
    "    }\n",
    "    \n",
    "    print(f\"\\nIniciando Trial {trial.number} con params: {params}\")\n",
    "\n",
    "    # 2. Crear Secuencias con el window_size del trial\n",
    "    X_train_seq, y_train_seq = create_sequences(df_train_processed, params['window_size'], 'dengue', 'id_bar')\n",
    "    X_val_seq, y_val_seq = create_sequences(df_val_processed, params['window_size'], 'dengue', 'id_bar')\n",
    "    \n",
    "    # Si no se generan datos de validación, devolver un error alto.\n",
    "    if len(X_val_seq) == 0:\n",
    "        print(\"No se pudieron crear secuencias de validación con window_size. Omitiendo trial.\")\n",
    "        return float('inf')\n",
    "\n",
    "    # 3. Crear DataLoaders\n",
    "    train_dataset = TensorDataset(torch.FloatTensor(X_train_seq).to(device), torch.FloatTensor(y_train_seq).to(device))\n",
    "    val_dataset = TensorDataset(torch.FloatTensor(X_val_seq).to(device), torch.FloatTensor(y_val_seq).to(device))\n",
    "    \n",
    "    train_loader = DataLoader(train_dataset, batch_size=params['batch_size'], shuffle=True)\n",
    "    val_loader = DataLoader(val_dataset, batch_size=params['batch_size'], shuffle=False)\n",
    "\n",
    "    # 4. Instanciar Modelo, Pérdida y Optimizador\n",
    "    model = SimpleRNN(\n",
    "        input_size=input_size,\n",
    "        hidden_size=params['hidden_size'],\n",
    "        num_layers=params['num_layers'],\n",
    "        output_size=1\n",
    "    ).to(device)\n",
    "    \n",
    "    criterion = nn.MSELoss()\n",
    "    optimizer = optim.Adam(model.parameters(), lr=params['learning_rate'])\n",
    "\n",
    "    # 5. Bucle de Entrenamiento y Validación\n",
    "    for epoch in range(params['epochs']):\n",
    "        model.train()\n",
    "        for X_batch, y_batch in train_loader:\n",
    "            optimizer.zero_grad()\n",
    "            y_pred = model(X_batch)\n",
    "            loss = criterion(y_pred, y_batch)\n",
    "            loss.backward()\n",
    "            optimizer.step()\n",
    "    \n",
    "    # 6. Evaluación en el conjunto de validación\n",
    "    model.eval()\n",
    "    val_losses = []\n",
    "    with torch.no_grad():\n",
    "        for X_batch, y_batch in val_loader:\n",
    "            y_pred = model(X_batch)\n",
    "            loss = criterion(y_pred, y_batch)\n",
    "            val_losses.append(loss.item())\n",
    "            \n",
    "    avg_val_mse = np.mean(val_losses)\n",
    "    print(f\"Trial {trial.number} finalizado. MSE de validación: {avg_val_mse:.6f}\")\n",
    "    \n",
    "    return avg_val_mse\n",
    "\n",
    "# Crear y ejecutar el estudio de Optuna\n",
    "# Usaremos n_trials pequeño para una ejecución rápida. Aumentar para mejores resultados.\n",
    "N_TRIALS = 50 \n",
    "print(f\"Iniciando estudio de Optuna con {N_TRIALS} trials...\")\n",
    "study = optuna.create_study(direction='minimize')\n",
    "study.optimize(objective, n_trials=N_TRIALS, show_progress_bar=True)\n",
    "\n",
    "# Resultados de la optimización\n",
    "best_params = study.best_params\n",
    "print(\"\\nOptimización de hiperparámetros finalizada.\")\n",
    "print(f\"Mejor MSE de validación encontrado: {study.best_value:.6f}\")\n",
    "print(\"Mejores hiperparámetros:\")\n",
    "print(best_params)\n",
    "\n",
    "\n",
    "# =============================================================================\n",
    "# 8. ENTRENAMIENTO DEL MODELO FINAL\n",
    "# =============================================================================\n",
    "print(\"\\n--- Fase 8: Entrenamiento del Modelo Final ---\")\n",
    "\n",
    "# Combinar datos de entrenamiento y validación para el entrenamiento final\n",
    "df_full_train = pd.concat([df_train, df_val], ignore_index=True)\n",
    "print(f\"Tamaño del conjunto de datos combinado para entrenamiento final: {df_full_train.shape}\")\n",
    "\n",
    "# Re-aplicar el preprocesamiento a todo el conjunto de datos combinado\n",
    "df_full_train_processed = apply_preprocessing(df_full_train, preprocessor, cols_for_processing)\n",
    "\n",
    "# Crear secuencias con el window_size óptimo\n",
    "best_window_size = best_params['window_size']\n",
    "X_final, y_final = create_sequences(df_full_train_processed, best_window_size, 'dengue', 'id_bar')\n",
    "\n",
    "# Crear DataLoader final\n",
    "final_train_dataset = TensorDataset(torch.FloatTensor(X_final).to(device), torch.FloatTensor(y_final).to(device))\n",
    "final_train_loader = DataLoader(\n",
    "    final_train_dataset,\n",
    "    batch_size=best_params['batch_size'],\n",
    "    shuffle=True\n",
    ")\n",
    "\n",
    "# Instanciar el modelo final con los mejores hiperparámetros\n",
    "final_model = SimpleRNN(\n",
    "    input_size=input_size,\n",
    "    hidden_size=best_params['hidden_size'],\n",
    "    num_layers=best_params['num_layers'],\n",
    "    output_size=1\n",
    ").to(device)\n",
    "\n",
    "criterion = nn.MSELoss()\n",
    "optimizer = optim.Adam(final_model.parameters(), lr=best_params['learning_rate'])\n",
    "\n",
    "# Bucle de entrenamiento final\n",
    "epochs_final = 100 # Entrenar por más épocas en el modelo final\n",
    "train_loss_history = []\n",
    "\n",
    "print(f\"Entrenando el modelo final por {epochs_final} épocas...\")\n",
    "pbar = tqdm(range(epochs_final), desc=\"Entrenamiento Final\")\n",
    "for epoch in pbar:\n",
    "    final_model.train()\n",
    "    epoch_losses = []\n",
    "    for X_batch, y_batch in final_train_loader:\n",
    "        optimizer.zero_grad()\n",
    "        \n",
    "        # --- LÍNEA CORREGIDA ---\n",
    "        # Usar 'final_model' en lugar de 'model'\n",
    "        y_pred = final_model(X_batch)\n",
    "        \n",
    "        loss = criterion(y_pred, y_batch)\n",
    "        loss.backward()\n",
    "        optimizer.step()\n",
    "        epoch_losses.append(loss.item())\n",
    "    \n",
    "    avg_epoch_loss = np.mean(epoch_losses)\n",
    "    train_loss_history.append(avg_epoch_loss)\n",
    "    pbar.set_postfix({'MSE Loss': avg_epoch_loss})\n",
    "\n",
    "print(\"Entrenamiento final completado.\")\n",
    "\n",
    "# Gráfica de la pérdida de entrenamiento\n",
    "plt.figure(figsize=(10, 5))\n",
    "plt.plot(train_loss_history, label='Pérdida de Entrenamiento (MSE)')\n",
    "plt.title('Evolución de la Pérdida del Modelo Final')\n",
    "plt.xlabel('Época')\n",
    "plt.ylabel('Error Cuadrático Medio (MSE)')\n",
    "plt.legend()\n",
    "plt.show()\n",
    "\n",
    "# =============================================================================\n",
    "# 9. GENERACIÓN DE PRONÓSTICOS PARA 2022\n",
    "# =============================================================================\n",
    "print(\"\\n--- Fase 9: Generación de Pronósticos para 2022 (Rolling Forecast) ---\")\n",
    "\n",
    "final_model.eval() # Poner el modelo en modo de evaluación\n",
    "\n",
    "all_predictions = []\n",
    "target_col_name = 'dengue'\n",
    "feature_cols = [col for col in df_full_train_processed.columns if col not in ['id_bar', 'fecha']]\n",
    "target_col_index_in_features = feature_cols.index(target_col_name)\n",
    "\n",
    "# Iterar sobre cada barrio para generar sus pronósticos\n",
    "for bar_id in tqdm(df['id_bar'].unique(), desc=\"Pronosticando por barrio\"):\n",
    "    \n",
    "    # Obtener los últimos `window_size` datos de 2021 para este barrio\n",
    "    history = df_full_train_processed[df_full_train_processed['id_bar'] == bar_id].tail(best_window_size)\n",
    "    \n",
    "    # Si no hay suficiente historia, no se puede predecir.\n",
    "    if len(history) < best_window_size:\n",
    "        print(f\"Omitiendo barrio {bar_id}: no tiene suficiente historia ({len(history)} < {best_window_size}).\")\n",
    "        continue\n",
    "\n",
    "    # Convertir a numpy array para la iteración\n",
    "    current_sequence = history[feature_cols].values\n",
    "    \n",
    "    # Pronosticar para cada una de las 52 semanas de 2022\n",
    "    for week in range(1, 53):\n",
    "        with torch.no_grad():\n",
    "            # Preparar la secuencia de entrada para el modelo\n",
    "            input_tensor = torch.FloatTensor(current_sequence).unsqueeze(0).to(device)\n",
    "            input_tensor = input_tensor.view(1, best_window_size, -1)\n",
    "            \n",
    "            # Obtener la predicción (escalada)\n",
    "            scaled_prediction = final_model(input_tensor).cpu().item()\n",
    "            \n",
    "            # Guardar la predicción junto con su identificador\n",
    "            prediction_record = {\n",
    "                'id_bar': bar_id,\n",
    "                'anio': 2022,\n",
    "                'semana': week,\n",
    "                'dengue_pred_scaled': scaled_prediction\n",
    "            }\n",
    "            all_predictions.append(prediction_record)\n",
    "            \n",
    "            # \"Rolling\": Actualizar la secuencia para la siguiente predicción\n",
    "            # Crear una nueva fila para el paso de tiempo predicho\n",
    "            # Las covariables se mantienen iguales al último paso conocido\n",
    "            # (asunción necesaria al no tener covariables futuras)\n",
    "            new_row = current_sequence[-1, :].copy()\n",
    "            new_row[target_col_index_in_features] = scaled_prediction\n",
    "            \n",
    "            # Añadir la nueva fila y eliminar la más antigua\n",
    "            current_sequence = np.vstack([current_sequence[1:], new_row])\n",
    "\n",
    "print(\"Pronósticos para 2022 generados.\")\n",
    "\n",
    "\n"
   ]
  },
  {
   "cell_type": "code",
   "execution_count": 9,
   "id": "54b4024f",
   "metadata": {},
   "outputs": [
    {
     "name": "stdout",
     "output_type": "stream",
     "text": [
      "\n",
      "--- Fase 10: Creación del Archivo de Salida ---\n",
      "Archivo de salida 'pronosticos_RNN_2022_2025-06-23.csv' creado exitosamente.\n",
      "Primeras 5 filas del archivo de salida:\n",
      "          id  dengue\n",
      "0  0_2022_01       0\n",
      "1  0_2022_02       2\n",
      "2  0_2022_03       2\n",
      "3  0_2022_04       2\n",
      "4  0_2022_05       2\n",
      "\n",
      "--- PROCESO FINALIZADO ---\n"
     ]
    }
   ],
   "source": [
    "from datetime import date\n",
    "\n",
    "# =============================================================================\n",
    "# 10. CREACIÓN DEL ARCHIVO DE SALIDA\n",
    "# =============================================================================\n",
    "print(\"\\n--- Fase 10: Creación del Archivo de Salida ---\")\n",
    "\n",
    "# Convertir la lista de predicciones a un DataFrame\n",
    "df_predictions = pd.DataFrame(all_predictions)\n",
    "\n",
    "# Des-escalar las predicciones\n",
    "# El scaler espera un array 2D con el mismo número de columnas que se usaron para el 'fit'.\n",
    "# Crearemos un array \"dummy\" y reemplazaremos la columna de 'dengue'.\n",
    "\n",
    "# Encontrar el índice de la columna 'dengue' en el preprocesador original\n",
    "target_col_index_in_scaler = list(preprocessor.transformers_[0][2]).index(target_col_name)\n",
    "\n",
    "# Crear el array dummy\n",
    "dummy_array = np.zeros((len(df_predictions), len(numeric_features) + 1))\n",
    "dummy_array[:, target_col_index_in_scaler] = df_predictions['dengue_pred_scaled'].values\n",
    "\n",
    "# Aplicar la transformación inversa solo al transformador numérico\n",
    "unscaled_numeric_data = preprocessor.named_transformers_['num'].inverse_transform(dummy_array)\n",
    "\n",
    "# Extraer la columna de 'dengue' des-escalada\n",
    "df_predictions['dengue'] = unscaled_numeric_data[:, target_col_index_in_scaler]\n",
    "\n",
    "# Las predicciones de 'dengue' no pueden ser negativas\n",
    "df_predictions['dengue'] = df_predictions['dengue'].apply(lambda x: max(0, x))\n",
    "# Opcional: redondear a entero\n",
    "df_predictions['dengue'] = df_predictions['dengue'].round().astype(int)\n",
    "\n",
    "\n",
    "# --- MÉTODO VECTORIZADO (MÁS ROBUSTO Y EFICIENTE) ---\n",
    "# En lugar de usar .apply(), creamos el ID concatenando las columnas como strings.\n",
    "\n",
    "# 1. Aseguramos que las columnas base sean del tipo correcto (int).\n",
    "df_predictions['id_bar'] = df_predictions['id_bar'].astype(int)\n",
    "df_predictions['anio'] = df_predictions['anio'].astype(int)\n",
    "df_predictions['semana'] = df_predictions['semana'].astype(int)\n",
    "\n",
    "# 2. Convertimos cada columna a string. Para 'semana', usamos .str.zfill(2)\n",
    "#    para añadir el cero a la izquierda de forma vectorizada.\n",
    "id_bar_str = df_predictions['id_bar'].astype(str)\n",
    "anio_str = df_predictions['anio'].astype(str)\n",
    "semana_str = df_predictions['semana'].astype(str).str.zfill(2)\n",
    "\n",
    "# 3. Concatenamos las columnas de strings para formar el ID final.\n",
    "df_predictions['id'] = id_bar_str + '_' + anio_str + '_' + semana_str\n",
    "\n",
    "\n",
    "# Seleccionar y ordenar las columnas finales\n",
    "output_df = df_predictions[['id', 'dengue']]\n",
    "\n",
    "# Guardar en un archivo CSV\n",
    "output_filename = f'pronosticos_RNN_2022_{date.today().isoformat()}.csv'\n",
    "output_df.to_csv(output_filename, index=False)\n",
    "\n",
    "print(f\"Archivo de salida '{output_filename}' creado exitosamente.\")\n",
    "print(\"Primeras 5 filas del archivo de salida:\")\n",
    "print(output_df.head())\n",
    "print(\"\\n--- PROCESO FINALIZADO ---\")"
   ]
  }
 ],
 "metadata": {
  "kernelspec": {
   "display_name": "venv",
   "language": "python",
   "name": "python3"
  },
  "language_info": {
   "codemirror_mode": {
    "name": "ipython",
    "version": 3
   },
   "file_extension": ".py",
   "mimetype": "text/x-python",
   "name": "python",
   "nbconvert_exporter": "python",
   "pygments_lexer": "ipython3",
   "version": "3.13.3"
  }
 },
 "nbformat": 4,
 "nbformat_minor": 5
}
