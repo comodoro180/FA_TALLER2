{
 "cells": [
  {
   "cell_type": "code",
   "execution_count": 1,
   "id": "d271f3d9",
   "metadata": {},
   "outputs": [
    {
     "name": "stderr",
     "output_type": "stream",
     "text": [
      "[I 2025-06-23 12:53:55,342] A new study created in memory with name: no-name-5adf89b7-dba1-4ba5-9cf8-1c43f0185652\n"
     ]
    },
    {
     "name": "stdout",
     "output_type": "stream",
     "text": [
      "Dispositivo de cómputo: cuda\n",
      "Dimensiones del DataFrame: (3680, 20)\n",
      "\n",
      "Primeras filas:\n",
      "          id  id_bar  anio  semana  ESTRATO  area_barrio  dengue  \\\n",
      "0  4_2015_01       4  2015       1      3.0        0.560     0.0   \n",
      "1  5_2015_01       5  2015       1      3.0        0.842     0.0   \n",
      "2  3_2015_01       3  2015       1      1.0        0.781     0.0   \n",
      "3  8_2015_01       8  2015       1      2.0        0.394     0.0   \n",
      "4  9_2015_01       9  2015       1      2.0        0.292     0.0   \n",
      "\n",
      "   concentraciones  vivienda  equipesado  sumideros  maquina  lluvia_mean  \\\n",
      "0              0.0       0.0         0.0        0.0      0.0     0.000651   \n",
      "1              0.0       0.0         0.0        0.0      0.0     0.000651   \n",
      "2              0.0       0.0         0.0        0.0      0.0     0.000651   \n",
      "3              0.0       0.0         0.0        0.0      0.0     0.000651   \n",
      "4              0.0       0.0         0.0        0.0      0.0     0.000651   \n",
      "\n",
      "   lluvia_var  lluvia_max  lluvia_min  temperatura_mean  temperatura_var  \\\n",
      "0    0.000041      0.0625         0.0         26.163889        11.588928   \n",
      "1    0.000041      0.0625         0.0         26.163889        11.588928   \n",
      "2    0.000041      0.0625         0.0         26.163889        11.588928   \n",
      "3    0.000041      0.0625         0.0         26.163889        11.588928   \n",
      "4    0.000041      0.0625         0.0         26.163889        11.588928   \n",
      "\n",
      "   temperatura_max  temperatura_min  \n",
      "0             31.8             20.9  \n",
      "1             31.8             20.9  \n",
      "2             31.8             20.9  \n",
      "3             31.8             20.9  \n",
      "4             31.8             20.9  \n",
      "\n",
      "Información del DataFrame:\n",
      "<class 'pandas.core.frame.DataFrame'>\n",
      "Index: 3680 entries, 0 to 3679\n",
      "Data columns (total 20 columns):\n",
      " #   Column            Non-Null Count  Dtype  \n",
      "---  ------            --------------  -----  \n",
      " 0   id                3680 non-null   object \n",
      " 1   id_bar            3680 non-null   int64  \n",
      " 2   anio              3680 non-null   int64  \n",
      " 3   semana            3680 non-null   UInt32 \n",
      " 4   ESTRATO           3680 non-null   float64\n",
      " 5   area_barrio       3680 non-null   float64\n",
      " 6   dengue            3680 non-null   float64\n",
      " 7   concentraciones   3680 non-null   float64\n",
      " 8   vivienda          3680 non-null   float64\n",
      " 9   equipesado        3680 non-null   float64\n",
      " 10  sumideros         3680 non-null   float64\n",
      " 11  maquina           3680 non-null   float64\n",
      " 12  lluvia_mean       3680 non-null   float64\n",
      " 13  lluvia_var        3680 non-null   float64\n",
      " 14  lluvia_max        3680 non-null   float64\n",
      " 15  lluvia_min        3680 non-null   float64\n",
      " 16  temperatura_mean  3680 non-null   float64\n",
      " 17  temperatura_var   3680 non-null   float64\n",
      " 18  temperatura_max   3680 non-null   float64\n",
      " 19  temperatura_min   3680 non-null   float64\n",
      "dtypes: UInt32(1), float64(16), int64(2), object(1)\n",
      "memory usage: 593.0+ KB\n",
      "None\n",
      "\n",
      "Rango temporal: 2014-12-29 00:00:00 - 2022-01-03 00:00:00\n",
      "\n",
      "Tamaño conjunto entrenamiento: 3150\n",
      "Tamaño conjunto validación: 530\n",
      "\n",
      "Columnas categóricas: ['id_bar', 'ESTRATO']\n",
      "Columnas numéricas: ['id', 'area_barrio', 'dengue', 'concentraciones', 'vivienda', 'equipesado', 'sumideros', 'maquina', 'lluvia_mean', 'lluvia_var', 'lluvia_max', 'lluvia_min', 'temperatura_mean', 'temperatura_var', 'temperatura_max', 'temperatura_min']\n",
      "Variable objetivo: dengue\n",
      "\n",
      "Cardinalidad de id_bar: 10\n",
      "\n",
      "Cardinalidad de ESTRATO: 3\n",
      "\n",
      "### Iniciando optimización de hiperparámetros con Optuna ###\n"
     ]
    },
    {
     "data": {
      "application/vnd.jupyter.widget-view+json": {
       "model_id": "85dbfc4812344685b38a01d393061c64",
       "version_major": 2,
       "version_minor": 0
      },
      "text/plain": [
       "  0%|          | 0/200 [00:00<?, ?it/s]"
      ]
     },
     "metadata": {},
     "output_type": "display_data"
    },
    {
     "name": "stdout",
     "output_type": "stream",
     "text": [
      "[I 2025-06-23 12:54:03,082] Trial 0 finished with value: 0.09404972195625305 and parameters: {'window_size': 28, 'hidden_size': 64, 'num_layers': 2, 'dropout_rate': 0.11603062481544174, 'learning_rate': 0.006565545714341804, 'batch_size': 64}. Best is trial 0 with value: 0.09404972195625305.\n",
      "[I 2025-06-23 12:54:15,137] Trial 1 finished with value: 0.06795666553080082 and parameters: {'window_size': 44, 'hidden_size': 32, 'num_layers': 3, 'dropout_rate': 0.10824281349224583, 'learning_rate': 0.0013764512306795925, 'batch_size': 32}. Best is trial 1 with value: 0.06795666553080082.\n",
      "[I 2025-06-23 12:54:20,711] Trial 2 finished with value: 0.1028464784224828 and parameters: {'window_size': 25, 'hidden_size': 32, 'num_layers': 2, 'dropout_rate': 0.22050096586937054, 'learning_rate': 0.007639010642902058, 'batch_size': 128}. Best is trial 1 with value: 0.06795666553080082.\n",
      "[I 2025-06-23 12:54:47,114] Trial 3 finished with value: 0.10960474237799644 and parameters: {'window_size': 15, 'hidden_size': 64, 'num_layers': 1, 'dropout_rate': 0.17856973968268816, 'learning_rate': 0.00018799210207328908, 'batch_size': 64}. Best is trial 1 with value: 0.06795666553080082.\n",
      "[I 2025-06-23 12:55:41,123] Trial 4 finished with value: 0.09544805114467939 and parameters: {'window_size': 29, 'hidden_size': 16, 'num_layers': 2, 'dropout_rate': 0.42752655981717536, 'learning_rate': 0.00010088122672434172, 'batch_size': 16}. Best is trial 1 with value: 0.06795666553080082.\n",
      "[I 2025-06-23 12:55:50,749] Trial 5 finished with value: 0.08513297140598297 and parameters: {'window_size': 31, 'hidden_size': 64, 'num_layers': 2, 'dropout_rate': 0.29535170242573927, 'learning_rate': 0.0003425375924610264, 'batch_size': 128}. Best is trial 1 with value: 0.06795666553080082.\n",
      "[I 2025-06-23 12:56:29,607] Trial 6 finished with value: 0.09087619957114969 and parameters: {'window_size': 31, 'hidden_size': 32, 'num_layers': 2, 'dropout_rate': 0.31141666294287396, 'learning_rate': 0.00017727067372564172, 'batch_size': 16}. Best is trial 1 with value: 0.06795666553080082.\n",
      "[I 2025-06-23 12:56:55,972] Trial 7 finished with value: 0.08239048240440232 and parameters: {'window_size': 33, 'hidden_size': 32, 'num_layers': 3, 'dropout_rate': 0.1528880524657862, 'learning_rate': 0.000192930932306599, 'batch_size': 32}. Best is trial 1 with value: 0.06795666553080082.\n",
      "[I 2025-06-23 12:57:23,473] Trial 8 finished with value: 0.09854352722565334 and parameters: {'window_size': 25, 'hidden_size': 64, 'num_layers': 1, 'dropout_rate': 0.25186326452863855, 'learning_rate': 0.00028046552323118, 'batch_size': 128}. Best is trial 1 with value: 0.06795666553080082.\n",
      "[I 2025-06-23 12:57:55,901] Trial 9 finished with value: 0.0627589225769043 and parameters: {'window_size': 48, 'hidden_size': 16, 'num_layers': 1, 'dropout_rate': 0.4366696308667336, 'learning_rate': 0.000145684148868505, 'batch_size': 128}. Best is trial 9 with value: 0.0627589225769043.\n",
      "[I 2025-06-23 12:58:09,604] Trial 10 finished with value: 0.06616439670324326 and parameters: {'window_size': 46, 'hidden_size': 16, 'num_layers': 1, 'dropout_rate': 0.49852688868187156, 'learning_rate': 0.000995659626623619, 'batch_size': 128}. Best is trial 9 with value: 0.0627589225769043.\n",
      "[I 2025-06-23 12:58:28,151] Trial 11 finished with value: 0.06231410801410675 and parameters: {'window_size': 48, 'hidden_size': 16, 'num_layers': 1, 'dropout_rate': 0.49415281342239065, 'learning_rate': 0.0015650597128518688, 'batch_size': 128}. Best is trial 11 with value: 0.06231410801410675.\n",
      "[I 2025-06-23 12:58:42,386] Trial 12 finished with value: 0.06101808324456215 and parameters: {'window_size': 41, 'hidden_size': 16, 'num_layers': 1, 'dropout_rate': 0.4129837635611089, 'learning_rate': 0.0016262558716931604, 'batch_size': 128}. Best is trial 12 with value: 0.06101808324456215.\n",
      "[I 2025-06-23 12:58:49,606] Trial 13 finished with value: 0.07366657629609108 and parameters: {'window_size': 39, 'hidden_size': 128, 'num_layers': 1, 'dropout_rate': 0.39166702812866644, 'learning_rate': 0.0023119416169256205, 'batch_size': 128}. Best is trial 12 with value: 0.06101808324456215.\n",
      "[I 2025-06-23 12:58:57,844] Trial 14 finished with value: 0.06029042229056358 and parameters: {'window_size': 40, 'hidden_size': 16, 'num_layers': 1, 'dropout_rate': 0.49012300075551807, 'learning_rate': 0.0031047467421492932, 'batch_size': 128}. Best is trial 14 with value: 0.06029042229056358.\n",
      "[I 2025-06-23 12:59:18,966] Trial 15 finished with value: 0.04603127483278513 and parameters: {'window_size': 40, 'hidden_size': 16, 'num_layers': 1, 'dropout_rate': 0.36683622776404384, 'learning_rate': 0.0038493336268733925, 'batch_size': 128}. Best is trial 15 with value: 0.04603127483278513.\n",
      "[I 2025-06-23 12:59:29,152] Trial 16 finished with value: 0.08975640932718913 and parameters: {'window_size': 38, 'hidden_size': 128, 'num_layers': 1, 'dropout_rate': 0.3524844418381749, 'learning_rate': 0.0030708366001079104, 'batch_size': 64}. Best is trial 15 with value: 0.04603127483278513.\n",
      "[I 2025-06-23 13:00:16,410] Trial 17 finished with value: 0.13655631244182587 and parameters: {'window_size': 8, 'hidden_size': 16, 'num_layers': 3, 'dropout_rate': 0.4577844863230975, 'learning_rate': 0.004320795646487542, 'batch_size': 16}. Best is trial 15 with value: 0.04603127483278513.\n",
      "[I 2025-06-23 13:01:01,339] Trial 18 finished with value: 0.07800289305547874 and parameters: {'window_size': 35, 'hidden_size': 16, 'num_layers': 1, 'dropout_rate': 0.3519336364108192, 'learning_rate': 0.004235437701847234, 'batch_size': 32}. Best is trial 15 with value: 0.04603127483278513.\n",
      "[I 2025-06-23 13:01:09,750] Trial 19 finished with value: 0.05600488558411598 and parameters: {'window_size': 42, 'hidden_size': 16, 'num_layers': 2, 'dropout_rate': 0.3717829562283857, 'learning_rate': 0.000765349234965457, 'batch_size': 128}. Best is trial 15 with value: 0.04603127483278513.\n",
      "[I 2025-06-23 13:01:19,269] Trial 20 finished with value: 0.09777927150328954 and parameters: {'window_size': 19, 'hidden_size': 128, 'num_layers': 2, 'dropout_rate': 0.3638244859671939, 'learning_rate': 0.0005946044742370295, 'batch_size': 128}. Best is trial 15 with value: 0.04603127483278513.\n",
      "[I 2025-06-23 13:01:30,080] Trial 21 finished with value: 0.06325729191303253 and parameters: {'window_size': 42, 'hidden_size': 16, 'num_layers': 2, 'dropout_rate': 0.32176151346845705, 'learning_rate': 0.0006743453171207624, 'batch_size': 128}. Best is trial 15 with value: 0.04603127483278513.\n",
      "[I 2025-06-23 13:01:41,433] Trial 22 finished with value: 0.07213445752859116 and parameters: {'window_size': 36, 'hidden_size': 16, 'num_layers': 3, 'dropout_rate': 0.2747826150267287, 'learning_rate': 0.009848549451556122, 'batch_size': 128}. Best is trial 15 with value: 0.04603127483278513.\n",
      "[I 2025-06-23 13:02:07,525] Trial 23 finished with value: 0.0586434043943882 and parameters: {'window_size': 41, 'hidden_size': 16, 'num_layers': 1, 'dropout_rate': 0.38807052998185976, 'learning_rate': 0.0026128058653095833, 'batch_size': 128}. Best is trial 15 with value: 0.04603127483278513.\n",
      "[I 2025-06-23 13:02:22,974] Trial 24 finished with value: 0.061435945332050323 and parameters: {'window_size': 45, 'hidden_size': 16, 'num_layers': 1, 'dropout_rate': 0.38201180488119746, 'learning_rate': 0.0008678193158093507, 'batch_size': 128}. Best is trial 15 with value: 0.04603127483278513.\n",
      "[I 2025-06-23 13:02:38,952] Trial 25 finished with value: 0.07779848575592041 and parameters: {'window_size': 36, 'hidden_size': 16, 'num_layers': 2, 'dropout_rate': 0.33227943935353943, 'learning_rate': 0.0020377000184461343, 'batch_size': 128}. Best is trial 15 with value: 0.04603127483278513.\n",
      "[I 2025-06-23 13:02:54,926] Trial 26 finished with value: 0.07133524306118488 and parameters: {'window_size': 43, 'hidden_size': 16, 'num_layers': 2, 'dropout_rate': 0.4023105278545099, 'learning_rate': 0.0005033055495223057, 'batch_size': 32}. Best is trial 15 with value: 0.04603127483278513.\n",
      "[I 2025-06-23 13:03:47,893] Trial 27 finished with value: 0.06440526681641738 and parameters: {'window_size': 40, 'hidden_size': 16, 'num_layers': 1, 'dropout_rate': 0.4512485479171999, 'learning_rate': 0.004914573659464707, 'batch_size': 16}. Best is trial 15 with value: 0.04603127483278513.\n",
      "[I 2025-06-23 13:03:57,029] Trial 28 finished with value: 0.08056822046637535 and parameters: {'window_size': 37, 'hidden_size': 128, 'num_layers': 2, 'dropout_rate': 0.3721844059340984, 'learning_rate': 0.0026651231467939417, 'batch_size': 64}. Best is trial 15 with value: 0.04603127483278513.\n",
      "[I 2025-06-23 13:04:05,927] Trial 29 finished with value: 0.08198530599474907 and parameters: {'window_size': 33, 'hidden_size': 64, 'num_layers': 3, 'dropout_rate': 0.2771411132685701, 'learning_rate': 0.005613373663586604, 'batch_size': 64}. Best is trial 15 with value: 0.04603127483278513.\n",
      "[I 2025-06-23 13:04:27,163] Trial 30 finished with value: 0.10477127879858017 and parameters: {'window_size': 27, 'hidden_size': 16, 'num_layers': 1, 'dropout_rate': 0.33600294599687663, 'learning_rate': 0.00126335771310033, 'batch_size': 128}. Best is trial 15 with value: 0.04603127483278513.\n",
      "[I 2025-06-23 13:04:40,170] Trial 31 finished with value: 0.06336893141269684 and parameters: {'window_size': 41, 'hidden_size': 16, 'num_layers': 1, 'dropout_rate': 0.4520711568349701, 'learning_rate': 0.003298386379636843, 'batch_size': 128}. Best is trial 15 with value: 0.04603127483278513.\n",
      "[I 2025-06-23 13:05:03,177] Trial 32 finished with value: 0.050203241407871246 and parameters: {'window_size': 44, 'hidden_size': 16, 'num_layers': 1, 'dropout_rate': 0.47104280967645445, 'learning_rate': 0.007023900046408096, 'batch_size': 128}. Best is trial 15 with value: 0.04603127483278513.\n",
      "[I 2025-06-23 13:05:15,688] Trial 33 finished with value: 0.07001064717769623 and parameters: {'window_size': 45, 'hidden_size': 16, 'num_layers': 1, 'dropout_rate': 0.4176352417152224, 'learning_rate': 0.007468509731061014, 'batch_size': 128}. Best is trial 15 with value: 0.04603127483278513.\n",
      "[I 2025-06-23 13:05:21,913] Trial 34 finished with value: 0.05474068596959114 and parameters: {'window_size': 43, 'hidden_size': 32, 'num_layers': 2, 'dropout_rate': 0.46363997292807835, 'learning_rate': 0.006275108366439079, 'batch_size': 128}. Best is trial 15 with value: 0.04603127483278513.\n",
      "[I 2025-06-23 13:05:37,513] Trial 35 finished with value: 0.05240690087278684 and parameters: {'window_size': 44, 'hidden_size': 32, 'num_layers': 2, 'dropout_rate': 0.46955149002713487, 'learning_rate': 0.009669584522944336, 'batch_size': 32}. Best is trial 15 with value: 0.04603127483278513.\n",
      "[I 2025-06-23 13:05:53,772] Trial 36 finished with value: 0.060640912503004074 and parameters: {'window_size': 46, 'hidden_size': 32, 'num_layers': 2, 'dropout_rate': 0.47719701581943946, 'learning_rate': 0.009937505782397969, 'batch_size': 32}. Best is trial 15 with value: 0.04603127483278513.\n",
      "[I 2025-06-23 13:06:03,376] Trial 37 finished with value: 0.07349853217601776 and parameters: {'window_size': 48, 'hidden_size': 32, 'num_layers': 2, 'dropout_rate': 0.4705524409546113, 'learning_rate': 0.006981083994096709, 'batch_size': 32}. Best is trial 15 with value: 0.04603127483278513.\n",
      "[I 2025-06-23 13:06:14,665] Trial 38 finished with value: 0.06285593161980312 and parameters: {'window_size': 44, 'hidden_size': 32, 'num_layers': 2, 'dropout_rate': 0.4388285022810202, 'learning_rate': 0.005917840869888678, 'batch_size': 32}. Best is trial 15 with value: 0.04603127483278513.\n",
      "[I 2025-06-23 13:06:42,157] Trial 39 finished with value: 0.0750185027718544 and parameters: {'window_size': 33, 'hidden_size': 32, 'num_layers': 3, 'dropout_rate': 0.20385696216186822, 'learning_rate': 0.008453666971898638, 'batch_size': 32}. Best is trial 15 with value: 0.04603127483278513.\n",
      "[I 2025-06-23 13:07:22,190] Trial 40 finished with value: 0.05157484455655018 and parameters: {'window_size': 44, 'hidden_size': 32, 'num_layers': 2, 'dropout_rate': 0.4729588481885702, 'learning_rate': 0.00418603289089998, 'batch_size': 16}. Best is trial 15 with value: 0.04603127483278513.\n",
      "[I 2025-06-23 13:07:48,765] Trial 41 finished with value: 0.06167928626139959 and parameters: {'window_size': 44, 'hidden_size': 32, 'num_layers': 2, 'dropout_rate': 0.4799101313350709, 'learning_rate': 0.0038035839033572507, 'batch_size': 16}. Best is trial 15 with value: 0.04603127483278513.\n",
      "[I 2025-06-23 13:08:18,638] Trial 42 finished with value: 0.10585498688742519 and parameters: {'window_size': 21, 'hidden_size': 32, 'num_layers': 2, 'dropout_rate': 0.4259027117588195, 'learning_rate': 0.005485351800531609, 'batch_size': 16}. Best is trial 15 with value: 0.04603127483278513.\n",
      "[I 2025-06-23 13:08:48,455] Trial 43 finished with value: 0.06751334294676781 and parameters: {'window_size': 46, 'hidden_size': 32, 'num_layers': 2, 'dropout_rate': 0.4639104400958606, 'learning_rate': 0.006695316806863009, 'batch_size': 16}. Best is trial 15 with value: 0.04603127483278513.\n",
      "[I 2025-06-23 13:09:18,688] Trial 44 finished with value: 0.05676856743437903 and parameters: {'window_size': 43, 'hidden_size': 32, 'num_layers': 2, 'dropout_rate': 0.43872177689609815, 'learning_rate': 0.007980104891670592, 'batch_size': 16}. Best is trial 15 with value: 0.04603127483278513.\n",
      "[I 2025-06-23 13:09:33,198] Trial 45 finished with value: 0.06421486064791679 and parameters: {'window_size': 39, 'hidden_size': 32, 'num_layers': 3, 'dropout_rate': 0.49781382703922034, 'learning_rate': 0.005134730656476313, 'batch_size': 32}. Best is trial 15 with value: 0.04603127483278513.\n",
      "[I 2025-06-23 13:09:40,348] Trial 46 finished with value: 0.05298686400055885 and parameters: {'window_size': 47, 'hidden_size': 64, 'num_layers': 2, 'dropout_rate': 0.4039018605017239, 'learning_rate': 0.0038355106914793207, 'batch_size': 64}. Best is trial 15 with value: 0.04603127483278513.\n",
      "[I 2025-06-23 13:09:47,489] Trial 47 finished with value: 0.061835791915655136 and parameters: {'window_size': 47, 'hidden_size': 64, 'num_layers': 2, 'dropout_rate': 0.40517672522880754, 'learning_rate': 0.0018808569777685573, 'batch_size': 64}. Best is trial 15 with value: 0.04603127483278513.\n",
      "[I 2025-06-23 13:09:54,382] Trial 48 finished with value: 0.06361135840415955 and parameters: {'window_size': 48, 'hidden_size': 64, 'num_layers': 2, 'dropout_rate': 0.42997009096874544, 'learning_rate': 0.004858925942753358, 'batch_size': 64}. Best is trial 15 with value: 0.04603127483278513.\n",
      "[I 2025-06-23 13:10:01,655] Trial 49 finished with value: 0.07807537727057934 and parameters: {'window_size': 46, 'hidden_size': 64, 'num_layers': 1, 'dropout_rate': 0.12518957389263766, 'learning_rate': 0.003931819343238824, 'batch_size': 64}. Best is trial 15 with value: 0.04603127483278513.\n",
      "[I 2025-06-23 13:10:13,546] Trial 50 finished with value: 0.09116128459572792 and parameters: {'window_size': 30, 'hidden_size': 64, 'num_layers': 1, 'dropout_rate': 0.44437382663094976, 'learning_rate': 0.0011797341853529517, 'batch_size': 64}. Best is trial 15 with value: 0.04603127483278513.\n",
      "[I 2025-06-23 13:10:51,212] Trial 51 finished with value: 0.05300870803850038 and parameters: {'window_size': 43, 'hidden_size': 32, 'num_layers': 2, 'dropout_rate': 0.47930983798116783, 'learning_rate': 0.006537269034141246, 'batch_size': 16}. Best is trial 15 with value: 0.04603127483278513.\n",
      "[I 2025-06-23 13:11:10,670] Trial 52 finished with value: 0.061214445469280086 and parameters: {'window_size': 44, 'hidden_size': 32, 'num_layers': 2, 'dropout_rate': 0.4786123401442595, 'learning_rate': 0.0035886919436542695, 'batch_size': 16}. Best is trial 15 with value: 0.04603127483278513.\n",
      "[I 2025-06-23 13:11:34,658] Trial 53 finished with value: 0.06837052684277296 and parameters: {'window_size': 38, 'hidden_size': 32, 'num_layers': 2, 'dropout_rate': 0.48345823074333893, 'learning_rate': 0.008740922418015456, 'batch_size': 16}. Best is trial 15 with value: 0.04603127483278513.\n",
      "[I 2025-06-23 13:11:56,555] Trial 54 finished with value: 0.0487135188387973 and parameters: {'window_size': 42, 'hidden_size': 64, 'num_layers': 2, 'dropout_rate': 0.41432250944478943, 'learning_rate': 0.004608438617590742, 'batch_size': 16}. Best is trial 15 with value: 0.04603127483278513.\n",
      "[I 2025-06-23 13:12:14,389] Trial 55 finished with value: 0.05839135373632113 and parameters: {'window_size': 40, 'hidden_size': 64, 'num_layers': 2, 'dropout_rate': 0.40075356674258594, 'learning_rate': 0.002701142182468435, 'batch_size': 16}. Best is trial 15 with value: 0.04603127483278513.\n",
      "[I 2025-06-23 13:12:37,411] Trial 56 finished with value: 0.1340787784644851 and parameters: {'window_size': 10, 'hidden_size': 64, 'num_layers': 2, 'dropout_rate': 0.41481813529905015, 'learning_rate': 0.0045209012597943465, 'batch_size': 16}. Best is trial 15 with value: 0.04603127483278513.\n",
      "[I 2025-06-23 13:12:43,973] Trial 57 finished with value: 0.06064259633421898 and parameters: {'window_size': 47, 'hidden_size': 64, 'num_layers': 1, 'dropout_rate': 0.42188524396221366, 'learning_rate': 0.002146543878585392, 'batch_size': 64}. Best is trial 15 with value: 0.04603127483278513.\n",
      "[I 2025-06-23 13:12:53,840] Trial 58 finished with value: 0.07842627416054408 and parameters: {'window_size': 45, 'hidden_size': 64, 'num_layers': 2, 'dropout_rate': 0.36036118033147996, 'learning_rate': 0.0033662596076473924, 'batch_size': 32}. Best is trial 15 with value: 0.04603127483278513.\n",
      "[I 2025-06-23 13:13:15,241] Trial 59 finished with value: 0.06908104568719864 and parameters: {'window_size': 41, 'hidden_size': 128, 'num_layers': 1, 'dropout_rate': 0.30263690828467427, 'learning_rate': 0.008646471223294051, 'batch_size': 16}. Best is trial 15 with value: 0.04603127483278513.\n",
      "[I 2025-06-23 13:13:22,098] Trial 60 finished with value: 0.07496923580765724 and parameters: {'window_size': 34, 'hidden_size': 64, 'num_layers': 3, 'dropout_rate': 0.384539991267913, 'learning_rate': 0.00177380750354528, 'batch_size': 64}. Best is trial 15 with value: 0.04603127483278513.\n",
      "[I 2025-06-23 13:13:39,493] Trial 61 finished with value: 0.04922924829380853 and parameters: {'window_size': 42, 'hidden_size': 32, 'num_layers': 2, 'dropout_rate': 0.4600089017845949, 'learning_rate': 0.006912388245523888, 'batch_size': 16}. Best is trial 15 with value: 0.04603127483278513.\n",
      "[I 2025-06-23 13:14:08,335] Trial 62 finished with value: 0.05123062564858368 and parameters: {'window_size': 42, 'hidden_size': 32, 'num_layers': 2, 'dropout_rate': 0.456917048841607, 'learning_rate': 0.0043348412433019245, 'batch_size': 16}. Best is trial 15 with value: 0.04603127483278513.\n",
      "[I 2025-06-23 13:14:45,067] Trial 63 finished with value: 0.06253240754206975 and parameters: {'window_size': 39, 'hidden_size': 32, 'num_layers': 2, 'dropout_rate': 0.4547618178282897, 'learning_rate': 0.007064248929538552, 'batch_size': 16}. Best is trial 15 with value: 0.04603127483278513.\n",
      "[I 2025-06-23 13:15:09,681] Trial 64 finished with value: 0.0496177396603993 and parameters: {'window_size': 42, 'hidden_size': 32, 'num_layers': 2, 'dropout_rate': 0.49917853183274663, 'learning_rate': 0.004364223034413601, 'batch_size': 16}. Best is trial 15 with value: 0.04603127483278513.\n",
      "[I 2025-06-23 13:15:32,522] Trial 65 finished with value: 0.056333811421479495 and parameters: {'window_size': 42, 'hidden_size': 32, 'num_layers': 2, 'dropout_rate': 0.4979471699834367, 'learning_rate': 0.00453790330965153, 'batch_size': 16}. Best is trial 15 with value: 0.04603127483278513.\n",
      "[I 2025-06-23 13:15:55,673] Trial 66 finished with value: 0.07091423980891705 and parameters: {'window_size': 37, 'hidden_size': 32, 'num_layers': 2, 'dropout_rate': 0.45005437331118514, 'learning_rate': 0.002994727297849804, 'batch_size': 16}. Best is trial 15 with value: 0.04603127483278513.\n",
      "[I 2025-06-23 13:16:13,924] Trial 67 finished with value: 0.0635961392628295 and parameters: {'window_size': 42, 'hidden_size': 128, 'num_layers': 1, 'dropout_rate': 0.48962423562090046, 'learning_rate': 0.002368854160428109, 'batch_size': 16}. Best is trial 15 with value: 0.04603127483278513.\n",
      "[I 2025-06-23 13:16:36,787] Trial 68 finished with value: 0.07152524422854185 and parameters: {'window_size': 38, 'hidden_size': 32, 'num_layers': 2, 'dropout_rate': 0.4608885460238103, 'learning_rate': 0.00605233239614459, 'batch_size': 16}. Best is trial 15 with value: 0.04603127483278513.\n",
      "[I 2025-06-23 13:17:09,940] Trial 69 finished with value: 0.0678541652030415 and parameters: {'window_size': 40, 'hidden_size': 16, 'num_layers': 2, 'dropout_rate': 0.43909476437534134, 'learning_rate': 0.00010235527474004265, 'batch_size': 16}. Best is trial 15 with value: 0.04603127483278513.\n",
      "[I 2025-06-23 13:17:38,052] Trial 70 finished with value: 0.07641852731731805 and parameters: {'window_size': 36, 'hidden_size': 32, 'num_layers': 1, 'dropout_rate': 0.42960140777141265, 'learning_rate': 0.005410664972247307, 'batch_size': 16}. Best is trial 15 with value: 0.04603127483278513.\n",
      "[I 2025-06-23 13:17:59,738] Trial 71 finished with value: 0.055043418581287064 and parameters: {'window_size': 44, 'hidden_size': 32, 'num_layers': 2, 'dropout_rate': 0.46964409372646715, 'learning_rate': 0.009742154399198519, 'batch_size': 16}. Best is trial 15 with value: 0.04603127483278513.\n",
      "[I 2025-06-23 13:18:05,898] Trial 72 finished with value: 0.05020757019519806 and parameters: {'window_size': 42, 'hidden_size': 32, 'num_layers': 2, 'dropout_rate': 0.4683862249065694, 'learning_rate': 0.004250833458442378, 'batch_size': 128}. Best is trial 15 with value: 0.04603127483278513.\n",
      "[I 2025-06-23 13:18:11,694] Trial 73 finished with value: 0.056765589863061905 and parameters: {'window_size': 42, 'hidden_size': 32, 'num_layers': 2, 'dropout_rate': 0.4996763266196951, 'learning_rate': 0.00413752586429948, 'batch_size': 128}. Best is trial 15 with value: 0.04603127483278513.\n",
      "[I 2025-06-23 13:18:18,492] Trial 74 finished with value: 0.06130923703312874 and parameters: {'window_size': 41, 'hidden_size': 16, 'num_layers': 2, 'dropout_rate': 0.456483024853609, 'learning_rate': 0.002829395796844159, 'batch_size': 128}. Best is trial 15 with value: 0.04603127483278513.\n",
      "[I 2025-06-23 13:18:24,448] Trial 75 finished with value: 0.0552433542907238 and parameters: {'window_size': 45, 'hidden_size': 32, 'num_layers': 2, 'dropout_rate': 0.48397602596676204, 'learning_rate': 0.004868151025183823, 'batch_size': 128}. Best is trial 15 with value: 0.04603127483278513.\n",
      "[I 2025-06-23 13:18:30,674] Trial 76 finished with value: 0.0689273439347744 and parameters: {'window_size': 39, 'hidden_size': 32, 'num_layers': 2, 'dropout_rate': 0.4724117194254624, 'learning_rate': 0.003332713051618853, 'batch_size': 128}. Best is trial 15 with value: 0.04603127483278513.\n",
      "[I 2025-06-23 13:18:44,489] Trial 77 finished with value: 0.05260287970304489 and parameters: {'window_size': 42, 'hidden_size': 16, 'num_layers': 2, 'dropout_rate': 0.44332328090325585, 'learning_rate': 0.004246351360703854, 'batch_size': 128}. Best is trial 15 with value: 0.04603127483278513.\n",
      "[I 2025-06-23 13:19:08,402] Trial 78 finished with value: 0.05707092728051874 and parameters: {'window_size': 40, 'hidden_size': 32, 'num_layers': 1, 'dropout_rate': 0.4896904003269589, 'learning_rate': 0.005773125805016703, 'batch_size': 16}. Best is trial 15 with value: 0.04603127483278513.\n",
      "[I 2025-06-23 13:19:22,658] Trial 79 finished with value: 0.05563666298985481 and parameters: {'window_size': 43, 'hidden_size': 128, 'num_layers': 3, 'dropout_rate': 0.2295702167793472, 'learning_rate': 0.007658866799645056, 'batch_size': 128}. Best is trial 15 with value: 0.04603127483278513.\n",
      "[I 2025-06-23 13:19:48,803] Trial 80 finished with value: 0.07486728485673666 and parameters: {'window_size': 37, 'hidden_size': 16, 'num_layers': 2, 'dropout_rate': 0.4620068920183018, 'learning_rate': 0.00037113324658986495, 'batch_size': 16}. Best is trial 15 with value: 0.04603127483278513.\n",
      "[I 2025-06-23 13:20:13,786] Trial 81 finished with value: 0.05917936315139135 and parameters: {'window_size': 45, 'hidden_size': 32, 'num_layers': 2, 'dropout_rate': 0.4673262462473143, 'learning_rate': 0.0065349869135039994, 'batch_size': 32}. Best is trial 15 with value: 0.04603127483278513.\n",
      "[I 2025-06-23 13:20:34,915] Trial 82 finished with value: 0.06083081811666489 and parameters: {'window_size': 46, 'hidden_size': 32, 'num_layers': 2, 'dropout_rate': 0.4489753412668807, 'learning_rate': 0.007537099741797676, 'batch_size': 16}. Best is trial 15 with value: 0.04603127483278513.\n",
      "[I 2025-06-23 13:20:40,785] Trial 83 finished with value: 0.05696449056267738 and parameters: {'window_size': 43, 'hidden_size': 32, 'num_layers': 2, 'dropout_rate': 0.43512977555293986, 'learning_rate': 0.004861824187194913, 'batch_size': 128}. Best is trial 15 with value: 0.04603127483278513.\n",
      "[I 2025-06-23 13:20:57,700] Trial 84 finished with value: 0.05488702841103077 and parameters: {'window_size': 44, 'hidden_size': 32, 'num_layers': 2, 'dropout_rate': 0.4717618960009818, 'learning_rate': 0.009038822258304447, 'batch_size': 32}. Best is trial 15 with value: 0.04603127483278513.\n",
      "[I 2025-06-23 13:21:20,430] Trial 85 finished with value: 0.056394741171970963 and parameters: {'window_size': 41, 'hidden_size': 32, 'num_layers': 2, 'dropout_rate': 0.483503138240597, 'learning_rate': 0.005336283545280635, 'batch_size': 16}. Best is trial 15 with value: 0.04603127483278513.\n",
      "[I 2025-06-23 13:21:27,564] Trial 86 finished with value: 0.0946899950504303 and parameters: {'window_size': 26, 'hidden_size': 32, 'num_layers': 2, 'dropout_rate': 0.41538314041078833, 'learning_rate': 0.0036097850801374994, 'batch_size': 128}. Best is trial 15 with value: 0.04603127483278513.\n",
      "[I 2025-06-23 13:21:48,055] Trial 87 finished with value: 0.055626660119742155 and parameters: {'window_size': 47, 'hidden_size': 16, 'num_layers': 2, 'dropout_rate': 0.39472511044078307, 'learning_rate': 0.0024693624147590887, 'batch_size': 16}. Best is trial 15 with value: 0.04603127483278513.\n",
      "[I 2025-06-23 13:22:10,447] Trial 88 finished with value: 0.10538661479949951 and parameters: {'window_size': 23, 'hidden_size': 32, 'num_layers': 1, 'dropout_rate': 0.4883680977557906, 'learning_rate': 0.006172372668689005, 'batch_size': 32}. Best is trial 15 with value: 0.04603127483278513.\n",
      "[I 2025-06-23 13:22:16,447] Trial 89 finished with value: 0.10427249471346538 and parameters: {'window_size': 18, 'hidden_size': 32, 'num_layers': 2, 'dropout_rate': 0.3425919699110289, 'learning_rate': 0.007989862608971398, 'batch_size': 128}. Best is trial 15 with value: 0.04603127483278513.\n",
      "[I 2025-06-23 13:22:38,097] Trial 90 finished with value: 0.06096415718396505 and parameters: {'window_size': 39, 'hidden_size': 16, 'num_layers': 2, 'dropout_rate': 0.4588627971486618, 'learning_rate': 0.004450791323905849, 'batch_size': 16}. Best is trial 15 with value: 0.04603127483278513.\n",
      "[I 2025-06-23 13:22:45,969] Trial 91 finished with value: 0.0534251444041729 and parameters: {'window_size': 42, 'hidden_size': 16, 'num_layers': 2, 'dropout_rate': 0.44140951786612853, 'learning_rate': 0.004107222980256035, 'batch_size': 128}. Best is trial 15 with value: 0.04603127483278513.\n",
      "[I 2025-06-23 13:22:53,942] Trial 92 finished with value: 0.051328256726264954 and parameters: {'window_size': 43, 'hidden_size': 16, 'num_layers': 2, 'dropout_rate': 0.4465449126522087, 'learning_rate': 0.0032387190965623576, 'batch_size': 128}. Best is trial 15 with value: 0.04603127483278513.\n",
      "[I 2025-06-23 13:23:05,142] Trial 93 finished with value: 0.05419010668992996 and parameters: {'window_size': 44, 'hidden_size': 16, 'num_layers': 2, 'dropout_rate': 0.47380669524710095, 'learning_rate': 0.0030938129083345586, 'batch_size': 128}. Best is trial 15 with value: 0.04603127483278513.\n",
      "[I 2025-06-23 13:23:11,049] Trial 94 finished with value: 0.046468705870211124 and parameters: {'window_size': 40, 'hidden_size': 16, 'num_layers': 2, 'dropout_rate': 0.42670578466162135, 'learning_rate': 0.007048666960948248, 'batch_size': 128}. Best is trial 15 with value: 0.04603127483278513.\n",
      "[I 2025-06-23 13:23:16,498] Trial 95 finished with value: 0.05847544968128204 and parameters: {'window_size': 41, 'hidden_size': 16, 'num_layers': 2, 'dropout_rate': 0.3753648102312078, 'learning_rate': 0.0035069600472425917, 'batch_size': 128}. Best is trial 15 with value: 0.04603127483278513.\n",
      "[I 2025-06-23 13:23:21,968] Trial 96 finished with value: 0.041560676880180836 and parameters: {'window_size': 40, 'hidden_size': 16, 'num_layers': 2, 'dropout_rate': 0.42828173329980235, 'learning_rate': 0.005235547409894394, 'batch_size': 128}. Best is trial 96 with value: 0.041560676880180836.\n",
      "[I 2025-06-23 13:23:27,566] Trial 97 finished with value: 0.0909816138446331 and parameters: {'window_size': 38, 'hidden_size': 16, 'num_layers': 2, 'dropout_rate': 0.4279845277291764, 'learning_rate': 0.00705310774484139, 'batch_size': 128}. Best is trial 96 with value: 0.041560676880180836.\n",
      "[I 2025-06-23 13:23:33,499] Trial 98 finished with value: 0.054095884785056114 and parameters: {'window_size': 40, 'hidden_size': 16, 'num_layers': 2, 'dropout_rate': 0.40576341848730796, 'learning_rate': 0.0053438663677387215, 'batch_size': 128}. Best is trial 96 with value: 0.041560676880180836.\n",
      "[I 2025-06-23 13:23:46,065] Trial 99 finished with value: 0.07980698347091675 and parameters: {'window_size': 35, 'hidden_size': 16, 'num_layers': 1, 'dropout_rate': 0.42219427381856117, 'learning_rate': 0.006061225589214988, 'batch_size': 128}. Best is trial 96 with value: 0.041560676880180836.\n",
      "[I 2025-06-23 13:23:52,199] Trial 100 finished with value: 0.09130654111504555 and parameters: {'window_size': 38, 'hidden_size': 16, 'num_layers': 2, 'dropout_rate': 0.44951768008214155, 'learning_rate': 0.004795230803219207, 'batch_size': 128}. Best is trial 96 with value: 0.041560676880180836.\n",
      "[I 2025-06-23 13:24:01,208] Trial 101 finished with value: 0.060519397258758545 and parameters: {'window_size': 43, 'hidden_size': 16, 'num_layers': 2, 'dropout_rate': 0.4347835214411467, 'learning_rate': 0.0037959433290015773, 'batch_size': 128}. Best is trial 96 with value: 0.041560676880180836.\n",
      "[I 2025-06-23 13:24:11,327] Trial 102 finished with value: 0.05631307512521744 and parameters: {'window_size': 45, 'hidden_size': 16, 'num_layers': 2, 'dropout_rate': 0.4112160059761083, 'learning_rate': 0.005683695955477684, 'batch_size': 128}. Best is trial 96 with value: 0.041560676880180836.\n",
      "[I 2025-06-23 13:24:20,917] Trial 103 finished with value: 0.062428442761301994 and parameters: {'window_size': 40, 'hidden_size': 16, 'num_layers': 2, 'dropout_rate': 0.4553622903793884, 'learning_rate': 0.003961576352347734, 'batch_size': 128}. Best is trial 96 with value: 0.041560676880180836.\n",
      "[I 2025-06-23 13:24:30,244] Trial 104 finished with value: 0.05884766951203346 and parameters: {'window_size': 41, 'hidden_size': 16, 'num_layers': 2, 'dropout_rate': 0.3952989527311784, 'learning_rate': 0.005101737692227233, 'batch_size': 128}. Best is trial 96 with value: 0.041560676880180836.\n",
      "[I 2025-06-23 13:24:49,352] Trial 105 finished with value: 0.052738429446305544 and parameters: {'window_size': 42, 'hidden_size': 16, 'num_layers': 2, 'dropout_rate': 0.44904346271437967, 'learning_rate': 0.0044853357426578614, 'batch_size': 16}. Best is trial 96 with value: 0.041560676880180836.\n",
      "[I 2025-06-23 13:24:55,821] Trial 106 finished with value: 0.05450623482465744 and parameters: {'window_size': 43, 'hidden_size': 128, 'num_layers': 2, 'dropout_rate': 0.49311345376776805, 'learning_rate': 0.007046911488770874, 'batch_size': 128}. Best is trial 96 with value: 0.041560676880180836.\n",
      "[I 2025-06-23 13:25:29,337] Trial 107 finished with value: 0.060064027458429335 and parameters: {'window_size': 46, 'hidden_size': 64, 'num_layers': 3, 'dropout_rate': 0.4646104344202391, 'learning_rate': 0.0063782163697303895, 'batch_size': 16}. Best is trial 96 with value: 0.041560676880180836.\n",
      "[I 2025-06-23 13:26:01,016] Trial 108 finished with value: 0.06003859804736243 and parameters: {'window_size': 39, 'hidden_size': 16, 'num_layers': 1, 'dropout_rate': 0.47765533165004603, 'learning_rate': 0.002893115499161992, 'batch_size': 16}. Best is trial 96 with value: 0.041560676880180836.\n",
      "[I 2025-06-23 13:26:06,243] Trial 109 finished with value: 0.054543327540159225 and parameters: {'window_size': 43, 'hidden_size': 16, 'num_layers': 2, 'dropout_rate': 0.43058773205339257, 'learning_rate': 0.0036904452179612065, 'batch_size': 128}. Best is trial 96 with value: 0.041560676880180836.\n",
      "[I 2025-06-23 13:26:30,852] Trial 110 finished with value: 0.07379999783422266 and parameters: {'window_size': 32, 'hidden_size': 32, 'num_layers': 2, 'dropout_rate': 0.42166599956220485, 'learning_rate': 0.0045955490022717505, 'batch_size': 16}. Best is trial 96 with value: 0.041560676880180836.\n",
      "[I 2025-06-23 13:26:40,873] Trial 111 finished with value: 0.06572728045284748 and parameters: {'window_size': 45, 'hidden_size': 32, 'num_layers': 2, 'dropout_rate': 0.4653668727903832, 'learning_rate': 0.00904669592676605, 'batch_size': 32}. Best is trial 96 with value: 0.041560676880180836.\n",
      "[I 2025-06-23 13:26:46,771] Trial 112 finished with value: 0.0546710342168808 and parameters: {'window_size': 41, 'hidden_size': 32, 'num_layers': 2, 'dropout_rate': 0.4418145780914984, 'learning_rate': 0.008001120037495828, 'batch_size': 128}. Best is trial 96 with value: 0.041560676880180836.\n",
      "[I 2025-06-23 13:27:10,412] Trial 113 finished with value: 0.06965527466187875 and parameters: {'window_size': 44, 'hidden_size': 32, 'num_layers': 2, 'dropout_rate': 0.32160672105204213, 'learning_rate': 0.0014756315310562257, 'batch_size': 16}. Best is trial 96 with value: 0.041560676880180836.\n",
      "[I 2025-06-23 13:27:23,167] Trial 114 finished with value: 0.07153561152517796 and parameters: {'window_size': 42, 'hidden_size': 32, 'num_layers': 2, 'dropout_rate': 0.274052482479177, 'learning_rate': 0.00972962512982748, 'batch_size': 32}. Best is trial 96 with value: 0.041560676880180836.\n",
      "[I 2025-06-23 13:27:32,895] Trial 115 finished with value: 0.04955776408314705 and parameters: {'window_size': 43, 'hidden_size': 64, 'num_layers': 2, 'dropout_rate': 0.4847284431569624, 'learning_rate': 0.0032940599968944136, 'batch_size': 128}. Best is trial 96 with value: 0.041560676880180836.\n",
      "[I 2025-06-23 13:27:39,031] Trial 116 finished with value: 0.04629658255726099 and parameters: {'window_size': 40, 'hidden_size': 64, 'num_layers': 2, 'dropout_rate': 0.48641974381126, 'learning_rate': 0.003217796359482868, 'batch_size': 128}. Best is trial 96 with value: 0.041560676880180836.\n",
      "[I 2025-06-23 13:27:48,813] Trial 117 finished with value: 0.04375594016164541 and parameters: {'window_size': 40, 'hidden_size': 64, 'num_layers': 2, 'dropout_rate': 0.4860879865089495, 'learning_rate': 0.003085272617769003, 'batch_size': 128}. Best is trial 96 with value: 0.041560676880180836.\n",
      "[I 2025-06-23 13:27:55,351] Trial 118 finished with value: 0.0473539624363184 and parameters: {'window_size': 40, 'hidden_size': 64, 'num_layers': 2, 'dropout_rate': 0.48143208243693486, 'learning_rate': 0.0022133996835778, 'batch_size': 128}. Best is trial 96 with value: 0.041560676880180836.\n",
      "[I 2025-06-23 13:28:01,271] Trial 119 finished with value: 0.04498177208006382 and parameters: {'window_size': 40, 'hidden_size': 64, 'num_layers': 2, 'dropout_rate': 0.49182208375773845, 'learning_rate': 0.002151976115193683, 'batch_size': 128}. Best is trial 96 with value: 0.041560676880180836.\n",
      "[I 2025-06-23 13:28:08,090] Trial 120 finished with value: 0.04403120372444391 and parameters: {'window_size': 40, 'hidden_size': 64, 'num_layers': 2, 'dropout_rate': 0.4944364664519321, 'learning_rate': 0.002175187500101087, 'batch_size': 128}. Best is trial 96 with value: 0.041560676880180836.\n",
      "[I 2025-06-23 13:28:17,456] Trial 121 finished with value: 0.08469027653336525 and parameters: {'window_size': 37, 'hidden_size': 64, 'num_layers': 2, 'dropout_rate': 0.49181098161584175, 'learning_rate': 0.0017936783857443175, 'batch_size': 128}. Best is trial 96 with value: 0.041560676880180836.\n",
      "[I 2025-06-23 13:28:23,555] Trial 122 finished with value: 0.06985165923833847 and parameters: {'window_size': 39, 'hidden_size': 64, 'num_layers': 2, 'dropout_rate': 0.49938870725226275, 'learning_rate': 0.001987269730313863, 'batch_size': 128}. Best is trial 96 with value: 0.041560676880180836.\n",
      "[I 2025-06-23 13:28:31,882] Trial 123 finished with value: 0.08085489273071289 and parameters: {'window_size': 35, 'hidden_size': 64, 'num_layers': 2, 'dropout_rate': 0.4831292442926255, 'learning_rate': 0.0026319858922619252, 'batch_size': 128}. Best is trial 96 with value: 0.041560676880180836.\n",
      "[I 2025-06-23 13:28:38,434] Trial 124 finished with value: 0.04122214764356613 and parameters: {'window_size': 40, 'hidden_size': 64, 'num_layers': 2, 'dropout_rate': 0.48809829751884304, 'learning_rate': 0.002420012832365847, 'batch_size': 128}. Best is trial 124 with value: 0.04122214764356613.\n",
      "[I 2025-06-23 13:28:44,738] Trial 125 finished with value: 0.04508981015533209 and parameters: {'window_size': 40, 'hidden_size': 64, 'num_layers': 2, 'dropout_rate': 0.487892296985476, 'learning_rate': 0.0021385557482606283, 'batch_size': 128}. Best is trial 124 with value: 0.04122214764356613.\n",
      "[I 2025-06-23 13:28:51,311] Trial 126 finished with value: 0.048481508158147335 and parameters: {'window_size': 40, 'hidden_size': 64, 'num_layers': 2, 'dropout_rate': 0.48920242583593865, 'learning_rate': 0.002023529643776046, 'batch_size': 128}. Best is trial 124 with value: 0.04122214764356613.\n",
      "[I 2025-06-23 13:28:58,053] Trial 127 finished with value: 0.09460838884115219 and parameters: {'window_size': 38, 'hidden_size': 64, 'num_layers': 2, 'dropout_rate': 0.48951966065993124, 'learning_rate': 0.0023628876711687024, 'batch_size': 128}. Best is trial 124 with value: 0.04122214764356613.\n",
      "[I 2025-06-23 13:29:04,153] Trial 128 finished with value: 0.04510823357850313 and parameters: {'window_size': 40, 'hidden_size': 64, 'num_layers': 2, 'dropout_rate': 0.47796437149641785, 'learning_rate': 0.002165530805828062, 'batch_size': 128}. Best is trial 124 with value: 0.04122214764356613.\n",
      "[I 2025-06-23 13:29:11,038] Trial 129 finished with value: 0.07839363813400269 and parameters: {'window_size': 36, 'hidden_size': 64, 'num_layers': 2, 'dropout_rate': 0.4770204223364653, 'learning_rate': 0.0012965161799092903, 'batch_size': 128}. Best is trial 124 with value: 0.04122214764356613.\n",
      "[I 2025-06-23 13:29:18,386] Trial 130 finished with value: 0.04517978057265282 and parameters: {'window_size': 40, 'hidden_size': 64, 'num_layers': 2, 'dropout_rate': 0.49255651833419584, 'learning_rate': 0.0016433006390246833, 'batch_size': 128}. Best is trial 124 with value: 0.04122214764356613.\n",
      "[I 2025-06-23 13:29:24,868] Trial 131 finished with value: 0.06008821912109852 and parameters: {'window_size': 40, 'hidden_size': 64, 'num_layers': 2, 'dropout_rate': 0.49267138415968115, 'learning_rate': 0.0016207410541505191, 'batch_size': 128}. Best is trial 124 with value: 0.04122214764356613.\n",
      "[I 2025-06-23 13:29:30,921] Trial 132 finished with value: 0.04116183705627918 and parameters: {'window_size': 40, 'hidden_size': 64, 'num_layers': 2, 'dropout_rate': 0.4800682426090842, 'learning_rate': 0.002105353170162195, 'batch_size': 128}. Best is trial 132 with value: 0.04116183705627918.\n",
      "[I 2025-06-23 13:29:37,459] Trial 133 finished with value: 0.05248519033193588 and parameters: {'window_size': 40, 'hidden_size': 64, 'num_layers': 2, 'dropout_rate': 0.4812178322708617, 'learning_rate': 0.002140115419069538, 'batch_size': 128}. Best is trial 132 with value: 0.04116183705627918.\n",
      "[I 2025-06-23 13:29:43,165] Trial 134 finished with value: 0.09197868779301643 and parameters: {'window_size': 38, 'hidden_size': 64, 'num_layers': 2, 'dropout_rate': 0.49233898675106064, 'learning_rate': 0.0021486234912862076, 'batch_size': 128}. Best is trial 132 with value: 0.04116183705627918.\n",
      "[I 2025-06-23 13:29:49,600] Trial 135 finished with value: 0.07036454044282436 and parameters: {'window_size': 39, 'hidden_size': 64, 'num_layers': 2, 'dropout_rate': 0.476994176315633, 'learning_rate': 0.0017412343412412166, 'batch_size': 128}. Best is trial 132 with value: 0.04116183705627918.\n",
      "[I 2025-06-23 13:29:57,011] Trial 136 finished with value: 0.08537562191486359 and parameters: {'window_size': 37, 'hidden_size': 64, 'num_layers': 2, 'dropout_rate': 0.4987281921508396, 'learning_rate': 0.0010378592713875922, 'batch_size': 128}. Best is trial 132 with value: 0.04116183705627918.\n",
      "[I 2025-06-23 13:30:02,757] Trial 137 finished with value: 0.06675952486693859 and parameters: {'window_size': 39, 'hidden_size': 64, 'num_layers': 2, 'dropout_rate': 0.4845044800084468, 'learning_rate': 0.0015172599491665522, 'batch_size': 128}. Best is trial 132 with value: 0.04116183705627918.\n",
      "[I 2025-06-23 13:30:08,912] Trial 138 finished with value: 0.050275566056370735 and parameters: {'window_size': 40, 'hidden_size': 64, 'num_layers': 2, 'dropout_rate': 0.4765624106982777, 'learning_rate': 0.0019041667938158164, 'batch_size': 128}. Best is trial 132 with value: 0.04116183705627918.\n",
      "[I 2025-06-23 13:30:15,098] Trial 139 finished with value: 0.092604149132967 and parameters: {'window_size': 38, 'hidden_size': 64, 'num_layers': 2, 'dropout_rate': 0.48968138316846455, 'learning_rate': 0.002528225363993291, 'batch_size': 128}. Best is trial 132 with value: 0.04116183705627918.\n",
      "[I 2025-06-23 13:30:22,307] Trial 140 finished with value: 0.0421511298045516 and parameters: {'window_size': 40, 'hidden_size': 64, 'num_layers': 2, 'dropout_rate': 0.4997267958334874, 'learning_rate': 0.0022345121304428927, 'batch_size': 128}. Best is trial 132 with value: 0.04116183705627918.\n",
      "[I 2025-06-23 13:30:29,690] Trial 141 finished with value: 0.04536018893122673 and parameters: {'window_size': 40, 'hidden_size': 64, 'num_layers': 2, 'dropout_rate': 0.48539561652175545, 'learning_rate': 0.002271768154773537, 'batch_size': 128}. Best is trial 132 with value: 0.04116183705627918.\n",
      "[I 2025-06-23 13:30:35,479] Trial 142 finished with value: 0.053906168788671494 and parameters: {'window_size': 41, 'hidden_size': 64, 'num_layers': 2, 'dropout_rate': 0.4998838144893616, 'learning_rate': 0.002250095799180682, 'batch_size': 128}. Best is trial 132 with value: 0.04116183705627918.\n",
      "[I 2025-06-23 13:30:41,188] Trial 143 finished with value: 0.059068186208605766 and parameters: {'window_size': 40, 'hidden_size': 64, 'num_layers': 2, 'dropout_rate': 0.46984413394806634, 'learning_rate': 0.0026819982003833103, 'batch_size': 128}. Best is trial 132 with value: 0.04116183705627918.\n",
      "[I 2025-06-23 13:30:46,959] Trial 144 finished with value: 0.07069548405706882 and parameters: {'window_size': 39, 'hidden_size': 64, 'num_layers': 2, 'dropout_rate': 0.4816620970667957, 'learning_rate': 0.0023557674630627474, 'batch_size': 128}. Best is trial 132 with value: 0.04116183705627918.\n",
      "[I 2025-06-23 13:30:56,858] Trial 145 finished with value: 0.08955567330121994 and parameters: {'window_size': 38, 'hidden_size': 64, 'num_layers': 2, 'dropout_rate': 0.4701479812929158, 'learning_rate': 0.0028840140031153464, 'batch_size': 128}. Best is trial 132 with value: 0.04116183705627918.\n",
      "[I 2025-06-23 13:31:02,355] Trial 146 finished with value: 0.05593772977590561 and parameters: {'window_size': 41, 'hidden_size': 64, 'num_layers': 2, 'dropout_rate': 0.4840540659303093, 'learning_rate': 0.0018371649536098038, 'batch_size': 128}. Best is trial 132 with value: 0.04116183705627918.\n",
      "[I 2025-06-23 13:31:08,625] Trial 147 finished with value: 0.07109906151890755 and parameters: {'window_size': 39, 'hidden_size': 64, 'num_layers': 2, 'dropout_rate': 0.4934597154301468, 'learning_rate': 0.0021781692162764496, 'batch_size': 128}. Best is trial 132 with value: 0.04116183705627918.\n",
      "[I 2025-06-23 13:31:14,738] Trial 148 finished with value: 0.0846986398100853 and parameters: {'window_size': 37, 'hidden_size': 64, 'num_layers': 2, 'dropout_rate': 0.46364180930527926, 'learning_rate': 0.0025272298610219063, 'batch_size': 128}. Best is trial 132 with value: 0.04116183705627918.\n",
      "[I 2025-06-23 13:31:20,822] Trial 149 finished with value: 0.04775557480752468 and parameters: {'window_size': 40, 'hidden_size': 64, 'num_layers': 2, 'dropout_rate': 0.4759112945029565, 'learning_rate': 0.0016843889324235223, 'batch_size': 128}. Best is trial 132 with value: 0.04116183705627918.\n",
      "[I 2025-06-23 13:31:26,084] Trial 150 finished with value: 0.06089242547750473 and parameters: {'window_size': 41, 'hidden_size': 64, 'num_layers': 2, 'dropout_rate': 0.3573748486120932, 'learning_rate': 0.00203665255695236, 'batch_size': 128}. Best is trial 132 with value: 0.04116183705627918.\n",
      "[I 2025-06-23 13:31:32,384] Trial 151 finished with value: 0.04337750840932131 and parameters: {'window_size': 40, 'hidden_size': 64, 'num_layers': 2, 'dropout_rate': 0.4752744291791773, 'learning_rate': 0.0017665340557610609, 'batch_size': 128}. Best is trial 132 with value: 0.04116183705627918.\n",
      "[I 2025-06-23 13:31:37,681] Trial 152 finished with value: 0.06175772845745087 and parameters: {'window_size': 41, 'hidden_size': 64, 'num_layers': 2, 'dropout_rate': 0.49913643841726135, 'learning_rate': 0.0014951745089766143, 'batch_size': 128}. Best is trial 132 with value: 0.04116183705627918.\n",
      "[I 2025-06-23 13:31:43,366] Trial 153 finished with value: 0.09818373806774616 and parameters: {'window_size': 38, 'hidden_size': 64, 'num_layers': 2, 'dropout_rate': 0.48439378812624895, 'learning_rate': 0.0023503002399637013, 'batch_size': 128}. Best is trial 132 with value: 0.04116183705627918.\n",
      "[I 2025-06-23 13:31:50,022] Trial 154 finished with value: 0.07232311367988586 and parameters: {'window_size': 39, 'hidden_size': 64, 'num_layers': 2, 'dropout_rate': 0.4757537955923373, 'learning_rate': 0.0019013602725369933, 'batch_size': 128}. Best is trial 132 with value: 0.04116183705627918.\n",
      "[I 2025-06-23 13:31:55,330] Trial 155 finished with value: 0.042234113439917564 and parameters: {'window_size': 40, 'hidden_size': 64, 'num_layers': 2, 'dropout_rate': 0.48999418206466366, 'learning_rate': 0.0013916575844972, 'batch_size': 128}. Best is trial 132 with value: 0.04116183705627918.\n",
      "[I 2025-06-23 13:32:01,082] Trial 156 finished with value: 0.05557931587100029 and parameters: {'window_size': 41, 'hidden_size': 64, 'num_layers': 2, 'dropout_rate': 0.49390965530307634, 'learning_rate': 0.0013137195510103056, 'batch_size': 128}. Best is trial 132 with value: 0.04116183705627918.\n",
      "[I 2025-06-23 13:32:06,875] Trial 157 finished with value: 0.06670216284692287 and parameters: {'window_size': 39, 'hidden_size': 64, 'num_layers': 2, 'dropout_rate': 0.17678268382420903, 'learning_rate': 0.0014091887136933408, 'batch_size': 128}. Best is trial 132 with value: 0.04116183705627918.\n",
      "[I 2025-06-23 13:32:15,410] Trial 158 finished with value: 0.04411977529525757 and parameters: {'window_size': 40, 'hidden_size': 64, 'num_layers': 2, 'dropout_rate': 0.48889866863442505, 'learning_rate': 0.0010829759520288714, 'batch_size': 128}. Best is trial 132 with value: 0.04116183705627918.\n",
      "[I 2025-06-23 13:32:21,743] Trial 159 finished with value: 0.08861662819981575 and parameters: {'window_size': 37, 'hidden_size': 64, 'num_layers': 2, 'dropout_rate': 0.46414292529898954, 'learning_rate': 0.0009685680656056572, 'batch_size': 128}. Best is trial 132 with value: 0.04116183705627918.\n",
      "[I 2025-06-23 13:32:31,248] Trial 160 finished with value: 0.04600746929645538 and parameters: {'window_size': 40, 'hidden_size': 64, 'num_layers': 2, 'dropout_rate': 0.4885212084654039, 'learning_rate': 0.001182917236913387, 'batch_size': 128}. Best is trial 132 with value: 0.04116183705627918.\n",
      "[I 2025-06-23 13:32:38,421] Trial 161 finished with value: 0.041459244675934315 and parameters: {'window_size': 40, 'hidden_size': 64, 'num_layers': 2, 'dropout_rate': 0.48887392461124846, 'learning_rate': 0.0011421964950508211, 'batch_size': 128}. Best is trial 132 with value: 0.04116183705627918.\n",
      "[I 2025-06-23 13:32:44,539] Trial 162 finished with value: 0.05800802260637283 and parameters: {'window_size': 41, 'hidden_size': 64, 'num_layers': 2, 'dropout_rate': 0.49093367825984324, 'learning_rate': 0.0011340585261437341, 'batch_size': 128}. Best is trial 132 with value: 0.04116183705627918.\n",
      "[I 2025-06-23 13:32:51,506] Trial 163 finished with value: 0.07234598323702812 and parameters: {'window_size': 39, 'hidden_size': 64, 'num_layers': 2, 'dropout_rate': 0.47221664744959, 'learning_rate': 0.0011868371964071998, 'batch_size': 128}. Best is trial 132 with value: 0.04116183705627918.\n",
      "[I 2025-06-23 13:32:59,639] Trial 164 finished with value: 0.09490966796875 and parameters: {'window_size': 29, 'hidden_size': 64, 'num_layers': 2, 'dropout_rate': 0.488171272888518, 'learning_rate': 0.0010622816042523127, 'batch_size': 128}. Best is trial 132 with value: 0.04116183705627918.\n",
      "[I 2025-06-23 13:33:07,760] Trial 165 finished with value: 0.09619612991809845 and parameters: {'window_size': 38, 'hidden_size': 64, 'num_layers': 2, 'dropout_rate': 0.49743649001482004, 'learning_rate': 0.0007210760674022441, 'batch_size': 128}. Best is trial 132 with value: 0.04116183705627918.\n",
      "[I 2025-06-23 13:33:15,308] Trial 166 finished with value: 0.052860792726278305 and parameters: {'window_size': 40, 'hidden_size': 64, 'num_layers': 2, 'dropout_rate': 0.4998932695195062, 'learning_rate': 0.0008939420583515234, 'batch_size': 128}. Best is trial 132 with value: 0.04116183705627918.\n",
      "[I 2025-06-23 13:33:21,707] Trial 167 finished with value: 0.059506744146347046 and parameters: {'window_size': 41, 'hidden_size': 64, 'num_layers': 2, 'dropout_rate': 0.4760104154839342, 'learning_rate': 0.0015740808736151408, 'batch_size': 128}. Best is trial 132 with value: 0.04116183705627918.\n",
      "[I 2025-06-23 13:33:27,721] Trial 168 finished with value: 0.058890167623758316 and parameters: {'window_size': 42, 'hidden_size': 64, 'num_layers': 2, 'dropout_rate': 0.45771351581846814, 'learning_rate': 0.0013782736316041344, 'batch_size': 128}. Best is trial 132 with value: 0.04116183705627918.\n",
      "[I 2025-06-23 13:33:35,455] Trial 169 finished with value: 0.054946308955550194 and parameters: {'window_size': 40, 'hidden_size': 64, 'num_layers': 2, 'dropout_rate': 0.48279532585377244, 'learning_rate': 0.0008416057359591903, 'batch_size': 128}. Best is trial 132 with value: 0.04116183705627918.\n",
      "[I 2025-06-23 13:33:41,928] Trial 170 finished with value: 0.09270378202199936 and parameters: {'window_size': 38, 'hidden_size': 64, 'num_layers': 2, 'dropout_rate': 0.4895415238514024, 'learning_rate': 0.0012687416644789737, 'batch_size': 128}. Best is trial 132 with value: 0.04116183705627918.\n",
      "[I 2025-06-23 13:33:49,007] Trial 171 finished with value: 0.04446438141167164 and parameters: {'window_size': 40, 'hidden_size': 64, 'num_layers': 2, 'dropout_rate': 0.48746741242967995, 'learning_rate': 0.0016713846135655206, 'batch_size': 128}. Best is trial 132 with value: 0.04116183705627918.\n",
      "[I 2025-06-23 13:33:56,125] Trial 172 finished with value: 0.07244375348091125 and parameters: {'window_size': 39, 'hidden_size': 64, 'num_layers': 2, 'dropout_rate': 0.4690643581146141, 'learning_rate': 0.0017239774292155193, 'batch_size': 128}. Best is trial 132 with value: 0.04116183705627918.\n",
      "[I 2025-06-23 13:34:03,229] Trial 173 finished with value: 0.05699581652879715 and parameters: {'window_size': 41, 'hidden_size': 64, 'num_layers': 3, 'dropout_rate': 0.4801465809238458, 'learning_rate': 0.0011838210671988789, 'batch_size': 128}. Best is trial 132 with value: 0.04116183705627918.\n",
      "[I 2025-06-23 13:34:09,948] Trial 174 finished with value: 0.04164317715913057 and parameters: {'window_size': 40, 'hidden_size': 64, 'num_layers': 2, 'dropout_rate': 0.4920702295521457, 'learning_rate': 0.0019126541079209638, 'batch_size': 128}. Best is trial 132 with value: 0.04116183705627918.\n",
      "[I 2025-06-23 13:34:18,986] Trial 175 finished with value: 0.06899833679199219 and parameters: {'window_size': 39, 'hidden_size': 64, 'num_layers': 2, 'dropout_rate': 0.48987229286362044, 'learning_rate': 0.001607142334569573, 'batch_size': 128}. Best is trial 132 with value: 0.04116183705627918.\n",
      "[I 2025-06-23 13:34:26,833] Trial 176 finished with value: 0.061271633952856064 and parameters: {'window_size': 42, 'hidden_size': 64, 'num_layers': 2, 'dropout_rate': 0.4935541737140235, 'learning_rate': 0.001996271183373013, 'batch_size': 64}. Best is trial 132 with value: 0.04116183705627918.\n",
      "[I 2025-06-23 13:34:33,093] Trial 177 finished with value: 0.05595945194363594 and parameters: {'window_size': 41, 'hidden_size': 64, 'num_layers': 2, 'dropout_rate': 0.4790018684840437, 'learning_rate': 0.001840866449979673, 'batch_size': 128}. Best is trial 132 with value: 0.04116183705627918.\n",
      "[I 2025-06-23 13:34:42,688] Trial 178 finished with value: 0.0763421282172203 and parameters: {'window_size': 36, 'hidden_size': 64, 'num_layers': 2, 'dropout_rate': 0.48627197475326545, 'learning_rate': 0.001426694363678636, 'batch_size': 128}. Best is trial 132 with value: 0.04116183705627918.\n",
      "[I 2025-06-23 13:34:48,044] Trial 179 finished with value: 0.04822435323148966 and parameters: {'window_size': 40, 'hidden_size': 64, 'num_layers': 2, 'dropout_rate': 0.4992244097293919, 'learning_rate': 0.0016726848444702043, 'batch_size': 128}. Best is trial 132 with value: 0.04116183705627918.\n",
      "[I 2025-06-23 13:34:53,837] Trial 180 finished with value: 0.06849410757422447 and parameters: {'window_size': 39, 'hidden_size': 64, 'num_layers': 2, 'dropout_rate': 0.46962636525017765, 'learning_rate': 0.002043113471954661, 'batch_size': 128}. Best is trial 132 with value: 0.04116183705627918.\n",
      "[I 2025-06-23 13:35:00,164] Trial 181 finished with value: 0.05587993375957012 and parameters: {'window_size': 40, 'hidden_size': 64, 'num_layers': 2, 'dropout_rate': 0.48523273456537835, 'learning_rate': 0.00250239100645533, 'batch_size': 128}. Best is trial 132 with value: 0.04116183705627918.\n",
      "[I 2025-06-23 13:35:06,421] Trial 182 finished with value: 0.040506161749362946 and parameters: {'window_size': 40, 'hidden_size': 64, 'num_layers': 2, 'dropout_rate': 0.4772256500030981, 'learning_rate': 0.0022084663968345987, 'batch_size': 128}. Best is trial 182 with value: 0.040506161749362946.\n",
      "[I 2025-06-23 13:35:12,403] Trial 183 finished with value: 0.05613138899207115 and parameters: {'window_size': 41, 'hidden_size': 64, 'num_layers': 2, 'dropout_rate': 0.47734122665094475, 'learning_rate': 0.002186991783719734, 'batch_size': 128}. Best is trial 182 with value: 0.040506161749362946.\n",
      "[I 2025-06-23 13:35:18,026] Trial 184 finished with value: 0.06917820125818253 and parameters: {'window_size': 39, 'hidden_size': 64, 'num_layers': 2, 'dropout_rate': 0.4922489741966054, 'learning_rate': 0.0018850280657168098, 'batch_size': 128}. Best is trial 182 with value: 0.040506161749362946.\n",
      "[I 2025-06-23 13:35:23,169] Trial 185 finished with value: 0.09499646723270416 and parameters: {'window_size': 38, 'hidden_size': 64, 'num_layers': 2, 'dropout_rate': 0.46195877521582385, 'learning_rate': 0.00234839464053237, 'batch_size': 128}. Best is trial 182 with value: 0.040506161749362946.\n",
      "[I 2025-06-23 13:35:28,841] Trial 186 finished with value: 0.0655182171612978 and parameters: {'window_size': 40, 'hidden_size': 128, 'num_layers': 2, 'dropout_rate': 0.49976654324478265, 'learning_rate': 0.0026955067513640563, 'batch_size': 128}. Best is trial 182 with value: 0.040506161749362946.\n",
      "[I 2025-06-23 13:35:35,086] Trial 187 finished with value: 0.05296671390533447 and parameters: {'window_size': 42, 'hidden_size': 64, 'num_layers': 2, 'dropout_rate': 0.4738896033946513, 'learning_rate': 0.0010829586535046865, 'batch_size': 128}. Best is trial 182 with value: 0.040506161749362946.\n",
      "[I 2025-06-23 13:35:40,270] Trial 188 finished with value: 0.06361564993858337 and parameters: {'window_size': 41, 'hidden_size': 64, 'num_layers': 2, 'dropout_rate': 0.4843844117454352, 'learning_rate': 0.0017249419267922662, 'batch_size': 128}. Best is trial 182 with value: 0.040506161749362946.\n",
      "[I 2025-06-23 13:35:45,412] Trial 189 finished with value: 0.10655889846384525 and parameters: {'window_size': 14, 'hidden_size': 64, 'num_layers': 2, 'dropout_rate': 0.49110820651008147, 'learning_rate': 0.002111292296716683, 'batch_size': 128}. Best is trial 182 with value: 0.040506161749362946.\n",
      "[I 2025-06-23 13:35:52,870] Trial 190 finished with value: 0.0707730632275343 and parameters: {'window_size': 39, 'hidden_size': 64, 'num_layers': 2, 'dropout_rate': 0.46739267721846567, 'learning_rate': 0.0009232855071556637, 'batch_size': 128}. Best is trial 182 with value: 0.040506161749362946.\n",
      "[I 2025-06-23 13:36:02,337] Trial 191 finished with value: 0.0450245663523674 and parameters: {'window_size': 40, 'hidden_size': 64, 'num_layers': 2, 'dropout_rate': 0.4802476610805719, 'learning_rate': 0.0029265863803025036, 'batch_size': 128}. Best is trial 182 with value: 0.040506161749362946.\n",
      "[I 2025-06-23 13:36:12,635] Trial 192 finished with value: 0.0471855103969574 and parameters: {'window_size': 40, 'hidden_size': 64, 'num_layers': 2, 'dropout_rate': 0.4807381561714608, 'learning_rate': 0.0023278639145115805, 'batch_size': 128}. Best is trial 182 with value: 0.040506161749362946.\n",
      "[I 2025-06-23 13:36:18,527] Trial 193 finished with value: 0.0601315051317215 and parameters: {'window_size': 41, 'hidden_size': 64, 'num_layers': 2, 'dropout_rate': 0.48633949710527663, 'learning_rate': 0.0028870247587723433, 'batch_size': 128}. Best is trial 182 with value: 0.040506161749362946.\n",
      "[I 2025-06-23 13:36:24,634] Trial 194 finished with value: 0.04389521013945341 and parameters: {'window_size': 40, 'hidden_size': 64, 'num_layers': 2, 'dropout_rate': 0.47412123043014154, 'learning_rate': 0.001984203913452677, 'batch_size': 128}. Best is trial 182 with value: 0.040506161749362946.\n",
      "[I 2025-06-23 13:36:31,008] Trial 195 finished with value: 0.06873553991317749 and parameters: {'window_size': 39, 'hidden_size': 64, 'num_layers': 2, 'dropout_rate': 0.4749929389236637, 'learning_rate': 0.001889355486811555, 'batch_size': 128}. Best is trial 182 with value: 0.040506161749362946.\n",
      "[I 2025-06-23 13:36:37,542] Trial 196 finished with value: 0.05038582161068916 and parameters: {'window_size': 42, 'hidden_size': 64, 'num_layers': 2, 'dropout_rate': 0.45828111434175844, 'learning_rate': 0.002544637212997354, 'batch_size': 128}. Best is trial 182 with value: 0.040506161749362946.\n",
      "[I 2025-06-23 13:36:44,654] Trial 197 finished with value: 0.055841026827692986 and parameters: {'window_size': 40, 'hidden_size': 64, 'num_layers': 2, 'dropout_rate': 0.47096584552582244, 'learning_rate': 0.0020123963953276123, 'batch_size': 128}. Best is trial 182 with value: 0.040506161749362946.\n",
      "[I 2025-06-23 13:36:51,420] Trial 198 finished with value: 0.0984267145395279 and parameters: {'window_size': 38, 'hidden_size': 64, 'num_layers': 2, 'dropout_rate': 0.4795830899937195, 'learning_rate': 0.0016252946018452728, 'batch_size': 128}. Best is trial 182 with value: 0.040506161749362946.\n",
      "[I 2025-06-23 13:36:57,744] Trial 199 finished with value: 0.08844956755638123 and parameters: {'window_size': 37, 'hidden_size': 64, 'num_layers': 2, 'dropout_rate': 0.4935223156829214, 'learning_rate': 0.002210084421115941, 'batch_size': 128}. Best is trial 182 with value: 0.040506161749362946.\n",
      "\n",
      "Mejores hiperparámetros encontrados:\n",
      "{'window_size': 40, 'hidden_size': 64, 'num_layers': 2, 'dropout_rate': 0.4772256500030981, 'learning_rate': 0.0022084663968345987, 'batch_size': 128}\n",
      "\n",
      "Mejor MSE en validación: 0.0405\n",
      "\n",
      "### Entrenando modelo final con datos combinados ###\n",
      "Época 10/200, Pérdida: 0.2777\n",
      "Época 20/200, Pérdida: 0.2404\n",
      "Época 30/200, Pérdida: 0.2101\n",
      "Época 40/200, Pérdida: 0.1782\n",
      "Época 50/200, Pérdida: 0.1653\n",
      "Época 60/200, Pérdida: 0.1544\n",
      "Época 70/200, Pérdida: 0.1449\n",
      "Época 80/200, Pérdida: 0.1341\n",
      "Época 90/200, Pérdida: 0.1309\n",
      "Época 100/200, Pérdida: 0.1218\n",
      "Época 110/200, Pérdida: 0.1142\n",
      "Época 120/200, Pérdida: 0.1079\n",
      "Época 130/200, Pérdida: 0.1069\n",
      "Época 140/200, Pérdida: 0.1041\n",
      "Época 150/200, Pérdida: 0.0967\n",
      "Época 160/200, Pérdida: 0.0915\n",
      "Época 170/200, Pérdida: 0.0898\n",
      "Época 180/200, Pérdida: 0.0823\n",
      "Época 190/200, Pérdida: 0.0840\n",
      "Época 200/200, Pérdida: 0.0810\n"
     ]
    },
    {
     "data": {
      "application/vnd.plotly.v1+json": {
       "config": {
        "plotlyServerURL": "https://plot.ly"
       },
       "data": [
        {
         "mode": "lines",
         "name": "Pérdida de Entrenamiento",
         "type": "scatter",
         "x": [
          1,
          2,
          3,
          4,
          5,
          6,
          7,
          8,
          9,
          10,
          11,
          12,
          13,
          14,
          15,
          16,
          17,
          18,
          19,
          20,
          21,
          22,
          23,
          24,
          25,
          26,
          27,
          28,
          29,
          30,
          31,
          32,
          33,
          34,
          35,
          36,
          37,
          38,
          39,
          40,
          41,
          42,
          43,
          44,
          45,
          46,
          47,
          48,
          49,
          50,
          51,
          52,
          53,
          54,
          55,
          56,
          57,
          58,
          59,
          60,
          61,
          62,
          63,
          64,
          65,
          66,
          67,
          68,
          69,
          70,
          71,
          72,
          73,
          74,
          75,
          76,
          77,
          78,
          79,
          80,
          81,
          82,
          83,
          84,
          85,
          86,
          87,
          88,
          89,
          90,
          91,
          92,
          93,
          94,
          95,
          96,
          97,
          98,
          99,
          100,
          101,
          102,
          103,
          104,
          105,
          106,
          107,
          108,
          109,
          110,
          111,
          112,
          113,
          114,
          115,
          116,
          117,
          118,
          119,
          120,
          121,
          122,
          123,
          124,
          125,
          126,
          127,
          128,
          129,
          130,
          131,
          132,
          133,
          134,
          135,
          136,
          137,
          138,
          139,
          140,
          141,
          142,
          143,
          144,
          145,
          146,
          147,
          148,
          149,
          150,
          151,
          152,
          153,
          154,
          155,
          156,
          157,
          158,
          159,
          160,
          161,
          162,
          163,
          164,
          165,
          166,
          167,
          168,
          169,
          170,
          171,
          172,
          173,
          174,
          175,
          176,
          177,
          178,
          179,
          180,
          181,
          182,
          183,
          184,
          185,
          186,
          187,
          188,
          189,
          190,
          191,
          192,
          193,
          194,
          195,
          196,
          197,
          198,
          199,
          200
         ],
         "y": [
          0.4773742613884119,
          0.3339839680836751,
          0.32398482182851207,
          0.30657109962059903,
          0.30215323773714214,
          0.29244662821292877,
          0.29117224709345746,
          0.2922391587725052,
          0.2835825842160445,
          0.2777010861497659,
          0.27113633430921114,
          0.2681042385789064,
          0.2672736836740604,
          0.2639650054849111,
          0.2527036598095527,
          0.2604563826551804,
          0.2558200857960261,
          0.24438975321558806,
          0.24410877835292083,
          0.24039879269324815,
          0.22390661159387001,
          0.2471797288610385,
          0.23876555837117708,
          0.2193120844089068,
          0.22314626551591432,
          0.214980165545757,
          0.22256390406535223,
          0.21535085886716843,
          0.21073842908327395,
          0.21011321590496942,
          0.20657958663426912,
          0.19957700887551674,
          0.18665621773554728,
          0.19914229558064386,
          0.192176372385942,
          0.1804546622129587,
          0.190413433771867,
          0.18926029480420625,
          0.18835741338821557,
          0.1781813705769869,
          0.18280262156174734,
          0.17150179038827235,
          0.17880344562805617,
          0.17554692551493645,
          0.17485795972438958,
          0.17037366617184418,
          0.17591830142415488,
          0.1759960399224208,
          0.1722377438384753,
          0.16532568060434782,
          0.17438011100659004,
          0.1610838661973293,
          0.15976630953642038,
          0.1586264818906784,
          0.16069967528948417,
          0.1564295062652001,
          0.1551352424117235,
          0.16007241893273133,
          0.15420198297271362,
          0.15441952215937468,
          0.14980916707561567,
          0.14719667514929405,
          0.1489522010087967,
          0.14435758699591345,
          0.14822751770798975,
          0.14363312119474778,
          0.147658255810921,
          0.14347166052231422,
          0.1467164849432615,
          0.14494754603275886,
          0.14562018903402182,
          0.14548127152598822,
          0.13733259760416472,
          0.14223922617160356,
          0.14073034433218148,
          0.13543479345165765,
          0.14121906230082878,
          0.13270271196961403,
          0.13581586113342872,
          0.1340619557752059,
          0.13249563626371896,
          0.13030442968010902,
          0.13468824527584589,
          0.1357229003826013,
          0.13374683490166298,
          0.12944336550740096,
          0.1294014393710173,
          0.1264063105560266,
          0.13211756400190866,
          0.13094595733743447,
          0.13055583977928528,
          0.12255637605602925,
          0.12662444406977066,
          0.13567023208508125,
          0.12559223375641382,
          0.12679819934643233,
          0.1236673415853427,
          0.11914716718288568,
          0.12042128523954979,
          0.12182834056707528,
          0.12519704263943893,
          0.12651395339232224,
          0.11665787089329499,
          0.11740273638413502,
          0.12066576916437882,
          0.12393390244016281,
          0.12374986994725007,
          0.11321977382669082,
          0.11445381922217515,
          0.11424971973666778,
          0.11223694452872643,
          0.11619802736319028,
          0.11439779515449817,
          0.11039832005133995,
          0.10904721772441497,
          0.1174378117116598,
          0.11728407843754841,
          0.10837661446287082,
          0.10483307477373344,
          0.10789808029165635,
          0.10840426700619551,
          0.10949876331366025,
          0.11320998405034725,
          0.10617875021237594,
          0.10775460847295247,
          0.10671908121842605,
          0.1096275497514468,
          0.11312335041853097,
          0.10858046521361057,
          0.10685842283643208,
          0.10004092924869977,
          0.10402397582164177,
          0.10541705328684586,
          0.10646647616074635,
          0.10256302614624684,
          0.11155968574950328,
          0.10608440207747313,
          0.10488504285995777,
          0.10087193004213847,
          0.10413511785177085,
          0.09940980947934665,
          0.09727975840751941,
          0.1022276021540165,
          0.10015891406398553,
          0.10923956119670318,
          0.10172487394167827,
          0.09576564597395751,
          0.1011448367857016,
          0.10207164717408326,
          0.09671293972776486,
          0.09655617693295845,
          0.09377770584363204,
          0.08969672339466903,
          0.0956162056670739,
          0.09112896741582797,
          0.1008957982636415,
          0.08792778047231528,
          0.09865550754161981,
          0.09675111535650033,
          0.09147087198037368,
          0.09128658645428143,
          0.09162188392992203,
          0.09386214413321935,
          0.09527928066941407,
          0.09273342043161392,
          0.09241799551707047,
          0.09293636335776402,
          0.09186642702955466,
          0.09184233901592401,
          0.08983123445740113,
          0.08665179848097838,
          0.08945696342449921,
          0.08983045544188756,
          0.08603153033898427,
          0.08778021857142448,
          0.08785545424773143,
          0.08897826820611954,
          0.08703776033451924,
          0.08515480547570266,
          0.08225383695501548,
          0.0914094837812277,
          0.08972517716196868,
          0.09211078013938206,
          0.08531725922456154,
          0.08486766611727384,
          0.0864506855320472,
          0.08045441915209477,
          0.0810728411261852,
          0.08619148212556656,
          0.08396439884717648,
          0.0834248664860542,
          0.0818993874753897,
          0.08150261353987914,
          0.07949670705084617,
          0.08503427284841354,
          0.0821684103172559,
          0.08313140416374573,
          0.08210949270197979,
          0.07884080134905301,
          0.08102286578370975
         ]
        }
       ],
       "layout": {
        "template": {
         "data": {
          "bar": [
           {
            "error_x": {
             "color": "#2a3f5f"
            },
            "error_y": {
             "color": "#2a3f5f"
            },
            "marker": {
             "line": {
              "color": "#E5ECF6",
              "width": 0.5
             },
             "pattern": {
              "fillmode": "overlay",
              "size": 10,
              "solidity": 0.2
             }
            },
            "type": "bar"
           }
          ],
          "barpolar": [
           {
            "marker": {
             "line": {
              "color": "#E5ECF6",
              "width": 0.5
             },
             "pattern": {
              "fillmode": "overlay",
              "size": 10,
              "solidity": 0.2
             }
            },
            "type": "barpolar"
           }
          ],
          "carpet": [
           {
            "aaxis": {
             "endlinecolor": "#2a3f5f",
             "gridcolor": "white",
             "linecolor": "white",
             "minorgridcolor": "white",
             "startlinecolor": "#2a3f5f"
            },
            "baxis": {
             "endlinecolor": "#2a3f5f",
             "gridcolor": "white",
             "linecolor": "white",
             "minorgridcolor": "white",
             "startlinecolor": "#2a3f5f"
            },
            "type": "carpet"
           }
          ],
          "choropleth": [
           {
            "colorbar": {
             "outlinewidth": 0,
             "ticks": ""
            },
            "type": "choropleth"
           }
          ],
          "contour": [
           {
            "colorbar": {
             "outlinewidth": 0,
             "ticks": ""
            },
            "colorscale": [
             [
              0,
              "#0d0887"
             ],
             [
              0.1111111111111111,
              "#46039f"
             ],
             [
              0.2222222222222222,
              "#7201a8"
             ],
             [
              0.3333333333333333,
              "#9c179e"
             ],
             [
              0.4444444444444444,
              "#bd3786"
             ],
             [
              0.5555555555555556,
              "#d8576b"
             ],
             [
              0.6666666666666666,
              "#ed7953"
             ],
             [
              0.7777777777777778,
              "#fb9f3a"
             ],
             [
              0.8888888888888888,
              "#fdca26"
             ],
             [
              1,
              "#f0f921"
             ]
            ],
            "type": "contour"
           }
          ],
          "contourcarpet": [
           {
            "colorbar": {
             "outlinewidth": 0,
             "ticks": ""
            },
            "type": "contourcarpet"
           }
          ],
          "heatmap": [
           {
            "colorbar": {
             "outlinewidth": 0,
             "ticks": ""
            },
            "colorscale": [
             [
              0,
              "#0d0887"
             ],
             [
              0.1111111111111111,
              "#46039f"
             ],
             [
              0.2222222222222222,
              "#7201a8"
             ],
             [
              0.3333333333333333,
              "#9c179e"
             ],
             [
              0.4444444444444444,
              "#bd3786"
             ],
             [
              0.5555555555555556,
              "#d8576b"
             ],
             [
              0.6666666666666666,
              "#ed7953"
             ],
             [
              0.7777777777777778,
              "#fb9f3a"
             ],
             [
              0.8888888888888888,
              "#fdca26"
             ],
             [
              1,
              "#f0f921"
             ]
            ],
            "type": "heatmap"
           }
          ],
          "histogram": [
           {
            "marker": {
             "pattern": {
              "fillmode": "overlay",
              "size": 10,
              "solidity": 0.2
             }
            },
            "type": "histogram"
           }
          ],
          "histogram2d": [
           {
            "colorbar": {
             "outlinewidth": 0,
             "ticks": ""
            },
            "colorscale": [
             [
              0,
              "#0d0887"
             ],
             [
              0.1111111111111111,
              "#46039f"
             ],
             [
              0.2222222222222222,
              "#7201a8"
             ],
             [
              0.3333333333333333,
              "#9c179e"
             ],
             [
              0.4444444444444444,
              "#bd3786"
             ],
             [
              0.5555555555555556,
              "#d8576b"
             ],
             [
              0.6666666666666666,
              "#ed7953"
             ],
             [
              0.7777777777777778,
              "#fb9f3a"
             ],
             [
              0.8888888888888888,
              "#fdca26"
             ],
             [
              1,
              "#f0f921"
             ]
            ],
            "type": "histogram2d"
           }
          ],
          "histogram2dcontour": [
           {
            "colorbar": {
             "outlinewidth": 0,
             "ticks": ""
            },
            "colorscale": [
             [
              0,
              "#0d0887"
             ],
             [
              0.1111111111111111,
              "#46039f"
             ],
             [
              0.2222222222222222,
              "#7201a8"
             ],
             [
              0.3333333333333333,
              "#9c179e"
             ],
             [
              0.4444444444444444,
              "#bd3786"
             ],
             [
              0.5555555555555556,
              "#d8576b"
             ],
             [
              0.6666666666666666,
              "#ed7953"
             ],
             [
              0.7777777777777778,
              "#fb9f3a"
             ],
             [
              0.8888888888888888,
              "#fdca26"
             ],
             [
              1,
              "#f0f921"
             ]
            ],
            "type": "histogram2dcontour"
           }
          ],
          "mesh3d": [
           {
            "colorbar": {
             "outlinewidth": 0,
             "ticks": ""
            },
            "type": "mesh3d"
           }
          ],
          "parcoords": [
           {
            "line": {
             "colorbar": {
              "outlinewidth": 0,
              "ticks": ""
             }
            },
            "type": "parcoords"
           }
          ],
          "pie": [
           {
            "automargin": true,
            "type": "pie"
           }
          ],
          "scatter": [
           {
            "fillpattern": {
             "fillmode": "overlay",
             "size": 10,
             "solidity": 0.2
            },
            "type": "scatter"
           }
          ],
          "scatter3d": [
           {
            "line": {
             "colorbar": {
              "outlinewidth": 0,
              "ticks": ""
             }
            },
            "marker": {
             "colorbar": {
              "outlinewidth": 0,
              "ticks": ""
             }
            },
            "type": "scatter3d"
           }
          ],
          "scattercarpet": [
           {
            "marker": {
             "colorbar": {
              "outlinewidth": 0,
              "ticks": ""
             }
            },
            "type": "scattercarpet"
           }
          ],
          "scattergeo": [
           {
            "marker": {
             "colorbar": {
              "outlinewidth": 0,
              "ticks": ""
             }
            },
            "type": "scattergeo"
           }
          ],
          "scattergl": [
           {
            "marker": {
             "colorbar": {
              "outlinewidth": 0,
              "ticks": ""
             }
            },
            "type": "scattergl"
           }
          ],
          "scattermap": [
           {
            "marker": {
             "colorbar": {
              "outlinewidth": 0,
              "ticks": ""
             }
            },
            "type": "scattermap"
           }
          ],
          "scattermapbox": [
           {
            "marker": {
             "colorbar": {
              "outlinewidth": 0,
              "ticks": ""
             }
            },
            "type": "scattermapbox"
           }
          ],
          "scatterpolar": [
           {
            "marker": {
             "colorbar": {
              "outlinewidth": 0,
              "ticks": ""
             }
            },
            "type": "scatterpolar"
           }
          ],
          "scatterpolargl": [
           {
            "marker": {
             "colorbar": {
              "outlinewidth": 0,
              "ticks": ""
             }
            },
            "type": "scatterpolargl"
           }
          ],
          "scatterternary": [
           {
            "marker": {
             "colorbar": {
              "outlinewidth": 0,
              "ticks": ""
             }
            },
            "type": "scatterternary"
           }
          ],
          "surface": [
           {
            "colorbar": {
             "outlinewidth": 0,
             "ticks": ""
            },
            "colorscale": [
             [
              0,
              "#0d0887"
             ],
             [
              0.1111111111111111,
              "#46039f"
             ],
             [
              0.2222222222222222,
              "#7201a8"
             ],
             [
              0.3333333333333333,
              "#9c179e"
             ],
             [
              0.4444444444444444,
              "#bd3786"
             ],
             [
              0.5555555555555556,
              "#d8576b"
             ],
             [
              0.6666666666666666,
              "#ed7953"
             ],
             [
              0.7777777777777778,
              "#fb9f3a"
             ],
             [
              0.8888888888888888,
              "#fdca26"
             ],
             [
              1,
              "#f0f921"
             ]
            ],
            "type": "surface"
           }
          ],
          "table": [
           {
            "cells": {
             "fill": {
              "color": "#EBF0F8"
             },
             "line": {
              "color": "white"
             }
            },
            "header": {
             "fill": {
              "color": "#C8D4E3"
             },
             "line": {
              "color": "white"
             }
            },
            "type": "table"
           }
          ]
         },
         "layout": {
          "annotationdefaults": {
           "arrowcolor": "#2a3f5f",
           "arrowhead": 0,
           "arrowwidth": 1
          },
          "autotypenumbers": "strict",
          "coloraxis": {
           "colorbar": {
            "outlinewidth": 0,
            "ticks": ""
           }
          },
          "colorscale": {
           "diverging": [
            [
             0,
             "#8e0152"
            ],
            [
             0.1,
             "#c51b7d"
            ],
            [
             0.2,
             "#de77ae"
            ],
            [
             0.3,
             "#f1b6da"
            ],
            [
             0.4,
             "#fde0ef"
            ],
            [
             0.5,
             "#f7f7f7"
            ],
            [
             0.6,
             "#e6f5d0"
            ],
            [
             0.7,
             "#b8e186"
            ],
            [
             0.8,
             "#7fbc41"
            ],
            [
             0.9,
             "#4d9221"
            ],
            [
             1,
             "#276419"
            ]
           ],
           "sequential": [
            [
             0,
             "#0d0887"
            ],
            [
             0.1111111111111111,
             "#46039f"
            ],
            [
             0.2222222222222222,
             "#7201a8"
            ],
            [
             0.3333333333333333,
             "#9c179e"
            ],
            [
             0.4444444444444444,
             "#bd3786"
            ],
            [
             0.5555555555555556,
             "#d8576b"
            ],
            [
             0.6666666666666666,
             "#ed7953"
            ],
            [
             0.7777777777777778,
             "#fb9f3a"
            ],
            [
             0.8888888888888888,
             "#fdca26"
            ],
            [
             1,
             "#f0f921"
            ]
           ],
           "sequentialminus": [
            [
             0,
             "#0d0887"
            ],
            [
             0.1111111111111111,
             "#46039f"
            ],
            [
             0.2222222222222222,
             "#7201a8"
            ],
            [
             0.3333333333333333,
             "#9c179e"
            ],
            [
             0.4444444444444444,
             "#bd3786"
            ],
            [
             0.5555555555555556,
             "#d8576b"
            ],
            [
             0.6666666666666666,
             "#ed7953"
            ],
            [
             0.7777777777777778,
             "#fb9f3a"
            ],
            [
             0.8888888888888888,
             "#fdca26"
            ],
            [
             1,
             "#f0f921"
            ]
           ]
          },
          "colorway": [
           "#636efa",
           "#EF553B",
           "#00cc96",
           "#ab63fa",
           "#FFA15A",
           "#19d3f3",
           "#FF6692",
           "#B6E880",
           "#FF97FF",
           "#FECB52"
          ],
          "font": {
           "color": "#2a3f5f"
          },
          "geo": {
           "bgcolor": "white",
           "lakecolor": "white",
           "landcolor": "#E5ECF6",
           "showlakes": true,
           "showland": true,
           "subunitcolor": "white"
          },
          "hoverlabel": {
           "align": "left"
          },
          "hovermode": "closest",
          "mapbox": {
           "style": "light"
          },
          "paper_bgcolor": "white",
          "plot_bgcolor": "#E5ECF6",
          "polar": {
           "angularaxis": {
            "gridcolor": "white",
            "linecolor": "white",
            "ticks": ""
           },
           "bgcolor": "#E5ECF6",
           "radialaxis": {
            "gridcolor": "white",
            "linecolor": "white",
            "ticks": ""
           }
          },
          "scene": {
           "xaxis": {
            "backgroundcolor": "#E5ECF6",
            "gridcolor": "white",
            "gridwidth": 2,
            "linecolor": "white",
            "showbackground": true,
            "ticks": "",
            "zerolinecolor": "white"
           },
           "yaxis": {
            "backgroundcolor": "#E5ECF6",
            "gridcolor": "white",
            "gridwidth": 2,
            "linecolor": "white",
            "showbackground": true,
            "ticks": "",
            "zerolinecolor": "white"
           },
           "zaxis": {
            "backgroundcolor": "#E5ECF6",
            "gridcolor": "white",
            "gridwidth": 2,
            "linecolor": "white",
            "showbackground": true,
            "ticks": "",
            "zerolinecolor": "white"
           }
          },
          "shapedefaults": {
           "line": {
            "color": "#2a3f5f"
           }
          },
          "ternary": {
           "aaxis": {
            "gridcolor": "white",
            "linecolor": "white",
            "ticks": ""
           },
           "baxis": {
            "gridcolor": "white",
            "linecolor": "white",
            "ticks": ""
           },
           "bgcolor": "#E5ECF6",
           "caxis": {
            "gridcolor": "white",
            "linecolor": "white",
            "ticks": ""
           }
          },
          "title": {
           "x": 0.05
          },
          "xaxis": {
           "automargin": true,
           "gridcolor": "white",
           "linecolor": "white",
           "ticks": "",
           "title": {
            "standoff": 15
           },
           "zerolinecolor": "white",
           "zerolinewidth": 2
          },
          "yaxis": {
           "automargin": true,
           "gridcolor": "white",
           "linecolor": "white",
           "ticks": "",
           "title": {
            "standoff": 15
           },
           "zerolinecolor": "white",
           "zerolinewidth": 2
          }
         }
        },
        "title": {
         "text": "Curva de Pérdida durante el Entrenamiento"
        },
        "xaxis": {
         "title": {
          "text": "Época"
         }
        },
        "yaxis": {
         "title": {
          "text": "MSE"
         }
        }
       }
      }
     },
     "metadata": {},
     "output_type": "display_data"
    },
    {
     "name": "stdout",
     "output_type": "stream",
     "text": [
      "\n",
      "### Generando pronósticos para 2022 ###\n",
      "\n",
      "Pronósticos generados: 520 registros\n",
      "\n",
      "Estadísticas de pronósticos:\n",
      "count    520.000000\n",
      "mean       1.386400\n",
      "std        0.542368\n",
      "min        0.000000\n",
      "25%        0.960718\n",
      "50%        1.358620\n",
      "75%        1.680529\n",
      "max        3.910512\n",
      "Name: dengue, dtype: float64\n",
      "\n",
      "Primeras filas del archivo de salida:\n",
      "          id  dengue\n",
      "0  4_2022_01    0.39\n",
      "1  4_2022_02    0.67\n",
      "2  4_2022_03    1.20\n",
      "3  4_2022_04    2.07\n",
      "4  4_2022_05    2.64\n",
      "5  4_2022_06    2.57\n",
      "6  4_2022_07    2.23\n",
      "7  4_2022_08    1.97\n",
      "8  4_2022_09    1.99\n",
      "9  4_2022_10    1.96\n",
      "\n",
      "Total de registros: 520\n",
      "\n",
      "Archivo 'pronosticos_dengue_2022.csv' guardado exitosamente.\n"
     ]
    },
    {
     "data": {
      "application/vnd.plotly.v1+json": {
       "config": {
        "plotlyServerURL": "https://plot.ly"
       },
       "data": [
        {
         "mode": "lines+markers",
         "name": "Barrio 4",
         "type": "scatter",
         "x": {
          "bdata": "AQIDBAUGBwgJCgsMDQ4PEBESExQVFhcYGRobHB0eHyAhIiMkJSYnKCkqKywtLi8wMTIzNA==",
          "dtype": "i1"
         },
         "y": {
          "bdata": "6CY+Msf52D9cLF7mVnDlP6LhYQ/zL/M/yOwW/8qFAECEQfSqDCAFQGpTfYXFigRA27gfT43bAUCpsYWNlIH/P8DJ3oOsy/8/+l6MLvZU/z+ANN6fbGX+P7WpM7FQM/0/qBG6jo0I+z/bDuKpeg/6P8ZYbUExsfc/tMnCLx1W9j+SX7uRkEH1Pyego2Ny8fM/8VMDuxbv8D+efyn3D5PyPw3mcMtgePU/yhx49gNZ9j85mgIT8THzP45jIzlqV/A/Nub/f1BJ8D+GVryWmJ3xP+diFQnIAvM//xVBUDKW9D/R4SZ91NzwP7oRsltafO0/Oot2ve7D7z/Fat7RqqXwP8YMggNjnu4/AqoFTU9P7D80JvSe6vjrPxSKo2Wjgus/4F5pezuJ7D+yDQrXMgXuP3IO13ooC+4/WPw41eWh7D8yorsacvzsP1Sm93xE+Ow/Hulv7IBZ7D/cdE64e9DrP8L9HM7sV+w/WlrpqkiN7T8ukv53kFnuPxYT9NqKSu4/9jNkbUyc7T/OAifKMOrsPybLNtUicOw/KmBpku4+7D8=",
          "dtype": "f8"
         }
        },
        {
         "mode": "lines+markers",
         "name": "Barrio 5",
         "type": "scatter",
         "x": {
          "bdata": "AQIDBAUGBwgJCgsMDQ4PEBESExQVFhcYGRobHB0eHyAhIiMkJSYnKCkqKywtLi8wMTIzNA==",
          "dtype": "i1"
         },
         "y": {
          "bdata": "1sN+KG9y6z+c/MWcNUznP9il2WrXQ+w/pKhlOvv89z/X2Eg7XyYEQCSLunICEwhAHG03zaTfA0DmIerEFKf8P2ruIrhVkPY/M9kmTvF79T/LuEEx0Wj1PyYZs+lhr/U/ygSTKEUx9T+eG24/2ef0P0gWA0Uxj/Q/SlqjCwN/8z+ge/8JAULyPwRy5kAVOvE/aKXddORL8j/d99H7/QbyP/uHDDJJ7vA//m4oxzdr8D/b+zC9vNDyP+fh/66JyvE/uhWEdz327z/CjSy2VLvvP8bRP2Sgvu4/aHGmtpAd7T/Mn0IteNzuP+gHK2p2Ee8/oJmB5MfY8D+6+t0BIsruP5KFc3+uO+8/yFTIUIKx7j+eHEZjoEXuPwqUi7dbI+0/uogJFUfd7D91UCBhNjrwPy6syMB/Je8/wLDql55s6z/gn2LLvE3rP0D13USNies/pq96AHIk7D8w+QwCWLjsP84FFJR4qOw/tCX5b07c6z9CHlMwlfXqP+bMzkCoguo/MNkZrXKB6j/gCP2M8bLqP4w0DcVK3eo/Mn7b7Frl6j8=",
          "dtype": "f8"
         }
        },
        {
         "mode": "lines+markers",
         "name": "Barrio 3",
         "type": "scatter",
         "x": {
          "bdata": "AQIDBAUGBwgJCgsMDQ4PEBESExQVFhcYGRobHB0eHyAhIiMkJSYnKCkqKywtLi8wMTIzNA==",
          "dtype": "i1"
         },
         "y": {
          "bdata": "KFi+IqIn3T/krQV4vanuPzQ3EpC9ZAVAbMrNqrpID0Ayvz5NjKwHQFCViTRVQABAuBkKC4eT+z8e90W++hn8P2QzvHhbQAFAaU35ADggBECmnlIuC50EQISmL8a5VwNA7YScSQbgAkBDx2yMovMBQCL3yecHGQFAoVlvpGkfAUCeA26vnQ4BQFZI1And7QBAFk/rMMuGAEDmSQ0z07D/P3jX98HUngBA7m+uEXj7AECXBUe/xND/P3QMMQyD6/0/9U7lqV/y/j8CT8f5tQ//P0nFjPT3z/4/vmJ4XA8j/T98TkS9c538P1YSHbvb1Ps/OG1GvgXK/z8eUmPkBiYAQNLPFbCyY/8/qxgokpuN/j8CWaNNT5/4P0zcQe2ayfQ/HB6yv768/T8mKvsO2eL6P8UtMh6zPPk/Ce0YIamp+D+AZEa13J73P/vizX7e1vs/KnGwBxyI/D9sP0I6gPj4P0V99RK9XfY/EjIK+vpg9j+4Be+/fhf4P/p1z+k85fo/zNuCEkMD/j/45J987Qz+P8fOnMJeCPw/+RJNz2GX+j8=",
          "dtype": "f8"
         }
        },
        {
         "mode": "lines+markers",
         "name": "Barrio 8",
         "type": "scatter",
         "x": {
          "bdata": "AQIDBAUGBwgJCgsMDQ4PEBESExQVFhcYGRobHB0eHyAhIiMkJSYnKCkqKywtLi8wMTIzNA==",
          "dtype": "i1"
         },
         "y": {
          "bdata": "QPsqoqy1xj84dirIEI3YP9Ah6BOau+A/9GHklIys8D9C63aRxxH5P3Sxcpgl7gBAYAYyv6KZAEBadC1R6rP8P7GKw19/hfk/JB9lbscK9z98WU4fQ2r0P1xIIf/fRfM/WmNdWfHj8T+5+UxK6u/wP9hYhEdcKvA/2GlrgJTB7z8K/CXdUAPuP4ta6IGBQvA/Mk7XuSKa8T9XmaCsDkTwPwxJNTDOVu4/kmUEBDXP7T9sYTqK77zuP0YnWfkiy+0/F4Sq96dw8j8ROvpW/8TyP9UTpkQrt/Q/Dx5CVMUy8z/J36BtD7T0P4EpUJRXBfQ/tlwdUeme9T/5rI+lG1TxP77oEcD+HO8/Mm2SIfZd6z8ekZocRbHrP4ZThP5cg+o/SgKvj7406z8gT3ZB3GTnP/S0X1cq7OY/GJgkfMHE4z+wuRnu/JjjP6So1vFAGeQ/FLBPnXd/5D9kdIsBV9TkP5jVpy6WNOU/AIthsxC25T88A+E2PULmP8z095DsLuc/aFCi7SRx6D9C3gHF0qXpP4zm4zHXjuo/ANyijMko6z8=",
          "dtype": "f8"
         }
        },
        {
         "mode": "lines+markers",
         "name": "Barrio 9",
         "type": "scatter",
         "x": {
          "bdata": "AQIDBAUGBwgJCgsMDQ4PEBESExQVFhcYGRobHB0eHyAhIiMkJSYnKCkqKywtLi8wMTIzNA==",
          "dtype": "i1"
         },
         "y": {
          "bdata": "AAAAAAAAAAAAAAAAAAAAAKB37R31Vb0/2B3bgsG03z8OuTes73DsPwge7LErZ/U/oAUeQaG++D/Iqdzhr1v2PyvBPw+uY/Q/w+uW1WSn8T9cf+nGlR/wPwonZYY6re8/ggkbGeea8D8IeD1t0LLwPzEONkq3zvA/jfg5x0/58T9VxzG28drxP+B7P1QmfPE/hKukKeLq8D/sI1sDfQ3wPxmS7FQOxPA/q8WsCYAb8T+HvSLY4AzxP0P3AMkrMvA/f4nTDbd68T8+V/H+vgfxP/xfoJRFxvA/zAc/WERJ8T8EjJFGSmrxP9o3kcnhCvE/rKBMeX5N8T/F5+yuAIjwP2SWulWqCO8/KkdGiNCT7j/sync26sruPwDEbRNhW+8/Gpk94nPe7z9mbTR4sOXuPxbDYfN6je0/4sdTtMMG7T8w56n2/DXtP/CgMFy9Su0/7P1kifdB7T9Q/p+4/R/tP4J6dNmM8Ow/Vpl4p0C57D8OqCz0VITsP45dt/esXuw/khItm1xD7D/yZS3PsS/sP0R2VZRTHuw/tLATShgM7D8=",
          "dtype": "f8"
         }
        }
       ],
       "layout": {
        "hovermode": "x unified",
        "template": {
         "data": {
          "bar": [
           {
            "error_x": {
             "color": "#2a3f5f"
            },
            "error_y": {
             "color": "#2a3f5f"
            },
            "marker": {
             "line": {
              "color": "#E5ECF6",
              "width": 0.5
             },
             "pattern": {
              "fillmode": "overlay",
              "size": 10,
              "solidity": 0.2
             }
            },
            "type": "bar"
           }
          ],
          "barpolar": [
           {
            "marker": {
             "line": {
              "color": "#E5ECF6",
              "width": 0.5
             },
             "pattern": {
              "fillmode": "overlay",
              "size": 10,
              "solidity": 0.2
             }
            },
            "type": "barpolar"
           }
          ],
          "carpet": [
           {
            "aaxis": {
             "endlinecolor": "#2a3f5f",
             "gridcolor": "white",
             "linecolor": "white",
             "minorgridcolor": "white",
             "startlinecolor": "#2a3f5f"
            },
            "baxis": {
             "endlinecolor": "#2a3f5f",
             "gridcolor": "white",
             "linecolor": "white",
             "minorgridcolor": "white",
             "startlinecolor": "#2a3f5f"
            },
            "type": "carpet"
           }
          ],
          "choropleth": [
           {
            "colorbar": {
             "outlinewidth": 0,
             "ticks": ""
            },
            "type": "choropleth"
           }
          ],
          "contour": [
           {
            "colorbar": {
             "outlinewidth": 0,
             "ticks": ""
            },
            "colorscale": [
             [
              0,
              "#0d0887"
             ],
             [
              0.1111111111111111,
              "#46039f"
             ],
             [
              0.2222222222222222,
              "#7201a8"
             ],
             [
              0.3333333333333333,
              "#9c179e"
             ],
             [
              0.4444444444444444,
              "#bd3786"
             ],
             [
              0.5555555555555556,
              "#d8576b"
             ],
             [
              0.6666666666666666,
              "#ed7953"
             ],
             [
              0.7777777777777778,
              "#fb9f3a"
             ],
             [
              0.8888888888888888,
              "#fdca26"
             ],
             [
              1,
              "#f0f921"
             ]
            ],
            "type": "contour"
           }
          ],
          "contourcarpet": [
           {
            "colorbar": {
             "outlinewidth": 0,
             "ticks": ""
            },
            "type": "contourcarpet"
           }
          ],
          "heatmap": [
           {
            "colorbar": {
             "outlinewidth": 0,
             "ticks": ""
            },
            "colorscale": [
             [
              0,
              "#0d0887"
             ],
             [
              0.1111111111111111,
              "#46039f"
             ],
             [
              0.2222222222222222,
              "#7201a8"
             ],
             [
              0.3333333333333333,
              "#9c179e"
             ],
             [
              0.4444444444444444,
              "#bd3786"
             ],
             [
              0.5555555555555556,
              "#d8576b"
             ],
             [
              0.6666666666666666,
              "#ed7953"
             ],
             [
              0.7777777777777778,
              "#fb9f3a"
             ],
             [
              0.8888888888888888,
              "#fdca26"
             ],
             [
              1,
              "#f0f921"
             ]
            ],
            "type": "heatmap"
           }
          ],
          "histogram": [
           {
            "marker": {
             "pattern": {
              "fillmode": "overlay",
              "size": 10,
              "solidity": 0.2
             }
            },
            "type": "histogram"
           }
          ],
          "histogram2d": [
           {
            "colorbar": {
             "outlinewidth": 0,
             "ticks": ""
            },
            "colorscale": [
             [
              0,
              "#0d0887"
             ],
             [
              0.1111111111111111,
              "#46039f"
             ],
             [
              0.2222222222222222,
              "#7201a8"
             ],
             [
              0.3333333333333333,
              "#9c179e"
             ],
             [
              0.4444444444444444,
              "#bd3786"
             ],
             [
              0.5555555555555556,
              "#d8576b"
             ],
             [
              0.6666666666666666,
              "#ed7953"
             ],
             [
              0.7777777777777778,
              "#fb9f3a"
             ],
             [
              0.8888888888888888,
              "#fdca26"
             ],
             [
              1,
              "#f0f921"
             ]
            ],
            "type": "histogram2d"
           }
          ],
          "histogram2dcontour": [
           {
            "colorbar": {
             "outlinewidth": 0,
             "ticks": ""
            },
            "colorscale": [
             [
              0,
              "#0d0887"
             ],
             [
              0.1111111111111111,
              "#46039f"
             ],
             [
              0.2222222222222222,
              "#7201a8"
             ],
             [
              0.3333333333333333,
              "#9c179e"
             ],
             [
              0.4444444444444444,
              "#bd3786"
             ],
             [
              0.5555555555555556,
              "#d8576b"
             ],
             [
              0.6666666666666666,
              "#ed7953"
             ],
             [
              0.7777777777777778,
              "#fb9f3a"
             ],
             [
              0.8888888888888888,
              "#fdca26"
             ],
             [
              1,
              "#f0f921"
             ]
            ],
            "type": "histogram2dcontour"
           }
          ],
          "mesh3d": [
           {
            "colorbar": {
             "outlinewidth": 0,
             "ticks": ""
            },
            "type": "mesh3d"
           }
          ],
          "parcoords": [
           {
            "line": {
             "colorbar": {
              "outlinewidth": 0,
              "ticks": ""
             }
            },
            "type": "parcoords"
           }
          ],
          "pie": [
           {
            "automargin": true,
            "type": "pie"
           }
          ],
          "scatter": [
           {
            "fillpattern": {
             "fillmode": "overlay",
             "size": 10,
             "solidity": 0.2
            },
            "type": "scatter"
           }
          ],
          "scatter3d": [
           {
            "line": {
             "colorbar": {
              "outlinewidth": 0,
              "ticks": ""
             }
            },
            "marker": {
             "colorbar": {
              "outlinewidth": 0,
              "ticks": ""
             }
            },
            "type": "scatter3d"
           }
          ],
          "scattercarpet": [
           {
            "marker": {
             "colorbar": {
              "outlinewidth": 0,
              "ticks": ""
             }
            },
            "type": "scattercarpet"
           }
          ],
          "scattergeo": [
           {
            "marker": {
             "colorbar": {
              "outlinewidth": 0,
              "ticks": ""
             }
            },
            "type": "scattergeo"
           }
          ],
          "scattergl": [
           {
            "marker": {
             "colorbar": {
              "outlinewidth": 0,
              "ticks": ""
             }
            },
            "type": "scattergl"
           }
          ],
          "scattermap": [
           {
            "marker": {
             "colorbar": {
              "outlinewidth": 0,
              "ticks": ""
             }
            },
            "type": "scattermap"
           }
          ],
          "scattermapbox": [
           {
            "marker": {
             "colorbar": {
              "outlinewidth": 0,
              "ticks": ""
             }
            },
            "type": "scattermapbox"
           }
          ],
          "scatterpolar": [
           {
            "marker": {
             "colorbar": {
              "outlinewidth": 0,
              "ticks": ""
             }
            },
            "type": "scatterpolar"
           }
          ],
          "scatterpolargl": [
           {
            "marker": {
             "colorbar": {
              "outlinewidth": 0,
              "ticks": ""
             }
            },
            "type": "scatterpolargl"
           }
          ],
          "scatterternary": [
           {
            "marker": {
             "colorbar": {
              "outlinewidth": 0,
              "ticks": ""
             }
            },
            "type": "scatterternary"
           }
          ],
          "surface": [
           {
            "colorbar": {
             "outlinewidth": 0,
             "ticks": ""
            },
            "colorscale": [
             [
              0,
              "#0d0887"
             ],
             [
              0.1111111111111111,
              "#46039f"
             ],
             [
              0.2222222222222222,
              "#7201a8"
             ],
             [
              0.3333333333333333,
              "#9c179e"
             ],
             [
              0.4444444444444444,
              "#bd3786"
             ],
             [
              0.5555555555555556,
              "#d8576b"
             ],
             [
              0.6666666666666666,
              "#ed7953"
             ],
             [
              0.7777777777777778,
              "#fb9f3a"
             ],
             [
              0.8888888888888888,
              "#fdca26"
             ],
             [
              1,
              "#f0f921"
             ]
            ],
            "type": "surface"
           }
          ],
          "table": [
           {
            "cells": {
             "fill": {
              "color": "#EBF0F8"
             },
             "line": {
              "color": "white"
             }
            },
            "header": {
             "fill": {
              "color": "#C8D4E3"
             },
             "line": {
              "color": "white"
             }
            },
            "type": "table"
           }
          ]
         },
         "layout": {
          "annotationdefaults": {
           "arrowcolor": "#2a3f5f",
           "arrowhead": 0,
           "arrowwidth": 1
          },
          "autotypenumbers": "strict",
          "coloraxis": {
           "colorbar": {
            "outlinewidth": 0,
            "ticks": ""
           }
          },
          "colorscale": {
           "diverging": [
            [
             0,
             "#8e0152"
            ],
            [
             0.1,
             "#c51b7d"
            ],
            [
             0.2,
             "#de77ae"
            ],
            [
             0.3,
             "#f1b6da"
            ],
            [
             0.4,
             "#fde0ef"
            ],
            [
             0.5,
             "#f7f7f7"
            ],
            [
             0.6,
             "#e6f5d0"
            ],
            [
             0.7,
             "#b8e186"
            ],
            [
             0.8,
             "#7fbc41"
            ],
            [
             0.9,
             "#4d9221"
            ],
            [
             1,
             "#276419"
            ]
           ],
           "sequential": [
            [
             0,
             "#0d0887"
            ],
            [
             0.1111111111111111,
             "#46039f"
            ],
            [
             0.2222222222222222,
             "#7201a8"
            ],
            [
             0.3333333333333333,
             "#9c179e"
            ],
            [
             0.4444444444444444,
             "#bd3786"
            ],
            [
             0.5555555555555556,
             "#d8576b"
            ],
            [
             0.6666666666666666,
             "#ed7953"
            ],
            [
             0.7777777777777778,
             "#fb9f3a"
            ],
            [
             0.8888888888888888,
             "#fdca26"
            ],
            [
             1,
             "#f0f921"
            ]
           ],
           "sequentialminus": [
            [
             0,
             "#0d0887"
            ],
            [
             0.1111111111111111,
             "#46039f"
            ],
            [
             0.2222222222222222,
             "#7201a8"
            ],
            [
             0.3333333333333333,
             "#9c179e"
            ],
            [
             0.4444444444444444,
             "#bd3786"
            ],
            [
             0.5555555555555556,
             "#d8576b"
            ],
            [
             0.6666666666666666,
             "#ed7953"
            ],
            [
             0.7777777777777778,
             "#fb9f3a"
            ],
            [
             0.8888888888888888,
             "#fdca26"
            ],
            [
             1,
             "#f0f921"
            ]
           ]
          },
          "colorway": [
           "#636efa",
           "#EF553B",
           "#00cc96",
           "#ab63fa",
           "#FFA15A",
           "#19d3f3",
           "#FF6692",
           "#B6E880",
           "#FF97FF",
           "#FECB52"
          ],
          "font": {
           "color": "#2a3f5f"
          },
          "geo": {
           "bgcolor": "white",
           "lakecolor": "white",
           "landcolor": "#E5ECF6",
           "showlakes": true,
           "showland": true,
           "subunitcolor": "white"
          },
          "hoverlabel": {
           "align": "left"
          },
          "hovermode": "closest",
          "mapbox": {
           "style": "light"
          },
          "paper_bgcolor": "white",
          "plot_bgcolor": "#E5ECF6",
          "polar": {
           "angularaxis": {
            "gridcolor": "white",
            "linecolor": "white",
            "ticks": ""
           },
           "bgcolor": "#E5ECF6",
           "radialaxis": {
            "gridcolor": "white",
            "linecolor": "white",
            "ticks": ""
           }
          },
          "scene": {
           "xaxis": {
            "backgroundcolor": "#E5ECF6",
            "gridcolor": "white",
            "gridwidth": 2,
            "linecolor": "white",
            "showbackground": true,
            "ticks": "",
            "zerolinecolor": "white"
           },
           "yaxis": {
            "backgroundcolor": "#E5ECF6",
            "gridcolor": "white",
            "gridwidth": 2,
            "linecolor": "white",
            "showbackground": true,
            "ticks": "",
            "zerolinecolor": "white"
           },
           "zaxis": {
            "backgroundcolor": "#E5ECF6",
            "gridcolor": "white",
            "gridwidth": 2,
            "linecolor": "white",
            "showbackground": true,
            "ticks": "",
            "zerolinecolor": "white"
           }
          },
          "shapedefaults": {
           "line": {
            "color": "#2a3f5f"
           }
          },
          "ternary": {
           "aaxis": {
            "gridcolor": "white",
            "linecolor": "white",
            "ticks": ""
           },
           "baxis": {
            "gridcolor": "white",
            "linecolor": "white",
            "ticks": ""
           },
           "bgcolor": "#E5ECF6",
           "caxis": {
            "gridcolor": "white",
            "linecolor": "white",
            "ticks": ""
           }
          },
          "title": {
           "x": 0.05
          },
          "xaxis": {
           "automargin": true,
           "gridcolor": "white",
           "linecolor": "white",
           "ticks": "",
           "title": {
            "standoff": 15
           },
           "zerolinecolor": "white",
           "zerolinewidth": 2
          },
          "yaxis": {
           "automargin": true,
           "gridcolor": "white",
           "linecolor": "white",
           "ticks": "",
           "title": {
            "standoff": 15
           },
           "zerolinecolor": "white",
           "zerolinewidth": 2
          }
         }
        },
        "title": {
         "text": "Pronósticos de Dengue para 2022 (Muestra de 5 Barrios)"
        },
        "xaxis": {
         "title": {
          "text": "Semana del Año"
         }
        },
        "yaxis": {
         "title": {
          "text": "Casos de Dengue"
         }
        }
       }
      }
     },
     "metadata": {},
     "output_type": "display_data"
    },
    {
     "name": "stdout",
     "output_type": "stream",
     "text": [
      "\n",
      "### Proceso completado exitosamente ###\n"
     ]
    }
   ],
   "source": [
    "#!/usr/bin/env python\n",
    "# coding: utf-8\n",
    "\n",
    "# # Pronóstico de Casos de Dengue por Barrio usando GRU\n",
    "# ## Red Neuronal Recurrente para Series Temporales Multivariadas\n",
    "\n",
    "# ### 1. Configuración e Importación de Librerías\n",
    "\n",
    "import pandas as pd\n",
    "import numpy as np\n",
    "import torch\n",
    "import torch.nn as nn\n",
    "from torch.utils.data import Dataset, DataLoader\n",
    "from sklearn.preprocessing import StandardScaler, LabelEncoder\n",
    "from sklearn.metrics import mean_squared_error\n",
    "import optuna\n",
    "import plotly.graph_objects as go\n",
    "import plotly.express as px\n",
    "from datetime import datetime\n",
    "import warnings\n",
    "warnings.filterwarnings('ignore')\n",
    "\n",
    "# Configurar dispositivo de cómputo\n",
    "device = torch.device('cuda' if torch.cuda.is_available() else 'cpu')\n",
    "print(f\"Dispositivo de cómputo: {device}\")\n",
    "\n",
    "# Establecer semilla para reproducibilidad\n",
    "np.random.seed(42)\n",
    "torch.manual_seed(42)\n",
    "if torch.cuda.is_available():\n",
    "    torch.cuda.manual_seed(42)\n",
    "\n",
    "# ### 2. Carga y Preparación de Datos\n",
    "\n",
    "# Cargar datos desde el archivo Parquet\n",
    "df = pd.read_parquet('../../Datos/df_train.parquet')\n",
    "print(f\"Dimensiones del DataFrame: {df.shape}\")\n",
    "print(\"\\nPrimeras filas:\")\n",
    "print(df.head())\n",
    "print(\"\\nInformación del DataFrame:\")\n",
    "print(df.info())\n",
    "\n",
    "# Crear columna de fecha usando formato de semanas ISO\n",
    "df['fecha'] = pd.to_datetime(df['anio'].astype(str) + df['semana'].astype(str) + '1', format='%G%V%u')\n",
    "\n",
    "# Establecer fecha como índice y ordenar\n",
    "df = df.set_index('fecha').sort_index()\n",
    "print(f\"\\nRango temporal: {df.index.min()} - {df.index.max()}\")\n",
    "\n",
    "# ### 3. Preprocesamiento e Ingeniería de Características\n",
    "\n",
    "# División de datos según el año\n",
    "train_data = df[df['anio'] < 2021]\n",
    "val_data = df[df['anio'] == 2021]\n",
    "print(f\"\\nTamaño conjunto entrenamiento: {len(train_data)}\")\n",
    "print(f\"Tamaño conjunto validación: {len(val_data)}\")\n",
    "\n",
    "# Identificar columnas numéricas y categóricas\n",
    "categorical_cols = ['id_bar', 'ESTRATO']\n",
    "numerical_cols = [col for col in df.columns if col not in categorical_cols + ['anio', 'semana']]\n",
    "target_col = 'dengue'\n",
    "\n",
    "print(f\"\\nColumnas categóricas: {categorical_cols}\")\n",
    "print(f\"Columnas numéricas: {numerical_cols}\")\n",
    "print(f\"Variable objetivo: {target_col}\")\n",
    "\n",
    "# Codificar variables categóricas para embeddings\n",
    "label_encoders = {}\n",
    "for col in categorical_cols:\n",
    "    le = LabelEncoder()\n",
    "    df[col + '_encoded'] = le.fit_transform(df[col])\n",
    "    label_encoders[col] = le\n",
    "    print(f\"\\nCardinalidad de {col}: {len(le.classes_)}\")\n",
    "\n",
    "# Actualizar división con columnas codificadas\n",
    "train_data = df[df['anio'] < 2021]\n",
    "val_data = df[df['anio'] == 2021]\n",
    "\n",
    "# Escalar variables numéricas\n",
    "scaler = StandardScaler()\n",
    "scaler.fit(train_data[numerical_cols])\n",
    "\n",
    "# Aplicar escalado\n",
    "train_scaled = train_data.copy()\n",
    "val_scaled = val_data.copy()\n",
    "train_scaled[numerical_cols] = scaler.transform(train_data[numerical_cols])\n",
    "val_scaled[numerical_cols] = scaler.transform(val_data[numerical_cols])\n",
    "\n",
    "# ### Función para crear secuencias\n",
    "\n",
    "def create_sequences(data, window_size, target_col, feature_cols, categorical_cols_encoded):\n",
    "    \"\"\"\n",
    "    Crea secuencias de ventanas deslizantes para el modelo GRU.\n",
    "    \n",
    "    Args:\n",
    "        data: DataFrame con los datos\n",
    "        window_size: Tamaño de la ventana de entrada\n",
    "        target_col: Nombre de la columna objetivo\n",
    "        feature_cols: Lista de columnas de características numéricas\n",
    "        categorical_cols_encoded: Lista de columnas categóricas codificadas\n",
    "    \n",
    "    Returns:\n",
    "        sequences_num: Array con las secuencias numéricas\n",
    "        sequences_cat: Array con las secuencias categóricas\n",
    "        targets: Array con los valores objetivo\n",
    "        barrio_ids: Array con los IDs de barrio para cada secuencia\n",
    "    \"\"\"\n",
    "    sequences_num = []\n",
    "    sequences_cat = []\n",
    "    targets = []\n",
    "    barrio_ids = []\n",
    "    \n",
    "    # Agrupar por barrio para mantener continuidad temporal\n",
    "    for barrio in data['id_bar'].unique():\n",
    "        barrio_data = data[data['id_bar'] == barrio].sort_index()\n",
    "        \n",
    "        if len(barrio_data) <= window_size:\n",
    "            continue\n",
    "            \n",
    "        for i in range(len(barrio_data) - window_size):\n",
    "            # Secuencia de características numéricas\n",
    "            seq_num = barrio_data[feature_cols].iloc[i:i+window_size].values\n",
    "            # Secuencia de características categóricas\n",
    "            seq_cat = barrio_data[categorical_cols_encoded].iloc[i:i+window_size].values\n",
    "            # Valor objetivo\n",
    "            target = barrio_data[target_col].iloc[i+window_size]\n",
    "            \n",
    "            sequences_num.append(seq_num)\n",
    "            sequences_cat.append(seq_cat)\n",
    "            targets.append(target)\n",
    "            barrio_ids.append(barrio)\n",
    "    \n",
    "    return (np.array(sequences_num, dtype=np.float32), \n",
    "            np.array(sequences_cat, dtype=np.int64),\n",
    "            np.array(targets, dtype=np.float32),\n",
    "            np.array(barrio_ids))\n",
    "\n",
    "# ### 4. Definición del Modelo GRU con PyTorch\n",
    "\n",
    "class DengueDataset(Dataset):\n",
    "    \"\"\"Dataset personalizado para las secuencias de dengue\"\"\"\n",
    "    def __init__(self, sequences_num, sequences_cat, targets):\n",
    "        self.sequences_num = sequences_num\n",
    "        self.sequences_cat = sequences_cat\n",
    "        self.targets = targets\n",
    "    \n",
    "    def __len__(self):\n",
    "        return len(self.targets)\n",
    "    \n",
    "    def __getitem__(self, idx):\n",
    "        return (torch.FloatTensor(self.sequences_num[idx]),\n",
    "                torch.LongTensor(self.sequences_cat[idx]),\n",
    "                torch.FloatTensor([self.targets[idx]]))\n",
    "\n",
    "class GRUModel(nn.Module):\n",
    "    \"\"\"\n",
    "    Modelo GRU con embeddings para variables categóricas\n",
    "    \"\"\"\n",
    "    def __init__(self, num_features, embedding_dims, hidden_size, num_layers, dropout_rate):\n",
    "        super(GRUModel, self).__init__()\n",
    "        \n",
    "        # Embeddings para variables categóricas\n",
    "        self.embeddings = nn.ModuleList()\n",
    "        total_embedding_size = 0\n",
    "        \n",
    "        for card, dim in embedding_dims:\n",
    "            self.embeddings.append(nn.Embedding(card, dim))\n",
    "            total_embedding_size += dim\n",
    "        \n",
    "        # Tamaño de entrada para GRU\n",
    "        input_size = num_features + total_embedding_size\n",
    "        \n",
    "        # Capas GRU\n",
    "        self.gru = nn.GRU(input_size, hidden_size, num_layers, \n",
    "                         batch_first=True, dropout=dropout_rate if num_layers > 1 else 0)\n",
    "        \n",
    "        # Dropout\n",
    "        self.dropout = nn.Dropout(dropout_rate)\n",
    "        \n",
    "        # Capa de salida\n",
    "        self.fc = nn.Linear(hidden_size, 1)\n",
    "        \n",
    "    def forward(self, x_num, x_cat):\n",
    "        batch_size, seq_len, _ = x_num.shape\n",
    "        \n",
    "        # Procesar embeddings categóricos\n",
    "        embeddings_list = []\n",
    "        for i, embedding in enumerate(self.embeddings):\n",
    "            # x_cat[:, :, i] selecciona la i-ésima variable categórica para todas las secuencias\n",
    "            cat_embedded = embedding(x_cat[:, :, i])\n",
    "            embeddings_list.append(cat_embedded)\n",
    "        \n",
    "        # Concatenar embeddings\n",
    "        cat_embedded = torch.cat(embeddings_list, dim=-1)\n",
    "        \n",
    "        # Concatenar características numéricas y categóricas\n",
    "        x = torch.cat([x_num, cat_embedded], dim=-1)\n",
    "        \n",
    "        # Pasar por GRU\n",
    "        out, _ = self.gru(x)\n",
    "        \n",
    "        # Tomar la salida del último paso temporal\n",
    "        out = out[:, -1, :]\n",
    "        out = self.dropout(out)\n",
    "        out = self.fc(out)\n",
    "        \n",
    "        return out\n",
    "\n",
    "# ### 5. Optimización de Hiperparámetros con Optuna\n",
    "\n",
    "def objective(trial):\n",
    "    \"\"\"\n",
    "    Función objetivo para Optuna\n",
    "    \"\"\"\n",
    "    # Espacio de búsqueda de hiperparámetros\n",
    "    window_size = trial.suggest_int('window_size', 8, 48)\n",
    "    hidden_size = trial.suggest_categorical('hidden_size', [16, 32, 64, 128])\n",
    "    num_layers = trial.suggest_int('num_layers', 1, 3)\n",
    "    dropout_rate = trial.suggest_float('dropout_rate', 0.1, 0.5)\n",
    "    learning_rate = trial.suggest_float('learning_rate', 1e-4, 1e-2, log=True)\n",
    "    batch_size = trial.suggest_categorical('batch_size', [16, 32, 64, 128])\n",
    "    \n",
    "    # Crear secuencias\n",
    "    categorical_cols_encoded = [col + '_encoded' for col in categorical_cols]\n",
    "    \n",
    "    X_train_num, X_train_cat, y_train, _ = create_sequences(\n",
    "        train_scaled, window_size, target_col, numerical_cols, categorical_cols_encoded\n",
    "    )\n",
    "    X_val_num, X_val_cat, y_val, _ = create_sequences(\n",
    "        val_scaled, window_size, target_col, numerical_cols, categorical_cols_encoded\n",
    "    )\n",
    "    \n",
    "    # Crear datasets y dataloaders\n",
    "    train_dataset = DengueDataset(X_train_num, X_train_cat, y_train)\n",
    "    val_dataset = DengueDataset(X_val_num, X_val_cat, y_val)\n",
    "    \n",
    "    train_loader = DataLoader(train_dataset, batch_size=batch_size, shuffle=True)\n",
    "    val_loader = DataLoader(val_dataset, batch_size=batch_size, shuffle=False)\n",
    "    \n",
    "    # Configurar modelo\n",
    "    num_features = len(numerical_cols)\n",
    "    embedding_dims = [\n",
    "        (len(label_encoders['id_bar'].classes_), min(50, len(label_encoders['id_bar'].classes_)//2)),\n",
    "        (len(label_encoders['ESTRATO'].classes_), min(10, len(label_encoders['ESTRATO'].classes_)//2))\n",
    "    ]\n",
    "    \n",
    "    model = GRUModel(num_features, embedding_dims, hidden_size, num_layers, dropout_rate).to(device)\n",
    "    criterion = nn.MSELoss()\n",
    "    optimizer = torch.optim.Adam(model.parameters(), lr=learning_rate)\n",
    "    \n",
    "    # Entrenamiento\n",
    "    n_epochs = 200\n",
    "    best_val_loss = float('inf')\n",
    "    patience = 50\n",
    "    patience_counter = 0\n",
    "    \n",
    "    for epoch in range(n_epochs):\n",
    "        # Training\n",
    "        model.train()\n",
    "        train_loss = 0\n",
    "        for x_num, x_cat, y in train_loader:\n",
    "            x_num, x_cat, y = x_num.to(device), x_cat.to(device), y.to(device)\n",
    "            \n",
    "            optimizer.zero_grad()\n",
    "            output = model(x_num, x_cat)\n",
    "            loss = criterion(output, y)\n",
    "            loss.backward()\n",
    "            optimizer.step()\n",
    "            \n",
    "            train_loss += loss.item()\n",
    "        \n",
    "        # Validation\n",
    "        model.eval()\n",
    "        val_loss = 0\n",
    "        with torch.no_grad():\n",
    "            for x_num, x_cat, y in val_loader:\n",
    "                x_num, x_cat, y = x_num.to(device), x_cat.to(device), y.to(device)\n",
    "                output = model(x_num, x_cat)\n",
    "                loss = criterion(output, y)\n",
    "                val_loss += loss.item()\n",
    "        \n",
    "        val_loss /= len(val_loader)\n",
    "        \n",
    "        # Early stopping\n",
    "        if val_loss < best_val_loss:\n",
    "            best_val_loss = val_loss\n",
    "            patience_counter = 0\n",
    "        else:\n",
    "            patience_counter += 1\n",
    "            \n",
    "        if patience_counter >= patience:\n",
    "            break\n",
    "    \n",
    "    return best_val_loss\n",
    "\n",
    "# Ejecutar optimización con Optuna\n",
    "print(\"\\n### Iniciando optimización de hiperparámetros con Optuna ###\")\n",
    "study = optuna.create_study(direction='minimize')\n",
    "study.optimize(objective, n_trials=200, show_progress_bar=True)\n",
    "\n",
    "print(\"\\nMejores hiperparámetros encontrados:\")\n",
    "print(study.best_params)\n",
    "print(f\"\\nMejor MSE en validación: {study.best_value:.4f}\")\n",
    "\n",
    "# ### 6. Entrenamiento del Modelo Final\n",
    "\n",
    "# Obtener mejores hiperparámetros\n",
    "best_params = study.best_params\n",
    "window_size = best_params['window_size']\n",
    "hidden_size = best_params['hidden_size']\n",
    "num_layers = best_params['num_layers']\n",
    "dropout_rate = best_params['dropout_rate']\n",
    "learning_rate = best_params['learning_rate']\n",
    "batch_size = best_params['batch_size']\n",
    "\n",
    "print(\"\\n### Entrenando modelo final con datos combinados ###\")\n",
    "\n",
    "# Combinar datos de entrenamiento y validación\n",
    "combined_data = pd.concat([train_data, val_data])\n",
    "combined_scaled = combined_data.copy()\n",
    "combined_scaled[numerical_cols] = scaler.transform(combined_data[numerical_cols])\n",
    "\n",
    "# Crear secuencias con datos combinados\n",
    "categorical_cols_encoded = [col + '_encoded' for col in categorical_cols]\n",
    "X_combined_num, X_combined_cat, y_combined, _ = create_sequences(\n",
    "    combined_scaled, window_size, target_col, numerical_cols, categorical_cols_encoded\n",
    ")\n",
    "\n",
    "# Crear dataset y dataloader\n",
    "combined_dataset = DengueDataset(X_combined_num, X_combined_cat, y_combined)\n",
    "combined_loader = DataLoader(combined_dataset, batch_size=batch_size, shuffle=True)\n",
    "\n",
    "# Configurar modelo final\n",
    "num_features = len(numerical_cols)\n",
    "embedding_dims = [\n",
    "    (len(label_encoders['id_bar'].classes_), min(50, len(label_encoders['id_bar'].classes_)//2)),\n",
    "    (len(label_encoders['ESTRATO'].classes_), min(10, len(label_encoders['ESTRATO'].classes_)//2))\n",
    "]\n",
    "\n",
    "model_final = GRUModel(num_features, embedding_dims, hidden_size, num_layers, dropout_rate).to(device)\n",
    "criterion = nn.MSELoss()\n",
    "optimizer = torch.optim.Adam(model_final.parameters(), lr=learning_rate)\n",
    "\n",
    "# Entrenamiento del modelo final\n",
    "n_epochs = 200\n",
    "train_losses = []\n",
    "\n",
    "for epoch in range(n_epochs):\n",
    "    model_final.train()\n",
    "    epoch_loss = 0\n",
    "    \n",
    "    for x_num, x_cat, y in combined_loader:\n",
    "        x_num, x_cat, y = x_num.to(device), x_cat.to(device), y.to(device)\n",
    "        \n",
    "        optimizer.zero_grad()\n",
    "        output = model_final(x_num, x_cat)\n",
    "        loss = criterion(output, y)\n",
    "        loss.backward()\n",
    "        optimizer.step()\n",
    "        \n",
    "        epoch_loss += loss.item()\n",
    "    \n",
    "    avg_loss = epoch_loss / len(combined_loader)\n",
    "    train_losses.append(avg_loss)\n",
    "    \n",
    "    if (epoch + 1) % 10 == 0:\n",
    "        print(f\"Época {epoch+1}/{n_epochs}, Pérdida: {avg_loss:.4f}\")\n",
    "\n",
    "# Visualizar curva de pérdida\n",
    "fig = go.Figure()\n",
    "fig.add_trace(go.Scatter(x=list(range(1, n_epochs+1)), y=train_losses,\n",
    "                        mode='lines', name='Pérdida de Entrenamiento'))\n",
    "fig.update_layout(title='Curva de Pérdida durante el Entrenamiento',\n",
    "                  xaxis_title='Época', yaxis_title='MSE')\n",
    "fig.show()\n",
    "\n",
    "# ### 7. Generación de Pronósticos para 2022\n",
    "\n",
    "print(\"\\n### Generando pronósticos para 2022 ###\")\n",
    "\n",
    "# Preparar datos para pronóstico\n",
    "all_data = df.copy()\n",
    "all_data_scaled = all_data.copy()\n",
    "all_data_scaled[numerical_cols] = scaler.transform(all_data[numerical_cols])\n",
    "\n",
    "# Función para generar pronósticos autorregresivos\n",
    "def generate_forecasts(model, data, window_size, n_weeks_ahead, year):\n",
    "    \"\"\"\n",
    "    Genera pronósticos autorregresivos para un año completo\n",
    "    \"\"\"\n",
    "    model.eval()\n",
    "    forecasts = []\n",
    "    \n",
    "    # Para cada barrio\n",
    "    for barrio in data['id_bar'].unique():\n",
    "        barrio_data = data[data['id_bar'] == barrio].sort_index()\n",
    "        barrio_id = barrio_data['id_bar'].iloc[0]\n",
    "        estrato_encoded = barrio_data['ESTRATO_encoded'].iloc[0]\n",
    "        \n",
    "        # Obtener última secuencia conocida\n",
    "        last_sequence_num = barrio_data[numerical_cols].iloc[-window_size:].values\n",
    "        last_sequence_cat = np.array([[barrio_data['id_bar_encoded'].iloc[0], \n",
    "                                      estrato_encoded] for _ in range(window_size)])\n",
    "        \n",
    "        # Generar pronósticos semana a semana\n",
    "        for week in range(1, n_weeks_ahead + 1):\n",
    "            # Preparar entrada\n",
    "            x_num = torch.FloatTensor(last_sequence_num).unsqueeze(0).to(device)\n",
    "            x_cat = torch.LongTensor(last_sequence_cat).unsqueeze(0).to(device)\n",
    "            \n",
    "            # Hacer predicción\n",
    "            with torch.no_grad():\n",
    "                pred_scaled = model(x_num, x_cat).cpu().numpy()[0, 0]\n",
    "            \n",
    "            # Desescalar predicción (solo para la columna de dengue)\n",
    "            dengue_idx = numerical_cols.index('dengue')\n",
    "            pred_original_scale = pred_scaled * scaler.scale_[dengue_idx] + scaler.mean_[dengue_idx]\n",
    "            \n",
    "            # Asegurar que la predicción no sea negativa\n",
    "            pred_original_scale = max(0, pred_original_scale)\n",
    "            \n",
    "            # Guardar predicción\n",
    "            forecasts.append({\n",
    "                'id_bar': barrio_id,\n",
    "                'anio': year,\n",
    "                'semana': week,\n",
    "                'dengue': pred_original_scale\n",
    "            })\n",
    "            \n",
    "            # Actualizar secuencia para próxima predicción\n",
    "            # Crear nueva fila con la predicción\n",
    "            new_row = last_sequence_num[-1].copy()\n",
    "            new_row[dengue_idx] = pred_scaled\n",
    "            \n",
    "            # Actualizar ventana deslizante\n",
    "            last_sequence_num = np.vstack([last_sequence_num[1:], new_row])\n",
    "    \n",
    "    return pd.DataFrame(forecasts)\n",
    "\n",
    "# Generar pronósticos para 2022\n",
    "forecasts_2022 = generate_forecasts(model_final, all_data_scaled, window_size, 52, 2022)\n",
    "\n",
    "print(f\"\\nPronósticos generados: {len(forecasts_2022)} registros\")\n",
    "print(\"\\nEstadísticas de pronósticos:\")\n",
    "print(forecasts_2022['dengue'].describe())\n",
    "\n",
    "# ### 8. Creación del Archivo de Salida\n",
    "\n",
    "# Crear DataFrame con formato requerido\n",
    "output_df = pd.DataFrame()\n",
    "output_df['id'] = (forecasts_2022['id_bar'].astype(str) + '_' + \n",
    "                   forecasts_2022['anio'].astype(str) + '_' + \n",
    "                   forecasts_2022['semana'].apply(lambda x: f\"{x:02d}\"))\n",
    "output_df['dengue'] = forecasts_2022['dengue'].round(2)\n",
    "\n",
    "# Verificar formato\n",
    "print(\"\\nPrimeras filas del archivo de salida:\")\n",
    "print(output_df.head(10))\n",
    "print(f\"\\nTotal de registros: {len(output_df)}\")\n",
    "\n",
    "# Guardar archivo CSV\n",
    "timestamp = datetime.now().strftime(\"%Y%m%d_%H%M%S\")\n",
    "output_filename = f'pronosticos_GRU_C_{timestamp}.csv'\n",
    "output_df.to_csv(output_filename, index=False)\n",
    "print(\"\\nArchivo 'pronosticos_dengue_2022.csv' guardado exitosamente.\")\n",
    "\n",
    "# Visualización de algunos pronósticos\n",
    "sample_barrios = forecasts_2022['id_bar'].unique()[:5]\n",
    "fig = go.Figure()\n",
    "\n",
    "for barrio in sample_barrios:\n",
    "    barrio_forecast = forecasts_2022[forecasts_2022['id_bar'] == barrio]\n",
    "    fig.add_trace(go.Scatter(\n",
    "        x=barrio_forecast['semana'],\n",
    "        y=barrio_forecast['dengue'],\n",
    "        mode='lines+markers',\n",
    "        name=f'Barrio {barrio}'\n",
    "    ))\n",
    "\n",
    "fig.update_layout(\n",
    "    title='Pronósticos de Dengue para 2022 (Muestra de 5 Barrios)',\n",
    "    xaxis_title='Semana del Año',\n",
    "    yaxis_title='Casos de Dengue',\n",
    "    hovermode='x unified'\n",
    ")\n",
    "fig.show()\n",
    "\n",
    "print(\"\\n### Proceso completado exitosamente ###\")"
   ]
  }
 ],
 "metadata": {
  "kernelspec": {
   "display_name": "venv",
   "language": "python",
   "name": "python3"
  },
  "language_info": {
   "codemirror_mode": {
    "name": "ipython",
    "version": 3
   },
   "file_extension": ".py",
   "mimetype": "text/x-python",
   "name": "python",
   "nbconvert_exporter": "python",
   "pygments_lexer": "ipython3",
   "version": "3.13.3"
  }
 },
 "nbformat": 4,
 "nbformat_minor": 5
}
