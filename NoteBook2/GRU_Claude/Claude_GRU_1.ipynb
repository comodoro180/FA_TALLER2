{
 "cells": [
  {
   "cell_type": "code",
   "execution_count": 3,
   "id": "5657ab24",
   "metadata": {},
   "outputs": [
    {
     "name": "stderr",
     "output_type": "stream",
     "text": [
      "[I 2025-06-23 00:50:28,522] A new study created in memory with name: no-name-85a03f5f-a83e-4028-97bc-ad70fdab0a93\n"
     ]
    },
    {
     "name": "stdout",
     "output_type": "stream",
     "text": [
      "Dispositivo de cómputo: cuda\n",
      "Dimensiones del DataFrame: (3680, 20)\n",
      "\n",
      "Primeras filas:\n",
      "          id  id_bar  anio  semana  ESTRATO  area_barrio  dengue  \\\n",
      "0  4_2015_01       4  2015       1      3.0        0.560     0.0   \n",
      "1  5_2015_01       5  2015       1      3.0        0.842     0.0   \n",
      "2  3_2015_01       3  2015       1      1.0        0.781     0.0   \n",
      "3  8_2015_01       8  2015       1      2.0        0.394     0.0   \n",
      "4  9_2015_01       9  2015       1      2.0        0.292     0.0   \n",
      "\n",
      "   concentraciones  vivienda  equipesado  sumideros  maquina  lluvia_mean  \\\n",
      "0              0.0       0.0         0.0        0.0      0.0     0.000651   \n",
      "1              0.0       0.0         0.0        0.0      0.0     0.000651   \n",
      "2              0.0       0.0         0.0        0.0      0.0     0.000651   \n",
      "3              0.0       0.0         0.0        0.0      0.0     0.000651   \n",
      "4              0.0       0.0         0.0        0.0      0.0     0.000651   \n",
      "\n",
      "   lluvia_var  lluvia_max  lluvia_min  temperatura_mean  temperatura_var  \\\n",
      "0    0.000041      0.0625         0.0         26.163889        11.588928   \n",
      "1    0.000041      0.0625         0.0         26.163889        11.588928   \n",
      "2    0.000041      0.0625         0.0         26.163889        11.588928   \n",
      "3    0.000041      0.0625         0.0         26.163889        11.588928   \n",
      "4    0.000041      0.0625         0.0         26.163889        11.588928   \n",
      "\n",
      "   temperatura_max  temperatura_min  \n",
      "0             31.8             20.9  \n",
      "1             31.8             20.9  \n",
      "2             31.8             20.9  \n",
      "3             31.8             20.9  \n",
      "4             31.8             20.9  \n",
      "\n",
      "Información del DataFrame:\n",
      "<class 'pandas.core.frame.DataFrame'>\n",
      "Index: 3680 entries, 0 to 3679\n",
      "Data columns (total 20 columns):\n",
      " #   Column            Non-Null Count  Dtype  \n",
      "---  ------            --------------  -----  \n",
      " 0   id                3680 non-null   object \n",
      " 1   id_bar            3680 non-null   int64  \n",
      " 2   anio              3680 non-null   int64  \n",
      " 3   semana            3680 non-null   UInt32 \n",
      " 4   ESTRATO           3680 non-null   float64\n",
      " 5   area_barrio       3680 non-null   float64\n",
      " 6   dengue            3680 non-null   float64\n",
      " 7   concentraciones   3680 non-null   float64\n",
      " 8   vivienda          3680 non-null   float64\n",
      " 9   equipesado        3680 non-null   float64\n",
      " 10  sumideros         3680 non-null   float64\n",
      " 11  maquina           3680 non-null   float64\n",
      " 12  lluvia_mean       3680 non-null   float64\n",
      " 13  lluvia_var        3680 non-null   float64\n",
      " 14  lluvia_max        3680 non-null   float64\n",
      " 15  lluvia_min        3680 non-null   float64\n",
      " 16  temperatura_mean  3680 non-null   float64\n",
      " 17  temperatura_var   3680 non-null   float64\n",
      " 18  temperatura_max   3680 non-null   float64\n",
      " 19  temperatura_min   3680 non-null   float64\n",
      "dtypes: UInt32(1), float64(16), int64(2), object(1)\n",
      "memory usage: 593.0+ KB\n",
      "None\n",
      "\n",
      "Rango temporal: 2014-12-29 00:00:00 - 2022-01-03 00:00:00\n",
      "\n",
      "Tamaño conjunto entrenamiento: 3150\n",
      "Tamaño conjunto validación: 530\n",
      "\n",
      "Columnas categóricas: ['id_bar', 'ESTRATO']\n",
      "Columnas numéricas: ['id', 'area_barrio', 'dengue', 'concentraciones', 'vivienda', 'equipesado', 'sumideros', 'maquina', 'lluvia_mean', 'lluvia_var', 'lluvia_max', 'lluvia_min', 'temperatura_mean', 'temperatura_var', 'temperatura_max', 'temperatura_min']\n",
      "Variable objetivo: dengue\n",
      "\n",
      "Cardinalidad de id_bar: 10\n",
      "\n",
      "Cardinalidad de ESTRATO: 3\n",
      "\n",
      "### Iniciando optimización de hiperparámetros con Optuna ###\n"
     ]
    },
    {
     "data": {
      "application/vnd.jupyter.widget-view+json": {
       "model_id": "8e9148fb9e304a0b8bf33499a4f09323",
       "version_major": 2,
       "version_minor": 0
      },
      "text/plain": [
       "  0%|          | 0/100 [00:00<?, ?it/s]"
      ]
     },
     "metadata": {},
     "output_type": "display_data"
    },
    {
     "name": "stdout",
     "output_type": "stream",
     "text": [
      "[I 2025-06-23 00:50:40,771] Trial 0 finished with value: 0.05058373361825943 and parameters: {'window_size': 27, 'hidden_size': 32, 'num_layers': 2, 'dropout_rate': 0.21742508365045984, 'learning_rate': 0.0029621516588303515, 'batch_size': 64, 'weight_decay': 0.0008706020878304854}. Best is trial 0 with value: 0.05058373361825943.\n",
      "[I 2025-06-23 00:51:25,847] Trial 1 finished with value: 0.041579507291316986 and parameters: {'window_size': 46, 'hidden_size': 256, 'num_layers': 3, 'dropout_rate': 0.3295835055926347, 'learning_rate': 0.0003124565071260876, 'batch_size': 32, 'weight_decay': 5.4041038546473305e-05}. Best is trial 1 with value: 0.041579507291316986.\n",
      "[I 2025-06-23 00:51:32,200] Trial 2 finished with value: 0.05630704388022423 and parameters: {'window_size': 30, 'hidden_size': 32, 'num_layers': 2, 'dropout_rate': 0.3822634555704315, 'learning_rate': 0.00019485671251272575, 'batch_size': 128, 'weight_decay': 0.0004138040112561013}. Best is trial 1 with value: 0.041579507291316986.\n",
      "[I 2025-06-23 00:51:45,991] Trial 3 finished with value: 0.05437382012605667 and parameters: {'window_size': 24, 'hidden_size': 64, 'num_layers': 3, 'dropout_rate': 0.21031655633456553, 'learning_rate': 0.0035067764992972213, 'batch_size': 64, 'weight_decay': 0.00010968217207529509}. Best is trial 1 with value: 0.041579507291316986.\n",
      "[I 2025-06-23 00:51:55,366] Trial 4 finished with value: 0.045624607553084694 and parameters: {'window_size': 34, 'hidden_size': 64, 'num_layers': 4, 'dropout_rate': 0.3793699936433256, 'learning_rate': 0.0036832964384234204, 'batch_size': 64, 'weight_decay': 4.473636174621264e-05}. Best is trial 1 with value: 0.041579507291316986.\n",
      "[I 2025-06-23 00:52:06,381] Trial 5 finished with value: 0.05228721722960472 and parameters: {'window_size': 27, 'hidden_size': 64, 'num_layers': 3, 'dropout_rate': 0.2422772674924288, 'learning_rate': 0.0023062618121677952, 'batch_size': 64, 'weight_decay': 2.497073714505272e-05}. Best is trial 1 with value: 0.041579507291316986.\n",
      "[I 2025-06-23 00:52:44,967] Trial 6 finished with value: 0.06061025479665169 and parameters: {'window_size': 12, 'hidden_size': 32, 'num_layers': 2, 'dropout_rate': 0.30753971856328177, 'learning_rate': 0.0001573468512939367, 'batch_size': 32, 'weight_decay': 1.3400367243354803e-05}. Best is trial 1 with value: 0.041579507291316986.\n",
      "[I 2025-06-23 00:52:57,734] Trial 7 finished with value: 0.06074312825997671 and parameters: {'window_size': 24, 'hidden_size': 256, 'num_layers': 3, 'dropout_rate': 0.2358782737814905, 'learning_rate': 0.0016284765129487649, 'batch_size': 128, 'weight_decay': 9.718319944817387e-05}. Best is trial 1 with value: 0.041579507291316986.\n",
      "[I 2025-06-23 00:53:17,394] Trial 8 finished with value: 0.04818436929157802 and parameters: {'window_size': 33, 'hidden_size': 32, 'num_layers': 3, 'dropout_rate': 0.294306794322898, 'learning_rate': 0.0007312171172786406, 'batch_size': 32, 'weight_decay': 0.0003244160088734161}. Best is trial 1 with value: 0.041579507291316986.\n",
      "[I 2025-06-23 00:53:30,686] Trial 9 finished with value: 0.054308983186880745 and parameters: {'window_size': 21, 'hidden_size': 256, 'num_layers': 4, 'dropout_rate': 0.3900211269531271, 'learning_rate': 0.00302402517740569, 'batch_size': 128, 'weight_decay': 0.00011986281799901183}. Best is trial 1 with value: 0.041579507291316986.\n",
      "[I 2025-06-23 00:53:45,330] Trial 10 finished with value: 0.038388773798942566 and parameters: {'window_size': 50, 'hidden_size': 128, 'num_layers': 4, 'dropout_rate': 0.4796871025735363, 'learning_rate': 0.00036593858966025726, 'batch_size': 32, 'weight_decay': 1.0744583847151146e-05}. Best is trial 10 with value: 0.038388773798942566.\n",
      "[I 2025-06-23 00:54:06,120] Trial 11 finished with value: 0.04107760265469551 and parameters: {'window_size': 51, 'hidden_size': 128, 'num_layers': 4, 'dropout_rate': 0.49100983107394863, 'learning_rate': 0.0003732457092169409, 'batch_size': 32, 'weight_decay': 1.1989417814783649e-05}. Best is trial 10 with value: 0.038388773798942566.\n",
      "[I 2025-06-23 00:54:23,446] Trial 12 finished with value: 0.03345879539847374 and parameters: {'window_size': 52, 'hidden_size': 128, 'num_layers': 4, 'dropout_rate': 0.4996759435560538, 'learning_rate': 0.00048033387466678236, 'batch_size': 32, 'weight_decay': 1.2307007086692452e-05}. Best is trial 12 with value: 0.03345879539847374.\n",
      "[I 2025-06-23 00:54:54,512] Trial 13 finished with value: 0.041383651085197926 and parameters: {'window_size': 43, 'hidden_size': 128, 'num_layers': 4, 'dropout_rate': 0.4974992644446086, 'learning_rate': 0.0007290255655673225, 'batch_size': 32, 'weight_decay': 2.0358452903165936e-05}. Best is trial 12 with value: 0.03345879539847374.\n",
      "[I 2025-06-23 00:55:10,490] Trial 14 finished with value: 0.027747828513383865 and parameters: {'window_size': 52, 'hidden_size': 128, 'num_layers': 4, 'dropout_rate': 0.4476137126813466, 'learning_rate': 0.00039498674878271146, 'batch_size': 32, 'weight_decay': 3.105990171883649e-05}. Best is trial 14 with value: 0.027747828513383865.\n",
      "[I 2025-06-23 00:55:55,320] Trial 15 finished with value: 0.043586187064647675 and parameters: {'window_size': 40, 'hidden_size': 128, 'num_layers': 4, 'dropout_rate': 0.4387998961888533, 'learning_rate': 0.00010312573243232372, 'batch_size': 32, 'weight_decay': 3.269464086983186e-05}. Best is trial 14 with value: 0.027747828513383865.\n",
      "[I 2025-06-23 00:56:10,307] Trial 16 finished with value: 0.0461821548640728 and parameters: {'window_size': 38, 'hidden_size': 128, 'num_layers': 4, 'dropout_rate': 0.4428486711156951, 'learning_rate': 0.0012292242047518807, 'batch_size': 32, 'weight_decay': 5.97779956549715e-05}. Best is trial 14 with value: 0.027747828513383865.\n",
      "[I 2025-06-23 00:56:24,487] Trial 17 finished with value: 0.0368932131677866 and parameters: {'window_size': 47, 'hidden_size': 128, 'num_layers': 4, 'dropout_rate': 0.44502904110771513, 'learning_rate': 0.0005118258922988418, 'batch_size': 32, 'weight_decay': 1.939099870562238e-05}. Best is trial 14 with value: 0.027747828513383865.\n",
      "[I 2025-06-23 00:56:39,437] Trial 18 finished with value: 0.027166325598955154 and parameters: {'window_size': 52, 'hidden_size': 128, 'num_layers': 4, 'dropout_rate': 0.4192390029455568, 'learning_rate': 0.00111923117572152, 'batch_size': 32, 'weight_decay': 3.2832100606028764e-05}. Best is trial 18 with value: 0.027166325598955154.\n",
      "[I 2025-06-23 00:56:48,643] Trial 19 finished with value: 0.03814532607793808 and parameters: {'window_size': 45, 'hidden_size': 128, 'num_layers': 3, 'dropout_rate': 0.41476960172543087, 'learning_rate': 0.0011597620203906657, 'batch_size': 128, 'weight_decay': 0.00020296410204210356}. Best is trial 18 with value: 0.027166325598955154.\n",
      "[I 2025-06-23 00:57:06,843] Trial 20 finished with value: 0.04026221530511975 and parameters: {'window_size': 41, 'hidden_size': 128, 'num_layers': 3, 'dropout_rate': 0.350921182254174, 'learning_rate': 0.0010196282519370336, 'batch_size': 32, 'weight_decay': 3.086747235670686e-05}. Best is trial 18 with value: 0.027166325598955154.\n",
      "[I 2025-06-23 00:57:45,601] Trial 21 finished with value: 0.03292137756943703 and parameters: {'window_size': 52, 'hidden_size': 128, 'num_layers': 4, 'dropout_rate': 0.4638798428836944, 'learning_rate': 0.0005603982800437703, 'batch_size': 32, 'weight_decay': 1.9885234304961247e-05}. Best is trial 18 with value: 0.027166325598955154.\n",
      "[I 2025-06-23 00:58:00,793] Trial 22 finished with value: 0.042593106627464294 and parameters: {'window_size': 48, 'hidden_size': 128, 'num_layers': 4, 'dropout_rate': 0.46398907603888245, 'learning_rate': 0.0002681529034777278, 'batch_size': 32, 'weight_decay': 4.40931448389784e-05}. Best is trial 18 with value: 0.027166325598955154.\n",
      "[I 2025-06-23 00:58:21,013] Trial 23 finished with value: 0.039775799959897995 and parameters: {'window_size': 52, 'hidden_size': 128, 'num_layers': 4, 'dropout_rate': 0.4236693179143756, 'learning_rate': 0.0005694775568598909, 'batch_size': 32, 'weight_decay': 1.8047587397842713e-05}. Best is trial 18 with value: 0.027166325598955154.\n",
      "[I 2025-06-23 00:58:43,441] Trial 24 finished with value: 0.04421259090304375 and parameters: {'window_size': 48, 'hidden_size': 128, 'num_layers': 4, 'dropout_rate': 0.464069536434952, 'learning_rate': 0.0017562062248619016, 'batch_size': 32, 'weight_decay': 3.2608476542738115e-05}. Best is trial 18 with value: 0.027166325598955154.\n",
      "[I 2025-06-23 00:58:59,913] Trial 25 finished with value: 0.0459922194480896 and parameters: {'window_size': 37, 'hidden_size': 128, 'num_layers': 4, 'dropout_rate': 0.4171167836178269, 'learning_rate': 0.0008003987415069789, 'batch_size': 32, 'weight_decay': 5.4349897236130164e-05}. Best is trial 18 with value: 0.027166325598955154.\n",
      "[I 2025-06-23 00:59:21,044] Trial 26 finished with value: 0.04162989743053913 and parameters: {'window_size': 44, 'hidden_size': 128, 'num_layers': 4, 'dropout_rate': 0.40178405240832127, 'learning_rate': 0.0009369745390698016, 'batch_size': 32, 'weight_decay': 1.7936096521464133e-05}. Best is trial 18 with value: 0.027166325598955154.\n",
      "[I 2025-06-23 01:00:04,658] Trial 27 finished with value: 0.04734118655323982 and parameters: {'window_size': 49, 'hidden_size': 256, 'num_layers': 3, 'dropout_rate': 0.4672015083642421, 'learning_rate': 0.00022476796625414032, 'batch_size': 32, 'weight_decay': 6.777821592459116e-05}. Best is trial 18 with value: 0.027166325598955154.\n",
      "[I 2025-06-23 01:00:14,614] Trial 28 finished with value: 0.037210024893283844 and parameters: {'window_size': 42, 'hidden_size': 64, 'num_layers': 4, 'dropout_rate': 0.4317657156101784, 'learning_rate': 0.0005525829502758264, 'batch_size': 128, 'weight_decay': 8.026495874470009e-05}. Best is trial 18 with value: 0.027166325598955154.\n",
      "[I 2025-06-23 01:00:22,308] Trial 29 finished with value: 0.03353535011410713 and parameters: {'window_size': 52, 'hidden_size': 32, 'num_layers': 2, 'dropout_rate': 0.35605501632110237, 'learning_rate': 0.0017081760278192125, 'batch_size': 64, 'weight_decay': 0.0007083582159710291}. Best is trial 18 with value: 0.027166325598955154.\n",
      "[I 2025-06-23 01:00:33,093] Trial 30 finished with value: 0.06649925994376342 and parameters: {'window_size': 15, 'hidden_size': 128, 'num_layers': 4, 'dropout_rate': 0.45643798947902486, 'learning_rate': 0.0014154594958852914, 'batch_size': 64, 'weight_decay': 2.550351394129691e-05}. Best is trial 18 with value: 0.027166325598955154.\n",
      "[I 2025-06-23 01:00:49,546] Trial 31 finished with value: 0.033593736588954926 and parameters: {'window_size': 52, 'hidden_size': 128, 'num_layers': 4, 'dropout_rate': 0.48307770525497323, 'learning_rate': 0.00048663749299948075, 'batch_size': 32, 'weight_decay': 1.410205675828742e-05}. Best is trial 18 with value: 0.027166325598955154.\n",
      "[I 2025-06-23 01:01:04,006] Trial 32 finished with value: 0.03955871984362602 and parameters: {'window_size': 46, 'hidden_size': 128, 'num_layers': 4, 'dropout_rate': 0.47872847586913975, 'learning_rate': 0.00040855337023218977, 'batch_size': 32, 'weight_decay': 1.0281151693256374e-05}. Best is trial 18 with value: 0.027166325598955154.\n",
      "[I 2025-06-23 01:01:20,830] Trial 33 finished with value: 0.048543304204940796 and parameters: {'window_size': 49, 'hidden_size': 128, 'num_layers': 4, 'dropout_rate': 0.4976681428402255, 'learning_rate': 0.0002805790340432315, 'batch_size': 32, 'weight_decay': 4.240572939870519e-05}. Best is trial 18 with value: 0.027166325598955154.\n",
      "[I 2025-06-23 01:01:38,184] Trial 34 finished with value: 0.04852470507224401 and parameters: {'window_size': 46, 'hidden_size': 128, 'num_layers': 4, 'dropout_rate': 0.45218172160495523, 'learning_rate': 0.000646802966513174, 'batch_size': 32, 'weight_decay': 2.5407311625043044e-05}. Best is trial 18 with value: 0.027166325598955154.\n",
      "[I 2025-06-23 01:02:25,077] Trial 35 finished with value: 0.044392604380846024 and parameters: {'window_size': 50, 'hidden_size': 256, 'num_layers': 3, 'dropout_rate': 0.3706843270413615, 'learning_rate': 0.004623622378458163, 'batch_size': 32, 'weight_decay': 1.4148212852231238e-05}. Best is trial 18 with value: 0.027166325598955154.\n",
      "[I 2025-06-23 01:02:36,556] Trial 36 finished with value: 0.03640265390276909 and parameters: {'window_size': 52, 'hidden_size': 64, 'num_layers': 4, 'dropout_rate': 0.4065073135545709, 'learning_rate': 0.0004455642947959567, 'batch_size': 64, 'weight_decay': 3.812017317228363e-05}. Best is trial 18 with value: 0.027166325598955154.\n",
      "[I 2025-06-23 01:02:50,227] Trial 37 finished with value: 0.03725942596793175 and parameters: {'window_size': 44, 'hidden_size': 128, 'num_layers': 2, 'dropout_rate': 0.47561090204365764, 'learning_rate': 0.00017717775521686093, 'batch_size': 32, 'weight_decay': 0.00016189031322255898}. Best is trial 18 with value: 0.027166325598955154.\n",
      "[I 2025-06-23 01:02:58,217] Trial 38 finished with value: 0.05029989220201969 and parameters: {'window_size': 30, 'hidden_size': 32, 'num_layers': 4, 'dropout_rate': 0.3202597233550889, 'learning_rate': 0.0009051654195012639, 'batch_size': 128, 'weight_decay': 2.2411996434538728e-05}. Best is trial 18 with value: 0.027166325598955154.\n",
      "[I 2025-06-23 01:03:22,917] Trial 39 finished with value: 0.04801649165650209 and parameters: {'window_size': 36, 'hidden_size': 64, 'num_layers': 3, 'dropout_rate': 0.42399715696133367, 'learning_rate': 0.00031579122615706286, 'batch_size': 32, 'weight_decay': 2.9943627300393356e-05}. Best is trial 18 with value: 0.027166325598955154.\n",
      "[I 2025-06-23 01:03:40,735] Trial 40 finished with value: 0.04057859256863594 and parameters: {'window_size': 48, 'hidden_size': 32, 'num_layers': 4, 'dropout_rate': 0.274415825661948, 'learning_rate': 0.002120476485895067, 'batch_size': 64, 'weight_decay': 1.4630827660977213e-05}. Best is trial 18 with value: 0.027166325598955154.\n",
      "[I 2025-06-23 01:04:01,657] Trial 41 finished with value: 0.03436778485774994 and parameters: {'window_size': 52, 'hidden_size': 32, 'num_layers': 2, 'dropout_rate': 0.34248927679483343, 'learning_rate': 0.0006180594964298096, 'batch_size': 64, 'weight_decay': 0.0005263820110984334}. Best is trial 18 with value: 0.027166325598955154.\n",
      "[I 2025-06-23 01:04:12,147] Trial 42 finished with value: 0.046410080045461655 and parameters: {'window_size': 50, 'hidden_size': 32, 'num_layers': 2, 'dropout_rate': 0.3617484713939196, 'learning_rate': 0.0019013482850597108, 'batch_size': 64, 'weight_decay': 0.0006280913800669203}. Best is trial 18 with value: 0.027166325598955154.\n",
      "[I 2025-06-23 01:04:21,544] Trial 43 finished with value: 0.042337704449892044 and parameters: {'window_size': 50, 'hidden_size': 32, 'num_layers': 2, 'dropout_rate': 0.38006655968448555, 'learning_rate': 0.00269007856330177, 'batch_size': 64, 'weight_decay': 0.0003114742296192909}. Best is trial 18 with value: 0.027166325598955154.\n",
      "[I 2025-06-23 01:04:30,512] Trial 44 finished with value: 0.04106210172176361 and parameters: {'window_size': 47, 'hidden_size': 32, 'num_layers': 3, 'dropout_rate': 0.3964448878018356, 'learning_rate': 0.0013759613525308825, 'batch_size': 64, 'weight_decay': 1.5596764048396435e-05}. Best is trial 18 with value: 0.027166325598955154.\n",
      "[I 2025-06-23 01:04:51,342] Trial 45 finished with value: 0.03204197809100151 and parameters: {'window_size': 52, 'hidden_size': 256, 'num_layers': 2, 'dropout_rate': 0.2839449098456988, 'learning_rate': 0.0003543353011637598, 'batch_size': 64, 'weight_decay': 0.00016432801391194702}. Best is trial 18 with value: 0.027166325598955154.\n",
      "[I 2025-06-23 01:05:40,702] Trial 46 finished with value: 0.04009901359677315 and parameters: {'window_size': 50, 'hidden_size': 256, 'num_layers': 3, 'dropout_rate': 0.2668394236497511, 'learning_rate': 0.00022643875278871795, 'batch_size': 32, 'weight_decay': 0.00013819719035978336}. Best is trial 18 with value: 0.027166325598955154.\n",
      "[I 2025-06-23 01:05:55,475] Trial 47 finished with value: 0.05585594226916631 and parameters: {'window_size': 21, 'hidden_size': 256, 'num_layers': 4, 'dropout_rate': 0.2105605552519873, 'learning_rate': 0.00033569357867778074, 'batch_size': 128, 'weight_decay': 0.00019796294903994132}. Best is trial 18 with value: 0.027166325598955154.\n",
      "[I 2025-06-23 01:06:55,165] Trial 48 finished with value: 0.04383407595256964 and parameters: {'window_size': 45, 'hidden_size': 256, 'num_layers': 4, 'dropout_rate': 0.2532919475567881, 'learning_rate': 0.00013971175487959215, 'batch_size': 32, 'weight_decay': 9.539332276326773e-05}. Best is trial 18 with value: 0.027166325598955154.\n",
      "[I 2025-06-23 01:07:39,856] Trial 49 finished with value: 0.03737074434757233 and parameters: {'window_size': 40, 'hidden_size': 256, 'num_layers': 3, 'dropout_rate': 0.22939228656880956, 'learning_rate': 0.00042524111876355143, 'batch_size': 32, 'weight_decay': 1.2494166111425646e-05}. Best is trial 18 with value: 0.027166325598955154.\n",
      "[I 2025-06-23 01:07:54,996] Trial 50 finished with value: 0.049574664793908596 and parameters: {'window_size': 30, 'hidden_size': 128, 'num_layers': 4, 'dropout_rate': 0.29489414342171894, 'learning_rate': 0.000766069948323026, 'batch_size': 64, 'weight_decay': 0.00026484756778520917}. Best is trial 18 with value: 0.027166325598955154.\n",
      "[I 2025-06-23 01:08:07,007] Trial 51 finished with value: 0.04235568642616272 and parameters: {'window_size': 52, 'hidden_size': 32, 'num_layers': 2, 'dropout_rate': 0.32171556702999776, 'learning_rate': 0.0003893211426243563, 'batch_size': 64, 'weight_decay': 0.0008813294119766185}. Best is trial 18 with value: 0.027166325598955154.\n",
      "[I 2025-06-23 01:08:17,595] Trial 52 finished with value: 0.052325744181871414 and parameters: {'window_size': 51, 'hidden_size': 128, 'num_layers': 2, 'dropout_rate': 0.339546482079211, 'learning_rate': 0.0010603610766869156, 'batch_size': 64, 'weight_decay': 0.0004698241409209906}. Best is trial 18 with value: 0.027166325598955154.\n",
      "[I 2025-06-23 01:08:56,819] Trial 53 finished with value: 0.040066979825496674 and parameters: {'window_size': 48, 'hidden_size': 256, 'num_layers': 2, 'dropout_rate': 0.44068037439242436, 'learning_rate': 0.0004983960570245441, 'batch_size': 64, 'weight_decay': 0.0006958195286318201}. Best is trial 18 with value: 0.027166325598955154.\n",
      "[I 2025-06-23 01:09:10,759] Trial 54 finished with value: 0.04296595975756645 and parameters: {'window_size': 50, 'hidden_size': 128, 'num_layers': 2, 'dropout_rate': 0.4879971714127725, 'learning_rate': 0.0014585201603152125, 'batch_size': 64, 'weight_decay': 2.1617030251347844e-05}. Best is trial 18 with value: 0.027166325598955154.\n",
      "[I 2025-06-23 01:09:24,287] Trial 55 finished with value: 0.04141014628112316 and parameters: {'window_size': 47, 'hidden_size': 128, 'num_layers': 2, 'dropout_rate': 0.4993228326193182, 'learning_rate': 0.00027504016602284456, 'batch_size': 32, 'weight_decay': 0.00037957807277075426}. Best is trial 18 with value: 0.027166325598955154.\n",
      "[I 2025-06-23 01:09:40,543] Trial 56 finished with value: 0.03676137328147888 and parameters: {'window_size': 52, 'hidden_size': 64, 'num_layers': 2, 'dropout_rate': 0.45274608991283083, 'learning_rate': 0.0006710119515933887, 'batch_size': 32, 'weight_decay': 0.0009784457413280993}. Best is trial 18 with value: 0.027166325598955154.\n",
      "[I 2025-06-23 01:09:53,477] Trial 57 finished with value: 0.036844924092292786 and parameters: {'window_size': 49, 'hidden_size': 128, 'num_layers': 4, 'dropout_rate': 0.470263396352852, 'learning_rate': 0.002495590551733258, 'batch_size': 64, 'weight_decay': 1.6578741423383462e-05}. Best is trial 18 with value: 0.027166325598955154.\n",
      "[I 2025-06-23 01:10:25,051] Trial 58 finished with value: 0.03663688898086548 and parameters: {'window_size': 46, 'hidden_size': 256, 'num_layers': 4, 'dropout_rate': 0.3062882186380369, 'learning_rate': 0.0008173780260017037, 'batch_size': 128, 'weight_decay': 6.718385690371912e-05}. Best is trial 18 with value: 0.027166325598955154.\n",
      "[I 2025-06-23 01:10:44,231] Trial 59 finished with value: 0.04107870658238729 and parameters: {'window_size': 44, 'hidden_size': 128, 'num_layers': 2, 'dropout_rate': 0.4332781096561046, 'learning_rate': 0.0003474786952868699, 'batch_size': 32, 'weight_decay': 3.9182495725540754e-05}. Best is trial 18 with value: 0.027166325598955154.\n",
      "[I 2025-06-23 01:11:01,902] Trial 60 finished with value: 0.04195258021354675 and parameters: {'window_size': 51, 'hidden_size': 32, 'num_layers': 4, 'dropout_rate': 0.36886184064510863, 'learning_rate': 0.0005717928653039442, 'batch_size': 32, 'weight_decay': 5.2876733479821164e-05}. Best is trial 18 with value: 0.027166325598955154.\n",
      "[I 2025-06-23 01:11:30,587] Trial 61 finished with value: 0.029705429449677467 and parameters: {'window_size': 52, 'hidden_size': 128, 'num_layers': 4, 'dropout_rate': 0.48638067936180074, 'learning_rate': 0.00046102265143336434, 'batch_size': 32, 'weight_decay': 1.1473915230227358e-05}. Best is trial 18 with value: 0.027166325598955154.\n",
      "[I 2025-06-23 01:11:46,859] Trial 62 finished with value: 0.04648306965827942 and parameters: {'window_size': 49, 'hidden_size': 128, 'num_layers': 4, 'dropout_rate': 0.49040427022008626, 'learning_rate': 0.000466303130229024, 'batch_size': 32, 'weight_decay': 1.0202742359696691e-05}. Best is trial 18 with value: 0.027166325598955154.\n",
      "[I 2025-06-23 01:12:03,743] Trial 63 finished with value: 0.046480972319841385 and parameters: {'window_size': 51, 'hidden_size': 128, 'num_layers': 4, 'dropout_rate': 0.4577332067241382, 'learning_rate': 0.0002454715493172319, 'batch_size': 32, 'weight_decay': 1.2701023406131202e-05}. Best is trial 18 with value: 0.027166325598955154.\n",
      "[I 2025-06-23 01:12:23,061] Trial 64 finished with value: 0.04409884661436081 and parameters: {'window_size': 48, 'hidden_size': 128, 'num_layers': 4, 'dropout_rate': 0.47901571734891735, 'learning_rate': 0.001214929138624773, 'batch_size': 32, 'weight_decay': 2.8893320976134275e-05}. Best is trial 18 with value: 0.027166325598955154.\n",
      "[I 2025-06-23 01:12:38,986] Trial 65 finished with value: 0.03396831080317497 and parameters: {'window_size': 51, 'hidden_size': 128, 'num_layers': 4, 'dropout_rate': 0.4677732791064976, 'learning_rate': 0.00038123960798694027, 'batch_size': 32, 'weight_decay': 1.1809041017119961e-05}. Best is trial 18 with value: 0.027166325598955154.\n",
      "[I 2025-06-23 01:13:08,946] Trial 66 finished with value: 0.05070464230246014 and parameters: {'window_size': 27, 'hidden_size': 128, 'num_layers': 4, 'dropout_rate': 0.41040098798915897, 'learning_rate': 0.0005459764352258373, 'batch_size': 32, 'weight_decay': 1.777295147148868e-05}. Best is trial 18 with value: 0.027166325598955154.\n",
      "[I 2025-06-23 01:13:25,873] Trial 67 finished with value: 0.036353692412376404 and parameters: {'window_size': 52, 'hidden_size': 128, 'num_layers': 4, 'dropout_rate': 0.3917511393596285, 'learning_rate': 0.0002934089733910715, 'batch_size': 32, 'weight_decay': 2.08509872687113e-05}. Best is trial 18 with value: 0.027166325598955154.\n",
      "[I 2025-06-23 01:13:41,816] Trial 68 finished with value: 0.050237828865647316 and parameters: {'window_size': 49, 'hidden_size': 128, 'num_layers': 4, 'dropout_rate': 0.44812168274720865, 'learning_rate': 0.001588579988255746, 'batch_size': 32, 'weight_decay': 5.080361321220016e-05}. Best is trial 18 with value: 0.027166325598955154.\n",
      "[I 2025-06-23 01:13:56,720] Trial 69 finished with value: 0.05842359470469611 and parameters: {'window_size': 14, 'hidden_size': 64, 'num_layers': 3, 'dropout_rate': 0.4884224343090592, 'learning_rate': 0.0008953986621342255, 'batch_size': 64, 'weight_decay': 2.4214740531640266e-05}. Best is trial 18 with value: 0.027166325598955154.\n",
      "[I 2025-06-23 01:14:09,967] Trial 70 finished with value: 0.041478533297777176 and parameters: {'window_size': 47, 'hidden_size': 128, 'num_layers': 4, 'dropout_rate': 0.4255412321988069, 'learning_rate': 0.0006882622055272402, 'batch_size': 128, 'weight_decay': 3.544299683400558e-05}. Best is trial 18 with value: 0.027166325598955154.\n",
      "[I 2025-06-23 01:14:28,522] Trial 71 finished with value: 0.031036674976348877 and parameters: {'window_size': 52, 'hidden_size': 128, 'num_layers': 4, 'dropout_rate': 0.48390508622323947, 'learning_rate': 0.0004945531902105745, 'batch_size': 32, 'weight_decay': 1.5162933220323919e-05}. Best is trial 18 with value: 0.027166325598955154.\n",
      "[I 2025-06-23 01:14:44,799] Trial 72 finished with value: 0.041028376668691635 and parameters: {'window_size': 51, 'hidden_size': 128, 'num_layers': 4, 'dropout_rate': 0.4627315162202725, 'learning_rate': 0.0004460945485717726, 'batch_size': 32, 'weight_decay': 1.1187564576001228e-05}. Best is trial 18 with value: 0.027166325598955154.\n",
      "[I 2025-06-23 01:15:01,302] Trial 73 finished with value: 0.03275318816304207 and parameters: {'window_size': 52, 'hidden_size': 128, 'num_layers': 4, 'dropout_rate': 0.47559473081324344, 'learning_rate': 0.0005863378146019427, 'batch_size': 32, 'weight_decay': 1.8877048275932472e-05}. Best is trial 18 with value: 0.027166325598955154.\n",
      "[I 2025-06-23 01:15:16,919] Trial 74 finished with value: 0.04469645395874977 and parameters: {'window_size': 49, 'hidden_size': 128, 'num_layers': 4, 'dropout_rate': 0.47554692467834625, 'learning_rate': 0.0006123819151146539, 'batch_size': 32, 'weight_decay': 1.984910851327198e-05}. Best is trial 18 with value: 0.027166325598955154.\n",
      "[I 2025-06-23 01:15:31,836] Trial 75 finished with value: 0.046897970139980316 and parameters: {'window_size': 50, 'hidden_size': 128, 'num_layers': 4, 'dropout_rate': 0.4857349529523308, 'learning_rate': 0.000537746307845439, 'batch_size': 32, 'weight_decay': 2.763754593322113e-05}. Best is trial 18 with value: 0.027166325598955154.\n",
      "[I 2025-06-23 01:15:51,684] Trial 76 finished with value: 0.036115504801273346 and parameters: {'window_size': 52, 'hidden_size': 128, 'num_layers': 4, 'dropout_rate': 0.47127947830127376, 'learning_rate': 0.0003212274098773604, 'batch_size': 32, 'weight_decay': 1.4835374163994236e-05}. Best is trial 18 with value: 0.027166325598955154.\n",
      "[I 2025-06-23 01:16:09,294] Trial 77 finished with value: 0.04431089758872986 and parameters: {'window_size': 48, 'hidden_size': 128, 'num_layers': 4, 'dropout_rate': 0.49976897095667927, 'learning_rate': 0.0004931666801176682, 'batch_size': 32, 'weight_decay': 1.341295323161855e-05}. Best is trial 18 with value: 0.027166325598955154.\n",
      "[I 2025-06-23 01:16:25,634] Trial 78 finished with value: 0.027282124385237694 and parameters: {'window_size': 51, 'hidden_size': 128, 'num_layers': 4, 'dropout_rate': 0.45812172456358946, 'learning_rate': 0.00042263953730626533, 'batch_size': 32, 'weight_decay': 1.6680993748349265e-05}. Best is trial 18 with value: 0.027166325598955154.\n",
      "[I 2025-06-23 01:16:44,454] Trial 79 finished with value: 0.04526299610733986 and parameters: {'window_size': 50, 'hidden_size': 128, 'num_layers': 4, 'dropout_rate': 0.4343435409848444, 'learning_rate': 0.0003576289092096073, 'batch_size': 32, 'weight_decay': 1.7602922501053684e-05}. Best is trial 18 with value: 0.027166325598955154.\n",
      "[I 2025-06-23 01:17:00,714] Trial 80 finished with value: 0.030600953847169876 and parameters: {'window_size': 51, 'hidden_size': 128, 'num_layers': 4, 'dropout_rate': 0.445874316104169, 'learning_rate': 0.0004262738143513774, 'batch_size': 32, 'weight_decay': 2.4414533880195082e-05}. Best is trial 18 with value: 0.027166325598955154.\n",
      "[I 2025-06-23 01:17:20,541] Trial 81 finished with value: 0.04767492040991783 and parameters: {'window_size': 51, 'hidden_size': 128, 'num_layers': 4, 'dropout_rate': 0.446444318218886, 'learning_rate': 0.0004518875651258814, 'batch_size': 32, 'weight_decay': 2.4137319817938218e-05}. Best is trial 18 with value: 0.027166325598955154.\n",
      "[I 2025-06-23 01:17:37,231] Trial 82 finished with value: 0.03623851761221886 and parameters: {'window_size': 51, 'hidden_size': 128, 'num_layers': 4, 'dropout_rate': 0.46102542838131455, 'learning_rate': 0.0004098422465956092, 'batch_size': 32, 'weight_decay': 1.6325983015827386e-05}. Best is trial 18 with value: 0.027166325598955154.\n",
      "[I 2025-06-23 01:17:54,321] Trial 83 finished with value: 0.04240726213902235 and parameters: {'window_size': 49, 'hidden_size': 128, 'num_layers': 4, 'dropout_rate': 0.45328285574666494, 'learning_rate': 0.000594597436385076, 'batch_size': 32, 'weight_decay': 3.224237076912891e-05}. Best is trial 18 with value: 0.027166325598955154.\n",
      "[I 2025-06-23 01:18:16,983] Trial 84 finished with value: 0.05676259514358309 and parameters: {'window_size': 25, 'hidden_size': 128, 'num_layers': 4, 'dropout_rate': 0.44339475605980566, 'learning_rate': 0.000716820144671295, 'batch_size': 32, 'weight_decay': 1.9197747217443464e-05}. Best is trial 18 with value: 0.027166325598955154.\n",
      "[I 2025-06-23 01:19:16,495] Trial 85 finished with value: 0.04654676653444767 and parameters: {'window_size': 47, 'hidden_size': 256, 'num_layers': 4, 'dropout_rate': 0.48109771695750486, 'learning_rate': 0.0003760914634788081, 'batch_size': 32, 'weight_decay': 2.272973356475042e-05}. Best is trial 18 with value: 0.027166325598955154.\n",
      "[I 2025-06-23 01:19:32,746] Trial 86 finished with value: 0.03476708382368088 and parameters: {'window_size': 52, 'hidden_size': 128, 'num_layers': 4, 'dropout_rate': 0.4175495336967526, 'learning_rate': 0.00030358684370191313, 'batch_size': 32, 'weight_decay': 2.7398817506630185e-05}. Best is trial 18 with value: 0.027166325598955154.\n",
      "[I 2025-06-23 01:19:55,306] Trial 87 finished with value: 0.047525595873594284 and parameters: {'window_size': 34, 'hidden_size': 128, 'num_layers': 4, 'dropout_rate': 0.4719563050993715, 'learning_rate': 0.0004083431644498573, 'batch_size': 32, 'weight_decay': 0.00011784441952671451}. Best is trial 18 with value: 0.027166325598955154.\n",
      "[I 2025-06-23 01:20:12,544] Trial 88 finished with value: 0.04239922078947226 and parameters: {'window_size': 45, 'hidden_size': 128, 'num_layers': 4, 'dropout_rate': 0.46120718269018973, 'learning_rate': 0.000518470287176469, 'batch_size': 32, 'weight_decay': 0.00023079989060091708}. Best is trial 18 with value: 0.027166325598955154.\n",
      "[I 2025-06-23 01:21:13,204] Trial 89 finished with value: 0.03902960196137428 and parameters: {'window_size': 50, 'hidden_size': 256, 'num_layers': 4, 'dropout_rate': 0.4329404857532009, 'learning_rate': 0.00024614387895084634, 'batch_size': 32, 'weight_decay': 1.5756587714560886e-05}. Best is trial 18 with value: 0.027166325598955154.\n",
      "[I 2025-06-23 01:21:28,922] Trial 90 finished with value: 0.04600990749895573 and parameters: {'window_size': 48, 'hidden_size': 128, 'num_layers': 3, 'dropout_rate': 0.45118934847971465, 'learning_rate': 0.00033759484727440323, 'batch_size': 32, 'weight_decay': 3.445181244705806e-05}. Best is trial 18 with value: 0.027166325598955154.\n",
      "[I 2025-06-23 01:21:45,076] Trial 91 finished with value: 0.0335819236934185 and parameters: {'window_size': 52, 'hidden_size': 128, 'num_layers': 4, 'dropout_rate': 0.4938346488975551, 'learning_rate': 0.00047701000912859424, 'batch_size': 32, 'weight_decay': 1.1431703562580792e-05}. Best is trial 18 with value: 0.027166325598955154.\n",
      "[I 2025-06-23 01:22:08,481] Trial 92 finished with value: 0.0433768592774868 and parameters: {'window_size': 51, 'hidden_size': 128, 'num_layers': 4, 'dropout_rate': 0.4838822903769977, 'learning_rate': 0.0006370708479104994, 'batch_size': 32, 'weight_decay': 1.3555647012838337e-05}. Best is trial 18 with value: 0.027166325598955154.\n",
      "[I 2025-06-23 01:22:25,417] Trial 93 finished with value: 0.03934263437986374 and parameters: {'window_size': 50, 'hidden_size': 128, 'num_layers': 4, 'dropout_rate': 0.47509792393772954, 'learning_rate': 0.0004288437427390722, 'batch_size': 32, 'weight_decay': 1.8962684676580387e-05}. Best is trial 18 with value: 0.027166325598955154.\n",
      "[I 2025-06-23 01:23:04,464] Trial 94 finished with value: 0.03663079813122749 and parameters: {'window_size': 52, 'hidden_size': 128, 'num_layers': 4, 'dropout_rate': 0.4644211454805594, 'learning_rate': 0.0005156432199191765, 'batch_size': 32, 'weight_decay': 1.0211028410578285e-05}. Best is trial 18 with value: 0.027166325598955154.\n",
      "[I 2025-06-23 01:23:21,432] Trial 95 finished with value: 0.04539187625050545 and parameters: {'window_size': 49, 'hidden_size': 64, 'num_layers': 4, 'dropout_rate': 0.45639482120613034, 'learning_rate': 0.0007895093764607616, 'batch_size': 32, 'weight_decay': 0.00015237675647257625}. Best is trial 18 with value: 0.027166325598955154.\n",
      "[I 2025-06-23 01:23:31,614] Trial 96 finished with value: 0.04139601066708565 and parameters: {'window_size': 51, 'hidden_size': 128, 'num_layers': 4, 'dropout_rate': 0.4894296335514595, 'learning_rate': 0.0005662779151445036, 'batch_size': 128, 'weight_decay': 1.2377036674304649e-05}. Best is trial 18 with value: 0.027166325598955154.\n",
      "[I 2025-06-23 01:23:49,120] Trial 97 finished with value: 0.0417964830994606 and parameters: {'window_size': 50, 'hidden_size': 128, 'num_layers': 4, 'dropout_rate': 0.4789130266641177, 'learning_rate': 0.0003892261745951433, 'batch_size': 32, 'weight_decay': 9.051268899929305e-05}. Best is trial 18 with value: 0.027166325598955154.\n",
      "[I 2025-06-23 01:25:24,519] Trial 98 finished with value: 0.027735481038689613 and parameters: {'window_size': 52, 'hidden_size': 256, 'num_layers': 4, 'dropout_rate': 0.43741123741384264, 'learning_rate': 0.00035614229447266163, 'batch_size': 32, 'weight_decay': 2.192642980252151e-05}. Best is trial 18 with value: 0.027166325598955154.\n",
      "[I 2025-06-23 01:26:26,685] Trial 99 finished with value: 0.04470014199614525 and parameters: {'window_size': 51, 'hidden_size': 256, 'num_layers': 4, 'dropout_rate': 0.42630289759007195, 'learning_rate': 0.00026420840580597, 'batch_size': 32, 'weight_decay': 2.151282262593564e-05}. Best is trial 18 with value: 0.027166325598955154.\n",
      "\n",
      "Mejores hiperparámetros encontrados:\n",
      "{'window_size': 52, 'hidden_size': 128, 'num_layers': 4, 'dropout_rate': 0.4192390029455568, 'learning_rate': 0.00111923117572152, 'batch_size': 32, 'weight_decay': 3.2832100606028764e-05}\n",
      "\n",
      "Mejor pérdida en validación: 0.0272\n",
      "\n",
      "### Entrenando ensemble de modelos finales ###\n",
      "\n",
      "Entrenando modelo 1/5\n",
      "Época 50/300, Pérdida: 0.0218\n",
      "Época 100/300, Pérdida: 0.0110\n",
      "Época 150/300, Pérdida: 0.0082\n",
      "Época 200/300, Pérdida: 0.0055\n",
      "Época 250/300, Pérdida: 0.0037\n",
      "Época 300/300, Pérdida: 0.0033\n",
      "\n",
      "Entrenando modelo 2/5\n",
      "Época 50/300, Pérdida: 0.0246\n",
      "Época 100/300, Pérdida: 0.0094\n",
      "Época 150/300, Pérdida: 0.0082\n",
      "Época 200/300, Pérdida: 0.0064\n",
      "Época 250/300, Pérdida: 0.0054\n",
      "Época 300/300, Pérdida: 0.0043\n",
      "\n",
      "Entrenando modelo 3/5\n",
      "Época 50/300, Pérdida: 0.0334\n",
      "Época 100/300, Pérdida: 0.0133\n",
      "Época 150/300, Pérdida: 0.0092\n",
      "Época 200/300, Pérdida: 0.0087\n",
      "Época 250/300, Pérdida: 0.0043\n",
      "Época 300/300, Pérdida: 0.0035\n",
      "\n",
      "Entrenando modelo 4/5\n",
      "Época 50/300, Pérdida: 0.0316\n",
      "Época 100/300, Pérdida: 0.0114\n",
      "Época 150/300, Pérdida: 0.0072\n",
      "Época 200/300, Pérdida: 0.0057\n",
      "Época 250/300, Pérdida: 0.0045\n",
      "Época 300/300, Pérdida: 0.0034\n",
      "\n",
      "Entrenando modelo 5/5\n",
      "Época 50/300, Pérdida: 0.0222\n",
      "Época 100/300, Pérdida: 0.0104\n",
      "Época 150/300, Pérdida: 0.0079\n",
      "Época 200/300, Pérdida: 0.0047\n",
      "Época 250/300, Pérdida: 0.0045\n",
      "Época 300/300, Pérdida: 0.0048\n",
      "\n",
      "### Generando pronósticos con ensemble para 2022 ###\n",
      "\n",
      "Pronósticos generados: 520 registros\n",
      "\n",
      "Estadísticas de pronósticos:\n",
      "count    520.000000\n",
      "mean       3.640646\n",
      "std        1.528886\n",
      "min        0.215106\n",
      "25%        2.476128\n",
      "50%        3.642076\n",
      "75%        4.671286\n",
      "max        7.222804\n",
      "Name: dengue, dtype: float64\n",
      "\n",
      "Primeras filas del archivo de salida:\n",
      "          id  dengue\n",
      "0  0_2022_01    2.40\n",
      "1  0_2022_02    3.39\n",
      "2  0_2022_03    4.69\n",
      "3  0_2022_04    5.73\n",
      "4  0_2022_05    5.77\n",
      "5  0_2022_06    6.26\n",
      "6  0_2022_07    6.03\n",
      "7  0_2022_08    6.08\n",
      "8  0_2022_09    5.25\n",
      "9  0_2022_10    6.66\n",
      "\n",
      "Total de registros: 520\n",
      "\n",
      "Archivo 'pronosticos_GRU_optimizado_20250623_014104.csv' guardado exitosamente.\n"
     ]
    },
    {
     "data": {
      "application/vnd.plotly.v1+json": {
       "config": {
        "plotlyServerURL": "https://plot.ly"
       },
       "data": [
        {
         "line": {
          "width": 2
         },
         "marker": {
          "size": 6
         },
         "mode": "lines+markers",
         "name": "Barrio 0",
         "type": "scatter",
         "x": {
          "bdata": "AQIDBAUGBwgJCgsMDQ4PEBESExQVFhcYGRobHB0eHyAhIiMkJSYnKCkqKywtLi8wMTIzNA==",
          "dtype": "i1"
         },
         "y": {
          "bdata": "ZlWh8iIxA0AaflzDbRwLQD61VKcgwBJAyjtqDj7uFkDSV7Q+uxgXQADElgFLDRlAW2q6zgYiGEBIzqNBh08YQMDsIK3GAxVA0/DpIVCmGkCA/jh2CbYaQPMKEpVmEhtAoGBQOX4JG0DkkY1uwEkZQEo3K0avCxhAlezbT6/DG0D2lfvlp6cbQGrkt09AqBpAHlL07J0zFkD4xsaKIZIZQIBxuQRJJBtAoFlZn2r6GkDTulLqD+UaQD9HJ8KqDRhAM5sjS0yEG0CizT6wvmIbQDCadUM0WRpASDTESt+ZFkAdwJ/0tLoZQHUOPa387xlA+1C7nSbkHEDw0v/SHdQaQA2rCbr2YRtAPStQeWBHG0Ba/BwCRCkbQLDO1wVhMxtAaw1tCyKFG0Cas9cfwPkYQPKvsOkRdRpAfijMN7ZjGUA4GnEQMfUZQLYG+ugO+RlAPb4BLcn1GUA1gFriOQQaQOXj0PCyixtAvvfVl+RdHEASaSsqvRwcQI2ITHWXkhlA8k94Jv4GGkBDN/tCbpAYQI8UhCYO1hhA0B4IoM89GEA=",
          "dtype": "f8"
         }
        },
        {
         "line": {
          "width": 2
         },
         "marker": {
          "size": 6
         },
         "mode": "lines+markers",
         "name": "Barrio 1",
         "type": "scatter",
         "x": {
          "bdata": "AQIDBAUGBwgJCgsMDQ4PEBESExQVFhcYGRobHB0eHyAhIiMkJSYnKCkqKywtLi8wMTIzNA==",
          "dtype": "i1"
         },
         "y": {
          "bdata": "BhjBtDvz6T+CZVTznQPkP7v8K+ZS2f4/ksKhiUWIDUAd1Tn2o9IKQJVtEPY+IQtAmRB5qgvhBEDS1A6wEBQIQHKdNafQlQZAV+rhiCoXBkCGc+KjlCAIQOXZH9BSHg1Ari0PG7ezBkAnGg8yF0sHQDreTNbH4AZAbbx2pgMxCUC+P+HC60ULQHDKVd7WnA1A5mNqcKxXB0CjfVR0jJYKQCNz51pSmAtAbS4LSR2UDkBYiQ/BFycGQA42hmD9axBAXZj0rnbVEEC+Z3TS/6MQQCoe1oGvAhBAEOsRoUV9CkBWXcVTIaMOQGA5jlwexRJAJpAHKtkfEkA9D6uJZa0RQHuM4MuGaA9Atq/oZqrbCkAccnunbisQQFo7p2jF1xNAkeINlOhIEUDaYAjwm1cSQEV9ptj+1BJAWWYd0mdBE0CUH5V1tiERQGIxQ7C2mBFAKPuaT3gYEkC099PMLcUSQC1xLqGzMhJAIMg9YGF4EkDfHz2uUEIUQMIGMMGOjBNAsl+LMLw+E0AX6zPsLh0SQI6jnHaaZRJAaJpx+glfEkA=",
          "dtype": "f8"
         }
        },
        {
         "line": {
          "width": 2
         },
         "marker": {
          "size": 6
         },
         "mode": "lines+markers",
         "name": "Barrio 2",
         "type": "scatter",
         "x": {
          "bdata": "AQIDBAUGBwgJCgsMDQ4PEBESExQVFhcYGRobHB0eHyAhIiMkJSYnKCkqKywtLi8wMTIzNA==",
          "dtype": "i1"
         },
         "y": {
          "bdata": "WHNC5NK62z+glYj3eUXbP3gAqJKN/+4/wj261F6P6D86qdPoapLsPxZs7Plqhvg/GGwB9ExT/T+UraSwxKD1P47qXT9FROc/1mxWwlHo9z+iIu1IMRT9P56c9kHQt/4/iyl55uwN7T/SIGqgWCj0PwWNeDxANO0/8uT4yA0n9z9Uu5hZSx4BQAiW3lJ1Dv8/D+U3f3bRAEC10XcGitf+P/LG687MQO4/tOGPemrs9j+9IBgvJ5P9PxuFrMHBPQFAM41nqqao/T/pIiGTnmYBQGFYlQoEGgFA24RkpYPX7j/5t3oKYmj2Pyeo2VwI+wNA1eeNUdPIAUDLMDYn+IoAQElUOkcyCgJAW3mk4S1hAUAG4CruEsIEQLq14EykTAdAunQ/+r9oBkCZLktbUMYGQKNaUV31KA5Adqd52bCUAEDI7whXmU0QQHCrgPN3ixdAfRP+wWFgFkBeyQj89q4VQBsJS0D4bRRAR/uR6SaGE0DyhpWFNVcQQHIifS5+WBBAS+2wQTFjDECUksze+CsRQFrg++SMMQtAGq7UQBJ4CUA=",
          "dtype": "f8"
         }
        },
        {
         "line": {
          "width": 2
         },
         "marker": {
          "size": 6
         },
         "mode": "lines+markers",
         "name": "Barrio 3",
         "type": "scatter",
         "x": {
          "bdata": "AQIDBAUGBwgJCgsMDQ4PEBESExQVFhcYGRobHB0eHyAhIiMkJSYnKCkqKywtLi8wMTIzNA==",
          "dtype": "i1"
         },
         "y": {
          "bdata": "AAoJ6Ifn7z/Rcue08SbnP5hvNY/XBgpAKyxc8J5nDkD61EmA06QRQI5ceXYFlRFAdDH8+091EEBCLZO10/sOQP7akA2YEQ5AG53lf7iyDUAVn3XP9sgMQCYeX0E96ApAa4TWDmFCD0Db4yTnyi4MQD30TLlh8wxApUXzWyENDkCNPj4XTpAVQCKFPtM1XRJAFJn+dBc/EkATLpQT4VcRQGYuP7sZswtAE1wQK5RdDUAUoAhoMYAUQH4T2CKD2xJAkqUkElOvEkDS533m4qQRQM73aOynjhJAMr1ZzEPfEUAaDYnTROISQAaqQBijQBJA8N/TlctuFEBGCLnuE/kSQEwbiPSnEBNA4P5lrTAsE0A+d4gLKe0TQMZs4DFRKhJAUrLR9DeOEUAeUmJK+nsVQAEtuvGIMxRAIExpGxWZDEBy7PeTNDARQAn3kaKDMRdA0gWB53yaFECIh1dKII4UQHIjnXgt2xNAqHP4IdxlE0B1cEyMxZcVQJWQ2w7bRRtAq61YWwf8FkBK+RH4m9EWQC7J34tP8BZA/YX6R+GUE0A=",
          "dtype": "f8"
         }
        },
        {
         "line": {
          "width": 2
         },
         "marker": {
          "size": 6
         },
         "mode": "lines+markers",
         "name": "Barrio 4",
         "type": "scatter",
         "x": {
          "bdata": "AQIDBAUGBwgJCgsMDQ4PEBESExQVFhcYGRobHB0eHyAhIiMkJSYnKCkqKywtLi8wMTIzNA==",
          "dtype": "i1"
         },
         "y": {
          "bdata": "v6A0wr9b8D++uLuXimXqP3ADzio1awBAFWPXjTm/AEAdqQRwo0IDQKYu6aTzyQdAyPXEJQrOCkAWSpTRagYIQMVSCRFkzQ9AgOpN+HH2CkDwIqdiSjcQQB0iJlx25wxAI5MJ4i/GC0DOT/qxE/gQQL08jvC6FBBAAleusGmBDUCgmL+/1l0PQLbibIm6zw9AwjIMPkILEEDlejd7524PQE6HLOvSBwZAUH43OzK/D0C6JuWkcWsQQEWQjzXrWBBAK+oUx9s5EEBUJfF2TScRQBCFzdPoTBFAn/CPhcupEEAOefNoP/wQQC4c5YuYARFAkbPuxJ4OEkC4+FFOXG8RQIbyMWLzSRFAXYe9PVYjDkBwdplPOxsSQPulR2vS3BFA62dUpT19EUCIM2m06NUMQE5gxn295hpAAzuVanJFFUDaQL3KxbQUQAPlkZl6Jg9A6v2mweE3FECm6HyrFCwVQGwEikp9vxRAaKCcgRCQEEC6tpUwfzoSQKd4bKH4EhZAFID9dfziFEBOGxa5ayMTQMIcsOTlSw9Aas7+vQ3wEEA=",
          "dtype": "f8"
         }
        }
       ],
       "layout": {
        "hovermode": "x unified",
        "template": {
         "data": {
          "bar": [
           {
            "error_x": {
             "color": "#2a3f5f"
            },
            "error_y": {
             "color": "#2a3f5f"
            },
            "marker": {
             "line": {
              "color": "white",
              "width": 0.5
             },
             "pattern": {
              "fillmode": "overlay",
              "size": 10,
              "solidity": 0.2
             }
            },
            "type": "bar"
           }
          ],
          "barpolar": [
           {
            "marker": {
             "line": {
              "color": "white",
              "width": 0.5
             },
             "pattern": {
              "fillmode": "overlay",
              "size": 10,
              "solidity": 0.2
             }
            },
            "type": "barpolar"
           }
          ],
          "carpet": [
           {
            "aaxis": {
             "endlinecolor": "#2a3f5f",
             "gridcolor": "#C8D4E3",
             "linecolor": "#C8D4E3",
             "minorgridcolor": "#C8D4E3",
             "startlinecolor": "#2a3f5f"
            },
            "baxis": {
             "endlinecolor": "#2a3f5f",
             "gridcolor": "#C8D4E3",
             "linecolor": "#C8D4E3",
             "minorgridcolor": "#C8D4E3",
             "startlinecolor": "#2a3f5f"
            },
            "type": "carpet"
           }
          ],
          "choropleth": [
           {
            "colorbar": {
             "outlinewidth": 0,
             "ticks": ""
            },
            "type": "choropleth"
           }
          ],
          "contour": [
           {
            "colorbar": {
             "outlinewidth": 0,
             "ticks": ""
            },
            "colorscale": [
             [
              0,
              "#0d0887"
             ],
             [
              0.1111111111111111,
              "#46039f"
             ],
             [
              0.2222222222222222,
              "#7201a8"
             ],
             [
              0.3333333333333333,
              "#9c179e"
             ],
             [
              0.4444444444444444,
              "#bd3786"
             ],
             [
              0.5555555555555556,
              "#d8576b"
             ],
             [
              0.6666666666666666,
              "#ed7953"
             ],
             [
              0.7777777777777778,
              "#fb9f3a"
             ],
             [
              0.8888888888888888,
              "#fdca26"
             ],
             [
              1,
              "#f0f921"
             ]
            ],
            "type": "contour"
           }
          ],
          "contourcarpet": [
           {
            "colorbar": {
             "outlinewidth": 0,
             "ticks": ""
            },
            "type": "contourcarpet"
           }
          ],
          "heatmap": [
           {
            "colorbar": {
             "outlinewidth": 0,
             "ticks": ""
            },
            "colorscale": [
             [
              0,
              "#0d0887"
             ],
             [
              0.1111111111111111,
              "#46039f"
             ],
             [
              0.2222222222222222,
              "#7201a8"
             ],
             [
              0.3333333333333333,
              "#9c179e"
             ],
             [
              0.4444444444444444,
              "#bd3786"
             ],
             [
              0.5555555555555556,
              "#d8576b"
             ],
             [
              0.6666666666666666,
              "#ed7953"
             ],
             [
              0.7777777777777778,
              "#fb9f3a"
             ],
             [
              0.8888888888888888,
              "#fdca26"
             ],
             [
              1,
              "#f0f921"
             ]
            ],
            "type": "heatmap"
           }
          ],
          "histogram": [
           {
            "marker": {
             "pattern": {
              "fillmode": "overlay",
              "size": 10,
              "solidity": 0.2
             }
            },
            "type": "histogram"
           }
          ],
          "histogram2d": [
           {
            "colorbar": {
             "outlinewidth": 0,
             "ticks": ""
            },
            "colorscale": [
             [
              0,
              "#0d0887"
             ],
             [
              0.1111111111111111,
              "#46039f"
             ],
             [
              0.2222222222222222,
              "#7201a8"
             ],
             [
              0.3333333333333333,
              "#9c179e"
             ],
             [
              0.4444444444444444,
              "#bd3786"
             ],
             [
              0.5555555555555556,
              "#d8576b"
             ],
             [
              0.6666666666666666,
              "#ed7953"
             ],
             [
              0.7777777777777778,
              "#fb9f3a"
             ],
             [
              0.8888888888888888,
              "#fdca26"
             ],
             [
              1,
              "#f0f921"
             ]
            ],
            "type": "histogram2d"
           }
          ],
          "histogram2dcontour": [
           {
            "colorbar": {
             "outlinewidth": 0,
             "ticks": ""
            },
            "colorscale": [
             [
              0,
              "#0d0887"
             ],
             [
              0.1111111111111111,
              "#46039f"
             ],
             [
              0.2222222222222222,
              "#7201a8"
             ],
             [
              0.3333333333333333,
              "#9c179e"
             ],
             [
              0.4444444444444444,
              "#bd3786"
             ],
             [
              0.5555555555555556,
              "#d8576b"
             ],
             [
              0.6666666666666666,
              "#ed7953"
             ],
             [
              0.7777777777777778,
              "#fb9f3a"
             ],
             [
              0.8888888888888888,
              "#fdca26"
             ],
             [
              1,
              "#f0f921"
             ]
            ],
            "type": "histogram2dcontour"
           }
          ],
          "mesh3d": [
           {
            "colorbar": {
             "outlinewidth": 0,
             "ticks": ""
            },
            "type": "mesh3d"
           }
          ],
          "parcoords": [
           {
            "line": {
             "colorbar": {
              "outlinewidth": 0,
              "ticks": ""
             }
            },
            "type": "parcoords"
           }
          ],
          "pie": [
           {
            "automargin": true,
            "type": "pie"
           }
          ],
          "scatter": [
           {
            "fillpattern": {
             "fillmode": "overlay",
             "size": 10,
             "solidity": 0.2
            },
            "type": "scatter"
           }
          ],
          "scatter3d": [
           {
            "line": {
             "colorbar": {
              "outlinewidth": 0,
              "ticks": ""
             }
            },
            "marker": {
             "colorbar": {
              "outlinewidth": 0,
              "ticks": ""
             }
            },
            "type": "scatter3d"
           }
          ],
          "scattercarpet": [
           {
            "marker": {
             "colorbar": {
              "outlinewidth": 0,
              "ticks": ""
             }
            },
            "type": "scattercarpet"
           }
          ],
          "scattergeo": [
           {
            "marker": {
             "colorbar": {
              "outlinewidth": 0,
              "ticks": ""
             }
            },
            "type": "scattergeo"
           }
          ],
          "scattergl": [
           {
            "marker": {
             "colorbar": {
              "outlinewidth": 0,
              "ticks": ""
             }
            },
            "type": "scattergl"
           }
          ],
          "scattermap": [
           {
            "marker": {
             "colorbar": {
              "outlinewidth": 0,
              "ticks": ""
             }
            },
            "type": "scattermap"
           }
          ],
          "scattermapbox": [
           {
            "marker": {
             "colorbar": {
              "outlinewidth": 0,
              "ticks": ""
             }
            },
            "type": "scattermapbox"
           }
          ],
          "scatterpolar": [
           {
            "marker": {
             "colorbar": {
              "outlinewidth": 0,
              "ticks": ""
             }
            },
            "type": "scatterpolar"
           }
          ],
          "scatterpolargl": [
           {
            "marker": {
             "colorbar": {
              "outlinewidth": 0,
              "ticks": ""
             }
            },
            "type": "scatterpolargl"
           }
          ],
          "scatterternary": [
           {
            "marker": {
             "colorbar": {
              "outlinewidth": 0,
              "ticks": ""
             }
            },
            "type": "scatterternary"
           }
          ],
          "surface": [
           {
            "colorbar": {
             "outlinewidth": 0,
             "ticks": ""
            },
            "colorscale": [
             [
              0,
              "#0d0887"
             ],
             [
              0.1111111111111111,
              "#46039f"
             ],
             [
              0.2222222222222222,
              "#7201a8"
             ],
             [
              0.3333333333333333,
              "#9c179e"
             ],
             [
              0.4444444444444444,
              "#bd3786"
             ],
             [
              0.5555555555555556,
              "#d8576b"
             ],
             [
              0.6666666666666666,
              "#ed7953"
             ],
             [
              0.7777777777777778,
              "#fb9f3a"
             ],
             [
              0.8888888888888888,
              "#fdca26"
             ],
             [
              1,
              "#f0f921"
             ]
            ],
            "type": "surface"
           }
          ],
          "table": [
           {
            "cells": {
             "fill": {
              "color": "#EBF0F8"
             },
             "line": {
              "color": "white"
             }
            },
            "header": {
             "fill": {
              "color": "#C8D4E3"
             },
             "line": {
              "color": "white"
             }
            },
            "type": "table"
           }
          ]
         },
         "layout": {
          "annotationdefaults": {
           "arrowcolor": "#2a3f5f",
           "arrowhead": 0,
           "arrowwidth": 1
          },
          "autotypenumbers": "strict",
          "coloraxis": {
           "colorbar": {
            "outlinewidth": 0,
            "ticks": ""
           }
          },
          "colorscale": {
           "diverging": [
            [
             0,
             "#8e0152"
            ],
            [
             0.1,
             "#c51b7d"
            ],
            [
             0.2,
             "#de77ae"
            ],
            [
             0.3,
             "#f1b6da"
            ],
            [
             0.4,
             "#fde0ef"
            ],
            [
             0.5,
             "#f7f7f7"
            ],
            [
             0.6,
             "#e6f5d0"
            ],
            [
             0.7,
             "#b8e186"
            ],
            [
             0.8,
             "#7fbc41"
            ],
            [
             0.9,
             "#4d9221"
            ],
            [
             1,
             "#276419"
            ]
           ],
           "sequential": [
            [
             0,
             "#0d0887"
            ],
            [
             0.1111111111111111,
             "#46039f"
            ],
            [
             0.2222222222222222,
             "#7201a8"
            ],
            [
             0.3333333333333333,
             "#9c179e"
            ],
            [
             0.4444444444444444,
             "#bd3786"
            ],
            [
             0.5555555555555556,
             "#d8576b"
            ],
            [
             0.6666666666666666,
             "#ed7953"
            ],
            [
             0.7777777777777778,
             "#fb9f3a"
            ],
            [
             0.8888888888888888,
             "#fdca26"
            ],
            [
             1,
             "#f0f921"
            ]
           ],
           "sequentialminus": [
            [
             0,
             "#0d0887"
            ],
            [
             0.1111111111111111,
             "#46039f"
            ],
            [
             0.2222222222222222,
             "#7201a8"
            ],
            [
             0.3333333333333333,
             "#9c179e"
            ],
            [
             0.4444444444444444,
             "#bd3786"
            ],
            [
             0.5555555555555556,
             "#d8576b"
            ],
            [
             0.6666666666666666,
             "#ed7953"
            ],
            [
             0.7777777777777778,
             "#fb9f3a"
            ],
            [
             0.8888888888888888,
             "#fdca26"
            ],
            [
             1,
             "#f0f921"
            ]
           ]
          },
          "colorway": [
           "#636efa",
           "#EF553B",
           "#00cc96",
           "#ab63fa",
           "#FFA15A",
           "#19d3f3",
           "#FF6692",
           "#B6E880",
           "#FF97FF",
           "#FECB52"
          ],
          "font": {
           "color": "#2a3f5f"
          },
          "geo": {
           "bgcolor": "white",
           "lakecolor": "white",
           "landcolor": "white",
           "showlakes": true,
           "showland": true,
           "subunitcolor": "#C8D4E3"
          },
          "hoverlabel": {
           "align": "left"
          },
          "hovermode": "closest",
          "mapbox": {
           "style": "light"
          },
          "paper_bgcolor": "white",
          "plot_bgcolor": "white",
          "polar": {
           "angularaxis": {
            "gridcolor": "#EBF0F8",
            "linecolor": "#EBF0F8",
            "ticks": ""
           },
           "bgcolor": "white",
           "radialaxis": {
            "gridcolor": "#EBF0F8",
            "linecolor": "#EBF0F8",
            "ticks": ""
           }
          },
          "scene": {
           "xaxis": {
            "backgroundcolor": "white",
            "gridcolor": "#DFE8F3",
            "gridwidth": 2,
            "linecolor": "#EBF0F8",
            "showbackground": true,
            "ticks": "",
            "zerolinecolor": "#EBF0F8"
           },
           "yaxis": {
            "backgroundcolor": "white",
            "gridcolor": "#DFE8F3",
            "gridwidth": 2,
            "linecolor": "#EBF0F8",
            "showbackground": true,
            "ticks": "",
            "zerolinecolor": "#EBF0F8"
           },
           "zaxis": {
            "backgroundcolor": "white",
            "gridcolor": "#DFE8F3",
            "gridwidth": 2,
            "linecolor": "#EBF0F8",
            "showbackground": true,
            "ticks": "",
            "zerolinecolor": "#EBF0F8"
           }
          },
          "shapedefaults": {
           "line": {
            "color": "#2a3f5f"
           }
          },
          "ternary": {
           "aaxis": {
            "gridcolor": "#DFE8F3",
            "linecolor": "#A2B1C6",
            "ticks": ""
           },
           "baxis": {
            "gridcolor": "#DFE8F3",
            "linecolor": "#A2B1C6",
            "ticks": ""
           },
           "bgcolor": "white",
           "caxis": {
            "gridcolor": "#DFE8F3",
            "linecolor": "#A2B1C6",
            "ticks": ""
           }
          },
          "title": {
           "x": 0.05
          },
          "xaxis": {
           "automargin": true,
           "gridcolor": "#EBF0F8",
           "linecolor": "#EBF0F8",
           "ticks": "",
           "title": {
            "standoff": 15
           },
           "zerolinecolor": "#EBF0F8",
           "zerolinewidth": 2
          },
          "yaxis": {
           "automargin": true,
           "gridcolor": "#EBF0F8",
           "linecolor": "#EBF0F8",
           "ticks": "",
           "title": {
            "standoff": 15
           },
           "zerolinecolor": "#EBF0F8",
           "zerolinewidth": 2
          }
         }
        },
        "title": {
         "text": "Pronósticos de Dengue para 2022 - Modelo Optimizado (Muestra de 5 Barrios)"
        },
        "xaxis": {
         "title": {
          "text": "Semana del Año"
         }
        },
        "yaxis": {
         "title": {
          "text": "Casos de Dengue"
         }
        }
       }
      }
     },
     "metadata": {},
     "output_type": "display_data"
    },
    {
     "data": {
      "application/vnd.plotly.v1+json": {
       "config": {
        "plotlyServerURL": "https://plot.ly"
       },
       "data": [
        {
         "name": "Pronósticos 2022",
         "nbinsx": 50,
         "type": "histogram",
         "x": {
          "bdata": "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",
          "dtype": "f8"
         }
        }
       ],
       "layout": {
        "template": {
         "data": {
          "bar": [
           {
            "error_x": {
             "color": "#2a3f5f"
            },
            "error_y": {
             "color": "#2a3f5f"
            },
            "marker": {
             "line": {
              "color": "white",
              "width": 0.5
             },
             "pattern": {
              "fillmode": "overlay",
              "size": 10,
              "solidity": 0.2
             }
            },
            "type": "bar"
           }
          ],
          "barpolar": [
           {
            "marker": {
             "line": {
              "color": "white",
              "width": 0.5
             },
             "pattern": {
              "fillmode": "overlay",
              "size": 10,
              "solidity": 0.2
             }
            },
            "type": "barpolar"
           }
          ],
          "carpet": [
           {
            "aaxis": {
             "endlinecolor": "#2a3f5f",
             "gridcolor": "#C8D4E3",
             "linecolor": "#C8D4E3",
             "minorgridcolor": "#C8D4E3",
             "startlinecolor": "#2a3f5f"
            },
            "baxis": {
             "endlinecolor": "#2a3f5f",
             "gridcolor": "#C8D4E3",
             "linecolor": "#C8D4E3",
             "minorgridcolor": "#C8D4E3",
             "startlinecolor": "#2a3f5f"
            },
            "type": "carpet"
           }
          ],
          "choropleth": [
           {
            "colorbar": {
             "outlinewidth": 0,
             "ticks": ""
            },
            "type": "choropleth"
           }
          ],
          "contour": [
           {
            "colorbar": {
             "outlinewidth": 0,
             "ticks": ""
            },
            "colorscale": [
             [
              0,
              "#0d0887"
             ],
             [
              0.1111111111111111,
              "#46039f"
             ],
             [
              0.2222222222222222,
              "#7201a8"
             ],
             [
              0.3333333333333333,
              "#9c179e"
             ],
             [
              0.4444444444444444,
              "#bd3786"
             ],
             [
              0.5555555555555556,
              "#d8576b"
             ],
             [
              0.6666666666666666,
              "#ed7953"
             ],
             [
              0.7777777777777778,
              "#fb9f3a"
             ],
             [
              0.8888888888888888,
              "#fdca26"
             ],
             [
              1,
              "#f0f921"
             ]
            ],
            "type": "contour"
           }
          ],
          "contourcarpet": [
           {
            "colorbar": {
             "outlinewidth": 0,
             "ticks": ""
            },
            "type": "contourcarpet"
           }
          ],
          "heatmap": [
           {
            "colorbar": {
             "outlinewidth": 0,
             "ticks": ""
            },
            "colorscale": [
             [
              0,
              "#0d0887"
             ],
             [
              0.1111111111111111,
              "#46039f"
             ],
             [
              0.2222222222222222,
              "#7201a8"
             ],
             [
              0.3333333333333333,
              "#9c179e"
             ],
             [
              0.4444444444444444,
              "#bd3786"
             ],
             [
              0.5555555555555556,
              "#d8576b"
             ],
             [
              0.6666666666666666,
              "#ed7953"
             ],
             [
              0.7777777777777778,
              "#fb9f3a"
             ],
             [
              0.8888888888888888,
              "#fdca26"
             ],
             [
              1,
              "#f0f921"
             ]
            ],
            "type": "heatmap"
           }
          ],
          "histogram": [
           {
            "marker": {
             "pattern": {
              "fillmode": "overlay",
              "size": 10,
              "solidity": 0.2
             }
            },
            "type": "histogram"
           }
          ],
          "histogram2d": [
           {
            "colorbar": {
             "outlinewidth": 0,
             "ticks": ""
            },
            "colorscale": [
             [
              0,
              "#0d0887"
             ],
             [
              0.1111111111111111,
              "#46039f"
             ],
             [
              0.2222222222222222,
              "#7201a8"
             ],
             [
              0.3333333333333333,
              "#9c179e"
             ],
             [
              0.4444444444444444,
              "#bd3786"
             ],
             [
              0.5555555555555556,
              "#d8576b"
             ],
             [
              0.6666666666666666,
              "#ed7953"
             ],
             [
              0.7777777777777778,
              "#fb9f3a"
             ],
             [
              0.8888888888888888,
              "#fdca26"
             ],
             [
              1,
              "#f0f921"
             ]
            ],
            "type": "histogram2d"
           }
          ],
          "histogram2dcontour": [
           {
            "colorbar": {
             "outlinewidth": 0,
             "ticks": ""
            },
            "colorscale": [
             [
              0,
              "#0d0887"
             ],
             [
              0.1111111111111111,
              "#46039f"
             ],
             [
              0.2222222222222222,
              "#7201a8"
             ],
             [
              0.3333333333333333,
              "#9c179e"
             ],
             [
              0.4444444444444444,
              "#bd3786"
             ],
             [
              0.5555555555555556,
              "#d8576b"
             ],
             [
              0.6666666666666666,
              "#ed7953"
             ],
             [
              0.7777777777777778,
              "#fb9f3a"
             ],
             [
              0.8888888888888888,
              "#fdca26"
             ],
             [
              1,
              "#f0f921"
             ]
            ],
            "type": "histogram2dcontour"
           }
          ],
          "mesh3d": [
           {
            "colorbar": {
             "outlinewidth": 0,
             "ticks": ""
            },
            "type": "mesh3d"
           }
          ],
          "parcoords": [
           {
            "line": {
             "colorbar": {
              "outlinewidth": 0,
              "ticks": ""
             }
            },
            "type": "parcoords"
           }
          ],
          "pie": [
           {
            "automargin": true,
            "type": "pie"
           }
          ],
          "scatter": [
           {
            "fillpattern": {
             "fillmode": "overlay",
             "size": 10,
             "solidity": 0.2
            },
            "type": "scatter"
           }
          ],
          "scatter3d": [
           {
            "line": {
             "colorbar": {
              "outlinewidth": 0,
              "ticks": ""
             }
            },
            "marker": {
             "colorbar": {
              "outlinewidth": 0,
              "ticks": ""
             }
            },
            "type": "scatter3d"
           }
          ],
          "scattercarpet": [
           {
            "marker": {
             "colorbar": {
              "outlinewidth": 0,
              "ticks": ""
             }
            },
            "type": "scattercarpet"
           }
          ],
          "scattergeo": [
           {
            "marker": {
             "colorbar": {
              "outlinewidth": 0,
              "ticks": ""
             }
            },
            "type": "scattergeo"
           }
          ],
          "scattergl": [
           {
            "marker": {
             "colorbar": {
              "outlinewidth": 0,
              "ticks": ""
             }
            },
            "type": "scattergl"
           }
          ],
          "scattermap": [
           {
            "marker": {
             "colorbar": {
              "outlinewidth": 0,
              "ticks": ""
             }
            },
            "type": "scattermap"
           }
          ],
          "scattermapbox": [
           {
            "marker": {
             "colorbar": {
              "outlinewidth": 0,
              "ticks": ""
             }
            },
            "type": "scattermapbox"
           }
          ],
          "scatterpolar": [
           {
            "marker": {
             "colorbar": {
              "outlinewidth": 0,
              "ticks": ""
             }
            },
            "type": "scatterpolar"
           }
          ],
          "scatterpolargl": [
           {
            "marker": {
             "colorbar": {
              "outlinewidth": 0,
              "ticks": ""
             }
            },
            "type": "scatterpolargl"
           }
          ],
          "scatterternary": [
           {
            "marker": {
             "colorbar": {
              "outlinewidth": 0,
              "ticks": ""
             }
            },
            "type": "scatterternary"
           }
          ],
          "surface": [
           {
            "colorbar": {
             "outlinewidth": 0,
             "ticks": ""
            },
            "colorscale": [
             [
              0,
              "#0d0887"
             ],
             [
              0.1111111111111111,
              "#46039f"
             ],
             [
              0.2222222222222222,
              "#7201a8"
             ],
             [
              0.3333333333333333,
              "#9c179e"
             ],
             [
              0.4444444444444444,
              "#bd3786"
             ],
             [
              0.5555555555555556,
              "#d8576b"
             ],
             [
              0.6666666666666666,
              "#ed7953"
             ],
             [
              0.7777777777777778,
              "#fb9f3a"
             ],
             [
              0.8888888888888888,
              "#fdca26"
             ],
             [
              1,
              "#f0f921"
             ]
            ],
            "type": "surface"
           }
          ],
          "table": [
           {
            "cells": {
             "fill": {
              "color": "#EBF0F8"
             },
             "line": {
              "color": "white"
             }
            },
            "header": {
             "fill": {
              "color": "#C8D4E3"
             },
             "line": {
              "color": "white"
             }
            },
            "type": "table"
           }
          ]
         },
         "layout": {
          "annotationdefaults": {
           "arrowcolor": "#2a3f5f",
           "arrowhead": 0,
           "arrowwidth": 1
          },
          "autotypenumbers": "strict",
          "coloraxis": {
           "colorbar": {
            "outlinewidth": 0,
            "ticks": ""
           }
          },
          "colorscale": {
           "diverging": [
            [
             0,
             "#8e0152"
            ],
            [
             0.1,
             "#c51b7d"
            ],
            [
             0.2,
             "#de77ae"
            ],
            [
             0.3,
             "#f1b6da"
            ],
            [
             0.4,
             "#fde0ef"
            ],
            [
             0.5,
             "#f7f7f7"
            ],
            [
             0.6,
             "#e6f5d0"
            ],
            [
             0.7,
             "#b8e186"
            ],
            [
             0.8,
             "#7fbc41"
            ],
            [
             0.9,
             "#4d9221"
            ],
            [
             1,
             "#276419"
            ]
           ],
           "sequential": [
            [
             0,
             "#0d0887"
            ],
            [
             0.1111111111111111,
             "#46039f"
            ],
            [
             0.2222222222222222,
             "#7201a8"
            ],
            [
             0.3333333333333333,
             "#9c179e"
            ],
            [
             0.4444444444444444,
             "#bd3786"
            ],
            [
             0.5555555555555556,
             "#d8576b"
            ],
            [
             0.6666666666666666,
             "#ed7953"
            ],
            [
             0.7777777777777778,
             "#fb9f3a"
            ],
            [
             0.8888888888888888,
             "#fdca26"
            ],
            [
             1,
             "#f0f921"
            ]
           ],
           "sequentialminus": [
            [
             0,
             "#0d0887"
            ],
            [
             0.1111111111111111,
             "#46039f"
            ],
            [
             0.2222222222222222,
             "#7201a8"
            ],
            [
             0.3333333333333333,
             "#9c179e"
            ],
            [
             0.4444444444444444,
             "#bd3786"
            ],
            [
             0.5555555555555556,
             "#d8576b"
            ],
            [
             0.6666666666666666,
             "#ed7953"
            ],
            [
             0.7777777777777778,
             "#fb9f3a"
            ],
            [
             0.8888888888888888,
             "#fdca26"
            ],
            [
             1,
             "#f0f921"
            ]
           ]
          },
          "colorway": [
           "#636efa",
           "#EF553B",
           "#00cc96",
           "#ab63fa",
           "#FFA15A",
           "#19d3f3",
           "#FF6692",
           "#B6E880",
           "#FF97FF",
           "#FECB52"
          ],
          "font": {
           "color": "#2a3f5f"
          },
          "geo": {
           "bgcolor": "white",
           "lakecolor": "white",
           "landcolor": "white",
           "showlakes": true,
           "showland": true,
           "subunitcolor": "#C8D4E3"
          },
          "hoverlabel": {
           "align": "left"
          },
          "hovermode": "closest",
          "mapbox": {
           "style": "light"
          },
          "paper_bgcolor": "white",
          "plot_bgcolor": "white",
          "polar": {
           "angularaxis": {
            "gridcolor": "#EBF0F8",
            "linecolor": "#EBF0F8",
            "ticks": ""
           },
           "bgcolor": "white",
           "radialaxis": {
            "gridcolor": "#EBF0F8",
            "linecolor": "#EBF0F8",
            "ticks": ""
           }
          },
          "scene": {
           "xaxis": {
            "backgroundcolor": "white",
            "gridcolor": "#DFE8F3",
            "gridwidth": 2,
            "linecolor": "#EBF0F8",
            "showbackground": true,
            "ticks": "",
            "zerolinecolor": "#EBF0F8"
           },
           "yaxis": {
            "backgroundcolor": "white",
            "gridcolor": "#DFE8F3",
            "gridwidth": 2,
            "linecolor": "#EBF0F8",
            "showbackground": true,
            "ticks": "",
            "zerolinecolor": "#EBF0F8"
           },
           "zaxis": {
            "backgroundcolor": "white",
            "gridcolor": "#DFE8F3",
            "gridwidth": 2,
            "linecolor": "#EBF0F8",
            "showbackground": true,
            "ticks": "",
            "zerolinecolor": "#EBF0F8"
           }
          },
          "shapedefaults": {
           "line": {
            "color": "#2a3f5f"
           }
          },
          "ternary": {
           "aaxis": {
            "gridcolor": "#DFE8F3",
            "linecolor": "#A2B1C6",
            "ticks": ""
           },
           "baxis": {
            "gridcolor": "#DFE8F3",
            "linecolor": "#A2B1C6",
            "ticks": ""
           },
           "bgcolor": "white",
           "caxis": {
            "gridcolor": "#DFE8F3",
            "linecolor": "#A2B1C6",
            "ticks": ""
           }
          },
          "title": {
           "x": 0.05
          },
          "xaxis": {
           "automargin": true,
           "gridcolor": "#EBF0F8",
           "linecolor": "#EBF0F8",
           "ticks": "",
           "title": {
            "standoff": 15
           },
           "zerolinecolor": "#EBF0F8",
           "zerolinewidth": 2
          },
          "yaxis": {
           "automargin": true,
           "gridcolor": "#EBF0F8",
           "linecolor": "#EBF0F8",
           "ticks": "",
           "title": {
            "standoff": 15
           },
           "zerolinecolor": "#EBF0F8",
           "zerolinewidth": 2
          }
         }
        },
        "title": {
         "text": "Distribución de Pronósticos de Dengue 2022"
        },
        "xaxis": {
         "title": {
          "text": "Casos de Dengue"
         }
        },
        "yaxis": {
         "title": {
          "text": "Frecuencia"
         }
        }
       }
      }
     },
     "metadata": {},
     "output_type": "display_data"
    },
    {
     "name": "stdout",
     "output_type": "stream",
     "text": [
      "\n",
      "### Proceso completado exitosamente ###\n",
      "\n",
      "Mejoras implementadas para minimizar MSE:\n",
      "1. Transformación logarítmica de la variable objetivo\n",
      "2. Ingeniería de características: lags, medias móviles, características cíclicas\n",
      "3. RobustScaler para manejar outliers\n",
      "4. Data augmentation con ruido gaussiano\n",
      "5. Modelo GRU bidireccional con attention mechanism y batch normalization\n",
      "6. Función de pérdida Huber (robusta ante outliers)\n",
      "7. Ensemble de 5 modelos\n",
      "8. Learning rate scheduling y gradient clipping\n",
      "9. Optimización AdamW con weight decay\n",
      "10. Mayor espacio de búsqueda de hiperparámetros\n"
     ]
    }
   ],
   "source": [
    "#!/usr/bin/env python\n",
    "# coding: utf-8\n",
    "\n",
    "# # Pronóstico de Casos de Dengue por Barrio usando GRU - Versión Optimizada\n",
    "# ## Red Neuronal Recurrente para Series Temporales Multivariadas con MSE Minimizado\n",
    "\n",
    "# ### 1. Configuración e Importación de Librerías\n",
    "\n",
    "import pandas as pd\n",
    "import numpy as np\n",
    "import torch\n",
    "import torch.nn as nn\n",
    "import torch.nn.functional as F\n",
    "from torch.utils.data import Dataset, DataLoader\n",
    "from torch.optim.lr_scheduler import ReduceLROnPlateau\n",
    "from sklearn.preprocessing import StandardScaler, RobustScaler, LabelEncoder\n",
    "from sklearn.metrics import mean_squared_error, mean_absolute_error\n",
    "import optuna\n",
    "import plotly.graph_objects as go\n",
    "import plotly.express as px\n",
    "from datetime import datetime\n",
    "import warnings\n",
    "warnings.filterwarnings('ignore')\n",
    "\n",
    "# Configurar dispositivo de cómputo\n",
    "device = torch.device('cuda' if torch.cuda.is_available() else 'cpu')\n",
    "print(f\"Dispositivo de cómputo: {device}\")\n",
    "\n",
    "# Establecer semilla para reproducibilidad\n",
    "np.random.seed(42)\n",
    "torch.manual_seed(42)\n",
    "if torch.cuda.is_available():\n",
    "    torch.cuda.manual_seed(42)\n",
    "\n",
    "# ### 2. Carga y Preparación de Datos\n",
    "\n",
    "# Cargar datos desde el archivo Parquet\n",
    "df = pd.read_parquet('../../Datos/df_train.parquet')\n",
    "print(f\"Dimensiones del DataFrame: {df.shape}\")\n",
    "print(\"\\nPrimeras filas:\")\n",
    "print(df.head())\n",
    "print(\"\\nInformación del DataFrame:\")\n",
    "print(df.info())\n",
    "\n",
    "# Crear columna de fecha usando formato de semanas ISO\n",
    "df['fecha'] = pd.to_datetime(df['anio'].astype(str) + df['semana'].astype(str) + '1', format='%G%V%u')\n",
    "\n",
    "# Establecer fecha como índice y ordenar\n",
    "df = df.set_index('fecha').sort_index()\n",
    "print(f\"\\nRango temporal: {df.index.min()} - {df.index.max()}\")\n",
    "\n",
    "# ### 3. Preprocesamiento e Ingeniería de Características Mejorada\n",
    "\n",
    "# División de datos según el año\n",
    "train_data = df[df['anio'] < 2021]\n",
    "val_data = df[df['anio'] == 2021]\n",
    "print(f\"\\nTamaño conjunto entrenamiento: {len(train_data)}\")\n",
    "print(f\"Tamaño conjunto validación: {len(val_data)}\")\n",
    "\n",
    "# Identificar columnas numéricas y categóricas\n",
    "categorical_cols = ['id_bar', 'ESTRATO']\n",
    "numerical_cols = [col for col in df.columns if col not in categorical_cols + ['anio', 'semana']]\n",
    "target_col = 'dengue'\n",
    "\n",
    "print(f\"\\nColumnas categóricas: {categorical_cols}\")\n",
    "print(f\"Columnas numéricas: {numerical_cols}\")\n",
    "print(f\"Variable objetivo: {target_col}\")\n",
    "\n",
    "# ### MEJORA 1: Transformación logarítmica para estabilizar la varianza\n",
    "# Aplicar transformación log1p a la variable objetivo para manejar valores sesgados\n",
    "df['dengue_log'] = np.log1p(df['dengue'])\n",
    "target_col_transformed = 'dengue_log'\n",
    "\n",
    "# ### MEJORA 2: Ingeniería de características adicionales\n",
    "# Agregar características temporales cíclicas\n",
    "df['sin_semana'] = np.sin(2 * np.pi * df['semana'] / 52)\n",
    "df['cos_semana'] = np.cos(2 * np.pi * df['semana'] / 52)\n",
    "\n",
    "# Agregar lags de la variable objetivo por barrio\n",
    "lag_features = []\n",
    "for lag in [1, 2, 4, 8, 12]:  # Lags de 1, 2, 4, 8 y 12 semanas\n",
    "    lag_col = f'dengue_lag_{lag}'\n",
    "    df[lag_col] = df.groupby('id_bar')['dengue'].shift(lag)\n",
    "    lag_features.append(lag_col)\n",
    "\n",
    "# Agregar media móvil y desviación estándar móvil\n",
    "for window in [4, 8, 12]:\n",
    "    ma_col = f'dengue_ma_{window}'\n",
    "    std_col = f'dengue_std_{window}'\n",
    "    # Usar transform para mantener el índice original\n",
    "    df[ma_col] = df.groupby('id_bar')['dengue'].transform(lambda x: x.rolling(window=window, min_periods=1).mean())\n",
    "    df[std_col] = df.groupby('id_bar')['dengue'].transform(lambda x: x.rolling(window=window, min_periods=1).std())\n",
    "    lag_features.extend([ma_col, std_col])\n",
    "\n",
    "# Rellenar valores faltantes en features de lag\n",
    "df[lag_features] = df[lag_features].fillna(0)\n",
    "# Para las desviaciones estándar, también rellenar NaN que pueden aparecer en ventanas pequeñas\n",
    "std_cols = [col for col in lag_features if 'std' in col]\n",
    "df[std_cols] = df[std_cols].fillna(0)\n",
    "\n",
    "# Actualizar lista de columnas numéricas\n",
    "numerical_cols.extend(['sin_semana', 'cos_semana', 'dengue_log'] + lag_features)\n",
    "numerical_cols = list(set(numerical_cols))  # Eliminar duplicados\n",
    "\n",
    "# Codificar variables categóricas para embeddings\n",
    "label_encoders = {}\n",
    "for col in categorical_cols:\n",
    "    le = LabelEncoder()\n",
    "    df[col + '_encoded'] = le.fit_transform(df[col])\n",
    "    label_encoders[col] = le\n",
    "    print(f\"\\nCardinalidad de {col}: {len(le.classes_)}\")\n",
    "\n",
    "# Actualizar división con columnas codificadas\n",
    "train_data = df[df['anio'] < 2021]\n",
    "val_data = df[df['anio'] == 2021]\n",
    "\n",
    "# ### MEJORA 3: Usar RobustScaler para manejar outliers\n",
    "scaler = RobustScaler()\n",
    "scaler.fit(train_data[numerical_cols])\n",
    "\n",
    "# Aplicar escalado\n",
    "train_scaled = train_data.copy()\n",
    "val_scaled = val_data.copy()\n",
    "train_scaled[numerical_cols] = scaler.transform(train_data[numerical_cols])\n",
    "val_scaled[numerical_cols] = scaler.transform(val_data[numerical_cols])\n",
    "\n",
    "# ### MEJORA 4: Función mejorada para crear secuencias con data augmentation\n",
    "def create_sequences_augmented(data, window_size, target_col, feature_cols, categorical_cols_encoded, \n",
    "                              augment=False, noise_level=0.01):\n",
    "    \"\"\"\n",
    "    Crea secuencias de ventanas deslizantes para el modelo GRU con opción de augmentation.\n",
    "    \"\"\"\n",
    "    sequences_num = []\n",
    "    sequences_cat = []\n",
    "    targets = []\n",
    "    barrio_ids = []\n",
    "    \n",
    "    # Agrupar por barrio para mantener continuidad temporal\n",
    "    for barrio in data['id_bar'].unique():\n",
    "        barrio_data = data[data['id_bar'] == barrio].sort_index()\n",
    "        \n",
    "        if len(barrio_data) <= window_size:\n",
    "            continue\n",
    "            \n",
    "        for i in range(len(barrio_data) - window_size):\n",
    "            # Secuencia de características numéricas\n",
    "            seq_num = barrio_data[feature_cols].iloc[i:i+window_size].values\n",
    "            \n",
    "            # Data augmentation: agregar ruido gaussiano pequeño durante entrenamiento\n",
    "            if augment and np.random.random() > 0.5:\n",
    "                noise = np.random.normal(0, noise_level, seq_num.shape)\n",
    "                seq_num = seq_num + noise\n",
    "            \n",
    "            # Secuencia de características categóricas\n",
    "            seq_cat = barrio_data[categorical_cols_encoded].iloc[i:i+window_size].values\n",
    "            # Valor objetivo\n",
    "            target = barrio_data[target_col].iloc[i+window_size]\n",
    "            \n",
    "            sequences_num.append(seq_num)\n",
    "            sequences_cat.append(seq_cat)\n",
    "            targets.append(target)\n",
    "            barrio_ids.append(barrio)\n",
    "    \n",
    "    return (np.array(sequences_num, dtype=np.float32), \n",
    "            np.array(sequences_cat, dtype=np.int64),\n",
    "            np.array(targets, dtype=np.float32),\n",
    "            np.array(barrio_ids))\n",
    "\n",
    "# ### 4. Definición del Modelo GRU Mejorado con PyTorch\n",
    "\n",
    "class DengueDataset(Dataset):\n",
    "    \"\"\"Dataset personalizado para las secuencias de dengue\"\"\"\n",
    "    def __init__(self, sequences_num, sequences_cat, targets):\n",
    "        self.sequences_num = sequences_num\n",
    "        self.sequences_cat = sequences_cat\n",
    "        self.targets = targets\n",
    "    \n",
    "    def __len__(self):\n",
    "        return len(self.targets)\n",
    "    \n",
    "    def __getitem__(self, idx):\n",
    "        return (torch.FloatTensor(self.sequences_num[idx]),\n",
    "                torch.LongTensor(self.sequences_cat[idx]),\n",
    "                torch.FloatTensor([self.targets[idx]]))\n",
    "\n",
    "# ### MEJORA 5: Modelo GRU mejorado con Batch Normalization y Attention\n",
    "class ImprovedGRUModel(nn.Module):\n",
    "    \"\"\"\n",
    "    Modelo GRU mejorado con embeddings, batch normalization, y mecanismo de atención\n",
    "    \"\"\"\n",
    "    def __init__(self, num_features, embedding_dims, hidden_size, num_layers, dropout_rate):\n",
    "        super(ImprovedGRUModel, self).__init__()\n",
    "        \n",
    "        # Embeddings para variables categóricas\n",
    "        self.embeddings = nn.ModuleList()\n",
    "        total_embedding_size = 0\n",
    "        \n",
    "        for card, dim in embedding_dims:\n",
    "            self.embeddings.append(nn.Embedding(card, dim))\n",
    "            total_embedding_size += dim\n",
    "        \n",
    "        # Tamaño de entrada para GRU\n",
    "        input_size = num_features + total_embedding_size\n",
    "        \n",
    "        # Batch normalization para entrada\n",
    "        self.input_bn = nn.BatchNorm1d(input_size)\n",
    "        \n",
    "        # Capas GRU bidireccionales\n",
    "        self.gru = nn.GRU(input_size, hidden_size, num_layers, \n",
    "                         batch_first=True, dropout=dropout_rate if num_layers > 1 else 0,\n",
    "                         bidirectional=True)\n",
    "        \n",
    "        # Attention mechanism\n",
    "        self.attention = nn.Sequential(\n",
    "            nn.Linear(hidden_size * 2, hidden_size),\n",
    "            nn.Tanh(),\n",
    "            nn.Linear(hidden_size, 1)\n",
    "        )\n",
    "        \n",
    "        # Batch normalization para hidden states\n",
    "        self.hidden_bn = nn.BatchNorm1d(hidden_size * 2)\n",
    "        \n",
    "        # Dropout\n",
    "        self.dropout = nn.Dropout(dropout_rate)\n",
    "        \n",
    "        # Capas de salida con residual connection\n",
    "        self.fc1 = nn.Linear(hidden_size * 2, hidden_size)\n",
    "        self.fc2 = nn.Linear(hidden_size, 1)\n",
    "        \n",
    "    def forward(self, x_num, x_cat):\n",
    "        batch_size, seq_len, _ = x_num.shape\n",
    "        \n",
    "        # Procesar embeddings categóricos\n",
    "        embeddings_list = []\n",
    "        for i, embedding in enumerate(self.embeddings):\n",
    "            cat_embedded = embedding(x_cat[:, :, i])\n",
    "            embeddings_list.append(cat_embedded)\n",
    "        \n",
    "        # Concatenar embeddings\n",
    "        cat_embedded = torch.cat(embeddings_list, dim=-1)\n",
    "        \n",
    "        # Concatenar características numéricas y categóricas\n",
    "        x = torch.cat([x_num, cat_embedded], dim=-1)\n",
    "        \n",
    "        # Batch normalization (reshape para BN)\n",
    "        x = x.view(-1, x.size(-1))\n",
    "        x = self.input_bn(x)\n",
    "        x = x.view(batch_size, seq_len, -1)\n",
    "        \n",
    "        # Pasar por GRU bidireccional\n",
    "        out, _ = self.gru(x)\n",
    "        \n",
    "        # Attention mechanism\n",
    "        attention_weights = self.attention(out)\n",
    "        attention_weights = F.softmax(attention_weights, dim=1)\n",
    "        \n",
    "        # Aplicar attention weights\n",
    "        out = torch.sum(out * attention_weights, dim=1)\n",
    "        \n",
    "        # Batch normalization para hidden states\n",
    "        out = self.hidden_bn(out)\n",
    "        out = self.dropout(out)\n",
    "        \n",
    "        # Capas fully connected con activación\n",
    "        out = F.relu(self.fc1(out))\n",
    "        out = self.dropout(out)\n",
    "        out = self.fc2(out)\n",
    "        \n",
    "        return out\n",
    "\n",
    "# ### MEJORA 6: Función de pérdida Huber para robustez ante outliers\n",
    "class HuberLoss(nn.Module):\n",
    "    def __init__(self, delta=1.0):\n",
    "        super(HuberLoss, self).__init__()\n",
    "        self.delta = delta\n",
    "        \n",
    "    def forward(self, y_pred, y_true):\n",
    "        residual = torch.abs(y_pred - y_true)\n",
    "        condition = residual < self.delta\n",
    "        small_error = 0.5 * torch.square(residual)\n",
    "        large_error = self.delta * residual - 0.5 * self.delta * self.delta\n",
    "        return torch.mean(torch.where(condition, small_error, large_error))\n",
    "\n",
    "# ### 5. Optimización de Hiperparámetros Mejorada con Optuna\n",
    "\n",
    "def objective(trial):\n",
    "    \"\"\"\n",
    "    Función objetivo mejorada para Optuna\n",
    "    \"\"\"\n",
    "    # Espacio de búsqueda ampliado de hiperparámetros\n",
    "    window_size = trial.suggest_int('window_size', 12, 52)  # Ventanas más grandes\n",
    "    hidden_size = trial.suggest_categorical('hidden_size', [32, 64, 128, 256])\n",
    "    num_layers = trial.suggest_int('num_layers', 2, 4)  # Más capas\n",
    "    dropout_rate = trial.suggest_float('dropout_rate', 0.2, 0.5)\n",
    "    learning_rate = trial.suggest_float('learning_rate', 1e-4, 5e-3, log=True)\n",
    "    batch_size = trial.suggest_categorical('batch_size', [32, 64, 128])\n",
    "    weight_decay = trial.suggest_float('weight_decay', 1e-5, 1e-3, log=True)\n",
    "    \n",
    "    # Crear secuencias con augmentation\n",
    "    categorical_cols_encoded = [col + '_encoded' for col in categorical_cols]\n",
    "    \n",
    "    X_train_num, X_train_cat, y_train, _ = create_sequences_augmented(\n",
    "        train_scaled, window_size, target_col_transformed, numerical_cols, \n",
    "        categorical_cols_encoded, augment=True\n",
    "    )\n",
    "    X_val_num, X_val_cat, y_val, _ = create_sequences_augmented(\n",
    "        val_scaled, window_size, target_col_transformed, numerical_cols, \n",
    "        categorical_cols_encoded, augment=False\n",
    "    )\n",
    "    \n",
    "    # Crear datasets y dataloaders\n",
    "    train_dataset = DengueDataset(X_train_num, X_train_cat, y_train)\n",
    "    val_dataset = DengueDataset(X_val_num, X_val_cat, y_val)\n",
    "    \n",
    "    train_loader = DataLoader(train_dataset, batch_size=batch_size, shuffle=True)\n",
    "    val_loader = DataLoader(val_dataset, batch_size=batch_size, shuffle=False)\n",
    "    \n",
    "    # Configurar modelo\n",
    "    num_features = len(numerical_cols)\n",
    "    embedding_dims = [\n",
    "        (len(label_encoders['id_bar'].classes_), min(50, len(label_encoders['id_bar'].classes_)//2)),\n",
    "        (len(label_encoders['ESTRATO'].classes_), min(10, len(label_encoders['ESTRATO'].classes_)//2))\n",
    "    ]\n",
    "    \n",
    "    model = ImprovedGRUModel(num_features, embedding_dims, hidden_size, num_layers, dropout_rate).to(device)\n",
    "    criterion = HuberLoss(delta=1.0)\n",
    "    optimizer = torch.optim.AdamW(model.parameters(), lr=learning_rate, weight_decay=weight_decay)\n",
    "    scheduler = ReduceLROnPlateau(optimizer, mode='min', factor=0.5, patience=10)\n",
    "    \n",
    "    # Entrenamiento con gradient clipping\n",
    "    n_epochs = 300\n",
    "    best_val_loss = float('inf')\n",
    "    patience = 30\n",
    "    patience_counter = 0\n",
    "    \n",
    "    for epoch in range(n_epochs):\n",
    "        # Training\n",
    "        model.train()\n",
    "        train_loss = 0\n",
    "        for x_num, x_cat, y in train_loader:\n",
    "            x_num, x_cat, y = x_num.to(device), x_cat.to(device), y.to(device)\n",
    "            \n",
    "            optimizer.zero_grad()\n",
    "            output = model(x_num, x_cat)\n",
    "            loss = criterion(output, y)\n",
    "            loss.backward()\n",
    "            \n",
    "            # Gradient clipping\n",
    "            torch.nn.utils.clip_grad_norm_(model.parameters(), max_norm=1.0)\n",
    "            \n",
    "            optimizer.step()\n",
    "            train_loss += loss.item()\n",
    "        \n",
    "        # Validation\n",
    "        model.eval()\n",
    "        val_loss = 0\n",
    "        with torch.no_grad():\n",
    "            for x_num, x_cat, y in val_loader:\n",
    "                x_num, x_cat, y = x_num.to(device), x_cat.to(device), y.to(device)\n",
    "                output = model(x_num, x_cat)\n",
    "                loss = criterion(output, y)\n",
    "                val_loss += loss.item()\n",
    "        \n",
    "        val_loss /= len(val_loader)\n",
    "        scheduler.step(val_loss)\n",
    "        \n",
    "        # Early stopping\n",
    "        if val_loss < best_val_loss:\n",
    "            best_val_loss = val_loss\n",
    "            patience_counter = 0\n",
    "        else:\n",
    "            patience_counter += 1\n",
    "            \n",
    "        if patience_counter >= patience:\n",
    "            break\n",
    "    \n",
    "    return best_val_loss\n",
    "\n",
    "# Ejecutar optimización con Optuna\n",
    "print(\"\\n### Iniciando optimización de hiperparámetros con Optuna ###\")\n",
    "study = optuna.create_study(direction='minimize', sampler=optuna.samplers.TPESampler(seed=42))\n",
    "study.optimize(objective, n_trials=100, show_progress_bar=True)\n",
    "\n",
    "print(\"\\nMejores hiperparámetros encontrados:\")\n",
    "print(study.best_params)\n",
    "print(f\"\\nMejor pérdida en validación: {study.best_value:.4f}\")\n",
    "\n",
    "# ### 6. Entrenamiento del Modelo Final con Ensemble\n",
    "\n",
    "# Obtener mejores hiperparámetros\n",
    "best_params = study.best_params\n",
    "window_size = best_params['window_size']\n",
    "hidden_size = best_params['hidden_size']\n",
    "num_layers = best_params['num_layers']\n",
    "dropout_rate = best_params['dropout_rate']\n",
    "learning_rate = best_params['learning_rate']\n",
    "batch_size = best_params['batch_size']\n",
    "weight_decay = best_params['weight_decay']\n",
    "\n",
    "print(\"\\n### Entrenando ensemble de modelos finales ###\")\n",
    "\n",
    "# Combinar datos de entrenamiento y validación\n",
    "combined_data = pd.concat([train_data, val_data])\n",
    "combined_scaled = combined_data.copy()\n",
    "combined_scaled[numerical_cols] = scaler.transform(combined_data[numerical_cols])\n",
    "\n",
    "# Crear secuencias con datos combinados\n",
    "categorical_cols_encoded = [col + '_encoded' for col in categorical_cols]\n",
    "\n",
    "# ### MEJORA 7: Entrenar ensemble de modelos\n",
    "n_models = 5\n",
    "models_ensemble = []\n",
    "\n",
    "for model_idx in range(n_models):\n",
    "    print(f\"\\nEntrenando modelo {model_idx + 1}/{n_models}\")\n",
    "    \n",
    "    # Crear secuencias con diferente semilla para augmentation\n",
    "    np.random.seed(42 + model_idx)\n",
    "    X_combined_num, X_combined_cat, y_combined, _ = create_sequences_augmented(\n",
    "        combined_scaled, window_size, target_col_transformed, numerical_cols, \n",
    "        categorical_cols_encoded, augment=True\n",
    "    )\n",
    "    \n",
    "    # Crear dataset y dataloader\n",
    "    combined_dataset = DengueDataset(X_combined_num, X_combined_cat, y_combined)\n",
    "    combined_loader = DataLoader(combined_dataset, batch_size=batch_size, shuffle=True)\n",
    "    \n",
    "    # Configurar modelo\n",
    "    num_features = len(numerical_cols)\n",
    "    embedding_dims = [\n",
    "        (len(label_encoders['id_bar'].classes_), min(50, len(label_encoders['id_bar'].classes_)//2)),\n",
    "        (len(label_encoders['ESTRATO'].classes_), min(10, len(label_encoders['ESTRATO'].classes_)//2))\n",
    "    ]\n",
    "    \n",
    "    model = ImprovedGRUModel(num_features, embedding_dims, hidden_size, num_layers, dropout_rate).to(device)\n",
    "    criterion = HuberLoss(delta=1.0)\n",
    "    optimizer = torch.optim.AdamW(model.parameters(), lr=learning_rate, weight_decay=weight_decay)\n",
    "    scheduler = ReduceLROnPlateau(optimizer, mode='min', factor=0.5, patience=20)\n",
    "    \n",
    "    # Entrenamiento\n",
    "    n_epochs = 300\n",
    "    train_losses = []\n",
    "    \n",
    "    for epoch in range(n_epochs):\n",
    "        model.train()\n",
    "        epoch_loss = 0\n",
    "        \n",
    "        for x_num, x_cat, y in combined_loader:\n",
    "            x_num, x_cat, y = x_num.to(device), x_cat.to(device), y.to(device)\n",
    "            \n",
    "            optimizer.zero_grad()\n",
    "            output = model(x_num, x_cat)\n",
    "            loss = criterion(output, y)\n",
    "            loss.backward()\n",
    "            \n",
    "            torch.nn.utils.clip_grad_norm_(model.parameters(), max_norm=1.0)\n",
    "            \n",
    "            optimizer.step()\n",
    "            epoch_loss += loss.item()\n",
    "        \n",
    "        avg_loss = epoch_loss / len(combined_loader)\n",
    "        train_losses.append(avg_loss)\n",
    "        scheduler.step(avg_loss)\n",
    "        \n",
    "        if (epoch + 1) % 50 == 0:\n",
    "            print(f\"Época {epoch+1}/{n_epochs}, Pérdida: {avg_loss:.4f}\")\n",
    "    \n",
    "    models_ensemble.append(model)\n",
    "\n",
    "# ### 7. Generación de Pronósticos Mejorados para 2022\n",
    "\n",
    "print(\"\\n### Generando pronósticos con ensemble para 2022 ###\")\n",
    "\n",
    "# Preparar datos para pronóstico\n",
    "all_data = df.copy()\n",
    "all_data_scaled = all_data.copy()\n",
    "all_data_scaled[numerical_cols] = scaler.transform(all_data[numerical_cols])\n",
    "\n",
    "# ### MEJORA 8: Función mejorada para generar pronósticos con ensemble\n",
    "def generate_ensemble_forecasts(models, data, window_size, n_weeks_ahead, year):\n",
    "    \"\"\"\n",
    "    Genera pronósticos autorregresivos usando ensemble de modelos\n",
    "    \"\"\"\n",
    "    all_forecasts = []\n",
    "    \n",
    "    for model in models:\n",
    "        model.eval()\n",
    "        model_forecasts = []\n",
    "        \n",
    "        # Para cada barrio\n",
    "        for barrio in data['id_bar'].unique():\n",
    "            barrio_data = data[data['id_bar'] == barrio].sort_index()\n",
    "            barrio_id = barrio_data['id_bar'].iloc[0]\n",
    "            estrato_encoded = barrio_data['ESTRATO_encoded'].iloc[0]\n",
    "            \n",
    "            # Obtener última secuencia conocida\n",
    "            last_sequence_num = barrio_data[numerical_cols].iloc[-window_size:].values\n",
    "            last_sequence_cat = np.array([[barrio_data['id_bar_encoded'].iloc[0], \n",
    "                                          estrato_encoded] for _ in range(window_size)])\n",
    "            \n",
    "            # Generar pronósticos semana a semana\n",
    "            for week in range(1, n_weeks_ahead + 1):\n",
    "                # Preparar entrada\n",
    "                x_num = torch.FloatTensor(last_sequence_num).unsqueeze(0).to(device)\n",
    "                x_cat = torch.LongTensor(last_sequence_cat).unsqueeze(0).to(device)\n",
    "                \n",
    "                # Hacer predicción\n",
    "                with torch.no_grad():\n",
    "                    pred_scaled = model(x_num, x_cat).cpu().numpy()[0, 0]\n",
    "                \n",
    "                # Desescalar predicción y aplicar transformación inversa\n",
    "                dengue_log_idx = numerical_cols.index(target_col_transformed)\n",
    "                pred_log_original = pred_scaled * scaler.scale_[dengue_log_idx] + scaler.center_[dengue_log_idx]\n",
    "                pred_original_scale = np.expm1(pred_log_original)  # Inversa de log1p\n",
    "                \n",
    "                # Asegurar que la predicción no sea negativa\n",
    "                pred_original_scale = max(0, pred_original_scale)\n",
    "                \n",
    "                # Guardar predicción\n",
    "                model_forecasts.append({\n",
    "                    'id_bar': barrio_id,\n",
    "                    'anio': year,\n",
    "                    'semana': week,\n",
    "                    'dengue': pred_original_scale\n",
    "                })\n",
    "                \n",
    "                # Actualizar secuencia para próxima predicción\n",
    "                new_row = last_sequence_num[-1].copy()\n",
    "                new_row[dengue_log_idx] = pred_scaled\n",
    "                \n",
    "                # Actualizar features de lag\n",
    "                dengue_idx = numerical_cols.index('dengue')\n",
    "                new_row[dengue_idx] = pred_original_scale\n",
    "                \n",
    "                # Actualizar ventana deslizante\n",
    "                last_sequence_num = np.vstack([last_sequence_num[1:], new_row])\n",
    "        \n",
    "        all_forecasts.append(pd.DataFrame(model_forecasts))\n",
    "    \n",
    "    # Combinar predicciones del ensemble (promedio)\n",
    "    ensemble_df = pd.concat(all_forecasts)\n",
    "    ensemble_forecasts = ensemble_df.groupby(['id_bar', 'anio', 'semana'])['dengue'].mean().reset_index()\n",
    "    \n",
    "    return ensemble_forecasts\n",
    "\n",
    "# Generar pronósticos del ensemble\n",
    "forecasts_2022 = generate_ensemble_forecasts(models_ensemble, all_data_scaled, window_size, 52, 2022)\n",
    "\n",
    "print(f\"\\nPronósticos generados: {len(forecasts_2022)} registros\")\n",
    "print(\"\\nEstadísticas de pronósticos:\")\n",
    "print(forecasts_2022['dengue'].describe())\n",
    "\n",
    "# ### 8. Creación del Archivo de Salida\n",
    "\n",
    "# Crear DataFrame con formato requerido\n",
    "output_df = pd.DataFrame()\n",
    "output_df['id'] = (forecasts_2022['id_bar'].astype(str) + '_' + \n",
    "                   forecasts_2022['anio'].astype(str) + '_' + \n",
    "                   forecasts_2022['semana'].apply(lambda x: f\"{x:02d}\"))\n",
    "output_df['dengue'] = forecasts_2022['dengue'].round(2)\n",
    "\n",
    "# Verificar formato\n",
    "print(\"\\nPrimeras filas del archivo de salida:\")\n",
    "print(output_df.head(10))\n",
    "print(f\"\\nTotal de registros: {len(output_df)}\")\n",
    "\n",
    "# Guardar archivo CSV\n",
    "timestamp = datetime.now().strftime(\"%Y%m%d_%H%M%S\")\n",
    "output_filename = f'pronosticos_GRU_optimizado_{timestamp}.csv'\n",
    "output_df.to_csv(output_filename, index=False)\n",
    "print(f\"\\nArchivo '{output_filename}' guardado exitosamente.\")\n",
    "\n",
    "# ### 9. Visualización y Análisis de Resultados\n",
    "\n",
    "# Visualización de algunos pronósticos\n",
    "sample_barrios = forecasts_2022['id_bar'].unique()[:5]\n",
    "fig = go.Figure()\n",
    "\n",
    "for barrio in sample_barrios:\n",
    "    barrio_forecast = forecasts_2022[forecasts_2022['id_bar'] == barrio]\n",
    "    fig.add_trace(go.Scatter(\n",
    "        x=barrio_forecast['semana'],\n",
    "        y=barrio_forecast['dengue'],\n",
    "        mode='lines+markers',\n",
    "        name=f'Barrio {barrio}',\n",
    "        line=dict(width=2),\n",
    "        marker=dict(size=6)\n",
    "    ))\n",
    "\n",
    "fig.update_layout(\n",
    "    title='Pronósticos de Dengue para 2022 - Modelo Optimizado (Muestra de 5 Barrios)',\n",
    "    xaxis_title='Semana del Año',\n",
    "    yaxis_title='Casos de Dengue',\n",
    "    hovermode='x unified',\n",
    "    template='plotly_white'\n",
    ")\n",
    "fig.show()\n",
    "\n",
    "# Comparación de distribuciones\n",
    "fig_dist = go.Figure()\n",
    "fig_dist.add_trace(go.Histogram(x=forecasts_2022['dengue'], name='Pronósticos 2022', nbinsx=50))\n",
    "fig_dist.update_layout(\n",
    "    title='Distribución de Pronósticos de Dengue 2022',\n",
    "    xaxis_title='Casos de Dengue',\n",
    "    yaxis_title='Frecuencia',\n",
    "    template='plotly_white'\n",
    ")\n",
    "fig_dist.show()\n",
    "\n",
    "print(\"\\n### Proceso completado exitosamente ###\")\n",
    "print(\"\\nMejoras implementadas para minimizar MSE:\")\n",
    "print(\"1. Transformación logarítmica de la variable objetivo\")\n",
    "print(\"2. Ingeniería de características: lags, medias móviles, características cíclicas\")\n",
    "print(\"3. RobustScaler para manejar outliers\")\n",
    "print(\"4. Data augmentation con ruido gaussiano\")\n",
    "print(\"5. Modelo GRU bidireccional con attention mechanism y batch normalization\")\n",
    "print(\"6. Función de pérdida Huber (robusta ante outliers)\")\n",
    "print(\"7. Ensemble de 5 modelos\")\n",
    "print(\"8. Learning rate scheduling y gradient clipping\")\n",
    "print(\"9. Optimización AdamW con weight decay\")\n",
    "print(\"10. Mayor espacio de búsqueda de hiperparámetros\")"
   ]
  }
 ],
 "metadata": {
  "kernelspec": {
   "display_name": "venv",
   "language": "python",
   "name": "python3"
  },
  "language_info": {
   "codemirror_mode": {
    "name": "ipython",
    "version": 3
   },
   "file_extension": ".py",
   "mimetype": "text/x-python",
   "name": "python",
   "nbconvert_exporter": "python",
   "pygments_lexer": "ipython3",
   "version": "3.13.3"
  }
 },
 "nbformat": 4,
 "nbformat_minor": 5
}
