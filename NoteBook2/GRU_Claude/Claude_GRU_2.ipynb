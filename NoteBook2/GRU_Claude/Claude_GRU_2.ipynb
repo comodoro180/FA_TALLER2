{
 "cells": [
  {
   "cell_type": "code",
   "execution_count": 3,
   "id": "5657ab24",
   "metadata": {},
   "outputs": [
    {
     "name": "stderr",
     "output_type": "stream",
     "text": [
      "[I 2025-06-23 21:01:57,700] A new study created in memory with name: no-name-191c8568-ff97-415b-9a5f-6c8c25fd599e\n"
     ]
    },
    {
     "name": "stdout",
     "output_type": "stream",
     "text": [
      "Dispositivo de cómputo: cuda\n",
      "Dimensiones del DataFrame: (3680, 20)\n",
      "\n",
      "Primeras filas:\n",
      "          id  id_bar  anio  semana  ESTRATO  area_barrio  dengue  \\\n",
      "0  4_2015_01       4  2015       1      3.0        0.560     0.0   \n",
      "1  5_2015_01       5  2015       1      3.0        0.842     0.0   \n",
      "2  3_2015_01       3  2015       1      1.0        0.781     0.0   \n",
      "3  8_2015_01       8  2015       1      2.0        0.394     0.0   \n",
      "4  9_2015_01       9  2015       1      2.0        0.292     0.0   \n",
      "\n",
      "   concentraciones  vivienda  equipesado  sumideros  maquina  lluvia_mean  \\\n",
      "0              0.0       0.0         0.0        0.0      0.0     0.000651   \n",
      "1              0.0       0.0         0.0        0.0      0.0     0.000651   \n",
      "2              0.0       0.0         0.0        0.0      0.0     0.000651   \n",
      "3              0.0       0.0         0.0        0.0      0.0     0.000651   \n",
      "4              0.0       0.0         0.0        0.0      0.0     0.000651   \n",
      "\n",
      "   lluvia_var  lluvia_max  lluvia_min  temperatura_mean  temperatura_var  \\\n",
      "0    0.000041      0.0625         0.0         26.163889        11.588928   \n",
      "1    0.000041      0.0625         0.0         26.163889        11.588928   \n",
      "2    0.000041      0.0625         0.0         26.163889        11.588928   \n",
      "3    0.000041      0.0625         0.0         26.163889        11.588928   \n",
      "4    0.000041      0.0625         0.0         26.163889        11.588928   \n",
      "\n",
      "   temperatura_max  temperatura_min  \n",
      "0             31.8             20.9  \n",
      "1             31.8             20.9  \n",
      "2             31.8             20.9  \n",
      "3             31.8             20.9  \n",
      "4             31.8             20.9  \n",
      "\n",
      "Información del DataFrame:\n",
      "<class 'pandas.core.frame.DataFrame'>\n",
      "Index: 3680 entries, 0 to 3679\n",
      "Data columns (total 20 columns):\n",
      " #   Column            Non-Null Count  Dtype  \n",
      "---  ------            --------------  -----  \n",
      " 0   id                3680 non-null   object \n",
      " 1   id_bar            3680 non-null   int64  \n",
      " 2   anio              3680 non-null   int64  \n",
      " 3   semana            3680 non-null   UInt32 \n",
      " 4   ESTRATO           3680 non-null   float64\n",
      " 5   area_barrio       3680 non-null   float64\n",
      " 6   dengue            3680 non-null   float64\n",
      " 7   concentraciones   3680 non-null   float64\n",
      " 8   vivienda          3680 non-null   float64\n",
      " 9   equipesado        3680 non-null   float64\n",
      " 10  sumideros         3680 non-null   float64\n",
      " 11  maquina           3680 non-null   float64\n",
      " 12  lluvia_mean       3680 non-null   float64\n",
      " 13  lluvia_var        3680 non-null   float64\n",
      " 14  lluvia_max        3680 non-null   float64\n",
      " 15  lluvia_min        3680 non-null   float64\n",
      " 16  temperatura_mean  3680 non-null   float64\n",
      " 17  temperatura_var   3680 non-null   float64\n",
      " 18  temperatura_max   3680 non-null   float64\n",
      " 19  temperatura_min   3680 non-null   float64\n",
      "dtypes: UInt32(1), float64(16), int64(2), object(1)\n",
      "memory usage: 593.0+ KB\n",
      "None\n",
      "\n",
      "Rango temporal: 2014-12-29 00:00:00 - 2021-12-27 00:00:00\n",
      "\n",
      "Tamaño conjunto entrenamiento: 3120\n",
      "Tamaño conjunto validación: 520\n",
      "\n",
      "Columnas categóricas: ['id_bar', 'ESTRATO']\n",
      "Columnas numéricas: ['area_barrio', 'dengue', 'concentraciones', 'vivienda', 'equipesado', 'sumideros', 'maquina', 'lluvia_mean', 'lluvia_var', 'lluvia_max', 'temperatura_mean', 'temperatura_var', 'temperatura_max', 'temperatura_min']\n",
      "Variable objetivo: dengue\n",
      "\n",
      "Cardinalidad de id_bar: 10\n",
      "\n",
      "Cardinalidad de ESTRATO: 3\n",
      "\n",
      "### Iniciando optimización de hiperparámetros con Optuna ###\n"
     ]
    },
    {
     "data": {
      "application/vnd.jupyter.widget-view+json": {
       "model_id": "4838062fffa14faa84ed2c19cf9725b4",
       "version_major": 2,
       "version_minor": 0
      },
      "text/plain": [
       "  0%|          | 0/100 [00:00<?, ?it/s]"
      ]
     },
     "metadata": {},
     "output_type": "display_data"
    },
    {
     "name": "stdout",
     "output_type": "stream",
     "text": [
      "[I 2025-06-23 21:02:13,987] Trial 0 finished with value: 0.056799308955669404 and parameters: {'window_size': 25, 'hidden_size': 16, 'num_layers': 2, 'dropout_rate': 0.45985284373248053, 'learning_rate': 0.0010502105436744284, 'batch_size': 64, 'weight_decay': 2.6587543983272695e-05}. Best is trial 0 with value: 0.056799308955669404.\n",
      "[I 2025-06-23 21:02:33,548] Trial 1 finished with value: 0.05953085795044899 and parameters: {'window_size': 18, 'hidden_size': 64, 'num_layers': 3, 'dropout_rate': 0.24184815819561256, 'learning_rate': 0.0003135775732257748, 'batch_size': 64, 'weight_decay': 0.00010677482709481354}. Best is trial 0 with value: 0.056799308955669404.\n",
      "[I 2025-06-23 21:04:23,068] Trial 2 finished with value: 0.04835887191196283 and parameters: {'window_size': 33, 'hidden_size': 256, 'num_layers': 4, 'dropout_rate': 0.4425192044349383, 'learning_rate': 0.00032925293631105276, 'batch_size': 32, 'weight_decay': 9.7803370166594e-05}. Best is trial 2 with value: 0.04835887191196283.\n",
      "[I 2025-06-23 21:04:48,395] Trial 3 finished with value: 0.06077511895161409 and parameters: {'window_size': 13, 'hidden_size': 16, 'num_layers': 3, 'dropout_rate': 0.2554563366576581, 'learning_rate': 0.004439102767051397, 'batch_size': 32, 'weight_decay': 0.0006978281265126031}. Best is trial 2 with value: 0.04835887191196283.\n",
      "[I 2025-06-23 21:05:10,487] Trial 4 finished with value: 0.06135633774101734 and parameters: {'window_size': 15, 'hidden_size': 128, 'num_layers': 4, 'dropout_rate': 0.3070259980080768, 'learning_rate': 0.00030012301808980484, 'batch_size': 64, 'weight_decay': 0.0009413993046829941}. Best is trial 2 with value: 0.04835887191196283.\n",
      "[I 2025-06-23 21:05:52,206] Trial 5 finished with value: 0.04402305278927088 and parameters: {'window_size': 40, 'hidden_size': 64, 'num_layers': 4, 'dropout_rate': 0.22221339552022712, 'learning_rate': 0.0004064644058668378, 'batch_size': 32, 'weight_decay': 1.3400367243354803e-05}. Best is trial 5 with value: 0.04402305278927088.\n",
      "[I 2025-06-23 21:06:19,889] Trial 6 finished with value: 0.052991764061152934 and parameters: {'window_size': 23, 'hidden_size': 128, 'num_layers': 2, 'dropout_rate': 0.4139734361668985, 'learning_rate': 0.001961331382415546, 'batch_size': 32, 'weight_decay': 7.162786999897333e-05}. Best is trial 5 with value: 0.04402305278927088.\n",
      "[I 2025-06-23 21:07:18,233] Trial 7 finished with value: 0.06426924683153629 and parameters: {'window_size': 12, 'hidden_size': 64, 'num_layers': 4, 'dropout_rate': 0.2747876687446625, 'learning_rate': 0.0004979987773685088, 'batch_size': 16, 'weight_decay': 2.101079931010355e-05}. Best is trial 5 with value: 0.04402305278927088.\n",
      "[I 2025-06-23 21:08:11,698] Trial 8 finished with value: 0.04391607642173767 and parameters: {'window_size': 46, 'hidden_size': 64, 'num_layers': 4, 'dropout_rate': 0.3618026725746952, 'learning_rate': 0.002354054991673985, 'batch_size': 16, 'weight_decay': 7.148510793512978e-05}. Best is trial 8 with value: 0.04391607642173767.\n",
      "[I 2025-06-23 21:08:25,461] Trial 9 finished with value: 0.03811277635395527 and parameters: {'window_size': 42, 'hidden_size': 16, 'num_layers': 2, 'dropout_rate': 0.3012845514210884, 'learning_rate': 0.003999220074578466, 'batch_size': 64, 'weight_decay': 0.0008781408196485975}. Best is trial 9 with value: 0.03811277635395527.\n",
      "[I 2025-06-23 21:08:32,919] Trial 10 finished with value: 0.0432063452899456 and parameters: {'window_size': 48, 'hidden_size': 32, 'num_layers': 2, 'dropout_rate': 0.3604064971678358, 'learning_rate': 0.0001476084409683448, 'batch_size': 128, 'weight_decay': 0.0002888908524619867}. Best is trial 9 with value: 0.03811277635395527.\n",
      "[I 2025-06-23 21:08:40,686] Trial 11 finished with value: 0.049499474465847015 and parameters: {'window_size': 48, 'hidden_size': 32, 'num_layers': 2, 'dropout_rate': 0.3533687362830166, 'learning_rate': 0.00010703135642268858, 'batch_size': 128, 'weight_decay': 0.00028180042725504717}. Best is trial 9 with value: 0.03811277635395527.\n",
      "[I 2025-06-23 21:08:48,660] Trial 12 finished with value: 0.04098542779684067 and parameters: {'window_size': 40, 'hidden_size': 32, 'num_layers': 3, 'dropout_rate': 0.3044535797277999, 'learning_rate': 0.00010646669286572576, 'batch_size': 128, 'weight_decay': 0.00038277068071634966}. Best is trial 9 with value: 0.03811277635395527.\n",
      "[I 2025-06-23 21:09:00,760] Trial 13 finished with value: 0.05413363501429558 and parameters: {'window_size': 37, 'hidden_size': 16, 'num_layers': 3, 'dropout_rate': 0.3042900291489749, 'learning_rate': 0.0011066956792471188, 'batch_size': 128, 'weight_decay': 0.0005436423856356661}. Best is trial 9 with value: 0.03811277635395527.\n",
      "[I 2025-06-23 21:09:14,463] Trial 14 finished with value: 0.040524824211994805 and parameters: {'window_size': 39, 'hidden_size': 32, 'num_layers': 3, 'dropout_rate': 0.30929554182802255, 'learning_rate': 0.00017281238156087705, 'batch_size': 64, 'weight_decay': 0.0003339036198907161}. Best is trial 9 with value: 0.03811277635395527.\n",
      "[I 2025-06-23 21:09:43,980] Trial 15 finished with value: 0.04909891728311777 and parameters: {'window_size': 31, 'hidden_size': 256, 'num_layers': 2, 'dropout_rate': 0.40138392674265555, 'learning_rate': 0.004922695681401975, 'batch_size': 64, 'weight_decay': 0.00016578451428109363}. Best is trial 9 with value: 0.03811277635395527.\n",
      "[I 2025-06-23 21:09:59,149] Trial 16 finished with value: 0.03972996026277542 and parameters: {'window_size': 42, 'hidden_size': 32, 'num_layers': 3, 'dropout_rate': 0.3197142401656764, 'learning_rate': 0.0002129479671550095, 'batch_size': 64, 'weight_decay': 0.0005275861406630528}. Best is trial 9 with value: 0.03811277635395527.\n",
      "[I 2025-06-23 21:10:10,336] Trial 17 finished with value: 0.04304375872015953 and parameters: {'window_size': 43, 'hidden_size': 16, 'num_layers': 2, 'dropout_rate': 0.2036431878923045, 'learning_rate': 0.0009764916098721333, 'batch_size': 64, 'weight_decay': 0.0008412068907908099}. Best is trial 9 with value: 0.03811277635395527.\n",
      "[I 2025-06-23 21:10:21,710] Trial 18 finished with value: 0.04597108066082001 and parameters: {'window_size': 35, 'hidden_size': 32, 'num_layers': 3, 'dropout_rate': 0.2713284217774365, 'learning_rate': 0.0025510690579026926, 'batch_size': 64, 'weight_decay': 0.00018840215949156912}. Best is trial 9 with value: 0.03811277635395527.\n",
      "[I 2025-06-23 21:10:46,137] Trial 19 finished with value: 0.04246818646788597 and parameters: {'window_size': 43, 'hidden_size': 16, 'num_layers': 2, 'dropout_rate': 0.39082088745874954, 'learning_rate': 0.0007281373095031532, 'batch_size': 64, 'weight_decay': 0.0005050212709376677}. Best is trial 9 with value: 0.03811277635395527.\n",
      "[I 2025-06-23 21:11:36,990] Trial 20 finished with value: 0.056333297242720924 and parameters: {'window_size': 24, 'hidden_size': 128, 'num_layers': 3, 'dropout_rate': 0.4895697553637586, 'learning_rate': 0.00020484732692120113, 'batch_size': 16, 'weight_decay': 0.0005364661086774975}. Best is trial 9 with value: 0.03811277635395527.\n",
      "[I 2025-06-23 21:11:57,173] Trial 21 finished with value: 0.045375291258096695 and parameters: {'window_size': 38, 'hidden_size': 32, 'num_layers': 3, 'dropout_rate': 0.3282565381531552, 'learning_rate': 0.00017426336298559278, 'batch_size': 64, 'weight_decay': 0.0003306900484675071}. Best is trial 9 with value: 0.03811277635395527.\n",
      "[I 2025-06-23 21:12:13,707] Trial 22 finished with value: 0.042616669088602066 and parameters: {'window_size': 43, 'hidden_size': 32, 'num_layers': 3, 'dropout_rate': 0.3286386779511849, 'learning_rate': 0.00020124665037474427, 'batch_size': 64, 'weight_decay': 0.00017907500957445833}. Best is trial 9 with value: 0.03811277635395527.\n",
      "[I 2025-06-23 21:12:41,984] Trial 23 finished with value: 0.049920097924768925 and parameters: {'window_size': 28, 'hidden_size': 32, 'num_layers': 3, 'dropout_rate': 0.2941252368639785, 'learning_rate': 0.0005550919751308284, 'batch_size': 64, 'weight_decay': 0.0009485902322235604}. Best is trial 9 with value: 0.03811277635395527.\n",
      "[I 2025-06-23 21:12:52,191] Trial 24 finished with value: 0.04548298753798008 and parameters: {'window_size': 40, 'hidden_size': 32, 'num_layers': 2, 'dropout_rate': 0.33315462385704503, 'learning_rate': 0.00022723397681978388, 'batch_size': 64, 'weight_decay': 0.0004885603446431053}. Best is trial 9 with value: 0.03811277635395527.\n",
      "[I 2025-06-23 21:13:41,493] Trial 25 finished with value: 0.03778042457997799 and parameters: {'window_size': 45, 'hidden_size': 256, 'num_layers': 3, 'dropout_rate': 0.26794824652272153, 'learning_rate': 0.0017340254672473115, 'batch_size': 64, 'weight_decay': 0.00022058411072229455}. Best is trial 25 with value: 0.03778042457997799.\n",
      "[I 2025-06-23 21:14:50,416] Trial 26 finished with value: 0.038766102865338326 and parameters: {'window_size': 45, 'hidden_size': 256, 'num_layers': 4, 'dropout_rate': 0.2712096557315825, 'learning_rate': 0.0034734940361436095, 'batch_size': 64, 'weight_decay': 0.00023990224450695023}. Best is trial 25 with value: 0.03778042457997799.\n",
      "[I 2025-06-23 21:15:59,377] Trial 27 finished with value: 0.039539944380521774 and parameters: {'window_size': 45, 'hidden_size': 256, 'num_layers': 4, 'dropout_rate': 0.23753664594213128, 'learning_rate': 0.003391357426926808, 'batch_size': 64, 'weight_decay': 4.041148639955873e-05}. Best is trial 25 with value: 0.03778042457997799.\n",
      "[I 2025-06-23 21:20:08,614] Trial 28 finished with value: 0.044233945198357105 and parameters: {'window_size': 46, 'hidden_size': 256, 'num_layers': 4, 'dropout_rate': 0.28493651426772654, 'learning_rate': 0.0016386722751777565, 'batch_size': 16, 'weight_decay': 0.00022238700300992954}. Best is trial 25 with value: 0.03778042457997799.\n",
      "[I 2025-06-23 21:21:05,307] Trial 29 finished with value: 0.05003485083580017 and parameters: {'window_size': 29, 'hidden_size': 256, 'num_layers': 4, 'dropout_rate': 0.26274018020235756, 'learning_rate': 0.0033274489295947777, 'batch_size': 64, 'weight_decay': 0.0001365362135302909}. Best is trial 25 with value: 0.03778042457997799.\n",
      "[I 2025-06-23 21:21:41,056] Trial 30 finished with value: 0.045348060627778373 and parameters: {'window_size': 35, 'hidden_size': 256, 'num_layers': 2, 'dropout_rate': 0.2009020257159761, 'learning_rate': 0.0015113703870368957, 'batch_size': 64, 'weight_decay': 5.7770639244442804e-05}. Best is trial 25 with value: 0.03778042457997799.\n",
      "[I 2025-06-23 21:23:05,379] Trial 31 finished with value: 0.03921296074986458 and parameters: {'window_size': 46, 'hidden_size': 256, 'num_layers': 4, 'dropout_rate': 0.2379568068113707, 'learning_rate': 0.0034292205888928305, 'batch_size': 64, 'weight_decay': 4.157198098419738e-05}. Best is trial 25 with value: 0.03778042457997799.\n",
      "[I 2025-06-23 21:24:23,520] Trial 32 finished with value: 0.03649930655956268 and parameters: {'window_size': 45, 'hidden_size': 256, 'num_layers': 4, 'dropout_rate': 0.2390662288024064, 'learning_rate': 0.0034623036316709667, 'batch_size': 64, 'weight_decay': 2.9125974713857038e-05}. Best is trial 32 with value: 0.03649930655956268.\n",
      "[I 2025-06-23 21:25:46,665] Trial 33 finished with value: 0.045961061492562294 and parameters: {'window_size': 44, 'hidden_size': 256, 'num_layers': 4, 'dropout_rate': 0.24712295232851716, 'learning_rate': 0.0026236087708659305, 'batch_size': 64, 'weight_decay': 0.00010394738995189987}. Best is trial 32 with value: 0.03649930655956268.\n",
      "[I 2025-06-23 21:27:35,440] Trial 34 finished with value: 0.03883666917681694 and parameters: {'window_size': 48, 'hidden_size': 256, 'num_layers': 4, 'dropout_rate': 0.2322730216573085, 'learning_rate': 0.003995172620394342, 'batch_size': 64, 'weight_decay': 2.275378174705081e-05}. Best is trial 32 with value: 0.03649930655956268.\n",
      "[I 2025-06-23 21:28:03,188] Trial 35 finished with value: 0.06096882708370686 and parameters: {'window_size': 21, 'hidden_size': 16, 'num_layers': 4, 'dropout_rate': 0.2579079065290522, 'learning_rate': 0.0020148372134696463, 'batch_size': 32, 'weight_decay': 0.00014058144867381279}. Best is trial 32 with value: 0.03649930655956268.\n",
      "[I 2025-06-23 21:29:39,399] Trial 36 finished with value: 0.04280317761003971 and parameters: {'window_size': 41, 'hidden_size': 256, 'num_layers': 4, 'dropout_rate': 0.21895680210854412, 'learning_rate': 0.0013151402379340874, 'batch_size': 64, 'weight_decay': 1.223991254609044e-05}. Best is trial 32 with value: 0.03649930655956268.\n",
      "[I 2025-06-23 21:30:58,788] Trial 37 finished with value: 0.047338209301233294 and parameters: {'window_size': 37, 'hidden_size': 256, 'num_layers': 3, 'dropout_rate': 0.28556013595168334, 'learning_rate': 0.002949647015243503, 'batch_size': 32, 'weight_decay': 3.1800864461905285e-05}. Best is trial 32 with value: 0.03649930655956268.\n",
      "[I 2025-06-23 21:31:17,169] Trial 38 finished with value: 0.04445936530828476 and parameters: {'window_size': 34, 'hidden_size': 16, 'num_layers': 4, 'dropout_rate': 0.27358342026347116, 'learning_rate': 0.0043622122345425935, 'batch_size': 64, 'weight_decay': 1.5489743263746144e-05}. Best is trial 32 with value: 0.03649930655956268.\n",
      "[I 2025-06-23 21:31:37,809] Trial 39 finished with value: 0.04851036239415407 and parameters: {'window_size': 32, 'hidden_size': 128, 'num_layers': 3, 'dropout_rate': 0.22042357734115092, 'learning_rate': 0.0020259162535669626, 'batch_size': 64, 'weight_decay': 7.932518825572877e-05}. Best is trial 32 with value: 0.03649930655956268.\n",
      "[I 2025-06-23 21:32:47,714] Trial 40 finished with value: 0.03774443157017231 and parameters: {'window_size': 45, 'hidden_size': 64, 'num_layers': 4, 'dropout_rate': 0.2513844811816245, 'learning_rate': 0.00498586163597956, 'batch_size': 16, 'weight_decay': 0.0006952278197135065}. Best is trial 32 with value: 0.03649930655956268.\n",
      "[I 2025-06-23 21:33:55,368] Trial 41 finished with value: 0.039107943698763845 and parameters: {'window_size': 45, 'hidden_size': 64, 'num_layers': 4, 'dropout_rate': 0.26048885584109116, 'learning_rate': 0.00398732431385333, 'batch_size': 16, 'weight_decay': 0.0006852124427418552}. Best is trial 32 with value: 0.03649930655956268.\n",
      "[I 2025-06-23 21:34:52,361] Trial 42 finished with value: 0.04147462826222181 and parameters: {'window_size': 46, 'hidden_size': 64, 'num_layers': 4, 'dropout_rate': 0.2524003997242556, 'learning_rate': 0.0029257518529451675, 'batch_size': 16, 'weight_decay': 0.0006882636781882657}. Best is trial 32 with value: 0.03649930655956268.\n",
      "[I 2025-06-23 21:35:59,236] Trial 43 finished with value: 0.03654567019215652 and parameters: {'window_size': 42, 'hidden_size': 64, 'num_layers': 4, 'dropout_rate': 0.2866583702623038, 'learning_rate': 0.004832529538665822, 'batch_size': 16, 'weight_decay': 0.0002464518405738138}. Best is trial 32 with value: 0.03649930655956268.\n",
      "[I 2025-06-23 21:36:57,396] Trial 44 finished with value: 0.040534933496798785 and parameters: {'window_size': 41, 'hidden_size': 64, 'num_layers': 4, 'dropout_rate': 0.2875810564750762, 'learning_rate': 0.004995119705185269, 'batch_size': 16, 'weight_decay': 0.0004115809457668198}. Best is trial 32 with value: 0.03649930655956268.\n",
      "[I 2025-06-23 21:37:48,573] Trial 45 finished with value: 0.04671878616015116 and parameters: {'window_size': 48, 'hidden_size': 64, 'num_layers': 4, 'dropout_rate': 0.3454912886406281, 'learning_rate': 0.004228203112234048, 'batch_size': 16, 'weight_decay': 0.0006718305848249148}. Best is trial 32 with value: 0.03649930655956268.\n",
      "[I 2025-06-23 21:38:44,140] Trial 46 finished with value: 0.060171629099742226 and parameters: {'window_size': 16, 'hidden_size': 64, 'num_layers': 4, 'dropout_rate': 0.22946711090573832, 'learning_rate': 0.0024248434528554457, 'batch_size': 16, 'weight_decay': 0.0008217875203485776}. Best is trial 32 with value: 0.03649930655956268.\n",
      "[I 2025-06-23 21:39:35,960] Trial 47 finished with value: 0.046813576349190304 and parameters: {'window_size': 42, 'hidden_size': 64, 'num_layers': 2, 'dropout_rate': 0.29887516287695254, 'learning_rate': 0.0038577560820218884, 'batch_size': 16, 'weight_decay': 8.820999519983252e-05}. Best is trial 32 with value: 0.03649930655956268.\n",
      "[I 2025-06-23 21:39:49,559] Trial 48 finished with value: 0.052709925919771194 and parameters: {'window_size': 37, 'hidden_size': 64, 'num_layers': 4, 'dropout_rate': 0.31075461040594515, 'learning_rate': 0.004904820930586265, 'batch_size': 128, 'weight_decay': 0.00013431601024507822}. Best is trial 32 with value: 0.03649930655956268.\n",
      "[I 2025-06-23 21:40:40,094] Trial 49 finished with value: 0.04858688171952963 and parameters: {'window_size': 47, 'hidden_size': 16, 'num_layers': 2, 'dropout_rate': 0.24277515639041344, 'learning_rate': 0.002913145228224877, 'batch_size': 16, 'weight_decay': 0.0003612535914352737}. Best is trial 32 with value: 0.03649930655956268.\n",
      "[I 2025-06-23 21:41:14,796] Trial 50 finished with value: 0.04092147909104824 and parameters: {'window_size': 39, 'hidden_size': 64, 'num_layers': 3, 'dropout_rate': 0.37946315170089207, 'learning_rate': 0.0017047976887688558, 'batch_size': 32, 'weight_decay': 0.0002603293507586445}. Best is trial 32 with value: 0.03649930655956268.\n",
      "[I 2025-06-23 21:46:00,484] Trial 51 finished with value: 0.03478812277317047 and parameters: {'window_size': 44, 'hidden_size': 256, 'num_layers': 4, 'dropout_rate': 0.26858246840613476, 'learning_rate': 0.003718191626592182, 'batch_size': 16, 'weight_decay': 0.00026130367353053213}. Best is trial 51 with value: 0.03478812277317047.\n",
      "[I 2025-06-23 21:50:46,505] Trial 52 finished with value: 0.03830587565898895 and parameters: {'window_size': 44, 'hidden_size': 256, 'num_layers': 4, 'dropout_rate': 0.42805304492531676, 'learning_rate': 0.002271275286894704, 'batch_size': 16, 'weight_decay': 0.00043902033639704605}. Best is trial 51 with value: 0.03478812277317047.\n",
      "[I 2025-06-23 21:52:18,732] Trial 53 finished with value: 0.04039675635950906 and parameters: {'window_size': 42, 'hidden_size': 128, 'num_layers': 4, 'dropout_rate': 0.2786209650233554, 'learning_rate': 0.003696702529933643, 'batch_size': 16, 'weight_decay': 0.000214414270092675}. Best is trial 51 with value: 0.03478812277317047.\n",
      "[I 2025-06-23 21:53:22,253] Trial 54 finished with value: 0.040823249891400334 and parameters: {'window_size': 44, 'hidden_size': 16, 'num_layers': 4, 'dropout_rate': 0.21802683716174417, 'learning_rate': 0.0030428472822539993, 'batch_size': 16, 'weight_decay': 1.0308871971700804e-05}. Best is trial 51 with value: 0.03478812277317047.\n",
      "[I 2025-06-23 21:54:22,380] Trial 55 finished with value: 0.0387742780148983 and parameters: {'window_size': 40, 'hidden_size': 256, 'num_layers': 4, 'dropout_rate': 0.31590705516059814, 'learning_rate': 0.0009000680136826562, 'batch_size': 128, 'weight_decay': 0.00033078456952327276}. Best is trial 51 with value: 0.03478812277317047.\n",
      "[I 2025-06-23 21:55:34,031] Trial 56 finished with value: 0.05077015049755573 and parameters: {'window_size': 47, 'hidden_size': 64, 'num_layers': 3, 'dropout_rate': 0.26364464005419264, 'learning_rate': 0.004534565461766529, 'batch_size': 16, 'weight_decay': 5.772181599183911e-05}. Best is trial 51 with value: 0.03478812277317047.\n",
      "[I 2025-06-23 21:56:22,680] Trial 57 finished with value: 0.044919664838484356 and parameters: {'window_size': 42, 'hidden_size': 16, 'num_layers': 4, 'dropout_rate': 0.2956760759670123, 'learning_rate': 0.0026507838690253043, 'batch_size': 16, 'weight_decay': 0.0009909037294219968}. Best is trial 51 with value: 0.03478812277317047.\n",
      "[I 2025-06-23 21:59:08,510] Trial 58 finished with value: 0.036388850584626195 and parameters: {'window_size': 44, 'hidden_size': 256, 'num_layers': 3, 'dropout_rate': 0.2507646584156741, 'learning_rate': 0.0012266020960996524, 'batch_size': 16, 'weight_decay': 0.00011490522216544451}. Best is trial 51 with value: 0.03478812277317047.\n",
      "[I 2025-06-23 22:01:50,917] Trial 59 finished with value: 0.03897426277399063 and parameters: {'window_size': 44, 'hidden_size': 256, 'num_layers': 3, 'dropout_rate': 0.2101338553361494, 'learning_rate': 0.0011914807908764275, 'batch_size': 16, 'weight_decay': 0.00015115016536275408}. Best is trial 51 with value: 0.03478812277317047.\n",
      "[I 2025-06-23 22:06:03,120] Trial 60 finished with value: 0.039604168850928545 and parameters: {'window_size': 47, 'hidden_size': 256, 'num_layers': 3, 'dropout_rate': 0.24951222303730763, 'learning_rate': 0.0008014325235832793, 'batch_size': 16, 'weight_decay': 0.00012132964068811526}. Best is trial 51 with value: 0.03478812277317047.\n",
      "[I 2025-06-23 22:09:25,539] Trial 61 finished with value: 0.04108812908331553 and parameters: {'window_size': 43, 'hidden_size': 256, 'num_layers': 3, 'dropout_rate': 0.26870274855891774, 'learning_rate': 0.0014768547337870894, 'batch_size': 16, 'weight_decay': 0.00019528649219993432}. Best is trial 51 with value: 0.03478812277317047.\n",
      "[I 2025-06-23 22:11:34,400] Trial 62 finished with value: 0.0387783015945128 and parameters: {'window_size': 41, 'hidden_size': 256, 'num_layers': 2, 'dropout_rate': 0.25263977763147477, 'learning_rate': 0.002159010404015246, 'batch_size': 16, 'weight_decay': 0.00029189743509114475}. Best is trial 51 with value: 0.03478812277317047.\n",
      "[I 2025-06-23 22:12:12,188] Trial 63 finished with value: 0.05024474859237671 and parameters: {'window_size': 27, 'hidden_size': 256, 'num_layers': 3, 'dropout_rate': 0.28031959242964505, 'learning_rate': 0.004339123432071053, 'batch_size': 128, 'weight_decay': 0.000590842302260158}. Best is trial 51 with value: 0.03478812277317047.\n",
      "[I 2025-06-23 22:13:04,816] Trial 64 finished with value: 0.044272530823946 and parameters: {'window_size': 39, 'hidden_size': 128, 'num_layers': 4, 'dropout_rate': 0.243199576543911, 'learning_rate': 0.0005733400295910945, 'batch_size': 16, 'weight_decay': 0.0007743464712854331}. Best is trial 51 with value: 0.03478812277317047.\n",
      "[I 2025-06-23 22:13:39,188] Trial 65 finished with value: 0.03546788233021895 and parameters: {'window_size': 45, 'hidden_size': 64, 'num_layers': 3, 'dropout_rate': 0.29254982957863024, 'learning_rate': 0.0017198579537171278, 'batch_size': 32, 'weight_decay': 0.00026641393786950885}. Best is trial 51 with value: 0.03478812277317047.\n",
      "[I 2025-06-23 22:14:12,160] Trial 66 finished with value: 0.037261418998241425 and parameters: {'window_size': 45, 'hidden_size': 64, 'num_layers': 3, 'dropout_rate': 0.2288517260125521, 'learning_rate': 0.001827521650316005, 'batch_size': 32, 'weight_decay': 0.0002866078448422995}. Best is trial 51 with value: 0.03478812277317047.\n",
      "[I 2025-06-23 22:14:33,902] Trial 67 finished with value: 0.04247363470494747 and parameters: {'window_size': 46, 'hidden_size': 64, 'num_layers': 3, 'dropout_rate': 0.22649906530055525, 'learning_rate': 0.0012356926369571771, 'batch_size': 32, 'weight_decay': 0.00016095300104250235}. Best is trial 51 with value: 0.03478812277317047.\n",
      "[I 2025-06-23 22:15:21,621] Trial 68 finished with value: 0.039658073335886 and parameters: {'window_size': 47, 'hidden_size': 64, 'num_layers': 3, 'dropout_rate': 0.23290376637091403, 'learning_rate': 0.0010511306744389742, 'batch_size': 32, 'weight_decay': 0.000265044064262653}. Best is trial 51 with value: 0.03478812277317047.\n",
      "[I 2025-06-23 22:15:46,970] Trial 69 finished with value: 0.03935980858902136 and parameters: {'window_size': 43, 'hidden_size': 64, 'num_layers': 3, 'dropout_rate': 0.20947137218672937, 'learning_rate': 0.0018391031299753798, 'batch_size': 32, 'weight_decay': 0.00011336349263864454}. Best is trial 51 with value: 0.03478812277317047.\n",
      "[I 2025-06-23 22:16:12,478] Trial 70 finished with value: 0.037647215028603874 and parameters: {'window_size': 45, 'hidden_size': 64, 'num_layers': 3, 'dropout_rate': 0.2911216235569561, 'learning_rate': 0.00039069534922388704, 'batch_size': 32, 'weight_decay': 0.00030465627406432814}. Best is trial 51 with value: 0.03478812277317047.\n",
      "[I 2025-06-23 22:16:32,459] Trial 71 finished with value: 0.03746657197674116 and parameters: {'window_size': 45, 'hidden_size': 64, 'num_layers': 3, 'dropout_rate': 0.25617901563098844, 'learning_rate': 0.00035814718529359, 'batch_size': 32, 'weight_decay': 0.0003025751132138281}. Best is trial 51 with value: 0.03478812277317047.\n",
      "[I 2025-06-23 22:17:05,263] Trial 72 finished with value: 0.046133981396754585 and parameters: {'window_size': 44, 'hidden_size': 64, 'num_layers': 3, 'dropout_rate': 0.2929113139600587, 'learning_rate': 0.00037486561950092175, 'batch_size': 32, 'weight_decay': 0.00032648568457555597}. Best is trial 51 with value: 0.03478812277317047.\n",
      "[I 2025-06-23 22:17:31,462] Trial 73 finished with value: 0.03601790592074394 and parameters: {'window_size': 46, 'hidden_size': 64, 'num_layers': 3, 'dropout_rate': 0.3207877883229628, 'learning_rate': 0.00023997945397907303, 'batch_size': 32, 'weight_decay': 0.00019365137340440894}. Best is trial 51 with value: 0.03478812277317047.\n",
      "[I 2025-06-23 22:17:54,725] Trial 74 finished with value: 0.05173417367041111 and parameters: {'window_size': 48, 'hidden_size': 64, 'num_layers': 3, 'dropout_rate': 0.3047955422851832, 'learning_rate': 0.00025334681162800243, 'batch_size': 32, 'weight_decay': 0.00024035289309825685}. Best is trial 51 with value: 0.03478812277317047.\n",
      "[I 2025-06-23 22:18:27,530] Trial 75 finished with value: 0.041789365001022816 and parameters: {'window_size': 41, 'hidden_size': 64, 'num_layers': 3, 'dropout_rate': 0.32295600009296604, 'learning_rate': 0.000253547025966613, 'batch_size': 32, 'weight_decay': 0.00018125718521941326}. Best is trial 51 with value: 0.03478812277317047.\n",
      "[I 2025-06-23 22:18:54,695] Trial 76 finished with value: 0.04045706118146578 and parameters: {'window_size': 43, 'hidden_size': 64, 'num_layers': 3, 'dropout_rate': 0.34005277564349295, 'learning_rate': 0.0005072857493287288, 'batch_size': 32, 'weight_decay': 0.00020673461224199083}. Best is trial 51 with value: 0.03478812277317047.\n",
      "[I 2025-06-23 22:19:23,696] Trial 77 finished with value: 0.039903704077005386 and parameters: {'window_size': 46, 'hidden_size': 64, 'num_layers': 3, 'dropout_rate': 0.2783370150156541, 'learning_rate': 0.0003103229180879705, 'batch_size': 32, 'weight_decay': 0.00037985416187078137}. Best is trial 51 with value: 0.03478812277317047.\n",
      "[I 2025-06-23 22:19:52,019] Trial 78 finished with value: 0.043724508956074715 and parameters: {'window_size': 47, 'hidden_size': 64, 'num_layers': 3, 'dropout_rate': 0.23818291471451522, 'learning_rate': 0.00013326608562163898, 'batch_size': 32, 'weight_decay': 0.00024133081242931796}. Best is trial 51 with value: 0.03478812277317047.\n",
      "[I 2025-06-23 22:20:18,008] Trial 79 finished with value: 0.038513329500953354 and parameters: {'window_size': 45, 'hidden_size': 64, 'num_layers': 3, 'dropout_rate': 0.4989603220780433, 'learning_rate': 0.0003576289092096073, 'batch_size': 32, 'weight_decay': 0.0004438371509237973}. Best is trial 51 with value: 0.03478812277317047.\n",
      "[I 2025-06-23 22:21:08,309] Trial 80 finished with value: 0.056567028164863586 and parameters: {'window_size': 20, 'hidden_size': 64, 'num_layers': 3, 'dropout_rate': 0.36723487644677505, 'learning_rate': 0.0009295352223986753, 'batch_size': 32, 'weight_decay': 0.0001833222768778861}. Best is trial 51 with value: 0.03478812277317047.\n",
      "[I 2025-06-23 22:21:45,208] Trial 81 finished with value: 0.03753433500727018 and parameters: {'window_size': 45, 'hidden_size': 64, 'num_layers': 3, 'dropout_rate': 0.2888700400868464, 'learning_rate': 0.0004509352568364381, 'batch_size': 32, 'weight_decay': 0.0003093367410173125}. Best is trial 51 with value: 0.03478812277317047.\n",
      "[I 2025-06-23 22:22:07,219] Trial 82 finished with value: 0.04108995199203491 and parameters: {'window_size': 44, 'hidden_size': 64, 'num_layers': 3, 'dropout_rate': 0.2665619225398573, 'learning_rate': 0.000652228742526563, 'batch_size': 32, 'weight_decay': 0.0002828582002006163}. Best is trial 51 with value: 0.03478812277317047.\n",
      "[I 2025-06-23 22:22:28,881] Trial 83 finished with value: 0.04647377319633961 and parameters: {'window_size': 46, 'hidden_size': 64, 'num_layers': 3, 'dropout_rate': 0.25706160434482195, 'learning_rate': 0.0004527468574584894, 'batch_size': 32, 'weight_decay': 0.00016296586820696644}. Best is trial 51 with value: 0.03478812277317047.\n",
      "[I 2025-06-23 22:22:58,159] Trial 84 finished with value: 0.041064489632844925 and parameters: {'window_size': 43, 'hidden_size': 64, 'num_layers': 3, 'dropout_rate': 0.2829198028257648, 'learning_rate': 0.0014073948865386803, 'batch_size': 32, 'weight_decay': 0.0003582876342514273}. Best is trial 51 with value: 0.03478812277317047.\n",
      "[I 2025-06-23 22:23:23,035] Trial 85 finished with value: 0.060724083334207535 and parameters: {'window_size': 48, 'hidden_size': 64, 'num_layers': 3, 'dropout_rate': 0.3194461574890741, 'learning_rate': 0.00033800717773659094, 'batch_size': 32, 'weight_decay': 0.0002709493768799992}. Best is trial 51 with value: 0.03478812277317047.\n",
      "[I 2025-06-23 22:24:58,976] Trial 86 finished with value: 0.0339013176659743 and parameters: {'window_size': 45, 'hidden_size': 256, 'num_layers': 3, 'dropout_rate': 0.3084197972604751, 'learning_rate': 0.0004232819874875403, 'batch_size': 32, 'weight_decay': 6.29281256931719e-05}. Best is trial 86 with value: 0.0339013176659743.\n",
      "[I 2025-06-23 22:27:21,174] Trial 87 finished with value: 0.040573060512542725 and parameters: {'window_size': 46, 'hidden_size': 256, 'num_layers': 3, 'dropout_rate': 0.299606174012155, 'learning_rate': 0.0002685702323130142, 'batch_size': 32, 'weight_decay': 6.206031394079294e-05}. Best is trial 86 with value: 0.0339013176659743.\n",
      "[I 2025-06-23 22:28:55,301] Trial 88 finished with value: 0.03945851791650057 and parameters: {'window_size': 42, 'hidden_size': 256, 'num_layers': 3, 'dropout_rate': 0.2746210875387036, 'learning_rate': 0.0001678007059255334, 'batch_size': 32, 'weight_decay': 4.214169332654036e-05}. Best is trial 86 with value: 0.0339013176659743.\n",
      "[I 2025-06-23 22:30:31,537] Trial 89 finished with value: 0.04357841486732165 and parameters: {'window_size': 44, 'hidden_size': 256, 'num_layers': 3, 'dropout_rate': 0.3065443950335772, 'learning_rate': 0.0002836070700256188, 'batch_size': 32, 'weight_decay': 3.139042867593146e-05}. Best is trial 86 with value: 0.0339013176659743.\n",
      "[I 2025-06-23 22:31:18,653] Trial 90 finished with value: 0.042222414165735245 and parameters: {'window_size': 40, 'hidden_size': 256, 'num_layers': 3, 'dropout_rate': 0.4696792861580544, 'learning_rate': 0.00021977139593236427, 'batch_size': 128, 'weight_decay': 1.87343748602103e-05}. Best is trial 86 with value: 0.0339013176659743.\n",
      "[I 2025-06-23 22:31:43,842] Trial 91 finished with value: 0.03621946399410566 and parameters: {'window_size': 45, 'hidden_size': 128, 'num_layers': 3, 'dropout_rate': 0.31258607283928946, 'learning_rate': 0.0005779365694564439, 'batch_size': 32, 'weight_decay': 4.825241613752093e-05}. Best is trial 86 with value: 0.0339013176659743.\n",
      "[I 2025-06-23 22:32:05,232] Trial 92 finished with value: 0.04158161487430334 and parameters: {'window_size': 47, 'hidden_size': 128, 'num_layers': 3, 'dropout_rate': 0.3297208230341334, 'learning_rate': 0.0005848780687866134, 'batch_size': 32, 'weight_decay': 5.182636178056788e-05}. Best is trial 86 with value: 0.0339013176659743.\n",
      "[I 2025-06-23 22:32:20,763] Trial 93 finished with value: 0.03869566321372986 and parameters: {'window_size': 43, 'hidden_size': 128, 'num_layers': 3, 'dropout_rate': 0.3083598214199422, 'learning_rate': 0.0006737978582079309, 'batch_size': 32, 'weight_decay': 7.611657752486418e-05}. Best is trial 86 with value: 0.0339013176659743.\n",
      "[I 2025-06-23 22:32:35,444] Trial 94 finished with value: 0.03798322503765424 and parameters: {'window_size': 45, 'hidden_size': 128, 'num_layers': 3, 'dropout_rate': 0.31228679545579213, 'learning_rate': 0.00041421697351676695, 'batch_size': 32, 'weight_decay': 9.616474210120179e-05}. Best is trial 86 with value: 0.0339013176659743.\n",
      "[I 2025-06-23 22:32:48,656] Trial 95 finished with value: 0.04187439940869808 and parameters: {'window_size': 41, 'hidden_size': 128, 'num_layers': 3, 'dropout_rate': 0.35166377729679954, 'learning_rate': 0.0005022744332115579, 'batch_size': 32, 'weight_decay': 6.893180787942056e-05}. Best is trial 86 with value: 0.0339013176659743.\n",
      "[I 2025-06-23 22:33:13,318] Trial 96 finished with value: 0.04248829558491707 and parameters: {'window_size': 46, 'hidden_size': 32, 'num_layers': 3, 'dropout_rate': 0.3241623488517906, 'learning_rate': 0.0007582975876879335, 'batch_size': 32, 'weight_decay': 5.272459145598368e-05}. Best is trial 86 with value: 0.0339013176659743.\n",
      "[I 2025-06-23 22:35:27,097] Trial 97 finished with value: 0.04308346245023939 and parameters: {'window_size': 38, 'hidden_size': 256, 'num_layers': 4, 'dropout_rate': 0.22357340824655256, 'learning_rate': 0.003100761277232476, 'batch_size': 16, 'weight_decay': 3.480336556436839e-05}. Best is trial 86 with value: 0.0339013176659743.\n",
      "[I 2025-06-23 22:36:30,737] Trial 98 finished with value: 0.04292704910039902 and parameters: {'window_size': 44, 'hidden_size': 256, 'num_layers': 3, 'dropout_rate': 0.335267163683501, 'learning_rate': 0.0004263678089237318, 'batch_size': 32, 'weight_decay': 2.1441033113216166e-05}. Best is trial 86 with value: 0.0339013176659743.\n",
      "[I 2025-06-23 22:37:05,895] Trial 99 finished with value: 0.04930048187573751 and parameters: {'window_size': 48, 'hidden_size': 128, 'num_layers': 4, 'dropout_rate': 0.24672366313666813, 'learning_rate': 0.003566997392566772, 'batch_size': 16, 'weight_decay': 2.5360218779726338e-05}. Best is trial 86 with value: 0.0339013176659743.\n",
      "\n",
      "Mejores hiperparámetros encontrados:\n",
      "{'window_size': 45, 'hidden_size': 256, 'num_layers': 3, 'dropout_rate': 0.3084197972604751, 'learning_rate': 0.0004232819874875403, 'batch_size': 32, 'weight_decay': 6.29281256931719e-05}\n",
      "\n",
      "Mejor pérdida en validación: 0.0339\n",
      "\n",
      "### Entrenando ensemble de modelos finales ###\n",
      "\n",
      "Entrenando modelo 1/5\n",
      "Época 50/300, Pérdida: 0.0371\n",
      "Época 100/300, Pérdida: 0.0119\n",
      "Época 150/300, Pérdida: 0.0060\n",
      "Época 200/300, Pérdida: 0.0052\n",
      "Época 250/300, Pérdida: 0.0042\n",
      "Época 300/300, Pérdida: 0.0029\n",
      "\n",
      "Entrenando modelo 2/5\n",
      "Época 50/300, Pérdida: 0.0373\n",
      "Época 100/300, Pérdida: 0.0126\n",
      "Época 150/300, Pérdida: 0.0068\n",
      "Época 200/300, Pérdida: 0.0034\n",
      "Época 250/300, Pérdida: 0.0032\n",
      "Época 300/300, Pérdida: 0.0024\n",
      "\n",
      "Entrenando modelo 3/5\n",
      "Época 50/300, Pérdida: 0.0385\n",
      "Época 100/300, Pérdida: 0.0110\n",
      "Época 150/300, Pérdida: 0.0061\n",
      "Época 200/300, Pérdida: 0.0046\n",
      "Época 250/300, Pérdida: 0.0042\n",
      "Época 300/300, Pérdida: 0.0027\n",
      "\n",
      "Entrenando modelo 4/5\n",
      "Época 50/300, Pérdida: 0.0359\n",
      "Época 100/300, Pérdida: 0.0107\n",
      "Época 150/300, Pérdida: 0.0058\n",
      "Época 200/300, Pérdida: 0.0044\n",
      "Época 250/300, Pérdida: 0.0030\n",
      "Época 300/300, Pérdida: 0.0023\n",
      "\n",
      "Entrenando modelo 5/5\n",
      "Época 50/300, Pérdida: 0.0375\n",
      "Época 100/300, Pérdida: 0.0115\n",
      "Época 150/300, Pérdida: 0.0066\n",
      "Época 200/300, Pérdida: 0.0048\n",
      "Época 250/300, Pérdida: 0.0043\n",
      "Época 300/300, Pérdida: 0.0028\n",
      "\n",
      "### Generando pronósticos con ensemble para 2022 ###\n",
      "\n",
      "Pronósticos generados: 520 registros\n",
      "\n",
      "Estadísticas de pronósticos:\n",
      "count    520.000000\n",
      "mean       1.480051\n",
      "std        0.582431\n",
      "min        0.028094\n",
      "25%        1.073072\n",
      "50%        1.438717\n",
      "75%        1.782862\n",
      "max        3.227801\n",
      "Name: dengue, dtype: float64\n",
      "\n",
      "Primeras filas del archivo de salida:\n",
      "          id  dengue\n",
      "0  0_2022_01    1.50\n",
      "1  0_2022_02    0.18\n",
      "2  0_2022_03    2.13\n",
      "3  0_2022_04    1.04\n",
      "4  0_2022_05    1.44\n",
      "5  0_2022_06    1.93\n",
      "6  0_2022_07    2.02\n",
      "7  0_2022_08    2.15\n",
      "8  0_2022_09    2.18\n",
      "9  0_2022_10    2.18\n",
      "\n",
      "Total de registros: 520\n",
      "\n",
      "Archivo 'pronosticos_GRU_2_optimizado_20250623_231301.csv' guardado exitosamente.\n"
     ]
    },
    {
     "data": {
      "application/vnd.plotly.v1+json": {
       "config": {
        "plotlyServerURL": "https://plot.ly"
       },
       "data": [
        {
         "line": {
          "width": 2
         },
         "marker": {
          "size": 6
         },
         "mode": "lines+markers",
         "name": "Barrio 0",
         "type": "scatter",
         "x": {
          "bdata": "AQIDBAUGBwgJCgsMDQ4PEBESExQVFhcYGRobHB0eHyAhIiMkJSYnKCkqKywtLi8wMTIzNA==",
          "dtype": "i1"
         },
         "y": {
          "bdata": "IPQy1Knz9z+CIQTLGkfHPx0EtvWiCQFAq+S3cFyY8D/DjzW/Lgf3P/U1O7ID1f4/CDVo/7krAEDOkv5cFioBQOsYhQ3cbwFA+D/TtHd1AUBL/nOLZCEBQH1QtZkxIgJARojfFIRYA0AMf+w3YKIEQAu95Y0RxANAMEeKLMc5A0AhSRjLNBIDQPqXpvxO1gRAvFRwBzYqBUBHjOoVZ00FQHEsho5/sgRAegGp+/SIBEAaVt32oBsFQHlnh4ufWwVASrHm+3F4AkDdbXD/pzUDQNJfuUnU+ANAg2p1c1/yA0CwYm2HYOEDQIOMmMz6qQVAelBMOcrBA0CMdNYQj74BQP4kACk7VQJACJ7kDn2eAkDWIACtQkMBQOJ3lX/u0AFASlYFN7ixAUDSoSMVUmQBQOKsDKUNkABAqUj6SZnnAEBOhcMZnP4AQN7casHomwBAZwwdIH5xAUBrc0bo5ccAQEUk+N8CAABAFwHF5uMoAEByIKUU5p4AQKP16J7J5ABAijQOMISNAECM/xQW6kkAQAVB1brbggBAGwGG/NaaAEA=",
          "dtype": "f8"
         }
        },
        {
         "line": {
          "width": 2
         },
         "marker": {
          "size": 6
         },
         "mode": "lines+markers",
         "name": "Barrio 1",
         "type": "scatter",
         "x": {
          "bdata": "AQIDBAUGBwgJCgsMDQ4PEBESExQVFhcYGRobHB0eHyAhIiMkJSYnKCkqKywtLi8wMTIzNA==",
          "dtype": "i1"
         },
         "y": {
          "bdata": "45Feh+Cn0D8gCkI60K/hPzp8TID4zeA/ymp+qrBK6D9oF4sTp6nZP+wDVDLvHfE/6pmJERK13z/HT9NBE4foP71uZ5Z+ne4/DuJgPay67D9baWmLtIDqP2ZRCrFPRPE/KgBt0gTj7j8GhbapMN/vP5eHu4nf9fE/ElU+1IdA8D+yBQ63g7XxP/r1+4AtzPE/VTnori8h8z/abwnTzbnyP0j/TZ9l6fM/FbXdzeiI9T/WOOj5PDH2P1nF/UcX4PU/6HzGDCUN9z9Sj1DLquL5P6v39mhIafg/vhlB+loc9z+Y28lCMw/4P0bDgpJhQvw/RhuD4IDB+T82sDIEvBz6P43KwMzZA/o/vYbqGiXg+j+BHIC+6+D3P7gEeS0uJvg/GzqgppO6+T/D8P1fr3j5P0DSqBry6fg/azjXrsuL+T9OqR4VhHH4P4Zr4KtePPg/tWc8BtOT9z9K3fnZAy32P/Sg9B/xZfg/uEcjf0M89z++QrpekYz3P0X9vmR2ufc/Mtwux/A09z8CL4wcoFH3P78R5YvWe/c/Hi7QfCjj9T8=",
          "dtype": "f8"
         }
        },
        {
         "line": {
          "width": 2
         },
         "marker": {
          "size": 6
         },
         "mode": "lines+markers",
         "name": "Barrio 2",
         "type": "scatter",
         "x": {
          "bdata": "AQIDBAUGBwgJCgsMDQ4PEBESExQVFhcYGRobHB0eHyAhIiMkJSYnKCkqKywtLi8wMTIzNA==",
          "dtype": "i1"
         },
         "y": {
          "bdata": "0yJO689Ipj85+oJEGPbSPx66Nss6e+Q/bZoJmI6T7T/4d/9FUA3zP4L2kvCp4/I/qWTFaAZf9D+O/nRIoJT3P5Sw2xona/E/wR7W1Kmw9z+DEF/bYTP3PxicMpZnqPg/lMhBMtp69j/a6fRyLBH3PxK/A/+LdPc/K1zVCCGF+D9l/1mMg+36P5uf0MZl+/k/m2xa0G37+z8Nt9aDVmv7PyJvcI7N1Pk/8Iz/EGNC/T/6Sf8KJjX6P+qPVeY+Hvo/OnS4b+j1+D8YSwmSSpn5P8NUa2n9tvs/2oybUqUr+z9dM6/OJLz6P0oQ0xjdh/4/QwjMknKD/D8/49i1i5H5P4KL2PjX9vs/pmx3APLy+D8I/oIxUAb6P15p/eBlaPk/y5McJOoA+D+m3lGKTsj5P0jLWwkojfk/OBGf7XJJ+D8LPXnGxyL3P4bihcZcEPg/84GFkSXQ8z8ymbB5ayz0PwigctO2QfY/RgoeoojF9D8bEpJTB6D1PxBszf7qOvc/c1OqUxvn9T9ypphuNUr1P8sP7Y+BTvY/OhH4zMai9z8=",
          "dtype": "f8"
         }
        },
        {
         "line": {
          "width": 2
         },
         "marker": {
          "size": 6
         },
         "mode": "lines+markers",
         "name": "Barrio 3",
         "type": "scatter",
         "x": {
          "bdata": "AQIDBAUGBwgJCgsMDQ4PEBESExQVFhcYGRobHB0eHyAhIiMkJSYnKCkqKywtLi8wMTIzNA==",
          "dtype": "i1"
         },
         "y": {
          "bdata": "GicvdSmD8D+h2Jj8xZDxP2O8HKQam/w/lSNEyuZGBEAlbjQrgJsBQH3B+q+0mwBAu8KFI704A0DQXGCMhmQGQF89MM2MrwVAu3pQ8j6XBEDSKclzbtgEQDKF70ER/gRAIkrxoI1yBkBaiE0AaNQGQLrjjAhmoAZALpwWLCtZBkB3hGD2hccHQMJ4vcz8OQhAq4RuhInSCUCG6Wc63V4IQLOmEx5C/AhApsMzqf72CEDOsUFfo2kHQKYBUuTxfgRAtmHpfYeiBEB2BiF2imYGQJMXspx+aQZAhxU50+0KCEBRIPh3dOECQAwa+/5kCwVAwx3jEsf9BUASNenZkDUDQOIr/20/8QJAp2Daz1OyA0CHoe+/t28CQIYGIxCDIANAmBPfOQwcAEBKuPIvpycBQEtvaTgstwJAyRcW8NhOA0BMyFuSroQBQD/JyKYLPgFA6JPLfwnJ+z8IdcaSaLkBQBCGCIx9MQFAYERTDvfNAEBqhftsNG8AQIPxnWpTzgBA7n8Xpqa0AEBM1nw1siIBQLFHqZm4uQBABu7V3kaYAEA=",
          "dtype": "f8"
         }
        },
        {
         "line": {
          "width": 2
         },
         "marker": {
          "size": 6
         },
         "mode": "lines+markers",
         "name": "Barrio 4",
         "type": "scatter",
         "x": {
          "bdata": "AQIDBAUGBwgJCgsMDQ4PEBESExQVFhcYGRobHB0eHyAhIiMkJSYnKCkqKywtLi8wMTIzNA==",
          "dtype": "i1"
         },
         "y": {
          "bdata": "W7GfaKaZ6j+2Mdtu0bbtP+REvYnYu/A/qtUDNGqF9D9MlRNe9RTyP5hMS2ee7PQ/G8Ta12xb+T/DHZgT+bP6P1C+PW03//w/22kO/tMH/D9b9RlOi939PzugSGzsef0/7f0s001J/j+7Ge+sYlP+P/BSkvwlwP4/2FCS49k0/j+KUc/Qupv+P55jfbzctv8/PY9iiduk/z8w9PLm+BIAQLgHGwc5d/8/u5ce2jpv/z92oavsJzMAQDCP+7J3rwBALqjwCt3YAECnWygo9i0AQPpxiIaRdQBAJgqP1VRnAEA+MqR/QRAAQBxhPqmGVQJAuEO8W7lj/j/zM3RJMRYAQPjuXGMHYv4/a/jfAv5I/z+7VM8yDTv+Pzugmjw8Qvw/KIQm93Yt/j/FKYcXseQBQCDlWSF5A/w/coQRlRKQ/D87WtO2+Y/7P2Mppw3m1vo/pa4GkaMa/T+SjgUIV5X8P9KXkXn9rvk/Nj7SRJoI+z82Gy9G/nr8P5p99inkmPs/S60BCH5Y+z92k9Sd/+z6PwJH3lxtqfs/4g0+VyBf+z8=",
          "dtype": "f8"
         }
        }
       ],
       "layout": {
        "hovermode": "x unified",
        "template": {
         "data": {
          "bar": [
           {
            "error_x": {
             "color": "#2a3f5f"
            },
            "error_y": {
             "color": "#2a3f5f"
            },
            "marker": {
             "line": {
              "color": "white",
              "width": 0.5
             },
             "pattern": {
              "fillmode": "overlay",
              "size": 10,
              "solidity": 0.2
             }
            },
            "type": "bar"
           }
          ],
          "barpolar": [
           {
            "marker": {
             "line": {
              "color": "white",
              "width": 0.5
             },
             "pattern": {
              "fillmode": "overlay",
              "size": 10,
              "solidity": 0.2
             }
            },
            "type": "barpolar"
           }
          ],
          "carpet": [
           {
            "aaxis": {
             "endlinecolor": "#2a3f5f",
             "gridcolor": "#C8D4E3",
             "linecolor": "#C8D4E3",
             "minorgridcolor": "#C8D4E3",
             "startlinecolor": "#2a3f5f"
            },
            "baxis": {
             "endlinecolor": "#2a3f5f",
             "gridcolor": "#C8D4E3",
             "linecolor": "#C8D4E3",
             "minorgridcolor": "#C8D4E3",
             "startlinecolor": "#2a3f5f"
            },
            "type": "carpet"
           }
          ],
          "choropleth": [
           {
            "colorbar": {
             "outlinewidth": 0,
             "ticks": ""
            },
            "type": "choropleth"
           }
          ],
          "contour": [
           {
            "colorbar": {
             "outlinewidth": 0,
             "ticks": ""
            },
            "colorscale": [
             [
              0,
              "#0d0887"
             ],
             [
              0.1111111111111111,
              "#46039f"
             ],
             [
              0.2222222222222222,
              "#7201a8"
             ],
             [
              0.3333333333333333,
              "#9c179e"
             ],
             [
              0.4444444444444444,
              "#bd3786"
             ],
             [
              0.5555555555555556,
              "#d8576b"
             ],
             [
              0.6666666666666666,
              "#ed7953"
             ],
             [
              0.7777777777777778,
              "#fb9f3a"
             ],
             [
              0.8888888888888888,
              "#fdca26"
             ],
             [
              1,
              "#f0f921"
             ]
            ],
            "type": "contour"
           }
          ],
          "contourcarpet": [
           {
            "colorbar": {
             "outlinewidth": 0,
             "ticks": ""
            },
            "type": "contourcarpet"
           }
          ],
          "heatmap": [
           {
            "colorbar": {
             "outlinewidth": 0,
             "ticks": ""
            },
            "colorscale": [
             [
              0,
              "#0d0887"
             ],
             [
              0.1111111111111111,
              "#46039f"
             ],
             [
              0.2222222222222222,
              "#7201a8"
             ],
             [
              0.3333333333333333,
              "#9c179e"
             ],
             [
              0.4444444444444444,
              "#bd3786"
             ],
             [
              0.5555555555555556,
              "#d8576b"
             ],
             [
              0.6666666666666666,
              "#ed7953"
             ],
             [
              0.7777777777777778,
              "#fb9f3a"
             ],
             [
              0.8888888888888888,
              "#fdca26"
             ],
             [
              1,
              "#f0f921"
             ]
            ],
            "type": "heatmap"
           }
          ],
          "histogram": [
           {
            "marker": {
             "pattern": {
              "fillmode": "overlay",
              "size": 10,
              "solidity": 0.2
             }
            },
            "type": "histogram"
           }
          ],
          "histogram2d": [
           {
            "colorbar": {
             "outlinewidth": 0,
             "ticks": ""
            },
            "colorscale": [
             [
              0,
              "#0d0887"
             ],
             [
              0.1111111111111111,
              "#46039f"
             ],
             [
              0.2222222222222222,
              "#7201a8"
             ],
             [
              0.3333333333333333,
              "#9c179e"
             ],
             [
              0.4444444444444444,
              "#bd3786"
             ],
             [
              0.5555555555555556,
              "#d8576b"
             ],
             [
              0.6666666666666666,
              "#ed7953"
             ],
             [
              0.7777777777777778,
              "#fb9f3a"
             ],
             [
              0.8888888888888888,
              "#fdca26"
             ],
             [
              1,
              "#f0f921"
             ]
            ],
            "type": "histogram2d"
           }
          ],
          "histogram2dcontour": [
           {
            "colorbar": {
             "outlinewidth": 0,
             "ticks": ""
            },
            "colorscale": [
             [
              0,
              "#0d0887"
             ],
             [
              0.1111111111111111,
              "#46039f"
             ],
             [
              0.2222222222222222,
              "#7201a8"
             ],
             [
              0.3333333333333333,
              "#9c179e"
             ],
             [
              0.4444444444444444,
              "#bd3786"
             ],
             [
              0.5555555555555556,
              "#d8576b"
             ],
             [
              0.6666666666666666,
              "#ed7953"
             ],
             [
              0.7777777777777778,
              "#fb9f3a"
             ],
             [
              0.8888888888888888,
              "#fdca26"
             ],
             [
              1,
              "#f0f921"
             ]
            ],
            "type": "histogram2dcontour"
           }
          ],
          "mesh3d": [
           {
            "colorbar": {
             "outlinewidth": 0,
             "ticks": ""
            },
            "type": "mesh3d"
           }
          ],
          "parcoords": [
           {
            "line": {
             "colorbar": {
              "outlinewidth": 0,
              "ticks": ""
             }
            },
            "type": "parcoords"
           }
          ],
          "pie": [
           {
            "automargin": true,
            "type": "pie"
           }
          ],
          "scatter": [
           {
            "fillpattern": {
             "fillmode": "overlay",
             "size": 10,
             "solidity": 0.2
            },
            "type": "scatter"
           }
          ],
          "scatter3d": [
           {
            "line": {
             "colorbar": {
              "outlinewidth": 0,
              "ticks": ""
             }
            },
            "marker": {
             "colorbar": {
              "outlinewidth": 0,
              "ticks": ""
             }
            },
            "type": "scatter3d"
           }
          ],
          "scattercarpet": [
           {
            "marker": {
             "colorbar": {
              "outlinewidth": 0,
              "ticks": ""
             }
            },
            "type": "scattercarpet"
           }
          ],
          "scattergeo": [
           {
            "marker": {
             "colorbar": {
              "outlinewidth": 0,
              "ticks": ""
             }
            },
            "type": "scattergeo"
           }
          ],
          "scattergl": [
           {
            "marker": {
             "colorbar": {
              "outlinewidth": 0,
              "ticks": ""
             }
            },
            "type": "scattergl"
           }
          ],
          "scattermap": [
           {
            "marker": {
             "colorbar": {
              "outlinewidth": 0,
              "ticks": ""
             }
            },
            "type": "scattermap"
           }
          ],
          "scattermapbox": [
           {
            "marker": {
             "colorbar": {
              "outlinewidth": 0,
              "ticks": ""
             }
            },
            "type": "scattermapbox"
           }
          ],
          "scatterpolar": [
           {
            "marker": {
             "colorbar": {
              "outlinewidth": 0,
              "ticks": ""
             }
            },
            "type": "scatterpolar"
           }
          ],
          "scatterpolargl": [
           {
            "marker": {
             "colorbar": {
              "outlinewidth": 0,
              "ticks": ""
             }
            },
            "type": "scatterpolargl"
           }
          ],
          "scatterternary": [
           {
            "marker": {
             "colorbar": {
              "outlinewidth": 0,
              "ticks": ""
             }
            },
            "type": "scatterternary"
           }
          ],
          "surface": [
           {
            "colorbar": {
             "outlinewidth": 0,
             "ticks": ""
            },
            "colorscale": [
             [
              0,
              "#0d0887"
             ],
             [
              0.1111111111111111,
              "#46039f"
             ],
             [
              0.2222222222222222,
              "#7201a8"
             ],
             [
              0.3333333333333333,
              "#9c179e"
             ],
             [
              0.4444444444444444,
              "#bd3786"
             ],
             [
              0.5555555555555556,
              "#d8576b"
             ],
             [
              0.6666666666666666,
              "#ed7953"
             ],
             [
              0.7777777777777778,
              "#fb9f3a"
             ],
             [
              0.8888888888888888,
              "#fdca26"
             ],
             [
              1,
              "#f0f921"
             ]
            ],
            "type": "surface"
           }
          ],
          "table": [
           {
            "cells": {
             "fill": {
              "color": "#EBF0F8"
             },
             "line": {
              "color": "white"
             }
            },
            "header": {
             "fill": {
              "color": "#C8D4E3"
             },
             "line": {
              "color": "white"
             }
            },
            "type": "table"
           }
          ]
         },
         "layout": {
          "annotationdefaults": {
           "arrowcolor": "#2a3f5f",
           "arrowhead": 0,
           "arrowwidth": 1
          },
          "autotypenumbers": "strict",
          "coloraxis": {
           "colorbar": {
            "outlinewidth": 0,
            "ticks": ""
           }
          },
          "colorscale": {
           "diverging": [
            [
             0,
             "#8e0152"
            ],
            [
             0.1,
             "#c51b7d"
            ],
            [
             0.2,
             "#de77ae"
            ],
            [
             0.3,
             "#f1b6da"
            ],
            [
             0.4,
             "#fde0ef"
            ],
            [
             0.5,
             "#f7f7f7"
            ],
            [
             0.6,
             "#e6f5d0"
            ],
            [
             0.7,
             "#b8e186"
            ],
            [
             0.8,
             "#7fbc41"
            ],
            [
             0.9,
             "#4d9221"
            ],
            [
             1,
             "#276419"
            ]
           ],
           "sequential": [
            [
             0,
             "#0d0887"
            ],
            [
             0.1111111111111111,
             "#46039f"
            ],
            [
             0.2222222222222222,
             "#7201a8"
            ],
            [
             0.3333333333333333,
             "#9c179e"
            ],
            [
             0.4444444444444444,
             "#bd3786"
            ],
            [
             0.5555555555555556,
             "#d8576b"
            ],
            [
             0.6666666666666666,
             "#ed7953"
            ],
            [
             0.7777777777777778,
             "#fb9f3a"
            ],
            [
             0.8888888888888888,
             "#fdca26"
            ],
            [
             1,
             "#f0f921"
            ]
           ],
           "sequentialminus": [
            [
             0,
             "#0d0887"
            ],
            [
             0.1111111111111111,
             "#46039f"
            ],
            [
             0.2222222222222222,
             "#7201a8"
            ],
            [
             0.3333333333333333,
             "#9c179e"
            ],
            [
             0.4444444444444444,
             "#bd3786"
            ],
            [
             0.5555555555555556,
             "#d8576b"
            ],
            [
             0.6666666666666666,
             "#ed7953"
            ],
            [
             0.7777777777777778,
             "#fb9f3a"
            ],
            [
             0.8888888888888888,
             "#fdca26"
            ],
            [
             1,
             "#f0f921"
            ]
           ]
          },
          "colorway": [
           "#636efa",
           "#EF553B",
           "#00cc96",
           "#ab63fa",
           "#FFA15A",
           "#19d3f3",
           "#FF6692",
           "#B6E880",
           "#FF97FF",
           "#FECB52"
          ],
          "font": {
           "color": "#2a3f5f"
          },
          "geo": {
           "bgcolor": "white",
           "lakecolor": "white",
           "landcolor": "white",
           "showlakes": true,
           "showland": true,
           "subunitcolor": "#C8D4E3"
          },
          "hoverlabel": {
           "align": "left"
          },
          "hovermode": "closest",
          "mapbox": {
           "style": "light"
          },
          "paper_bgcolor": "white",
          "plot_bgcolor": "white",
          "polar": {
           "angularaxis": {
            "gridcolor": "#EBF0F8",
            "linecolor": "#EBF0F8",
            "ticks": ""
           },
           "bgcolor": "white",
           "radialaxis": {
            "gridcolor": "#EBF0F8",
            "linecolor": "#EBF0F8",
            "ticks": ""
           }
          },
          "scene": {
           "xaxis": {
            "backgroundcolor": "white",
            "gridcolor": "#DFE8F3",
            "gridwidth": 2,
            "linecolor": "#EBF0F8",
            "showbackground": true,
            "ticks": "",
            "zerolinecolor": "#EBF0F8"
           },
           "yaxis": {
            "backgroundcolor": "white",
            "gridcolor": "#DFE8F3",
            "gridwidth": 2,
            "linecolor": "#EBF0F8",
            "showbackground": true,
            "ticks": "",
            "zerolinecolor": "#EBF0F8"
           },
           "zaxis": {
            "backgroundcolor": "white",
            "gridcolor": "#DFE8F3",
            "gridwidth": 2,
            "linecolor": "#EBF0F8",
            "showbackground": true,
            "ticks": "",
            "zerolinecolor": "#EBF0F8"
           }
          },
          "shapedefaults": {
           "line": {
            "color": "#2a3f5f"
           }
          },
          "ternary": {
           "aaxis": {
            "gridcolor": "#DFE8F3",
            "linecolor": "#A2B1C6",
            "ticks": ""
           },
           "baxis": {
            "gridcolor": "#DFE8F3",
            "linecolor": "#A2B1C6",
            "ticks": ""
           },
           "bgcolor": "white",
           "caxis": {
            "gridcolor": "#DFE8F3",
            "linecolor": "#A2B1C6",
            "ticks": ""
           }
          },
          "title": {
           "x": 0.05
          },
          "xaxis": {
           "automargin": true,
           "gridcolor": "#EBF0F8",
           "linecolor": "#EBF0F8",
           "ticks": "",
           "title": {
            "standoff": 15
           },
           "zerolinecolor": "#EBF0F8",
           "zerolinewidth": 2
          },
          "yaxis": {
           "automargin": true,
           "gridcolor": "#EBF0F8",
           "linecolor": "#EBF0F8",
           "ticks": "",
           "title": {
            "standoff": 15
           },
           "zerolinecolor": "#EBF0F8",
           "zerolinewidth": 2
          }
         }
        },
        "title": {
         "text": "Pronósticos de Dengue para 2022 - Modelo Optimizado (Muestra de 5 Barrios)"
        },
        "xaxis": {
         "title": {
          "text": "Semana del Año"
         }
        },
        "yaxis": {
         "title": {
          "text": "Casos de Dengue"
         }
        }
       }
      }
     },
     "metadata": {},
     "output_type": "display_data"
    },
    {
     "data": {
      "application/vnd.plotly.v1+json": {
       "config": {
        "plotlyServerURL": "https://plot.ly"
       },
       "data": [
        {
         "name": "Pronósticos 2022",
         "nbinsx": 50,
         "type": "histogram",
         "x": {
          "bdata": "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",
          "dtype": "f8"
         }
        }
       ],
       "layout": {
        "template": {
         "data": {
          "bar": [
           {
            "error_x": {
             "color": "#2a3f5f"
            },
            "error_y": {
             "color": "#2a3f5f"
            },
            "marker": {
             "line": {
              "color": "white",
              "width": 0.5
             },
             "pattern": {
              "fillmode": "overlay",
              "size": 10,
              "solidity": 0.2
             }
            },
            "type": "bar"
           }
          ],
          "barpolar": [
           {
            "marker": {
             "line": {
              "color": "white",
              "width": 0.5
             },
             "pattern": {
              "fillmode": "overlay",
              "size": 10,
              "solidity": 0.2
             }
            },
            "type": "barpolar"
           }
          ],
          "carpet": [
           {
            "aaxis": {
             "endlinecolor": "#2a3f5f",
             "gridcolor": "#C8D4E3",
             "linecolor": "#C8D4E3",
             "minorgridcolor": "#C8D4E3",
             "startlinecolor": "#2a3f5f"
            },
            "baxis": {
             "endlinecolor": "#2a3f5f",
             "gridcolor": "#C8D4E3",
             "linecolor": "#C8D4E3",
             "minorgridcolor": "#C8D4E3",
             "startlinecolor": "#2a3f5f"
            },
            "type": "carpet"
           }
          ],
          "choropleth": [
           {
            "colorbar": {
             "outlinewidth": 0,
             "ticks": ""
            },
            "type": "choropleth"
           }
          ],
          "contour": [
           {
            "colorbar": {
             "outlinewidth": 0,
             "ticks": ""
            },
            "colorscale": [
             [
              0,
              "#0d0887"
             ],
             [
              0.1111111111111111,
              "#46039f"
             ],
             [
              0.2222222222222222,
              "#7201a8"
             ],
             [
              0.3333333333333333,
              "#9c179e"
             ],
             [
              0.4444444444444444,
              "#bd3786"
             ],
             [
              0.5555555555555556,
              "#d8576b"
             ],
             [
              0.6666666666666666,
              "#ed7953"
             ],
             [
              0.7777777777777778,
              "#fb9f3a"
             ],
             [
              0.8888888888888888,
              "#fdca26"
             ],
             [
              1,
              "#f0f921"
             ]
            ],
            "type": "contour"
           }
          ],
          "contourcarpet": [
           {
            "colorbar": {
             "outlinewidth": 0,
             "ticks": ""
            },
            "type": "contourcarpet"
           }
          ],
          "heatmap": [
           {
            "colorbar": {
             "outlinewidth": 0,
             "ticks": ""
            },
            "colorscale": [
             [
              0,
              "#0d0887"
             ],
             [
              0.1111111111111111,
              "#46039f"
             ],
             [
              0.2222222222222222,
              "#7201a8"
             ],
             [
              0.3333333333333333,
              "#9c179e"
             ],
             [
              0.4444444444444444,
              "#bd3786"
             ],
             [
              0.5555555555555556,
              "#d8576b"
             ],
             [
              0.6666666666666666,
              "#ed7953"
             ],
             [
              0.7777777777777778,
              "#fb9f3a"
             ],
             [
              0.8888888888888888,
              "#fdca26"
             ],
             [
              1,
              "#f0f921"
             ]
            ],
            "type": "heatmap"
           }
          ],
          "histogram": [
           {
            "marker": {
             "pattern": {
              "fillmode": "overlay",
              "size": 10,
              "solidity": 0.2
             }
            },
            "type": "histogram"
           }
          ],
          "histogram2d": [
           {
            "colorbar": {
             "outlinewidth": 0,
             "ticks": ""
            },
            "colorscale": [
             [
              0,
              "#0d0887"
             ],
             [
              0.1111111111111111,
              "#46039f"
             ],
             [
              0.2222222222222222,
              "#7201a8"
             ],
             [
              0.3333333333333333,
              "#9c179e"
             ],
             [
              0.4444444444444444,
              "#bd3786"
             ],
             [
              0.5555555555555556,
              "#d8576b"
             ],
             [
              0.6666666666666666,
              "#ed7953"
             ],
             [
              0.7777777777777778,
              "#fb9f3a"
             ],
             [
              0.8888888888888888,
              "#fdca26"
             ],
             [
              1,
              "#f0f921"
             ]
            ],
            "type": "histogram2d"
           }
          ],
          "histogram2dcontour": [
           {
            "colorbar": {
             "outlinewidth": 0,
             "ticks": ""
            },
            "colorscale": [
             [
              0,
              "#0d0887"
             ],
             [
              0.1111111111111111,
              "#46039f"
             ],
             [
              0.2222222222222222,
              "#7201a8"
             ],
             [
              0.3333333333333333,
              "#9c179e"
             ],
             [
              0.4444444444444444,
              "#bd3786"
             ],
             [
              0.5555555555555556,
              "#d8576b"
             ],
             [
              0.6666666666666666,
              "#ed7953"
             ],
             [
              0.7777777777777778,
              "#fb9f3a"
             ],
             [
              0.8888888888888888,
              "#fdca26"
             ],
             [
              1,
              "#f0f921"
             ]
            ],
            "type": "histogram2dcontour"
           }
          ],
          "mesh3d": [
           {
            "colorbar": {
             "outlinewidth": 0,
             "ticks": ""
            },
            "type": "mesh3d"
           }
          ],
          "parcoords": [
           {
            "line": {
             "colorbar": {
              "outlinewidth": 0,
              "ticks": ""
             }
            },
            "type": "parcoords"
           }
          ],
          "pie": [
           {
            "automargin": true,
            "type": "pie"
           }
          ],
          "scatter": [
           {
            "fillpattern": {
             "fillmode": "overlay",
             "size": 10,
             "solidity": 0.2
            },
            "type": "scatter"
           }
          ],
          "scatter3d": [
           {
            "line": {
             "colorbar": {
              "outlinewidth": 0,
              "ticks": ""
             }
            },
            "marker": {
             "colorbar": {
              "outlinewidth": 0,
              "ticks": ""
             }
            },
            "type": "scatter3d"
           }
          ],
          "scattercarpet": [
           {
            "marker": {
             "colorbar": {
              "outlinewidth": 0,
              "ticks": ""
             }
            },
            "type": "scattercarpet"
           }
          ],
          "scattergeo": [
           {
            "marker": {
             "colorbar": {
              "outlinewidth": 0,
              "ticks": ""
             }
            },
            "type": "scattergeo"
           }
          ],
          "scattergl": [
           {
            "marker": {
             "colorbar": {
              "outlinewidth": 0,
              "ticks": ""
             }
            },
            "type": "scattergl"
           }
          ],
          "scattermap": [
           {
            "marker": {
             "colorbar": {
              "outlinewidth": 0,
              "ticks": ""
             }
            },
            "type": "scattermap"
           }
          ],
          "scattermapbox": [
           {
            "marker": {
             "colorbar": {
              "outlinewidth": 0,
              "ticks": ""
             }
            },
            "type": "scattermapbox"
           }
          ],
          "scatterpolar": [
           {
            "marker": {
             "colorbar": {
              "outlinewidth": 0,
              "ticks": ""
             }
            },
            "type": "scatterpolar"
           }
          ],
          "scatterpolargl": [
           {
            "marker": {
             "colorbar": {
              "outlinewidth": 0,
              "ticks": ""
             }
            },
            "type": "scatterpolargl"
           }
          ],
          "scatterternary": [
           {
            "marker": {
             "colorbar": {
              "outlinewidth": 0,
              "ticks": ""
             }
            },
            "type": "scatterternary"
           }
          ],
          "surface": [
           {
            "colorbar": {
             "outlinewidth": 0,
             "ticks": ""
            },
            "colorscale": [
             [
              0,
              "#0d0887"
             ],
             [
              0.1111111111111111,
              "#46039f"
             ],
             [
              0.2222222222222222,
              "#7201a8"
             ],
             [
              0.3333333333333333,
              "#9c179e"
             ],
             [
              0.4444444444444444,
              "#bd3786"
             ],
             [
              0.5555555555555556,
              "#d8576b"
             ],
             [
              0.6666666666666666,
              "#ed7953"
             ],
             [
              0.7777777777777778,
              "#fb9f3a"
             ],
             [
              0.8888888888888888,
              "#fdca26"
             ],
             [
              1,
              "#f0f921"
             ]
            ],
            "type": "surface"
           }
          ],
          "table": [
           {
            "cells": {
             "fill": {
              "color": "#EBF0F8"
             },
             "line": {
              "color": "white"
             }
            },
            "header": {
             "fill": {
              "color": "#C8D4E3"
             },
             "line": {
              "color": "white"
             }
            },
            "type": "table"
           }
          ]
         },
         "layout": {
          "annotationdefaults": {
           "arrowcolor": "#2a3f5f",
           "arrowhead": 0,
           "arrowwidth": 1
          },
          "autotypenumbers": "strict",
          "coloraxis": {
           "colorbar": {
            "outlinewidth": 0,
            "ticks": ""
           }
          },
          "colorscale": {
           "diverging": [
            [
             0,
             "#8e0152"
            ],
            [
             0.1,
             "#c51b7d"
            ],
            [
             0.2,
             "#de77ae"
            ],
            [
             0.3,
             "#f1b6da"
            ],
            [
             0.4,
             "#fde0ef"
            ],
            [
             0.5,
             "#f7f7f7"
            ],
            [
             0.6,
             "#e6f5d0"
            ],
            [
             0.7,
             "#b8e186"
            ],
            [
             0.8,
             "#7fbc41"
            ],
            [
             0.9,
             "#4d9221"
            ],
            [
             1,
             "#276419"
            ]
           ],
           "sequential": [
            [
             0,
             "#0d0887"
            ],
            [
             0.1111111111111111,
             "#46039f"
            ],
            [
             0.2222222222222222,
             "#7201a8"
            ],
            [
             0.3333333333333333,
             "#9c179e"
            ],
            [
             0.4444444444444444,
             "#bd3786"
            ],
            [
             0.5555555555555556,
             "#d8576b"
            ],
            [
             0.6666666666666666,
             "#ed7953"
            ],
            [
             0.7777777777777778,
             "#fb9f3a"
            ],
            [
             0.8888888888888888,
             "#fdca26"
            ],
            [
             1,
             "#f0f921"
            ]
           ],
           "sequentialminus": [
            [
             0,
             "#0d0887"
            ],
            [
             0.1111111111111111,
             "#46039f"
            ],
            [
             0.2222222222222222,
             "#7201a8"
            ],
            [
             0.3333333333333333,
             "#9c179e"
            ],
            [
             0.4444444444444444,
             "#bd3786"
            ],
            [
             0.5555555555555556,
             "#d8576b"
            ],
            [
             0.6666666666666666,
             "#ed7953"
            ],
            [
             0.7777777777777778,
             "#fb9f3a"
            ],
            [
             0.8888888888888888,
             "#fdca26"
            ],
            [
             1,
             "#f0f921"
            ]
           ]
          },
          "colorway": [
           "#636efa",
           "#EF553B",
           "#00cc96",
           "#ab63fa",
           "#FFA15A",
           "#19d3f3",
           "#FF6692",
           "#B6E880",
           "#FF97FF",
           "#FECB52"
          ],
          "font": {
           "color": "#2a3f5f"
          },
          "geo": {
           "bgcolor": "white",
           "lakecolor": "white",
           "landcolor": "white",
           "showlakes": true,
           "showland": true,
           "subunitcolor": "#C8D4E3"
          },
          "hoverlabel": {
           "align": "left"
          },
          "hovermode": "closest",
          "mapbox": {
           "style": "light"
          },
          "paper_bgcolor": "white",
          "plot_bgcolor": "white",
          "polar": {
           "angularaxis": {
            "gridcolor": "#EBF0F8",
            "linecolor": "#EBF0F8",
            "ticks": ""
           },
           "bgcolor": "white",
           "radialaxis": {
            "gridcolor": "#EBF0F8",
            "linecolor": "#EBF0F8",
            "ticks": ""
           }
          },
          "scene": {
           "xaxis": {
            "backgroundcolor": "white",
            "gridcolor": "#DFE8F3",
            "gridwidth": 2,
            "linecolor": "#EBF0F8",
            "showbackground": true,
            "ticks": "",
            "zerolinecolor": "#EBF0F8"
           },
           "yaxis": {
            "backgroundcolor": "white",
            "gridcolor": "#DFE8F3",
            "gridwidth": 2,
            "linecolor": "#EBF0F8",
            "showbackground": true,
            "ticks": "",
            "zerolinecolor": "#EBF0F8"
           },
           "zaxis": {
            "backgroundcolor": "white",
            "gridcolor": "#DFE8F3",
            "gridwidth": 2,
            "linecolor": "#EBF0F8",
            "showbackground": true,
            "ticks": "",
            "zerolinecolor": "#EBF0F8"
           }
          },
          "shapedefaults": {
           "line": {
            "color": "#2a3f5f"
           }
          },
          "ternary": {
           "aaxis": {
            "gridcolor": "#DFE8F3",
            "linecolor": "#A2B1C6",
            "ticks": ""
           },
           "baxis": {
            "gridcolor": "#DFE8F3",
            "linecolor": "#A2B1C6",
            "ticks": ""
           },
           "bgcolor": "white",
           "caxis": {
            "gridcolor": "#DFE8F3",
            "linecolor": "#A2B1C6",
            "ticks": ""
           }
          },
          "title": {
           "x": 0.05
          },
          "xaxis": {
           "automargin": true,
           "gridcolor": "#EBF0F8",
           "linecolor": "#EBF0F8",
           "ticks": "",
           "title": {
            "standoff": 15
           },
           "zerolinecolor": "#EBF0F8",
           "zerolinewidth": 2
          },
          "yaxis": {
           "automargin": true,
           "gridcolor": "#EBF0F8",
           "linecolor": "#EBF0F8",
           "ticks": "",
           "title": {
            "standoff": 15
           },
           "zerolinecolor": "#EBF0F8",
           "zerolinewidth": 2
          }
         }
        },
        "title": {
         "text": "Distribución de Pronósticos de Dengue 2022"
        },
        "xaxis": {
         "title": {
          "text": "Casos de Dengue"
         }
        },
        "yaxis": {
         "title": {
          "text": "Frecuencia"
         }
        }
       }
      }
     },
     "metadata": {},
     "output_type": "display_data"
    },
    {
     "name": "stdout",
     "output_type": "stream",
     "text": [
      "\n",
      "### Proceso completado exitosamente ###\n",
      "\n",
      "Mejoras implementadas para minimizar MSE:\n",
      "1. Transformación logarítmica de la variable objetivo\n",
      "2. Ingeniería de características: lags, medias móviles, características cíclicas\n",
      "3. RobustScaler para manejar outliers\n",
      "4. Data augmentation con ruido gaussiano\n",
      "5. Modelo GRU bidireccional con attention mechanism y batch normalization\n",
      "6. Función de pérdida Huber (robusta ante outliers)\n",
      "7. Ensemble de 5 modelos\n",
      "8. Learning rate scheduling y gradient clipping\n",
      "9. Optimización AdamW con weight decay\n",
      "10. Mayor espacio de búsqueda de hiperparámetros\n"
     ]
    }
   ],
   "source": [
    "#!/usr/bin/env python\n",
    "# coding: utf-8\n",
    "\n",
    "# # Pronóstico de Casos de Dengue por Barrio usando GRU - Versión Optimizada\n",
    "# ## Red Neuronal Recurrente para Series Temporales Multivariadas con MSE Minimizado\n",
    "\n",
    "# ### 1. Configuración e Importación de Librerías\n",
    "\n",
    "import pandas as pd\n",
    "import numpy as np\n",
    "import torch\n",
    "import torch.nn as nn\n",
    "import torch.nn.functional as F\n",
    "from torch.utils.data import Dataset, DataLoader\n",
    "from torch.optim.lr_scheduler import ReduceLROnPlateau\n",
    "from sklearn.preprocessing import StandardScaler, RobustScaler, LabelEncoder\n",
    "from sklearn.metrics import mean_squared_error, mean_absolute_error\n",
    "import optuna\n",
    "import plotly.graph_objects as go\n",
    "import plotly.express as px\n",
    "from datetime import datetime\n",
    "import warnings\n",
    "warnings.filterwarnings('ignore')\n",
    "\n",
    "# Configurar dispositivo de cómputo\n",
    "device = torch.device('cuda' if torch.cuda.is_available() else 'cpu')\n",
    "print(f\"Dispositivo de cómputo: {device}\")\n",
    "\n",
    "# Establecer semilla para reproducibilidad\n",
    "np.random.seed(42)\n",
    "torch.manual_seed(42)\n",
    "if torch.cuda.is_available():\n",
    "    torch.cuda.manual_seed(42)\n",
    "\n",
    "# ### 2. Carga y Preparación de Datos\n",
    "\n",
    "# Cargar datos desde el archivo Parquet\n",
    "df = pd.read_parquet('../../Datos/df_train.parquet')\n",
    "print(f\"Dimensiones del DataFrame: {df.shape}\")\n",
    "print(\"\\nPrimeras filas:\")\n",
    "print(df.head())\n",
    "print(\"\\nInformación del DataFrame:\")\n",
    "print(df.info())\n",
    "\n",
    "# Eliminar la columna 'lluvia_min' de df si existe\n",
    "if 'lluvia_min' in df.columns:\n",
    "    df = df.drop(columns=['lluvia_min'])\n",
    "\n",
    "# Eliminar la columna 'id' de df si existe\n",
    "if 'id' in df.columns:\n",
    "    df = df.drop(columns=['id'])\n",
    "\n",
    "# Eliminar registros con semana=53\n",
    "df = df[df['semana'] != 53]\n",
    "\n",
    "# Crear columna de fecha usando formato de semanas ISO\n",
    "df['fecha'] = pd.to_datetime(df['anio'].astype(str) + df['semana'].astype(str) + '1', format='%G%V%u')\n",
    "\n",
    "# Establecer fecha como índice y ordenar\n",
    "df = df.set_index('fecha').sort_index()\n",
    "print(f\"\\nRango temporal: {df.index.min()} - {df.index.max()}\")\n",
    "\n",
    "# ### 3. Preprocesamiento e Ingeniería de Características Mejorada\n",
    "\n",
    "# División de datos según el año\n",
    "train_data = df[df['anio'] < 2021]\n",
    "val_data = df[df['anio'] == 2021]\n",
    "print(f\"\\nTamaño conjunto entrenamiento: {len(train_data)}\")\n",
    "print(f\"Tamaño conjunto validación: {len(val_data)}\")\n",
    "\n",
    "# Identificar columnas numéricas y categóricas\n",
    "categorical_cols = ['id_bar', 'ESTRATO']\n",
    "numerical_cols = [col for col in df.columns if col not in categorical_cols + ['anio', 'semana']]\n",
    "target_col = 'dengue'\n",
    "\n",
    "print(f\"\\nColumnas categóricas: {categorical_cols}\")\n",
    "print(f\"Columnas numéricas: {numerical_cols}\")\n",
    "print(f\"Variable objetivo: {target_col}\")\n",
    "\n",
    "# ### MEJORA 1: Transformación logarítmica para estabilizar la varianza\n",
    "# Aplicar transformación log1p a la variable objetivo para manejar valores sesgados\n",
    "df['dengue_log'] = np.log1p(df['dengue'])\n",
    "target_col_transformed = 'dengue_log'\n",
    "\n",
    "# ### MEJORA 2: Ingeniería de características adicionales\n",
    "# Agregar características temporales cíclicas\n",
    "df['sin_semana'] = np.sin(2 * np.pi * df['semana'] / 52)\n",
    "df['cos_semana'] = np.cos(2 * np.pi * df['semana'] / 52)\n",
    "\n",
    "# Agregar lags de la variable objetivo por barrio\n",
    "lag_features = []\n",
    "for lag in [1, 2, 4, 8, 12]:  # Lags de 1, 2, 4, 8 y 12 semanas\n",
    "    lag_col = f'dengue_lag_{lag}'\n",
    "    df[lag_col] = df.groupby('id_bar')['dengue'].shift(lag)\n",
    "    lag_features.append(lag_col)\n",
    "\n",
    "# Agregar media móvil y desviación estándar móvil\n",
    "for window in [4, 8, 12]:\n",
    "    ma_col = f'dengue_ma_{window}'\n",
    "    std_col = f'dengue_std_{window}'\n",
    "    # Usar transform para mantener el índice original\n",
    "    df[ma_col] = df.groupby('id_bar')['dengue'].transform(lambda x: x.rolling(window=window, min_periods=1).mean())\n",
    "    df[std_col] = df.groupby('id_bar')['dengue'].transform(lambda x: x.rolling(window=window, min_periods=1).std())\n",
    "    lag_features.extend([ma_col, std_col])\n",
    "\n",
    "# Rellenar valores faltantes en features de lag\n",
    "df[lag_features] = df[lag_features].fillna(0)\n",
    "# Para las desviaciones estándar, también rellenar NaN que pueden aparecer en ventanas pequeñas\n",
    "std_cols = [col for col in lag_features if 'std' in col]\n",
    "df[std_cols] = df[std_cols].fillna(0)\n",
    "\n",
    "# Actualizar lista de columnas numéricas\n",
    "numerical_cols.extend(['sin_semana', 'cos_semana', 'dengue_log'] + lag_features)\n",
    "numerical_cols = list(set(numerical_cols))  # Eliminar duplicados\n",
    "\n",
    "# Codificar variables categóricas para embeddings\n",
    "label_encoders = {}\n",
    "for col in categorical_cols:\n",
    "    le = LabelEncoder()\n",
    "    df[col + '_encoded'] = le.fit_transform(df[col])\n",
    "    label_encoders[col] = le\n",
    "    print(f\"\\nCardinalidad de {col}: {len(le.classes_)}\")\n",
    "\n",
    "# Actualizar división con columnas codificadas\n",
    "train_data = df[df['anio'] < 2021]\n",
    "val_data = df[df['anio'] == 2021]\n",
    "\n",
    "# ### MEJORA 3: Usar RobustScaler para manejar outliers\n",
    "scaler = RobustScaler()\n",
    "scaler.fit(train_data[numerical_cols])\n",
    "\n",
    "# Aplicar escalado\n",
    "train_scaled = train_data.copy()\n",
    "val_scaled = val_data.copy()\n",
    "train_scaled[numerical_cols] = scaler.transform(train_data[numerical_cols])\n",
    "val_scaled[numerical_cols] = scaler.transform(val_data[numerical_cols])\n",
    "\n",
    "# ### MEJORA 4: Función mejorada para crear secuencias con data augmentation\n",
    "def create_sequences_augmented(data, window_size, target_col, feature_cols, categorical_cols_encoded, \n",
    "                              augment=False, noise_level=0.01):\n",
    "    \"\"\"\n",
    "    Crea secuencias de ventanas deslizantes para el modelo GRU con opción de augmentation.\n",
    "    \"\"\"\n",
    "    sequences_num = []\n",
    "    sequences_cat = []\n",
    "    targets = []\n",
    "    barrio_ids = []\n",
    "    \n",
    "    # Agrupar por barrio para mantener continuidad temporal\n",
    "    for barrio in data['id_bar'].unique():\n",
    "        barrio_data = data[data['id_bar'] == barrio].sort_index()\n",
    "        \n",
    "        if len(barrio_data) <= window_size:\n",
    "            continue\n",
    "            \n",
    "        for i in range(len(barrio_data) - window_size):\n",
    "            # Secuencia de características numéricas\n",
    "            seq_num = barrio_data[feature_cols].iloc[i:i+window_size].values\n",
    "            \n",
    "            # Data augmentation: agregar ruido gaussiano pequeño durante entrenamiento\n",
    "            if augment and np.random.random() > 0.5:\n",
    "                noise = np.random.normal(0, noise_level, seq_num.shape)\n",
    "                seq_num = seq_num + noise\n",
    "            \n",
    "            # Secuencia de características categóricas\n",
    "            seq_cat = barrio_data[categorical_cols_encoded].iloc[i:i+window_size].values\n",
    "            # Valor objetivo\n",
    "            target = barrio_data[target_col].iloc[i+window_size]\n",
    "            \n",
    "            sequences_num.append(seq_num)\n",
    "            sequences_cat.append(seq_cat)\n",
    "            targets.append(target)\n",
    "            barrio_ids.append(barrio)\n",
    "    \n",
    "    return (np.array(sequences_num, dtype=np.float32), \n",
    "            np.array(sequences_cat, dtype=np.int64),\n",
    "            np.array(targets, dtype=np.float32),\n",
    "            np.array(barrio_ids))\n",
    "\n",
    "# ### 4. Definición del Modelo GRU Mejorado con PyTorch\n",
    "\n",
    "class DengueDataset(Dataset):\n",
    "    \"\"\"Dataset personalizado para las secuencias de dengue\"\"\"\n",
    "    def __init__(self, sequences_num, sequences_cat, targets):\n",
    "        self.sequences_num = sequences_num\n",
    "        self.sequences_cat = sequences_cat\n",
    "        self.targets = targets\n",
    "    \n",
    "    def __len__(self):\n",
    "        return len(self.targets)\n",
    "    \n",
    "    def __getitem__(self, idx):\n",
    "        return (torch.FloatTensor(self.sequences_num[idx]),\n",
    "                torch.LongTensor(self.sequences_cat[idx]),\n",
    "                torch.FloatTensor([self.targets[idx]]))\n",
    "\n",
    "# ### MEJORA 5: Modelo GRU mejorado con Batch Normalization y Attention\n",
    "class ImprovedGRUModel(nn.Module):\n",
    "    \"\"\"\n",
    "    Modelo GRU mejorado con embeddings, batch normalization, y mecanismo de atención\n",
    "    \"\"\"\n",
    "    def __init__(self, num_features, embedding_dims, hidden_size, num_layers, dropout_rate):\n",
    "        super(ImprovedGRUModel, self).__init__()\n",
    "        \n",
    "        # Embeddings para variables categóricas\n",
    "        self.embeddings = nn.ModuleList()\n",
    "        total_embedding_size = 0\n",
    "        \n",
    "        for card, dim in embedding_dims:\n",
    "            self.embeddings.append(nn.Embedding(card, dim))\n",
    "            total_embedding_size += dim\n",
    "        \n",
    "        # Tamaño de entrada para GRU\n",
    "        input_size = num_features + total_embedding_size\n",
    "        \n",
    "        # Batch normalization para entrada\n",
    "        self.input_bn = nn.BatchNorm1d(input_size)\n",
    "        \n",
    "        # Capas GRU bidireccionales\n",
    "        self.gru = nn.GRU(input_size, hidden_size, num_layers, \n",
    "                         batch_first=True, dropout=dropout_rate if num_layers > 1 else 0,\n",
    "                         bidirectional=True)\n",
    "        \n",
    "        # Attention mechanism\n",
    "        self.attention = nn.Sequential(\n",
    "            nn.Linear(hidden_size * 2, hidden_size),\n",
    "            nn.Tanh(),\n",
    "            nn.Linear(hidden_size, 1)\n",
    "        )\n",
    "        \n",
    "        # Batch normalization para hidden states\n",
    "        self.hidden_bn = nn.BatchNorm1d(hidden_size * 2)\n",
    "        \n",
    "        # Dropout\n",
    "        self.dropout = nn.Dropout(dropout_rate)\n",
    "        \n",
    "        # Capas de salida con residual connection\n",
    "        self.fc1 = nn.Linear(hidden_size * 2, hidden_size)\n",
    "        self.fc2 = nn.Linear(hidden_size, 1)\n",
    "        \n",
    "    def forward(self, x_num, x_cat):\n",
    "        batch_size, seq_len, _ = x_num.shape\n",
    "        \n",
    "        # Procesar embeddings categóricos\n",
    "        embeddings_list = []\n",
    "        for i, embedding in enumerate(self.embeddings):\n",
    "            cat_embedded = embedding(x_cat[:, :, i])\n",
    "            embeddings_list.append(cat_embedded)\n",
    "        \n",
    "        # Concatenar embeddings\n",
    "        cat_embedded = torch.cat(embeddings_list, dim=-1)\n",
    "        \n",
    "        # Concatenar características numéricas y categóricas\n",
    "        x = torch.cat([x_num, cat_embedded], dim=-1)\n",
    "        \n",
    "        # Batch normalization (reshape para BN)\n",
    "        x = x.view(-1, x.size(-1))\n",
    "        x = self.input_bn(x)\n",
    "        x = x.view(batch_size, seq_len, -1)\n",
    "        \n",
    "        # Pasar por GRU bidireccional\n",
    "        out, _ = self.gru(x)\n",
    "        \n",
    "        # Attention mechanism\n",
    "        attention_weights = self.attention(out)\n",
    "        attention_weights = F.softmax(attention_weights, dim=1)\n",
    "        \n",
    "        # Aplicar attention weights\n",
    "        out = torch.sum(out * attention_weights, dim=1)\n",
    "        \n",
    "        # Batch normalization para hidden states\n",
    "        out = self.hidden_bn(out)\n",
    "        out = self.dropout(out)\n",
    "        \n",
    "        # Capas fully connected con activación\n",
    "        out = F.relu(self.fc1(out))\n",
    "        out = self.dropout(out)\n",
    "        out = self.fc2(out)\n",
    "        \n",
    "        return out\n",
    "\n",
    "# ### MEJORA 6: Función de pérdida Huber para robustez ante outliers\n",
    "class HuberLoss(nn.Module):\n",
    "    def __init__(self, delta=1.0):\n",
    "        super(HuberLoss, self).__init__()\n",
    "        self.delta = delta\n",
    "        \n",
    "    def forward(self, y_pred, y_true):\n",
    "        residual = torch.abs(y_pred - y_true)\n",
    "        condition = residual < self.delta\n",
    "        small_error = 0.5 * torch.square(residual)\n",
    "        large_error = self.delta * residual - 0.5 * self.delta * self.delta\n",
    "        return torch.mean(torch.where(condition, small_error, large_error))\n",
    "\n",
    "# ### 5. Optimización de Hiperparámetros Mejorada con Optuna\n",
    "\n",
    "def objective(trial):\n",
    "    \"\"\"\n",
    "    Función objetivo mejorada para Optuna\n",
    "    \"\"\"\n",
    "    # Espacio de búsqueda ampliado de hiperparámetros\n",
    "    window_size = trial.suggest_int('window_size', 12, 48)  # Ventanas más grandes\n",
    "    hidden_size = trial.suggest_categorical('hidden_size', [16, 32, 64, 128, 256])\n",
    "    num_layers = trial.suggest_int('num_layers', 2, 4)  # Más capas\n",
    "    dropout_rate = trial.suggest_float('dropout_rate', 0.2, 0.5)\n",
    "    learning_rate = trial.suggest_float('learning_rate', 1e-4, 5e-3, log=True)\n",
    "    batch_size = trial.suggest_categorical('batch_size', [16, 32, 64, 128])\n",
    "    weight_decay = trial.suggest_float('weight_decay', 1e-5, 1e-3, log=True)\n",
    "    \n",
    "    # Crear secuencias con augmentation\n",
    "    categorical_cols_encoded = [col + '_encoded' for col in categorical_cols]\n",
    "    \n",
    "    X_train_num, X_train_cat, y_train, _ = create_sequences_augmented(\n",
    "        train_scaled, window_size, target_col_transformed, numerical_cols, \n",
    "        categorical_cols_encoded, augment=True\n",
    "    )\n",
    "    X_val_num, X_val_cat, y_val, _ = create_sequences_augmented(\n",
    "        val_scaled, window_size, target_col_transformed, numerical_cols, \n",
    "        categorical_cols_encoded, augment=False\n",
    "    )\n",
    "    \n",
    "    # Crear datasets y dataloaders\n",
    "    train_dataset = DengueDataset(X_train_num, X_train_cat, y_train)\n",
    "    val_dataset = DengueDataset(X_val_num, X_val_cat, y_val)\n",
    "    \n",
    "    train_loader = DataLoader(train_dataset, batch_size=batch_size, shuffle=True)\n",
    "    val_loader = DataLoader(val_dataset, batch_size=batch_size, shuffle=False)\n",
    "    \n",
    "    # Configurar modelo\n",
    "    num_features = len(numerical_cols)\n",
    "    embedding_dims = [\n",
    "        (len(label_encoders['id_bar'].classes_), min(50, len(label_encoders['id_bar'].classes_)//2)),\n",
    "        (len(label_encoders['ESTRATO'].classes_), min(10, len(label_encoders['ESTRATO'].classes_)//2))\n",
    "    ]\n",
    "    \n",
    "    model = ImprovedGRUModel(num_features, embedding_dims, hidden_size, num_layers, dropout_rate).to(device)\n",
    "    criterion = HuberLoss(delta=1.0)\n",
    "    optimizer = torch.optim.AdamW(model.parameters(), lr=learning_rate, weight_decay=weight_decay)\n",
    "    scheduler = ReduceLROnPlateau(optimizer, mode='min', factor=0.5, patience=10)\n",
    "    \n",
    "    # Entrenamiento con gradient clipping\n",
    "    n_epochs = 300\n",
    "    best_val_loss = float('inf')\n",
    "    patience = 30\n",
    "    patience_counter = 0\n",
    "    \n",
    "    for epoch in range(n_epochs):\n",
    "        # Training\n",
    "        model.train()\n",
    "        train_loss = 0\n",
    "        for x_num, x_cat, y in train_loader:\n",
    "            x_num, x_cat, y = x_num.to(device), x_cat.to(device), y.to(device)\n",
    "            \n",
    "            optimizer.zero_grad()\n",
    "            output = model(x_num, x_cat)\n",
    "            loss = criterion(output, y)\n",
    "            loss.backward()\n",
    "            \n",
    "            # Gradient clipping\n",
    "            torch.nn.utils.clip_grad_norm_(model.parameters(), max_norm=1.0)\n",
    "            \n",
    "            optimizer.step()\n",
    "            train_loss += loss.item()\n",
    "        \n",
    "        # Validation\n",
    "        model.eval()\n",
    "        val_loss = 0\n",
    "        with torch.no_grad():\n",
    "            for x_num, x_cat, y in val_loader:\n",
    "                x_num, x_cat, y = x_num.to(device), x_cat.to(device), y.to(device)\n",
    "                output = model(x_num, x_cat)\n",
    "                loss = criterion(output, y)\n",
    "                val_loss += loss.item()\n",
    "        \n",
    "        val_loss /= len(val_loader)\n",
    "        scheduler.step(val_loss)\n",
    "        \n",
    "        # Early stopping\n",
    "        if val_loss < best_val_loss:\n",
    "            best_val_loss = val_loss\n",
    "            patience_counter = 0\n",
    "        else:\n",
    "            patience_counter += 1\n",
    "            \n",
    "        if patience_counter >= patience:\n",
    "            break\n",
    "    \n",
    "    return best_val_loss\n",
    "\n",
    "# Ejecutar optimización con Optuna\n",
    "print(\"\\n### Iniciando optimización de hiperparámetros con Optuna ###\")\n",
    "study = optuna.create_study(direction='minimize', sampler=optuna.samplers.TPESampler(seed=42))\n",
    "study.optimize(objective, n_trials=100, show_progress_bar=True)\n",
    "\n",
    "print(\"\\nMejores hiperparámetros encontrados:\")\n",
    "print(study.best_params)\n",
    "print(f\"\\nMejor pérdida en validación: {study.best_value:.4f}\")\n",
    "\n",
    "# ### 6. Entrenamiento del Modelo Final con Ensemble\n",
    "\n",
    "# Obtener mejores hiperparámetros\n",
    "best_params = study.best_params\n",
    "window_size = best_params['window_size']\n",
    "hidden_size = best_params['hidden_size']\n",
    "num_layers = best_params['num_layers']\n",
    "dropout_rate = best_params['dropout_rate']\n",
    "learning_rate = best_params['learning_rate']\n",
    "batch_size = best_params['batch_size']\n",
    "weight_decay = best_params['weight_decay']\n",
    "\n",
    "print(\"\\n### Entrenando ensemble de modelos finales ###\")\n",
    "\n",
    "# Combinar datos de entrenamiento y validación\n",
    "combined_data = pd.concat([train_data, val_data])\n",
    "combined_scaled = combined_data.copy()\n",
    "combined_scaled[numerical_cols] = scaler.transform(combined_data[numerical_cols])\n",
    "\n",
    "# Crear secuencias con datos combinados\n",
    "categorical_cols_encoded = [col + '_encoded' for col in categorical_cols]\n",
    "\n",
    "# ### MEJORA 7: Entrenar ensemble de modelos\n",
    "n_models = 5\n",
    "models_ensemble = []\n",
    "\n",
    "for model_idx in range(n_models):\n",
    "    print(f\"\\nEntrenando modelo {model_idx + 1}/{n_models}\")\n",
    "    \n",
    "    # Crear secuencias con diferente semilla para augmentation\n",
    "    np.random.seed(42 + model_idx)\n",
    "    X_combined_num, X_combined_cat, y_combined, _ = create_sequences_augmented(\n",
    "        combined_scaled, window_size, target_col_transformed, numerical_cols, \n",
    "        categorical_cols_encoded, augment=True\n",
    "    )\n",
    "    \n",
    "    # Crear dataset y dataloader\n",
    "    combined_dataset = DengueDataset(X_combined_num, X_combined_cat, y_combined)\n",
    "    combined_loader = DataLoader(combined_dataset, batch_size=batch_size, shuffle=True)\n",
    "    \n",
    "    # Configurar modelo\n",
    "    num_features = len(numerical_cols)\n",
    "    embedding_dims = [\n",
    "        (len(label_encoders['id_bar'].classes_), min(50, len(label_encoders['id_bar'].classes_)//2)),\n",
    "        (len(label_encoders['ESTRATO'].classes_), min(10, len(label_encoders['ESTRATO'].classes_)//2))\n",
    "    ]\n",
    "    \n",
    "    model = ImprovedGRUModel(num_features, embedding_dims, hidden_size, num_layers, dropout_rate).to(device)\n",
    "    criterion = HuberLoss(delta=1.0)\n",
    "    optimizer = torch.optim.AdamW(model.parameters(), lr=learning_rate, weight_decay=weight_decay)\n",
    "    scheduler = ReduceLROnPlateau(optimizer, mode='min', factor=0.5, patience=20)\n",
    "    \n",
    "    # Entrenamiento\n",
    "    n_epochs = 300\n",
    "    train_losses = []\n",
    "    \n",
    "    for epoch in range(n_epochs):\n",
    "        model.train()\n",
    "        epoch_loss = 0\n",
    "        \n",
    "        for x_num, x_cat, y in combined_loader:\n",
    "            x_num, x_cat, y = x_num.to(device), x_cat.to(device), y.to(device)\n",
    "            \n",
    "            optimizer.zero_grad()\n",
    "            output = model(x_num, x_cat)\n",
    "            loss = criterion(output, y)\n",
    "            loss.backward()\n",
    "            \n",
    "            torch.nn.utils.clip_grad_norm_(model.parameters(), max_norm=1.0)\n",
    "            \n",
    "            optimizer.step()\n",
    "            epoch_loss += loss.item()\n",
    "        \n",
    "        avg_loss = epoch_loss / len(combined_loader)\n",
    "        train_losses.append(avg_loss)\n",
    "        scheduler.step(avg_loss)\n",
    "        \n",
    "        if (epoch + 1) % 50 == 0:\n",
    "            print(f\"Época {epoch+1}/{n_epochs}, Pérdida: {avg_loss:.4f}\")\n",
    "    \n",
    "    models_ensemble.append(model)\n",
    "\n",
    "# ### 7. Generación de Pronósticos Mejorados para 2022\n",
    "\n",
    "print(\"\\n### Generando pronósticos con ensemble para 2022 ###\")\n",
    "\n",
    "# Preparar datos para pronóstico\n",
    "all_data = df.copy()\n",
    "all_data_scaled = all_data.copy()\n",
    "all_data_scaled[numerical_cols] = scaler.transform(all_data[numerical_cols])\n",
    "\n",
    "# ### MEJORA 8: Función mejorada para generar pronósticos con ensemble\n",
    "def generate_ensemble_forecasts(models, data, window_size, n_weeks_ahead, year):\n",
    "    \"\"\"\n",
    "    Genera pronósticos autorregresivos usando ensemble de modelos\n",
    "    \"\"\"\n",
    "    all_forecasts = []\n",
    "    \n",
    "    for model in models:\n",
    "        model.eval()\n",
    "        model_forecasts = []\n",
    "        \n",
    "        # Para cada barrio\n",
    "        for barrio in data['id_bar'].unique():\n",
    "            barrio_data = data[data['id_bar'] == barrio].sort_index()\n",
    "            barrio_id = barrio_data['id_bar'].iloc[0]\n",
    "            estrato_encoded = barrio_data['ESTRATO_encoded'].iloc[0]\n",
    "            \n",
    "            # Obtener última secuencia conocida\n",
    "            last_sequence_num = barrio_data[numerical_cols].iloc[-window_size:].values\n",
    "            last_sequence_cat = np.array([[barrio_data['id_bar_encoded'].iloc[0], \n",
    "                                          estrato_encoded] for _ in range(window_size)])\n",
    "            \n",
    "            # Generar pronósticos semana a semana\n",
    "            for week in range(1, n_weeks_ahead + 1):\n",
    "                # Preparar entrada\n",
    "                x_num = torch.FloatTensor(last_sequence_num).unsqueeze(0).to(device)\n",
    "                x_cat = torch.LongTensor(last_sequence_cat).unsqueeze(0).to(device)\n",
    "                \n",
    "                # Hacer predicción\n",
    "                with torch.no_grad():\n",
    "                    pred_scaled = model(x_num, x_cat).cpu().numpy()[0, 0]\n",
    "                \n",
    "                # Desescalar predicción y aplicar transformación inversa\n",
    "                dengue_log_idx = numerical_cols.index(target_col_transformed)\n",
    "                pred_log_original = pred_scaled * scaler.scale_[dengue_log_idx] + scaler.center_[dengue_log_idx]\n",
    "                pred_original_scale = np.expm1(pred_log_original)  # Inversa de log1p\n",
    "                \n",
    "                # Asegurar que la predicción no sea negativa\n",
    "                pred_original_scale = max(0, pred_original_scale)\n",
    "                \n",
    "                # Guardar predicción\n",
    "                model_forecasts.append({\n",
    "                    'id_bar': barrio_id,\n",
    "                    'anio': year,\n",
    "                    'semana': week,\n",
    "                    'dengue': pred_original_scale\n",
    "                })\n",
    "                \n",
    "                # Actualizar secuencia para próxima predicción\n",
    "                new_row = last_sequence_num[-1].copy()\n",
    "                new_row[dengue_log_idx] = pred_scaled\n",
    "                \n",
    "                # Actualizar features de lag\n",
    "                dengue_idx = numerical_cols.index('dengue')\n",
    "                new_row[dengue_idx] = pred_original_scale\n",
    "                \n",
    "                # Actualizar ventana deslizante\n",
    "                last_sequence_num = np.vstack([last_sequence_num[1:], new_row])\n",
    "        \n",
    "        all_forecasts.append(pd.DataFrame(model_forecasts))\n",
    "    \n",
    "    # Combinar predicciones del ensemble (promedio)\n",
    "    ensemble_df = pd.concat(all_forecasts)\n",
    "    ensemble_forecasts = ensemble_df.groupby(['id_bar', 'anio', 'semana'])['dengue'].mean().reset_index()\n",
    "    \n",
    "    return ensemble_forecasts\n",
    "\n",
    "# Generar pronósticos del ensemble\n",
    "forecasts_2022 = generate_ensemble_forecasts(models_ensemble, all_data_scaled, window_size, 52, 2022)\n",
    "\n",
    "print(f\"\\nPronósticos generados: {len(forecasts_2022)} registros\")\n",
    "print(\"\\nEstadísticas de pronósticos:\")\n",
    "print(forecasts_2022['dengue'].describe())\n",
    "\n",
    "# ### 8. Creación del Archivo de Salida\n",
    "\n",
    "# Crear DataFrame con formato requerido\n",
    "output_df = pd.DataFrame()\n",
    "output_df['id'] = (forecasts_2022['id_bar'].astype(str) + '_' + \n",
    "                   forecasts_2022['anio'].astype(str) + '_' + \n",
    "                   forecasts_2022['semana'].apply(lambda x: f\"{x:02d}\"))\n",
    "output_df['dengue'] = forecasts_2022['dengue'].round(2)\n",
    "\n",
    "# Verificar formato\n",
    "print(\"\\nPrimeras filas del archivo de salida:\")\n",
    "print(output_df.head(10))\n",
    "print(f\"\\nTotal de registros: {len(output_df)}\")\n",
    "\n",
    "# Guardar archivo CSV\n",
    "timestamp = datetime.now().strftime(\"%Y%m%d_%H%M%S\")\n",
    "output_filename = f'pronosticos_GRU_2_optimizado_{timestamp}.csv'\n",
    "output_df.to_csv(output_filename, index=False)\n",
    "print(f\"\\nArchivo '{output_filename}' guardado exitosamente.\")\n",
    "\n",
    "# ### 9. Visualización y Análisis de Resultados\n",
    "\n",
    "# Visualización de algunos pronósticos\n",
    "sample_barrios = forecasts_2022['id_bar'].unique()[:5]\n",
    "fig = go.Figure()\n",
    "\n",
    "for barrio in sample_barrios:\n",
    "    barrio_forecast = forecasts_2022[forecasts_2022['id_bar'] == barrio]\n",
    "    fig.add_trace(go.Scatter(\n",
    "        x=barrio_forecast['semana'],\n",
    "        y=barrio_forecast['dengue'],\n",
    "        mode='lines+markers',\n",
    "        name=f'Barrio {barrio}',\n",
    "        line=dict(width=2),\n",
    "        marker=dict(size=6)\n",
    "    ))\n",
    "\n",
    "fig.update_layout(\n",
    "    title='Pronósticos de Dengue para 2022 - Modelo Optimizado (Muestra de 5 Barrios)',\n",
    "    xaxis_title='Semana del Año',\n",
    "    yaxis_title='Casos de Dengue',\n",
    "    hovermode='x unified',\n",
    "    template='plotly_white'\n",
    ")\n",
    "fig.show()\n",
    "\n",
    "# Comparación de distribuciones\n",
    "fig_dist = go.Figure()\n",
    "fig_dist.add_trace(go.Histogram(x=forecasts_2022['dengue'], name='Pronósticos 2022', nbinsx=50))\n",
    "fig_dist.update_layout(\n",
    "    title='Distribución de Pronósticos de Dengue 2022',\n",
    "    xaxis_title='Casos de Dengue',\n",
    "    yaxis_title='Frecuencia',\n",
    "    template='plotly_white'\n",
    ")\n",
    "fig_dist.show()\n",
    "\n",
    "print(\"\\n### Proceso completado exitosamente ###\")\n",
    "print(\"\\nMejoras implementadas para minimizar MSE:\")\n",
    "print(\"1. Transformación logarítmica de la variable objetivo\")\n",
    "print(\"2. Ingeniería de características: lags, medias móviles, características cíclicas\")\n",
    "print(\"3. RobustScaler para manejar outliers\")\n",
    "print(\"4. Data augmentation con ruido gaussiano\")\n",
    "print(\"5. Modelo GRU bidireccional con attention mechanism y batch normalization\")\n",
    "print(\"6. Función de pérdida Huber (robusta ante outliers)\")\n",
    "print(\"7. Ensemble de 5 modelos\")\n",
    "print(\"8. Learning rate scheduling y gradient clipping\")\n",
    "print(\"9. Optimización AdamW con weight decay\")\n",
    "print(\"10. Mayor espacio de búsqueda de hiperparámetros\")"
   ]
  }
 ],
 "metadata": {
  "kernelspec": {
   "display_name": "venv",
   "language": "python",
   "name": "python3"
  },
  "language_info": {
   "codemirror_mode": {
    "name": "ipython",
    "version": 3
   },
   "file_extension": ".py",
   "mimetype": "text/x-python",
   "name": "python",
   "nbconvert_exporter": "python",
   "pygments_lexer": "ipython3",
   "version": "3.13.3"
  }
 },
 "nbformat": 4,
 "nbformat_minor": 5
}
