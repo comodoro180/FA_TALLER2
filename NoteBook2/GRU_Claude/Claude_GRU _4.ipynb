{
 "cells": [
  {
   "cell_type": "code",
   "execution_count": 2,
   "id": "d716d526",
   "metadata": {},
   "outputs": [
    {
     "name": "stderr",
     "output_type": "stream",
     "text": [
      "[I 2025-06-26 23:21:42,094] A new study created in memory with name: no-name-6578b883-fe30-4163-9732-c9e1fc4187a2\n"
     ]
    },
    {
     "name": "stdout",
     "output_type": "stream",
     "text": [
      "Dispositivo de cómputo: cuda\n",
      "Dimensiones del DataFrame: (3680, 20)\n",
      "\n",
      "Primeras filas:\n",
      "          id  id_bar  anio  semana  ESTRATO  area_barrio  dengue  \\\n",
      "0  4_2015_01       4  2015       1      3.0        0.560     0.0   \n",
      "1  5_2015_01       5  2015       1      3.0        0.842     0.0   \n",
      "2  3_2015_01       3  2015       1      1.0        0.781     0.0   \n",
      "3  8_2015_01       8  2015       1      2.0        0.394     0.0   \n",
      "4  9_2015_01       9  2015       1      2.0        0.292     0.0   \n",
      "\n",
      "   concentraciones  vivienda  equipesado  sumideros  maquina  lluvia_mean  \\\n",
      "0              0.0       0.0         0.0        0.0      0.0     0.000651   \n",
      "1              0.0       0.0         0.0        0.0      0.0     0.000651   \n",
      "2              0.0       0.0         0.0        0.0      0.0     0.000651   \n",
      "3              0.0       0.0         0.0        0.0      0.0     0.000651   \n",
      "4              0.0       0.0         0.0        0.0      0.0     0.000651   \n",
      "\n",
      "   lluvia_var  lluvia_max  lluvia_min  temperatura_mean  temperatura_var  \\\n",
      "0    0.000041      0.0625         0.0         26.163889        11.588928   \n",
      "1    0.000041      0.0625         0.0         26.163889        11.588928   \n",
      "2    0.000041      0.0625         0.0         26.163889        11.588928   \n",
      "3    0.000041      0.0625         0.0         26.163889        11.588928   \n",
      "4    0.000041      0.0625         0.0         26.163889        11.588928   \n",
      "\n",
      "   temperatura_max  temperatura_min  \n",
      "0             31.8             20.9  \n",
      "1             31.8             20.9  \n",
      "2             31.8             20.9  \n",
      "3             31.8             20.9  \n",
      "4             31.8             20.9  \n",
      "\n",
      "Rango temporal: 2014-12-29 00:00:00 - 2022-01-03 00:00:00\n",
      "\n",
      "Tamaño conjunto entrenamiento: 3150\n",
      "Tamaño conjunto validación: 530\n",
      "\n",
      "Columnas de características: ['lluvia_mean', 'temperatura_mean']\n",
      "Variable objetivo: dengue\n",
      "\n",
      "### Iniciando optimización de hiperparámetros con Optuna ###\n"
     ]
    },
    {
     "data": {
      "application/vnd.jupyter.widget-view+json": {
       "model_id": "df0d4a19a59d4d4fbac62065b61620a6",
       "version_major": 2,
       "version_minor": 0
      },
      "text/plain": [
       "  0%|          | 0/40 [00:00<?, ?it/s]"
      ]
     },
     "metadata": {},
     "output_type": "display_data"
    },
    {
     "name": "stdout",
     "output_type": "stream",
     "text": [
      "[I 2025-06-26 23:21:48,633] Trial 0 finished with value: 0.13225137921316282 and parameters: {'window_size': 11, 'hidden_size': 64, 'num_layers': 2, 'dropout_rate': 0.3993643424746057, 'learning_rate': 0.00251874265241227, 'batch_size': 32}. Best is trial 0 with value: 0.13225137921316282.\n",
      "[I 2025-06-26 23:21:59,075] Trial 1 finished with value: 0.13869592236975828 and parameters: {'window_size': 15, 'hidden_size': 32, 'num_layers': 2, 'dropout_rate': 0.3886802709708126, 'learning_rate': 0.00736017771881869, 'batch_size': 16}. Best is trial 0 with value: 0.13225137921316282.\n",
      "[I 2025-06-26 23:22:09,347] Trial 2 finished with value: 0.10253322124481201 and parameters: {'window_size': 25, 'hidden_size': 32, 'num_layers': 1, 'dropout_rate': 0.4849393187735037, 'learning_rate': 0.00024246027653461173, 'batch_size': 64}. Best is trial 2 with value: 0.10253322124481201.\n",
      "[I 2025-06-26 23:22:26,153] Trial 3 finished with value: 0.05757708922028541 and parameters: {'window_size': 46, 'hidden_size': 16, 'num_layers': 1, 'dropout_rate': 0.3863346573701072, 'learning_rate': 0.0012369057008493104, 'batch_size': 16}. Best is trial 3 with value: 0.05757708922028541.\n",
      "[I 2025-06-26 23:22:29,783] Trial 4 finished with value: 0.127427339553833 and parameters: {'window_size': 24, 'hidden_size': 16, 'num_layers': 3, 'dropout_rate': 0.35835076468107585, 'learning_rate': 0.004899451193284114, 'batch_size': 64}. Best is trial 3 with value: 0.05757708922028541.\n",
      "[I 2025-06-26 23:22:47,924] Trial 5 finished with value: 0.12110877495545608 and parameters: {'window_size': 14, 'hidden_size': 16, 'num_layers': 2, 'dropout_rate': 0.2763689837284258, 'learning_rate': 0.00021251068160784803, 'batch_size': 32}. Best is trial 3 with value: 0.05757708922028541.\n",
      "[I 2025-06-26 23:22:57,244] Trial 6 finished with value: 0.12695777301604932 and parameters: {'window_size': 13, 'hidden_size': 64, 'num_layers': 2, 'dropout_rate': 0.1866500987050176, 'learning_rate': 0.00012257203180715662, 'batch_size': 32}. Best is trial 3 with value: 0.05757708922028541.\n",
      "[I 2025-06-26 23:23:05,802] Trial 7 finished with value: 0.09941907692700624 and parameters: {'window_size': 29, 'hidden_size': 16, 'num_layers': 3, 'dropout_rate': 0.34571959042996636, 'learning_rate': 0.0001288376885754214, 'batch_size': 32}. Best is trial 3 with value: 0.05757708922028541.\n",
      "[I 2025-06-26 23:23:16,310] Trial 8 finished with value: 0.18020149320363998 and parameters: {'window_size': 8, 'hidden_size': 128, 'num_layers': 3, 'dropout_rate': 0.24481681900414115, 'learning_rate': 0.0007897391746069999, 'batch_size': 16}. Best is trial 3 with value: 0.05757708922028541.\n",
      "[I 2025-06-26 23:23:21,807] Trial 9 finished with value: 0.09334680065512657 and parameters: {'window_size': 28, 'hidden_size': 128, 'num_layers': 3, 'dropout_rate': 0.23306655454458913, 'learning_rate': 0.0004380006213003448, 'batch_size': 32}. Best is trial 3 with value: 0.05757708922028541.\n",
      "[I 2025-06-26 23:23:24,060] Trial 10 finished with value: 0.05558491498231888 and parameters: {'window_size': 48, 'hidden_size': 16, 'num_layers': 1, 'dropout_rate': 0.12051147735398027, 'learning_rate': 0.0017805659883517646, 'batch_size': 128}. Best is trial 10 with value: 0.05558491498231888.\n",
      "[I 2025-06-26 23:23:28,477] Trial 11 finished with value: 0.05565907433629036 and parameters: {'window_size': 48, 'hidden_size': 16, 'num_layers': 1, 'dropout_rate': 0.10707520799899192, 'learning_rate': 0.0018633347207381162, 'batch_size': 128}. Best is trial 10 with value: 0.05558491498231888.\n",
      "[I 2025-06-26 23:23:33,607] Trial 12 finished with value: 0.05588284507393837 and parameters: {'window_size': 48, 'hidden_size': 16, 'num_layers': 1, 'dropout_rate': 0.11950019705139643, 'learning_rate': 0.0011915773992738135, 'batch_size': 128}. Best is trial 10 with value: 0.05558491498231888.\n",
      "[I 2025-06-26 23:23:37,612] Trial 13 finished with value: 0.03945857472717762 and parameters: {'window_size': 40, 'hidden_size': 16, 'num_layers': 1, 'dropout_rate': 0.10128139251340074, 'learning_rate': 0.002648801423079986, 'batch_size': 128}. Best is trial 13 with value: 0.03945857472717762.\n",
      "[I 2025-06-26 23:23:41,031] Trial 14 finished with value: 0.07581882178783417 and parameters: {'window_size': 39, 'hidden_size': 16, 'num_layers': 1, 'dropout_rate': 0.17056551336727085, 'learning_rate': 0.003620607407214242, 'batch_size': 128}. Best is trial 13 with value: 0.03945857472717762.\n",
      "[I 2025-06-26 23:23:46,105] Trial 15 finished with value: 0.041075960732996464 and parameters: {'window_size': 40, 'hidden_size': 16, 'num_layers': 1, 'dropout_rate': 0.16581229580645768, 'learning_rate': 0.0006168188872199919, 'batch_size': 128}. Best is trial 13 with value: 0.03945857472717762.\n",
      "[I 2025-06-26 23:23:49,583] Trial 16 finished with value: 0.039762775413692 and parameters: {'window_size': 40, 'hidden_size': 32, 'num_layers': 2, 'dropout_rate': 0.1707488346915033, 'learning_rate': 0.0005494930900888876, 'batch_size': 128}. Best is trial 13 with value: 0.03945857472717762.\n",
      "[I 2025-06-26 23:23:53,196] Trial 17 finished with value: 0.0786510668694973 and parameters: {'window_size': 36, 'hidden_size': 32, 'num_layers': 2, 'dropout_rate': 0.21327617408470667, 'learning_rate': 0.0003877057519874779, 'batch_size': 128}. Best is trial 13 with value: 0.03945857472717762.\n",
      "[I 2025-06-26 23:23:55,195] Trial 18 finished with value: 0.08035380393266678 and parameters: {'window_size': 34, 'hidden_size': 32, 'num_layers': 2, 'dropout_rate': 0.2788722145570796, 'learning_rate': 0.009705577809692634, 'batch_size': 128}. Best is trial 13 with value: 0.03945857472717762.\n",
      "[I 2025-06-26 23:23:57,926] Trial 19 finished with value: 0.05305725336074829 and parameters: {'window_size': 42, 'hidden_size': 32, 'num_layers': 2, 'dropout_rate': 0.13831945248757996, 'learning_rate': 0.0031569644574181324, 'batch_size': 128}. Best is trial 13 with value: 0.03945857472717762.\n",
      "[I 2025-06-26 23:24:01,305] Trial 20 finished with value: 0.08151062950491905 and parameters: {'window_size': 33, 'hidden_size': 64, 'num_layers': 2, 'dropout_rate': 0.18233366777583782, 'learning_rate': 0.0005632585252851464, 'batch_size': 64}. Best is trial 13 with value: 0.03945857472717762.\n",
      "[I 2025-06-26 23:24:03,895] Trial 21 finished with value: 0.056022342294454575 and parameters: {'window_size': 41, 'hidden_size': 128, 'num_layers': 1, 'dropout_rate': 0.1540901603713751, 'learning_rate': 0.0007267121350904958, 'batch_size': 128}. Best is trial 13 with value: 0.03945857472717762.\n",
      "[I 2025-06-26 23:24:06,349] Trial 22 finished with value: 0.05589777231216431 and parameters: {'window_size': 43, 'hidden_size': 32, 'num_layers': 1, 'dropout_rate': 0.1023864498823857, 'learning_rate': 0.00038212818593131453, 'batch_size': 128}. Best is trial 13 with value: 0.03945857472717762.\n",
      "[I 2025-06-26 23:24:11,302] Trial 23 finished with value: 0.09444843232631683 and parameters: {'window_size': 38, 'hidden_size': 16, 'num_layers': 1, 'dropout_rate': 0.20317915317037466, 'learning_rate': 0.0009087479180641561, 'batch_size': 128}. Best is trial 13 with value: 0.03945857472717762.\n",
      "[I 2025-06-26 23:24:16,601] Trial 24 finished with value: 0.07685701921582222 and parameters: {'window_size': 32, 'hidden_size': 16, 'num_layers': 1, 'dropout_rate': 0.14710526135285792, 'learning_rate': 0.0016277634780938628, 'batch_size': 128}. Best is trial 13 with value: 0.03945857472717762.\n",
      "[I 2025-06-26 23:24:21,956] Trial 25 finished with value: 0.1371714025735855 and parameters: {'window_size': 20, 'hidden_size': 32, 'num_layers': 1, 'dropout_rate': 0.24386895057819924, 'learning_rate': 0.00026362446394855217, 'batch_size': 128}. Best is trial 13 with value: 0.03945857472717762.\n",
      "[I 2025-06-26 23:24:25,169] Trial 26 finished with value: 0.0574251264333725 and parameters: {'window_size': 43, 'hidden_size': 128, 'num_layers': 1, 'dropout_rate': 0.15154602146193424, 'learning_rate': 0.0005615367127554749, 'batch_size': 128}. Best is trial 13 with value: 0.03945857472717762.\n",
      "[I 2025-06-26 23:24:28,159] Trial 27 finished with value: 0.08985256776213646 and parameters: {'window_size': 37, 'hidden_size': 64, 'num_layers': 2, 'dropout_rate': 0.3132015093481824, 'learning_rate': 0.004754768564604132, 'batch_size': 128}. Best is trial 13 with value: 0.03945857472717762.\n",
      "[I 2025-06-26 23:24:33,320] Trial 28 finished with value: 0.08867919072508812 and parameters: {'window_size': 31, 'hidden_size': 16, 'num_layers': 2, 'dropout_rate': 0.21333905297575312, 'learning_rate': 0.001213321310766957, 'batch_size': 64}. Best is trial 13 with value: 0.03945857472717762.\n",
      "[I 2025-06-26 23:24:42,260] Trial 29 finished with value: 0.053713066296445 and parameters: {'window_size': 40, 'hidden_size': 64, 'num_layers': 3, 'dropout_rate': 0.4858425436244168, 'learning_rate': 0.0024277325748522567, 'batch_size': 16}. Best is trial 13 with value: 0.03945857472717762.\n",
      "[I 2025-06-26 23:24:45,106] Trial 30 finished with value: 0.058051519095897675 and parameters: {'window_size': 44, 'hidden_size': 32, 'num_layers': 2, 'dropout_rate': 0.4424139179516766, 'learning_rate': 0.0005791602731500118, 'batch_size': 128}. Best is trial 13 with value: 0.03945857472717762.\n",
      "[I 2025-06-26 23:24:47,547] Trial 31 finished with value: 0.059975046664476395 and parameters: {'window_size': 41, 'hidden_size': 32, 'num_layers': 2, 'dropout_rate': 0.1309559615991832, 'learning_rate': 0.003407098120087189, 'batch_size': 128}. Best is trial 13 with value: 0.03945857472717762.\n",
      "[I 2025-06-26 23:24:49,806] Trial 32 finished with value: 0.07847088016569614 and parameters: {'window_size': 36, 'hidden_size': 32, 'num_layers': 2, 'dropout_rate': 0.1424456795957015, 'learning_rate': 0.002638266066521242, 'batch_size': 128}. Best is trial 13 with value: 0.03945857472717762.\n",
      "[I 2025-06-26 23:24:52,141] Trial 33 finished with value: 0.05427129194140434 and parameters: {'window_size': 45, 'hidden_size': 32, 'num_layers': 2, 'dropout_rate': 0.17431721721820195, 'learning_rate': 0.006323922057925624, 'batch_size': 128}. Best is trial 13 with value: 0.03945857472717762.\n",
      "[I 2025-06-26 23:25:09,004] Trial 34 finished with value: 0.05662089612867151 and parameters: {'window_size': 42, 'hidden_size': 32, 'num_layers': 1, 'dropout_rate': 0.13438037175377382, 'learning_rate': 0.002784571038655313, 'batch_size': 16}. Best is trial 13 with value: 0.03945857472717762.\n",
      "[I 2025-06-26 23:25:13,812] Trial 35 finished with value: 0.07541143894195557 and parameters: {'window_size': 35, 'hidden_size': 32, 'num_layers': 1, 'dropout_rate': 0.1014353207658614, 'learning_rate': 0.0015569184830831438, 'batch_size': 128}. Best is trial 13 with value: 0.03945857472717762.\n",
      "[I 2025-06-26 23:25:19,652] Trial 36 finished with value: 0.07161981488267581 and parameters: {'window_size': 39, 'hidden_size': 16, 'num_layers': 3, 'dropout_rate': 0.1622761486890843, 'learning_rate': 0.000273511343440209, 'batch_size': 64}. Best is trial 13 with value: 0.03945857472717762.\n",
      "[I 2025-06-26 23:25:26,884] Trial 37 finished with value: 0.10773115108410518 and parameters: {'window_size': 19, 'hidden_size': 32, 'num_layers': 2, 'dropout_rate': 0.19976503812428123, 'learning_rate': 0.00018598110998748342, 'batch_size': 128}. Best is trial 13 with value: 0.03945857472717762.\n",
      "[I 2025-06-26 23:25:36,695] Trial 38 finished with value: 0.06775319452087085 and parameters: {'window_size': 45, 'hidden_size': 16, 'num_layers': 1, 'dropout_rate': 0.2689647103040937, 'learning_rate': 0.004514128350404815, 'batch_size': 32}. Best is trial 13 with value: 0.03945857472717762.\n",
      "[I 2025-06-26 23:25:47,756] Trial 39 finished with value: 0.10266121402382851 and parameters: {'window_size': 29, 'hidden_size': 16, 'num_layers': 3, 'dropout_rate': 0.31227045476656895, 'learning_rate': 0.006409349186658072, 'batch_size': 16}. Best is trial 13 with value: 0.03945857472717762.\n",
      "\n",
      "Mejores hiperparámetros encontrados:\n",
      "{'window_size': 40, 'hidden_size': 16, 'num_layers': 1, 'dropout_rate': 0.10128139251340074, 'learning_rate': 0.002648801423079986, 'batch_size': 128}\n",
      "\n",
      "Mejor MSE en validación: 0.0395\n",
      "\n",
      "### Entrenando modelo final con datos combinados ###\n",
      "Época 10/40, Pérdida: 0.4694\n",
      "Época 20/40, Pérdida: 0.3992\n",
      "Época 30/40, Pérdida: 0.3390\n",
      "Época 40/40, Pérdida: 0.3167\n"
     ]
    },
    {
     "data": {
      "application/vnd.plotly.v1+json": {
       "config": {
        "plotlyServerURL": "https://plot.ly"
       },
       "data": [
        {
         "mode": "lines",
         "name": "Pérdida de Entrenamiento",
         "type": "scatter",
         "x": [
          1,
          2,
          3,
          4,
          5,
          6,
          7,
          8,
          9,
          10,
          11,
          12,
          13,
          14,
          15,
          16,
          17,
          18,
          19,
          20,
          21,
          22,
          23,
          24,
          25,
          26,
          27,
          28,
          29,
          30,
          31,
          32,
          33,
          34,
          35,
          36,
          37,
          38,
          39,
          40
         ],
         "y": [
          0.8016008963951697,
          0.7188488944218709,
          0.703533064860564,
          0.6836377347891147,
          0.6230761110782623,
          0.5264805463644174,
          0.4976215488635577,
          0.48533769983511704,
          0.4763834774494171,
          0.4693586253202878,
          0.4627036521067986,
          0.458095711011153,
          0.4505830372755344,
          0.4431249207028976,
          0.4398830051605518,
          0.4340997435725652,
          0.42422285905251134,
          0.43050665866870147,
          0.41068685627900636,
          0.39922382224064606,
          0.38549437603125203,
          0.38681316948854005,
          0.372660399056398,
          0.3677205735674271,
          0.3563748655410913,
          0.3580310631256837,
          0.34566580504179,
          0.3513377056672023,
          0.3541452924792583,
          0.3389615840636767,
          0.32998738839076114,
          0.3260062142060353,
          0.3262174490552682,
          0.32003845561009187,
          0.32222143904520917,
          0.31626149782767665,
          0.3200706736399577,
          0.31313197773236495,
          0.3201205197435159,
          0.3167485755223494
         ]
        }
       ],
       "layout": {
        "template": {
         "data": {
          "bar": [
           {
            "error_x": {
             "color": "#2a3f5f"
            },
            "error_y": {
             "color": "#2a3f5f"
            },
            "marker": {
             "line": {
              "color": "#E5ECF6",
              "width": 0.5
             },
             "pattern": {
              "fillmode": "overlay",
              "size": 10,
              "solidity": 0.2
             }
            },
            "type": "bar"
           }
          ],
          "barpolar": [
           {
            "marker": {
             "line": {
              "color": "#E5ECF6",
              "width": 0.5
             },
             "pattern": {
              "fillmode": "overlay",
              "size": 10,
              "solidity": 0.2
             }
            },
            "type": "barpolar"
           }
          ],
          "carpet": [
           {
            "aaxis": {
             "endlinecolor": "#2a3f5f",
             "gridcolor": "white",
             "linecolor": "white",
             "minorgridcolor": "white",
             "startlinecolor": "#2a3f5f"
            },
            "baxis": {
             "endlinecolor": "#2a3f5f",
             "gridcolor": "white",
             "linecolor": "white",
             "minorgridcolor": "white",
             "startlinecolor": "#2a3f5f"
            },
            "type": "carpet"
           }
          ],
          "choropleth": [
           {
            "colorbar": {
             "outlinewidth": 0,
             "ticks": ""
            },
            "type": "choropleth"
           }
          ],
          "contour": [
           {
            "colorbar": {
             "outlinewidth": 0,
             "ticks": ""
            },
            "colorscale": [
             [
              0,
              "#0d0887"
             ],
             [
              0.1111111111111111,
              "#46039f"
             ],
             [
              0.2222222222222222,
              "#7201a8"
             ],
             [
              0.3333333333333333,
              "#9c179e"
             ],
             [
              0.4444444444444444,
              "#bd3786"
             ],
             [
              0.5555555555555556,
              "#d8576b"
             ],
             [
              0.6666666666666666,
              "#ed7953"
             ],
             [
              0.7777777777777778,
              "#fb9f3a"
             ],
             [
              0.8888888888888888,
              "#fdca26"
             ],
             [
              1,
              "#f0f921"
             ]
            ],
            "type": "contour"
           }
          ],
          "contourcarpet": [
           {
            "colorbar": {
             "outlinewidth": 0,
             "ticks": ""
            },
            "type": "contourcarpet"
           }
          ],
          "heatmap": [
           {
            "colorbar": {
             "outlinewidth": 0,
             "ticks": ""
            },
            "colorscale": [
             [
              0,
              "#0d0887"
             ],
             [
              0.1111111111111111,
              "#46039f"
             ],
             [
              0.2222222222222222,
              "#7201a8"
             ],
             [
              0.3333333333333333,
              "#9c179e"
             ],
             [
              0.4444444444444444,
              "#bd3786"
             ],
             [
              0.5555555555555556,
              "#d8576b"
             ],
             [
              0.6666666666666666,
              "#ed7953"
             ],
             [
              0.7777777777777778,
              "#fb9f3a"
             ],
             [
              0.8888888888888888,
              "#fdca26"
             ],
             [
              1,
              "#f0f921"
             ]
            ],
            "type": "heatmap"
           }
          ],
          "histogram": [
           {
            "marker": {
             "pattern": {
              "fillmode": "overlay",
              "size": 10,
              "solidity": 0.2
             }
            },
            "type": "histogram"
           }
          ],
          "histogram2d": [
           {
            "colorbar": {
             "outlinewidth": 0,
             "ticks": ""
            },
            "colorscale": [
             [
              0,
              "#0d0887"
             ],
             [
              0.1111111111111111,
              "#46039f"
             ],
             [
              0.2222222222222222,
              "#7201a8"
             ],
             [
              0.3333333333333333,
              "#9c179e"
             ],
             [
              0.4444444444444444,
              "#bd3786"
             ],
             [
              0.5555555555555556,
              "#d8576b"
             ],
             [
              0.6666666666666666,
              "#ed7953"
             ],
             [
              0.7777777777777778,
              "#fb9f3a"
             ],
             [
              0.8888888888888888,
              "#fdca26"
             ],
             [
              1,
              "#f0f921"
             ]
            ],
            "type": "histogram2d"
           }
          ],
          "histogram2dcontour": [
           {
            "colorbar": {
             "outlinewidth": 0,
             "ticks": ""
            },
            "colorscale": [
             [
              0,
              "#0d0887"
             ],
             [
              0.1111111111111111,
              "#46039f"
             ],
             [
              0.2222222222222222,
              "#7201a8"
             ],
             [
              0.3333333333333333,
              "#9c179e"
             ],
             [
              0.4444444444444444,
              "#bd3786"
             ],
             [
              0.5555555555555556,
              "#d8576b"
             ],
             [
              0.6666666666666666,
              "#ed7953"
             ],
             [
              0.7777777777777778,
              "#fb9f3a"
             ],
             [
              0.8888888888888888,
              "#fdca26"
             ],
             [
              1,
              "#f0f921"
             ]
            ],
            "type": "histogram2dcontour"
           }
          ],
          "mesh3d": [
           {
            "colorbar": {
             "outlinewidth": 0,
             "ticks": ""
            },
            "type": "mesh3d"
           }
          ],
          "parcoords": [
           {
            "line": {
             "colorbar": {
              "outlinewidth": 0,
              "ticks": ""
             }
            },
            "type": "parcoords"
           }
          ],
          "pie": [
           {
            "automargin": true,
            "type": "pie"
           }
          ],
          "scatter": [
           {
            "fillpattern": {
             "fillmode": "overlay",
             "size": 10,
             "solidity": 0.2
            },
            "type": "scatter"
           }
          ],
          "scatter3d": [
           {
            "line": {
             "colorbar": {
              "outlinewidth": 0,
              "ticks": ""
             }
            },
            "marker": {
             "colorbar": {
              "outlinewidth": 0,
              "ticks": ""
             }
            },
            "type": "scatter3d"
           }
          ],
          "scattercarpet": [
           {
            "marker": {
             "colorbar": {
              "outlinewidth": 0,
              "ticks": ""
             }
            },
            "type": "scattercarpet"
           }
          ],
          "scattergeo": [
           {
            "marker": {
             "colorbar": {
              "outlinewidth": 0,
              "ticks": ""
             }
            },
            "type": "scattergeo"
           }
          ],
          "scattergl": [
           {
            "marker": {
             "colorbar": {
              "outlinewidth": 0,
              "ticks": ""
             }
            },
            "type": "scattergl"
           }
          ],
          "scattermap": [
           {
            "marker": {
             "colorbar": {
              "outlinewidth": 0,
              "ticks": ""
             }
            },
            "type": "scattermap"
           }
          ],
          "scattermapbox": [
           {
            "marker": {
             "colorbar": {
              "outlinewidth": 0,
              "ticks": ""
             }
            },
            "type": "scattermapbox"
           }
          ],
          "scatterpolar": [
           {
            "marker": {
             "colorbar": {
              "outlinewidth": 0,
              "ticks": ""
             }
            },
            "type": "scatterpolar"
           }
          ],
          "scatterpolargl": [
           {
            "marker": {
             "colorbar": {
              "outlinewidth": 0,
              "ticks": ""
             }
            },
            "type": "scatterpolargl"
           }
          ],
          "scatterternary": [
           {
            "marker": {
             "colorbar": {
              "outlinewidth": 0,
              "ticks": ""
             }
            },
            "type": "scatterternary"
           }
          ],
          "surface": [
           {
            "colorbar": {
             "outlinewidth": 0,
             "ticks": ""
            },
            "colorscale": [
             [
              0,
              "#0d0887"
             ],
             [
              0.1111111111111111,
              "#46039f"
             ],
             [
              0.2222222222222222,
              "#7201a8"
             ],
             [
              0.3333333333333333,
              "#9c179e"
             ],
             [
              0.4444444444444444,
              "#bd3786"
             ],
             [
              0.5555555555555556,
              "#d8576b"
             ],
             [
              0.6666666666666666,
              "#ed7953"
             ],
             [
              0.7777777777777778,
              "#fb9f3a"
             ],
             [
              0.8888888888888888,
              "#fdca26"
             ],
             [
              1,
              "#f0f921"
             ]
            ],
            "type": "surface"
           }
          ],
          "table": [
           {
            "cells": {
             "fill": {
              "color": "#EBF0F8"
             },
             "line": {
              "color": "white"
             }
            },
            "header": {
             "fill": {
              "color": "#C8D4E3"
             },
             "line": {
              "color": "white"
             }
            },
            "type": "table"
           }
          ]
         },
         "layout": {
          "annotationdefaults": {
           "arrowcolor": "#2a3f5f",
           "arrowhead": 0,
           "arrowwidth": 1
          },
          "autotypenumbers": "strict",
          "coloraxis": {
           "colorbar": {
            "outlinewidth": 0,
            "ticks": ""
           }
          },
          "colorscale": {
           "diverging": [
            [
             0,
             "#8e0152"
            ],
            [
             0.1,
             "#c51b7d"
            ],
            [
             0.2,
             "#de77ae"
            ],
            [
             0.3,
             "#f1b6da"
            ],
            [
             0.4,
             "#fde0ef"
            ],
            [
             0.5,
             "#f7f7f7"
            ],
            [
             0.6,
             "#e6f5d0"
            ],
            [
             0.7,
             "#b8e186"
            ],
            [
             0.8,
             "#7fbc41"
            ],
            [
             0.9,
             "#4d9221"
            ],
            [
             1,
             "#276419"
            ]
           ],
           "sequential": [
            [
             0,
             "#0d0887"
            ],
            [
             0.1111111111111111,
             "#46039f"
            ],
            [
             0.2222222222222222,
             "#7201a8"
            ],
            [
             0.3333333333333333,
             "#9c179e"
            ],
            [
             0.4444444444444444,
             "#bd3786"
            ],
            [
             0.5555555555555556,
             "#d8576b"
            ],
            [
             0.6666666666666666,
             "#ed7953"
            ],
            [
             0.7777777777777778,
             "#fb9f3a"
            ],
            [
             0.8888888888888888,
             "#fdca26"
            ],
            [
             1,
             "#f0f921"
            ]
           ],
           "sequentialminus": [
            [
             0,
             "#0d0887"
            ],
            [
             0.1111111111111111,
             "#46039f"
            ],
            [
             0.2222222222222222,
             "#7201a8"
            ],
            [
             0.3333333333333333,
             "#9c179e"
            ],
            [
             0.4444444444444444,
             "#bd3786"
            ],
            [
             0.5555555555555556,
             "#d8576b"
            ],
            [
             0.6666666666666666,
             "#ed7953"
            ],
            [
             0.7777777777777778,
             "#fb9f3a"
            ],
            [
             0.8888888888888888,
             "#fdca26"
            ],
            [
             1,
             "#f0f921"
            ]
           ]
          },
          "colorway": [
           "#636efa",
           "#EF553B",
           "#00cc96",
           "#ab63fa",
           "#FFA15A",
           "#19d3f3",
           "#FF6692",
           "#B6E880",
           "#FF97FF",
           "#FECB52"
          ],
          "font": {
           "color": "#2a3f5f"
          },
          "geo": {
           "bgcolor": "white",
           "lakecolor": "white",
           "landcolor": "#E5ECF6",
           "showlakes": true,
           "showland": true,
           "subunitcolor": "white"
          },
          "hoverlabel": {
           "align": "left"
          },
          "hovermode": "closest",
          "mapbox": {
           "style": "light"
          },
          "paper_bgcolor": "white",
          "plot_bgcolor": "#E5ECF6",
          "polar": {
           "angularaxis": {
            "gridcolor": "white",
            "linecolor": "white",
            "ticks": ""
           },
           "bgcolor": "#E5ECF6",
           "radialaxis": {
            "gridcolor": "white",
            "linecolor": "white",
            "ticks": ""
           }
          },
          "scene": {
           "xaxis": {
            "backgroundcolor": "#E5ECF6",
            "gridcolor": "white",
            "gridwidth": 2,
            "linecolor": "white",
            "showbackground": true,
            "ticks": "",
            "zerolinecolor": "white"
           },
           "yaxis": {
            "backgroundcolor": "#E5ECF6",
            "gridcolor": "white",
            "gridwidth": 2,
            "linecolor": "white",
            "showbackground": true,
            "ticks": "",
            "zerolinecolor": "white"
           },
           "zaxis": {
            "backgroundcolor": "#E5ECF6",
            "gridcolor": "white",
            "gridwidth": 2,
            "linecolor": "white",
            "showbackground": true,
            "ticks": "",
            "zerolinecolor": "white"
           }
          },
          "shapedefaults": {
           "line": {
            "color": "#2a3f5f"
           }
          },
          "ternary": {
           "aaxis": {
            "gridcolor": "white",
            "linecolor": "white",
            "ticks": ""
           },
           "baxis": {
            "gridcolor": "white",
            "linecolor": "white",
            "ticks": ""
           },
           "bgcolor": "#E5ECF6",
           "caxis": {
            "gridcolor": "white",
            "linecolor": "white",
            "ticks": ""
           }
          },
          "title": {
           "x": 0.05
          },
          "xaxis": {
           "automargin": true,
           "gridcolor": "white",
           "linecolor": "white",
           "ticks": "",
           "title": {
            "standoff": 15
           },
           "zerolinecolor": "white",
           "zerolinewidth": 2
          },
          "yaxis": {
           "automargin": true,
           "gridcolor": "white",
           "linecolor": "white",
           "ticks": "",
           "title": {
            "standoff": 15
           },
           "zerolinecolor": "white",
           "zerolinewidth": 2
          }
         }
        },
        "title": {
         "text": "Curva de Pérdida durante el Entrenamiento"
        },
        "xaxis": {
         "title": {
          "text": "Época"
         }
        },
        "yaxis": {
         "title": {
          "text": "MSE"
         }
        }
       }
      }
     },
     "metadata": {},
     "output_type": "display_data"
    },
    {
     "name": "stdout",
     "output_type": "stream",
     "text": [
      "\n",
      "### Generando pronósticos para 2022 ###\n",
      "\n",
      "Pronósticos generados: 520 registros\n",
      "\n",
      "Estadísticas de pronósticos:\n",
      "count    520.000000\n",
      "mean       1.491658\n",
      "std        0.185177\n",
      "min        1.176948\n",
      "25%        1.324188\n",
      "50%        1.471453\n",
      "75%        1.637254\n",
      "max        1.937127\n",
      "Name: dengue, dtype: float64\n",
      "\n",
      "Primeras filas del archivo de salida:\n",
      "          id  dengue\n",
      "0  4_2022_01    1.44\n",
      "1  4_2022_02    1.45\n",
      "2  4_2022_03    1.49\n",
      "3  4_2022_04    1.55\n",
      "4  4_2022_05    1.94\n",
      "5  4_2022_06    1.82\n",
      "6  4_2022_07    1.82\n",
      "7  4_2022_08    1.70\n",
      "8  4_2022_09    1.70\n",
      "9  4_2022_10    1.66\n",
      "\n",
      "Total de registros: 520\n",
      "\n",
      "Archivo 'pronosticos_GRU_simple_20250626_232555.csv' guardado exitosamente.\n"
     ]
    },
    {
     "data": {
      "application/vnd.plotly.v1+json": {
       "config": {
        "plotlyServerURL": "https://plot.ly"
       },
       "data": [
        {
         "mode": "lines+markers",
         "name": "Barrio 4",
         "type": "scatter",
         "x": {
          "bdata": "AQIDBAUGBwgJCgsMDQ4PEBESExQVFhcYGRobHB0eHyAhIiMkJSYnKCkqKywtLi8wMTIzNA==",
          "dtype": "i1"
         },
         "y": {
          "bdata": "uTzszo4G9z/S+wERtTX3PxKy3ZFu4Pc/39QKTkTQ+D8zf90ref7+P8ydEYOtMf0/7K+fNesN/T8SSZv6ZCj7P1wj+a9hNfs/vzNjataf+j+zXN6x3Hb4PygeLeoDnvU/PPl9ljhj9T/u3M3LYjX2P2xIoO7ka/Y/8+ZGpf8G9j8Xri+xSP75P58rM5WSH/U/jZPSF5lA9T+DyPks5lH1P0uIDZL+gfQ/RPejy6bR9D/lcsfHtAX5P6sWYcqyofY/UOJnyxH/9j+jw6EHtzf4P9lk5Hy6V/k/MUfhs2xB+j8B5c4o9af5P6urBFdzafs/8U1cPLGm+z8zxGsqAfb6P/q3+H1UHvs/nffSMXas+T9qB4xuaqT4P2o2RZZhfvg/RifymY/B/D86v7WHGV37P0vlONkdLfo/cu7dSaBg+T9reKi31xz1P7rlZaBONfU/yydIscn59D/N5EePiYbzPwzWdqH3x/Q/MTQniJTg8z8NwS8Lb6n0PzWZ3iFJTvM/ia9LIsfU8j/3cT+b5cj0PzL2ANFOAfU/kdc98A/x9j8=",
          "dtype": "f8"
         }
        },
        {
         "mode": "lines+markers",
         "name": "Barrio 5",
         "type": "scatter",
         "x": {
          "bdata": "AQIDBAUGBwgJCgsMDQ4PEBESExQVFhcYGRobHB0eHyAhIiMkJSYnKCkqKywtLi8wMTIzNA==",
          "dtype": "i1"
         },
         "y": {
          "bdata": "uTzszo4G9z/S+wERtTX3PxKy3ZFu4Pc/39QKTkTQ+D8zf90ref7+P8ydEYOtMf0/7K+fNesN/T8SSZv6ZCj7P1wj+a9hNfs/vzNjataf+j+zXN6x3Hb4PygeLeoDnvU/PPl9ljhj9T/u3M3LYjX2P2xIoO7ka/Y/8+ZGpf8G9j8Xri+xSP75P58rM5WSH/U/jZPSF5lA9T+DyPks5lH1P0uIDZL+gfQ/RPejy6bR9D/lcsfHtAX5P6sWYcqyofY/UOJnyxH/9j+jw6EHtzf4P9lk5Hy6V/k/MUfhs2xB+j8B5c4o9af5P6urBFdzafs/8U1cPLGm+z8zxGsqAfb6P/q3+H1UHvs/nffSMXas+T9qB4xuaqT4P2o2RZZhfvg/RifymY/B/D86v7WHGV37P0vlONkdLfo/cu7dSaBg+T9reKi31xz1P7rlZaBONfU/yydIscn59D/N5EePiYbzPwzWdqH3x/Q/MTQniJTg8z8NwS8Lb6n0PzWZ3iFJTvM/ia9LIsfU8j/3cT+b5cj0PzL2ANFOAfU/kdc98A/x9j8=",
          "dtype": "f8"
         }
        },
        {
         "mode": "lines+markers",
         "name": "Barrio 3",
         "type": "scatter",
         "x": {
          "bdata": "AQIDBAUGBwgJCgsMDQ4PEBESExQVFhcYGRobHB0eHyAhIiMkJSYnKCkqKywtLi8wMTIzNA==",
          "dtype": "i1"
         },
         "y": {
          "bdata": "uTzszo4G9z/S+wERtTX3PxKy3ZFu4Pc/39QKTkTQ+D8zf90ref7+P8ydEYOtMf0/7K+fNesN/T8SSZv6ZCj7P1wj+a9hNfs/vzNjataf+j+zXN6x3Hb4PygeLeoDnvU/PPl9ljhj9T/u3M3LYjX2P2xIoO7ka/Y/8+ZGpf8G9j8Xri+xSP75P58rM5WSH/U/jZPSF5lA9T+DyPks5lH1P0uIDZL+gfQ/RPejy6bR9D/lcsfHtAX5P6sWYcqyofY/UOJnyxH/9j+jw6EHtzf4P9lk5Hy6V/k/MUfhs2xB+j8B5c4o9af5P6urBFdzafs/8U1cPLGm+z8zxGsqAfb6P/q3+H1UHvs/nffSMXas+T9qB4xuaqT4P2o2RZZhfvg/RifymY/B/D86v7WHGV37P0vlONkdLfo/cu7dSaBg+T9reKi31xz1P7rlZaBONfU/yydIscn59D/N5EePiYbzPwzWdqH3x/Q/MTQniJTg8z8NwS8Lb6n0PzWZ3iFJTvM/ia9LIsfU8j/3cT+b5cj0PzL2ANFOAfU/kdc98A/x9j8=",
          "dtype": "f8"
         }
        },
        {
         "mode": "lines+markers",
         "name": "Barrio 8",
         "type": "scatter",
         "x": {
          "bdata": "AQIDBAUGBwgJCgsMDQ4PEBESExQVFhcYGRobHB0eHyAhIiMkJSYnKCkqKywtLi8wMTIzNA==",
          "dtype": "i1"
         },
         "y": {
          "bdata": "uTzszo4G9z/S+wERtTX3PxKy3ZFu4Pc/39QKTkTQ+D8zf90ref7+P8ydEYOtMf0/7K+fNesN/T8SSZv6ZCj7P1wj+a9hNfs/vzNjataf+j+zXN6x3Hb4PygeLeoDnvU/PPl9ljhj9T/u3M3LYjX2P2xIoO7ka/Y/8+ZGpf8G9j8Xri+xSP75P58rM5WSH/U/jZPSF5lA9T+DyPks5lH1P0uIDZL+gfQ/RPejy6bR9D/lcsfHtAX5P6sWYcqyofY/UOJnyxH/9j+jw6EHtzf4P9lk5Hy6V/k/MUfhs2xB+j8B5c4o9af5P6urBFdzafs/8U1cPLGm+z8zxGsqAfb6P/q3+H1UHvs/nffSMXas+T9qB4xuaqT4P2o2RZZhfvg/RifymY/B/D86v7WHGV37P0vlONkdLfo/cu7dSaBg+T9reKi31xz1P7rlZaBONfU/yydIscn59D/N5EePiYbzPwzWdqH3x/Q/MTQniJTg8z8NwS8Lb6n0PzWZ3iFJTvM/ia9LIsfU8j/3cT+b5cj0PzL2ANFOAfU/kdc98A/x9j8=",
          "dtype": "f8"
         }
        },
        {
         "mode": "lines+markers",
         "name": "Barrio 9",
         "type": "scatter",
         "x": {
          "bdata": "AQIDBAUGBwgJCgsMDQ4PEBESExQVFhcYGRobHB0eHyAhIiMkJSYnKCkqKywtLi8wMTIzNA==",
          "dtype": "i1"
         },
         "y": {
          "bdata": "uTzszo4G9z/S+wERtTX3PxKy3ZFu4Pc/39QKTkTQ+D8zf90ref7+P8ydEYOtMf0/7K+fNesN/T8SSZv6ZCj7P1wj+a9hNfs/vzNjataf+j+zXN6x3Hb4PygeLeoDnvU/PPl9ljhj9T/u3M3LYjX2P2xIoO7ka/Y/8+ZGpf8G9j8Xri+xSP75P58rM5WSH/U/jZPSF5lA9T+DyPks5lH1P0uIDZL+gfQ/RPejy6bR9D/lcsfHtAX5P6sWYcqyofY/UOJnyxH/9j+jw6EHtzf4P9lk5Hy6V/k/MUfhs2xB+j8B5c4o9af5P6urBFdzafs/8U1cPLGm+z8zxGsqAfb6P/q3+H1UHvs/nffSMXas+T9qB4xuaqT4P2o2RZZhfvg/RifymY/B/D86v7WHGV37P0vlONkdLfo/cu7dSaBg+T9reKi31xz1P7rlZaBONfU/yydIscn59D/N5EePiYbzPwzWdqH3x/Q/MTQniJTg8z8NwS8Lb6n0PzWZ3iFJTvM/ia9LIsfU8j/3cT+b5cj0PzL2ANFOAfU/kdc98A/x9j8=",
          "dtype": "f8"
         }
        }
       ],
       "layout": {
        "hovermode": "x unified",
        "template": {
         "data": {
          "bar": [
           {
            "error_x": {
             "color": "#2a3f5f"
            },
            "error_y": {
             "color": "#2a3f5f"
            },
            "marker": {
             "line": {
              "color": "#E5ECF6",
              "width": 0.5
             },
             "pattern": {
              "fillmode": "overlay",
              "size": 10,
              "solidity": 0.2
             }
            },
            "type": "bar"
           }
          ],
          "barpolar": [
           {
            "marker": {
             "line": {
              "color": "#E5ECF6",
              "width": 0.5
             },
             "pattern": {
              "fillmode": "overlay",
              "size": 10,
              "solidity": 0.2
             }
            },
            "type": "barpolar"
           }
          ],
          "carpet": [
           {
            "aaxis": {
             "endlinecolor": "#2a3f5f",
             "gridcolor": "white",
             "linecolor": "white",
             "minorgridcolor": "white",
             "startlinecolor": "#2a3f5f"
            },
            "baxis": {
             "endlinecolor": "#2a3f5f",
             "gridcolor": "white",
             "linecolor": "white",
             "minorgridcolor": "white",
             "startlinecolor": "#2a3f5f"
            },
            "type": "carpet"
           }
          ],
          "choropleth": [
           {
            "colorbar": {
             "outlinewidth": 0,
             "ticks": ""
            },
            "type": "choropleth"
           }
          ],
          "contour": [
           {
            "colorbar": {
             "outlinewidth": 0,
             "ticks": ""
            },
            "colorscale": [
             [
              0,
              "#0d0887"
             ],
             [
              0.1111111111111111,
              "#46039f"
             ],
             [
              0.2222222222222222,
              "#7201a8"
             ],
             [
              0.3333333333333333,
              "#9c179e"
             ],
             [
              0.4444444444444444,
              "#bd3786"
             ],
             [
              0.5555555555555556,
              "#d8576b"
             ],
             [
              0.6666666666666666,
              "#ed7953"
             ],
             [
              0.7777777777777778,
              "#fb9f3a"
             ],
             [
              0.8888888888888888,
              "#fdca26"
             ],
             [
              1,
              "#f0f921"
             ]
            ],
            "type": "contour"
           }
          ],
          "contourcarpet": [
           {
            "colorbar": {
             "outlinewidth": 0,
             "ticks": ""
            },
            "type": "contourcarpet"
           }
          ],
          "heatmap": [
           {
            "colorbar": {
             "outlinewidth": 0,
             "ticks": ""
            },
            "colorscale": [
             [
              0,
              "#0d0887"
             ],
             [
              0.1111111111111111,
              "#46039f"
             ],
             [
              0.2222222222222222,
              "#7201a8"
             ],
             [
              0.3333333333333333,
              "#9c179e"
             ],
             [
              0.4444444444444444,
              "#bd3786"
             ],
             [
              0.5555555555555556,
              "#d8576b"
             ],
             [
              0.6666666666666666,
              "#ed7953"
             ],
             [
              0.7777777777777778,
              "#fb9f3a"
             ],
             [
              0.8888888888888888,
              "#fdca26"
             ],
             [
              1,
              "#f0f921"
             ]
            ],
            "type": "heatmap"
           }
          ],
          "histogram": [
           {
            "marker": {
             "pattern": {
              "fillmode": "overlay",
              "size": 10,
              "solidity": 0.2
             }
            },
            "type": "histogram"
           }
          ],
          "histogram2d": [
           {
            "colorbar": {
             "outlinewidth": 0,
             "ticks": ""
            },
            "colorscale": [
             [
              0,
              "#0d0887"
             ],
             [
              0.1111111111111111,
              "#46039f"
             ],
             [
              0.2222222222222222,
              "#7201a8"
             ],
             [
              0.3333333333333333,
              "#9c179e"
             ],
             [
              0.4444444444444444,
              "#bd3786"
             ],
             [
              0.5555555555555556,
              "#d8576b"
             ],
             [
              0.6666666666666666,
              "#ed7953"
             ],
             [
              0.7777777777777778,
              "#fb9f3a"
             ],
             [
              0.8888888888888888,
              "#fdca26"
             ],
             [
              1,
              "#f0f921"
             ]
            ],
            "type": "histogram2d"
           }
          ],
          "histogram2dcontour": [
           {
            "colorbar": {
             "outlinewidth": 0,
             "ticks": ""
            },
            "colorscale": [
             [
              0,
              "#0d0887"
             ],
             [
              0.1111111111111111,
              "#46039f"
             ],
             [
              0.2222222222222222,
              "#7201a8"
             ],
             [
              0.3333333333333333,
              "#9c179e"
             ],
             [
              0.4444444444444444,
              "#bd3786"
             ],
             [
              0.5555555555555556,
              "#d8576b"
             ],
             [
              0.6666666666666666,
              "#ed7953"
             ],
             [
              0.7777777777777778,
              "#fb9f3a"
             ],
             [
              0.8888888888888888,
              "#fdca26"
             ],
             [
              1,
              "#f0f921"
             ]
            ],
            "type": "histogram2dcontour"
           }
          ],
          "mesh3d": [
           {
            "colorbar": {
             "outlinewidth": 0,
             "ticks": ""
            },
            "type": "mesh3d"
           }
          ],
          "parcoords": [
           {
            "line": {
             "colorbar": {
              "outlinewidth": 0,
              "ticks": ""
             }
            },
            "type": "parcoords"
           }
          ],
          "pie": [
           {
            "automargin": true,
            "type": "pie"
           }
          ],
          "scatter": [
           {
            "fillpattern": {
             "fillmode": "overlay",
             "size": 10,
             "solidity": 0.2
            },
            "type": "scatter"
           }
          ],
          "scatter3d": [
           {
            "line": {
             "colorbar": {
              "outlinewidth": 0,
              "ticks": ""
             }
            },
            "marker": {
             "colorbar": {
              "outlinewidth": 0,
              "ticks": ""
             }
            },
            "type": "scatter3d"
           }
          ],
          "scattercarpet": [
           {
            "marker": {
             "colorbar": {
              "outlinewidth": 0,
              "ticks": ""
             }
            },
            "type": "scattercarpet"
           }
          ],
          "scattergeo": [
           {
            "marker": {
             "colorbar": {
              "outlinewidth": 0,
              "ticks": ""
             }
            },
            "type": "scattergeo"
           }
          ],
          "scattergl": [
           {
            "marker": {
             "colorbar": {
              "outlinewidth": 0,
              "ticks": ""
             }
            },
            "type": "scattergl"
           }
          ],
          "scattermap": [
           {
            "marker": {
             "colorbar": {
              "outlinewidth": 0,
              "ticks": ""
             }
            },
            "type": "scattermap"
           }
          ],
          "scattermapbox": [
           {
            "marker": {
             "colorbar": {
              "outlinewidth": 0,
              "ticks": ""
             }
            },
            "type": "scattermapbox"
           }
          ],
          "scatterpolar": [
           {
            "marker": {
             "colorbar": {
              "outlinewidth": 0,
              "ticks": ""
             }
            },
            "type": "scatterpolar"
           }
          ],
          "scatterpolargl": [
           {
            "marker": {
             "colorbar": {
              "outlinewidth": 0,
              "ticks": ""
             }
            },
            "type": "scatterpolargl"
           }
          ],
          "scatterternary": [
           {
            "marker": {
             "colorbar": {
              "outlinewidth": 0,
              "ticks": ""
             }
            },
            "type": "scatterternary"
           }
          ],
          "surface": [
           {
            "colorbar": {
             "outlinewidth": 0,
             "ticks": ""
            },
            "colorscale": [
             [
              0,
              "#0d0887"
             ],
             [
              0.1111111111111111,
              "#46039f"
             ],
             [
              0.2222222222222222,
              "#7201a8"
             ],
             [
              0.3333333333333333,
              "#9c179e"
             ],
             [
              0.4444444444444444,
              "#bd3786"
             ],
             [
              0.5555555555555556,
              "#d8576b"
             ],
             [
              0.6666666666666666,
              "#ed7953"
             ],
             [
              0.7777777777777778,
              "#fb9f3a"
             ],
             [
              0.8888888888888888,
              "#fdca26"
             ],
             [
              1,
              "#f0f921"
             ]
            ],
            "type": "surface"
           }
          ],
          "table": [
           {
            "cells": {
             "fill": {
              "color": "#EBF0F8"
             },
             "line": {
              "color": "white"
             }
            },
            "header": {
             "fill": {
              "color": "#C8D4E3"
             },
             "line": {
              "color": "white"
             }
            },
            "type": "table"
           }
          ]
         },
         "layout": {
          "annotationdefaults": {
           "arrowcolor": "#2a3f5f",
           "arrowhead": 0,
           "arrowwidth": 1
          },
          "autotypenumbers": "strict",
          "coloraxis": {
           "colorbar": {
            "outlinewidth": 0,
            "ticks": ""
           }
          },
          "colorscale": {
           "diverging": [
            [
             0,
             "#8e0152"
            ],
            [
             0.1,
             "#c51b7d"
            ],
            [
             0.2,
             "#de77ae"
            ],
            [
             0.3,
             "#f1b6da"
            ],
            [
             0.4,
             "#fde0ef"
            ],
            [
             0.5,
             "#f7f7f7"
            ],
            [
             0.6,
             "#e6f5d0"
            ],
            [
             0.7,
             "#b8e186"
            ],
            [
             0.8,
             "#7fbc41"
            ],
            [
             0.9,
             "#4d9221"
            ],
            [
             1,
             "#276419"
            ]
           ],
           "sequential": [
            [
             0,
             "#0d0887"
            ],
            [
             0.1111111111111111,
             "#46039f"
            ],
            [
             0.2222222222222222,
             "#7201a8"
            ],
            [
             0.3333333333333333,
             "#9c179e"
            ],
            [
             0.4444444444444444,
             "#bd3786"
            ],
            [
             0.5555555555555556,
             "#d8576b"
            ],
            [
             0.6666666666666666,
             "#ed7953"
            ],
            [
             0.7777777777777778,
             "#fb9f3a"
            ],
            [
             0.8888888888888888,
             "#fdca26"
            ],
            [
             1,
             "#f0f921"
            ]
           ],
           "sequentialminus": [
            [
             0,
             "#0d0887"
            ],
            [
             0.1111111111111111,
             "#46039f"
            ],
            [
             0.2222222222222222,
             "#7201a8"
            ],
            [
             0.3333333333333333,
             "#9c179e"
            ],
            [
             0.4444444444444444,
             "#bd3786"
            ],
            [
             0.5555555555555556,
             "#d8576b"
            ],
            [
             0.6666666666666666,
             "#ed7953"
            ],
            [
             0.7777777777777778,
             "#fb9f3a"
            ],
            [
             0.8888888888888888,
             "#fdca26"
            ],
            [
             1,
             "#f0f921"
            ]
           ]
          },
          "colorway": [
           "#636efa",
           "#EF553B",
           "#00cc96",
           "#ab63fa",
           "#FFA15A",
           "#19d3f3",
           "#FF6692",
           "#B6E880",
           "#FF97FF",
           "#FECB52"
          ],
          "font": {
           "color": "#2a3f5f"
          },
          "geo": {
           "bgcolor": "white",
           "lakecolor": "white",
           "landcolor": "#E5ECF6",
           "showlakes": true,
           "showland": true,
           "subunitcolor": "white"
          },
          "hoverlabel": {
           "align": "left"
          },
          "hovermode": "closest",
          "mapbox": {
           "style": "light"
          },
          "paper_bgcolor": "white",
          "plot_bgcolor": "#E5ECF6",
          "polar": {
           "angularaxis": {
            "gridcolor": "white",
            "linecolor": "white",
            "ticks": ""
           },
           "bgcolor": "#E5ECF6",
           "radialaxis": {
            "gridcolor": "white",
            "linecolor": "white",
            "ticks": ""
           }
          },
          "scene": {
           "xaxis": {
            "backgroundcolor": "#E5ECF6",
            "gridcolor": "white",
            "gridwidth": 2,
            "linecolor": "white",
            "showbackground": true,
            "ticks": "",
            "zerolinecolor": "white"
           },
           "yaxis": {
            "backgroundcolor": "#E5ECF6",
            "gridcolor": "white",
            "gridwidth": 2,
            "linecolor": "white",
            "showbackground": true,
            "ticks": "",
            "zerolinecolor": "white"
           },
           "zaxis": {
            "backgroundcolor": "#E5ECF6",
            "gridcolor": "white",
            "gridwidth": 2,
            "linecolor": "white",
            "showbackground": true,
            "ticks": "",
            "zerolinecolor": "white"
           }
          },
          "shapedefaults": {
           "line": {
            "color": "#2a3f5f"
           }
          },
          "ternary": {
           "aaxis": {
            "gridcolor": "white",
            "linecolor": "white",
            "ticks": ""
           },
           "baxis": {
            "gridcolor": "white",
            "linecolor": "white",
            "ticks": ""
           },
           "bgcolor": "#E5ECF6",
           "caxis": {
            "gridcolor": "white",
            "linecolor": "white",
            "ticks": ""
           }
          },
          "title": {
           "x": 0.05
          },
          "xaxis": {
           "automargin": true,
           "gridcolor": "white",
           "linecolor": "white",
           "ticks": "",
           "title": {
            "standoff": 15
           },
           "zerolinecolor": "white",
           "zerolinewidth": 2
          },
          "yaxis": {
           "automargin": true,
           "gridcolor": "white",
           "linecolor": "white",
           "ticks": "",
           "title": {
            "standoff": 15
           },
           "zerolinecolor": "white",
           "zerolinewidth": 2
          }
         }
        },
        "title": {
         "text": "Pronósticos de Dengue para 2022 (Muestra de 5 Barrios)"
        },
        "xaxis": {
         "title": {
          "text": "Semana del Año"
         }
        },
        "yaxis": {
         "title": {
          "text": "Casos de Dengue"
         }
        }
       }
      }
     },
     "metadata": {},
     "output_type": "display_data"
    },
    {
     "name": "stdout",
     "output_type": "stream",
     "text": [
      "\n",
      "### Proceso completado exitosamente ###\n"
     ]
    }
   ],
   "source": [
    "#!/usr/bin/env python\n",
    "# coding: utf-8\n",
    "\n",
    "# # Pronóstico de Casos de Dengue por Barrio usando GRU\n",
    "# ## Red Neuronal Recurrente para Series Temporales con lluvia y temperatura\n",
    "\n",
    "# ### 1. Configuración e Importación de Librerías\n",
    "\n",
    "import pandas as pd\n",
    "import numpy as np\n",
    "import torch\n",
    "import torch.nn as nn\n",
    "from torch.utils.data import Dataset, DataLoader\n",
    "from sklearn.preprocessing import StandardScaler\n",
    "from sklearn.metrics import mean_squared_error\n",
    "import optuna\n",
    "import plotly.graph_objects as go\n",
    "from datetime import datetime\n",
    "import warnings\n",
    "warnings.filterwarnings('ignore')\n",
    "\n",
    "# Configurar dispositivo de cómputo\n",
    "device = torch.device('cuda' if torch.cuda.is_available() else 'cpu')\n",
    "print(f\"Dispositivo de cómputo: {device}\")\n",
    "\n",
    "# Establecer semilla para reproducibilidad\n",
    "np.random.seed(42)\n",
    "torch.manual_seed(42)\n",
    "if torch.cuda.is_available():\n",
    "    torch.cuda.manual_seed(42)\n",
    "\n",
    "# ### 2. Carga y Preparación de Datos\n",
    "\n",
    "# Cargar datos desde el archivo Parquet\n",
    "df = pd.read_parquet('../../Datos/df_train.parquet')\n",
    "print(f\"Dimensiones del DataFrame: {df.shape}\")\n",
    "print(\"\\nPrimeras filas:\")\n",
    "print(df.head())\n",
    "\n",
    "# Crear columna de fecha usando formato de semanas ISO\n",
    "df['fecha'] = pd.to_datetime(df['anio'].astype(str) + df['semana'].astype(str) + '1', format='%G%V%u')\n",
    "\n",
    "# Establecer fecha como índice y ordenar\n",
    "df = df.set_index('fecha').sort_index()\n",
    "print(f\"\\nRango temporal: {df.index.min()} - {df.index.max()}\")\n",
    "\n",
    "# ### 3. Preprocesamiento e Ingeniería de Características\n",
    "\n",
    "# División de datos según el año\n",
    "train_data = df[df['anio'] < 2021]\n",
    "val_data = df[df['anio'] == 2021]\n",
    "print(f\"\\nTamaño conjunto entrenamiento: {len(train_data)}\")\n",
    "print(f\"Tamaño conjunto validación: {len(val_data)}\")\n",
    "\n",
    "# Definir columnas a usar\n",
    "feature_cols = ['lluvia_mean', 'temperatura_mean']\n",
    "target_col = 'dengue'\n",
    "\n",
    "print(f\"\\nColumnas de características: {feature_cols}\")\n",
    "print(f\"Variable objetivo: {target_col}\")\n",
    "\n",
    "# Escalar variables\n",
    "scaler_features = StandardScaler()\n",
    "scaler_target = StandardScaler()\n",
    "\n",
    "# Ajustar escaladores con datos de entrenamiento\n",
    "scaler_features.fit(train_data[feature_cols])\n",
    "scaler_target.fit(train_data[[target_col]])\n",
    "\n",
    "# Aplicar escalado\n",
    "train_scaled = train_data.copy()\n",
    "val_scaled = val_data.copy()\n",
    "train_scaled[feature_cols] = scaler_features.transform(train_data[feature_cols])\n",
    "train_scaled[target_col] = scaler_target.transform(train_data[[target_col]])\n",
    "val_scaled[feature_cols] = scaler_features.transform(val_data[feature_cols])\n",
    "val_scaled[target_col] = scaler_target.transform(val_data[[target_col]])\n",
    "\n",
    "# ### Función para crear secuencias\n",
    "\n",
    "def create_sequences(data, window_size, target_col, feature_cols):\n",
    "    \"\"\"\n",
    "    Crea secuencias de ventanas deslizantes para el modelo GRU.\n",
    "    \n",
    "    Args:\n",
    "        data: DataFrame con los datos\n",
    "        window_size: Tamaño de la ventana de entrada\n",
    "        target_col: Nombre de la columna objetivo\n",
    "        feature_cols: Lista de columnas de características\n",
    "    \n",
    "    Returns:\n",
    "        sequences: Array con las secuencias\n",
    "        targets: Array con los valores objetivo\n",
    "        barrio_ids: Array con los IDs de barrio para cada secuencia\n",
    "    \"\"\"\n",
    "    sequences = []\n",
    "    targets = []\n",
    "    barrio_ids = []\n",
    "    \n",
    "    # Agrupar por barrio para mantener continuidad temporal\n",
    "    for barrio in data['id_bar'].unique():\n",
    "        barrio_data = data[data['id_bar'] == barrio].sort_index()\n",
    "        \n",
    "        if len(barrio_data) <= window_size:\n",
    "            continue\n",
    "            \n",
    "        for i in range(len(barrio_data) - window_size):\n",
    "            # Secuencia de características (lluvia y temperatura)\n",
    "            seq = barrio_data[feature_cols].iloc[i:i+window_size].values\n",
    "            # Valor objetivo (dengue)\n",
    "            target = barrio_data[target_col].iloc[i+window_size]\n",
    "            \n",
    "            sequences.append(seq)\n",
    "            targets.append(target)\n",
    "            barrio_ids.append(barrio)\n",
    "    \n",
    "    return (np.array(sequences, dtype=np.float32), \n",
    "            np.array(targets, dtype=np.float32),\n",
    "            np.array(barrio_ids))\n",
    "\n",
    "# ### 4. Definición del Modelo GRU con PyTorch\n",
    "\n",
    "class DengueDataset(Dataset):\n",
    "    \"\"\"Dataset personalizado para las secuencias de dengue\"\"\"\n",
    "    def __init__(self, sequences, targets):\n",
    "        self.sequences = sequences\n",
    "        self.targets = targets\n",
    "    \n",
    "    def __len__(self):\n",
    "        return len(self.targets)\n",
    "    \n",
    "    def __getitem__(self, idx):\n",
    "        return (torch.FloatTensor(self.sequences[idx]),\n",
    "                torch.FloatTensor([self.targets[idx]]))\n",
    "\n",
    "class GRUModel(nn.Module):\n",
    "    \"\"\"\n",
    "    Modelo GRU simple para series temporales\n",
    "    \"\"\"\n",
    "    def __init__(self, input_size, hidden_size, num_layers, dropout_rate):\n",
    "        super(GRUModel, self).__init__()\n",
    "        \n",
    "        # Capas GRU\n",
    "        self.gru = nn.GRU(input_size, hidden_size, num_layers, \n",
    "                         batch_first=True, dropout=dropout_rate if num_layers > 1 else 0)\n",
    "        \n",
    "        # Dropout\n",
    "        self.dropout = nn.Dropout(dropout_rate)\n",
    "        \n",
    "        # Capa de salida\n",
    "        self.fc = nn.Linear(hidden_size, 1)\n",
    "        \n",
    "    def forward(self, x):\n",
    "        # Pasar por GRU\n",
    "        out, _ = self.gru(x)\n",
    "        \n",
    "        # Tomar la salida del último paso temporal\n",
    "        out = out[:, -1, :]\n",
    "        out = self.dropout(out)\n",
    "        out = self.fc(out)\n",
    "        \n",
    "        return out\n",
    "\n",
    "# ### 5. Optimización de Hiperparámetros con Optuna\n",
    "\n",
    "def objective(trial):\n",
    "    \"\"\"\n",
    "    Función objetivo para Optuna\n",
    "    \"\"\"\n",
    "    # Espacio de búsqueda de hiperparámetros\n",
    "    window_size = trial.suggest_int('window_size', 8, 48)\n",
    "    hidden_size = trial.suggest_categorical('hidden_size', [16, 32, 64, 128])\n",
    "    num_layers = trial.suggest_int('num_layers', 1, 3)\n",
    "    dropout_rate = trial.suggest_float('dropout_rate', 0.1, 0.5)\n",
    "    learning_rate = trial.suggest_float('learning_rate', 1e-4, 1e-2, log=True)\n",
    "    batch_size = trial.suggest_categorical('batch_size', [16, 32, 64, 128])\n",
    "    \n",
    "    # Crear secuencias\n",
    "    X_train, y_train, _ = create_sequences(\n",
    "        train_scaled, window_size, target_col, feature_cols\n",
    "    )\n",
    "    X_val, y_val, _ = create_sequences(\n",
    "        val_scaled, window_size, target_col, feature_cols\n",
    "    )\n",
    "    \n",
    "    # Crear datasets y dataloaders\n",
    "    train_dataset = DengueDataset(X_train, y_train)\n",
    "    val_dataset = DengueDataset(X_val, y_val)\n",
    "    \n",
    "    train_loader = DataLoader(train_dataset, batch_size=batch_size, shuffle=True)\n",
    "    val_loader = DataLoader(val_dataset, batch_size=batch_size, shuffle=False)\n",
    "    \n",
    "    # Configurar modelo\n",
    "    input_size = len(feature_cols)  # 2 (lluvia_mean, temperatura_mean)\n",
    "    \n",
    "    model = GRUModel(input_size, hidden_size, num_layers, dropout_rate).to(device)\n",
    "    criterion = nn.MSELoss()\n",
    "    optimizer = torch.optim.Adam(model.parameters(), lr=learning_rate)\n",
    "    \n",
    "    # Entrenamiento\n",
    "    n_epochs = 40\n",
    "    best_val_loss = float('inf')\n",
    "    patience = 20\n",
    "    patience_counter = 0\n",
    "    \n",
    "    for epoch in range(n_epochs):\n",
    "        # Training\n",
    "        model.train()\n",
    "        train_loss = 0\n",
    "        for x, y in train_loader:\n",
    "            x, y = x.to(device), y.to(device)\n",
    "            \n",
    "            optimizer.zero_grad()\n",
    "            output = model(x)\n",
    "            loss = criterion(output, y)\n",
    "            loss.backward()\n",
    "            optimizer.step()\n",
    "            \n",
    "            train_loss += loss.item()\n",
    "        \n",
    "        # Validation\n",
    "        model.eval()\n",
    "        val_loss = 0\n",
    "        with torch.no_grad():\n",
    "            for x, y in val_loader:\n",
    "                x, y = x.to(device), y.to(device)\n",
    "                output = model(x)\n",
    "                loss = criterion(output, y)\n",
    "                val_loss += loss.item()\n",
    "        \n",
    "        val_loss /= len(val_loader)\n",
    "        \n",
    "        # Early stopping\n",
    "        if val_loss < best_val_loss:\n",
    "            best_val_loss = val_loss\n",
    "            patience_counter = 0\n",
    "        else:\n",
    "            patience_counter += 1\n",
    "            \n",
    "        if patience_counter >= patience:\n",
    "            break\n",
    "    \n",
    "    return best_val_loss\n",
    "\n",
    "# Ejecutar optimización con Optuna\n",
    "print(\"\\n### Iniciando optimización de hiperparámetros con Optuna ###\")\n",
    "study = optuna.create_study(direction='minimize')\n",
    "study.optimize(objective, n_trials=40, show_progress_bar=True)\n",
    "\n",
    "print(\"\\nMejores hiperparámetros encontrados:\")\n",
    "print(study.best_params)\n",
    "print(f\"\\nMejor MSE en validación: {study.best_value:.4f}\")\n",
    "\n",
    "# ### 6. Entrenamiento del Modelo Final\n",
    "\n",
    "# Obtener mejores hiperparámetros\n",
    "best_params = study.best_params\n",
    "window_size = best_params['window_size']\n",
    "hidden_size = best_params['hidden_size']\n",
    "num_layers = best_params['num_layers']\n",
    "dropout_rate = best_params['dropout_rate']\n",
    "learning_rate = best_params['learning_rate']\n",
    "batch_size = best_params['batch_size']\n",
    "\n",
    "print(\"\\n### Entrenando modelo final con datos combinados ###\")\n",
    "\n",
    "# Combinar datos de entrenamiento y validación\n",
    "combined_data = pd.concat([train_data, val_data])\n",
    "combined_scaled = combined_data.copy()\n",
    "combined_scaled[feature_cols] = scaler_features.transform(combined_data[feature_cols])\n",
    "combined_scaled[target_col] = scaler_target.transform(combined_data[[target_col]])\n",
    "\n",
    "# Crear secuencias con datos combinados\n",
    "X_combined, y_combined, _ = create_sequences(\n",
    "    combined_scaled, window_size, target_col, feature_cols\n",
    ")\n",
    "\n",
    "# Crear dataset y dataloader\n",
    "combined_dataset = DengueDataset(X_combined, y_combined)\n",
    "combined_loader = DataLoader(combined_dataset, batch_size=batch_size, shuffle=True)\n",
    "\n",
    "# Configurar modelo final\n",
    "input_size = len(feature_cols)\n",
    "model_final = GRUModel(input_size, hidden_size, num_layers, dropout_rate).to(device)\n",
    "criterion = nn.MSELoss()\n",
    "optimizer = torch.optim.Adam(model_final.parameters(), lr=learning_rate)\n",
    "\n",
    "# Entrenamiento del modelo final\n",
    "n_epochs = 40\n",
    "train_losses = []\n",
    "\n",
    "for epoch in range(n_epochs):\n",
    "    model_final.train()\n",
    "    epoch_loss = 0\n",
    "    \n",
    "    for x, y in combined_loader:\n",
    "        x, y = x.to(device), y.to(device)\n",
    "        \n",
    "        optimizer.zero_grad()\n",
    "        output = model_final(x)\n",
    "        loss = criterion(output, y)\n",
    "        loss.backward()\n",
    "        optimizer.step()\n",
    "        \n",
    "        epoch_loss += loss.item()\n",
    "    \n",
    "    avg_loss = epoch_loss / len(combined_loader)\n",
    "    train_losses.append(avg_loss)\n",
    "    \n",
    "    if (epoch + 1) % 10 == 0:\n",
    "        print(f\"Época {epoch+1}/{n_epochs}, Pérdida: {avg_loss:.4f}\")\n",
    "\n",
    "# Visualizar curva de pérdida\n",
    "fig = go.Figure()\n",
    "fig.add_trace(go.Scatter(x=list(range(1, n_epochs+1)), y=train_losses,\n",
    "                        mode='lines', name='Pérdida de Entrenamiento'))\n",
    "fig.update_layout(title='Curva de Pérdida durante el Entrenamiento',\n",
    "                  xaxis_title='Época', yaxis_title='MSE')\n",
    "fig.show()\n",
    "\n",
    "# ### 7. Generación de Pronósticos para 2022\n",
    "\n",
    "print(\"\\n### Generando pronósticos para 2022 ###\")\n",
    "\n",
    "# Preparar datos para pronóstico\n",
    "all_data = df.copy()\n",
    "all_data_scaled = all_data.copy()\n",
    "all_data_scaled[feature_cols] = scaler_features.transform(all_data[feature_cols])\n",
    "all_data_scaled[target_col] = scaler_target.transform(all_data[[target_col]])\n",
    "\n",
    "# Función para generar pronósticos autorregresivos\n",
    "def generate_forecasts(model, data, window_size, n_weeks_ahead, year):\n",
    "    \"\"\"\n",
    "    Genera pronósticos autorregresivos para un año completo\n",
    "    \"\"\"\n",
    "    model.eval()\n",
    "    forecasts = []\n",
    "    \n",
    "    # Para cada barrio\n",
    "    for barrio in data['id_bar'].unique():\n",
    "        barrio_data = data[data['id_bar'] == barrio].sort_index()\n",
    "        barrio_id = barrio_data['id_bar'].iloc[0]\n",
    "        \n",
    "        # Obtener última secuencia conocida\n",
    "        last_sequence = barrio_data[feature_cols].iloc[-window_size:].values\n",
    "        \n",
    "        # Para mantener los valores de lluvia y temperatura del último año conocido\n",
    "        # (asumiendo patrones estacionales)\n",
    "        climate_pattern = barrio_data[feature_cols].iloc[-52:].values\n",
    "        \n",
    "        # Generar pronósticos semana a semana\n",
    "        for week in range(1, n_weeks_ahead + 1):\n",
    "            # Preparar entrada\n",
    "            x = torch.FloatTensor(last_sequence).unsqueeze(0).to(device)\n",
    "            \n",
    "            # Hacer predicción\n",
    "            with torch.no_grad():\n",
    "                pred_scaled = model(x).cpu().numpy()[0, 0]\n",
    "            \n",
    "            # Desescalar predicción\n",
    "            pred_original_scale = scaler_target.inverse_transform([[pred_scaled]])[0, 0]\n",
    "            \n",
    "            # Asegurar que la predicción no sea negativa\n",
    "            pred_original_scale = max(0, pred_original_scale)\n",
    "            \n",
    "            # Guardar predicción\n",
    "            forecasts.append({\n",
    "                'id_bar': barrio_id,\n",
    "                'anio': year,\n",
    "                'semana': week,\n",
    "                'dengue': pred_original_scale\n",
    "            })\n",
    "            \n",
    "            # Actualizar secuencia para próxima predicción\n",
    "            # Usar valores climáticos del año anterior (patrón estacional)\n",
    "            climate_week_idx = (week - 1) % 52\n",
    "            new_climate = climate_pattern[climate_week_idx] if climate_week_idx < len(climate_pattern) else last_sequence[-1]\n",
    "            \n",
    "            # Actualizar ventana deslizante\n",
    "            last_sequence = np.vstack([last_sequence[1:], new_climate])\n",
    "    \n",
    "    return pd.DataFrame(forecasts)\n",
    "\n",
    "# Generar pronósticos para 2022\n",
    "forecasts_2022 = generate_forecasts(model_final, all_data_scaled, window_size, 52, 2022)\n",
    "\n",
    "print(f\"\\nPronósticos generados: {len(forecasts_2022)} registros\")\n",
    "print(\"\\nEstadísticas de pronósticos:\")\n",
    "print(forecasts_2022['dengue'].describe())\n",
    "\n",
    "# ### 8. Creación del Archivo de Salida\n",
    "\n",
    "# Crear DataFrame con formato requerido\n",
    "output_df = pd.DataFrame()\n",
    "output_df['id'] = (forecasts_2022['id_bar'].astype(str) + '_' + \n",
    "                   forecasts_2022['anio'].astype(str) + '_' + \n",
    "                   forecasts_2022['semana'].apply(lambda x: f\"{x:02d}\"))\n",
    "output_df['dengue'] = forecasts_2022['dengue'].round(2)\n",
    "\n",
    "# Verificar formato\n",
    "print(\"\\nPrimeras filas del archivo de salida:\")\n",
    "print(output_df.head(10))\n",
    "print(f\"\\nTotal de registros: {len(output_df)}\")\n",
    "\n",
    "# Guardar archivo CSV\n",
    "timestamp = datetime.now().strftime(\"%Y%m%d_%H%M%S\")\n",
    "output_filename = f'pronosticos_GRU_simple_{timestamp}.csv'\n",
    "output_df.to_csv(output_filename, index=False)\n",
    "print(f\"\\nArchivo '{output_filename}' guardado exitosamente.\")\n",
    "\n",
    "# Visualización de algunos pronósticos\n",
    "sample_barrios = forecasts_2022['id_bar'].unique()[:5]\n",
    "fig = go.Figure()\n",
    "\n",
    "for barrio in sample_barrios:\n",
    "    barrio_forecast = forecasts_2022[forecasts_2022['id_bar'] == barrio]\n",
    "    fig.add_trace(go.Scatter(\n",
    "        x=barrio_forecast['semana'],\n",
    "        y=barrio_forecast['dengue'],\n",
    "        mode='lines+markers',\n",
    "        name=f'Barrio {barrio}'\n",
    "    ))\n",
    "\n",
    "fig.update_layout(\n",
    "    title='Pronósticos de Dengue para 2022 (Muestra de 5 Barrios)',\n",
    "    xaxis_title='Semana del Año',\n",
    "    yaxis_title='Casos de Dengue',\n",
    "    hovermode='x unified'\n",
    ")\n",
    "fig.show()\n",
    "\n",
    "print(\"\\n### Proceso completado exitosamente ###\")"
   ]
  }
 ],
 "metadata": {
  "kernelspec": {
   "display_name": "venv",
   "language": "python",
   "name": "python3"
  },
  "language_info": {
   "codemirror_mode": {
    "name": "ipython",
    "version": 3
   },
   "file_extension": ".py",
   "mimetype": "text/x-python",
   "name": "python",
   "nbconvert_exporter": "python",
   "pygments_lexer": "ipython3",
   "version": "3.13.3"
  }
 },
 "nbformat": 4,
 "nbformat_minor": 5
}
