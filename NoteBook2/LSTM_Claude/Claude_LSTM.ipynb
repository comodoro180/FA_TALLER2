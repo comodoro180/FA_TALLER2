{
 "cells": [
  {
   "cell_type": "code",
   "execution_count": 1,
   "id": "39c45af6",
   "metadata": {},
   "outputs": [
    {
     "name": "stderr",
     "output_type": "stream",
     "text": [
      "[I 2025-06-22 19:04:44,380] A new study created in memory with name: no-name-261ab830-8d31-45fc-bd68-9ab54de1c367\n"
     ]
    },
    {
     "name": "stdout",
     "output_type": "stream",
     "text": [
      "Usando dispositivo: cuda\n",
      "Forma inicial del dataset: (3680, 20)\n",
      "Columnas: ['id', 'id_bar', 'anio', 'semana', 'ESTRATO', 'area_barrio', 'dengue', 'concentraciones', 'vivienda', 'equipesado', 'sumideros', 'maquina', 'lluvia_mean', 'lluvia_var', 'lluvia_max', 'lluvia_min', 'temperatura_mean', 'temperatura_var', 'temperatura_max', 'temperatura_min']\n",
      "\n",
      "Número de barrios únicos: 10\n",
      "Número de estratos únicos: 3\n",
      "\n",
      "Forma datos entrenamiento: (3150, 30)\n",
      "Forma datos validación: (530, 30)\n",
      "Rango de años en entrenamiento: 2015 - 2020\n",
      "Rango de años en validación: 2021 - 2021\n",
      "\n",
      "Forma X_train: (3098, 52, 29)\n",
      "Forma y_train: (3098,)\n",
      "Forma X_val: (478, 52, 29)\n",
      "Forma y_val: (478,)\n",
      "Número de características: 29\n",
      "\n",
      "Iniciando optimización de hiperparámetros con Optuna...\n"
     ]
    },
    {
     "data": {
      "application/vnd.jupyter.widget-view+json": {
       "model_id": "5fde4cfa88da4a55afc8b0e66c684f5d",
       "version_major": 2,
       "version_minor": 0
      },
      "text/plain": [
       "  0%|          | 0/50 [00:00<?, ?it/s]"
      ]
     },
     "metadata": {},
     "output_type": "display_data"
    },
    {
     "name": "stdout",
     "output_type": "stream",
     "text": [
      "[I 2025-06-22 19:04:55,968] Trial 0 finished with value: 0.0023041982203722 and parameters: {'n_units': 96, 'learning_rate': 0.0036884177739498064, 'dropout_rate': 0.4869028537738429, 'n_layers': 2, 'batch_size': 32}. Best is trial 0 with value: 0.0023041982203722.\n",
      "[I 2025-06-22 19:05:10,861] Trial 1 finished with value: 0.0024568610824644566 and parameters: {'n_units': 160, 'learning_rate': 0.0005932789979323596, 'dropout_rate': 0.37207464861701023, 'n_layers': 1, 'batch_size': 32}. Best is trial 0 with value: 0.0023041982203722.\n",
      "[I 2025-06-22 19:05:27,202] Trial 2 finished with value: 0.0024551101960241795 and parameters: {'n_units': 192, 'learning_rate': 0.0011753135306519344, 'dropout_rate': 0.24728694389380892, 'n_layers': 1, 'batch_size': 32}. Best is trial 0 with value: 0.0023041982203722.\n",
      "[I 2025-06-22 19:05:30,018] Trial 3 finished with value: 0.0023695973213762045 and parameters: {'n_units': 96, 'learning_rate': 0.0012371390359859427, 'dropout_rate': 0.2997259976111917, 'n_layers': 2, 'batch_size': 128}. Best is trial 0 with value: 0.0023041982203722.\n",
      "[I 2025-06-22 19:05:32,723] Trial 4 finished with value: 0.002378968521952629 and parameters: {'n_units': 128, 'learning_rate': 0.0003890964906123772, 'dropout_rate': 0.48002206755285226, 'n_layers': 1, 'batch_size': 128}. Best is trial 0 with value: 0.0023041982203722.\n",
      "[I 2025-06-22 19:05:47,341] Trial 5 finished with value: 0.0023574689403176308 and parameters: {'n_units': 192, 'learning_rate': 0.00011968855091825997, 'dropout_rate': 0.14038932187764638, 'n_layers': 2, 'batch_size': 64}. Best is trial 0 with value: 0.0023041982203722.\n",
      "[I 2025-06-22 19:06:13,784] Trial 6 finished with value: 0.0023513962514698505 and parameters: {'n_units': 256, 'learning_rate': 0.0003384257652220692, 'dropout_rate': 0.44720042801889026, 'n_layers': 2, 'batch_size': 32}. Best is trial 0 with value: 0.0023041982203722.\n",
      "[I 2025-06-22 19:06:38,380] Trial 7 finished with value: 0.0024134598206728697 and parameters: {'n_units': 192, 'learning_rate': 0.00016521581553487877, 'dropout_rate': 0.4792625331376018, 'n_layers': 3, 'batch_size': 128}. Best is trial 0 with value: 0.0023041982203722.\n",
      "[I 2025-06-22 19:06:59,085] Trial 8 finished with value: 0.002379543147981167 and parameters: {'n_units': 128, 'learning_rate': 0.002364587461923389, 'dropout_rate': 0.18761037543493472, 'n_layers': 3, 'batch_size': 64}. Best is trial 0 with value: 0.0023041982203722.\n",
      "[I 2025-06-22 19:07:09,810] Trial 9 finished with value: 0.0023990555200725794 and parameters: {'n_units': 96, 'learning_rate': 0.00012346338983633897, 'dropout_rate': 0.46398223673658123, 'n_layers': 2, 'batch_size': 128}. Best is trial 0 with value: 0.0023041982203722.\n",
      "[I 2025-06-22 19:07:45,086] Trial 10 finished with value: 0.002753587905317545 and parameters: {'n_units': 32, 'learning_rate': 0.0063530887675115055, 'dropout_rate': 0.3693395381523727, 'n_layers': 3, 'batch_size': 32}. Best is trial 0 with value: 0.0023041982203722.\n",
      "[I 2025-06-22 19:08:42,983] Trial 11 finished with value: 0.012121319770812988 and parameters: {'n_units': 256, 'learning_rate': 0.008678201595423918, 'dropout_rate': 0.3979149023724283, 'n_layers': 2, 'batch_size': 32}. Best is trial 0 with value: 0.0023041982203722.\n",
      "[I 2025-06-22 19:09:14,617] Trial 12 finished with value: 0.002335662953555584 and parameters: {'n_units': 256, 'learning_rate': 0.004176719594193058, 'dropout_rate': 0.4209324916488496, 'n_layers': 2, 'batch_size': 32}. Best is trial 0 with value: 0.0023041982203722.\n",
      "[I 2025-06-22 19:09:25,940] Trial 13 finished with value: 0.003504317020997405 and parameters: {'n_units': 64, 'learning_rate': 0.003396960118515168, 'dropout_rate': 0.4070950579136654, 'n_layers': 2, 'batch_size': 32}. Best is trial 0 with value: 0.0023041982203722.\n",
      "[I 2025-06-22 19:10:05,255] Trial 14 finished with value: 0.002622989472001791 and parameters: {'n_units': 224, 'learning_rate': 0.004095341764985551, 'dropout_rate': 0.318343841527802, 'n_layers': 3, 'batch_size': 32}. Best is trial 0 with value: 0.0023041982203722.\n",
      "[I 2025-06-22 19:10:15,981] Trial 15 finished with value: 0.00239810673519969 and parameters: {'n_units': 32, 'learning_rate': 0.0020222991940324437, 'dropout_rate': 0.425095517952225, 'n_layers': 1, 'batch_size': 32}. Best is trial 0 with value: 0.0023041982203722.\n",
      "[I 2025-06-22 19:10:21,819] Trial 16 finished with value: 0.0023292023688554764 and parameters: {'n_units': 96, 'learning_rate': 0.005296066438095557, 'dropout_rate': 0.49941472695999806, 'n_layers': 2, 'batch_size': 64}. Best is trial 0 with value: 0.0023041982203722.\n",
      "[I 2025-06-22 19:10:27,608] Trial 17 finished with value: 0.0024418362881988287 and parameters: {'n_units': 96, 'learning_rate': 0.009614252741316174, 'dropout_rate': 0.4997376157755732, 'n_layers': 2, 'batch_size': 64}. Best is trial 0 with value: 0.0023041982203722.\n",
      "[I 2025-06-22 19:10:32,857] Trial 18 finished with value: 0.002390860812738538 and parameters: {'n_units': 64, 'learning_rate': 0.0019075866927839933, 'dropout_rate': 0.32328860015151095, 'n_layers': 1, 'batch_size': 64}. Best is trial 0 with value: 0.0023041982203722.\n",
      "[I 2025-06-22 19:10:39,891] Trial 19 finished with value: 0.0024800633545964956 and parameters: {'n_units': 64, 'learning_rate': 0.005839701598123939, 'dropout_rate': 0.24200131765422883, 'n_layers': 3, 'batch_size': 64}. Best is trial 0 with value: 0.0023041982203722.\n",
      "[I 2025-06-22 19:10:52,695] Trial 20 finished with value: 0.0025188778527081013 and parameters: {'n_units': 160, 'learning_rate': 0.000722931110696465, 'dropout_rate': 0.35988321506577375, 'n_layers': 2, 'batch_size': 64}. Best is trial 0 with value: 0.0023041982203722.\n",
      "[I 2025-06-22 19:11:03,007] Trial 21 finished with value: 0.0025809265207499266 and parameters: {'n_units': 128, 'learning_rate': 0.004219420452736007, 'dropout_rate': 0.4350278252182809, 'n_layers': 2, 'batch_size': 32}. Best is trial 0 with value: 0.0023041982203722.\n",
      "[I 2025-06-22 19:11:13,085] Trial 22 finished with value: 0.0025416866410523653 and parameters: {'n_units': 96, 'learning_rate': 0.0028136952744709496, 'dropout_rate': 0.49149770895701583, 'n_layers': 2, 'batch_size': 32}. Best is trial 0 with value: 0.0023041982203722.\n",
      "[I 2025-06-22 19:11:38,821] Trial 23 finished with value: 0.002423852449283004 and parameters: {'n_units': 224, 'learning_rate': 0.0061591145793626675, 'dropout_rate': 0.4470301467067147, 'n_layers': 2, 'batch_size': 64}. Best is trial 0 with value: 0.0023041982203722.\n",
      "[I 2025-06-22 19:12:30,834] Trial 24 finished with value: 0.002549487864598632 and parameters: {'n_units': 160, 'learning_rate': 0.0014527550534856827, 'dropout_rate': 0.4069917680021967, 'n_layers': 2, 'batch_size': 32}. Best is trial 0 with value: 0.0023041982203722.\n",
      "[I 2025-06-22 19:12:44,918] Trial 25 finished with value: 0.002438163850456476 and parameters: {'n_units': 64, 'learning_rate': 0.004882845474567546, 'dropout_rate': 0.4621667270890762, 'n_layers': 2, 'batch_size': 64}. Best is trial 0 with value: 0.0023041982203722.\n",
      "[I 2025-06-22 19:13:05,937] Trial 26 finished with value: 0.002378296572715044 and parameters: {'n_units': 128, 'learning_rate': 0.0030661045356502885, 'dropout_rate': 0.42116567840087865, 'n_layers': 1, 'batch_size': 32}. Best is trial 0 with value: 0.0023041982203722.\n",
      "[I 2025-06-22 19:13:31,414] Trial 27 finished with value: 0.0025802471209317446 and parameters: {'n_units': 96, 'learning_rate': 0.007600639919803198, 'dropout_rate': 0.4950782996302568, 'n_layers': 3, 'batch_size': 32}. Best is trial 0 with value: 0.0023041982203722.\n",
      "[I 2025-06-22 19:13:51,217] Trial 28 finished with value: 0.0024836971424520016 and parameters: {'n_units': 224, 'learning_rate': 0.0016856165434893202, 'dropout_rate': 0.451749458129838, 'n_layers': 2, 'batch_size': 128}. Best is trial 0 with value: 0.0023041982203722.\n",
      "[I 2025-06-22 19:14:02,854] Trial 29 finished with value: 0.002368123969063163 and parameters: {'n_units': 32, 'learning_rate': 0.0009622885195961293, 'dropout_rate': 0.38032348376436603, 'n_layers': 1, 'batch_size': 64}. Best is trial 0 with value: 0.0023041982203722.\n",
      "[I 2025-06-22 19:14:54,867] Trial 30 finished with value: 0.0023589131888002157 and parameters: {'n_units': 160, 'learning_rate': 0.004160497377483547, 'dropout_rate': 0.34060202771840853, 'n_layers': 2, 'batch_size': 32}. Best is trial 0 with value: 0.0023041982203722.\n",
      "[I 2025-06-22 19:15:42,415] Trial 31 finished with value: 0.0023420783691108227 and parameters: {'n_units': 256, 'learning_rate': 0.00034805588803664254, 'dropout_rate': 0.454756198415185, 'n_layers': 2, 'batch_size': 32}. Best is trial 0 with value: 0.0023041982203722.\n",
      "[I 2025-06-22 19:16:08,937] Trial 32 finished with value: 0.0023803026415407658 and parameters: {'n_units': 256, 'learning_rate': 0.00026614645194288956, 'dropout_rate': 0.46939160214253767, 'n_layers': 2, 'batch_size': 32}. Best is trial 0 with value: 0.0023041982203722.\n",
      "[I 2025-06-22 19:16:51,903] Trial 33 finished with value: 0.002814289415255189 and parameters: {'n_units': 192, 'learning_rate': 0.0003909822258245078, 'dropout_rate': 0.2626603060717355, 'n_layers': 2, 'batch_size': 32}. Best is trial 0 with value: 0.0023041982203722.\n",
      "[I 2025-06-22 19:17:21,128] Trial 34 finished with value: 0.0024640834890305996 and parameters: {'n_units': 224, 'learning_rate': 0.0005775945335869257, 'dropout_rate': 0.4333505111815935, 'n_layers': 2, 'batch_size': 32}. Best is trial 0 with value: 0.0023041982203722.\n",
      "[I 2025-06-22 19:17:47,333] Trial 35 finished with value: 0.002500563394278288 and parameters: {'n_units': 256, 'learning_rate': 0.0005755527709196229, 'dropout_rate': 0.4989214563150323, 'n_layers': 2, 'batch_size': 32}. Best is trial 0 with value: 0.0023041982203722.\n",
      "[I 2025-06-22 19:17:52,088] Trial 36 finished with value: 0.0025521202478557825 and parameters: {'n_units': 256, 'learning_rate': 0.0011523412798358863, 'dropout_rate': 0.3879842041447197, 'n_layers': 1, 'batch_size': 128}. Best is trial 0 with value: 0.0023041982203722.\n",
      "[I 2025-06-22 19:18:18,892] Trial 37 finished with value: 0.002467494457960129 and parameters: {'n_units': 224, 'learning_rate': 0.00026642372928200377, 'dropout_rate': 0.2854873117612897, 'n_layers': 2, 'batch_size': 32}. Best is trial 0 with value: 0.0023041982203722.\n",
      "[I 2025-06-22 19:18:23,205] Trial 38 finished with value: 0.002374077681452036 and parameters: {'n_units': 128, 'learning_rate': 0.0008581730939330864, 'dropout_rate': 0.11245143966503296, 'n_layers': 1, 'batch_size': 64}. Best is trial 0 with value: 0.0023041982203722.\n",
      "[I 2025-06-22 19:18:34,722] Trial 39 finished with value: 0.0028565421234816313 and parameters: {'n_units': 160, 'learning_rate': 0.002296744433397993, 'dropout_rate': 0.46372380262002477, 'n_layers': 2, 'batch_size': 128}. Best is trial 0 with value: 0.0023041982203722.\n",
      "[I 2025-06-22 19:19:10,420] Trial 40 finished with value: 0.0024418735411018133 and parameters: {'n_units': 192, 'learning_rate': 0.005150057560240037, 'dropout_rate': 0.4832474635431004, 'n_layers': 3, 'batch_size': 32}. Best is trial 0 with value: 0.0023041982203722.\n",
      "[I 2025-06-22 19:19:40,528] Trial 41 finished with value: 0.0023733745329082012 and parameters: {'n_units': 256, 'learning_rate': 0.00026082694485030116, 'dropout_rate': 0.4451749663922946, 'n_layers': 2, 'batch_size': 32}. Best is trial 0 with value: 0.0023041982203722.\n",
      "[I 2025-06-22 19:20:07,465] Trial 42 finished with value: 0.0023714862763881683 and parameters: {'n_units': 256, 'learning_rate': 0.0004148886084196016, 'dropout_rate': 0.4750677435838499, 'n_layers': 2, 'batch_size': 32}. Best is trial 0 with value: 0.0023041982203722.\n",
      "[I 2025-06-22 19:20:41,481] Trial 43 finished with value: 0.002370622707530856 and parameters: {'n_units': 224, 'learning_rate': 0.0001751837200127047, 'dropout_rate': 0.44624562748202323, 'n_layers': 2, 'batch_size': 32}. Best is trial 0 with value: 0.0023041982203722.\n",
      "[I 2025-06-22 19:21:11,258] Trial 44 finished with value: 0.002320755273103714 and parameters: {'n_units': 256, 'learning_rate': 0.0002184653598326075, 'dropout_rate': 0.4196035063478409, 'n_layers': 2, 'batch_size': 32}. Best is trial 0 with value: 0.0023041982203722.\n",
      "[I 2025-06-22 19:21:54,421] Trial 45 finished with value: 0.0023996043018996716 and parameters: {'n_units': 256, 'learning_rate': 0.00020341333741863798, 'dropout_rate': 0.42318822986894383, 'n_layers': 2, 'batch_size': 32}. Best is trial 0 with value: 0.0023041982203722.\n",
      "[I 2025-06-22 19:22:26,003] Trial 46 finished with value: 0.0024749464355409145 and parameters: {'n_units': 96, 'learning_rate': 0.00013112199234202563, 'dropout_rate': 0.21026536732013446, 'n_layers': 2, 'batch_size': 32}. Best is trial 0 with value: 0.0023041982203722.\n",
      "[I 2025-06-22 19:22:46,256] Trial 47 finished with value: 0.002333371201530099 and parameters: {'n_units': 224, 'learning_rate': 0.003524179870291665, 'dropout_rate': 0.34938750855643735, 'n_layers': 2, 'batch_size': 128}. Best is trial 0 with value: 0.0023041982203722.\n",
      "[I 2025-06-22 19:22:55,155] Trial 48 finished with value: 0.0026336980517953634 and parameters: {'n_units': 224, 'learning_rate': 0.007318779933051831, 'dropout_rate': 0.35876379221269894, 'n_layers': 2, 'batch_size': 128}. Best is trial 0 with value: 0.0023041982203722.\n",
      "[I 2025-06-22 19:22:58,472] Trial 49 finished with value: 0.002352028386667371 and parameters: {'n_units': 64, 'learning_rate': 0.003363519682102645, 'dropout_rate': 0.3354014142629172, 'n_layers': 2, 'batch_size': 128}. Best is trial 0 with value: 0.0023041982203722.\n",
      "\n",
      "Mejores hiperparámetros encontrados:\n",
      "{'n_units': 96, 'learning_rate': 0.0036884177739498064, 'dropout_rate': 0.4869028537738429, 'n_layers': 2, 'batch_size': 32}\n",
      "Mejor MSE en validación: 0.002304\n",
      "\n",
      "Forma datos combinados X_all: (3628, 52, 29)\n",
      "Forma datos combinados y_all: (3628,)\n",
      "\n",
      "Entrenando modelo final...\n",
      "Época [10/100], Loss: 0.006768\n",
      "Época [20/100], Loss: 0.006222\n",
      "Época [30/100], Loss: 0.005826\n",
      "Época [40/100], Loss: 0.005374\n",
      "Época [50/100], Loss: 0.005105\n",
      "Época [60/100], Loss: 0.004861\n",
      "Época [70/100], Loss: 0.004373\n",
      "Época [80/100], Loss: 0.003788\n",
      "Época [90/100], Loss: 0.003560\n",
      "Época [100/100], Loss: 0.003704\n"
     ]
    },
    {
     "data": {
      "image/png": "[encoded data removed]",
      "text/plain": [
       "<Figure size 1000x600 with 1 Axes>"
      ]
     },
     "metadata": {},
     "output_type": "display_data"
    },
    {
     "name": "stdout",
     "output_type": "stream",
     "text": [
      "\n",
      "Número de barrios a pronosticar: 10\n",
      "\n",
      "Generando pronósticos para barrio 0...\n",
      "\n",
      "Generando pronósticos para barrio 1...\n",
      "\n",
      "Generando pronósticos para barrio 2...\n",
      "\n",
      "Generando pronósticos para barrio 3...\n",
      "\n",
      "Generando pronósticos para barrio 4...\n",
      "\n",
      "Generando pronósticos para barrio 5...\n",
      "\n",
      "Generando pronósticos para barrio 6...\n",
      "\n",
      "Generando pronósticos para barrio 7...\n",
      "\n",
      "Generando pronósticos para barrio 8...\n",
      "\n",
      "Generando pronósticos para barrio 9...\n",
      "\n",
      "Forma del archivo de submission: (520, 2)\n",
      "Primeras filas:\n",
      "          id    dengue\n",
      "0  0_2022_01  3.338366\n",
      "1  0_2022_02  3.885648\n",
      "2  0_2022_03  4.317502\n",
      "3  0_2022_04  4.522111\n",
      "4  0_2022_05  6.196944\n",
      "5  0_2022_06  8.244981\n",
      "6  0_2022_07  8.320756\n",
      "7  0_2022_08  8.326799\n",
      "8  0_2022_09  8.164601\n",
      "9  0_2022_10  8.031448\n",
      "\n",
      "Últimas filas:\n",
      "            id     dengue\n",
      "510  9_2022_43   9.750361\n",
      "511  9_2022_44   9.878816\n",
      "512  9_2022_45   9.975528\n",
      "513  9_2022_46  10.036136\n",
      "514  9_2022_47  10.077988\n",
      "515  9_2022_48  10.107142\n",
      "516  9_2022_49  10.136689\n",
      "517  9_2022_50  10.199942\n",
      "518  9_2022_51  10.269758\n",
      "519  9_2022_52  10.341980\n",
      "\n",
      "Estadísticas de las predicciones:\n",
      "count    520.000000\n",
      "mean       3.861923\n",
      "std        3.349040\n",
      "min        0.640870\n",
      "25%        1.513833\n",
      "50%        2.010644\n",
      "75%        6.591780\n",
      "max       12.465441\n",
      "Name: dengue, dtype: float64\n",
      "\n",
      "Archivo 'pronosticos_dengue_2022.csv' guardado exitosamente!\n"
     ]
    },
    {
     "data": {
      "application/vnd.plotly.v1+json": {
       "config": {
        "plotlyServerURL": "https://plot.ly"
       },
       "data": [
        {
         "mode": "lines+markers",
         "name": "Barrio 0",
         "type": "scatter",
         "x": [
          1,
          2,
          3,
          4,
          5,
          6,
          7,
          8,
          9,
          10,
          11,
          12,
          13,
          14,
          15,
          16,
          17,
          18,
          19,
          20,
          21,
          22,
          23,
          24,
          25,
          26,
          27,
          28,
          29,
          30,
          31,
          32,
          33,
          34,
          35,
          36,
          37,
          38,
          39,
          40,
          41,
          42,
          43,
          44,
          45,
          46,
          47,
          48,
          49,
          50,
          51,
          52
         ],
         "y": {
          "bdata": "AAAAb/m0CkAAAADMzhUPQAAAAFsfRRFAAAAAVKQWEkAAAACkq8kYQAAAACJufSBAAAAALjqkIEAAAAA+UqcgQAAAAKNGVCBAAAAA9hkQIEAAAAAWfrEfQAAAADIMih9AAAAApDZyH0AAAAAc/0QfQAAAAHT5Nh9AAAAAkmskH0AAAAAxN0MgQAAAAOpWdiBAAAAAzCYoIEAAAACs6AcgQAAAACLv+R9AAAAARzkMIEAAAADDGjwgQAAAAGk6YyBAAAAA1i6jIEAAAACwjS8hQAAAADpGnSFAAAAA/3WFIUAAAABOpDshQAAAAE4L7iBAAAAABM3RIEAAAABMyeggQAAAALuW+yBAAAAAjVUOIUAAAADUgxkhQAAAANBuKyFAAAAAqwMlIUAAAADx3CUhQAAAAK34KyFAAAAA9WQrIUAAAAC8pTEhQAAAABwlNSFAAAAAqEkrIUAAAAAckSIhQAAAAPMhICFAAAAAvYEdIUAAAAAmNhshQAAAACsGFyFAAAAADTAVIUAAAAAjxxMhQAAAAGu/EiFAAAAAOYATIUA=",
          "dtype": "f8"
         }
        },
        {
         "mode": "lines+markers",
         "name": "Barrio 1",
         "type": "scatter",
         "x": [
          1,
          2,
          3,
          4,
          5,
          6,
          7,
          8,
          9,
          10,
          11,
          12,
          13,
          14,
          15,
          16,
          17,
          18,
          19,
          20,
          21,
          22,
          23,
          24,
          25,
          26,
          27,
          28,
          29,
          30,
          31,
          32,
          33,
          34,
          35,
          36,
          37,
          38,
          39,
          40,
          41,
          42,
          43,
          44,
          45,
          46,
          47,
          48,
          49,
          50,
          51,
          52
         ],
         "y": {
          "bdata": "AAAAIVKB9D8AAACnH9v0PwAAABZAEPU/AAAAZkxP9T8AAACLXqD1PwAAABpbCvY/AAAAoDmQ9j8AAABLuT73PwAAAM49Hvg/AAAAoHcm+T8AAACGlXP6PwAAAJ1v/fs/AAAABLm3/T8AAACkk+3/PwAAALYGJAFAAAAAtQBjAkAAAABu/4IDQAAAAEuznARAAAAAllGzBUAAAAAkOrEGQAAAAMlApQdAAAAAD0CKCEAAAABcR24JQAAAAHB2UwpAAAAA0/JRC0AAAABCIlUMQAAAAKiGXA1AAAAAwDmGDkAAAADOEpsPQAAAAHSrWxBAAAAAGJ31EEAAAAA74JIRQAAAAG6AHhJAAAAAwtzFEkAAAACcZmwTQAAAAEIzHxRAAAAAcqfZFEAAAACuyp0VQAAAAGqPbhZAAAAAiD5WF0AAAACGjj8YQAAAAN1sQxlAAAAAMz9dGkAAAAAeAYYbQAAAALYGshxAAAAAcmfiHUAAAACmsgMfQAAAAJlJGyBAAAAAHGmmIEAAAAAPgiMhQAAAAKWpkyFAAAAAbp/wIUA=",
          "dtype": "f8"
         }
        },
        {
         "mode": "lines+markers",
         "name": "Barrio 2",
         "type": "scatter",
         "x": [
          1,
          2,
          3,
          4,
          5,
          6,
          7,
          8,
          9,
          10,
          11,
          12,
          13,
          14,
          15,
          16,
          17,
          18,
          19,
          20,
          21,
          22,
          23,
          24,
          25,
          26,
          27,
          28,
          29,
          30,
          31,
          32,
          33,
          34,
          35,
          36,
          37,
          38,
          39,
          40,
          41,
          42,
          43,
          44,
          45,
          46,
          47,
          48,
          49,
          50,
          51,
          52
         ],
         "y": {
          "bdata": "AAAA5C7U/D8AAACElyj9PwAAAOj1iP0/AAAAYnbh/T8AAACUKaf9PwAAAOzHtP0/AAAA7j+//T8AAADiSb79PwAAAKqBwf0/AAAA4mrW/T8AAADupsj9PwAAACRfyv0/AAAAyLTn/T8AAAAcEeH9PwAAADr98v0/AAAA0Fnu/T8AAAAE8gj+PwAAANgUBf4/AAAAfLD2/T8AAADsQwL+PwAAAODE9v0/AAAAuCYS/j8AAACIFRT+PwAAADwOLv4/AAAAKF0W/j8AAACofCX+PwAAAAAIGP4/AAAAkgzv/T8AAAAEC/H9PwAAAEy6z/0/AAAAwIPh/T8AAACc3g3+PwAAABSLIP4/AAAAMnkE/j8AAABa2CH+PwAAAMimB/4/AAAA7C8b/j8AAABoizX+PwAAAG6uTP4/AAAA0MhE/j8AAAAYYF7+PwAAAEJNef4/AAAAKoqF/j8AAACwZJz+PwAAABBNtf4/AAAAcujB/j8AAAAQaOP+PwAAANJT+/4/AAAAPOwU/z8AAADU1ir/PwAAAKqXSv8/AAAAHLhN/z8=",
          "dtype": "f8"
         }
        },
        {
         "mode": "lines+markers",
         "name": "Barrio 3",
         "type": "scatter",
         "x": [
          1,
          2,
          3,
          4,
          5,
          6,
          7,
          8,
          9,
          10,
          11,
          12,
          13,
          14,
          15,
          16,
          17,
          18,
          19,
          20,
          21,
          22,
          23,
          24,
          25,
          26,
          27,
          28,
          29,
          30,
          31,
          32,
          33,
          34,
          35,
          36,
          37,
          38,
          39,
          40,
          41,
          42,
          43,
          44,
          45,
          46,
          47,
          48,
          49,
          50,
          51,
          52
         ],
         "y": {
          "bdata": "AAAAvAKC5D8AAAB8VZnlPwAAANwX0+U/AAAAJDzV5T8AAAAkA9vlPwAAACSV4eU/AAAAEDXg5T8AAADUQN/lPwAAAPxQ1eU/AAAAtIXC5T8AAABoP77lPwAAAFTvxeU/AAAADGHF5T8AAAC0ftLlPwAAAKSY2eU/AAAAHJ7b5T8AAAAcPdnlPwAAADxn2OU/AAAA3HTa5T8AAACw+NjlPwAAAHT/1uU/AAAA9DjU5T8AAACALtLlPwAAAIyJ0OU/AAAAVK3P5T8AAABgj8zlPwAAABwsyuU/AAAAREfI5T8AAADo38TlPwAAAEjlwOU/AAAAZKm75T8AAAC0obzlPwAAAKwbwuU/AAAAVKW85T8AAAD4WbPlPwAAAKikruU/AAAAEPOv5T8AAAD8pazlPwAAABClq+U/AAAAkHqx5T8AAACQYrLlPwAAAHhttOU/AAAAPIur5T8AAAAsmqrlPwAAAIBJqeU/AAAAxF2h5T8AAAA0hqjlPwAAANRDt+U/AAAAdBDJ5T8AAACMkszlPwAAANRHz+U/AAAAHITQ5T8=",
          "dtype": "f8"
         }
        },
        {
         "mode": "lines+markers",
         "name": "Barrio 4",
         "type": "scatter",
         "x": [
          1,
          2,
          3,
          4,
          5,
          6,
          7,
          8,
          9,
          10,
          11,
          12,
          13,
          14,
          15,
          16,
          17,
          18,
          19,
          20,
          21,
          22,
          23,
          24,
          25,
          26,
          27,
          28,
          29,
          30,
          31,
          32,
          33,
          34,
          35,
          36,
          37,
          38,
          39,
          40,
          41,
          42,
          43,
          44,
          45,
          46,
          47,
          48,
          49,
          50,
          51,
          52
         ],
         "y": {
          "bdata": "AAAAyk9e+z8AAACwZTz7PwAAANL6Mfs/AAAAUFez+j8AAACvW1n6PwAAAHpiYPo/AAAALn/B+j8AAABYHWP7PwAAANqUGPw/AAAAIa3B/D8AAABKzUr9PwAAALweqf0/AAAApLXk/T8AAABkgA/+PwAAAMJuPf4/AAAAyFN2/j8AAAAoHLf+PwAAAFAr/v4/AAAAJExF/z8AAABIhoj/PwAAAFTnx/8/AAAAv1QBAEAAAABObxoAQAAAAJ8sKwBAAAAAhJE3AEAAAACic0cAQAAAAGiYWgBAAAAADFJvAEAAAABQUoAAQAAAADoalQBAAAAAMHiuAEAAAABMMsQAQAAAAHzd2wBAAAAA4UjyAEAAAABs3wABQAAAAPBoDwFAAAAAPT4eAUAAAAAyLigBQAAAADylLgFAAAAAbkY2AUAAAABwZ0ABQAAAANJLUAFAAAAAUbNjAUAAAAA2YXMBQAAAAFKOgwFAAAAASPyIAUAAAAB0HIkBQAAAAMSMhQFAAAAAOnmQAUAAAADWY6cBQAAAAGwRuQFAAAAAHHfFAUA=",
          "dtype": "f8"
         }
        }
       ],
       "layout": {
        "hovermode": "x unified",
        "template": {
         "data": {
          "bar": [
           {
            "error_x": {
             "color": "#2a3f5f"
            },
            "error_y": {
             "color": "#2a3f5f"
            },
            "marker": {
             "line": {
              "color": "#E5ECF6",
              "width": 0.5
             },
             "pattern": {
              "fillmode": "overlay",
              "size": 10,
              "solidity": 0.2
             }
            },
            "type": "bar"
           }
          ],
          "barpolar": [
           {
            "marker": {
             "line": {
              "color": "#E5ECF6",
              "width": 0.5
             },
             "pattern": {
              "fillmode": "overlay",
              "size": 10,
              "solidity": 0.2
             }
            },
            "type": "barpolar"
           }
          ],
          "carpet": [
           {
            "aaxis": {
             "endlinecolor": "#2a3f5f",
             "gridcolor": "white",
             "linecolor": "white",
             "minorgridcolor": "white",
             "startlinecolor": "#2a3f5f"
            },
            "baxis": {
             "endlinecolor": "#2a3f5f",
             "gridcolor": "white",
             "linecolor": "white",
             "minorgridcolor": "white",
             "startlinecolor": "#2a3f5f"
            },
            "type": "carpet"
           }
          ],
          "choropleth": [
           {
            "colorbar": {
             "outlinewidth": 0,
             "ticks": ""
            },
            "type": "choropleth"
           }
          ],
          "contour": [
           {
            "colorbar": {
             "outlinewidth": 0,
             "ticks": ""
            },
            "colorscale": [
             [
              0,
              "#0d0887"
             ],
             [
              0.1111111111111111,
              "#46039f"
             ],
             [
              0.2222222222222222,
              "#7201a8"
             ],
             [
              0.3333333333333333,
              "#9c179e"
             ],
             [
              0.4444444444444444,
              "#bd3786"
             ],
             [
              0.5555555555555556,
              "#d8576b"
             ],
             [
              0.6666666666666666,
              "#ed7953"
             ],
             [
              0.7777777777777778,
              "#fb9f3a"
             ],
             [
              0.8888888888888888,
              "#fdca26"
             ],
             [
              1,
              "#f0f921"
             ]
            ],
            "type": "contour"
           }
          ],
          "contourcarpet": [
           {
            "colorbar": {
             "outlinewidth": 0,
             "ticks": ""
            },
            "type": "contourcarpet"
           }
          ],
          "heatmap": [
           {
            "colorbar": {
             "outlinewidth": 0,
             "ticks": ""
            },
            "colorscale": [
             [
              0,
              "#0d0887"
             ],
             [
              0.1111111111111111,
              "#46039f"
             ],
             [
              0.2222222222222222,
              "#7201a8"
             ],
             [
              0.3333333333333333,
              "#9c179e"
             ],
             [
              0.4444444444444444,
              "#bd3786"
             ],
             [
              0.5555555555555556,
              "#d8576b"
             ],
             [
              0.6666666666666666,
              "#ed7953"
             ],
             [
              0.7777777777777778,
              "#fb9f3a"
             ],
             [
              0.8888888888888888,
              "#fdca26"
             ],
             [
              1,
              "#f0f921"
             ]
            ],
            "type": "heatmap"
           }
          ],
          "histogram": [
           {
            "marker": {
             "pattern": {
              "fillmode": "overlay",
              "size": 10,
              "solidity": 0.2
             }
            },
            "type": "histogram"
           }
          ],
          "histogram2d": [
           {
            "colorbar": {
             "outlinewidth": 0,
             "ticks": ""
            },
            "colorscale": [
             [
              0,
              "#0d0887"
             ],
             [
              0.1111111111111111,
              "#46039f"
             ],
             [
              0.2222222222222222,
              "#7201a8"
             ],
             [
              0.3333333333333333,
              "#9c179e"
             ],
             [
              0.4444444444444444,
              "#bd3786"
             ],
             [
              0.5555555555555556,
              "#d8576b"
             ],
             [
              0.6666666666666666,
              "#ed7953"
             ],
             [
              0.7777777777777778,
              "#fb9f3a"
             ],
             [
              0.8888888888888888,
              "#fdca26"
             ],
             [
              1,
              "#f0f921"
             ]
            ],
            "type": "histogram2d"
           }
          ],
          "histogram2dcontour": [
           {
            "colorbar": {
             "outlinewidth": 0,
             "ticks": ""
            },
            "colorscale": [
             [
              0,
              "#0d0887"
             ],
             [
              0.1111111111111111,
              "#46039f"
             ],
             [
              0.2222222222222222,
              "#7201a8"
             ],
             [
              0.3333333333333333,
              "#9c179e"
             ],
             [
              0.4444444444444444,
              "#bd3786"
             ],
             [
              0.5555555555555556,
              "#d8576b"
             ],
             [
              0.6666666666666666,
              "#ed7953"
             ],
             [
              0.7777777777777778,
              "#fb9f3a"
             ],
             [
              0.8888888888888888,
              "#fdca26"
             ],
             [
              1,
              "#f0f921"
             ]
            ],
            "type": "histogram2dcontour"
           }
          ],
          "mesh3d": [
           {
            "colorbar": {
             "outlinewidth": 0,
             "ticks": ""
            },
            "type": "mesh3d"
           }
          ],
          "parcoords": [
           {
            "line": {
             "colorbar": {
              "outlinewidth": 0,
              "ticks": ""
             }
            },
            "type": "parcoords"
           }
          ],
          "pie": [
           {
            "automargin": true,
            "type": "pie"
           }
          ],
          "scatter": [
           {
            "fillpattern": {
             "fillmode": "overlay",
             "size": 10,
             "solidity": 0.2
            },
            "type": "scatter"
           }
          ],
          "scatter3d": [
           {
            "line": {
             "colorbar": {
              "outlinewidth": 0,
              "ticks": ""
             }
            },
            "marker": {
             "colorbar": {
              "outlinewidth": 0,
              "ticks": ""
             }
            },
            "type": "scatter3d"
           }
          ],
          "scattercarpet": [
           {
            "marker": {
             "colorbar": {
              "outlinewidth": 0,
              "ticks": ""
             }
            },
            "type": "scattercarpet"
           }
          ],
          "scattergeo": [
           {
            "marker": {
             "colorbar": {
              "outlinewidth": 0,
              "ticks": ""
             }
            },
            "type": "scattergeo"
           }
          ],
          "scattergl": [
           {
            "marker": {
             "colorbar": {
              "outlinewidth": 0,
              "ticks": ""
             }
            },
            "type": "scattergl"
           }
          ],
          "scattermap": [
           {
            "marker": {
             "colorbar": {
              "outlinewidth": 0,
              "ticks": ""
             }
            },
            "type": "scattermap"
           }
          ],
          "scattermapbox": [
           {
            "marker": {
             "colorbar": {
              "outlinewidth": 0,
              "ticks": ""
             }
            },
            "type": "scattermapbox"
           }
          ],
          "scatterpolar": [
           {
            "marker": {
             "colorbar": {
              "outlinewidth": 0,
              "ticks": ""
             }
            },
            "type": "scatterpolar"
           }
          ],
          "scatterpolargl": [
           {
            "marker": {
             "colorbar": {
              "outlinewidth": 0,
              "ticks": ""
             }
            },
            "type": "scatterpolargl"
           }
          ],
          "scatterternary": [
           {
            "marker": {
             "colorbar": {
              "outlinewidth": 0,
              "ticks": ""
             }
            },
            "type": "scatterternary"
           }
          ],
          "surface": [
           {
            "colorbar": {
             "outlinewidth": 0,
             "ticks": ""
            },
            "colorscale": [
             [
              0,
              "#0d0887"
             ],
             [
              0.1111111111111111,
              "#46039f"
             ],
             [
              0.2222222222222222,
              "#7201a8"
             ],
             [
              0.3333333333333333,
              "#9c179e"
             ],
             [
              0.4444444444444444,
              "#bd3786"
             ],
             [
              0.5555555555555556,
              "#d8576b"
             ],
             [
              0.6666666666666666,
              "#ed7953"
             ],
             [
              0.7777777777777778,
              "#fb9f3a"
             ],
             [
              0.8888888888888888,
              "#fdca26"
             ],
             [
              1,
              "#f0f921"
             ]
            ],
            "type": "surface"
           }
          ],
          "table": [
           {
            "cells": {
             "fill": {
              "color": "#EBF0F8"
             },
             "line": {
              "color": "white"
             }
            },
            "header": {
             "fill": {
              "color": "#C8D4E3"
             },
             "line": {
              "color": "white"
             }
            },
            "type": "table"
           }
          ]
         },
         "layout": {
          "annotationdefaults": {
           "arrowcolor": "#2a3f5f",
           "arrowhead": 0,
           "arrowwidth": 1
          },
          "autotypenumbers": "strict",
          "coloraxis": {
           "colorbar": {
            "outlinewidth": 0,
            "ticks": ""
           }
          },
          "colorscale": {
           "diverging": [
            [
             0,
             "#8e0152"
            ],
            [
             0.1,
             "#c51b7d"
            ],
            [
             0.2,
             "#de77ae"
            ],
            [
             0.3,
             "#f1b6da"
            ],
            [
             0.4,
             "#fde0ef"
            ],
            [
             0.5,
             "#f7f7f7"
            ],
            [
             0.6,
             "#e6f5d0"
            ],
            [
             0.7,
             "#b8e186"
            ],
            [
             0.8,
             "#7fbc41"
            ],
            [
             0.9,
             "#4d9221"
            ],
            [
             1,
             "#276419"
            ]
           ],
           "sequential": [
            [
             0,
             "#0d0887"
            ],
            [
             0.1111111111111111,
             "#46039f"
            ],
            [
             0.2222222222222222,
             "#7201a8"
            ],
            [
             0.3333333333333333,
             "#9c179e"
            ],
            [
             0.4444444444444444,
             "#bd3786"
            ],
            [
             0.5555555555555556,
             "#d8576b"
            ],
            [
             0.6666666666666666,
             "#ed7953"
            ],
            [
             0.7777777777777778,
             "#fb9f3a"
            ],
            [
             0.8888888888888888,
             "#fdca26"
            ],
            [
             1,
             "#f0f921"
            ]
           ],
           "sequentialminus": [
            [
             0,
             "#0d0887"
            ],
            [
             0.1111111111111111,
             "#46039f"
            ],
            [
             0.2222222222222222,
             "#7201a8"
            ],
            [
             0.3333333333333333,
             "#9c179e"
            ],
            [
             0.4444444444444444,
             "#bd3786"
            ],
            [
             0.5555555555555556,
             "#d8576b"
            ],
            [
             0.6666666666666666,
             "#ed7953"
            ],
            [
             0.7777777777777778,
             "#fb9f3a"
            ],
            [
             0.8888888888888888,
             "#fdca26"
            ],
            [
             1,
             "#f0f921"
            ]
           ]
          },
          "colorway": [
           "#636efa",
           "#EF553B",
           "#00cc96",
           "#ab63fa",
           "#FFA15A",
           "#19d3f3",
           "#FF6692",
           "#B6E880",
           "#FF97FF",
           "#FECB52"
          ],
          "font": {
           "color": "#2a3f5f"
          },
          "geo": {
           "bgcolor": "white",
           "lakecolor": "white",
           "landcolor": "#E5ECF6",
           "showlakes": true,
           "showland": true,
           "subunitcolor": "white"
          },
          "hoverlabel": {
           "align": "left"
          },
          "hovermode": "closest",
          "mapbox": {
           "style": "light"
          },
          "paper_bgcolor": "white",
          "plot_bgcolor": "#E5ECF6",
          "polar": {
           "angularaxis": {
            "gridcolor": "white",
            "linecolor": "white",
            "ticks": ""
           },
           "bgcolor": "#E5ECF6",
           "radialaxis": {
            "gridcolor": "white",
            "linecolor": "white",
            "ticks": ""
           }
          },
          "scene": {
           "xaxis": {
            "backgroundcolor": "#E5ECF6",
            "gridcolor": "white",
            "gridwidth": 2,
            "linecolor": "white",
            "showbackground": true,
            "ticks": "",
            "zerolinecolor": "white"
           },
           "yaxis": {
            "backgroundcolor": "#E5ECF6",
            "gridcolor": "white",
            "gridwidth": 2,
            "linecolor": "white",
            "showbackground": true,
            "ticks": "",
            "zerolinecolor": "white"
           },
           "zaxis": {
            "backgroundcolor": "#E5ECF6",
            "gridcolor": "white",
            "gridwidth": 2,
            "linecolor": "white",
            "showbackground": true,
            "ticks": "",
            "zerolinecolor": "white"
           }
          },
          "shapedefaults": {
           "line": {
            "color": "#2a3f5f"
           }
          },
          "ternary": {
           "aaxis": {
            "gridcolor": "white",
            "linecolor": "white",
            "ticks": ""
           },
           "baxis": {
            "gridcolor": "white",
            "linecolor": "white",
            "ticks": ""
           },
           "bgcolor": "#E5ECF6",
           "caxis": {
            "gridcolor": "white",
            "linecolor": "white",
            "ticks": ""
           }
          },
          "title": {
           "x": 0.05
          },
          "xaxis": {
           "automargin": true,
           "gridcolor": "white",
           "linecolor": "white",
           "ticks": "",
           "title": {
            "standoff": 15
           },
           "zerolinecolor": "white",
           "zerolinewidth": 2
          },
          "yaxis": {
           "automargin": true,
           "gridcolor": "white",
           "linecolor": "white",
           "ticks": "",
           "title": {
            "standoff": 15
           },
           "zerolinecolor": "white",
           "zerolinewidth": 2
          }
         }
        },
        "title": {
         "text": "Pronósticos de Dengue 2022 - Muestra de 5 Barrios"
        },
        "xaxis": {
         "title": {
          "text": "Semana del Año"
         }
        },
        "yaxis": {
         "title": {
          "text": "Casos de Dengue Pronosticados"
         }
        }
       }
      }
     },
     "metadata": {},
     "output_type": "display_data"
    },
    {
     "name": "stdout",
     "output_type": "stream",
     "text": [
      "\n",
      "¡Proceso completado exitosamente!\n"
     ]
    }
   ],
   "source": [
    "# Modelo LSTM Multivariado para Pronóstico de Dengue por Barrio\n",
    "\n",
    "# 1. Carga y Configuración\n",
    "\n",
    "import pandas as pd\n",
    "import numpy as np\n",
    "import torch\n",
    "import torch.nn as nn\n",
    "import torch.optim as optim\n",
    "from torch.utils.data import DataLoader, TensorDataset\n",
    "from sklearn.preprocessing import MinMaxScaler, OneHotEncoder\n",
    "from sklearn.compose import ColumnTransformer\n",
    "import optuna\n",
    "import matplotlib.pyplot as plt\n",
    "import plotly.graph_objects as go\n",
    "import warnings\n",
    "from datetime import datetime, timedelta\n",
    "warnings.filterwarnings('ignore')\n",
    "\n",
    "# Configuración de dispositivo\n",
    "device = torch.device('cuda' if torch.cuda.is_available() else 'cpu')\n",
    "print(f'Usando dispositivo: {device}')\n",
    "\n",
    "# Semilla para reproducibilidad\n",
    "np.random.seed(42)\n",
    "torch.manual_seed(42)\n",
    "\n",
    "# Carga de datos\n",
    "df = pd.read_parquet('../../Datos/df_train.parquet')\n",
    "print(f\"Forma inicial del dataset: {df.shape}\")\n",
    "print(f\"Columnas: {df.columns.tolist()}\")\n",
    "\n",
    "# 2. Análisis Exploratorio y Preprocesamiento\n",
    "\n",
    "# Crear fecha real usando semanas ISO\n",
    "def create_date_from_year_week(year, week):\n",
    "    \"\"\"Crea una fecha a partir del año y número de semana ISO\"\"\"\n",
    "    # Primer día del año\n",
    "    jan1 = datetime(year, 1, 1)\n",
    "    # Encontrar el primer lunes del año\n",
    "    days_to_monday = (7 - jan1.weekday()) % 7\n",
    "    first_monday = jan1 + timedelta(days=days_to_monday)\n",
    "    # Calcular la fecha de la semana\n",
    "    target_date = first_monday + timedelta(weeks=week-1)\n",
    "    return target_date\n",
    "\n",
    "# Aplicar la función para crear las fechas\n",
    "df['fecha'] = df.apply(lambda row: create_date_from_year_week(row['anio'], row['semana']), axis=1)\n",
    "df = df.set_index('fecha')\n",
    "df = df.sort_index()\n",
    "\n",
    "# Verificar la distribución de barrios\n",
    "print(f\"\\nNúmero de barrios únicos: {df['id_bar'].nunique()}\")\n",
    "print(f\"Número de estratos únicos: {df['ESTRATO'].nunique()}\")\n",
    "\n",
    "# Identificar columnas numéricas (excluyendo las que vamos a codificar)\n",
    "categorical_cols = ['id_bar', 'ESTRATO']\n",
    "numerical_cols = [col for col in df.columns if col not in categorical_cols + ['anio', 'semana', 'dengue']]\n",
    "target_col = 'dengue'\n",
    "\n",
    "# One-Hot Encoding para variables categóricas\n",
    "df_encoded = pd.get_dummies(df, columns=categorical_cols, prefix=categorical_cols)\n",
    "\n",
    "# Separar características de la variable objetivo\n",
    "feature_cols = [col for col in df_encoded.columns if col not in ['anio', 'semana', target_col]]\n",
    "X = df_encoded[feature_cols].values\n",
    "y = df_encoded[target_col].values.reshape(-1, 1)\n",
    "\n",
    "# Escalado de datos\n",
    "# Escalar características\n",
    "scaler_X = MinMaxScaler()\n",
    "X_scaled = scaler_X.fit_transform(X)\n",
    "\n",
    "# Escalar variable objetivo\n",
    "scaler_y = MinMaxScaler()\n",
    "y_scaled = scaler_y.fit_transform(y)\n",
    "\n",
    "# Crear DataFrame escalado para facilitar la división temporal\n",
    "df_scaled = pd.DataFrame(\n",
    "    np.hstack([X_scaled, y_scaled]),\n",
    "    columns=feature_cols + [target_col],\n",
    "    index=df_encoded.index\n",
    ")\n",
    "df_scaled['anio'] = df_encoded['anio']\n",
    "\n",
    "# División de datos\n",
    "train_data = df_scaled[df_scaled['anio'] < 2021]\n",
    "val_data = df_scaled[df_scaled['anio'] >= 2021]\n",
    "\n",
    "print(f\"\\nForma datos entrenamiento: {train_data.shape}\")\n",
    "print(f\"Forma datos validación: {val_data.shape}\")\n",
    "print(f\"Rango de años en entrenamiento: {train_data['anio'].min()} - {train_data['anio'].max()}\")\n",
    "print(f\"Rango de años en validación: {val_data['anio'].min()} - {val_data['anio'].max()}\")\n",
    "\n",
    "# 3. Creación de Secuencias\n",
    "\n",
    "def create_sequences(data, sequence_length=52):\n",
    "    \"\"\"\n",
    "    Crea secuencias para el modelo LSTM.\n",
    "    \n",
    "    Args:\n",
    "        data: DataFrame con los datos escalados\n",
    "        sequence_length: Longitud de la secuencia de entrada (52 semanas = 1 año)\n",
    "    \n",
    "    Returns:\n",
    "        X: Secuencias de entrada\n",
    "        y: Valores objetivo\n",
    "    \"\"\"\n",
    "    # Excluir la columna 'anio' para las secuencias\n",
    "    data_for_sequences = data.drop('anio', axis=1)\n",
    "    \n",
    "    X, y = [], []\n",
    "    \n",
    "    for i in range(len(data_for_sequences) - sequence_length):\n",
    "        # Secuencia de entrada: todas las características\n",
    "        X.append(data_for_sequences.iloc[i:i+sequence_length].values)\n",
    "        # Valor objetivo: solo la columna 'dengue' del siguiente paso temporal\n",
    "        y.append(data_for_sequences.iloc[i+sequence_length][target_col])\n",
    "    \n",
    "    return np.array(X), np.array(y)\n",
    "\n",
    "# Crear secuencias para entrenamiento y validación\n",
    "sequence_length = 52\n",
    "X_train, y_train = create_sequences(train_data, sequence_length)\n",
    "X_val, y_val = create_sequences(val_data, sequence_length)\n",
    "\n",
    "print(f\"\\nForma X_train: {X_train.shape}\")\n",
    "print(f\"Forma y_train: {y_train.shape}\")\n",
    "print(f\"Forma X_val: {X_val.shape}\")\n",
    "print(f\"Forma y_val: {y_val.shape}\")\n",
    "\n",
    "# Número de características\n",
    "n_features = X_train.shape[2]\n",
    "print(f\"Número de características: {n_features}\")\n",
    "\n",
    "# 4. Optimización de Hiperparámetros con Optuna\n",
    "\n",
    "# Definir el modelo LSTM en PyTorch\n",
    "class LSTMModel(nn.Module):\n",
    "    def __init__(self, input_size, hidden_size, num_layers, dropout_rate):\n",
    "        super(LSTMModel, self).__init__()\n",
    "        self.hidden_size = hidden_size\n",
    "        self.num_layers = num_layers\n",
    "        \n",
    "        self.lstm = nn.LSTM(\n",
    "            input_size, \n",
    "            hidden_size, \n",
    "            num_layers, \n",
    "            batch_first=True,\n",
    "            dropout=dropout_rate if num_layers > 1 else 0\n",
    "        )\n",
    "        \n",
    "        self.dropout = nn.Dropout(dropout_rate)\n",
    "        self.fc = nn.Linear(hidden_size, 1)\n",
    "        \n",
    "    def forward(self, x):\n",
    "        # Inicializar hidden state y cell state\n",
    "        h0 = torch.zeros(self.num_layers, x.size(0), self.hidden_size).to(x.device)\n",
    "        c0 = torch.zeros(self.num_layers, x.size(0), self.hidden_size).to(x.device)\n",
    "        \n",
    "        # Forward propagate LSTM\n",
    "        out, _ = self.lstm(x, (h0, c0))\n",
    "        \n",
    "        # Decodificar la salida del último paso temporal\n",
    "        out = self.dropout(out[:, -1, :])\n",
    "        out = self.fc(out)\n",
    "        return out\n",
    "\n",
    "def objective(trial):\n",
    "    \"\"\"Función objetivo para Optuna\"\"\"\n",
    "    \n",
    "    # Hiperparámetros a optimizar\n",
    "    n_units = trial.suggest_int('n_units', 32, 256, step=32)\n",
    "    learning_rate = trial.suggest_loguniform('learning_rate', 1e-4, 1e-2)\n",
    "    dropout_rate = trial.suggest_uniform('dropout_rate', 0.1, 0.5)\n",
    "    n_layers = trial.suggest_int('n_layers', 1, 3)\n",
    "    batch_size = trial.suggest_categorical('batch_size', [32, 64, 128])\n",
    "    \n",
    "    # Crear modelo\n",
    "    model = LSTMModel(n_features, n_units, n_layers, dropout_rate).to(device)\n",
    "    \n",
    "    # Configurar optimizador y función de pérdida\n",
    "    optimizer = optim.Adam(model.parameters(), lr=learning_rate)\n",
    "    criterion = nn.MSELoss()\n",
    "    \n",
    "    # Convertir datos a tensores\n",
    "    X_train_tensor = torch.FloatTensor(X_train).to(device)\n",
    "    y_train_tensor = torch.FloatTensor(y_train).to(device)\n",
    "    X_val_tensor = torch.FloatTensor(X_val).to(device)\n",
    "    y_val_tensor = torch.FloatTensor(y_val).to(device)\n",
    "    \n",
    "    # Crear DataLoader\n",
    "    train_dataset = TensorDataset(X_train_tensor, y_train_tensor)\n",
    "    train_loader = DataLoader(train_dataset, batch_size=batch_size, shuffle=True)\n",
    "    \n",
    "    # Entrenar modelo\n",
    "    n_epochs = 50\n",
    "    model.train()\n",
    "    \n",
    "    for epoch in range(n_epochs):\n",
    "        for batch_X, batch_y in train_loader:\n",
    "            optimizer.zero_grad()\n",
    "            outputs = model(batch_X)\n",
    "            loss = criterion(outputs.squeeze(), batch_y)\n",
    "            loss.backward()\n",
    "            optimizer.step()\n",
    "    \n",
    "    # Evaluar en validación\n",
    "    model.eval()\n",
    "    with torch.no_grad():\n",
    "        val_pred = model(X_val_tensor)\n",
    "        val_loss = criterion(val_pred.squeeze(), y_val_tensor)\n",
    "    \n",
    "    return val_loss.item()\n",
    "\n",
    "# Ejecutar optimización con Optuna\n",
    "print(\"\\nIniciando optimización de hiperparámetros con Optuna...\")\n",
    "study = optuna.create_study(direction='minimize')\n",
    "study.optimize(objective, n_trials=50, show_progress_bar=True)\n",
    "\n",
    "print(\"\\nMejores hiperparámetros encontrados:\")\n",
    "print(study.best_params)\n",
    "print(f\"Mejor MSE en validación: {study.best_value:.6f}\")\n",
    "\n",
    "# 5. Entrenamiento del Modelo Final\n",
    "\n",
    "# Extraer mejores hiperparámetros\n",
    "best_params = study.best_params\n",
    "\n",
    "# Combinar datos de entrenamiento y validación para el entrenamiento final\n",
    "all_data = pd.concat([train_data, val_data])\n",
    "X_all, y_all = create_sequences(all_data, sequence_length)\n",
    "\n",
    "print(f\"\\nForma datos combinados X_all: {X_all.shape}\")\n",
    "print(f\"Forma datos combinados y_all: {y_all.shape}\")\n",
    "\n",
    "# Crear modelo final con mejores hiperparámetros\n",
    "final_model = LSTMModel(\n",
    "    n_features, \n",
    "    best_params['n_units'], \n",
    "    best_params['n_layers'], \n",
    "    best_params['dropout_rate']\n",
    ").to(device)\n",
    "\n",
    "# Configurar entrenamiento\n",
    "optimizer = optim.Adam(final_model.parameters(), lr=best_params['learning_rate'])\n",
    "criterion = nn.MSELoss()\n",
    "\n",
    "# Convertir a tensores\n",
    "X_all_tensor = torch.FloatTensor(X_all).to(device)\n",
    "y_all_tensor = torch.FloatTensor(y_all).to(device)\n",
    "\n",
    "# Crear DataLoader\n",
    "all_dataset = TensorDataset(X_all_tensor, y_all_tensor)\n",
    "all_loader = DataLoader(all_dataset, batch_size=best_params['batch_size'], shuffle=True)\n",
    "\n",
    "# Entrenar modelo final\n",
    "n_epochs_final = 100\n",
    "train_losses = []\n",
    "\n",
    "print(\"\\nEntrenando modelo final...\")\n",
    "final_model.train()\n",
    "\n",
    "for epoch in range(n_epochs_final):\n",
    "    epoch_loss = 0\n",
    "    n_batches = 0\n",
    "    \n",
    "    for batch_X, batch_y in all_loader:\n",
    "        optimizer.zero_grad()\n",
    "        outputs = final_model(batch_X)\n",
    "        loss = criterion(outputs.squeeze(), batch_y)\n",
    "        loss.backward()\n",
    "        optimizer.step()\n",
    "        \n",
    "        epoch_loss += loss.item()\n",
    "        n_batches += 1\n",
    "    \n",
    "    avg_loss = epoch_loss / n_batches\n",
    "    train_losses.append(avg_loss)\n",
    "    \n",
    "    if (epoch + 1) % 10 == 0:\n",
    "        print(f\"Época [{epoch+1}/{n_epochs_final}], Loss: {avg_loss:.6f}\")\n",
    "\n",
    "# Gráfica del historial de entrenamiento\n",
    "plt.figure(figsize=(10, 6))\n",
    "plt.plot(train_losses, label='Training Loss')\n",
    "plt.title('Historial de Entrenamiento del Modelo Final')\n",
    "plt.xlabel('Época')\n",
    "plt.ylabel('MSE Loss')\n",
    "plt.legend()\n",
    "plt.grid(True)\n",
    "plt.show()\n",
    "\n",
    "# 6. Generación de Pronósticos para 2022\n",
    "\n",
    "# Obtener los datos originales para preparar las predicciones\n",
    "df_original = pd.read_parquet('../../Datos/df_train.parquet')\n",
    "df_original['fecha'] = df_original.apply(\n",
    "    lambda row: create_date_from_year_week(row['anio'], row['semana']), axis=1\n",
    ")\n",
    "df_original = df_original.set_index('fecha').sort_index()\n",
    "\n",
    "# Identificar todos los barrios únicos\n",
    "unique_bars = sorted(df_original['id_bar'].unique())\n",
    "print(f\"\\nNúmero de barrios a pronosticar: {len(unique_bars)}\")\n",
    "\n",
    "# Preparar DataFrame para almacenar pronósticos\n",
    "predictions_2022 = []\n",
    "\n",
    "# Para cada barrio\n",
    "for id_bar in unique_bars:\n",
    "    print(f\"\\nGenerando pronósticos para barrio {id_bar}...\")\n",
    "    \n",
    "    # Filtrar datos del barrio específico\n",
    "    bar_data = df_original[df_original['id_bar'] == id_bar].copy()\n",
    "    \n",
    "    # Aplicar el mismo preprocesamiento\n",
    "    bar_encoded = pd.get_dummies(bar_data, columns=categorical_cols, prefix=categorical_cols)\n",
    "    \n",
    "    # Asegurar que tengamos todas las columnas necesarias\n",
    "    for col in feature_cols:\n",
    "        if col not in bar_encoded.columns:\n",
    "            bar_encoded[col] = 0\n",
    "    \n",
    "    bar_encoded = bar_encoded[feature_cols + [target_col]]\n",
    "    \n",
    "    # Escalar datos\n",
    "    X_bar = scaler_X.transform(bar_encoded[feature_cols].values)\n",
    "    y_bar = scaler_y.transform(bar_encoded[target_col].values.reshape(-1, 1))\n",
    "    \n",
    "    # Crear DataFrame escalado\n",
    "    bar_scaled = pd.DataFrame(\n",
    "        np.hstack([X_bar, y_bar]),\n",
    "        columns=feature_cols + [target_col],\n",
    "        index=bar_encoded.index\n",
    "    )\n",
    "    \n",
    "    # Tomar las últimas 52 semanas como secuencia inicial\n",
    "    last_sequence = bar_scaled.iloc[-sequence_length:].values\n",
    "    current_sequence = last_sequence.copy()\n",
    "    \n",
    "    # Generar pronósticos para las 52 semanas de 2022\n",
    "    final_model.eval()\n",
    "    \n",
    "    for week in range(1, 53):\n",
    "        # Convertir secuencia a tensor\n",
    "        seq_tensor = torch.FloatTensor(current_sequence).unsqueeze(0).to(device)\n",
    "        \n",
    "        # Hacer predicción\n",
    "        with torch.no_grad():\n",
    "            pred_scaled = final_model(seq_tensor).cpu().numpy()[0, 0]\n",
    "        \n",
    "        # Des-escalar predicción\n",
    "        pred_original = scaler_y.inverse_transform([[pred_scaled]])[0, 0]\n",
    "        \n",
    "        # Asegurar que la predicción no sea negativa\n",
    "        pred_original = max(0, pred_original)\n",
    "        \n",
    "        # Almacenar predicción\n",
    "        predictions_2022.append({\n",
    "            'id': f\"{id_bar}_2022_{week:02d}\",\n",
    "            'dengue': pred_original\n",
    "        })\n",
    "        \n",
    "        # Preparar siguiente entrada\n",
    "        # Crear vector de características para el nuevo punto temporal\n",
    "        new_features = current_sequence[-1, :-1].copy()  # Copiar últimas características (sin dengue)\n",
    "        new_point = np.append(new_features, pred_scaled)\n",
    "        \n",
    "        # Actualizar secuencia: eliminar el más antiguo y añadir el nuevo\n",
    "        current_sequence = np.vstack([current_sequence[1:], new_point])\n",
    "\n",
    "# 7. Creación del Archivo de Submission\n",
    "\n",
    "# Crear DataFrame con predicciones\n",
    "df_submission = pd.DataFrame(predictions_2022)\n",
    "\n",
    "# Verificar formato\n",
    "print(f\"\\nForma del archivo de submission: {df_submission.shape}\")\n",
    "print(f\"Primeras filas:\")\n",
    "print(df_submission.head(10))\n",
    "print(f\"\\nÚltimas filas:\")\n",
    "print(df_submission.tail(10))\n",
    "\n",
    "# Verificar estadísticas de las predicciones\n",
    "print(f\"\\nEstadísticas de las predicciones:\")\n",
    "print(df_submission['dengue'].describe())\n",
    "\n",
    "# Guardar archivo\n",
    "df_submission.to_csv('pronosticos_dengue_2022.csv', index=False)\n",
    "print(f\"\\nArchivo 'pronosticos_dengue_2022.csv' guardado exitosamente!\")\n",
    "\n",
    "# Visualización de algunas predicciones\n",
    "fig = go.Figure()\n",
    "\n",
    "# Mostrar predicciones para los primeros 5 barrios\n",
    "sample_bars = unique_bars[:5]\n",
    "for id_bar in sample_bars:\n",
    "    bar_preds = df_submission[df_submission['id'].str.startswith(f\"{id_bar}_\")]\n",
    "    weeks = [int(x.split('_')[-1]) for x in bar_preds['id']]\n",
    "    \n",
    "    fig.add_trace(go.Scatter(\n",
    "        x=weeks,\n",
    "        y=bar_preds['dengue'],\n",
    "        mode='lines+markers',\n",
    "        name=f'Barrio {id_bar}'\n",
    "    ))\n",
    "\n",
    "fig.update_layout(\n",
    "    title='Pronósticos de Dengue 2022 - Muestra de 5 Barrios',\n",
    "    xaxis_title='Semana del Año',\n",
    "    yaxis_title='Casos de Dengue Pronosticados',\n",
    "    hovermode='x unified'\n",
    ")\n",
    "\n",
    "fig.show()\n",
    "\n",
    "print(\"\\n¡Proceso completado exitosamente!\")"
   ]
  }
 ],
 "metadata": {
  "kernelspec": {
   "display_name": "venv",
   "language": "python",
   "name": "python3"
  },
  "language_info": {
   "codemirror_mode": {
    "name": "ipython",
    "version": 3
   },
   "file_extension": ".py",
   "mimetype": "text/x-python",
   "name": "python",
   "nbconvert_exporter": "python",
   "pygments_lexer": "ipython3",
   "version": "3.13.3"
  }
 },
 "nbformat": 4,
 "nbformat_minor": 5
}
