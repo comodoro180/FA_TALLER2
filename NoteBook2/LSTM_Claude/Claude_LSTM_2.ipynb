{
 "cells": [
  {
   "cell_type": "code",
   "execution_count": 6,
   "id": "f07d36f8",
   "metadata": {},
   "outputs": [
    {
     "name": "stdout",
     "output_type": "stream",
     "text": [
      "Dispositivo utilizado: cuda\n"
     ]
    }
   ],
   "source": [
    "# # Pronóstico de Dengue con LSTM y Optimización de Hiperparámetros\n",
    "# \n",
    "# Este notebook implementa un modelo LSTM para pronosticar casos de dengue usando PyTorch y Optuna para la optimización de hiperparámetros.\n",
    "\n",
    "# %% [markdown]\n",
    "# ## 1. Configuración e Importación de Librerías\n",
    "\n",
    "# %%\n",
    "import pandas as pd\n",
    "import numpy as np\n",
    "import torch\n",
    "import torch.nn as nn\n",
    "import torch.optim as optim\n",
    "from torch.utils.data import Dataset, DataLoader\n",
    "from sklearn.preprocessing import StandardScaler\n",
    "from sklearn.model_selection import train_test_split\n",
    "import plotly.graph_objects as go\n",
    "import plotly.express as px\n",
    "from plotly.subplots import make_subplots\n",
    "import optuna\n",
    "from datetime import datetime, timedelta\n",
    "import warnings\n",
    "from datetime import datetime\n",
    "warnings.filterwarnings('ignore')\n",
    "\n",
    "# Configurar el dispositivo\n",
    "device = torch.device('cuda' if torch.cuda.is_available() else 'cpu')\n",
    "print(f'Dispositivo utilizado: {device}')"
   ]
  },
  {
   "cell_type": "code",
   "execution_count": 7,
   "id": "628b2474",
   "metadata": {},
   "outputs": [
    {
     "name": "stdout",
     "output_type": "stream",
     "text": [
      "Forma del DataFrame: (3680, 20)\n",
      "Columnas: ['id', 'id_bar', 'anio', 'semana', 'ESTRATO', 'area_barrio', 'dengue', 'concentraciones', 'vivienda', 'equipesado', 'sumideros', 'maquina', 'lluvia_mean', 'lluvia_var', 'lluvia_max', 'lluvia_min', 'temperatura_mean', 'temperatura_var', 'temperatura_max', 'temperatura_min']\n",
      "          id  id_bar  anio  semana  ESTRATO  area_barrio  dengue  \\\n",
      "0  4_2015_01       4  2015       1      3.0        0.560     0.0   \n",
      "1  5_2015_01       5  2015       1      3.0        0.842     0.0   \n",
      "2  3_2015_01       3  2015       1      1.0        0.781     0.0   \n",
      "3  8_2015_01       8  2015       1      2.0        0.394     0.0   \n",
      "4  9_2015_01       9  2015       1      2.0        0.292     0.0   \n",
      "\n",
      "   concentraciones  vivienda  equipesado  sumideros  maquina  lluvia_mean  \\\n",
      "0              0.0       0.0         0.0        0.0      0.0     0.000651   \n",
      "1              0.0       0.0         0.0        0.0      0.0     0.000651   \n",
      "2              0.0       0.0         0.0        0.0      0.0     0.000651   \n",
      "3              0.0       0.0         0.0        0.0      0.0     0.000651   \n",
      "4              0.0       0.0         0.0        0.0      0.0     0.000651   \n",
      "\n",
      "   lluvia_var  lluvia_max  lluvia_min  temperatura_mean  temperatura_var  \\\n",
      "0    0.000041      0.0625         0.0         26.163889        11.588928   \n",
      "1    0.000041      0.0625         0.0         26.163889        11.588928   \n",
      "2    0.000041      0.0625         0.0         26.163889        11.588928   \n",
      "3    0.000041      0.0625         0.0         26.163889        11.588928   \n",
      "4    0.000041      0.0625         0.0         26.163889        11.588928   \n",
      "\n",
      "   temperatura_max  temperatura_min  \n",
      "0             31.8             20.9  \n",
      "1             31.8             20.9  \n",
      "2             31.8             20.9  \n",
      "3             31.8             20.9  \n",
      "4             31.8             20.9  \n",
      "Rango de fechas: 2014-12-29 00:00:00 - 2022-01-03 00:00:00\n",
      "Número de registros: 3680\n",
      "Número de barrios únicos (id_bar): 10\n"
     ]
    }
   ],
   "source": [
    "# %% [markdown]\n",
    "# ## 2. Carga y Preparación de Datos\n",
    "\n",
    "# %%\n",
    "# Cargar datos\n",
    "df = pd.read_parquet('../../Datos/df_train.parquet')\n",
    "print(f\"Forma del DataFrame: {df.shape}\")\n",
    "print(f\"Columnas: {df.columns.tolist()}\")\n",
    "print(df.head())\n",
    "\n",
    "# %%\n",
    "# Crear columna de fecha usando formato ISO de semanas\n",
    "df['fecha'] = pd.to_datetime(df['anio'].astype(str) + df['semana'].astype(str) + '1', format='%G%V%u')\n",
    "\n",
    "# Establecer la fecha como índice y ordenar\n",
    "df.set_index('fecha', inplace=True)\n",
    "df.sort_index(inplace=True)\n",
    "\n",
    "print(f\"Rango de fechas: {df.index.min()} - {df.index.max()}\")\n",
    "print(f\"Número de registros: {len(df)}\")\n",
    "print(f\"Número de barrios únicos (id_bar): {df['id_bar'].nunique()}\")\n",
    "\n",
    "# %% [markdown]"
   ]
  },
  {
   "cell_type": "code",
   "execution_count": 8,
   "id": "69246584",
   "metadata": {},
   "outputs": [
    {
     "name": "stdout",
     "output_type": "stream",
     "text": [
      "Datos de entrenamiento: (3150, 20)\n",
      "Datos de validación: (530, 20)\n",
      "Columnas categóricas: ['id_bar', 'ESTRATO']\n",
      "Columnas numéricas: ['id', 'area_barrio', 'concentraciones', 'vivienda', 'equipesado', 'sumideros', 'maquina', 'lluvia_mean', 'lluvia_var', 'lluvia_max', 'lluvia_min', 'temperatura_mean', 'temperatura_var', 'temperatura_max', 'temperatura_min']\n",
      "Variable objetivo: dengue\n"
     ]
    }
   ],
   "source": [
    "# ## 3. Preprocesamiento e Ingeniería de Características\n",
    "\n",
    "# %%\n",
    "# División de datos\n",
    "train_data = df[df['anio'] < 2021].copy()\n",
    "val_data = df[df['anio'] == 2021].copy()\n",
    "\n",
    "print(f\"Datos de entrenamiento: {train_data.shape}\")\n",
    "print(f\"Datos de validación: {val_data.shape}\")\n",
    "\n",
    "# %%\n",
    "# Identificar columnas numéricas y categóricas\n",
    "categorical_cols = ['id_bar', 'ESTRATO']\n",
    "numerical_cols = [col for col in df.columns if col not in categorical_cols + ['anio', 'semana', 'dengue']]\n",
    "target_col = 'dengue'\n",
    "\n",
    "print(f\"Columnas categóricas: {categorical_cols}\")\n",
    "print(f\"Columnas numéricas: {numerical_cols}\")\n",
    "print(f\"Variable objetivo: {target_col}\")\n",
    "\n",
    "# %%\n",
    "# Crear mapeos para variables categóricas\n",
    "id_bar_mapping = {id_bar: idx for idx, id_bar in enumerate(df['id_bar'].unique())}\n",
    "estrato_mapping = {estrato: idx for idx, estrato in enumerate(df['ESTRATO'].unique())}\n",
    "\n",
    "# Aplicar mapeos\n",
    "train_data['id_bar_idx'] = train_data['id_bar'].map(id_bar_mapping)\n",
    "train_data['estrato_idx'] = train_data['ESTRATO'].map(estrato_mapping)\n",
    "val_data['id_bar_idx'] = val_data['id_bar'].map(id_bar_mapping)\n",
    "val_data['estrato_idx'] = val_data['ESTRATO'].map(estrato_mapping)\n",
    "\n",
    "# Escalado de variables numéricas\n",
    "scaler = StandardScaler()\n",
    "train_data[numerical_cols + [target_col]] = scaler.fit_transform(train_data[numerical_cols + [target_col]])\n",
    "val_data[numerical_cols + [target_col]] = scaler.transform(val_data[numerical_cols + [target_col]])\n",
    "\n",
    "# %% [markdown]\n",
    "# ### Creación de Secuencias\n",
    "\n",
    "# %%\n",
    "def create_sequences(data, window_size, id_bar_list):\n",
    "    \"\"\"\n",
    "    Crea secuencias de ventanas deslizantes para cada id_bar\n",
    "    \"\"\"\n",
    "    sequences = []\n",
    "    targets = []\n",
    "    \n",
    "    for id_bar in id_bar_list:\n",
    "        bar_data = data[data['id_bar'] == id_bar].sort_index()\n",
    "        \n",
    "        if len(bar_data) > window_size:\n",
    "            for i in range(len(bar_data) - window_size):\n",
    "                # Características numéricas\n",
    "                seq_numerical = bar_data[numerical_cols + [target_col]].iloc[i:i+window_size].values\n",
    "                \n",
    "                # Características categóricas (solo necesitamos el último valor)\n",
    "                id_bar_idx = bar_data['id_bar_idx'].iloc[i+window_size-1]\n",
    "                estrato_idx = bar_data['estrato_idx'].iloc[i+window_size-1]\n",
    "                \n",
    "                # Target\n",
    "                target = bar_data[target_col].iloc[i+window_size]\n",
    "                \n",
    "                sequences.append({\n",
    "                    'numerical': seq_numerical,\n",
    "                    'id_bar': id_bar_idx,\n",
    "                    'estrato': estrato_idx\n",
    "                })\n",
    "                targets.append(target)\n",
    "    \n",
    "    return sequences, targets\n",
    "\n",
    "# %% [markdown]"
   ]
  },
  {
   "cell_type": "code",
   "execution_count": 9,
   "id": "47d86269",
   "metadata": {},
   "outputs": [],
   "source": [
    "\n",
    "\n",
    "# ## 4. Definición del Modelo LSTM con PyTorch\n",
    "\n",
    "# %%\n",
    "class DengueDataset(Dataset):\n",
    "    def __init__(self, sequences, targets):\n",
    "        self.sequences = sequences\n",
    "        self.targets = targets\n",
    "    \n",
    "    def __len__(self):\n",
    "        return len(self.sequences)\n",
    "    \n",
    "    def __getitem__(self, idx):\n",
    "        seq = self.sequences[idx]\n",
    "        return {\n",
    "            'numerical': torch.FloatTensor(seq['numerical']),\n",
    "            'id_bar': torch.LongTensor([seq['id_bar']]),\n",
    "            'estrato': torch.LongTensor([seq['estrato']])\n",
    "        }, torch.FloatTensor([self.targets[idx]])\n",
    "\n",
    "# %%\n",
    "class DengueLSTM(nn.Module):\n",
    "    def __init__(self, n_numerical_features, n_id_bar, n_estrato, \n",
    "                 embedding_dim_bar=10, embedding_dim_estrato=3,\n",
    "                 hidden_size=64, num_layers=2, dropout_rate=0.2):\n",
    "        super(DengueLSTM, self).__init__()\n",
    "        \n",
    "        # Embeddings para variables categóricas\n",
    "        self.embedding_id_bar = nn.Embedding(n_id_bar, embedding_dim_bar)\n",
    "        self.embedding_estrato = nn.Embedding(n_estrato, embedding_dim_estrato)\n",
    "        \n",
    "        # LSTM\n",
    "        self.lstm_input_size = n_numerical_features + embedding_dim_bar + embedding_dim_estrato\n",
    "        self.lstm = nn.LSTM(self.lstm_input_size, hidden_size, \n",
    "                           num_layers, batch_first=True, dropout=dropout_rate)\n",
    "        \n",
    "        # Capa de salida\n",
    "        self.dropout = nn.Dropout(dropout_rate)\n",
    "        self.fc = nn.Linear(hidden_size, 1)\n",
    "        \n",
    "    def forward(self, numerical, id_bar, estrato):\n",
    "        batch_size, seq_len, _ = numerical.shape\n",
    "        \n",
    "        # Obtener embeddings\n",
    "        emb_bar = self.embedding_id_bar(id_bar).squeeze(1)  # (batch, embedding_dim)\n",
    "        emb_estrato = self.embedding_estrato(estrato).squeeze(1)  # (batch, embedding_dim)\n",
    "        \n",
    "        # Expandir embeddings para todas las timesteps\n",
    "        emb_bar = emb_bar.unsqueeze(1).expand(-1, seq_len, -1)\n",
    "        emb_estrato = emb_estrato.unsqueeze(1).expand(-1, seq_len, -1)\n",
    "        \n",
    "        # Concatenar todas las características\n",
    "        x = torch.cat([numerical, emb_bar, emb_estrato], dim=2)\n",
    "        \n",
    "        # LSTM\n",
    "        lstm_out, _ = self.lstm(x)\n",
    "        \n",
    "        # Usar solo la última salida\n",
    "        last_output = lstm_out[:, -1, :]\n",
    "        \n",
    "        # Capa de salida\n",
    "        out = self.dropout(last_output)\n",
    "        out = self.fc(out)\n",
    "        \n",
    "        return out\n",
    "\n",
    "# %% [markdown]"
   ]
  },
  {
   "cell_type": "code",
   "execution_count": 10,
   "id": "afa9a930",
   "metadata": {},
   "outputs": [
    {
     "name": "stderr",
     "output_type": "stream",
     "text": [
      "[I 2025-06-23 15:00:06,390] A new study created in memory with name: no-name-d96bd88a-1fc5-422b-8486-35db555aab96\n",
      "[I 2025-06-23 15:00:48,554] Trial 0 finished with value: 0.11192763488118847 and parameters: {'window_size': 16, 'hidden_size': 128, 'num_layers': 2, 'dropout_rate': 0.10611632451176703, 'learning_rate': 0.005453392633990735, 'batch_size': 16}. Best is trial 0 with value: 0.11192763488118847.\n",
      "[I 2025-06-23 15:01:11,535] Trial 1 finished with value: 0.12078013519446056 and parameters: {'window_size': 16, 'hidden_size': 32, 'num_layers': 2, 'dropout_rate': 0.49223342138274395, 'learning_rate': 0.0010187342448629674, 'batch_size': 64}. Best is trial 0 with value: 0.11192763488118847.\n",
      "[I 2025-06-23 15:01:56,617] Trial 2 finished with value: 0.08618915246592627 and parameters: {'window_size': 40, 'hidden_size': 16, 'num_layers': 2, 'dropout_rate': 0.24925671658713178, 'learning_rate': 0.00044775724040466776, 'batch_size': 16}. Best is trial 2 with value: 0.08618915246592627.\n",
      "[I 2025-06-23 15:02:08,354] Trial 3 finished with value: 0.05705573037266731 and parameters: {'window_size': 44, 'hidden_size': 64, 'num_layers': 3, 'dropout_rate': 0.18823196949719856, 'learning_rate': 0.0032929334819645226, 'batch_size': 128}. Best is trial 3 with value: 0.05705573037266731.\n",
      "[I 2025-06-23 15:02:19,581] Trial 4 finished with value: 0.10507902999718984 and parameters: {'window_size': 20, 'hidden_size': 16, 'num_layers': 3, 'dropout_rate': 0.19234519946660023, 'learning_rate': 0.0006620159130868794, 'batch_size': 128}. Best is trial 3 with value: 0.05705573037266731.\n",
      "[I 2025-06-23 15:02:29,856] Trial 5 finished with value: 0.08677952736616135 and parameters: {'window_size': 32, 'hidden_size': 16, 'num_layers': 2, 'dropout_rate': 0.1297697849786991, 'learning_rate': 0.0012088086484813632, 'batch_size': 128}. Best is trial 3 with value: 0.05705573037266731.\n",
      "[I 2025-06-23 15:02:53,326] Trial 6 finished with value: 0.07007046639919282 and parameters: {'window_size': 40, 'hidden_size': 64, 'num_layers': 1, 'dropout_rate': 0.37622954269337383, 'learning_rate': 0.0008255509995362061, 'batch_size': 32}. Best is trial 3 with value: 0.05705573037266731.\n",
      "[I 2025-06-23 15:03:16,214] Trial 7 finished with value: 0.07670525163412094 and parameters: {'window_size': 40, 'hidden_size': 16, 'num_layers': 1, 'dropout_rate': 0.4778345772960708, 'learning_rate': 0.0012767419273003607, 'batch_size': 32}. Best is trial 3 with value: 0.05705573037266731.\n",
      "[I 2025-06-23 15:03:31,430] Trial 8 finished with value: 0.11334447711706161 and parameters: {'window_size': 24, 'hidden_size': 32, 'num_layers': 1, 'dropout_rate': 0.11218871287668591, 'learning_rate': 0.0006203939244421637, 'batch_size': 64}. Best is trial 3 with value: 0.05705573037266731.\n",
      "[I 2025-06-23 15:03:46,690] Trial 9 finished with value: 0.06573908776044846 and parameters: {'window_size': 48, 'hidden_size': 32, 'num_layers': 2, 'dropout_rate': 0.32751999480446936, 'learning_rate': 0.0017386338712960944, 'batch_size': 64}. Best is trial 3 with value: 0.05705573037266731.\n",
      "[I 2025-06-23 15:03:58,757] Trial 10 finished with value: 0.07872356474399567 and parameters: {'window_size': 52, 'hidden_size': 64, 'num_layers': 3, 'dropout_rate': 0.210867856299249, 'learning_rate': 0.00015562602996005502, 'batch_size': 128}. Best is trial 3 with value: 0.05705573037266731.\n",
      "[I 2025-06-23 15:04:15,993] Trial 11 finished with value: 0.025831958279013634 and parameters: {'window_size': 52, 'hidden_size': 32, 'num_layers': 3, 'dropout_rate': 0.343528856328986, 'learning_rate': 0.004375078715516685, 'batch_size': 64}. Best is trial 11 with value: 0.025831958279013634.\n",
      "[I 2025-06-23 15:04:28,693] Trial 12 finished with value: 0.046568986028432846 and parameters: {'window_size': 52, 'hidden_size': 64, 'num_layers': 3, 'dropout_rate': 0.38205970021989777, 'learning_rate': 0.009599631089581942, 'batch_size': 128}. Best is trial 11 with value: 0.025831958279013634.\n",
      "[I 2025-06-23 15:04:50,562] Trial 13 finished with value: 0.1421046988107264 and parameters: {'window_size': 8, 'hidden_size': 128, 'num_layers': 3, 'dropout_rate': 0.39359015375269346, 'learning_rate': 0.009143947088985685, 'batch_size': 64}. Best is trial 11 with value: 0.025831958279013634.\n",
      "[I 2025-06-23 15:05:02,914] Trial 14 finished with value: 0.031278256326913834 and parameters: {'window_size': 52, 'hidden_size': 64, 'num_layers': 3, 'dropout_rate': 0.4127987828906177, 'learning_rate': 0.00909859385815275, 'batch_size': 128}. Best is trial 11 with value: 0.025831958279013634.\n",
      "[I 2025-06-23 15:05:19,417] Trial 15 finished with value: 0.10047010891139507 and parameters: {'window_size': 28, 'hidden_size': 32, 'num_layers': 3, 'dropout_rate': 0.4335971533887293, 'learning_rate': 0.0037783045105266614, 'batch_size': 64}. Best is trial 11 with value: 0.025831958279013634.\n",
      "[I 2025-06-23 15:05:46,691] Trial 16 finished with value: 0.07985604341541018 and parameters: {'window_size': 32, 'hidden_size': 64, 'num_layers': 3, 'dropout_rate': 0.3017118215375371, 'learning_rate': 0.0028518269128477566, 'batch_size': 32}. Best is trial 11 with value: 0.025831958279013634.\n",
      "[I 2025-06-23 15:06:34,314] Trial 17 finished with value: 0.06965596321970224 and parameters: {'window_size': 48, 'hidden_size': 32, 'num_layers': 3, 'dropout_rate': 0.33444264992489975, 'learning_rate': 0.005957349856581616, 'batch_size': 16}. Best is trial 11 with value: 0.025831958279013634.\n",
      "[I 2025-06-23 15:06:55,182] Trial 18 finished with value: 0.07689817622303963 and parameters: {'window_size': 36, 'hidden_size': 128, 'num_layers': 3, 'dropout_rate': 0.4299848367865778, 'learning_rate': 0.0021334427139800293, 'batch_size': 128}. Best is trial 11 with value: 0.025831958279013634.\n",
      "[I 2025-06-23 15:07:12,278] Trial 19 finished with value: 0.09194602817296982 and parameters: {'window_size': 48, 'hidden_size': 64, 'num_layers': 3, 'dropout_rate': 0.2625953909818588, 'learning_rate': 0.0054083243008303415, 'batch_size': 64}. Best is trial 11 with value: 0.025831958279013634.\n",
      "[I 2025-06-23 15:07:25,702] Trial 20 finished with value: 0.08342409878969193 and parameters: {'window_size': 52, 'hidden_size': 32, 'num_layers': 1, 'dropout_rate': 0.43940785652786774, 'learning_rate': 0.00020556417309141887, 'batch_size': 64}. Best is trial 11 with value: 0.025831958279013634.\n",
      "[I 2025-06-23 15:07:37,480] Trial 21 finished with value: 0.05757469683885574 and parameters: {'window_size': 52, 'hidden_size': 64, 'num_layers': 3, 'dropout_rate': 0.3717707003965932, 'learning_rate': 0.009876008725338089, 'batch_size': 128}. Best is trial 11 with value: 0.025831958279013634.\n",
      "[I 2025-06-23 15:07:53,069] Trial 22 finished with value: 0.06706249713897705 and parameters: {'window_size': 44, 'hidden_size': 64, 'num_layers': 3, 'dropout_rate': 0.39614625527387093, 'learning_rate': 0.007332920084228089, 'batch_size': 128}. Best is trial 11 with value: 0.025831958279013634.\n",
      "[I 2025-06-23 15:08:06,161] Trial 23 finished with value: 0.0764734148979187 and parameters: {'window_size': 44, 'hidden_size': 64, 'num_layers': 3, 'dropout_rate': 0.3620146334500235, 'learning_rate': 0.0041470680248496955, 'batch_size': 128}. Best is trial 11 with value: 0.025831958279013634.\n",
      "[I 2025-06-23 15:08:18,259] Trial 24 finished with value: 0.02786139026284218 and parameters: {'window_size': 52, 'hidden_size': 64, 'num_layers': 3, 'dropout_rate': 0.33798596910856044, 'learning_rate': 0.009891638050544953, 'batch_size': 128}. Best is trial 11 with value: 0.025831958279013634.\n",
      "[I 2025-06-23 15:08:29,762] Trial 25 finished with value: 0.07650123536586761 and parameters: {'window_size': 48, 'hidden_size': 64, 'num_layers': 3, 'dropout_rate': 0.2996205699609005, 'learning_rate': 0.006678788078103715, 'batch_size': 128}. Best is trial 11 with value: 0.025831958279013634.\n",
      "[I 2025-06-23 15:09:20,723] Trial 26 finished with value: 0.0764786209911108 and parameters: {'window_size': 36, 'hidden_size': 32, 'num_layers': 3, 'dropout_rate': 0.3347695741083762, 'learning_rate': 0.0024192337377066785, 'batch_size': 16}. Best is trial 11 with value: 0.025831958279013634.\n",
      "[I 2025-06-23 15:09:55,595] Trial 27 finished with value: 0.08027534931898117 and parameters: {'window_size': 52, 'hidden_size': 128, 'num_layers': 3, 'dropout_rate': 0.2796551398531544, 'learning_rate': 0.004956773962340967, 'batch_size': 32}. Best is trial 11 with value: 0.025831958279013634.\n",
      "[I 2025-06-23 15:10:07,866] Trial 28 finished with value: 0.05449332296848297 and parameters: {'window_size': 44, 'hidden_size': 64, 'num_layers': 3, 'dropout_rate': 0.45830899658295743, 'learning_rate': 0.007271739332976256, 'batch_size': 128}. Best is trial 11 with value: 0.025831958279013634.\n",
      "[I 2025-06-23 15:10:51,083] Trial 29 finished with value: 0.0708601288497448 and parameters: {'window_size': 48, 'hidden_size': 128, 'num_layers': 1, 'dropout_rate': 0.3457458441202635, 'learning_rate': 0.004438555112433496, 'batch_size': 16}. Best is trial 11 with value: 0.025831958279013634.\n",
      "[I 2025-06-23 15:11:06,885] Trial 30 finished with value: 0.07740568245450656 and parameters: {'window_size': 36, 'hidden_size': 32, 'num_layers': 2, 'dropout_rate': 0.40531840804775615, 'learning_rate': 0.0018395132665075594, 'batch_size': 64}. Best is trial 11 with value: 0.025831958279013634.\n",
      "[I 2025-06-23 15:11:18,848] Trial 31 finished with value: 0.04105154052376747 and parameters: {'window_size': 52, 'hidden_size': 64, 'num_layers': 3, 'dropout_rate': 0.4100607567937821, 'learning_rate': 0.009942999829557235, 'batch_size': 128}. Best is trial 11 with value: 0.025831958279013634.\n",
      "[I 2025-06-23 15:11:31,459] Trial 32 finished with value: 0.0545743964612484 and parameters: {'window_size': 52, 'hidden_size': 64, 'num_layers': 3, 'dropout_rate': 0.41055196231641466, 'learning_rate': 0.0075171335887582414, 'batch_size': 128}. Best is trial 11 with value: 0.025831958279013634.\n",
      "[I 2025-06-23 15:11:44,153] Trial 33 finished with value: 0.06485047936439514 and parameters: {'window_size': 48, 'hidden_size': 64, 'num_layers': 3, 'dropout_rate': 0.45846777289551455, 'learning_rate': 0.009908428777459743, 'batch_size': 128}. Best is trial 11 with value: 0.025831958279013634.\n",
      "[I 2025-06-23 15:11:56,738] Trial 34 finished with value: 0.11986059881746769 and parameters: {'window_size': 12, 'hidden_size': 64, 'num_layers': 3, 'dropout_rate': 0.3141993691205401, 'learning_rate': 0.005455488100585649, 'batch_size': 128}. Best is trial 11 with value: 0.025831958279013634.\n",
      "[I 2025-06-23 15:12:07,710] Trial 35 finished with value: 0.059304844588041306 and parameters: {'window_size': 44, 'hidden_size': 64, 'num_layers': 2, 'dropout_rate': 0.3619931970059275, 'learning_rate': 0.003420473997356569, 'batch_size': 128}. Best is trial 11 with value: 0.025831958279013634.\n",
      "[I 2025-06-23 15:12:18,584] Trial 36 finished with value: 0.03928126394748688 and parameters: {'window_size': 52, 'hidden_size': 16, 'num_layers': 3, 'dropout_rate': 0.49672398060334166, 'learning_rate': 0.007664924476050517, 'batch_size': 128}. Best is trial 11 with value: 0.025831958279013634.\n",
      "[I 2025-06-23 15:13:09,518] Trial 37 finished with value: 0.07307475018832418 and parameters: {'window_size': 40, 'hidden_size': 16, 'num_layers': 3, 'dropout_rate': 0.4794051480034572, 'learning_rate': 0.002936649874342604, 'batch_size': 16}. Best is trial 11 with value: 0.025831958279013634.\n",
      "[I 2025-06-23 15:13:27,199] Trial 38 finished with value: 0.11487059916059177 and parameters: {'window_size': 20, 'hidden_size': 16, 'num_layers': 3, 'dropout_rate': 0.4999010805416629, 'learning_rate': 0.00032437245813155176, 'batch_size': 64}. Best is trial 11 with value: 0.025831958279013634.\n",
      "[I 2025-06-23 15:13:37,556] Trial 39 finished with value: 0.0730118528008461 and parameters: {'window_size': 44, 'hidden_size': 16, 'num_layers': 2, 'dropout_rate': 0.4655412479454883, 'learning_rate': 0.007053281734078057, 'batch_size': 128}. Best is trial 11 with value: 0.025831958279013634.\n",
      "[I 2025-06-23 15:14:00,159] Trial 40 finished with value: 0.06861110031604767 and parameters: {'window_size': 48, 'hidden_size': 16, 'num_layers': 1, 'dropout_rate': 0.24485838749669428, 'learning_rate': 0.004514728054595882, 'batch_size': 32}. Best is trial 11 with value: 0.025831958279013634.\n",
      "[I 2025-06-23 15:14:10,741] Trial 41 finished with value: 0.04813297465443611 and parameters: {'window_size': 52, 'hidden_size': 16, 'num_layers': 3, 'dropout_rate': 0.41382029822334304, 'learning_rate': 0.00797238342773217, 'batch_size': 128}. Best is trial 11 with value: 0.025831958279013634.\n",
      "[I 2025-06-23 15:14:21,503] Trial 42 finished with value: 0.048320185393095016 and parameters: {'window_size': 52, 'hidden_size': 32, 'num_layers': 3, 'dropout_rate': 0.3501331079459857, 'learning_rate': 0.006156168598275581, 'batch_size': 128}. Best is trial 11 with value: 0.025831958279013634.\n",
      "[I 2025-06-23 15:14:32,143] Trial 43 finished with value: 0.06136990338563919 and parameters: {'window_size': 48, 'hidden_size': 16, 'num_layers': 3, 'dropout_rate': 0.44093204918559226, 'learning_rate': 0.008488757721738875, 'batch_size': 128}. Best is trial 11 with value: 0.025831958279013634.\n",
      "[I 2025-06-23 15:14:44,224] Trial 44 finished with value: 0.05283212661743164 and parameters: {'window_size': 52, 'hidden_size': 64, 'num_layers': 3, 'dropout_rate': 0.2848512820549181, 'learning_rate': 0.005870236294839247, 'batch_size': 128}. Best is trial 11 with value: 0.025831958279013634.\n",
      "[I 2025-06-23 15:14:56,623] Trial 45 finished with value: 0.06125142052769661 and parameters: {'window_size': 40, 'hidden_size': 64, 'num_layers': 3, 'dropout_rate': 0.3843150080208103, 'learning_rate': 0.00995398562685235, 'batch_size': 128}. Best is trial 11 with value: 0.025831958279013634.\n",
      "[I 2025-06-23 15:15:13,235] Trial 46 finished with value: 0.09779785573482513 and parameters: {'window_size': 48, 'hidden_size': 32, 'num_layers': 2, 'dropout_rate': 0.15517735589197576, 'learning_rate': 0.0010204929749058986, 'batch_size': 64}. Best is trial 11 with value: 0.025831958279013634.\n",
      "[I 2025-06-23 15:15:24,907] Trial 47 finished with value: 0.2976745367050171 and parameters: {'window_size': 52, 'hidden_size': 16, 'num_layers': 3, 'dropout_rate': 0.4241854862810649, 'learning_rate': 0.00010240224062606642, 'batch_size': 128}. Best is trial 11 with value: 0.025831958279013634.\n",
      "[I 2025-06-23 15:15:49,397] Trial 48 finished with value: 0.062441409875949226 and parameters: {'window_size': 44, 'hidden_size': 64, 'num_layers': 1, 'dropout_rate': 0.3217248644297291, 'learning_rate': 0.0014808932912544037, 'batch_size': 32}. Best is trial 11 with value: 0.025831958279013634.\n",
      "[I 2025-06-23 15:16:13,155] Trial 49 finished with value: 0.11331511437892913 and parameters: {'window_size': 24, 'hidden_size': 128, 'num_layers': 3, 'dropout_rate': 0.4794646776107107, 'learning_rate': 0.003713572923879315, 'batch_size': 64}. Best is trial 11 with value: 0.025831958279013634.\n",
      "[I 2025-06-23 15:16:24,124] Trial 50 finished with value: 0.06604547053575516 and parameters: {'window_size': 48, 'hidden_size': 32, 'num_layers': 3, 'dropout_rate': 0.23731394209744858, 'learning_rate': 0.008389613141211975, 'batch_size': 128}. Best is trial 11 with value: 0.025831958279013634.\n",
      "[I 2025-06-23 15:16:36,092] Trial 51 finished with value: 0.0612129382789135 and parameters: {'window_size': 52, 'hidden_size': 64, 'num_layers': 3, 'dropout_rate': 0.38242903850421517, 'learning_rate': 0.008243982571945955, 'batch_size': 128}. Best is trial 11 with value: 0.025831958279013634.\n",
      "[I 2025-06-23 15:16:47,804] Trial 52 finished with value: 0.05795616656541824 and parameters: {'window_size': 52, 'hidden_size': 64, 'num_layers': 3, 'dropout_rate': 0.3509304267092202, 'learning_rate': 0.006087247480179843, 'batch_size': 128}. Best is trial 11 with value: 0.025831958279013634.\n",
      "[I 2025-06-23 15:16:59,389] Trial 53 finished with value: 0.058255452662706375 and parameters: {'window_size': 48, 'hidden_size': 64, 'num_layers': 3, 'dropout_rate': 0.40063374748540836, 'learning_rate': 0.008854979554154528, 'batch_size': 128}. Best is trial 11 with value: 0.025831958279013634.\n",
      "[I 2025-06-23 15:17:11,034] Trial 54 finished with value: 0.04303177446126938 and parameters: {'window_size': 52, 'hidden_size': 64, 'num_layers': 3, 'dropout_rate': 0.37215883759117774, 'learning_rate': 0.006688808584112963, 'batch_size': 128}. Best is trial 11 with value: 0.025831958279013634.\n",
      "[I 2025-06-23 15:17:22,562] Trial 55 finished with value: 0.02841825783252716 and parameters: {'window_size': 52, 'hidden_size': 64, 'num_layers': 3, 'dropout_rate': 0.37041159259351947, 'learning_rate': 0.004850144380840634, 'batch_size': 128}. Best is trial 11 with value: 0.025831958279013634.\n",
      "[I 2025-06-23 15:17:38,898] Trial 56 finished with value: 0.06213308498263359 and parameters: {'window_size': 48, 'hidden_size': 64, 'num_layers': 3, 'dropout_rate': 0.3086301637820466, 'learning_rate': 0.004808925467801382, 'batch_size': 64}. Best is trial 11 with value: 0.025831958279013634.\n",
      "[I 2025-06-23 15:17:50,788] Trial 57 finished with value: 0.061408840119838715 and parameters: {'window_size': 44, 'hidden_size': 64, 'num_layers': 3, 'dropout_rate': 0.3382119596656438, 'learning_rate': 0.002678278686378248, 'batch_size': 128}. Best is trial 11 with value: 0.025831958279013634.\n",
      "[I 2025-06-23 15:18:39,488] Trial 58 finished with value: 0.08762781322002411 and parameters: {'window_size': 52, 'hidden_size': 32, 'num_layers': 3, 'dropout_rate': 0.4221075401747933, 'learning_rate': 0.0039516829764368175, 'batch_size': 16}. Best is trial 11 with value: 0.025831958279013634.\n",
      "[I 2025-06-23 15:18:50,004] Trial 59 finished with value: 0.04184195026755333 and parameters: {'window_size': 52, 'hidden_size': 64, 'num_layers': 1, 'dropout_rate': 0.44226879890769516, 'learning_rate': 0.0052262804584381865, 'batch_size': 128}. Best is trial 11 with value: 0.025831958279013634.\n",
      "[I 2025-06-23 15:19:26,891] Trial 60 finished with value: 0.08094969391822815 and parameters: {'window_size': 48, 'hidden_size': 128, 'num_layers': 3, 'dropout_rate': 0.3569453485196461, 'learning_rate': 0.00048160018479248947, 'batch_size': 32}. Best is trial 11 with value: 0.025831958279013634.\n",
      "[I 2025-06-23 15:19:36,405] Trial 61 finished with value: 0.07017385959625244 and parameters: {'window_size': 52, 'hidden_size': 64, 'num_layers': 1, 'dropout_rate': 0.45026813702852136, 'learning_rate': 0.005436538040948251, 'batch_size': 128}. Best is trial 11 with value: 0.025831958279013634.\n",
      "[I 2025-06-23 15:19:46,032] Trial 62 finished with value: 0.05293101817369461 and parameters: {'window_size': 52, 'hidden_size': 64, 'num_layers': 1, 'dropout_rate': 0.48247275990038796, 'learning_rate': 0.004803647788286865, 'batch_size': 128}. Best is trial 11 with value: 0.025831958279013634.\n",
      "[I 2025-06-23 15:19:55,730] Trial 63 finished with value: 0.05466848611831665 and parameters: {'window_size': 48, 'hidden_size': 64, 'num_layers': 1, 'dropout_rate': 0.44391952471299145, 'learning_rate': 0.006563161675598002, 'batch_size': 128}. Best is trial 11 with value: 0.025831958279013634.\n",
      "[I 2025-06-23 15:20:05,794] Trial 64 finished with value: 0.035010650753974915 and parameters: {'window_size': 52, 'hidden_size': 64, 'num_layers': 1, 'dropout_rate': 0.3987721507407825, 'learning_rate': 0.0032255018592747577, 'batch_size': 128}. Best is trial 11 with value: 0.025831958279013634.\n",
      "[I 2025-06-23 15:20:15,846] Trial 65 finished with value: 0.060192059725522995 and parameters: {'window_size': 48, 'hidden_size': 64, 'num_layers': 1, 'dropout_rate': 0.39747790758624396, 'learning_rate': 0.0031938505155631653, 'batch_size': 128}. Best is trial 11 with value: 0.025831958279013634.\n",
      "[I 2025-06-23 15:20:32,114] Trial 66 finished with value: 0.0410611517727375 and parameters: {'window_size': 52, 'hidden_size': 32, 'num_layers': 2, 'dropout_rate': 0.3673119810164308, 'learning_rate': 0.0021353946064713277, 'batch_size': 64}. Best is trial 11 with value: 0.025831958279013634.\n",
      "[I 2025-06-23 15:20:44,358] Trial 67 finished with value: 0.1117997094988823 and parameters: {'window_size': 28, 'hidden_size': 64, 'num_layers': 3, 'dropout_rate': 0.38392802493097977, 'learning_rate': 0.00751417801345091, 'batch_size': 128}. Best is trial 11 with value: 0.025831958279013634.\n",
      "[I 2025-06-23 15:20:55,115] Trial 68 finished with value: 0.07837067544460297 and parameters: {'window_size': 48, 'hidden_size': 16, 'num_layers': 3, 'dropout_rate': 0.3240585952427417, 'learning_rate': 0.008977557710358979, 'batch_size': 128}. Best is trial 11 with value: 0.025831958279013634.\n",
      "[I 2025-06-23 15:21:44,337] Trial 69 finished with value: 0.03854995593428612 and parameters: {'window_size': 52, 'hidden_size': 64, 'num_layers': 3, 'dropout_rate': 0.41759410399111163, 'learning_rate': 0.003931138400819274, 'batch_size': 16}. Best is trial 11 with value: 0.025831958279013634.\n",
      "[I 2025-06-23 15:22:28,260] Trial 70 finished with value: 0.06291593207667272 and parameters: {'window_size': 44, 'hidden_size': 64, 'num_layers': 1, 'dropout_rate': 0.3895231632033191, 'learning_rate': 0.003452700187170178, 'batch_size': 16}. Best is trial 11 with value: 0.025831958279013634.\n",
      "[I 2025-06-23 15:23:18,757] Trial 71 finished with value: 0.03354791924357414 and parameters: {'window_size': 52, 'hidden_size': 64, 'num_layers': 3, 'dropout_rate': 0.42065134754786077, 'learning_rate': 0.004143926433012074, 'batch_size': 16}. Best is trial 11 with value: 0.025831958279013634.\n",
      "[I 2025-06-23 15:24:07,161] Trial 72 finished with value: 0.06582901626825333 and parameters: {'window_size': 52, 'hidden_size': 64, 'num_layers': 3, 'dropout_rate': 0.4267734164150726, 'learning_rate': 0.004274056039395079, 'batch_size': 16}. Best is trial 11 with value: 0.025831958279013634.\n",
      "[I 2025-06-23 15:24:56,683] Trial 73 finished with value: 0.04724385216832161 and parameters: {'window_size': 52, 'hidden_size': 64, 'num_layers': 3, 'dropout_rate': 0.3406290224031009, 'learning_rate': 0.0022168889035562933, 'batch_size': 16}. Best is trial 11 with value: 0.025831958279013634.\n",
      "[I 2025-06-23 15:25:46,914] Trial 74 finished with value: 0.04944412549957633 and parameters: {'window_size': 48, 'hidden_size': 64, 'num_layers': 3, 'dropout_rate': 0.46758491698389487, 'learning_rate': 0.0029451966847256384, 'batch_size': 16}. Best is trial 11 with value: 0.025831958279013634.\n",
      "[I 2025-06-23 15:26:46,533] Trial 75 finished with value: 0.12951771169900894 and parameters: {'window_size': 8, 'hidden_size': 64, 'num_layers': 3, 'dropout_rate': 0.41070237098013557, 'learning_rate': 0.0038838031176396453, 'batch_size': 16}. Best is trial 11 with value: 0.025831958279013634.\n",
      "[I 2025-06-23 15:27:36,622] Trial 76 finished with value: 0.08373594284057617 and parameters: {'window_size': 52, 'hidden_size': 16, 'num_layers': 3, 'dropout_rate': 0.3746964300546246, 'learning_rate': 0.002445363300304467, 'batch_size': 16}. Best is trial 11 with value: 0.025831958279013634.\n",
      "[I 2025-06-23 15:28:27,044] Trial 77 finished with value: 0.05400991067290306 and parameters: {'window_size': 52, 'hidden_size': 32, 'num_layers': 3, 'dropout_rate': 0.36075029420576743, 'learning_rate': 0.005523785081998104, 'batch_size': 16}. Best is trial 11 with value: 0.025831958279013634.\n",
      "[I 2025-06-23 15:29:20,351] Trial 78 finished with value: 0.07993593945034913 and parameters: {'window_size': 32, 'hidden_size': 128, 'num_layers': 2, 'dropout_rate': 0.41906373058554985, 'learning_rate': 0.0007753931232050228, 'batch_size': 16}. Best is trial 11 with value: 0.025831958279013634.\n",
      "[I 2025-06-23 15:29:37,625] Trial 79 finished with value: 0.06441177427768707 and parameters: {'window_size': 48, 'hidden_size': 64, 'num_layers': 3, 'dropout_rate': 0.39538636929144805, 'learning_rate': 0.001875856999323938, 'batch_size': 64}. Best is trial 11 with value: 0.025831958279013634.\n",
      "[I 2025-06-23 15:30:28,255] Trial 80 finished with value: 0.09123354032635689 and parameters: {'window_size': 48, 'hidden_size': 64, 'num_layers': 3, 'dropout_rate': 0.43224478411724065, 'learning_rate': 0.004265031164344498, 'batch_size': 16}. Best is trial 11 with value: 0.025831958279013634.\n",
      "[I 2025-06-23 15:30:40,246] Trial 81 finished with value: 0.05848228931427002 and parameters: {'window_size': 52, 'hidden_size': 64, 'num_layers': 3, 'dropout_rate': 0.40658734745688274, 'learning_rate': 0.007382956836995625, 'batch_size': 128}. Best is trial 11 with value: 0.025831958279013634.\n",
      "[I 2025-06-23 15:30:52,407] Trial 82 finished with value: 0.05373189598321915 and parameters: {'window_size': 52, 'hidden_size': 64, 'num_layers': 3, 'dropout_rate': 0.3292935028029911, 'learning_rate': 0.009996990706585898, 'batch_size': 128}. Best is trial 11 with value: 0.025831958279013634.\n",
      "[I 2025-06-23 15:31:20,347] Trial 83 finished with value: 0.036802299320697784 and parameters: {'window_size': 52, 'hidden_size': 64, 'num_layers': 3, 'dropout_rate': 0.4578364574138827, 'learning_rate': 0.006652609272295842, 'batch_size': 32}. Best is trial 11 with value: 0.025831958279013634.\n",
      "[I 2025-06-23 15:31:47,371] Trial 84 finished with value: 0.02732987515628338 and parameters: {'window_size': 52, 'hidden_size': 64, 'num_layers': 3, 'dropout_rate': 0.4909568169754658, 'learning_rate': 0.006323540824017351, 'batch_size': 32}. Best is trial 11 with value: 0.025831958279013634.\n",
      "[I 2025-06-23 15:32:14,525] Trial 85 finished with value: 0.06924027390778065 and parameters: {'window_size': 48, 'hidden_size': 64, 'num_layers': 3, 'dropout_rate': 0.45262581159827175, 'learning_rate': 0.006277048892713915, 'batch_size': 32}. Best is trial 11 with value: 0.025831958279013634.\n",
      "[I 2025-06-23 15:32:41,899] Trial 86 finished with value: 0.03229349106550217 and parameters: {'window_size': 52, 'hidden_size': 64, 'num_layers': 3, 'dropout_rate': 0.4855851995250806, 'learning_rate': 0.003300380654171976, 'batch_size': 32}. Best is trial 11 with value: 0.025831958279013634.\n",
      "[I 2025-06-23 15:33:10,152] Trial 87 finished with value: 0.07366264797747135 and parameters: {'window_size': 48, 'hidden_size': 64, 'num_layers': 3, 'dropout_rate': 0.4669013219591044, 'learning_rate': 0.004810158399704917, 'batch_size': 32}. Best is trial 11 with value: 0.025831958279013634.\n",
      "[I 2025-06-23 15:33:38,258] Trial 88 finished with value: 0.11553669658799966 and parameters: {'window_size': 16, 'hidden_size': 64, 'num_layers': 1, 'dropout_rate': 0.48907323851310835, 'learning_rate': 0.0033888016384662667, 'batch_size': 32}. Best is trial 11 with value: 0.025831958279013634.\n",
      "[I 2025-06-23 15:34:06,480] Trial 89 finished with value: 0.03561970219016075 and parameters: {'window_size': 52, 'hidden_size': 64, 'num_layers': 3, 'dropout_rate': 0.4694551724903604, 'learning_rate': 0.005752152837499399, 'batch_size': 32}. Best is trial 11 with value: 0.025831958279013634.\n",
      "[I 2025-06-23 15:34:35,397] Trial 90 finished with value: 0.06872466703255971 and parameters: {'window_size': 44, 'hidden_size': 32, 'num_layers': 3, 'dropout_rate': 0.47744571286463605, 'learning_rate': 0.005758108189878635, 'batch_size': 32}. Best is trial 11 with value: 0.025831958279013634.\n",
      "[I 2025-06-23 15:35:04,512] Trial 91 finished with value: 0.0540132038295269 and parameters: {'window_size': 52, 'hidden_size': 64, 'num_layers': 3, 'dropout_rate': 0.48774117693690366, 'learning_rate': 0.006919731743935019, 'batch_size': 32}. Best is trial 11 with value: 0.025831958279013634.\n",
      "[I 2025-06-23 15:35:32,348] Trial 92 finished with value: 0.05019054561853409 and parameters: {'window_size': 52, 'hidden_size': 64, 'num_layers': 3, 'dropout_rate': 0.47237383133725014, 'learning_rate': 0.005172187524019517, 'batch_size': 32}. Best is trial 11 with value: 0.025831958279013634.\n",
      "[I 2025-06-23 15:36:00,634] Trial 93 finished with value: 0.025783434510231018 and parameters: {'window_size': 52, 'hidden_size': 64, 'num_layers': 3, 'dropout_rate': 0.4544655880530529, 'learning_rate': 0.004494462852342454, 'batch_size': 32}. Best is trial 93 with value: 0.025783434510231018.\n",
      "[I 2025-06-23 15:36:28,920] Trial 94 finished with value: 0.09269941598176956 and parameters: {'window_size': 48, 'hidden_size': 64, 'num_layers': 3, 'dropout_rate': 0.4991618564555971, 'learning_rate': 0.004419337346885425, 'batch_size': 32}. Best is trial 93 with value: 0.025783434510231018.\n",
      "[I 2025-06-23 15:36:56,799] Trial 95 finished with value: 0.040014587342739105 and parameters: {'window_size': 52, 'hidden_size': 64, 'num_layers': 3, 'dropout_rate': 0.44885587459084814, 'learning_rate': 0.0030111670205849534, 'batch_size': 32}. Best is trial 93 with value: 0.025783434510231018.\n",
      "[I 2025-06-23 15:37:24,246] Trial 96 finished with value: 0.03035321831703186 and parameters: {'window_size': 52, 'hidden_size': 64, 'num_layers': 3, 'dropout_rate': 0.4340629018169507, 'learning_rate': 0.0025748347700933474, 'batch_size': 32}. Best is trial 93 with value: 0.025783434510231018.\n",
      "[I 2025-06-23 15:37:50,210] Trial 97 finished with value: 0.07166788913309574 and parameters: {'window_size': 48, 'hidden_size': 64, 'num_layers': 2, 'dropout_rate': 0.43667115920794614, 'learning_rate': 0.002733880690777694, 'batch_size': 32}. Best is trial 93 with value: 0.025783434510231018.\n",
      "[I 2025-06-23 15:38:22,765] Trial 98 finished with value: 0.10895978490060027 and parameters: {'window_size': 20, 'hidden_size': 64, 'num_layers': 3, 'dropout_rate': 0.4304440376582395, 'learning_rate': 0.003543625445442283, 'batch_size': 32}. Best is trial 93 with value: 0.025783434510231018.\n",
      "[I 2025-06-23 15:38:59,842] Trial 99 finished with value: 0.05610894337296486 and parameters: {'window_size': 40, 'hidden_size': 128, 'num_layers': 3, 'dropout_rate': 0.4595402545389188, 'learning_rate': 0.0024425803407070916, 'batch_size': 32}. Best is trial 93 with value: 0.025783434510231018.\n",
      "[I 2025-06-23 15:39:23,706] Trial 100 finished with value: 0.05493844300508499 and parameters: {'window_size': 52, 'hidden_size': 32, 'num_layers': 1, 'dropout_rate': 0.3510288524838184, 'learning_rate': 0.0016307285767508154, 'batch_size': 32}. Best is trial 93 with value: 0.025783434510231018.\n",
      "[I 2025-06-23 15:39:53,081] Trial 101 finished with value: 0.055744584649801254 and parameters: {'window_size': 52, 'hidden_size': 64, 'num_layers': 3, 'dropout_rate': 0.4704143389546467, 'learning_rate': 0.0031596967069772, 'batch_size': 32}. Best is trial 93 with value: 0.025783434510231018.\n",
      "[I 2025-06-23 15:40:21,388] Trial 102 finished with value: 0.05004842206835747 and parameters: {'window_size': 52, 'hidden_size': 64, 'num_layers': 3, 'dropout_rate': 0.48658913034084633, 'learning_rate': 0.004561936834448907, 'batch_size': 32}. Best is trial 93 with value: 0.025783434510231018.\n",
      "[I 2025-06-23 15:40:50,660] Trial 103 finished with value: 0.04786502197384834 and parameters: {'window_size': 52, 'hidden_size': 64, 'num_layers': 3, 'dropout_rate': 0.45824691018939556, 'learning_rate': 0.003699427125516162, 'batch_size': 32}. Best is trial 93 with value: 0.025783434510231018.\n",
      "[I 2025-06-23 15:41:08,387] Trial 104 finished with value: 0.07837315648794174 and parameters: {'window_size': 52, 'hidden_size': 64, 'num_layers': 3, 'dropout_rate': 0.38897950306292806, 'learning_rate': 0.008046151575114843, 'batch_size': 64}. Best is trial 93 with value: 0.025783434510231018.\n",
      "[I 2025-06-23 15:41:35,418] Trial 105 finished with value: 0.07269466295838356 and parameters: {'window_size': 48, 'hidden_size': 64, 'num_layers': 3, 'dropout_rate': 0.29625959771001525, 'learning_rate': 0.0059933934066027745, 'batch_size': 32}. Best is trial 93 with value: 0.025783434510231018.\n",
      "[I 2025-06-23 15:42:03,058] Trial 106 finished with value: 0.040310706943273544 and parameters: {'window_size': 52, 'hidden_size': 64, 'num_layers': 3, 'dropout_rate': 0.44365981872934906, 'learning_rate': 0.005084083446861009, 'batch_size': 32}. Best is trial 93 with value: 0.025783434510231018.\n",
      "[I 2025-06-23 15:42:31,074] Trial 107 finished with value: 0.0703523587435484 and parameters: {'window_size': 48, 'hidden_size': 64, 'num_layers': 3, 'dropout_rate': 0.4024984921890339, 'learning_rate': 0.0013057678963509143, 'batch_size': 32}. Best is trial 93 with value: 0.025783434510231018.\n",
      "[I 2025-06-23 15:42:48,587] Trial 108 finished with value: 0.02777116931974888 and parameters: {'window_size': 52, 'hidden_size': 64, 'num_layers': 3, 'dropout_rate': 0.37802680440449554, 'learning_rate': 0.00416215478887336, 'batch_size': 64}. Best is trial 93 with value: 0.025783434510231018.\n",
      "[I 2025-06-23 15:43:03,338] Trial 109 finished with value: 0.04309163615107536 and parameters: {'window_size': 52, 'hidden_size': 64, 'num_layers': 1, 'dropout_rate': 0.36500773663714553, 'learning_rate': 0.0041725493023073885, 'batch_size': 64}. Best is trial 93 with value: 0.025783434510231018.\n",
      "[I 2025-06-23 15:43:20,125] Trial 110 finished with value: 0.07255198061466217 and parameters: {'window_size': 48, 'hidden_size': 32, 'num_layers': 3, 'dropout_rate': 0.37398092564495056, 'learning_rate': 0.0032260275079809444, 'batch_size': 64}. Best is trial 93 with value: 0.025783434510231018.\n",
      "[I 2025-06-23 15:43:37,590] Trial 111 finished with value: 0.03022603690624237 and parameters: {'window_size': 52, 'hidden_size': 64, 'num_layers': 3, 'dropout_rate': 0.49267648898484057, 'learning_rate': 0.004630338265447761, 'batch_size': 64}. Best is trial 93 with value: 0.025783434510231018.\n",
      "[I 2025-06-23 15:43:54,747] Trial 112 finished with value: 0.06265248358249664 and parameters: {'window_size': 52, 'hidden_size': 64, 'num_layers': 3, 'dropout_rate': 0.35576975813993916, 'learning_rate': 0.003946955436378075, 'batch_size': 64}. Best is trial 93 with value: 0.025783434510231018.\n",
      "[I 2025-06-23 15:44:11,597] Trial 113 finished with value: 0.045923952013254166 and parameters: {'window_size': 52, 'hidden_size': 64, 'num_layers': 3, 'dropout_rate': 0.31674228924031333, 'learning_rate': 0.004570407099576908, 'batch_size': 64}. Best is trial 93 with value: 0.025783434510231018.\n",
      "[I 2025-06-23 15:44:28,445] Trial 114 finished with value: 0.0479302741587162 and parameters: {'window_size': 52, 'hidden_size': 64, 'num_layers': 3, 'dropout_rate': 0.3810479618118732, 'learning_rate': 0.0027719600670820656, 'batch_size': 64}. Best is trial 93 with value: 0.025783434510231018.\n",
      "[I 2025-06-23 15:44:45,750] Trial 115 finished with value: 0.06212672218680382 and parameters: {'window_size': 52, 'hidden_size': 64, 'num_layers': 3, 'dropout_rate': 0.4950010171459506, 'learning_rate': 0.003489558017516897, 'batch_size': 64}. Best is trial 93 with value: 0.025783434510231018.\n",
      "[I 2025-06-23 15:45:02,977] Trial 116 finished with value: 0.081974558532238 and parameters: {'window_size': 48, 'hidden_size': 64, 'num_layers': 3, 'dropout_rate': 0.34557735460438305, 'learning_rate': 0.008928431531596174, 'batch_size': 64}. Best is trial 93 with value: 0.025783434510231018.\n",
      "[I 2025-06-23 15:45:20,226] Trial 117 finished with value: 0.058350563049316406 and parameters: {'window_size': 52, 'hidden_size': 64, 'num_layers': 3, 'dropout_rate': 0.4150366395879627, 'learning_rate': 0.005123136072619424, 'batch_size': 64}. Best is trial 93 with value: 0.025783434510231018.\n",
      "[I 2025-06-23 15:45:36,287] Trial 118 finished with value: 0.054202158004045486 and parameters: {'window_size': 52, 'hidden_size': 64, 'num_layers': 2, 'dropout_rate': 0.3995983713434782, 'learning_rate': 0.002578658040812268, 'batch_size': 64}. Best is trial 93 with value: 0.025783434510231018.\n",
      "[I 2025-06-23 15:45:48,374] Trial 119 finished with value: 0.062092989683151245 and parameters: {'window_size': 48, 'hidden_size': 64, 'num_layers': 3, 'dropout_rate': 0.4792231957554129, 'learning_rate': 0.003765489875961349, 'batch_size': 128}. Best is trial 93 with value: 0.025783434510231018.\n",
      "[I 2025-06-23 15:46:17,526] Trial 120 finished with value: 0.03064712882041931 and parameters: {'window_size': 52, 'hidden_size': 128, 'num_layers': 3, 'dropout_rate': 0.42366245562401095, 'learning_rate': 0.00424750897856582, 'batch_size': 64}. Best is trial 93 with value: 0.025783434510231018.\n",
      "[I 2025-06-23 15:46:46,261] Trial 121 finished with value: 0.05084070563316345 and parameters: {'window_size': 52, 'hidden_size': 128, 'num_layers': 3, 'dropout_rate': 0.4253711629565293, 'learning_rate': 0.004664030479579969, 'batch_size': 64}. Best is trial 93 with value: 0.025783434510231018.\n",
      "[I 2025-06-23 15:47:14,450] Trial 122 finished with value: 0.03504990041255951 and parameters: {'window_size': 52, 'hidden_size': 128, 'num_layers': 3, 'dropout_rate': 0.43714367755327954, 'learning_rate': 0.004224665870298113, 'batch_size': 64}. Best is trial 93 with value: 0.025783434510231018.\n",
      "[I 2025-06-23 15:47:42,106] Trial 123 finished with value: 0.05259574577212334 and parameters: {'window_size': 52, 'hidden_size': 128, 'num_layers': 3, 'dropout_rate': 0.39122707540870394, 'learning_rate': 0.005486889121172369, 'batch_size': 64}. Best is trial 93 with value: 0.025783434510231018.\n",
      "[I 2025-06-23 15:48:10,033] Trial 124 finished with value: 0.028980806469917297 and parameters: {'window_size': 52, 'hidden_size': 128, 'num_layers': 3, 'dropout_rate': 0.41144444644912925, 'learning_rate': 0.003201231295004706, 'batch_size': 64}. Best is trial 93 with value: 0.025783434510231018.\n",
      "[I 2025-06-23 15:48:38,656] Trial 125 finished with value: 0.06972649693489075 and parameters: {'window_size': 52, 'hidden_size': 128, 'num_layers': 3, 'dropout_rate': 0.407945649470209, 'learning_rate': 0.004092189060629285, 'batch_size': 64}. Best is trial 93 with value: 0.025783434510231018.\n",
      "[I 2025-06-23 15:49:06,871] Trial 126 finished with value: 0.06011336296796799 and parameters: {'window_size': 48, 'hidden_size': 128, 'num_layers': 3, 'dropout_rate': 0.4215263420912505, 'learning_rate': 0.006526644937594915, 'batch_size': 64}. Best is trial 93 with value: 0.025783434510231018.\n",
      "[I 2025-06-23 15:49:34,464] Trial 127 finished with value: 0.08330295979976654 and parameters: {'window_size': 48, 'hidden_size': 128, 'num_layers': 3, 'dropout_rate': 0.450710855351555, 'learning_rate': 0.00027387517593778585, 'batch_size': 64}. Best is trial 93 with value: 0.025783434510231018.\n",
      "[I 2025-06-23 15:50:02,650] Trial 128 finished with value: 0.03309324011206627 and parameters: {'window_size': 52, 'hidden_size': 128, 'num_layers': 3, 'dropout_rate': 0.3298734687144837, 'learning_rate': 0.004919446000327203, 'batch_size': 64}. Best is trial 93 with value: 0.025783434510231018.\n",
      "[I 2025-06-23 15:50:31,109] Trial 129 finished with value: 0.047039102762937546 and parameters: {'window_size': 52, 'hidden_size': 128, 'num_layers': 3, 'dropout_rate': 0.49284638638972855, 'learning_rate': 0.005019706249117818, 'batch_size': 64}. Best is trial 93 with value: 0.025783434510231018.\n",
      "[I 2025-06-23 15:50:59,178] Trial 130 finished with value: 0.06095818430185318 and parameters: {'window_size': 48, 'hidden_size': 128, 'num_layers': 3, 'dropout_rate': 0.33658654893704854, 'learning_rate': 0.003670967871873872, 'batch_size': 64}. Best is trial 93 with value: 0.025783434510231018.\n",
      "[I 2025-06-23 15:51:27,739] Trial 131 finished with value: 0.03248147666454315 and parameters: {'window_size': 52, 'hidden_size': 128, 'num_layers': 3, 'dropout_rate': 0.32451367032487877, 'learning_rate': 0.002974213215278958, 'batch_size': 64}. Best is trial 93 with value: 0.025783434510231018.\n",
      "[I 2025-06-23 15:51:56,729] Trial 132 finished with value: 0.04831724986433983 and parameters: {'window_size': 52, 'hidden_size': 128, 'num_layers': 3, 'dropout_rate': 0.29146831932920664, 'learning_rate': 0.003026229510638024, 'batch_size': 64}. Best is trial 93 with value: 0.025783434510231018.\n",
      "[I 2025-06-23 15:52:25,154] Trial 133 finished with value: 0.010852261446416378 and parameters: {'window_size': 52, 'hidden_size': 128, 'num_layers': 3, 'dropout_rate': 0.3105194523797959, 'learning_rate': 0.0023320421352418094, 'batch_size': 64}. Best is trial 133 with value: 0.010852261446416378.\n",
      "[I 2025-06-23 15:52:53,202] Trial 134 finished with value: 0.039098720997571945 and parameters: {'window_size': 52, 'hidden_size': 128, 'num_layers': 3, 'dropout_rate': 0.3046549301470285, 'learning_rate': 0.00213288868034905, 'batch_size': 64}. Best is trial 133 with value: 0.010852261446416378.\n",
      "[I 2025-06-23 15:53:21,161] Trial 135 finished with value: 0.025555485859513283 and parameters: {'window_size': 52, 'hidden_size': 128, 'num_layers': 3, 'dropout_rate': 0.3266502793384728, 'learning_rate': 0.0022353468310244316, 'batch_size': 64}. Best is trial 133 with value: 0.010852261446416378.\n",
      "[I 2025-06-23 15:53:49,121] Trial 136 finished with value: 0.05662533640861511 and parameters: {'window_size': 52, 'hidden_size': 128, 'num_layers': 3, 'dropout_rate': 0.30810004552749215, 'learning_rate': 0.0034811375562084908, 'batch_size': 64}. Best is trial 133 with value: 0.010852261446416378.\n",
      "[I 2025-06-23 15:54:16,243] Trial 137 finished with value: 0.09412238001823425 and parameters: {'window_size': 48, 'hidden_size': 128, 'num_layers': 3, 'dropout_rate': 0.27945726059425424, 'learning_rate': 0.0025627772490396357, 'batch_size': 64}. Best is trial 133 with value: 0.010852261446416378.\n",
      "[I 2025-06-23 15:54:44,189] Trial 138 finished with value: 0.05299080163240433 and parameters: {'window_size': 52, 'hidden_size': 128, 'num_layers': 3, 'dropout_rate': 0.3196811833629891, 'learning_rate': 0.002229696253391605, 'batch_size': 64}. Best is trial 133 with value: 0.010852261446416378.\n",
      "[I 2025-06-23 15:55:00,914] Trial 139 finished with value: 0.05086623504757881 and parameters: {'window_size': 52, 'hidden_size': 32, 'num_layers': 3, 'dropout_rate': 0.3387234156339873, 'learning_rate': 0.0018289751520063032, 'batch_size': 64}. Best is trial 133 with value: 0.010852261446416378.\n",
      "[I 2025-06-23 15:55:28,356] Trial 140 finished with value: 0.07538574188947678 and parameters: {'window_size': 48, 'hidden_size': 128, 'num_layers': 3, 'dropout_rate': 0.1197699138958361, 'learning_rate': 0.002051465095539842, 'batch_size': 64}. Best is trial 133 with value: 0.010852261446416378.\n",
      "[I 2025-06-23 15:55:56,193] Trial 141 finished with value: 0.03334946557879448 and parameters: {'window_size': 52, 'hidden_size': 128, 'num_layers': 3, 'dropout_rate': 0.326426115097555, 'learning_rate': 0.002834740787106615, 'batch_size': 64}. Best is trial 133 with value: 0.010852261446416378.\n",
      "[I 2025-06-23 15:56:24,218] Trial 142 finished with value: 0.04424138367176056 and parameters: {'window_size': 52, 'hidden_size': 128, 'num_layers': 3, 'dropout_rate': 0.3426757788228626, 'learning_rate': 0.002359091584723508, 'batch_size': 64}. Best is trial 133 with value: 0.010852261446416378.\n",
      "[I 2025-06-23 15:56:52,635] Trial 143 finished with value: 0.038971539586782455 and parameters: {'window_size': 52, 'hidden_size': 128, 'num_layers': 3, 'dropout_rate': 0.3137754279177016, 'learning_rate': 0.0015980615998862245, 'batch_size': 64}. Best is trial 133 with value: 0.010852261446416378.\n",
      "[I 2025-06-23 15:57:21,128] Trial 144 finished with value: 0.04475368186831474 and parameters: {'window_size': 52, 'hidden_size': 128, 'num_layers': 3, 'dropout_rate': 0.33371163126142106, 'learning_rate': 0.003103004017214111, 'batch_size': 64}. Best is trial 133 with value: 0.010852261446416378.\n",
      "[I 2025-06-23 15:57:44,856] Trial 145 finished with value: 0.118868987262249 and parameters: {'window_size': 24, 'hidden_size': 128, 'num_layers': 3, 'dropout_rate': 0.34987460634929834, 'learning_rate': 0.008139040113052476, 'batch_size': 64}. Best is trial 133 with value: 0.010852261446416378.\n",
      "[I 2025-06-23 15:58:12,595] Trial 146 finished with value: 0.06294452399015427 and parameters: {'window_size': 52, 'hidden_size': 32, 'num_layers': 3, 'dropout_rate': 0.3691683156178796, 'learning_rate': 0.001924759197795996, 'batch_size': 32}. Best is trial 133 with value: 0.010852261446416378.\n",
      "[I 2025-06-23 15:58:40,876] Trial 147 finished with value: 0.030373860150575638 and parameters: {'window_size': 52, 'hidden_size': 128, 'num_layers': 3, 'dropout_rate': 0.4854745468616938, 'learning_rate': 0.002814224037937616, 'batch_size': 64}. Best is trial 133 with value: 0.010852261446416378.\n",
      "[I 2025-06-23 15:59:21,137] Trial 148 finished with value: 0.02763705886900425 and parameters: {'window_size': 52, 'hidden_size': 128, 'num_layers': 3, 'dropout_rate': 0.4870310482574316, 'learning_rate': 0.0026388032432562683, 'batch_size': 32}. Best is trial 133 with value: 0.010852261446416378.\n",
      "[I 2025-06-23 15:59:39,645] Trial 149 finished with value: 0.04453174024820328 and parameters: {'window_size': 52, 'hidden_size': 128, 'num_layers': 2, 'dropout_rate': 0.4753250335016744, 'learning_rate': 0.0022935705261461752, 'batch_size': 128}. Best is trial 133 with value: 0.010852261446416378.\n",
      "[I 2025-06-23 16:00:07,221] Trial 150 finished with value: 0.08328362554311752 and parameters: {'window_size': 48, 'hidden_size': 128, 'num_layers': 3, 'dropout_rate': 0.4627837625102757, 'learning_rate': 0.002651938405190373, 'batch_size': 64}. Best is trial 133 with value: 0.010852261446416378.\n",
      "[I 2025-06-23 16:00:46,233] Trial 151 finished with value: 0.04920346289873123 and parameters: {'window_size': 52, 'hidden_size': 128, 'num_layers': 3, 'dropout_rate': 0.4878149238669979, 'learning_rate': 0.0033451382568824755, 'batch_size': 32}. Best is trial 133 with value: 0.010852261446416378.\n",
      "[I 2025-06-23 16:01:23,440] Trial 152 finished with value: 0.045927029103040695 and parameters: {'window_size': 52, 'hidden_size': 128, 'num_layers': 3, 'dropout_rate': 0.48362606939893377, 'learning_rate': 0.003908364913244749, 'batch_size': 32}. Best is trial 133 with value: 0.010852261446416378.\n",
      "[I 2025-06-23 16:01:50,438] Trial 153 finished with value: 0.0408119261264801 and parameters: {'window_size': 52, 'hidden_size': 16, 'num_layers': 3, 'dropout_rate': 0.4900141610195501, 'learning_rate': 0.0027837371307876677, 'batch_size': 32}. Best is trial 133 with value: 0.010852261446416378.\n",
      "[I 2025-06-23 16:02:26,532] Trial 154 finished with value: 0.08090502334137757 and parameters: {'window_size': 36, 'hidden_size': 128, 'num_layers': 3, 'dropout_rate': 0.4979770606405143, 'learning_rate': 0.004654575981049323, 'batch_size': 32}. Best is trial 133 with value: 0.010852261446416378.\n",
      "[I 2025-06-23 16:02:54,591] Trial 155 finished with value: 0.03616510331630707 and parameters: {'window_size': 52, 'hidden_size': 64, 'num_layers': 3, 'dropout_rate': 0.4832510550694646, 'learning_rate': 0.002489064506167243, 'batch_size': 32}. Best is trial 133 with value: 0.010852261446416378.\n",
      "[I 2025-06-23 16:03:23,046] Trial 156 finished with value: 0.047647494822740555 and parameters: {'window_size': 52, 'hidden_size': 64, 'num_layers': 3, 'dropout_rate': 0.19367125650988865, 'learning_rate': 0.007417599664177075, 'batch_size': 32}. Best is trial 133 with value: 0.010852261446416378.\n",
      "[I 2025-06-23 16:03:47,074] Trial 157 finished with value: 0.03475881367921829 and parameters: {'window_size': 52, 'hidden_size': 128, 'num_layers': 3, 'dropout_rate': 0.471439273471854, 'learning_rate': 0.00898893850783694, 'batch_size': 128}. Best is trial 133 with value: 0.010852261446416378.\n",
      "[I 2025-06-23 16:04:03,952] Trial 158 finished with value: 0.03528627008199692 and parameters: {'window_size': 52, 'hidden_size': 32, 'num_layers': 3, 'dropout_rate': 0.4356890776703399, 'learning_rate': 0.0033410785680354593, 'batch_size': 64}. Best is trial 133 with value: 0.010852261446416378.\n",
      "[I 2025-06-23 16:04:32,904] Trial 159 finished with value: 0.08838048577308655 and parameters: {'window_size': 48, 'hidden_size': 64, 'num_layers': 3, 'dropout_rate': 0.45436081564105557, 'learning_rate': 0.004412256023808302, 'batch_size': 32}. Best is trial 133 with value: 0.010852261446416378.\n",
      "[I 2025-06-23 16:04:50,333] Trial 160 finished with value: 0.06555025279521942 and parameters: {'window_size': 52, 'hidden_size': 64, 'num_layers': 3, 'dropout_rate': 0.49879008486995824, 'learning_rate': 0.0008884920183598553, 'batch_size': 64}. Best is trial 133 with value: 0.010852261446416378.\n",
      "[I 2025-06-23 16:05:18,256] Trial 161 finished with value: 0.032840367406606674 and parameters: {'window_size': 52, 'hidden_size': 128, 'num_layers': 3, 'dropout_rate': 0.3128155552812508, 'learning_rate': 0.0027813725494908736, 'batch_size': 64}. Best is trial 133 with value: 0.010852261446416378.\n",
      "[I 2025-06-23 16:05:45,779] Trial 162 finished with value: 0.02238830365240574 and parameters: {'window_size': 52, 'hidden_size': 128, 'num_layers': 3, 'dropout_rate': 0.32425414683221787, 'learning_rate': 0.0030227680118035585, 'batch_size': 64}. Best is trial 133 with value: 0.010852261446416378.\n",
      "[I 2025-06-23 16:06:13,297] Trial 163 finished with value: 0.04842500016093254 and parameters: {'window_size': 52, 'hidden_size': 128, 'num_layers': 3, 'dropout_rate': 0.4803554947903612, 'learning_rate': 0.0005408510424486772, 'batch_size': 64}. Best is trial 133 with value: 0.010852261446416378.\n",
      "[I 2025-06-23 16:06:41,773] Trial 164 finished with value: 0.04202619567513466 and parameters: {'window_size': 52, 'hidden_size': 128, 'num_layers': 3, 'dropout_rate': 0.35988833098320466, 'learning_rate': 0.0036587338617657048, 'batch_size': 64}. Best is trial 133 with value: 0.010852261446416378.\n",
      "[I 2025-06-23 16:07:06,598] Trial 165 finished with value: 0.0824764221906662 and parameters: {'window_size': 52, 'hidden_size': 128, 'num_layers': 3, 'dropout_rate': 0.3017530353912138, 'learning_rate': 0.002034913708223258, 'batch_size': 128}. Best is trial 133 with value: 0.010852261446416378.\n",
      "[I 2025-06-23 16:07:24,627] Trial 166 finished with value: 0.058238107711076736 and parameters: {'window_size': 48, 'hidden_size': 64, 'num_layers': 3, 'dropout_rate': 0.41441431373766224, 'learning_rate': 0.0031081997146295867, 'batch_size': 64}. Best is trial 133 with value: 0.010852261446416378.\n",
      "[I 2025-06-23 16:08:03,171] Trial 167 finished with value: 0.02817111648619175 and parameters: {'window_size': 52, 'hidden_size': 128, 'num_layers': 3, 'dropout_rate': 0.4462263483452698, 'learning_rate': 0.003956425464234431, 'batch_size': 32}. Best is trial 133 with value: 0.010852261446416378.\n",
      "[I 2025-06-23 16:08:31,737] Trial 168 finished with value: 0.03607238456606865 and parameters: {'window_size': 52, 'hidden_size': 128, 'num_layers': 3, 'dropout_rate': 0.4309598616027283, 'learning_rate': 0.0055827088523056866, 'batch_size': 64}. Best is trial 133 with value: 0.010852261446416378.\n",
      "[I 2025-06-23 16:09:10,684] Trial 169 finished with value: 0.028975188732147217 and parameters: {'window_size': 52, 'hidden_size': 128, 'num_layers': 3, 'dropout_rate': 0.445317276676308, 'learning_rate': 0.004470854304738746, 'batch_size': 32}. Best is trial 133 with value: 0.010852261446416378.\n",
      "[I 2025-06-23 16:09:48,987] Trial 170 finished with value: 0.02623952366411686 and parameters: {'window_size': 52, 'hidden_size': 128, 'num_layers': 3, 'dropout_rate': 0.449887583258067, 'learning_rate': 0.00428651802450458, 'batch_size': 32}. Best is trial 133 with value: 0.010852261446416378.\n",
      "[I 2025-06-23 16:10:23,617] Trial 171 finished with value: 0.1390211180998729 and parameters: {'window_size': 12, 'hidden_size': 128, 'num_layers': 3, 'dropout_rate': 0.46416003665342576, 'learning_rate': 0.004021012732238122, 'batch_size': 32}. Best is trial 133 with value: 0.010852261446416378.\n",
      "[I 2025-06-23 16:11:00,837] Trial 172 finished with value: 0.04248271882534027 and parameters: {'window_size': 52, 'hidden_size': 128, 'num_layers': 3, 'dropout_rate': 0.4446879243019824, 'learning_rate': 0.004260801137763711, 'batch_size': 32}. Best is trial 133 with value: 0.010852261446416378.\n",
      "[I 2025-06-23 16:11:38,710] Trial 173 finished with value: 0.02968965284526348 and parameters: {'window_size': 52, 'hidden_size': 128, 'num_layers': 3, 'dropout_rate': 0.44625974470224594, 'learning_rate': 0.004740022612529398, 'batch_size': 32}. Best is trial 133 with value: 0.010852261446416378.\n",
      "[I 2025-06-23 16:12:16,989] Trial 174 finished with value: 0.03104351833462715 and parameters: {'window_size': 52, 'hidden_size': 128, 'num_layers': 3, 'dropout_rate': 0.44523002055809935, 'learning_rate': 0.003742584513591689, 'batch_size': 32}. Best is trial 133 with value: 0.010852261446416378.\n",
      "[I 2025-06-23 16:12:53,405] Trial 175 finished with value: 0.08624203343476568 and parameters: {'window_size': 32, 'hidden_size': 128, 'num_layers': 3, 'dropout_rate': 0.45273679923406007, 'learning_rate': 0.005153763419551907, 'batch_size': 32}. Best is trial 133 with value: 0.010852261446416378.\n",
      "[I 2025-06-23 16:13:32,001] Trial 176 finished with value: 0.032450031489133835 and parameters: {'window_size': 52, 'hidden_size': 128, 'num_layers': 3, 'dropout_rate': 0.46092291740641983, 'learning_rate': 0.004510751737398091, 'batch_size': 32}. Best is trial 133 with value: 0.010852261446416378.\n",
      "[I 2025-06-23 16:14:10,417] Trial 177 finished with value: 0.06479913741350174 and parameters: {'window_size': 52, 'hidden_size': 128, 'num_layers': 3, 'dropout_rate': 0.4497176639167292, 'learning_rate': 0.006001722610063248, 'batch_size': 32}. Best is trial 133 with value: 0.010852261446416378.\n",
      "[I 2025-06-23 16:14:41,985] Trial 178 finished with value: 0.04826417192816734 and parameters: {'window_size': 52, 'hidden_size': 128, 'num_layers': 2, 'dropout_rate': 0.4729983806031281, 'learning_rate': 0.004844839153367602, 'batch_size': 32}. Best is trial 133 with value: 0.010852261446416378.\n",
      "[I 2025-06-23 16:15:20,924] Trial 179 finished with value: 0.05131223797798157 and parameters: {'window_size': 52, 'hidden_size': 128, 'num_layers': 3, 'dropout_rate': 0.43759112795242056, 'learning_rate': 0.003954061682088087, 'batch_size': 32}. Best is trial 133 with value: 0.010852261446416378.\n",
      "[I 2025-06-23 16:15:59,262] Trial 180 finished with value: 0.07658898644149303 and parameters: {'window_size': 48, 'hidden_size': 128, 'num_layers': 3, 'dropout_rate': 0.4426998611954782, 'learning_rate': 0.0034392138236714227, 'batch_size': 32}. Best is trial 133 with value: 0.010852261446416378.\n",
      "[I 2025-06-23 16:16:37,960] Trial 181 finished with value: 0.029210863634943962 and parameters: {'window_size': 52, 'hidden_size': 128, 'num_layers': 3, 'dropout_rate': 0.42793171931925295, 'learning_rate': 0.004276958747007262, 'batch_size': 32}. Best is trial 133 with value: 0.010852261446416378.\n",
      "[I 2025-06-23 16:17:17,675] Trial 182 finished with value: 0.02857653610408306 and parameters: {'window_size': 52, 'hidden_size': 128, 'num_layers': 3, 'dropout_rate': 0.4287949779375944, 'learning_rate': 0.004640587349163379, 'batch_size': 32}. Best is trial 133 with value: 0.010852261446416378.\n",
      "[I 2025-06-23 16:17:55,730] Trial 183 finished with value: 0.027840619906783104 and parameters: {'window_size': 52, 'hidden_size': 128, 'num_layers': 3, 'dropout_rate': 0.4277429551169671, 'learning_rate': 0.0053862182164101805, 'batch_size': 32}. Best is trial 133 with value: 0.010852261446416378.\n",
      "[I 2025-06-23 16:18:34,486] Trial 184 finished with value: 0.0351618230342865 and parameters: {'window_size': 52, 'hidden_size': 128, 'num_layers': 3, 'dropout_rate': 0.4285391867273502, 'learning_rate': 0.005361454478069431, 'batch_size': 32}. Best is trial 133 with value: 0.010852261446416378.\n",
      "[I 2025-06-23 16:19:13,056] Trial 185 finished with value: 0.04885435849428177 and parameters: {'window_size': 52, 'hidden_size': 128, 'num_layers': 3, 'dropout_rate': 0.43748953549269815, 'learning_rate': 0.004727130893965614, 'batch_size': 32}. Best is trial 133 with value: 0.010852261446416378.\n",
      "[I 2025-06-23 16:19:51,343] Trial 186 finished with value: 0.04432946443557739 and parameters: {'window_size': 52, 'hidden_size': 128, 'num_layers': 3, 'dropout_rate': 0.32069458502159176, 'learning_rate': 0.0059209076916280886, 'batch_size': 32}. Best is trial 133 with value: 0.010852261446416378.\n",
      "[I 2025-06-23 16:20:29,515] Trial 187 finished with value: 0.04066478833556175 and parameters: {'window_size': 52, 'hidden_size': 128, 'num_layers': 3, 'dropout_rate': 0.33203609897208997, 'learning_rate': 0.00526965542750764, 'batch_size': 32}. Best is trial 133 with value: 0.010852261446416378.\n",
      "[I 2025-06-23 16:21:06,083] Trial 188 finished with value: 0.03288596495985985 and parameters: {'window_size': 52, 'hidden_size': 128, 'num_layers': 3, 'dropout_rate': 0.14509314508115206, 'learning_rate': 0.0043898377706875205, 'batch_size': 32}. Best is trial 133 with value: 0.010852261446416378.\n",
      "[I 2025-06-23 16:21:44,229] Trial 189 finished with value: 0.049683041870594025 and parameters: {'window_size': 52, 'hidden_size': 128, 'num_layers': 3, 'dropout_rate': 0.4273414346265324, 'learning_rate': 0.0048734553176466465, 'batch_size': 32}. Best is trial 133 with value: 0.010852261446416378.\n",
      "[I 2025-06-23 16:22:22,555] Trial 190 finished with value: 0.07429259456694126 and parameters: {'window_size': 48, 'hidden_size': 128, 'num_layers': 3, 'dropout_rate': 0.42012570438392627, 'learning_rate': 0.003936474493691032, 'batch_size': 32}. Best is trial 133 with value: 0.010852261446416378.\n",
      "[I 2025-06-23 16:23:00,625] Trial 191 finished with value: 0.04377911612391472 and parameters: {'window_size': 52, 'hidden_size': 128, 'num_layers': 3, 'dropout_rate': 0.4376130646945236, 'learning_rate': 0.004372575520726391, 'batch_size': 32}. Best is trial 133 with value: 0.010852261446416378.\n",
      "[I 2025-06-23 16:23:38,599] Trial 192 finished with value: 0.053877294063568115 and parameters: {'window_size': 52, 'hidden_size': 128, 'num_layers': 3, 'dropout_rate': 0.44901556039147633, 'learning_rate': 0.0054672579850100385, 'batch_size': 32}. Best is trial 133 with value: 0.010852261446416378.\n",
      "[I 2025-06-23 16:24:05,953] Trial 193 finished with value: 0.05648848041892052 and parameters: {'window_size': 52, 'hidden_size': 32, 'num_layers': 3, 'dropout_rate': 0.43174293543404174, 'learning_rate': 0.0036840784701748495, 'batch_size': 32}. Best is trial 133 with value: 0.010852261446416378.\n",
      "[I 2025-06-23 16:24:43,678] Trial 194 finished with value: 0.024561775848269463 and parameters: {'window_size': 52, 'hidden_size': 128, 'num_layers': 3, 'dropout_rate': 0.34548751941207584, 'learning_rate': 0.00494237988478449, 'batch_size': 32}. Best is trial 133 with value: 0.010852261446416378.\n",
      "[I 2025-06-23 16:25:21,141] Trial 195 finished with value: 0.06297845393419266 and parameters: {'window_size': 52, 'hidden_size': 128, 'num_layers': 3, 'dropout_rate': 0.3433970290602561, 'learning_rate': 0.004870785958231952, 'batch_size': 32}. Best is trial 133 with value: 0.010852261446416378.\n",
      "[I 2025-06-23 16:25:57,692] Trial 196 finished with value: 0.01987823285162449 and parameters: {'window_size': 52, 'hidden_size': 128, 'num_layers': 3, 'dropout_rate': 0.331300911546221, 'learning_rate': 0.006454061841046287, 'batch_size': 32}. Best is trial 133 with value: 0.010852261446416378.\n",
      "[I 2025-06-23 16:26:34,605] Trial 197 finished with value: 0.06384694576263428 and parameters: {'window_size': 52, 'hidden_size': 128, 'num_layers': 3, 'dropout_rate': 0.35279062317415144, 'learning_rate': 0.006387305614404208, 'batch_size': 32}. Best is trial 133 with value: 0.010852261446416378.\n",
      "[I 2025-06-23 16:27:13,435] Trial 198 finished with value: 0.040771204978227615 and parameters: {'window_size': 52, 'hidden_size': 128, 'num_layers': 3, 'dropout_rate': 0.3258776946636211, 'learning_rate': 0.0066981864116426315, 'batch_size': 32}. Best is trial 133 with value: 0.010852261446416378.\n",
      "[I 2025-06-23 16:27:52,292] Trial 199 finished with value: 0.053172141313552856 and parameters: {'window_size': 52, 'hidden_size': 128, 'num_layers': 3, 'dropout_rate': 0.3380999502224214, 'learning_rate': 0.005980607390058774, 'batch_size': 32}. Best is trial 133 with value: 0.010852261446416378.\n",
      "[I 2025-06-23 16:28:31,051] Trial 200 finished with value: 0.056751932948827744 and parameters: {'window_size': 52, 'hidden_size': 128, 'num_layers': 3, 'dropout_rate': 0.346148474261196, 'learning_rate': 0.005577438439591409, 'batch_size': 32}. Best is trial 133 with value: 0.010852261446416378.\n",
      "[I 2025-06-23 16:29:09,975] Trial 201 finished with value: 0.03387553617358208 and parameters: {'window_size': 52, 'hidden_size': 128, 'num_layers': 3, 'dropout_rate': 0.31200925962667975, 'learning_rate': 0.004517185443112756, 'batch_size': 32}. Best is trial 133 with value: 0.010852261446416378.\n",
      "[I 2025-06-23 16:29:49,222] Trial 202 finished with value: 0.034260962158441544 and parameters: {'window_size': 52, 'hidden_size': 128, 'num_layers': 3, 'dropout_rate': 0.3362384514806009, 'learning_rate': 0.005132596919950675, 'batch_size': 32}. Best is trial 133 with value: 0.010852261446416378.\n",
      "[I 2025-06-23 16:30:27,644] Trial 203 finished with value: 0.04259733110666275 and parameters: {'window_size': 52, 'hidden_size': 128, 'num_layers': 3, 'dropout_rate': 0.3308623055909705, 'learning_rate': 0.004137640065428344, 'batch_size': 32}. Best is trial 133 with value: 0.010852261446416378.\n",
      "[I 2025-06-23 16:31:06,759] Trial 204 finished with value: 0.05725042149424553 and parameters: {'window_size': 52, 'hidden_size': 128, 'num_layers': 3, 'dropout_rate': 0.3234235313325575, 'learning_rate': 0.004677934926771413, 'batch_size': 32}. Best is trial 133 with value: 0.010852261446416378.\n",
      "[I 2025-06-23 16:31:33,716] Trial 205 finished with value: 0.052277203649282455 and parameters: {'window_size': 52, 'hidden_size': 16, 'num_layers': 3, 'dropout_rate': 0.36208193517166853, 'learning_rate': 0.0041191872400568414, 'batch_size': 32}. Best is trial 133 with value: 0.010852261446416378.\n",
      "[I 2025-06-23 16:32:11,711] Trial 206 finished with value: 0.046030521392822266 and parameters: {'window_size': 52, 'hidden_size': 128, 'num_layers': 3, 'dropout_rate': 0.3505338377597271, 'learning_rate': 0.005026548240872029, 'batch_size': 32}. Best is trial 133 with value: 0.010852261446416378.\n",
      "[I 2025-06-23 16:32:49,905] Trial 207 finished with value: 0.07155263610184193 and parameters: {'window_size': 48, 'hidden_size': 128, 'num_layers': 3, 'dropout_rate': 0.3796136378674087, 'learning_rate': 0.006951919833781619, 'batch_size': 32}. Best is trial 133 with value: 0.010852261446416378.\n",
      "[I 2025-06-23 16:33:28,960] Trial 208 finished with value: 0.030271505936980247 and parameters: {'window_size': 52, 'hidden_size': 128, 'num_layers': 3, 'dropout_rate': 0.41034744009153074, 'learning_rate': 0.004470406941176504, 'batch_size': 32}. Best is trial 133 with value: 0.010852261446416378.\n",
      "[I 2025-06-23 16:33:56,896] Trial 209 finished with value: 0.04160713776946068 and parameters: {'window_size': 52, 'hidden_size': 32, 'num_layers': 3, 'dropout_rate': 0.31940590934413793, 'learning_rate': 0.0037255952961061903, 'batch_size': 32}. Best is trial 133 with value: 0.010852261446416378.\n",
      "[I 2025-06-23 16:34:33,362] Trial 210 finished with value: 0.027810363098978996 and parameters: {'window_size': 52, 'hidden_size': 128, 'num_layers': 3, 'dropout_rate': 0.44488136534999057, 'learning_rate': 0.005440744034426591, 'batch_size': 32}. Best is trial 133 with value: 0.010852261446416378.\n",
      "[I 2025-06-23 16:35:11,154] Trial 211 finished with value: 0.040077369660139084 and parameters: {'window_size': 52, 'hidden_size': 128, 'num_layers': 3, 'dropout_rate': 0.45864119458724745, 'learning_rate': 0.005518319331390148, 'batch_size': 32}. Best is trial 133 with value: 0.010852261446416378.\n",
      "[I 2025-06-23 16:35:48,714] Trial 212 finished with value: 0.02722180262207985 and parameters: {'window_size': 52, 'hidden_size': 128, 'num_layers': 3, 'dropout_rate': 0.44522201001069867, 'learning_rate': 0.006220025578266695, 'batch_size': 32}. Best is trial 133 with value: 0.010852261446416378.\n",
      "[I 2025-06-23 16:36:26,752] Trial 213 finished with value: 0.03654675930738449 and parameters: {'window_size': 52, 'hidden_size': 128, 'num_layers': 3, 'dropout_rate': 0.4492531128298495, 'learning_rate': 0.006048529545126733, 'batch_size': 32}. Best is trial 133 with value: 0.010852261446416378.\n",
      "[I 2025-06-23 16:37:05,832] Trial 214 finished with value: 0.03793206438422203 and parameters: {'window_size': 52, 'hidden_size': 128, 'num_layers': 3, 'dropout_rate': 0.4414862030798474, 'learning_rate': 0.006322778266471731, 'batch_size': 32}. Best is trial 133 with value: 0.010852261446416378.\n",
      "[I 2025-06-23 16:37:43,610] Trial 215 finished with value: 0.028682727366685867 and parameters: {'window_size': 52, 'hidden_size': 128, 'num_layers': 3, 'dropout_rate': 0.45577230237567423, 'learning_rate': 0.007452718496494555, 'batch_size': 32}. Best is trial 133 with value: 0.010852261446416378.\n",
      "[I 2025-06-23 16:38:14,196] Trial 216 finished with value: 0.06112558767199516 and parameters: {'window_size': 52, 'hidden_size': 128, 'num_layers': 2, 'dropout_rate': 0.4553890688791221, 'learning_rate': 0.007344962102455346, 'batch_size': 32}. Best is trial 133 with value: 0.010852261446416378.\n",
      "[I 2025-06-23 16:38:51,620] Trial 217 finished with value: 0.037503357976675034 and parameters: {'window_size': 52, 'hidden_size': 128, 'num_layers': 3, 'dropout_rate': 0.42628036755472576, 'learning_rate': 0.00677479608626251, 'batch_size': 32}. Best is trial 133 with value: 0.010852261446416378.\n",
      "[I 2025-06-23 16:39:20,535] Trial 218 finished with value: 0.05304529890418053 and parameters: {'window_size': 52, 'hidden_size': 128, 'num_layers': 3, 'dropout_rate': 0.44234652829002347, 'learning_rate': 0.006137454169934883, 'batch_size': 32}. Best is trial 133 with value: 0.010852261446416378.\n",
      "[I 2025-06-23 16:39:44,993] Trial 219 finished with value: 0.027140015736222267 and parameters: {'window_size': 52, 'hidden_size': 128, 'num_layers': 3, 'dropout_rate': 0.4627105512613863, 'learning_rate': 0.00732778403490922, 'batch_size': 32}. Best is trial 133 with value: 0.010852261446416378.\n",
      "[I 2025-06-23 16:40:09,539] Trial 220 finished with value: 0.07062346115708351 and parameters: {'window_size': 48, 'hidden_size': 128, 'num_layers': 3, 'dropout_rate': 0.4657337030093335, 'learning_rate': 0.00781651966013529, 'batch_size': 32}. Best is trial 133 with value: 0.010852261446416378.\n",
      "[I 2025-06-23 16:40:33,812] Trial 221 finished with value: 0.01602187566459179 and parameters: {'window_size': 52, 'hidden_size': 128, 'num_layers': 3, 'dropout_rate': 0.45311084013822417, 'learning_rate': 0.007938433509411086, 'batch_size': 32}. Best is trial 133 with value: 0.010852261446416378.\n",
      "[I 2025-06-23 16:40:58,508] Trial 222 finished with value: 0.024294404312968254 and parameters: {'window_size': 52, 'hidden_size': 128, 'num_layers': 3, 'dropout_rate': 0.4577186695112379, 'learning_rate': 0.00810411381046695, 'batch_size': 32}. Best is trial 133 with value: 0.010852261446416378.\n",
      "[I 2025-06-23 16:41:22,564] Trial 223 finished with value: 0.02580069564282894 and parameters: {'window_size': 52, 'hidden_size': 128, 'num_layers': 3, 'dropout_rate': 0.4540385647283718, 'learning_rate': 0.008016911375612354, 'batch_size': 32}. Best is trial 133 with value: 0.010852261446416378.\n",
      "[I 2025-06-23 16:41:46,659] Trial 224 finished with value: 0.029857585206627846 and parameters: {'window_size': 52, 'hidden_size': 128, 'num_layers': 3, 'dropout_rate': 0.4554172811262863, 'learning_rate': 0.00854652716495374, 'batch_size': 32}. Best is trial 133 with value: 0.010852261446416378.\n",
      "[I 2025-06-23 16:42:10,878] Trial 225 finished with value: 0.021831456571817398 and parameters: {'window_size': 52, 'hidden_size': 128, 'num_layers': 3, 'dropout_rate': 0.4648917592883921, 'learning_rate': 0.009289946022134588, 'batch_size': 32}. Best is trial 133 with value: 0.010852261446416378.\n",
      "[I 2025-06-23 16:42:34,653] Trial 226 finished with value: 0.03289922699332237 and parameters: {'window_size': 52, 'hidden_size': 128, 'num_layers': 3, 'dropout_rate': 0.4666082964054586, 'learning_rate': 0.00912891438891798, 'batch_size': 32}. Best is trial 133 with value: 0.010852261446416378.\n",
      "[I 2025-06-23 16:42:53,785] Trial 227 finished with value: 0.06257849931716919 and parameters: {'window_size': 52, 'hidden_size': 128, 'num_layers': 1, 'dropout_rate': 0.4734885103178052, 'learning_rate': 0.009875577953445588, 'batch_size': 32}. Best is trial 133 with value: 0.010852261446416378.\n",
      "[I 2025-06-23 16:43:18,258] Trial 228 finished with value: 0.03433496505022049 and parameters: {'window_size': 52, 'hidden_size': 128, 'num_layers': 3, 'dropout_rate': 0.4623596651648397, 'learning_rate': 0.008126683090240549, 'batch_size': 32}. Best is trial 133 with value: 0.010852261446416378.\n",
      "[I 2025-06-23 16:43:42,798] Trial 229 finished with value: 0.02286110259592533 and parameters: {'window_size': 52, 'hidden_size': 128, 'num_layers': 3, 'dropout_rate': 0.45980099871338226, 'learning_rate': 0.00892497910986389, 'batch_size': 32}. Best is trial 133 with value: 0.010852261446416378.\n",
      "[I 2025-06-23 16:44:07,236] Trial 230 finished with value: 0.021735262125730515 and parameters: {'window_size': 52, 'hidden_size': 128, 'num_layers': 3, 'dropout_rate': 0.4625510592963851, 'learning_rate': 0.0094080709743288, 'batch_size': 32}. Best is trial 133 with value: 0.010852261446416378.\n",
      "[I 2025-06-23 16:44:31,734] Trial 231 finished with value: 0.02406640164554119 and parameters: {'window_size': 52, 'hidden_size': 128, 'num_layers': 3, 'dropout_rate': 0.46242849593205543, 'learning_rate': 0.008545868804732735, 'batch_size': 32}. Best is trial 133 with value: 0.010852261446416378.\n",
      "[I 2025-06-23 16:44:55,968] Trial 232 finished with value: 0.03300955891609192 and parameters: {'window_size': 52, 'hidden_size': 128, 'num_layers': 3, 'dropout_rate': 0.46468607936039474, 'learning_rate': 0.009352164348204949, 'batch_size': 32}. Best is trial 133 with value: 0.010852261446416378.\n",
      "[I 2025-06-23 16:45:20,436] Trial 233 finished with value: 0.019717546179890633 and parameters: {'window_size': 52, 'hidden_size': 128, 'num_layers': 3, 'dropout_rate': 0.4727673206457227, 'learning_rate': 0.008769004704564522, 'batch_size': 32}. Best is trial 133 with value: 0.010852261446416378.\n",
      "[I 2025-06-23 16:45:44,777] Trial 234 finished with value: 0.02740100398659706 and parameters: {'window_size': 52, 'hidden_size': 128, 'num_layers': 3, 'dropout_rate': 0.47269906869398665, 'learning_rate': 0.008613959407710868, 'batch_size': 32}. Best is trial 133 with value: 0.010852261446416378.\n",
      "[I 2025-06-23 16:46:09,234] Trial 235 finished with value: 0.023022422567009926 and parameters: {'window_size': 52, 'hidden_size': 128, 'num_layers': 3, 'dropout_rate': 0.4770125998986696, 'learning_rate': 0.00846651668453306, 'batch_size': 32}. Best is trial 133 with value: 0.010852261446416378.\n",
      "[I 2025-06-23 16:46:33,692] Trial 236 finished with value: 0.04945762827992439 and parameters: {'window_size': 52, 'hidden_size': 128, 'num_layers': 3, 'dropout_rate': 0.477724434054825, 'learning_rate': 0.00836800479953196, 'batch_size': 32}. Best is trial 133 with value: 0.010852261446416378.\n",
      "[I 2025-06-23 16:46:58,192] Trial 237 finished with value: 0.028265392407774925 and parameters: {'window_size': 52, 'hidden_size': 128, 'num_layers': 3, 'dropout_rate': 0.4717716611948888, 'learning_rate': 0.008649047352147459, 'batch_size': 32}. Best is trial 133 with value: 0.010852261446416378.\n",
      "[I 2025-06-23 16:47:22,266] Trial 238 finished with value: 0.02667159214615822 and parameters: {'window_size': 52, 'hidden_size': 128, 'num_layers': 3, 'dropout_rate': 0.4692844511094843, 'learning_rate': 0.007971894545346962, 'batch_size': 32}. Best is trial 133 with value: 0.010852261446416378.\n",
      "[I 2025-06-23 16:47:46,203] Trial 239 finished with value: 0.04611748456954956 and parameters: {'window_size': 52, 'hidden_size': 128, 'num_layers': 3, 'dropout_rate': 0.475612484505519, 'learning_rate': 0.007807001656333842, 'batch_size': 32}. Best is trial 133 with value: 0.010852261446416378.\n",
      "[I 2025-06-23 16:48:10,459] Trial 240 finished with value: 0.022891446948051453 and parameters: {'window_size': 52, 'hidden_size': 128, 'num_layers': 3, 'dropout_rate': 0.46665588923879386, 'learning_rate': 0.009977994366524225, 'batch_size': 32}. Best is trial 133 with value: 0.010852261446416378.\n",
      "[I 2025-06-23 16:48:34,764] Trial 241 finished with value: 0.019891778007149696 and parameters: {'window_size': 52, 'hidden_size': 128, 'num_layers': 3, 'dropout_rate': 0.46887378465521273, 'learning_rate': 0.009852586956228617, 'batch_size': 32}. Best is trial 133 with value: 0.010852261446416378.\n",
      "[I 2025-06-23 16:48:59,105] Trial 242 finished with value: 0.019839761778712273 and parameters: {'window_size': 52, 'hidden_size': 128, 'num_layers': 3, 'dropout_rate': 0.46653433065620303, 'learning_rate': 0.009393186585994705, 'batch_size': 32}. Best is trial 133 with value: 0.010852261446416378.\n",
      "[I 2025-06-23 16:49:23,497] Trial 243 finished with value: 0.019389642402529716 and parameters: {'window_size': 52, 'hidden_size': 128, 'num_layers': 3, 'dropout_rate': 0.46409187324431206, 'learning_rate': 0.009807694776494175, 'batch_size': 32}. Best is trial 133 with value: 0.010852261446416378.\n",
      "[I 2025-06-23 16:49:47,883] Trial 244 finished with value: 0.01730167120695114 and parameters: {'window_size': 52, 'hidden_size': 128, 'num_layers': 3, 'dropout_rate': 0.46196705380013686, 'learning_rate': 0.009671483908653057, 'batch_size': 32}. Best is trial 133 with value: 0.010852261446416378.\n",
      "[I 2025-06-23 16:50:12,210] Trial 245 finished with value: 0.01861792616546154 and parameters: {'window_size': 52, 'hidden_size': 128, 'num_layers': 3, 'dropout_rate': 0.46196019440556313, 'learning_rate': 0.009949117936728112, 'batch_size': 32}. Best is trial 133 with value: 0.010852261446416378.\n",
      "[I 2025-06-23 16:50:36,940] Trial 246 finished with value: 0.041185759007930756 and parameters: {'window_size': 52, 'hidden_size': 128, 'num_layers': 3, 'dropout_rate': 0.4637009437219693, 'learning_rate': 0.009878202445116004, 'batch_size': 32}. Best is trial 133 with value: 0.010852261446416378.\n",
      "[I 2025-06-23 16:51:01,483] Trial 247 finished with value: 0.025602716952562332 and parameters: {'window_size': 52, 'hidden_size': 128, 'num_layers': 3, 'dropout_rate': 0.46504038085182275, 'learning_rate': 0.009135807575416315, 'batch_size': 32}. Best is trial 133 with value: 0.010852261446416378.\n",
      "[I 2025-06-23 16:51:28,712] Trial 248 finished with value: 0.1054155670106411 and parameters: {'window_size': 24, 'hidden_size': 128, 'num_layers': 3, 'dropout_rate': 0.468315664763668, 'learning_rate': 0.00938763074836695, 'batch_size': 32}. Best is trial 133 with value: 0.010852261446416378.\n",
      "[I 2025-06-23 16:51:55,377] Trial 249 finished with value: 0.10569128580391407 and parameters: {'window_size': 28, 'hidden_size': 128, 'num_layers': 3, 'dropout_rate': 0.2293419834480359, 'learning_rate': 0.009154303085029299, 'batch_size': 32}. Best is trial 133 with value: 0.010852261446416378.\n",
      "[I 2025-06-23 16:52:20,256] Trial 250 finished with value: 0.021852925419807434 and parameters: {'window_size': 52, 'hidden_size': 128, 'num_layers': 3, 'dropout_rate': 0.4589833330156108, 'learning_rate': 0.00991266728489194, 'batch_size': 32}. Best is trial 133 with value: 0.010852261446416378.\n",
      "[I 2025-06-23 16:52:44,960] Trial 251 finished with value: 0.03084196150302887 and parameters: {'window_size': 52, 'hidden_size': 128, 'num_layers': 3, 'dropout_rate': 0.45781022053973736, 'learning_rate': 0.00960236880584221, 'batch_size': 32}. Best is trial 133 with value: 0.010852261446416378.\n",
      "[I 2025-06-23 16:53:09,656] Trial 252 finished with value: 0.028434647247195244 and parameters: {'window_size': 52, 'hidden_size': 128, 'num_layers': 3, 'dropout_rate': 0.45747357573979225, 'learning_rate': 0.009947105143266605, 'batch_size': 32}. Best is trial 133 with value: 0.010852261446416378.\n",
      "[I 2025-06-23 16:53:33,829] Trial 253 finished with value: 0.026348834857344627 and parameters: {'window_size': 52, 'hidden_size': 128, 'num_layers': 3, 'dropout_rate': 0.478891777653368, 'learning_rate': 0.008820374005570097, 'batch_size': 32}. Best is trial 133 with value: 0.010852261446416378.\n",
      "[I 2025-06-23 16:54:00,759] Trial 254 finished with value: 0.043450042605400085 and parameters: {'window_size': 52, 'hidden_size': 128, 'num_layers': 3, 'dropout_rate': 0.46234078506190246, 'learning_rate': 0.008821037394900071, 'batch_size': 32}. Best is trial 133 with value: 0.010852261446416378.\n",
      "[I 2025-06-23 16:54:25,641] Trial 255 finished with value: 0.024037258699536324 and parameters: {'window_size': 52, 'hidden_size': 128, 'num_layers': 3, 'dropout_rate': 0.45595776317293707, 'learning_rate': 0.009839049606519322, 'batch_size': 32}. Best is trial 133 with value: 0.010852261446416378.\n",
      "[I 2025-06-23 16:54:51,297] Trial 256 finished with value: 0.07412650249898434 and parameters: {'window_size': 48, 'hidden_size': 128, 'num_layers': 2, 'dropout_rate': 0.46828679351303876, 'learning_rate': 0.009808966561214463, 'batch_size': 32}. Best is trial 133 with value: 0.010852261446416378.\n",
      "[I 2025-06-23 16:55:19,444] Trial 257 finished with value: 0.055282920598983765 and parameters: {'window_size': 52, 'hidden_size': 128, 'num_layers': 3, 'dropout_rate': 0.46150932430667285, 'learning_rate': 0.008411681873260588, 'batch_size': 32}. Best is trial 133 with value: 0.010852261446416378.\n",
      "[I 2025-06-23 16:55:44,931] Trial 258 finished with value: 0.03551125153899193 and parameters: {'window_size': 52, 'hidden_size': 128, 'num_layers': 3, 'dropout_rate': 0.26091747471705107, 'learning_rate': 0.009993943684868327, 'batch_size': 32}. Best is trial 133 with value: 0.010852261446416378.\n",
      "[I 2025-06-23 16:56:09,565] Trial 259 finished with value: 0.020899787545204163 and parameters: {'window_size': 52, 'hidden_size': 128, 'num_layers': 3, 'dropout_rate': 0.4566501810899346, 'learning_rate': 0.00895339342571745, 'batch_size': 32}. Best is trial 133 with value: 0.010852261446416378.\n",
      "[I 2025-06-23 16:56:34,267] Trial 260 finished with value: 0.03305266052484512 and parameters: {'window_size': 52, 'hidden_size': 128, 'num_layers': 3, 'dropout_rate': 0.45656484336120834, 'learning_rate': 0.008990272508559416, 'batch_size': 32}. Best is trial 133 with value: 0.010852261446416378.\n",
      "[I 2025-06-23 16:56:58,845] Trial 261 finished with value: 0.025422049686312675 and parameters: {'window_size': 52, 'hidden_size': 128, 'num_layers': 3, 'dropout_rate': 0.4760464617523013, 'learning_rate': 0.007879578342843875, 'batch_size': 32}. Best is trial 133 with value: 0.010852261446416378.\n",
      "[I 2025-06-23 16:57:23,497] Trial 262 finished with value: 0.024125589057803154 and parameters: {'window_size': 52, 'hidden_size': 128, 'num_layers': 3, 'dropout_rate': 0.47682777444833485, 'learning_rate': 0.00900672611801446, 'batch_size': 32}. Best is trial 133 with value: 0.010852261446416378.\n",
      "[I 2025-06-23 16:57:48,432] Trial 263 finished with value: 0.06286909244954586 and parameters: {'window_size': 48, 'hidden_size': 128, 'num_layers': 3, 'dropout_rate': 0.47882469503389835, 'learning_rate': 0.0090367023916396, 'batch_size': 32}. Best is trial 133 with value: 0.010852261446416378.\n",
      "[I 2025-06-23 16:58:12,851] Trial 264 finished with value: 0.026315271854400635 and parameters: {'window_size': 52, 'hidden_size': 128, 'num_layers': 3, 'dropout_rate': 0.4722439496347347, 'learning_rate': 0.00807731936341292, 'batch_size': 32}. Best is trial 133 with value: 0.010852261446416378.\n",
      "[I 2025-06-23 16:58:30,484] Trial 265 finished with value: 0.06585681438446045 and parameters: {'window_size': 52, 'hidden_size': 128, 'num_layers': 1, 'dropout_rate': 0.47971235486816627, 'learning_rate': 0.009997459160160795, 'batch_size': 32}. Best is trial 133 with value: 0.010852261446416378.\n",
      "[I 2025-06-23 16:58:54,707] Trial 266 finished with value: 0.038213133811950684 and parameters: {'window_size': 52, 'hidden_size': 128, 'num_layers': 3, 'dropout_rate': 0.46852147467995703, 'learning_rate': 0.008748753407086411, 'batch_size': 32}. Best is trial 133 with value: 0.010852261446416378.\n",
      "[I 2025-06-23 16:59:19,107] Trial 267 finished with value: 0.027268528938293457 and parameters: {'window_size': 52, 'hidden_size': 128, 'num_layers': 3, 'dropout_rate': 0.4738726682455833, 'learning_rate': 0.009170663997749141, 'batch_size': 32}. Best is trial 133 with value: 0.010852261446416378.\n",
      "[I 2025-06-23 16:59:42,926] Trial 268 finished with value: 0.034177884459495544 and parameters: {'window_size': 52, 'hidden_size': 128, 'num_layers': 3, 'dropout_rate': 0.4665213448607796, 'learning_rate': 0.00768593580265341, 'batch_size': 32}. Best is trial 133 with value: 0.010852261446416378.\n",
      "[I 2025-06-23 17:00:06,541] Trial 269 finished with value: 0.05487458035349846 and parameters: {'window_size': 48, 'hidden_size': 128, 'num_layers': 3, 'dropout_rate': 0.47860997435529834, 'learning_rate': 0.0081628874490847, 'batch_size': 32}. Best is trial 133 with value: 0.010852261446416378.\n",
      "[I 2025-06-23 17:00:30,714] Trial 270 finished with value: 0.02015646919608116 and parameters: {'window_size': 52, 'hidden_size': 128, 'num_layers': 3, 'dropout_rate': 0.461574399462246, 'learning_rate': 0.009200220830749471, 'batch_size': 32}. Best is trial 133 with value: 0.010852261446416378.\n",
      "[I 2025-06-23 17:00:55,234] Trial 271 finished with value: 0.023727577179670334 and parameters: {'window_size': 52, 'hidden_size': 128, 'num_layers': 3, 'dropout_rate': 0.4835652858419143, 'learning_rate': 0.009972633771515152, 'batch_size': 32}. Best is trial 133 with value: 0.010852261446416378.\n",
      "[I 2025-06-23 17:01:21,886] Trial 272 finished with value: 0.02812984026968479 and parameters: {'window_size': 52, 'hidden_size': 128, 'num_layers': 3, 'dropout_rate': 0.4813884799059157, 'learning_rate': 0.00829138715189409, 'batch_size': 32}. Best is trial 133 with value: 0.010852261446416378.\n",
      "[I 2025-06-23 17:01:47,390] Trial 273 finished with value: 0.031535692512989044 and parameters: {'window_size': 52, 'hidden_size': 16, 'num_layers': 3, 'dropout_rate': 0.4868836190778842, 'learning_rate': 0.009148133006921813, 'batch_size': 32}. Best is trial 133 with value: 0.010852261446416378.\n",
      "[I 2025-06-23 17:02:11,792] Trial 274 finished with value: 0.032662663608789444 and parameters: {'window_size': 52, 'hidden_size': 128, 'num_layers': 3, 'dropout_rate': 0.4573222746423969, 'learning_rate': 0.007259947189241029, 'batch_size': 32}. Best is trial 133 with value: 0.010852261446416378.\n",
      "[I 2025-06-23 17:02:36,373] Trial 275 finished with value: 0.03462309390306473 and parameters: {'window_size': 52, 'hidden_size': 128, 'num_layers': 3, 'dropout_rate': 0.4722871626430737, 'learning_rate': 0.009744381327008061, 'batch_size': 32}. Best is trial 133 with value: 0.010852261446416378.\n",
      "[I 2025-06-23 17:03:01,022] Trial 276 finished with value: 0.06598951108753681 and parameters: {'window_size': 48, 'hidden_size': 128, 'num_layers': 3, 'dropout_rate': 0.46462120261632506, 'learning_rate': 0.00841725860656031, 'batch_size': 32}. Best is trial 133 with value: 0.010852261446416378.\n",
      "[I 2025-06-23 17:03:26,963] Trial 277 finished with value: 0.056663984805345534 and parameters: {'window_size': 40, 'hidden_size': 128, 'num_layers': 3, 'dropout_rate': 0.48335681133750275, 'learning_rate': 0.009886561988439296, 'batch_size': 32}. Best is trial 133 with value: 0.010852261446416378.\n",
      "[I 2025-06-23 17:03:53,294] Trial 278 finished with value: 0.0315881110727787 and parameters: {'window_size': 52, 'hidden_size': 128, 'num_layers': 3, 'dropout_rate': 0.4531990304567391, 'learning_rate': 0.007528322975717233, 'batch_size': 32}. Best is trial 133 with value: 0.010852261446416378.\n",
      "[I 2025-06-23 17:04:21,722] Trial 279 finished with value: 0.04015563800930977 and parameters: {'window_size': 52, 'hidden_size': 128, 'num_layers': 3, 'dropout_rate': 0.47397485401420164, 'learning_rate': 0.00872101365519131, 'batch_size': 32}. Best is trial 133 with value: 0.010852261446416378.\n",
      "[I 2025-06-23 17:04:51,285] Trial 280 finished with value: 0.043087560683488846 and parameters: {'window_size': 52, 'hidden_size': 128, 'num_layers': 3, 'dropout_rate': 0.4617307563965065, 'learning_rate': 0.009127495091163961, 'batch_size': 32}. Best is trial 133 with value: 0.010852261446416378.\n",
      "[I 2025-06-23 17:05:17,392] Trial 281 finished with value: 0.06995660811662674 and parameters: {'window_size': 48, 'hidden_size': 128, 'num_layers': 2, 'dropout_rate': 0.29214261481554016, 'learning_rate': 0.009984285319049496, 'batch_size': 32}. Best is trial 133 with value: 0.010852261446416378.\n",
      "[I 2025-06-23 17:06:09,131] Trial 282 finished with value: 0.02805737592279911 and parameters: {'window_size': 52, 'hidden_size': 128, 'num_layers': 3, 'dropout_rate': 0.4685155858631832, 'learning_rate': 0.00802196628633894, 'batch_size': 16}. Best is trial 133 with value: 0.010852261446416378.\n",
      "[I 2025-06-23 17:06:36,239] Trial 283 finished with value: 0.021870983764529228 and parameters: {'window_size': 52, 'hidden_size': 128, 'num_layers': 3, 'dropout_rate': 0.4551048215251555, 'learning_rate': 0.00840891345500194, 'batch_size': 32}. Best is trial 133 with value: 0.010852261446416378.\n",
      "[I 2025-06-23 17:07:00,687] Trial 284 finished with value: 0.028283918276429176 and parameters: {'window_size': 52, 'hidden_size': 128, 'num_layers': 3, 'dropout_rate': 0.4534586536573613, 'learning_rate': 0.009001597254985548, 'batch_size': 32}. Best is trial 133 with value: 0.010852261446416378.\n",
      "[I 2025-06-23 17:07:26,182] Trial 285 finished with value: 0.07040058448910713 and parameters: {'window_size': 48, 'hidden_size': 128, 'num_layers': 3, 'dropout_rate': 0.45923876779125045, 'learning_rate': 0.008419410298949204, 'batch_size': 32}. Best is trial 133 with value: 0.010852261446416378.\n",
      "[I 2025-06-23 17:07:51,860] Trial 286 finished with value: 0.03531641885638237 and parameters: {'window_size': 52, 'hidden_size': 128, 'num_layers': 3, 'dropout_rate': 0.45102206870496, 'learning_rate': 0.007282394256645427, 'batch_size': 32}. Best is trial 133 with value: 0.010852261446416378.\n",
      "[I 2025-06-23 17:08:18,339] Trial 287 finished with value: 0.02899513952434063 and parameters: {'window_size': 52, 'hidden_size': 128, 'num_layers': 3, 'dropout_rate': 0.4637859338819182, 'learning_rate': 0.009992797891053536, 'batch_size': 32}. Best is trial 133 with value: 0.010852261446416378.\n",
      "[I 2025-06-23 17:08:36,340] Trial 288 finished with value: 0.04453492909669876 and parameters: {'window_size': 52, 'hidden_size': 128, 'num_layers': 1, 'dropout_rate': 0.4584932577953189, 'learning_rate': 0.008931635724759029, 'batch_size': 32}. Best is trial 133 with value: 0.010852261446416378.\n",
      "[I 2025-06-23 17:09:01,096] Trial 289 finished with value: 0.02740943804383278 and parameters: {'window_size': 52, 'hidden_size': 128, 'num_layers': 3, 'dropout_rate': 0.4911685323555602, 'learning_rate': 0.009068549738052831, 'batch_size': 32}. Best is trial 133 with value: 0.010852261446416378.\n",
      "[I 2025-06-23 17:09:25,523] Trial 290 finished with value: 0.02123033069074154 and parameters: {'window_size': 52, 'hidden_size': 128, 'num_layers': 3, 'dropout_rate': 0.4670921942911689, 'learning_rate': 0.008425001628578479, 'batch_size': 32}. Best is trial 133 with value: 0.010852261446416378.\n",
      "[I 2025-06-23 17:09:50,021] Trial 291 finished with value: 0.01985282078385353 and parameters: {'window_size': 52, 'hidden_size': 128, 'num_layers': 3, 'dropout_rate': 0.4697494446496917, 'learning_rate': 0.008433577884765845, 'batch_size': 32}. Best is trial 133 with value: 0.010852261446416378.\n",
      "[I 2025-06-23 17:10:17,428] Trial 292 finished with value: 0.12050497818451661 and parameters: {'window_size': 12, 'hidden_size': 128, 'num_layers': 3, 'dropout_rate': 0.4706283798471542, 'learning_rate': 0.009278064451089809, 'batch_size': 32}. Best is trial 133 with value: 0.010852261446416378.\n",
      "[I 2025-06-23 17:10:42,318] Trial 293 finished with value: 0.029089802876114845 and parameters: {'window_size': 52, 'hidden_size': 128, 'num_layers': 3, 'dropout_rate': 0.4872468113924819, 'learning_rate': 0.009966949527922101, 'batch_size': 32}. Best is trial 133 with value: 0.010852261446416378.\n",
      "[I 2025-06-23 17:11:06,890] Trial 294 finished with value: 0.031261492520570755 and parameters: {'window_size': 52, 'hidden_size': 128, 'num_layers': 3, 'dropout_rate': 0.47868348132895566, 'learning_rate': 0.008509926825380182, 'batch_size': 32}. Best is trial 133 with value: 0.010852261446416378.\n",
      "[I 2025-06-23 17:11:31,988] Trial 295 finished with value: 0.04871422424912453 and parameters: {'window_size': 52, 'hidden_size': 16, 'num_layers': 3, 'dropout_rate': 0.17800407725667455, 'learning_rate': 0.0011325041842993055, 'batch_size': 32}. Best is trial 133 with value: 0.010852261446416378.\n",
      "[I 2025-06-23 17:11:57,023] Trial 296 finished with value: 0.07098789885640144 and parameters: {'window_size': 48, 'hidden_size': 128, 'num_layers': 3, 'dropout_rate': 0.46903636879456445, 'learning_rate': 0.007382308664643748, 'batch_size': 32}. Best is trial 133 with value: 0.010852261446416378.\n",
      "[I 2025-06-23 17:12:22,316] Trial 297 finished with value: 0.11343212324109944 and parameters: {'window_size': 20, 'hidden_size': 128, 'num_layers': 3, 'dropout_rate': 0.46310067718985193, 'learning_rate': 0.008371200322050203, 'batch_size': 32}. Best is trial 133 with value: 0.010852261446416378.\n",
      "[I 2025-06-23 17:12:46,970] Trial 298 finished with value: 0.06745982108016808 and parameters: {'window_size': 36, 'hidden_size': 128, 'num_layers': 3, 'dropout_rate': 0.4498410313092684, 'learning_rate': 0.009199271231582542, 'batch_size': 32}. Best is trial 133 with value: 0.010852261446416378.\n",
      "[I 2025-06-23 17:13:11,184] Trial 299 finished with value: 0.04516308754682541 and parameters: {'window_size': 52, 'hidden_size': 128, 'num_layers': 3, 'dropout_rate': 0.47398353463618187, 'learning_rate': 0.007094827731413936, 'batch_size': 32}. Best is trial 133 with value: 0.010852261446416378.\n"
     ]
    },
    {
     "name": "stdout",
     "output_type": "stream",
     "text": [
      "Mejor valor: 0.010852261446416378\n",
      "Mejores parámetros: {'window_size': 52, 'hidden_size': 128, 'num_layers': 3, 'dropout_rate': 0.3105194523797959, 'learning_rate': 0.0023320421352418094, 'batch_size': 64}\n"
     ]
    }
   ],
   "source": [
    "\n",
    "# ## 5. Optimización de Hiperparámetros con Optuna\n",
    "\n",
    "# %%\n",
    "def train_model(model, train_loader, val_loader, learning_rate, n_epochs, device):\n",
    "    \"\"\"\n",
    "    Entrena el modelo y retorna el mejor MSE de validación\n",
    "    \"\"\"\n",
    "    criterion = nn.MSELoss()\n",
    "    optimizer = optim.Adam(model.parameters(), lr=learning_rate)\n",
    "    \n",
    "    best_val_loss = float('inf')\n",
    "    train_losses = []\n",
    "    val_losses = []\n",
    "    \n",
    "    for epoch in range(n_epochs):\n",
    "        # Entrenamiento\n",
    "        model.train()\n",
    "        train_loss = 0\n",
    "        for batch in train_loader:\n",
    "            inputs, targets = batch\n",
    "            numerical = inputs['numerical'].to(device)\n",
    "            id_bar = inputs['id_bar'].to(device)\n",
    "            estrato = inputs['estrato'].to(device)\n",
    "            targets = targets.to(device)\n",
    "            \n",
    "            optimizer.zero_grad()\n",
    "            outputs = model(numerical, id_bar, estrato)\n",
    "            loss = criterion(outputs, targets)\n",
    "            loss.backward()\n",
    "            optimizer.step()\n",
    "            \n",
    "            train_loss += loss.item()\n",
    "        \n",
    "        # Validación\n",
    "        model.eval()\n",
    "        val_loss = 0\n",
    "        with torch.no_grad():\n",
    "            for batch in val_loader:\n",
    "                inputs, targets = batch\n",
    "                numerical = inputs['numerical'].to(device)\n",
    "                id_bar = inputs['id_bar'].to(device)\n",
    "                estrato = inputs['estrato'].to(device)\n",
    "                targets = targets.to(device)\n",
    "                \n",
    "                outputs = model(numerical, id_bar, estrato)\n",
    "                loss = criterion(outputs, targets)\n",
    "                val_loss += loss.item()\n",
    "        \n",
    "        avg_train_loss = train_loss / len(train_loader)\n",
    "        avg_val_loss = val_loss / len(val_loader)\n",
    "        \n",
    "        train_losses.append(avg_train_loss)\n",
    "        val_losses.append(avg_val_loss)\n",
    "        \n",
    "        if avg_val_loss < best_val_loss:\n",
    "            best_val_loss = avg_val_loss\n",
    "    \n",
    "    return best_val_loss, train_losses, val_losses\n",
    "\n",
    "# %%\n",
    "def objective(trial):\n",
    "    \"\"\"\n",
    "    Función objetivo para Optuna\n",
    "    \"\"\"\n",
    "    # Hiperparámetros a optimizar\n",
    "    window_size = trial.suggest_int('window_size', 8, 52, step=4)\n",
    "    hidden_size = trial.suggest_categorical('hidden_size', [16 ,32, 64, 128])\n",
    "    num_layers = trial.suggest_categorical('num_layers', [1, 2, 3])\n",
    "    dropout_rate = trial.suggest_float('dropout_rate', 0.1, 0.5)\n",
    "    learning_rate = trial.suggest_float('learning_rate', 1e-4, 1e-2, log=True)\n",
    "    batch_size = trial.suggest_categorical('batch_size', [16, 32, 64, 128])\n",
    "    \n",
    "    # Crear secuencias\n",
    "    id_bar_list = train_data['id_bar'].unique()\n",
    "    train_sequences, train_targets = create_sequences(train_data, window_size, id_bar_list)\n",
    "    val_sequences, val_targets = create_sequences(val_data, window_size, id_bar_list)\n",
    "    \n",
    "    # Crear datasets y dataloaders\n",
    "    train_dataset = DengueDataset(train_sequences, train_targets)\n",
    "    val_dataset = DengueDataset(val_sequences, val_targets)\n",
    "    \n",
    "    train_loader = DataLoader(train_dataset, batch_size=batch_size, shuffle=True)\n",
    "    val_loader = DataLoader(val_dataset, batch_size=batch_size, shuffle=False)\n",
    "    \n",
    "    # Crear modelo\n",
    "    n_numerical_features = len(numerical_cols) + 1  # +1 por la variable objetivo\n",
    "    n_id_bar = len(id_bar_mapping)\n",
    "    n_estrato = len(estrato_mapping)\n",
    "    \n",
    "    model = DengueLSTM(\n",
    "        n_numerical_features=n_numerical_features,\n",
    "        n_id_bar=n_id_bar,\n",
    "        n_estrato=n_estrato,\n",
    "        hidden_size=hidden_size,\n",
    "        num_layers=num_layers,\n",
    "        dropout_rate=dropout_rate\n",
    "    ).to(device)\n",
    "    \n",
    "    # Entrenar modelo\n",
    "    best_val_loss, _, _ = train_model(model, train_loader, val_loader, \n",
    "                                      learning_rate, n_epochs=100, device=device)\n",
    "    \n",
    "    return best_val_loss\n",
    "\n",
    "# %%\n",
    "# Ejecutar estudio de Optuna\n",
    "study = optuna.create_study(direction='minimize')\n",
    "study.optimize(objective, n_trials=300)\n",
    "\n",
    "print(f\"Mejor valor: {study.best_value}\")\n",
    "print(f\"Mejores parámetros: {study.best_params}\")\n",
    "\n",
    "# %% [markdown]"
   ]
  },
  {
   "cell_type": "code",
   "execution_count": 11,
   "id": "3bdbdf0a",
   "metadata": {},
   "outputs": [
    {
     "name": "stdout",
     "output_type": "stream",
     "text": [
      "Mejores hiperparámetros encontrados:\n",
      "  window_size: 52\n",
      "  hidden_size: 128\n",
      "  num_layers: 3\n",
      "  dropout_rate: 0.3105194523797959\n",
      "  learning_rate: 0.0023320421352418094\n",
      "  batch_size: 64\n",
      "Datos combinados para entrenamiento final: (3680, 22)\n",
      "Época 10/300, Pérdida: 0.2610\n",
      "Época 20/300, Pérdida: 0.1840\n",
      "Época 30/300, Pérdida: 0.1195\n",
      "Época 40/300, Pérdida: 0.1010\n",
      "Época 50/300, Pérdida: 0.0785\n",
      "Época 60/300, Pérdida: 0.0614\n",
      "Época 70/300, Pérdida: 0.0507\n",
      "Época 80/300, Pérdida: 0.0359\n",
      "Época 90/300, Pérdida: 0.0352\n",
      "Época 100/300, Pérdida: 0.0302\n",
      "Época 110/300, Pérdida: 0.0292\n",
      "Época 120/300, Pérdida: 0.0261\n",
      "Época 130/300, Pérdida: 0.0216\n",
      "Época 140/300, Pérdida: 0.0189\n",
      "Época 150/300, Pérdida: 0.0185\n",
      "Época 160/300, Pérdida: 0.0192\n",
      "Época 170/300, Pérdida: 0.0181\n",
      "Época 180/300, Pérdida: 0.0175\n",
      "Época 190/300, Pérdida: 0.0164\n",
      "Época 200/300, Pérdida: 0.0149\n",
      "Época 210/300, Pérdida: 0.0164\n",
      "Época 220/300, Pérdida: 0.0140\n",
      "Época 230/300, Pérdida: 0.0155\n",
      "Época 240/300, Pérdida: 0.0124\n",
      "Época 250/300, Pérdida: 0.0147\n",
      "Época 260/300, Pérdida: 0.0163\n",
      "Época 270/300, Pérdida: 0.0121\n",
      "Época 280/300, Pérdida: 0.0123\n",
      "Época 290/300, Pérdida: 0.0117\n",
      "Época 300/300, Pérdida: 0.0125\n"
     ]
    },
    {
     "data": {
      "application/vnd.plotly.v1+json": {
       "config": {
        "plotlyServerURL": "https://plot.ly"
       },
       "data": [
        {
         "line": {
          "color": "blue",
          "width": 2
         },
         "mode": "lines",
         "name": "Pérdida de entrenamiento",
         "type": "scatter",
         "x": [
          1,
          2,
          3,
          4,
          5,
          6,
          7,
          8,
          9,
          10,
          11,
          12,
          13,
          14,
          15,
          16,
          17,
          18,
          19,
          20,
          21,
          22,
          23,
          24,
          25,
          26,
          27,
          28,
          29,
          30,
          31,
          32,
          33,
          34,
          35,
          36,
          37,
          38,
          39,
          40,
          41,
          42,
          43,
          44,
          45,
          46,
          47,
          48,
          49,
          50,
          51,
          52,
          53,
          54,
          55,
          56,
          57,
          58,
          59,
          60,
          61,
          62,
          63,
          64,
          65,
          66,
          67,
          68,
          69,
          70,
          71,
          72,
          73,
          74,
          75,
          76,
          77,
          78,
          79,
          80,
          81,
          82,
          83,
          84,
          85,
          86,
          87,
          88,
          89,
          90,
          91,
          92,
          93,
          94,
          95,
          96,
          97,
          98,
          99,
          100,
          101,
          102,
          103,
          104,
          105,
          106,
          107,
          108,
          109,
          110,
          111,
          112,
          113,
          114,
          115,
          116,
          117,
          118,
          119,
          120,
          121,
          122,
          123,
          124,
          125,
          126,
          127,
          128,
          129,
          130,
          131,
          132,
          133,
          134,
          135,
          136,
          137,
          138,
          139,
          140,
          141,
          142,
          143,
          144,
          145,
          146,
          147,
          148,
          149,
          150,
          151,
          152,
          153,
          154,
          155,
          156,
          157,
          158,
          159,
          160,
          161,
          162,
          163,
          164,
          165,
          166,
          167,
          168,
          169,
          170,
          171,
          172,
          173,
          174,
          175,
          176,
          177,
          178,
          179,
          180,
          181,
          182,
          183,
          184,
          185,
          186,
          187,
          188,
          189,
          190,
          191,
          192,
          193,
          194,
          195,
          196,
          197,
          198,
          199,
          200,
          201,
          202,
          203,
          204,
          205,
          206,
          207,
          208,
          209,
          210,
          211,
          212,
          213,
          214,
          215,
          216,
          217,
          218,
          219,
          220,
          221,
          222,
          223,
          224,
          225,
          226,
          227,
          228,
          229,
          230,
          231,
          232,
          233,
          234,
          235,
          236,
          237,
          238,
          239,
          240,
          241,
          242,
          243,
          244,
          245,
          246,
          247,
          248,
          249,
          250,
          251,
          252,
          253,
          254,
          255,
          256,
          257,
          258,
          259,
          260,
          261,
          262,
          263,
          264,
          265,
          266,
          267,
          268,
          269,
          270,
          271,
          272,
          273,
          274,
          275,
          276,
          277,
          278,
          279,
          280,
          281,
          282,
          283,
          284,
          285,
          286,
          287,
          288,
          289,
          290,
          291,
          292,
          293,
          294,
          295,
          296,
          297,
          298,
          299,
          300
         ],
         "y": [
          0.4982506263256073,
          0.33964298784732816,
          0.3534083569049835,
          0.3184081511199474,
          0.30313319504261016,
          0.2990353190898895,
          0.28510941118001937,
          0.28415332823991774,
          0.26978574112057685,
          0.261013785302639,
          0.25669180959463117,
          0.2444668674468994,
          0.23340558499097824,
          0.23359738066792488,
          0.22681687772274017,
          0.20730455592274666,
          0.19058139026165008,
          0.19119828954339027,
          0.19662408351898195,
          0.18403742834925652,
          0.1732355511188507,
          0.1842173519730568,
          0.18078018918633462,
          0.1535779595375061,
          0.14199892863631247,
          0.15284327149391175,
          0.1397288478910923,
          0.13348435685038568,
          0.14331897646188735,
          0.1195430201292038,
          0.11926061943173409,
          0.11866081967949867,
          0.11182046271860599,
          0.1094917319715023,
          0.11199799880385398,
          0.10848015569150447,
          0.10304420106112958,
          0.10856301128864289,
          0.10497746303677559,
          0.10104495532810688,
          0.09637730583548546,
          0.09029606372117996,
          0.08886110499501228,
          0.0905308510363102,
          0.08834194168448448,
          0.08357695274055005,
          0.08427442632615566,
          0.07776864476501942,
          0.07706498354673386,
          0.07847204253077507,
          0.07512683875858783,
          0.07648940160870552,
          0.0702139089256525,
          0.06728258736431598,
          0.06362338371574879,
          0.06398097716271878,
          0.06573285765945912,
          0.06606037579476834,
          0.060974325984716415,
          0.06142823427915573,
          0.06109952837228775,
          0.06219752907752991,
          0.05861650936305523,
          0.05764434702694416,
          0.05714647568762302,
          0.051020595878362655,
          0.04995585672557354,
          0.04904024131596088,
          0.0508532402664423,
          0.05069787442684173,
          0.04812971841543913,
          0.04383290015161037,
          0.04918170966207981,
          0.04671554774045944,
          0.04328454587608576,
          0.04166568033397198,
          0.041569721549749375,
          0.04190329361706972,
          0.038809869214892385,
          0.03590603023767471,
          0.03611513648182154,
          0.037661971487104894,
          0.03618601825088263,
          0.03736671894788742,
          0.038033816888928415,
          0.03595710761845112,
          0.03226044777780771,
          0.03525765087455511,
          0.03858527258038521,
          0.03520756542682648,
          0.03360169216990471,
          0.03369934055954218,
          0.03361186340451241,
          0.030984369944781064,
          0.029521022997796534,
          0.029972771741449834,
          0.028930594176054,
          0.029359469059854745,
          0.03285724427551031,
          0.03018576990813017,
          0.030646705888211726,
          0.028216945715248586,
          0.029112738855183125,
          0.02820063855499029,
          0.02928454048931599,
          0.029018567465245722,
          0.02642291773110628,
          0.03195898119360208,
          0.02949444381520152,
          0.029164215940982105,
          0.02812313340604305,
          0.02973779624328017,
          0.027016992717981338,
          0.02344424994662404,
          0.02624981354922056,
          0.023438181206583978,
          0.025312660075724126,
          0.022801065277308227,
          0.023991042505949734,
          0.026116831824183465,
          0.025945225208997728,
          0.02372815951704979,
          0.022216900940984486,
          0.022316896468400956,
          0.021716344133019448,
          0.023085732478648424,
          0.021277428939938545,
          0.023564297482371332,
          0.024171045664697886,
          0.02164171788841486,
          0.020652784276753666,
          0.022365068048238755,
          0.02277336932718754,
          0.02069200461730361,
          0.019782659858465196,
          0.02155971299856901,
          0.02196545124053955,
          0.02008705332875252,
          0.019460129868239164,
          0.018920843014493583,
          0.020180103108286856,
          0.020480707213282587,
          0.018879633992910386,
          0.020849884934723378,
          0.018222215566784144,
          0.01787415608763695,
          0.020121656507253647,
          0.021616776958107948,
          0.019555349927395584,
          0.01850413214415312,
          0.018542660512030126,
          0.022883444894105195,
          0.023221300542354585,
          0.02193522191606462,
          0.019668771922588348,
          0.019203535970300434,
          0.019333294834941627,
          0.019780953992158175,
          0.01882768388837576,
          0.019234728179872037,
          0.01942784560844302,
          0.02115307318046689,
          0.018304831199347973,
          0.017421546652913095,
          0.018496219143271445,
          0.016813660440966487,
          0.01957950435578823,
          0.018820683984085918,
          0.018360986290499568,
          0.018132537435740233,
          0.018166085416451098,
          0.019062176570296286,
          0.01968107294291258,
          0.0168369466252625,
          0.01701924119144678,
          0.015592844001948833,
          0.01810428313910961,
          0.018131568394601345,
          0.01789505172520876,
          0.017521065697073936,
          0.018147887233644723,
          0.016624153861775993,
          0.016321568228304387,
          0.01765792764723301,
          0.01732501513324678,
          0.016543522933498023,
          0.015686378329992295,
          0.017651740442961455,
          0.018508991673588753,
          0.01636835539713502,
          0.01746180359274149,
          0.016538580385968088,
          0.017245874805375934,
          0.01650284918025136,
          0.017135145068168642,
          0.015457822773605585,
          0.017099377335980534,
          0.017869674330577255,
          0.016529109999537467,
          0.014937308691442013,
          0.014655022211372852,
          0.015688564078882337,
          0.015905599566176532,
          0.01640160526148975,
          0.014814483299851418,
          0.015440942402929068,
          0.016060989275574686,
          0.01607511586509645,
          0.016040297588333488,
          0.016378078013658523,
          0.015390120856463909,
          0.017884566504508256,
          0.015580537375062703,
          0.014121580738574266,
          0.015230538677424193,
          0.016052292743697762,
          0.014005447588860988,
          0.016389515809714796,
          0.014405058957636356,
          0.013968462822958827,
          0.01449426904320717,
          0.013889645226299763,
          0.014748108759522437,
          0.015442059338092805,
          0.014804614605382085,
          0.015838689720258117,
          0.01487731265835464,
          0.01458843044936657,
          0.01370806273072958,
          0.015459914822131396,
          0.01587650108151138,
          0.014157507196068763,
          0.013945528902113438,
          0.014856725363060833,
          0.012691704835742713,
          0.014434057129547,
          0.01469396692700684,
          0.014063752368092536,
          0.014021025504916906,
          0.012407708261162043,
          0.013226050278171897,
          0.016973674297332764,
          0.013758380701765417,
          0.012181415660306812,
          0.013443737234920263,
          0.01299947858788073,
          0.014926396049559117,
          0.014102254323661327,
          0.01449618092738092,
          0.014652088880538941,
          0.013152627339586616,
          0.015323687084019185,
          0.014575295001268387,
          0.015806106366217137,
          0.014661202896386385,
          0.014229435417801141,
          0.014939673999324441,
          0.013857193598523736,
          0.012835799688473344,
          0.016303113596513867,
          0.01428375568240881,
          0.012580849807709455,
          0.011375364661216737,
          0.012937794607132673,
          0.013537744861096143,
          0.013677089670673014,
          0.014210520740598441,
          0.011262994329445063,
          0.012977367043495178,
          0.012137084724381566,
          0.013038779944181442,
          0.01195845615118742,
          0.013444393575191498,
          0.012432630034163594,
          0.013513930588960648,
          0.01443881519138813,
          0.013669081158004701,
          0.013458130746148527,
          0.012129828054457902,
          0.012282987125217915,
          0.013086907537654043,
          0.014310298953205347,
          0.012935197679325938,
          0.014113770006224513,
          0.01455769724212587,
          0.011811329405754805,
          0.012882090406492352,
          0.012476186137646436,
          0.013410053560510277,
          0.011721143843606114,
          0.012350873877294362,
          0.012294186428189278,
          0.01233613098040223,
          0.011715512038208545,
          0.01186630536802113,
          0.012787096938118338,
          0.012586120748892426,
          0.012051407089456916,
          0.011180514423176646,
          0.012459808019921184
         ]
        }
       ],
       "layout": {
        "height": 500,
        "template": {
         "data": {
          "bar": [
           {
            "error_x": {
             "color": "#2a3f5f"
            },
            "error_y": {
             "color": "#2a3f5f"
            },
            "marker": {
             "line": {
              "color": "white",
              "width": 0.5
             },
             "pattern": {
              "fillmode": "overlay",
              "size": 10,
              "solidity": 0.2
             }
            },
            "type": "bar"
           }
          ],
          "barpolar": [
           {
            "marker": {
             "line": {
              "color": "white",
              "width": 0.5
             },
             "pattern": {
              "fillmode": "overlay",
              "size": 10,
              "solidity": 0.2
             }
            },
            "type": "barpolar"
           }
          ],
          "carpet": [
           {
            "aaxis": {
             "endlinecolor": "#2a3f5f",
             "gridcolor": "#C8D4E3",
             "linecolor": "#C8D4E3",
             "minorgridcolor": "#C8D4E3",
             "startlinecolor": "#2a3f5f"
            },
            "baxis": {
             "endlinecolor": "#2a3f5f",
             "gridcolor": "#C8D4E3",
             "linecolor": "#C8D4E3",
             "minorgridcolor": "#C8D4E3",
             "startlinecolor": "#2a3f5f"
            },
            "type": "carpet"
           }
          ],
          "choropleth": [
           {
            "colorbar": {
             "outlinewidth": 0,
             "ticks": ""
            },
            "type": "choropleth"
           }
          ],
          "contour": [
           {
            "colorbar": {
             "outlinewidth": 0,
             "ticks": ""
            },
            "colorscale": [
             [
              0,
              "#0d0887"
             ],
             [
              0.1111111111111111,
              "#46039f"
             ],
             [
              0.2222222222222222,
              "#7201a8"
             ],
             [
              0.3333333333333333,
              "#9c179e"
             ],
             [
              0.4444444444444444,
              "#bd3786"
             ],
             [
              0.5555555555555556,
              "#d8576b"
             ],
             [
              0.6666666666666666,
              "#ed7953"
             ],
             [
              0.7777777777777778,
              "#fb9f3a"
             ],
             [
              0.8888888888888888,
              "#fdca26"
             ],
             [
              1,
              "#f0f921"
             ]
            ],
            "type": "contour"
           }
          ],
          "contourcarpet": [
           {
            "colorbar": {
             "outlinewidth": 0,
             "ticks": ""
            },
            "type": "contourcarpet"
           }
          ],
          "heatmap": [
           {
            "colorbar": {
             "outlinewidth": 0,
             "ticks": ""
            },
            "colorscale": [
             [
              0,
              "#0d0887"
             ],
             [
              0.1111111111111111,
              "#46039f"
             ],
             [
              0.2222222222222222,
              "#7201a8"
             ],
             [
              0.3333333333333333,
              "#9c179e"
             ],
             [
              0.4444444444444444,
              "#bd3786"
             ],
             [
              0.5555555555555556,
              "#d8576b"
             ],
             [
              0.6666666666666666,
              "#ed7953"
             ],
             [
              0.7777777777777778,
              "#fb9f3a"
             ],
             [
              0.8888888888888888,
              "#fdca26"
             ],
             [
              1,
              "#f0f921"
             ]
            ],
            "type": "heatmap"
           }
          ],
          "histogram": [
           {
            "marker": {
             "pattern": {
              "fillmode": "overlay",
              "size": 10,
              "solidity": 0.2
             }
            },
            "type": "histogram"
           }
          ],
          "histogram2d": [
           {
            "colorbar": {
             "outlinewidth": 0,
             "ticks": ""
            },
            "colorscale": [
             [
              0,
              "#0d0887"
             ],
             [
              0.1111111111111111,
              "#46039f"
             ],
             [
              0.2222222222222222,
              "#7201a8"
             ],
             [
              0.3333333333333333,
              "#9c179e"
             ],
             [
              0.4444444444444444,
              "#bd3786"
             ],
             [
              0.5555555555555556,
              "#d8576b"
             ],
             [
              0.6666666666666666,
              "#ed7953"
             ],
             [
              0.7777777777777778,
              "#fb9f3a"
             ],
             [
              0.8888888888888888,
              "#fdca26"
             ],
             [
              1,
              "#f0f921"
             ]
            ],
            "type": "histogram2d"
           }
          ],
          "histogram2dcontour": [
           {
            "colorbar": {
             "outlinewidth": 0,
             "ticks": ""
            },
            "colorscale": [
             [
              0,
              "#0d0887"
             ],
             [
              0.1111111111111111,
              "#46039f"
             ],
             [
              0.2222222222222222,
              "#7201a8"
             ],
             [
              0.3333333333333333,
              "#9c179e"
             ],
             [
              0.4444444444444444,
              "#bd3786"
             ],
             [
              0.5555555555555556,
              "#d8576b"
             ],
             [
              0.6666666666666666,
              "#ed7953"
             ],
             [
              0.7777777777777778,
              "#fb9f3a"
             ],
             [
              0.8888888888888888,
              "#fdca26"
             ],
             [
              1,
              "#f0f921"
             ]
            ],
            "type": "histogram2dcontour"
           }
          ],
          "mesh3d": [
           {
            "colorbar": {
             "outlinewidth": 0,
             "ticks": ""
            },
            "type": "mesh3d"
           }
          ],
          "parcoords": [
           {
            "line": {
             "colorbar": {
              "outlinewidth": 0,
              "ticks": ""
             }
            },
            "type": "parcoords"
           }
          ],
          "pie": [
           {
            "automargin": true,
            "type": "pie"
           }
          ],
          "scatter": [
           {
            "fillpattern": {
             "fillmode": "overlay",
             "size": 10,
             "solidity": 0.2
            },
            "type": "scatter"
           }
          ],
          "scatter3d": [
           {
            "line": {
             "colorbar": {
              "outlinewidth": 0,
              "ticks": ""
             }
            },
            "marker": {
             "colorbar": {
              "outlinewidth": 0,
              "ticks": ""
             }
            },
            "type": "scatter3d"
           }
          ],
          "scattercarpet": [
           {
            "marker": {
             "colorbar": {
              "outlinewidth": 0,
              "ticks": ""
             }
            },
            "type": "scattercarpet"
           }
          ],
          "scattergeo": [
           {
            "marker": {
             "colorbar": {
              "outlinewidth": 0,
              "ticks": ""
             }
            },
            "type": "scattergeo"
           }
          ],
          "scattergl": [
           {
            "marker": {
             "colorbar": {
              "outlinewidth": 0,
              "ticks": ""
             }
            },
            "type": "scattergl"
           }
          ],
          "scattermap": [
           {
            "marker": {
             "colorbar": {
              "outlinewidth": 0,
              "ticks": ""
             }
            },
            "type": "scattermap"
           }
          ],
          "scattermapbox": [
           {
            "marker": {
             "colorbar": {
              "outlinewidth": 0,
              "ticks": ""
             }
            },
            "type": "scattermapbox"
           }
          ],
          "scatterpolar": [
           {
            "marker": {
             "colorbar": {
              "outlinewidth": 0,
              "ticks": ""
             }
            },
            "type": "scatterpolar"
           }
          ],
          "scatterpolargl": [
           {
            "marker": {
             "colorbar": {
              "outlinewidth": 0,
              "ticks": ""
             }
            },
            "type": "scatterpolargl"
           }
          ],
          "scatterternary": [
           {
            "marker": {
             "colorbar": {
              "outlinewidth": 0,
              "ticks": ""
             }
            },
            "type": "scatterternary"
           }
          ],
          "surface": [
           {
            "colorbar": {
             "outlinewidth": 0,
             "ticks": ""
            },
            "colorscale": [
             [
              0,
              "#0d0887"
             ],
             [
              0.1111111111111111,
              "#46039f"
             ],
             [
              0.2222222222222222,
              "#7201a8"
             ],
             [
              0.3333333333333333,
              "#9c179e"
             ],
             [
              0.4444444444444444,
              "#bd3786"
             ],
             [
              0.5555555555555556,
              "#d8576b"
             ],
             [
              0.6666666666666666,
              "#ed7953"
             ],
             [
              0.7777777777777778,
              "#fb9f3a"
             ],
             [
              0.8888888888888888,
              "#fdca26"
             ],
             [
              1,
              "#f0f921"
             ]
            ],
            "type": "surface"
           }
          ],
          "table": [
           {
            "cells": {
             "fill": {
              "color": "#EBF0F8"
             },
             "line": {
              "color": "white"
             }
            },
            "header": {
             "fill": {
              "color": "#C8D4E3"
             },
             "line": {
              "color": "white"
             }
            },
            "type": "table"
           }
          ]
         },
         "layout": {
          "annotationdefaults": {
           "arrowcolor": "#2a3f5f",
           "arrowhead": 0,
           "arrowwidth": 1
          },
          "autotypenumbers": "strict",
          "coloraxis": {
           "colorbar": {
            "outlinewidth": 0,
            "ticks": ""
           }
          },
          "colorscale": {
           "diverging": [
            [
             0,
             "#8e0152"
            ],
            [
             0.1,
             "#c51b7d"
            ],
            [
             0.2,
             "#de77ae"
            ],
            [
             0.3,
             "#f1b6da"
            ],
            [
             0.4,
             "#fde0ef"
            ],
            [
             0.5,
             "#f7f7f7"
            ],
            [
             0.6,
             "#e6f5d0"
            ],
            [
             0.7,
             "#b8e186"
            ],
            [
             0.8,
             "#7fbc41"
            ],
            [
             0.9,
             "#4d9221"
            ],
            [
             1,
             "#276419"
            ]
           ],
           "sequential": [
            [
             0,
             "#0d0887"
            ],
            [
             0.1111111111111111,
             "#46039f"
            ],
            [
             0.2222222222222222,
             "#7201a8"
            ],
            [
             0.3333333333333333,
             "#9c179e"
            ],
            [
             0.4444444444444444,
             "#bd3786"
            ],
            [
             0.5555555555555556,
             "#d8576b"
            ],
            [
             0.6666666666666666,
             "#ed7953"
            ],
            [
             0.7777777777777778,
             "#fb9f3a"
            ],
            [
             0.8888888888888888,
             "#fdca26"
            ],
            [
             1,
             "#f0f921"
            ]
           ],
           "sequentialminus": [
            [
             0,
             "#0d0887"
            ],
            [
             0.1111111111111111,
             "#46039f"
            ],
            [
             0.2222222222222222,
             "#7201a8"
            ],
            [
             0.3333333333333333,
             "#9c179e"
            ],
            [
             0.4444444444444444,
             "#bd3786"
            ],
            [
             0.5555555555555556,
             "#d8576b"
            ],
            [
             0.6666666666666666,
             "#ed7953"
            ],
            [
             0.7777777777777778,
             "#fb9f3a"
            ],
            [
             0.8888888888888888,
             "#fdca26"
            ],
            [
             1,
             "#f0f921"
            ]
           ]
          },
          "colorway": [
           "#636efa",
           "#EF553B",
           "#00cc96",
           "#ab63fa",
           "#FFA15A",
           "#19d3f3",
           "#FF6692",
           "#B6E880",
           "#FF97FF",
           "#FECB52"
          ],
          "font": {
           "color": "#2a3f5f"
          },
          "geo": {
           "bgcolor": "white",
           "lakecolor": "white",
           "landcolor": "white",
           "showlakes": true,
           "showland": true,
           "subunitcolor": "#C8D4E3"
          },
          "hoverlabel": {
           "align": "left"
          },
          "hovermode": "closest",
          "mapbox": {
           "style": "light"
          },
          "paper_bgcolor": "white",
          "plot_bgcolor": "white",
          "polar": {
           "angularaxis": {
            "gridcolor": "#EBF0F8",
            "linecolor": "#EBF0F8",
            "ticks": ""
           },
           "bgcolor": "white",
           "radialaxis": {
            "gridcolor": "#EBF0F8",
            "linecolor": "#EBF0F8",
            "ticks": ""
           }
          },
          "scene": {
           "xaxis": {
            "backgroundcolor": "white",
            "gridcolor": "#DFE8F3",
            "gridwidth": 2,
            "linecolor": "#EBF0F8",
            "showbackground": true,
            "ticks": "",
            "zerolinecolor": "#EBF0F8"
           },
           "yaxis": {
            "backgroundcolor": "white",
            "gridcolor": "#DFE8F3",
            "gridwidth": 2,
            "linecolor": "#EBF0F8",
            "showbackground": true,
            "ticks": "",
            "zerolinecolor": "#EBF0F8"
           },
           "zaxis": {
            "backgroundcolor": "white",
            "gridcolor": "#DFE8F3",
            "gridwidth": 2,
            "linecolor": "#EBF0F8",
            "showbackground": true,
            "ticks": "",
            "zerolinecolor": "#EBF0F8"
           }
          },
          "shapedefaults": {
           "line": {
            "color": "#2a3f5f"
           }
          },
          "ternary": {
           "aaxis": {
            "gridcolor": "#DFE8F3",
            "linecolor": "#A2B1C6",
            "ticks": ""
           },
           "baxis": {
            "gridcolor": "#DFE8F3",
            "linecolor": "#A2B1C6",
            "ticks": ""
           },
           "bgcolor": "white",
           "caxis": {
            "gridcolor": "#DFE8F3",
            "linecolor": "#A2B1C6",
            "ticks": ""
           }
          },
          "title": {
           "x": 0.05
          },
          "xaxis": {
           "automargin": true,
           "gridcolor": "#EBF0F8",
           "linecolor": "#EBF0F8",
           "ticks": "",
           "title": {
            "standoff": 15
           },
           "zerolinecolor": "#EBF0F8",
           "zerolinewidth": 2
          },
          "yaxis": {
           "automargin": true,
           "gridcolor": "#EBF0F8",
           "linecolor": "#EBF0F8",
           "ticks": "",
           "title": {
            "standoff": 15
           },
           "zerolinecolor": "#EBF0F8",
           "zerolinewidth": 2
          }
         }
        },
        "title": {
         "text": "Curva de Pérdida durante el Entrenamiento"
        },
        "xaxis": {
         "title": {
          "text": "Época"
         }
        },
        "yaxis": {
         "title": {
          "text": "MSE"
         }
        }
       }
      }
     },
     "metadata": {},
     "output_type": "display_data"
    }
   ],
   "source": [
    "# ## 6. Entrenamiento del Modelo Final\n",
    "\n",
    "# %%\n",
    "# Obtener mejores hiperparámetros\n",
    "best_params = study.best_params\n",
    "print(f\"Mejores hiperparámetros encontrados:\")\n",
    "for param, value in best_params.items():\n",
    "    print(f\"  {param}: {value}\")\n",
    "\n",
    "# %%\n",
    "# Combinar datos de entrenamiento y validación\n",
    "all_train_data = pd.concat([train_data, val_data])\n",
    "print(f\"Datos combinados para entrenamiento final: {all_train_data.shape}\")\n",
    "\n",
    "# Re-escalar con todos los datos\n",
    "scaler_final = StandardScaler()\n",
    "all_train_data_scaled = all_train_data.copy()\n",
    "all_train_data_scaled[numerical_cols + [target_col]] = scaler_final.fit_transform(\n",
    "    all_train_data[numerical_cols + [target_col]]\n",
    ")\n",
    "\n",
    "# %%\n",
    "# Crear secuencias finales\n",
    "id_bar_list = all_train_data['id_bar'].unique()\n",
    "final_sequences, final_targets = create_sequences(\n",
    "    all_train_data_scaled, \n",
    "    best_params['window_size'], \n",
    "    id_bar_list\n",
    ")\n",
    "\n",
    "# Crear dataset y dataloader final\n",
    "final_dataset = DengueDataset(final_sequences, final_targets)\n",
    "final_loader = DataLoader(\n",
    "    final_dataset, \n",
    "    batch_size=best_params['batch_size'], \n",
    "    shuffle=True\n",
    ")\n",
    "\n",
    "# %%\n",
    "# Crear y entrenar modelo final\n",
    "n_numerical_features = len(numerical_cols) + 1\n",
    "n_id_bar = len(id_bar_mapping)\n",
    "n_estrato = len(estrato_mapping)\n",
    "\n",
    "final_model = DengueLSTM(\n",
    "    n_numerical_features=n_numerical_features,\n",
    "    n_id_bar=n_id_bar,\n",
    "    n_estrato=n_estrato,\n",
    "    hidden_size=best_params['hidden_size'],\n",
    "    num_layers=best_params['num_layers'],\n",
    "    dropout_rate=best_params['dropout_rate']\n",
    ").to(device)\n",
    "\n",
    "# Entrenar modelo final\n",
    "criterion = nn.MSELoss()\n",
    "optimizer = optim.Adam(final_model.parameters(), lr=best_params['learning_rate'])\n",
    "\n",
    "train_losses = []\n",
    "n_epochs_final = 300\n",
    "\n",
    "for epoch in range(n_epochs_final):\n",
    "    final_model.train()\n",
    "    epoch_loss = 0\n",
    "    \n",
    "    for batch in final_loader:\n",
    "        inputs, targets = batch\n",
    "        numerical = inputs['numerical'].to(device)\n",
    "        id_bar = inputs['id_bar'].to(device)\n",
    "        estrato = inputs['estrato'].to(device)\n",
    "        targets = targets.to(device)\n",
    "        \n",
    "        optimizer.zero_grad()\n",
    "        outputs = final_model(numerical, id_bar, estrato)\n",
    "        loss = criterion(outputs, targets)\n",
    "        loss.backward()\n",
    "        optimizer.step()\n",
    "        \n",
    "        epoch_loss += loss.item()\n",
    "    \n",
    "    avg_loss = epoch_loss / len(final_loader)\n",
    "    train_losses.append(avg_loss)\n",
    "    \n",
    "    if (epoch + 1) % 10 == 0:\n",
    "        print(f\"Época {epoch + 1}/{n_epochs_final}, Pérdida: {avg_loss:.4f}\")\n",
    "\n",
    "# %%\n",
    "# Visualizar curva de pérdida\n",
    "fig = go.Figure()\n",
    "fig.add_trace(go.Scatter(\n",
    "    x=list(range(1, n_epochs_final + 1)),\n",
    "    y=train_losses,\n",
    "    mode='lines',\n",
    "    name='Pérdida de entrenamiento',\n",
    "    line=dict(color='blue', width=2)\n",
    "))\n",
    "\n",
    "fig.update_layout(\n",
    "    title='Curva de Pérdida durante el Entrenamiento',\n",
    "    xaxis_title='Época',\n",
    "    yaxis_title='MSE',\n",
    "    template='plotly_white',\n",
    "    height=500\n",
    ")\n",
    "\n",
    "fig.show()\n",
    "\n",
    "# %% [markdown]"
   ]
  },
  {
   "cell_type": "code",
   "execution_count": 12,
   "id": "b689131a",
   "metadata": {},
   "outputs": [
    {
     "name": "stdout",
     "output_type": "stream",
     "text": [
      "Generando pronósticos para 2022...\n",
      "Pronósticos generados: (520, 4)\n",
      "   id_bar  anio  semana  dengue\n",
      "0       4  2022       1     0.0\n",
      "1       4  2022       2     0.0\n",
      "2       4  2022       3     0.0\n",
      "3       4  2022       4     0.0\n",
      "4       4  2022       5     0.0\n"
     ]
    }
   ],
   "source": [
    "\n",
    "\n",
    "# ## 7. Generación de Pronósticos para 2022\n",
    "\n",
    "# %%\n",
    "def generate_predictions_2022(model, data, window_size, scaler, device):\n",
    "    \"\"\"\n",
    "    Genera predicciones autorregresivas para 2022\n",
    "    \"\"\"\n",
    "    model.eval()\n",
    "    predictions_2022 = []\n",
    "    \n",
    "    # Obtener todas las semanas de 2022\n",
    "    start_date_2022 = pd.to_datetime('2022-01-03')  # Primer lunes de 2022\n",
    "    weeks_2022 = []\n",
    "    for week in range(52):\n",
    "        week_date = start_date_2022 + timedelta(weeks=week)\n",
    "        year_week = week_date.isocalendar()\n",
    "        weeks_2022.append((year_week.year, year_week.week))\n",
    "    \n",
    "    for id_bar in data['id_bar'].unique():\n",
    "        bar_data = data[data['id_bar'] == id_bar].sort_index()\n",
    "        \n",
    "        # Tomar las últimas 'window_size' semanas\n",
    "        last_sequence = bar_data.tail(window_size).copy()\n",
    "        \n",
    "        # Para cada semana de 2022\n",
    "        for year, week in weeks_2022:\n",
    "            # Preparar entrada\n",
    "            numerical_features = last_sequence[numerical_cols + [target_col]].values\n",
    "            numerical_tensor = torch.FloatTensor(numerical_features).unsqueeze(0).to(device)\n",
    "            \n",
    "            id_bar_idx = bar_data['id_bar_idx'].iloc[-1]\n",
    "            estrato_idx = bar_data['estrato_idx'].iloc[-1]\n",
    "            id_bar_tensor = torch.LongTensor([id_bar_idx]).unsqueeze(0).to(device)\n",
    "            estrato_tensor = torch.LongTensor([estrato_idx]).unsqueeze(0).to(device)\n",
    "            \n",
    "            # Hacer predicción\n",
    "            with torch.no_grad():\n",
    "                prediction_scaled = final_model(numerical_tensor, id_bar_tensor, estrato_tensor)\n",
    "                prediction_scaled = prediction_scaled.cpu().numpy()[0, 0]\n",
    "            \n",
    "            # Des-escalar predicción\n",
    "            # Crear array para des-escalar solo la columna de dengue\n",
    "            dummy_array = np.zeros((1, len(numerical_cols) + 1))\n",
    "            dummy_array[0, -1] = prediction_scaled\n",
    "            prediction_original = scaler.inverse_transform(dummy_array)[0, -1]\n",
    "            \n",
    "            # Guardar predicción\n",
    "            predictions_2022.append({\n",
    "                'id_bar': id_bar,\n",
    "                'anio': year,\n",
    "                'semana': week,\n",
    "                'dengue': max(0, prediction_original)  # Asegurar no negativos\n",
    "            })\n",
    "            \n",
    "            # Actualizar secuencia para próxima predicción\n",
    "            # Crear nueva fila con la predicción\n",
    "            new_row = last_sequence.iloc[-1:].copy()\n",
    "            new_row[target_col] = prediction_scaled\n",
    "            \n",
    "            # Deslizar ventana\n",
    "            last_sequence = pd.concat([last_sequence.iloc[1:], new_row])\n",
    "    \n",
    "    return pd.DataFrame(predictions_2022)\n",
    "\n",
    "# %%\n",
    "# Generar predicciones\n",
    "print(\"Generando pronósticos para 2022...\")\n",
    "predictions_df = generate_predictions_2022(\n",
    "    final_model, \n",
    "    all_train_data_scaled, \n",
    "    best_params['window_size'], \n",
    "    scaler_final, \n",
    "    device\n",
    ")\n",
    "\n",
    "print(f\"Pronósticos generados: {predictions_df.shape}\")\n",
    "print(predictions_df.head())\n",
    "\n",
    "# %% [markdown]"
   ]
  },
  {
   "cell_type": "code",
   "execution_count": 13,
   "id": "9010dcb0",
   "metadata": {},
   "outputs": [
    {
     "name": "stdout",
     "output_type": "stream",
     "text": [
      "Formato del archivo de salida:\n",
      "          id    dengue\n",
      "0  4_2022_01  0.000000\n",
      "1  4_2022_02  0.000000\n",
      "2  4_2022_03  0.000000\n",
      "3  4_2022_04  0.000000\n",
      "4  4_2022_05  0.000000\n",
      "5  4_2022_06  0.074723\n",
      "6  4_2022_07  0.000000\n",
      "7  4_2022_08  0.000000\n",
      "8  4_2022_09  0.000000\n",
      "9  4_2022_10  0.000000\n",
      "\n",
      "Total de predicciones: 520\n",
      "Predicciones por barrio: 52.0\n",
      "Archivo 'pronosticos_dengue_2022.csv' guardado exitosamente!\n"
     ]
    },
    {
     "data": {
      "application/vnd.plotly.v1+json": {
       "config": {
        "plotlyServerURL": "https://plot.ly"
       },
       "data": [
        {
         "mode": "lines+markers",
         "name": "Barrio 4",
         "type": "scatter",
         "x": {
          "bdata": "AQIDBAUGBwgJCgsMDQ4PEBESExQVFhcYGRobHB0eHyAhIiMkJSYnKCkqKywtLi8wMTIzNA==",
          "dtype": "i1"
         },
         "xaxis": "x",
         "y": {
          "bdata": "AAAAAAAAAAAAAAAAAAAAAAAAAAAAAAAAAAAAAAAAAAAAAAAAAAAAAI6vCp4PIbM/AAAAAAAAAAAAAAAAAAAAAAAAAAAAAAAAAAAAAAAAAAAAAAAAAAAAAAAAAAAAAAAAAAAAAAAAAAAAAAAAAAAAAAAAAAAAAAAAAAAAAAAAAAAAAAAAAAAAAAAAAAAAAAAAAAAAAAAAAAAAAAAAAAAAAAAAAAAAAAAAAAAAAAAAAAAAAAAAAAAAAAAAAAAAAAAAAAAAAAAAAAAAAAAAAAAAAAAAAAAAAAAAAAAAAAAAAAAAAAAAAAAAAAAAAAAAAAAAAAAAAAAAAAAAAAAAAAAAAAAAAAAAAAAAAAAAAAAAAAAAAAAAAAAAAAAAAAAAAAAAAAAAAAAAAAAAAAAAAAAAAAAAAAAAAAAAAAAAAAAAAAAAAAAAAAAAAAAAAAAAAAAAAAAAAAAAAAAAAAAAAAAAAAAAAAAAAAAAAAAAAAAAAAAAAAAAAAAAAAAAAAAAAAAAAAAAAAAAAAAAAAAAAAAAAAAAAAAAAAAAAAAAAAAAAAA=",
          "dtype": "f8"
         },
         "yaxis": "y"
        },
        {
         "mode": "lines+markers",
         "name": "Barrio 5",
         "type": "scatter",
         "x": {
          "bdata": "AQIDBAUGBwgJCgsMDQ4PEBESExQVFhcYGRobHB0eHyAhIiMkJSYnKCkqKywtLi8wMTIzNA==",
          "dtype": "i1"
         },
         "xaxis": "x2",
         "y": {
          "bdata": "AAAAAAAAAAAAAAAAAAAAAAAAAAAAAAAAAAAAAAAAAAAAAAAAAAAAAHyYvZr6pok/AAAAAAAAAAAQXCayaYKgPwAAAAAAAAAAAAAAAAAAAAAAAAAAAAAAAAAAAAAAAAAAAAAAAAAAAAAAAAAAAAAAAAAAAAAAAAAAAAAAAAAAAAAAAAAAAAAAAAAAAAAAAAAAAAAAAAAAAAAAAAAAAAAAAAAAAAAAAAAAAAAAAAAAAAAAAAAAAAAAAAAAAAAAAAAAAAAAAAAAAAAAAAAAAAAAAAAAAAAAAAAAAAAAAAAAAAAAAAAAAAAAAAAAAAAAAAAAAAAAAAAAAAAAAAAAAAAAAAAAAAAAAAAAAAAAAAAAAAAAAAAAAAAAAAAAAAAAAAAAAAAAAAAAAAAAAAAAAAAAAAAAAAAAAAAAAAAAAAAAAAAAAAAAAAAAAAAAAAAAAAAAAAAAAAAAAAAAAAAAAAAAAAAAAAAAAAAAAAAAAAAAAAAAAAAAAAAAAAAAAAAAAAAAAAAAAAAAAAAAAAAAAAAAAAAAAAAAAAAAAAAAAAAAAAA=",
          "dtype": "f8"
         },
         "yaxis": "y2"
        },
        {
         "mode": "lines+markers",
         "name": "Barrio 3",
         "type": "scatter",
         "x": {
          "bdata": "AQIDBAUGBwgJCgsMDQ4PEBESExQVFhcYGRobHB0eHyAhIiMkJSYnKCkqKywtLi8wMTIzNA==",
          "dtype": "i1"
         },
         "xaxis": "x3",
         "y": {
          "bdata": "AAAAAAAAAAAAAAAAAAAAAAAAAAAAAAAAAAAAAAAAAAAAAAAAAAAAAAAAAAAAAAAAAAAAAAAAAAAAAAAAAAAAAAAAAAAAAAAAAAAAAAAAAAAAAAAAAAAAAAAAAAAAAAAAAAAAAAAAAAAAAAAAAAAAAAAAAAAAAAAAAAAAAAAAAAAAAAAAAAAAAAAAAAAAAAAAAAAAAAAAAAAAAAAAAAAAAAAAAAAAAAAAAAAAAAAAAAAAAAAAAAAAAAAAAAAAAAAAAAAAAAAAAAAAAAAAAAAAAAAAAAAAAAAAAAAAAAAAAAAAAAAAAAAAAAAAAAAAAAAAAAAAAAAAAAAAAAAAAAAAAAAAAAAAAAAAAAAAAAAAAAAAAAAAAAAAAAAAAAAAAAAAAAAAAAAAAAAAAAAAAAAAAAAAAAAAAAAAAAAAAAAAAAAAAAAAAAAAAAAAAAAAAAAAAAAAAAAAAAAAAAAAAAAAAAAAAAAAAAAAAAAAAAAAAAAAAAAAAAAAAAAAAAAAAAAAAAAAAAAAAAAAAAAAAAAAAAAAAAAAAAAAAAAAAAAAAAA=",
          "dtype": "f8"
         },
         "yaxis": "y3"
        },
        {
         "mode": "lines+markers",
         "name": "Barrio 8",
         "type": "scatter",
         "x": {
          "bdata": "AQIDBAUGBwgJCgsMDQ4PEBESExQVFhcYGRobHB0eHyAhIiMkJSYnKCkqKywtLi8wMTIzNA==",
          "dtype": "i1"
         },
         "xaxis": "x4",
         "y": {
          "bdata": "AAAAAAAAAAAAAAAAAAAAAAAAAAAAAAAAAAAAAAAAAAAAAAAAAAAAAAAAAAAAAAAAAAAAAAAAAAChDe0Yjey3PwAAAAAAAAAA2JHI784hkz8AAAAAAAAAAAAAAAAAAAAAAAAAAAAAAAAAAAAAAAAAAAAAAAAAAAAAAAAAAAAAAAAAAAAAAAAAAAAAAAAAAAAAAAAAAAAAAAAAAAAAAAAAAAAAAAAAAAAAAAAAAAAAAAAAAAAAAAAAAAAAAAAAAAAAAAAAAAAAAAAAAAAAAAAAAAAAAAAAAAAAAAAAAAAAAAAAAAAAAAAAAAAAAAAAAAAAAAAAAAAAAAAAAAAAAAAAAAAAAAAAAAAAAAAAAAAAAAAAAAAAAAAAAAAAAAAAAAAAAAAAAAAAAAAAAAAAAAAAAAAAAAAAAAAAAAAAAAAAAAAAAAAAAAAAAAAAAAAAAAAAAAAAAAAAAAAAAAAAAAAAAAAAAAAAAAAAAAAAAAAAAAAAAAAAAAAAAAAAAAAAAAAAAAAAAAAAAAAAAAAAAAAAAAAAAAAAAAAAAAAAAAAAAAA=",
          "dtype": "f8"
         },
         "yaxis": "y4"
        },
        {
         "mode": "lines+markers",
         "name": "Barrio 9",
         "type": "scatter",
         "x": {
          "bdata": "AQIDBAUGBwgJCgsMDQ4PEBESExQVFhcYGRobHB0eHyAhIiMkJSYnKCkqKywtLi8wMTIzNA==",
          "dtype": "i1"
         },
         "xaxis": "x5",
         "y": {
          "bdata": "AAAAAAAAAAAAAAAAAAAAAAAAAAAAAAAAAAAAAAAAAAAAAAAAAAAAAAAAAAAAAAAAAAAAAAAAAAAAAAAAAAAAAAAAAAAAAAAAAAAAAAAAAAAAAAAAAAAAAAAAAAAAAAAAAAAAAAAAAAAAAAAAAAAAAAAAAAAAAAAAAAAAAAAAAAAAAAAAAAAAAAAAAAAAAAAAAAAAAAAAAAAAAAAAAAAAAAAAAAAAAAAAAAAAAAAAAAAAAAAAAAAAAAAAAAAAAAAAAAAAAAAAAAAAAAAAAAAAAAAAAAAAAAAAAAAAAAAAAAAAAAAAAAAAAAAAAAAAAAAAAAAAAAAAAAAAAAAAAAAAAAAAAAAAAAAAAAAAAAAAAAAAAAAAAAAAAAAAAAAAAAAAAAAAAAAAAAAAAAAAAAAAAAAAAAAAAAAAAAAAAAAAAAAAAAAAAAAAAAAAAAAAAAAAAAAAAAAAAAAAAAAAAAAAAAAAAAAAAAAAAAAAAAAAAAAAAAAAAAAAAAAAAAAAAAAAAAAAAAAAAAAAAAAAAAAAAAAAAAAAAAAAAAAAAAAAAAA=",
          "dtype": "f8"
         },
         "yaxis": "y5"
        }
       ],
       "layout": {
        "annotations": [
         {
          "font": {
           "size": 16
          },
          "showarrow": false,
          "text": "Barrio 4",
          "x": 0.225,
          "xanchor": "center",
          "xref": "paper",
          "y": 1,
          "yanchor": "bottom",
          "yref": "paper"
         },
         {
          "font": {
           "size": 16
          },
          "showarrow": false,
          "text": "Barrio 5",
          "x": 0.775,
          "xanchor": "center",
          "xref": "paper",
          "y": 1,
          "yanchor": "bottom",
          "yref": "paper"
         },
         {
          "font": {
           "size": 16
          },
          "showarrow": false,
          "text": "Barrio 3",
          "x": 0.225,
          "xanchor": "center",
          "xref": "paper",
          "y": 0.6111111111111112,
          "yanchor": "bottom",
          "yref": "paper"
         },
         {
          "font": {
           "size": 16
          },
          "showarrow": false,
          "text": "Barrio 8",
          "x": 0.775,
          "xanchor": "center",
          "xref": "paper",
          "y": 0.6111111111111112,
          "yanchor": "bottom",
          "yref": "paper"
         },
         {
          "font": {
           "size": 16
          },
          "showarrow": false,
          "text": "Barrio 9",
          "x": 0.225,
          "xanchor": "center",
          "xref": "paper",
          "y": 0.22222222222222224,
          "yanchor": "bottom",
          "yref": "paper"
         }
        ],
        "height": 800,
        "showlegend": false,
        "template": {
         "data": {
          "bar": [
           {
            "error_x": {
             "color": "#2a3f5f"
            },
            "error_y": {
             "color": "#2a3f5f"
            },
            "marker": {
             "line": {
              "color": "#E5ECF6",
              "width": 0.5
             },
             "pattern": {
              "fillmode": "overlay",
              "size": 10,
              "solidity": 0.2
             }
            },
            "type": "bar"
           }
          ],
          "barpolar": [
           {
            "marker": {
             "line": {
              "color": "#E5ECF6",
              "width": 0.5
             },
             "pattern": {
              "fillmode": "overlay",
              "size": 10,
              "solidity": 0.2
             }
            },
            "type": "barpolar"
           }
          ],
          "carpet": [
           {
            "aaxis": {
             "endlinecolor": "#2a3f5f",
             "gridcolor": "white",
             "linecolor": "white",
             "minorgridcolor": "white",
             "startlinecolor": "#2a3f5f"
            },
            "baxis": {
             "endlinecolor": "#2a3f5f",
             "gridcolor": "white",
             "linecolor": "white",
             "minorgridcolor": "white",
             "startlinecolor": "#2a3f5f"
            },
            "type": "carpet"
           }
          ],
          "choropleth": [
           {
            "colorbar": {
             "outlinewidth": 0,
             "ticks": ""
            },
            "type": "choropleth"
           }
          ],
          "contour": [
           {
            "colorbar": {
             "outlinewidth": 0,
             "ticks": ""
            },
            "colorscale": [
             [
              0,
              "#0d0887"
             ],
             [
              0.1111111111111111,
              "#46039f"
             ],
             [
              0.2222222222222222,
              "#7201a8"
             ],
             [
              0.3333333333333333,
              "#9c179e"
             ],
             [
              0.4444444444444444,
              "#bd3786"
             ],
             [
              0.5555555555555556,
              "#d8576b"
             ],
             [
              0.6666666666666666,
              "#ed7953"
             ],
             [
              0.7777777777777778,
              "#fb9f3a"
             ],
             [
              0.8888888888888888,
              "#fdca26"
             ],
             [
              1,
              "#f0f921"
             ]
            ],
            "type": "contour"
           }
          ],
          "contourcarpet": [
           {
            "colorbar": {
             "outlinewidth": 0,
             "ticks": ""
            },
            "type": "contourcarpet"
           }
          ],
          "heatmap": [
           {
            "colorbar": {
             "outlinewidth": 0,
             "ticks": ""
            },
            "colorscale": [
             [
              0,
              "#0d0887"
             ],
             [
              0.1111111111111111,
              "#46039f"
             ],
             [
              0.2222222222222222,
              "#7201a8"
             ],
             [
              0.3333333333333333,
              "#9c179e"
             ],
             [
              0.4444444444444444,
              "#bd3786"
             ],
             [
              0.5555555555555556,
              "#d8576b"
             ],
             [
              0.6666666666666666,
              "#ed7953"
             ],
             [
              0.7777777777777778,
              "#fb9f3a"
             ],
             [
              0.8888888888888888,
              "#fdca26"
             ],
             [
              1,
              "#f0f921"
             ]
            ],
            "type": "heatmap"
           }
          ],
          "histogram": [
           {
            "marker": {
             "pattern": {
              "fillmode": "overlay",
              "size": 10,
              "solidity": 0.2
             }
            },
            "type": "histogram"
           }
          ],
          "histogram2d": [
           {
            "colorbar": {
             "outlinewidth": 0,
             "ticks": ""
            },
            "colorscale": [
             [
              0,
              "#0d0887"
             ],
             [
              0.1111111111111111,
              "#46039f"
             ],
             [
              0.2222222222222222,
              "#7201a8"
             ],
             [
              0.3333333333333333,
              "#9c179e"
             ],
             [
              0.4444444444444444,
              "#bd3786"
             ],
             [
              0.5555555555555556,
              "#d8576b"
             ],
             [
              0.6666666666666666,
              "#ed7953"
             ],
             [
              0.7777777777777778,
              "#fb9f3a"
             ],
             [
              0.8888888888888888,
              "#fdca26"
             ],
             [
              1,
              "#f0f921"
             ]
            ],
            "type": "histogram2d"
           }
          ],
          "histogram2dcontour": [
           {
            "colorbar": {
             "outlinewidth": 0,
             "ticks": ""
            },
            "colorscale": [
             [
              0,
              "#0d0887"
             ],
             [
              0.1111111111111111,
              "#46039f"
             ],
             [
              0.2222222222222222,
              "#7201a8"
             ],
             [
              0.3333333333333333,
              "#9c179e"
             ],
             [
              0.4444444444444444,
              "#bd3786"
             ],
             [
              0.5555555555555556,
              "#d8576b"
             ],
             [
              0.6666666666666666,
              "#ed7953"
             ],
             [
              0.7777777777777778,
              "#fb9f3a"
             ],
             [
              0.8888888888888888,
              "#fdca26"
             ],
             [
              1,
              "#f0f921"
             ]
            ],
            "type": "histogram2dcontour"
           }
          ],
          "mesh3d": [
           {
            "colorbar": {
             "outlinewidth": 0,
             "ticks": ""
            },
            "type": "mesh3d"
           }
          ],
          "parcoords": [
           {
            "line": {
             "colorbar": {
              "outlinewidth": 0,
              "ticks": ""
             }
            },
            "type": "parcoords"
           }
          ],
          "pie": [
           {
            "automargin": true,
            "type": "pie"
           }
          ],
          "scatter": [
           {
            "fillpattern": {
             "fillmode": "overlay",
             "size": 10,
             "solidity": 0.2
            },
            "type": "scatter"
           }
          ],
          "scatter3d": [
           {
            "line": {
             "colorbar": {
              "outlinewidth": 0,
              "ticks": ""
             }
            },
            "marker": {
             "colorbar": {
              "outlinewidth": 0,
              "ticks": ""
             }
            },
            "type": "scatter3d"
           }
          ],
          "scattercarpet": [
           {
            "marker": {
             "colorbar": {
              "outlinewidth": 0,
              "ticks": ""
             }
            },
            "type": "scattercarpet"
           }
          ],
          "scattergeo": [
           {
            "marker": {
             "colorbar": {
              "outlinewidth": 0,
              "ticks": ""
             }
            },
            "type": "scattergeo"
           }
          ],
          "scattergl": [
           {
            "marker": {
             "colorbar": {
              "outlinewidth": 0,
              "ticks": ""
             }
            },
            "type": "scattergl"
           }
          ],
          "scattermap": [
           {
            "marker": {
             "colorbar": {
              "outlinewidth": 0,
              "ticks": ""
             }
            },
            "type": "scattermap"
           }
          ],
          "scattermapbox": [
           {
            "marker": {
             "colorbar": {
              "outlinewidth": 0,
              "ticks": ""
             }
            },
            "type": "scattermapbox"
           }
          ],
          "scatterpolar": [
           {
            "marker": {
             "colorbar": {
              "outlinewidth": 0,
              "ticks": ""
             }
            },
            "type": "scatterpolar"
           }
          ],
          "scatterpolargl": [
           {
            "marker": {
             "colorbar": {
              "outlinewidth": 0,
              "ticks": ""
             }
            },
            "type": "scatterpolargl"
           }
          ],
          "scatterternary": [
           {
            "marker": {
             "colorbar": {
              "outlinewidth": 0,
              "ticks": ""
             }
            },
            "type": "scatterternary"
           }
          ],
          "surface": [
           {
            "colorbar": {
             "outlinewidth": 0,
             "ticks": ""
            },
            "colorscale": [
             [
              0,
              "#0d0887"
             ],
             [
              0.1111111111111111,
              "#46039f"
             ],
             [
              0.2222222222222222,
              "#7201a8"
             ],
             [
              0.3333333333333333,
              "#9c179e"
             ],
             [
              0.4444444444444444,
              "#bd3786"
             ],
             [
              0.5555555555555556,
              "#d8576b"
             ],
             [
              0.6666666666666666,
              "#ed7953"
             ],
             [
              0.7777777777777778,
              "#fb9f3a"
             ],
             [
              0.8888888888888888,
              "#fdca26"
             ],
             [
              1,
              "#f0f921"
             ]
            ],
            "type": "surface"
           }
          ],
          "table": [
           {
            "cells": {
             "fill": {
              "color": "#EBF0F8"
             },
             "line": {
              "color": "white"
             }
            },
            "header": {
             "fill": {
              "color": "#C8D4E3"
             },
             "line": {
              "color": "white"
             }
            },
            "type": "table"
           }
          ]
         },
         "layout": {
          "annotationdefaults": {
           "arrowcolor": "#2a3f5f",
           "arrowhead": 0,
           "arrowwidth": 1
          },
          "autotypenumbers": "strict",
          "coloraxis": {
           "colorbar": {
            "outlinewidth": 0,
            "ticks": ""
           }
          },
          "colorscale": {
           "diverging": [
            [
             0,
             "#8e0152"
            ],
            [
             0.1,
             "#c51b7d"
            ],
            [
             0.2,
             "#de77ae"
            ],
            [
             0.3,
             "#f1b6da"
            ],
            [
             0.4,
             "#fde0ef"
            ],
            [
             0.5,
             "#f7f7f7"
            ],
            [
             0.6,
             "#e6f5d0"
            ],
            [
             0.7,
             "#b8e186"
            ],
            [
             0.8,
             "#7fbc41"
            ],
            [
             0.9,
             "#4d9221"
            ],
            [
             1,
             "#276419"
            ]
           ],
           "sequential": [
            [
             0,
             "#0d0887"
            ],
            [
             0.1111111111111111,
             "#46039f"
            ],
            [
             0.2222222222222222,
             "#7201a8"
            ],
            [
             0.3333333333333333,
             "#9c179e"
            ],
            [
             0.4444444444444444,
             "#bd3786"
            ],
            [
             0.5555555555555556,
             "#d8576b"
            ],
            [
             0.6666666666666666,
             "#ed7953"
            ],
            [
             0.7777777777777778,
             "#fb9f3a"
            ],
            [
             0.8888888888888888,
             "#fdca26"
            ],
            [
             1,
             "#f0f921"
            ]
           ],
           "sequentialminus": [
            [
             0,
             "#0d0887"
            ],
            [
             0.1111111111111111,
             "#46039f"
            ],
            [
             0.2222222222222222,
             "#7201a8"
            ],
            [
             0.3333333333333333,
             "#9c179e"
            ],
            [
             0.4444444444444444,
             "#bd3786"
            ],
            [
             0.5555555555555556,
             "#d8576b"
            ],
            [
             0.6666666666666666,
             "#ed7953"
            ],
            [
             0.7777777777777778,
             "#fb9f3a"
            ],
            [
             0.8888888888888888,
             "#fdca26"
            ],
            [
             1,
             "#f0f921"
            ]
           ]
          },
          "colorway": [
           "#636efa",
           "#EF553B",
           "#00cc96",
           "#ab63fa",
           "#FFA15A",
           "#19d3f3",
           "#FF6692",
           "#B6E880",
           "#FF97FF",
           "#FECB52"
          ],
          "font": {
           "color": "#2a3f5f"
          },
          "geo": {
           "bgcolor": "white",
           "lakecolor": "white",
           "landcolor": "#E5ECF6",
           "showlakes": true,
           "showland": true,
           "subunitcolor": "white"
          },
          "hoverlabel": {
           "align": "left"
          },
          "hovermode": "closest",
          "mapbox": {
           "style": "light"
          },
          "paper_bgcolor": "white",
          "plot_bgcolor": "#E5ECF6",
          "polar": {
           "angularaxis": {
            "gridcolor": "white",
            "linecolor": "white",
            "ticks": ""
           },
           "bgcolor": "#E5ECF6",
           "radialaxis": {
            "gridcolor": "white",
            "linecolor": "white",
            "ticks": ""
           }
          },
          "scene": {
           "xaxis": {
            "backgroundcolor": "#E5ECF6",
            "gridcolor": "white",
            "gridwidth": 2,
            "linecolor": "white",
            "showbackground": true,
            "ticks": "",
            "zerolinecolor": "white"
           },
           "yaxis": {
            "backgroundcolor": "#E5ECF6",
            "gridcolor": "white",
            "gridwidth": 2,
            "linecolor": "white",
            "showbackground": true,
            "ticks": "",
            "zerolinecolor": "white"
           },
           "zaxis": {
            "backgroundcolor": "#E5ECF6",
            "gridcolor": "white",
            "gridwidth": 2,
            "linecolor": "white",
            "showbackground": true,
            "ticks": "",
            "zerolinecolor": "white"
           }
          },
          "shapedefaults": {
           "line": {
            "color": "#2a3f5f"
           }
          },
          "ternary": {
           "aaxis": {
            "gridcolor": "white",
            "linecolor": "white",
            "ticks": ""
           },
           "baxis": {
            "gridcolor": "white",
            "linecolor": "white",
            "ticks": ""
           },
           "bgcolor": "#E5ECF6",
           "caxis": {
            "gridcolor": "white",
            "linecolor": "white",
            "ticks": ""
           }
          },
          "title": {
           "x": 0.05
          },
          "xaxis": {
           "automargin": true,
           "gridcolor": "white",
           "linecolor": "white",
           "ticks": "",
           "title": {
            "standoff": 15
           },
           "zerolinecolor": "white",
           "zerolinewidth": 2
          },
          "yaxis": {
           "automargin": true,
           "gridcolor": "white",
           "linecolor": "white",
           "ticks": "",
           "title": {
            "standoff": 15
           },
           "zerolinecolor": "white",
           "zerolinewidth": 2
          }
         }
        },
        "title": {
         "text": "Pronósticos de Dengue para 2022 - Muestra de Barrios"
        },
        "xaxis": {
         "anchor": "y",
         "domain": [
          0,
          0.45
         ]
        },
        "xaxis2": {
         "anchor": "y2",
         "domain": [
          0.55,
          1
         ]
        },
        "xaxis3": {
         "anchor": "y3",
         "domain": [
          0,
          0.45
         ]
        },
        "xaxis4": {
         "anchor": "y4",
         "domain": [
          0.55,
          1
         ]
        },
        "xaxis5": {
         "anchor": "y5",
         "domain": [
          0,
          0.45
         ]
        },
        "xaxis6": {
         "anchor": "y6",
         "domain": [
          0.55,
          1
         ]
        },
        "yaxis": {
         "anchor": "x",
         "domain": [
          0.7777777777777778,
          1
         ]
        },
        "yaxis2": {
         "anchor": "x2",
         "domain": [
          0.7777777777777778,
          1
         ]
        },
        "yaxis3": {
         "anchor": "x3",
         "domain": [
          0.3888888888888889,
          0.6111111111111112
         ]
        },
        "yaxis4": {
         "anchor": "x4",
         "domain": [
          0.3888888888888889,
          0.6111111111111112
         ]
        },
        "yaxis5": {
         "anchor": "x5",
         "domain": [
          0,
          0.22222222222222224
         ]
        },
        "yaxis6": {
         "anchor": "x6",
         "domain": [
          0,
          0.22222222222222224
         ]
        }
       }
      }
     },
     "metadata": {},
     "output_type": "display_data"
    },
    {
     "name": "stdout",
     "output_type": "stream",
     "text": [
      "\n",
      "Estadísticas de los pronósticos:\n",
      "Promedio de casos pronosticados: 0.00\n",
      "Desviación estándar: 0.02\n",
      "Mínimo: 0.00\n",
      "Máximo: 0.22\n",
      "Mediana: 0.00\n"
     ]
    }
   ],
   "source": [
    "\n",
    "# ## 8. Creación del Archivo de Salida\n",
    "\n",
    "# %%\n",
    "# Crear columna 'id' con el formato requerido\n",
    "predictions_df['semana_str'] = predictions_df['semana'].apply(lambda x: f\"{x:02d}\")\n",
    "predictions_df['id'] = predictions_df['id_bar'].astype(str) + '_' + \\\n",
    "                       predictions_df['anio'].astype(str) + '_' + \\\n",
    "                       predictions_df['semana_str']\n",
    "\n",
    "# Seleccionar columnas finales\n",
    "output_df = predictions_df[['id', 'dengue']]\n",
    "\n",
    "# Verificar formato\n",
    "print(f\"Formato del archivo de salida:\")\n",
    "print(output_df.head(10))\n",
    "print(f\"\\nTotal de predicciones: {len(output_df)}\")\n",
    "print(f\"Predicciones por barrio: {len(output_df) / predictions_df['id_bar'].nunique()}\")\n",
    "\n",
    "# %%\n",
    "# Guardar archivo\n",
    "fecha_actual = datetime.now().strftime(\"%Y%m%d\")\n",
    "output_df.to_csv(f'pronosticos_LSTM_C_{fecha_actual}.csv', index=False)\n",
    "print(\"Archivo 'pronosticos_dengue_2022.csv' guardado exitosamente!\")\n",
    "\n",
    "# %%\n",
    "# Visualización de algunas predicciones\n",
    "sample_bars = predictions_df['id_bar'].unique()[:5]\n",
    "fig = make_subplots(rows=3, cols=2, subplot_titles=[f'Barrio {bar}' for bar in sample_bars[:6]])\n",
    "\n",
    "for idx, id_bar in enumerate(sample_bars[:6]):\n",
    "    row = idx // 2 + 1\n",
    "    col = idx % 2 + 1\n",
    "    \n",
    "    bar_predictions = predictions_df[predictions_df['id_bar'] == id_bar]\n",
    "    \n",
    "    fig.add_trace(\n",
    "        go.Scatter(\n",
    "            x=bar_predictions['semana'],\n",
    "            y=bar_predictions['dengue'],\n",
    "            mode='lines+markers',\n",
    "            name=f'Barrio {id_bar}'\n",
    "        ),\n",
    "        row=row, col=col\n",
    "    )\n",
    "\n",
    "fig.update_layout(\n",
    "    title='Pronósticos de Dengue para 2022 - Muestra de Barrios',\n",
    "    height=800,\n",
    "    showlegend=False\n",
    ")\n",
    "\n",
    "fig.show()\n",
    "\n",
    "# %%\n",
    "# Estadísticas finales\n",
    "print(\"\\nEstadísticas de los pronósticos:\")\n",
    "print(f\"Promedio de casos pronosticados: {output_df['dengue'].mean():.2f}\")\n",
    "print(f\"Desviación estándar: {output_df['dengue'].std():.2f}\")\n",
    "print(f\"Mínimo: {output_df['dengue'].min():.2f}\")\n",
    "print(f\"Máximo: {output_df['dengue'].max():.2f}\")\n",
    "print(f\"Mediana: {output_df['dengue'].median():.2f}\")"
   ]
  }
 ],
 "metadata": {
  "kernelspec": {
   "display_name": "venv",
   "language": "python",
   "name": "python3"
  },
  "language_info": {
   "codemirror_mode": {
    "name": "ipython",
    "version": 3
   },
   "file_extension": ".py",
   "mimetype": "text/x-python",
   "name": "python",
   "nbconvert_exporter": "python",
   "pygments_lexer": "ipython3",
   "version": "3.13.3"
  }
 },
 "nbformat": 4,
 "nbformat_minor": 5
}
